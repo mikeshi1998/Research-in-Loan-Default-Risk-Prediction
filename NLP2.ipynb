{
 "cells": [
  {
   "cell_type": "code",
   "execution_count": 1,
   "metadata": {},
   "outputs": [],
   "source": [
    "import pandas as pd\n",
    "import numpy as np\n",
    "import matplotlib.pyplot as plt\n",
    "import seaborn as sns\n",
    "%matplotlib inline\n",
    "import string\n",
    "from nltk.corpus import stopwords\n",
    "from nltk.stem import WordNetLemmatizer \n",
    "from sklearn.feature_extraction.text import CountVectorizer\n",
    "from sklearn.feature_extraction.text import TfidfTransformer\n",
    "from sklearn.preprocessing import StandardScaler\n",
    "from sklearn.model_selection import train_test_split\n",
    "from sklearn.naive_bayes import MultinomialNB\n",
    "from sklearn.metrics import classification_report, confusion_matrix\n",
    "pd.set_option('display.max_columns', None)  # this will output all columns when display a pandas dataframe"
   ]
  },
  {
   "cell_type": "code",
   "execution_count": 2,
   "metadata": {},
   "outputs": [],
   "source": [
    "df=pd.read_csv('2012-2013_cleaned2.csv', index_col=0)"
   ]
  },
  {
   "cell_type": "code",
   "execution_count": 3,
   "metadata": {},
   "outputs": [
    {
     "data": {
      "text/html": [
       "<div>\n",
       "<style scoped>\n",
       "    .dataframe tbody tr th:only-of-type {\n",
       "        vertical-align: middle;\n",
       "    }\n",
       "\n",
       "    .dataframe tbody tr th {\n",
       "        vertical-align: top;\n",
       "    }\n",
       "\n",
       "    .dataframe thead th {\n",
       "        text-align: right;\n",
       "    }\n",
       "</style>\n",
       "<table border=\"1\" class=\"dataframe\">\n",
       "  <thead>\n",
       "    <tr style=\"text-align: right;\">\n",
       "      <th></th>\n",
       "      <th>loan_amnt</th>\n",
       "      <th>term</th>\n",
       "      <th>int_rate</th>\n",
       "      <th>installment</th>\n",
       "      <th>sub_grade</th>\n",
       "      <th>emp_title</th>\n",
       "      <th>emp_length</th>\n",
       "      <th>home_ownership</th>\n",
       "      <th>annual_inc</th>\n",
       "      <th>verification_status</th>\n",
       "      <th>issue_d</th>\n",
       "      <th>desc</th>\n",
       "      <th>purpose</th>\n",
       "      <th>title</th>\n",
       "      <th>zip_code</th>\n",
       "      <th>addr_state</th>\n",
       "      <th>dti</th>\n",
       "      <th>delinq_2yrs</th>\n",
       "      <th>earliest_cr_line</th>\n",
       "      <th>fico_range_low</th>\n",
       "      <th>fico_range_high</th>\n",
       "      <th>inq_last_6mths</th>\n",
       "      <th>open_acc</th>\n",
       "      <th>revol_bal</th>\n",
       "      <th>revol_util</th>\n",
       "      <th>total_acc</th>\n",
       "      <th>acc_open_past_24mths</th>\n",
       "      <th>mort_acc</th>\n",
       "      <th>percent_bc_gt_75</th>\n",
       "      <th>loan_status</th>\n",
       "    </tr>\n",
       "  </thead>\n",
       "  <tbody>\n",
       "    <tr>\n",
       "      <th>0</th>\n",
       "      <td>12000.0</td>\n",
       "      <td>0.124432</td>\n",
       "      <td>7.62</td>\n",
       "      <td>373.94</td>\n",
       "      <td>32</td>\n",
       "      <td>Systems Engineer</td>\n",
       "      <td>3.0</td>\n",
       "      <td>0.142148</td>\n",
       "      <td>96500.0</td>\n",
       "      <td>0.122274</td>\n",
       "      <td>2013-12-01</td>\n",
       "      <td>Borrower added on 12/31/13 &gt; Bought a new ho...</td>\n",
       "      <td>0.165022</td>\n",
       "      <td>Debt Consolidation and Credit Transfer</td>\n",
       "      <td>782xx</td>\n",
       "      <td>0.140666</td>\n",
       "      <td>12.61</td>\n",
       "      <td>0.0</td>\n",
       "      <td>123</td>\n",
       "      <td>705.0</td>\n",
       "      <td>709.0</td>\n",
       "      <td>0.0</td>\n",
       "      <td>17.0</td>\n",
       "      <td>13248.0</td>\n",
       "      <td>55.7</td>\n",
       "      <td>30.0</td>\n",
       "      <td>4.00000</td>\n",
       "      <td>1.00000</td>\n",
       "      <td>100.000000</td>\n",
       "      <td>0.0</td>\n",
       "    </tr>\n",
       "    <tr>\n",
       "      <th>1</th>\n",
       "      <td>27050.0</td>\n",
       "      <td>0.124432</td>\n",
       "      <td>10.99</td>\n",
       "      <td>885.46</td>\n",
       "      <td>28</td>\n",
       "      <td>Team Leadern Customer Ops &amp; Systems</td>\n",
       "      <td>10.0</td>\n",
       "      <td>0.158888</td>\n",
       "      <td>55000.0</td>\n",
       "      <td>0.177538</td>\n",
       "      <td>2013-12-01</td>\n",
       "      <td>Borrower added on 12/31/13 &gt; Combining high ...</td>\n",
       "      <td>0.165022</td>\n",
       "      <td>Debt Consolidation</td>\n",
       "      <td>481xx</td>\n",
       "      <td>0.165297</td>\n",
       "      <td>22.87</td>\n",
       "      <td>0.0</td>\n",
       "      <td>326</td>\n",
       "      <td>730.0</td>\n",
       "      <td>734.0</td>\n",
       "      <td>0.0</td>\n",
       "      <td>14.0</td>\n",
       "      <td>36638.0</td>\n",
       "      <td>61.2</td>\n",
       "      <td>27.0</td>\n",
       "      <td>3.00000</td>\n",
       "      <td>4.00000</td>\n",
       "      <td>25.000000</td>\n",
       "      <td>0.0</td>\n",
       "    </tr>\n",
       "    <tr>\n",
       "      <th>2</th>\n",
       "      <td>12000.0</td>\n",
       "      <td>0.124432</td>\n",
       "      <td>11.99</td>\n",
       "      <td>398.52</td>\n",
       "      <td>27</td>\n",
       "      <td>LTC</td>\n",
       "      <td>10.0</td>\n",
       "      <td>0.142148</td>\n",
       "      <td>130000.0</td>\n",
       "      <td>0.160987</td>\n",
       "      <td>2013-12-01</td>\n",
       "      <td>NaN</td>\n",
       "      <td>0.165022</td>\n",
       "      <td>Debt consolidation</td>\n",
       "      <td>809xx</td>\n",
       "      <td>0.126967</td>\n",
       "      <td>13.03</td>\n",
       "      <td>0.0</td>\n",
       "      <td>193</td>\n",
       "      <td>715.0</td>\n",
       "      <td>719.0</td>\n",
       "      <td>1.0</td>\n",
       "      <td>9.0</td>\n",
       "      <td>10805.0</td>\n",
       "      <td>67.0</td>\n",
       "      <td>19.0</td>\n",
       "      <td>4.00000</td>\n",
       "      <td>3.00000</td>\n",
       "      <td>1.000000</td>\n",
       "      <td>0.0</td>\n",
       "    </tr>\n",
       "    <tr>\n",
       "      <th>3</th>\n",
       "      <td>28000.0</td>\n",
       "      <td>0.124432</td>\n",
       "      <td>7.62</td>\n",
       "      <td>872.52</td>\n",
       "      <td>32</td>\n",
       "      <td>Area Sales Manager</td>\n",
       "      <td>5.0</td>\n",
       "      <td>0.142148</td>\n",
       "      <td>325000.0</td>\n",
       "      <td>0.160987</td>\n",
       "      <td>2013-12-01</td>\n",
       "      <td>NaN</td>\n",
       "      <td>0.165022</td>\n",
       "      <td>Pay off other Installment loan</td>\n",
       "      <td>945xx</td>\n",
       "      <td>0.148025</td>\n",
       "      <td>18.55</td>\n",
       "      <td>0.0</td>\n",
       "      <td>229</td>\n",
       "      <td>745.0</td>\n",
       "      <td>749.0</td>\n",
       "      <td>1.0</td>\n",
       "      <td>15.0</td>\n",
       "      <td>29581.0</td>\n",
       "      <td>54.6</td>\n",
       "      <td>31.0</td>\n",
       "      <td>6.00000</td>\n",
       "      <td>5.00000</td>\n",
       "      <td>16.700000</td>\n",
       "      <td>0.0</td>\n",
       "    </tr>\n",
       "    <tr>\n",
       "      <th>4</th>\n",
       "      <td>27600.0</td>\n",
       "      <td>0.255994</td>\n",
       "      <td>19.97</td>\n",
       "      <td>730.78</td>\n",
       "      <td>15</td>\n",
       "      <td>Street Operations Supervisor</td>\n",
       "      <td>6.0</td>\n",
       "      <td>0.142148</td>\n",
       "      <td>73000.0</td>\n",
       "      <td>0.160987</td>\n",
       "      <td>2013-12-01</td>\n",
       "      <td>Borrower added on 12/31/13 &gt; I had some wate...</td>\n",
       "      <td>0.165022</td>\n",
       "      <td>Consolidation of debt and home improve.</td>\n",
       "      <td>802xx</td>\n",
       "      <td>0.126967</td>\n",
       "      <td>23.13</td>\n",
       "      <td>1.0</td>\n",
       "      <td>294</td>\n",
       "      <td>665.0</td>\n",
       "      <td>669.0</td>\n",
       "      <td>1.0</td>\n",
       "      <td>10.0</td>\n",
       "      <td>27003.0</td>\n",
       "      <td>82.8</td>\n",
       "      <td>24.0</td>\n",
       "      <td>2.00000</td>\n",
       "      <td>4.00000</td>\n",
       "      <td>80.000000</td>\n",
       "      <td>1.0</td>\n",
       "    </tr>\n",
       "    <tr>\n",
       "      <th>...</th>\n",
       "      <td>...</td>\n",
       "      <td>...</td>\n",
       "      <td>...</td>\n",
       "      <td>...</td>\n",
       "      <td>...</td>\n",
       "      <td>...</td>\n",
       "      <td>...</td>\n",
       "      <td>...</td>\n",
       "      <td>...</td>\n",
       "      <td>...</td>\n",
       "      <td>...</td>\n",
       "      <td>...</td>\n",
       "      <td>...</td>\n",
       "      <td>...</td>\n",
       "      <td>...</td>\n",
       "      <td>...</td>\n",
       "      <td>...</td>\n",
       "      <td>...</td>\n",
       "      <td>...</td>\n",
       "      <td>...</td>\n",
       "      <td>...</td>\n",
       "      <td>...</td>\n",
       "      <td>...</td>\n",
       "      <td>...</td>\n",
       "      <td>...</td>\n",
       "      <td>...</td>\n",
       "      <td>...</td>\n",
       "      <td>...</td>\n",
       "      <td>...</td>\n",
       "      <td>...</td>\n",
       "    </tr>\n",
       "    <tr>\n",
       "      <th>180304</th>\n",
       "      <td>12000.0</td>\n",
       "      <td>0.124432</td>\n",
       "      <td>7.90</td>\n",
       "      <td>375.49</td>\n",
       "      <td>31</td>\n",
       "      <td>mpmi</td>\n",
       "      <td>3.0</td>\n",
       "      <td>0.142148</td>\n",
       "      <td>42000.0</td>\n",
       "      <td>0.122274</td>\n",
       "      <td>2012-01-01</td>\n",
       "      <td>Borrower added on 12/11/11 &gt; pay off credit ...</td>\n",
       "      <td>0.128642</td>\n",
       "      <td>credit card payoff</td>\n",
       "      <td>619xx</td>\n",
       "      <td>0.137417</td>\n",
       "      <td>9.83</td>\n",
       "      <td>0.0</td>\n",
       "      <td>129</td>\n",
       "      <td>720.0</td>\n",
       "      <td>724.0</td>\n",
       "      <td>0.0</td>\n",
       "      <td>9.0</td>\n",
       "      <td>14378.0</td>\n",
       "      <td>52.3</td>\n",
       "      <td>14.0</td>\n",
       "      <td>3.92953</td>\n",
       "      <td>1.81102</td>\n",
       "      <td>53.558127</td>\n",
       "      <td>0.0</td>\n",
       "    </tr>\n",
       "    <tr>\n",
       "      <th>180305</th>\n",
       "      <td>20500.0</td>\n",
       "      <td>0.124432</td>\n",
       "      <td>16.77</td>\n",
       "      <td>728.54</td>\n",
       "      <td>18</td>\n",
       "      <td>NaN</td>\n",
       "      <td>7.0</td>\n",
       "      <td>0.172892</td>\n",
       "      <td>60000.0</td>\n",
       "      <td>0.160987</td>\n",
       "      <td>2012-01-01</td>\n",
       "      <td>Borrower added on 12/08/11 &gt; I will be payin...</td>\n",
       "      <td>0.165022</td>\n",
       "      <td>Payoff Loan</td>\n",
       "      <td>100xx</td>\n",
       "      <td>0.171307</td>\n",
       "      <td>16.40</td>\n",
       "      <td>1.0</td>\n",
       "      <td>279</td>\n",
       "      <td>700.0</td>\n",
       "      <td>704.0</td>\n",
       "      <td>3.0</td>\n",
       "      <td>10.0</td>\n",
       "      <td>15417.0</td>\n",
       "      <td>58.4</td>\n",
       "      <td>20.0</td>\n",
       "      <td>3.92953</td>\n",
       "      <td>1.81102</td>\n",
       "      <td>53.558127</td>\n",
       "      <td>0.0</td>\n",
       "    </tr>\n",
       "    <tr>\n",
       "      <th>180306</th>\n",
       "      <td>15000.0</td>\n",
       "      <td>0.124432</td>\n",
       "      <td>15.27</td>\n",
       "      <td>521.97</td>\n",
       "      <td>21</td>\n",
       "      <td>NaN</td>\n",
       "      <td>3.0</td>\n",
       "      <td>0.172892</td>\n",
       "      <td>57600.0</td>\n",
       "      <td>0.160987</td>\n",
       "      <td>2012-01-01</td>\n",
       "      <td>NaN</td>\n",
       "      <td>0.254734</td>\n",
       "      <td>business loan</td>\n",
       "      <td>900xx</td>\n",
       "      <td>0.148025</td>\n",
       "      <td>8.35</td>\n",
       "      <td>2.0</td>\n",
       "      <td>96</td>\n",
       "      <td>680.0</td>\n",
       "      <td>684.0</td>\n",
       "      <td>1.0</td>\n",
       "      <td>18.0</td>\n",
       "      <td>8897.0</td>\n",
       "      <td>33.1</td>\n",
       "      <td>30.0</td>\n",
       "      <td>3.92953</td>\n",
       "      <td>1.81102</td>\n",
       "      <td>53.558127</td>\n",
       "      <td>0.0</td>\n",
       "    </tr>\n",
       "    <tr>\n",
       "      <th>180307</th>\n",
       "      <td>35000.0</td>\n",
       "      <td>0.124432</td>\n",
       "      <td>15.96</td>\n",
       "      <td>1229.81</td>\n",
       "      <td>20</td>\n",
       "      <td>Tom and Holly Gores</td>\n",
       "      <td>3.0</td>\n",
       "      <td>0.142148</td>\n",
       "      <td>160000.0</td>\n",
       "      <td>0.160987</td>\n",
       "      <td>2012-01-01</td>\n",
       "      <td>NaN</td>\n",
       "      <td>0.254734</td>\n",
       "      <td>Small Business Loan</td>\n",
       "      <td>922xx</td>\n",
       "      <td>0.148025</td>\n",
       "      <td>4.90</td>\n",
       "      <td>0.0</td>\n",
       "      <td>136</td>\n",
       "      <td>720.0</td>\n",
       "      <td>724.0</td>\n",
       "      <td>1.0</td>\n",
       "      <td>9.0</td>\n",
       "      <td>23665.0</td>\n",
       "      <td>62.4</td>\n",
       "      <td>17.0</td>\n",
       "      <td>3.92953</td>\n",
       "      <td>1.81102</td>\n",
       "      <td>53.558127</td>\n",
       "      <td>0.0</td>\n",
       "    </tr>\n",
       "    <tr>\n",
       "      <th>180308</th>\n",
       "      <td>12000.0</td>\n",
       "      <td>0.255994</td>\n",
       "      <td>15.27</td>\n",
       "      <td>186.08</td>\n",
       "      <td>21</td>\n",
       "      <td>NaN</td>\n",
       "      <td>7.0</td>\n",
       "      <td>0.172892</td>\n",
       "      <td>50000.0</td>\n",
       "      <td>0.177538</td>\n",
       "      <td>2012-01-01</td>\n",
       "      <td>Borrower added on 12/06/11 &gt; Want to close d...</td>\n",
       "      <td>0.128642</td>\n",
       "      <td>refinance</td>\n",
       "      <td>220xx</td>\n",
       "      <td>0.160450</td>\n",
       "      <td>5.50</td>\n",
       "      <td>0.0</td>\n",
       "      <td>107</td>\n",
       "      <td>715.0</td>\n",
       "      <td>719.0</td>\n",
       "      <td>1.0</td>\n",
       "      <td>13.0</td>\n",
       "      <td>7008.0</td>\n",
       "      <td>37.9</td>\n",
       "      <td>25.0</td>\n",
       "      <td>3.92953</td>\n",
       "      <td>1.81102</td>\n",
       "      <td>53.558127</td>\n",
       "      <td>0.0</td>\n",
       "    </tr>\n",
       "  </tbody>\n",
       "</table>\n",
       "<p>180309 rows × 30 columns</p>\n",
       "</div>"
      ],
      "text/plain": [
       "        loan_amnt      term  int_rate  installment  sub_grade  \\\n",
       "0         12000.0  0.124432      7.62       373.94         32   \n",
       "1         27050.0  0.124432     10.99       885.46         28   \n",
       "2         12000.0  0.124432     11.99       398.52         27   \n",
       "3         28000.0  0.124432      7.62       872.52         32   \n",
       "4         27600.0  0.255994     19.97       730.78         15   \n",
       "...           ...       ...       ...          ...        ...   \n",
       "180304    12000.0  0.124432      7.90       375.49         31   \n",
       "180305    20500.0  0.124432     16.77       728.54         18   \n",
       "180306    15000.0  0.124432     15.27       521.97         21   \n",
       "180307    35000.0  0.124432     15.96      1229.81         20   \n",
       "180308    12000.0  0.255994     15.27       186.08         21   \n",
       "\n",
       "                                  emp_title  emp_length  home_ownership  \\\n",
       "0                          Systems Engineer         3.0        0.142148   \n",
       "1       Team Leadern Customer Ops & Systems        10.0        0.158888   \n",
       "2                                       LTC        10.0        0.142148   \n",
       "3                        Area Sales Manager         5.0        0.142148   \n",
       "4              Street Operations Supervisor         6.0        0.142148   \n",
       "...                                     ...         ...             ...   \n",
       "180304                                 mpmi         3.0        0.142148   \n",
       "180305                                  NaN         7.0        0.172892   \n",
       "180306                                  NaN         3.0        0.172892   \n",
       "180307                  Tom and Holly Gores         3.0        0.142148   \n",
       "180308                                  NaN         7.0        0.172892   \n",
       "\n",
       "        annual_inc  verification_status     issue_d  \\\n",
       "0          96500.0             0.122274  2013-12-01   \n",
       "1          55000.0             0.177538  2013-12-01   \n",
       "2         130000.0             0.160987  2013-12-01   \n",
       "3         325000.0             0.160987  2013-12-01   \n",
       "4          73000.0             0.160987  2013-12-01   \n",
       "...            ...                  ...         ...   \n",
       "180304     42000.0             0.122274  2012-01-01   \n",
       "180305     60000.0             0.160987  2012-01-01   \n",
       "180306     57600.0             0.160987  2012-01-01   \n",
       "180307    160000.0             0.160987  2012-01-01   \n",
       "180308     50000.0             0.177538  2012-01-01   \n",
       "\n",
       "                                                     desc   purpose  \\\n",
       "0         Borrower added on 12/31/13 > Bought a new ho...  0.165022   \n",
       "1         Borrower added on 12/31/13 > Combining high ...  0.165022   \n",
       "2                                                     NaN  0.165022   \n",
       "3                                                     NaN  0.165022   \n",
       "4         Borrower added on 12/31/13 > I had some wate...  0.165022   \n",
       "...                                                   ...       ...   \n",
       "180304    Borrower added on 12/11/11 > pay off credit ...  0.128642   \n",
       "180305    Borrower added on 12/08/11 > I will be payin...  0.165022   \n",
       "180306                                                NaN  0.254734   \n",
       "180307                                                NaN  0.254734   \n",
       "180308    Borrower added on 12/06/11 > Want to close d...  0.128642   \n",
       "\n",
       "                                           title zip_code  addr_state    dti  \\\n",
       "0         Debt Consolidation and Credit Transfer    782xx    0.140666  12.61   \n",
       "1                             Debt Consolidation    481xx    0.165297  22.87   \n",
       "2                             Debt consolidation    809xx    0.126967  13.03   \n",
       "3                 Pay off other Installment loan    945xx    0.148025  18.55   \n",
       "4       Consolidation of debt and home improve.     802xx    0.126967  23.13   \n",
       "...                                          ...      ...         ...    ...   \n",
       "180304                        credit card payoff    619xx    0.137417   9.83   \n",
       "180305                               Payoff Loan    100xx    0.171307  16.40   \n",
       "180306                             business loan    900xx    0.148025   8.35   \n",
       "180307                       Small Business Loan    922xx    0.148025   4.90   \n",
       "180308                                 refinance    220xx    0.160450   5.50   \n",
       "\n",
       "        delinq_2yrs  earliest_cr_line  fico_range_low  fico_range_high  \\\n",
       "0               0.0               123           705.0            709.0   \n",
       "1               0.0               326           730.0            734.0   \n",
       "2               0.0               193           715.0            719.0   \n",
       "3               0.0               229           745.0            749.0   \n",
       "4               1.0               294           665.0            669.0   \n",
       "...             ...               ...             ...              ...   \n",
       "180304          0.0               129           720.0            724.0   \n",
       "180305          1.0               279           700.0            704.0   \n",
       "180306          2.0                96           680.0            684.0   \n",
       "180307          0.0               136           720.0            724.0   \n",
       "180308          0.0               107           715.0            719.0   \n",
       "\n",
       "        inq_last_6mths  open_acc  revol_bal  revol_util  total_acc  \\\n",
       "0                  0.0      17.0    13248.0        55.7       30.0   \n",
       "1                  0.0      14.0    36638.0        61.2       27.0   \n",
       "2                  1.0       9.0    10805.0        67.0       19.0   \n",
       "3                  1.0      15.0    29581.0        54.6       31.0   \n",
       "4                  1.0      10.0    27003.0        82.8       24.0   \n",
       "...                ...       ...        ...         ...        ...   \n",
       "180304             0.0       9.0    14378.0        52.3       14.0   \n",
       "180305             3.0      10.0    15417.0        58.4       20.0   \n",
       "180306             1.0      18.0     8897.0        33.1       30.0   \n",
       "180307             1.0       9.0    23665.0        62.4       17.0   \n",
       "180308             1.0      13.0     7008.0        37.9       25.0   \n",
       "\n",
       "        acc_open_past_24mths  mort_acc  percent_bc_gt_75  loan_status  \n",
       "0                    4.00000   1.00000        100.000000          0.0  \n",
       "1                    3.00000   4.00000         25.000000          0.0  \n",
       "2                    4.00000   3.00000          1.000000          0.0  \n",
       "3                    6.00000   5.00000         16.700000          0.0  \n",
       "4                    2.00000   4.00000         80.000000          1.0  \n",
       "...                      ...       ...               ...          ...  \n",
       "180304               3.92953   1.81102         53.558127          0.0  \n",
       "180305               3.92953   1.81102         53.558127          0.0  \n",
       "180306               3.92953   1.81102         53.558127          0.0  \n",
       "180307               3.92953   1.81102         53.558127          0.0  \n",
       "180308               3.92953   1.81102         53.558127          0.0  \n",
       "\n",
       "[180309 rows x 30 columns]"
      ]
     },
     "execution_count": 3,
     "metadata": {},
     "output_type": "execute_result"
    }
   ],
   "source": [
    "df"
   ]
  },
  {
   "cell_type": "code",
   "execution_count": 4,
   "metadata": {},
   "outputs": [],
   "source": [
    "y=df['loan_status']\n",
    "df.drop(columns=['emp_title','issue_d','title','zip_code','loan_status'], inplace=True)"
   ]
  },
  {
   "cell_type": "code",
   "execution_count": 5,
   "metadata": {},
   "outputs": [],
   "source": [
    "# Train test split\n",
    "X_train, X_test, y_train, y_test = train_test_split(df, y, test_size=0.3)"
   ]
  },
  {
   "cell_type": "code",
   "execution_count": 6,
   "metadata": {},
   "outputs": [
    {
     "name": "stderr",
     "output_type": "stream",
     "text": [
      "/anaconda3/lib/python3.6/site-packages/pandas/core/frame.py:4117: SettingWithCopyWarning: \n",
      "A value is trying to be set on a copy of a slice from a DataFrame\n",
      "\n",
      "See the caveats in the documentation: http://pandas.pydata.org/pandas-docs/stable/user_guide/indexing.html#returning-a-view-versus-a-copy\n",
      "  errors=errors,\n"
     ]
    }
   ],
   "source": [
    "# Save desc column for natural language processing latter\n",
    "desc_train=X_train['desc']\n",
    "desc_test=X_test['desc']\n",
    "\n",
    "X_train.drop(columns=['desc'], inplace=True)\n",
    "X_test.drop(columns=['desc'], inplace=True)"
   ]
  },
  {
   "cell_type": "code",
   "execution_count": 7,
   "metadata": {},
   "outputs": [],
   "source": [
    "# Standardize the data\n",
    "scaler=StandardScaler()\n",
    "scaler.fit(X_train)\n",
    "scaled_train=scaler.transform(X_train)\n",
    "scaled_test=scaler.transform(X_test)"
   ]
  },
  {
   "cell_type": "code",
   "execution_count": 8,
   "metadata": {},
   "outputs": [],
   "source": [
    "lmt = WordNetLemmatizer()\n",
    "def text_process(mess):\n",
    "    \"\"\"\n",
    "    Takes in a string of text, then performs the following:\n",
    "    1. Remove all punctuation and digits\n",
    "    2. Remove all stopwords\n",
    "    3. Lemmatization\n",
    "    4. Returns a list of the cleaned text\n",
    "    \"\"\"\n",
    "    # Check characters to see if they are in punctuation\n",
    "    mess=str(mess)\n",
    "    mess=mess[mess.find('>')+1:mess.find('<')]\n",
    "    nopunc = [char for char in mess if (char not in string.punctuation) and (not char.isdigit())]\n",
    "\n",
    "    # Join the characters again to form the string.\n",
    "    nopunc = ''.join(nopunc)\n",
    "    \n",
    "    # Now just remove any stopwords\n",
    "    return [lmt.lemmatize(word.lower()) for word in nopunc.split() if word.lower() not in stopwords.words('english')]"
   ]
  },
  {
   "cell_type": "code",
   "execution_count": 9,
   "metadata": {},
   "outputs": [
    {
     "data": {
      "text/plain": [
       "'  Borrower added on 12/31/13 > Bought a new house, furniture, water softener, a second car, etc. Got our lives started and now a manageable monthly payment will help keep them going!<br>'"
      ]
     },
     "execution_count": 9,
     "metadata": {},
     "output_type": "execute_result"
    }
   ],
   "source": [
    "sentence=desc_train[0]\n",
    "sentence"
   ]
  },
  {
   "cell_type": "code",
   "execution_count": 10,
   "metadata": {},
   "outputs": [
    {
     "data": {
      "text/plain": [
       "['bought',\n",
       " 'new',\n",
       " 'house',\n",
       " 'furniture',\n",
       " 'water',\n",
       " 'softener',\n",
       " 'second',\n",
       " 'car',\n",
       " 'etc',\n",
       " 'got',\n",
       " 'life',\n",
       " 'started',\n",
       " 'manageable',\n",
       " 'monthly',\n",
       " 'payment',\n",
       " 'help',\n",
       " 'keep',\n",
       " 'going']"
      ]
     },
     "execution_count": 10,
     "metadata": {},
     "output_type": "execute_result"
    }
   ],
   "source": [
    "text_process(sentence)"
   ]
  },
  {
   "cell_type": "code",
   "execution_count": 11,
   "metadata": {},
   "outputs": [],
   "source": [
    "desc_train=desc_train.values.astype('U')\n",
    "desc_test=desc_test.values.astype('U')"
   ]
  },
  {
   "cell_type": "code",
   "execution_count": 12,
   "metadata": {},
   "outputs": [],
   "source": [
    "# vectorize all the words that have minimim frequency 0.001 and maximum frequency 0.9 in my training data\n",
    "bow_transformer = CountVectorizer(analyzer=text_process, min_df=0.001, max_df=0.9).fit(desc_train)\n"
   ]
  },
  {
   "cell_type": "code",
   "execution_count": 13,
   "metadata": {},
   "outputs": [
    {
     "name": "stdout",
     "output_type": "stream",
     "text": [
      "528\n"
     ]
    }
   ],
   "source": [
    "# There are 2260 words in total\n",
    "print(len(bow_transformer.vocabulary_))"
   ]
  },
  {
   "cell_type": "code",
   "execution_count": 14,
   "metadata": {},
   "outputs": [
    {
     "data": {
      "text/plain": [
       "{'na': 312,\n",
       " 'want': 505,\n",
       " 'pay': 337,\n",
       " 'high': 213,\n",
       " 'interest': 238,\n",
       " 'rate': 375,\n",
       " 'credit': 108,\n",
       " 'card': 72,\n",
       " 'im': 226,\n",
       " 'applying': 30,\n",
       " 'loan': 270,\n",
       " 'consolidate': 98,\n",
       " 'debt': 118,\n",
       " 'ive': 247,\n",
       " 'enough': 146,\n",
       " 'recent': 385,\n",
       " 'year': 526,\n",
       " 'find': 170,\n",
       " 'life': 263,\n",
       " 'make': 284,\n",
       " 'change': 78,\n",
       " 'work': 520,\n",
       " 'toward': 485,\n",
       " 'better': 54,\n",
       " 'future': 194,\n",
       " 'paying': 339,\n",
       " 'first': 172,\n",
       " 'step': 453,\n",
       " 'clear': 83,\n",
       " 'payment': 340,\n",
       " 'manage': 286,\n",
       " 'expense': 157,\n",
       " 'order': 329,\n",
       " 'finally': 166,\n",
       " 'get': 195,\n",
       " 'forward': 181,\n",
       " 'lender': 259,\n",
       " 'able': 0,\n",
       " 'one': 325,\n",
       " 'month': 302,\n",
       " 'working': 522,\n",
       " 'towards': 486,\n",
       " 'putting': 371,\n",
       " 'financial': 168,\n",
       " 'bill': 56,\n",
       " 'paid': 333,\n",
       " 'time': 479,\n",
       " 'never': 315,\n",
       " 'would': 524,\n",
       " 'like': 264,\n",
       " 'lower': 278,\n",
       " 'build': 62,\n",
       " 'history': 216,\n",
       " 'also': 22,\n",
       " 'sooner': 443,\n",
       " 'recently': 386,\n",
       " 'consolidation': 101,\n",
       " 'k': 249,\n",
       " 'within': 517,\n",
       " 'period': 345,\n",
       " 'cc': 76,\n",
       " 'payoff': 341,\n",
       " 'minimum': 298,\n",
       " 'amount': 24,\n",
       " 'instead': 235,\n",
       " 'free': 184,\n",
       " 'making': 285,\n",
       " 'take': 466,\n",
       " 'almost': 19,\n",
       " 'five': 173,\n",
       " 'monthly': 303,\n",
       " 'thank': 472,\n",
       " 'much': 310,\n",
       " 'opportunity': 327,\n",
       " 'however': 223,\n",
       " 'money': 301,\n",
       " 'business': 65,\n",
       " 'consolidating': 100,\n",
       " 'college': 88,\n",
       " 'clean': 82,\n",
       " 'save': 416,\n",
       " 'next': 317,\n",
       " 'stable': 445,\n",
       " 'full': 188,\n",
       " 'job': 248,\n",
       " 'budget': 61,\n",
       " 'place': 348,\n",
       " 'great': 204,\n",
       " 'new': 316,\n",
       " 'yr': 527,\n",
       " 'achieve': 4,\n",
       " 'career': 74,\n",
       " 'goal': 199,\n",
       " 'becoming': 49,\n",
       " 'finance': 167,\n",
       " 'remainder': 392,\n",
       " 'education': 138,\n",
       " 'offered': 323,\n",
       " 'still': 454,\n",
       " 'looking': 274,\n",
       " 'refinance': 389,\n",
       " 'tell': 470,\n",
       " 'story': 457,\n",
       " 'medical': 294,\n",
       " 'starting': 449,\n",
       " 'hard': 207,\n",
       " 'put': 370,\n",
       " 'cost': 104,\n",
       " 'low': 277,\n",
       " 'easier': 135,\n",
       " 'need': 313,\n",
       " 'control': 103,\n",
       " 'help': 210,\n",
       " 'date': 113,\n",
       " 'fix': 174,\n",
       " 'higher': 214,\n",
       " 'debit': 117,\n",
       " 'cash': 75,\n",
       " 'home': 217,\n",
       " 'improvement': 229,\n",
       " 'project': 363,\n",
       " 'creditor': 109,\n",
       " 'allow': 16,\n",
       " 'closing': 86,\n",
       " 'multiple': 311,\n",
       " 'account': 1,\n",
       " 'become': 48,\n",
       " 'faster': 162,\n",
       " 'currently': 111,\n",
       " 'fixed': 175,\n",
       " 'car': 71,\n",
       " 'per': 343,\n",
       " 'total': 484,\n",
       " 'lending': 260,\n",
       " 'club': 87,\n",
       " 'give': 197,\n",
       " 'extra': 158,\n",
       " 'income': 231,\n",
       " 'going': 200,\n",
       " 'past': 336,\n",
       " 'trying': 490,\n",
       " 'thing': 474,\n",
       " 'funding': 192,\n",
       " 'purchasing': 368,\n",
       " 'vehicle': 503,\n",
       " 'kitchen': 252,\n",
       " 'floor': 176,\n",
       " 'well': 512,\n",
       " 'always': 23,\n",
       " 'amp': 25,\n",
       " 'etc': 148,\n",
       " 'balance': 44,\n",
       " 'away': 41,\n",
       " 'thought': 477,\n",
       " 'id': 224,\n",
       " 'found': 182,\n",
       " 'chance': 77,\n",
       " 'come': 91,\n",
       " 'current': 110,\n",
       " 'dont': 131,\n",
       " 'note': 319,\n",
       " 'mortgage': 304,\n",
       " 'le': 257,\n",
       " 'coming': 92,\n",
       " 'taking': 468,\n",
       " 'long': 271,\n",
       " 'using': 499,\n",
       " 'incurred': 233,\n",
       " 'two': 491,\n",
       " 'family': 160,\n",
       " 'consolidated': 99,\n",
       " 'set': 428,\n",
       " 'since': 435,\n",
       " 'plan': 349,\n",
       " 'good': 201,\n",
       " 'borrower': 58,\n",
       " 'irs': 244,\n",
       " 'around': 37,\n",
       " 'use': 497,\n",
       " 'rest': 406,\n",
       " 'repair': 398,\n",
       " 'term': 471,\n",
       " 'possible': 356,\n",
       " 'little': 267,\n",
       " 'buy': 66,\n",
       " 'couple': 106,\n",
       " 'start': 447,\n",
       " 'school': 418,\n",
       " 'short': 430,\n",
       " 'moving': 309,\n",
       " 'apartment': 28,\n",
       " 'purchase': 366,\n",
       " 'second': 420,\n",
       " 'retirement': 408,\n",
       " 'without': 518,\n",
       " 'thanks': 473,\n",
       " 'tired': 481,\n",
       " 'got': 202,\n",
       " 'progress': 362,\n",
       " 'reducing': 388,\n",
       " 'accumulated': 3,\n",
       " 'advance': 10,\n",
       " 'considering': 97,\n",
       " 'truck': 488,\n",
       " 'easy': 137,\n",
       " 'used': 498,\n",
       " 'back': 42,\n",
       " 'getting': 196,\n",
       " 'hope': 218,\n",
       " 'could': 105,\n",
       " 'day': 115,\n",
       " 'due': 133,\n",
       " 'unexpected': 493,\n",
       " 'close': 84,\n",
       " 'late': 256,\n",
       " 'living': 269,\n",
       " 'seeking': 423,\n",
       " 'several': 429,\n",
       " 'reduce': 387,\n",
       " 'eliminate': 139,\n",
       " 'excellent': 153,\n",
       " 'score': 419,\n",
       " 'bring': 60,\n",
       " 'go': 198,\n",
       " 'saving': 417,\n",
       " 'different': 126,\n",
       " 'funded': 191,\n",
       " 'remodel': 394,\n",
       " 'requesting': 403,\n",
       " 'manageable': 287,\n",
       " 'way': 509,\n",
       " 'house': 222,\n",
       " 'reliable': 391,\n",
       " 'finish': 171,\n",
       " 'purchased': 367,\n",
       " 'ago': 13,\n",
       " 'nice': 318,\n",
       " 'complete': 94,\n",
       " 'left': 258,\n",
       " 'needed': 314,\n",
       " 'daughter': 114,\n",
       " 'emergency': 140,\n",
       " 'room': 413,\n",
       " 'hospital': 221,\n",
       " 'limit': 265,\n",
       " 'really': 381,\n",
       " 'personal': 347,\n",
       " 'remodeling': 395,\n",
       " 'main': 282,\n",
       " 'apr': 35,\n",
       " 'every': 151,\n",
       " 'went': 513,\n",
       " 'made': 281,\n",
       " 'end': 145,\n",
       " 'situation': 437,\n",
       " 'seems': 425,\n",
       " 'responsible': 405,\n",
       " 'helping': 211,\n",
       " 'let': 262,\n",
       " 'look': 273,\n",
       " 'improve': 228,\n",
       " 'know': 253,\n",
       " 'employed': 141,\n",
       " 'employment': 143,\n",
       " 'seem': 424,\n",
       " 'bought': 59,\n",
       " 'fund': 190,\n",
       " 'minor': 299,\n",
       " 'area': 36,\n",
       " 'continue': 102,\n",
       " 'three': 478,\n",
       " 'completely': 95,\n",
       " 'simply': 434,\n",
       " 'keep': 250,\n",
       " 'missed': 300,\n",
       " 'believe': 52,\n",
       " 'last': 255,\n",
       " 'lump': 280,\n",
       " 'together': 482,\n",
       " 'required': 404,\n",
       " 'including': 230,\n",
       " 'everything': 152,\n",
       " 'fresh': 186,\n",
       " 'option': 328,\n",
       " 'decided': 120,\n",
       " 'best': 53,\n",
       " 'afford': 11,\n",
       " 'highinterest': 215,\n",
       " 'investment': 242,\n",
       " 'discover': 128,\n",
       " 'hello': 209,\n",
       " 'renovation': 396,\n",
       " 'taken': 467,\n",
       " 'simple': 432,\n",
       " 'small': 438,\n",
       " 'issue': 245,\n",
       " 'care': 73,\n",
       " 'master': 291,\n",
       " 'bathroom': 47,\n",
       " 'position': 355,\n",
       " 'company': 93,\n",
       " 'move': 307,\n",
       " 'week': 511,\n",
       " 'love': 276,\n",
       " 'water': 508,\n",
       " 'soon': 442,\n",
       " 'owe': 332,\n",
       " 'tax': 469,\n",
       " 'anything': 27,\n",
       " 'lendingclub': 261,\n",
       " 'quickly': 374,\n",
       " 'sell': 426,\n",
       " 'done': 130,\n",
       " 'revolving': 409,\n",
       " 'hoping': 220,\n",
       " 'insurance': 236,\n",
       " 'already': 21,\n",
       " 'add': 6,\n",
       " 'reason': 382,\n",
       " 'system': 465,\n",
       " 'summer': 461,\n",
       " 'worry': 523,\n",
       " 'fully': 189,\n",
       " 'planning': 350,\n",
       " 'combine': 89,\n",
       " 'old': 324,\n",
       " 'begin': 50,\n",
       " 'adding': 7,\n",
       " 'secure': 421,\n",
       " 'various': 502,\n",
       " 'assist': 38,\n",
       " 'vacation': 500,\n",
       " 'existing': 156,\n",
       " 'wanting': 507,\n",
       " 'started': 448,\n",
       " 'another': 26,\n",
       " 'wanted': 506,\n",
       " 'freedom': 185,\n",
       " 'assistance': 39,\n",
       " 'greatly': 205,\n",
       " 'appreciated': 32,\n",
       " 'support': 462,\n",
       " 'child': 81,\n",
       " 'charge': 79,\n",
       " 'enable': 144,\n",
       " 'wedding': 510,\n",
       " 'offer': 322,\n",
       " 'meet': 295,\n",
       " 'obligation': 321,\n",
       " 'rid': 410,\n",
       " 'feel': 164,\n",
       " 'single': 436,\n",
       " 'track': 487,\n",
       " 'think': 475,\n",
       " 'consideration': 96,\n",
       " 'bit': 57,\n",
       " 'extremely': 159,\n",
       " 'steady': 452,\n",
       " 'property': 364,\n",
       " 'sale': 415,\n",
       " 'timely': 480,\n",
       " 'manner': 288,\n",
       " 'building': 63,\n",
       " 'early': 134,\n",
       " 'lot': 275,\n",
       " 'lowering': 279,\n",
       " 'real': 380,\n",
       " 'intrest': 239,\n",
       " 'repayment': 400,\n",
       " 'rather': 376,\n",
       " 'student': 459,\n",
       " 'purpose': 369,\n",
       " 'deal': 116,\n",
       " 'bank': 45,\n",
       " 'right': 411,\n",
       " 'ill': 225,\n",
       " 'ready': 379,\n",
       " 'auto': 40,\n",
       " 'longer': 272,\n",
       " 'many': 289,\n",
       " 'wife': 514,\n",
       " 'proceeds': 359,\n",
       " 'equipment': 147,\n",
       " 'solid': 440,\n",
       " 'took': 483,\n",
       " 'result': 407,\n",
       " 'refinancing': 390,\n",
       " 'surgery': 464,\n",
       " 'previous': 357,\n",
       " 'even': 149,\n",
       " 'though': 476,\n",
       " 'dollar': 129,\n",
       " 'pool': 354,\n",
       " 'large': 254,\n",
       " 'deck': 121,\n",
       " 'problem': 358,\n",
       " 'try': 489,\n",
       " 'dept': 125,\n",
       " 'replace': 401,\n",
       " 'roof': 412,\n",
       " 'flooring': 177,\n",
       " 'people': 342,\n",
       " 'hi': 212,\n",
       " 'simplify': 433,\n",
       " 'request': 402,\n",
       " 'cover': 107,\n",
       " 'cancel': 68,\n",
       " 'spending': 444,\n",
       " 'reach': 378,\n",
       " 'hopefully': 219,\n",
       " 'quicker': 373,\n",
       " 'sum': 460,\n",
       " 'flow': 178,\n",
       " 'additional': 9,\n",
       " 'please': 351,\n",
       " 'fee': 163,\n",
       " 'cut': 112,\n",
       " 'u': 492,\n",
       " 'cant': 69,\n",
       " 'person': 346,\n",
       " 'smaller': 439,\n",
       " 'shorter': 431,\n",
       " 'run': 414,\n",
       " 'plus': 352,\n",
       " 'employer': 142,\n",
       " 'decrease': 122,\n",
       " 'worked': 521,\n",
       " 'remaining': 393,\n",
       " 'capital': 70,\n",
       " 'item': 246,\n",
       " 'open': 326,\n",
       " 'buying': 67,\n",
       " 'process': 360,\n",
       " 'graduate': 203,\n",
       " 'degree': 123,\n",
       " 'major': 283,\n",
       " 'accrued': 2,\n",
       " 'member': 296,\n",
       " 'fast': 161,\n",
       " 'reasonable': 383,\n",
       " 'may': 292,\n",
       " 'standing': 446,\n",
       " 'health': 208,\n",
       " 'mean': 293,\n",
       " 'invest': 240,\n",
       " 'dream': 132,\n",
       " 'mother': 305,\n",
       " 'professional': 361,\n",
       " 'ahead': 14,\n",
       " 'actually': 5,\n",
       " 'motorcycle': 306,\n",
       " 'outstanding': 330,\n",
       " 'son': 441,\n",
       " 'unsecured': 494,\n",
       " 'bad': 43,\n",
       " 'basement': 46,\n",
       " 'live': 268,\n",
       " 'see': 422,\n",
       " 'received': 384,\n",
       " 'line': 266,\n",
       " 'chase': 80,\n",
       " 'half': 206,\n",
       " 'rent': 397,\n",
       " 'combined': 90,\n",
       " 'moved': 308,\n",
       " 'excited': 155,\n",
       " 'financially': 169,\n",
       " 'behind': 51,\n",
       " 'four': 183,\n",
       " 'appliance': 29,\n",
       " 'upgrade': 496,\n",
       " 'yard': 525,\n",
       " 'stress': 458,\n",
       " 'increase': 232,\n",
       " 'value': 501,\n",
       " 'perfect': 344,\n",
       " 'repay': 399,\n",
       " 'investing': 241,\n",
       " 'sure': 463,\n",
       " 'focus': 179,\n",
       " 'married': 290,\n",
       " 'air': 15,\n",
       " 'part': 335,\n",
       " 'wish': 516,\n",
       " 'service': 427,\n",
       " 'closed': 85,\n",
       " 'foot': 180,\n",
       " 'except': 154,\n",
       " 'number': 320,\n",
       " 'easily': 136,\n",
       " 'appreciate': 31,\n",
       " 'state': 450,\n",
       " 'mind': 297,\n",
       " 'wont': 519,\n",
       " 'parent': 334,\n",
       " 'allows': 18,\n",
       " 'investor': 243,\n",
       " 'stay': 451,\n",
       " 'kid': 251,\n",
       " 'big': 55,\n",
       " 'intend': 237,\n",
       " 'update': 495,\n",
       " 'question': 372,\n",
       " 'addition': 8,\n",
       " 'overall': 331,\n",
       " 'stop': 455,\n",
       " 'ever': 150,\n",
       " 'rating': 377,\n",
       " 'window': 515,\n",
       " 'friend': 187,\n",
       " 'built': 64,\n",
       " 'field': 165,\n",
       " 'dental': 124,\n",
       " 'approximately': 34,\n",
       " 'store': 456,\n",
       " 'point': 353,\n",
       " 'important': 227,\n",
       " 'affordable': 12,\n",
       " 'provide': 365,\n",
       " 'installment': 234,\n",
       " 'furniture': 193,\n",
       " 'along': 20,\n",
       " 'debtfree': 119,\n",
       " 'visa': 504,\n",
       " 'allowing': 17,\n",
       " 'approved': 33,\n",
       " 'payed': 338,\n",
       " 'difficult': 127}"
      ]
     },
     "execution_count": 14,
     "metadata": {},
     "output_type": "execute_result"
    }
   ],
   "source": [
    "bow_transformer.vocabulary_"
   ]
  },
  {
   "cell_type": "code",
   "execution_count": 15,
   "metadata": {},
   "outputs": [],
   "source": [
    "# Training data\n",
    "messages_bow=bow_transformer.transform(desc_train)"
   ]
  },
  {
   "cell_type": "code",
   "execution_count": 16,
   "metadata": {},
   "outputs": [
    {
     "data": {
      "text/plain": [
       "(126216, 528)"
      ]
     },
     "execution_count": 16,
     "metadata": {},
     "output_type": "execute_result"
    }
   ],
   "source": [
    "messages_bow.shape"
   ]
  },
  {
   "cell_type": "code",
   "execution_count": 17,
   "metadata": {},
   "outputs": [],
   "source": [
    "# Testing data\n",
    "test_bow=bow_transformer.transform(desc_test)"
   ]
  },
  {
   "cell_type": "code",
   "execution_count": 18,
   "metadata": {},
   "outputs": [
    {
     "data": {
      "text/plain": [
       "(54093, 528)"
      ]
     },
     "execution_count": 18,
     "metadata": {},
     "output_type": "execute_result"
    }
   ],
   "source": [
    "test_bow.shape"
   ]
  },
  {
   "cell_type": "code",
   "execution_count": 19,
   "metadata": {},
   "outputs": [
    {
     "data": {
      "text/plain": [
       "MultinomialNB(alpha=1.0, class_prior=None, fit_prior=True)"
      ]
     },
     "execution_count": 19,
     "metadata": {},
     "output_type": "execute_result"
    }
   ],
   "source": [
    "# Fit a simple Multinomial Naive Bayes model on this bag of words\n",
    "MNB = MultinomialNB()\n",
    "MNB.fit(messages_bow, y_train)"
   ]
  },
  {
   "cell_type": "code",
   "execution_count": 20,
   "metadata": {},
   "outputs": [],
   "source": [
    "predictions=MNB.predict(test_bow)"
   ]
  },
  {
   "cell_type": "code",
   "execution_count": 21,
   "metadata": {},
   "outputs": [
    {
     "name": "stdout",
     "output_type": "stream",
     "text": [
      "[[45499   156]\n",
      " [ 8385    53]]\n",
      "              precision    recall  f1-score   support\n",
      "\n",
      "         0.0       0.84      1.00      0.91     45655\n",
      "         1.0       0.25      0.01      0.01      8438\n",
      "\n",
      "    accuracy                           0.84     54093\n",
      "   macro avg       0.55      0.50      0.46     54093\n",
      "weighted avg       0.75      0.84      0.77     54093\n",
      "\n"
     ]
    }
   ],
   "source": [
    "print(confusion_matrix(y_test,predictions))\n",
    "print(classification_report(y_test,predictions))\n"
   ]
  },
  {
   "cell_type": "code",
   "execution_count": 22,
   "metadata": {},
   "outputs": [
    {
     "data": {
      "text/plain": [
       "0.8421052631578947"
      ]
     },
     "execution_count": 22,
     "metadata": {},
     "output_type": "execute_result"
    }
   ],
   "source": [
    "MNB.score(test_bow, y_test)"
   ]
  },
  {
   "cell_type": "code",
   "execution_count": 23,
   "metadata": {},
   "outputs": [
    {
     "data": {
      "text/plain": [
       "PCA(copy=True, iterated_power='auto', n_components=100, random_state=None,\n",
       "    svd_solver='auto', tol=0.0, whiten=False)"
      ]
     },
     "execution_count": 23,
     "metadata": {},
     "output_type": "execute_result"
    }
   ],
   "source": [
    "# Extract 100 principal components from the 2260 columns\n",
    "from sklearn.decomposition import PCA\n",
    "pca = PCA(n_components = 100)\n",
    "pca.fit(messages_bow.todense())"
   ]
  },
  {
   "cell_type": "code",
   "execution_count": 24,
   "metadata": {},
   "outputs": [
    {
     "data": {
      "text/plain": [
       "0.7798980269040797"
      ]
     },
     "execution_count": 24,
     "metadata": {},
     "output_type": "execute_result"
    }
   ],
   "source": [
    "pca.explained_variance_ratio_.sum()"
   ]
  },
  {
   "cell_type": "code",
   "execution_count": 25,
   "metadata": {},
   "outputs": [],
   "source": [
    "messages_bow_pca=pca.transform(messages_bow.todense())"
   ]
  },
  {
   "cell_type": "code",
   "execution_count": 26,
   "metadata": {},
   "outputs": [
    {
     "data": {
      "text/plain": [
       "array([[-7.25817417e-01, -6.44506626e-02,  3.92857214e-02, ...,\n",
       "        -1.03102725e-04,  6.55102827e-05,  5.08892437e-07],\n",
       "       [-7.25817417e-01, -6.44506626e-02,  3.92857214e-02, ...,\n",
       "        -1.03102725e-04,  6.55102827e-05,  5.08892437e-07],\n",
       "       [-7.25817417e-01, -6.44506626e-02,  3.92857214e-02, ...,\n",
       "        -1.03102725e-04,  6.55102827e-05,  5.08892437e-07],\n",
       "       ...,\n",
       "       [-7.25817417e-01, -6.44506626e-02,  3.92857214e-02, ...,\n",
       "        -1.03102725e-04,  6.55102827e-05,  5.08892437e-07],\n",
       "       [-7.25817417e-01, -6.44506626e-02,  3.92857214e-02, ...,\n",
       "        -1.03102725e-04,  6.55102827e-05,  5.08892437e-07],\n",
       "       [ 1.48703744e+00,  5.13897498e-02,  3.44491021e-01, ...,\n",
       "        -6.01338419e-02,  5.87004781e-02, -1.31172081e-01]])"
      ]
     },
     "execution_count": 26,
     "metadata": {},
     "output_type": "execute_result"
    }
   ],
   "source": [
    "messages_bow_pca"
   ]
  },
  {
   "cell_type": "code",
   "execution_count": 27,
   "metadata": {},
   "outputs": [],
   "source": [
    "test_bow_pca=pca.transform(test_bow.todense())"
   ]
  },
  {
   "cell_type": "code",
   "execution_count": 28,
   "metadata": {},
   "outputs": [
    {
     "data": {
      "text/plain": [
       "(54093, 100)"
      ]
     },
     "execution_count": 28,
     "metadata": {},
     "output_type": "execute_result"
    }
   ],
   "source": [
    "test_bow_pca.shape"
   ]
  },
  {
   "cell_type": "code",
   "execution_count": 29,
   "metadata": {},
   "outputs": [],
   "source": [
    "df1=pd.DataFrame(messages_bow_pca)"
   ]
  },
  {
   "cell_type": "code",
   "execution_count": 30,
   "metadata": {},
   "outputs": [],
   "source": [
    "# This is the original dataset with all the numeric variables\n",
    "df2=pd.DataFrame(scaled_train)"
   ]
  },
  {
   "cell_type": "code",
   "execution_count": 31,
   "metadata": {},
   "outputs": [],
   "source": [
    "# Combine the 100 principal components from NLP with the other numeric variables\n",
    "df=pd.concat([df1,df2], axis=1)"
   ]
  },
  {
   "cell_type": "code",
   "execution_count": 32,
   "metadata": {},
   "outputs": [],
   "source": [
    "# Do the same thing for the test set\n",
    "test_df=pd.concat([pd.DataFrame(test_bow_pca), pd.DataFrame(scaled_test)], axis=1)"
   ]
  },
  {
   "cell_type": "code",
   "execution_count": 33,
   "metadata": {},
   "outputs": [
    {
     "name": "stderr",
     "output_type": "stream",
     "text": [
      "/anaconda3/lib/python3.6/site-packages/sklearn/linear_model/logistic.py:432: FutureWarning: Default solver will be changed to 'lbfgs' in 0.22. Specify a solver to silence this warning.\n",
      "  FutureWarning)\n"
     ]
    },
    {
     "name": "stdout",
     "output_type": "stream",
     "text": [
      "              precision    recall  f1-score   support\n",
      "\n",
      "         0.0       0.85      1.00      0.91     45655\n",
      "         1.0       0.46      0.01      0.03      8438\n",
      "\n",
      "    accuracy                           0.84     54093\n",
      "   macro avg       0.65      0.51      0.47     54093\n",
      "weighted avg       0.79      0.84      0.78     54093\n",
      "\n",
      "[[45511   144]\n",
      " [ 8316   122]]\n",
      "0.8436026842659864\n"
     ]
    }
   ],
   "source": [
    "# Fit a logistic regression model on this combination of numeric variables and the 'desc' column\n",
    "from sklearn.linear_model import LogisticRegression\n",
    "logmodel = LogisticRegression()\n",
    "logmodel.fit(df,y_train)\n",
    "predictions = logmodel.predict(test_df)\n",
    "print(classification_report(y_test,predictions))\n",
    "print(confusion_matrix(y_test,predictions))\n",
    "print(logmodel.score(test_df, y_test))"
   ]
  },
  {
   "cell_type": "code",
   "execution_count": 34,
   "metadata": {},
   "outputs": [],
   "source": [
    "# Grid search for the best combination of hyperparameters\n",
    "from sklearn.model_selection import GridSearchCV\n",
    "param_grid={'penalty': ['l1','l2','none'], 'C':[0.01,0.1,1,5,10,50,100,500],\n",
    "            'class_weight': [None, 'balanced'], 'solver': ['liblinear','newton-cg','lbfgs','sag','saga']}\n"
   ]
  },
  {
   "cell_type": "code",
   "execution_count": 35,
   "metadata": {},
   "outputs": [
    {
     "name": "stdout",
     "output_type": "stream",
     "text": [
      "Fitting 3 folds for each of 240 candidates, totalling 720 fits\n",
      "[CV] C=0.01, class_weight=None, penalty=l1, solver=liblinear .........\n"
     ]
    },
    {
     "name": "stderr",
     "output_type": "stream",
     "text": [
      "/anaconda3/lib/python3.6/site-packages/sklearn/model_selection/_split.py:1978: FutureWarning: The default value of cv will change from 3 to 5 in version 0.22. Specify it explicitly to silence this warning.\n",
      "  warnings.warn(CV_WARNING, FutureWarning)\n",
      "[Parallel(n_jobs=1)]: Using backend SequentialBackend with 1 concurrent workers.\n"
     ]
    },
    {
     "name": "stdout",
     "output_type": "stream",
     "text": [
      "[CV]  C=0.01, class_weight=None, penalty=l1, solver=liblinear, score=0.845, total=   1.1s\n",
      "[CV] C=0.01, class_weight=None, penalty=l1, solver=liblinear .........\n"
     ]
    },
    {
     "name": "stderr",
     "output_type": "stream",
     "text": [
      "[Parallel(n_jobs=1)]: Done   1 out of   1 | elapsed:    1.1s remaining:    0.0s\n"
     ]
    },
    {
     "name": "stdout",
     "output_type": "stream",
     "text": [
      "[CV]  C=0.01, class_weight=None, penalty=l1, solver=liblinear, score=0.844, total=   1.5s\n",
      "[CV] C=0.01, class_weight=None, penalty=l1, solver=liblinear .........\n"
     ]
    },
    {
     "name": "stderr",
     "output_type": "stream",
     "text": [
      "[Parallel(n_jobs=1)]: Done   2 out of   2 | elapsed:    2.6s remaining:    0.0s\n"
     ]
    },
    {
     "name": "stdout",
     "output_type": "stream",
     "text": [
      "[CV]  C=0.01, class_weight=None, penalty=l1, solver=liblinear, score=0.844, total=   0.8s\n",
      "[CV] C=0.01, class_weight=None, penalty=l1, solver=newton-cg .........\n",
      "[CV]  C=0.01, class_weight=None, penalty=l1, solver=newton-cg, score=0.000, total=   0.0s\n",
      "[CV] C=0.01, class_weight=None, penalty=l1, solver=newton-cg .........\n",
      "[CV]  C=0.01, class_weight=None, penalty=l1, solver=newton-cg, score=0.000, total=   0.0s\n",
      "[CV] C=0.01, class_weight=None, penalty=l1, solver=newton-cg .........\n",
      "[CV]  C=0.01, class_weight=None, penalty=l1, solver=newton-cg, score=0.000, total=   0.0s\n",
      "[CV] C=0.01, class_weight=None, penalty=l1, solver=lbfgs .............\n",
      "[CV]  C=0.01, class_weight=None, penalty=l1, solver=lbfgs, score=0.000, total=   0.0s\n",
      "[CV] C=0.01, class_weight=None, penalty=l1, solver=lbfgs .............\n",
      "[CV]  C=0.01, class_weight=None, penalty=l1, solver=lbfgs, score=0.000, total=   0.0s\n",
      "[CV] C=0.01, class_weight=None, penalty=l1, solver=lbfgs .............\n",
      "[CV]  C=0.01, class_weight=None, penalty=l1, solver=lbfgs, score=0.000, total=   0.0s\n",
      "[CV] C=0.01, class_weight=None, penalty=l1, solver=sag ...............\n",
      "[CV]  C=0.01, class_weight=None, penalty=l1, solver=sag, score=0.000, total=   0.0s\n",
      "[CV] C=0.01, class_weight=None, penalty=l1, solver=sag ...............\n"
     ]
    },
    {
     "name": "stderr",
     "output_type": "stream",
     "text": [
      "/anaconda3/lib/python3.6/site-packages/sklearn/model_selection/_validation.py:547: FitFailedWarning: Estimator fit failed. The score on this train-test partition for these parameters will be set to 0.000000. Details: \n",
      "ValueError: Solver newton-cg supports only 'l2' or 'none' penalties, got l1 penalty.\n",
      "\n",
      "  FitFailedWarning)\n",
      "/anaconda3/lib/python3.6/site-packages/sklearn/model_selection/_validation.py:547: FitFailedWarning: Estimator fit failed. The score on this train-test partition for these parameters will be set to 0.000000. Details: \n",
      "ValueError: Solver lbfgs supports only 'l2' or 'none' penalties, got l1 penalty.\n",
      "\n",
      "  FitFailedWarning)\n",
      "/anaconda3/lib/python3.6/site-packages/sklearn/model_selection/_validation.py:547: FitFailedWarning: Estimator fit failed. The score on this train-test partition for these parameters will be set to 0.000000. Details: \n",
      "ValueError: Solver sag supports only 'l2' or 'none' penalties, got l1 penalty.\n",
      "\n",
      "  FitFailedWarning)\n"
     ]
    },
    {
     "name": "stdout",
     "output_type": "stream",
     "text": [
      "[CV]  C=0.01, class_weight=None, penalty=l1, solver=sag, score=0.000, total=   0.0s\n",
      "[CV] C=0.01, class_weight=None, penalty=l1, solver=sag ...............\n",
      "[CV]  C=0.01, class_weight=None, penalty=l1, solver=sag, score=0.000, total=   0.0s\n",
      "[CV] C=0.01, class_weight=None, penalty=l1, solver=saga ..............\n",
      "[CV]  C=0.01, class_weight=None, penalty=l1, solver=saga, score=0.845, total=  10.6s\n",
      "[CV] C=0.01, class_weight=None, penalty=l1, solver=saga ..............\n"
     ]
    },
    {
     "name": "stderr",
     "output_type": "stream",
     "text": [
      "/anaconda3/lib/python3.6/site-packages/sklearn/linear_model/sag.py:337: ConvergenceWarning: The max_iter was reached which means the coef_ did not converge\n",
      "  \"the coef_ did not converge\", ConvergenceWarning)\n"
     ]
    },
    {
     "name": "stdout",
     "output_type": "stream",
     "text": [
      "[CV]  C=0.01, class_weight=None, penalty=l1, solver=saga, score=0.844, total=  14.5s\n",
      "[CV] C=0.01, class_weight=None, penalty=l1, solver=saga ..............\n",
      "[CV]  C=0.01, class_weight=None, penalty=l1, solver=saga, score=0.844, total=   5.8s\n",
      "[CV] C=0.01, class_weight=None, penalty=l2, solver=liblinear .........\n",
      "[CV]  C=0.01, class_weight=None, penalty=l2, solver=liblinear, score=0.845, total=   2.1s\n",
      "[CV] C=0.01, class_weight=None, penalty=l2, solver=liblinear .........\n",
      "[CV]  C=0.01, class_weight=None, penalty=l2, solver=liblinear, score=0.844, total=   2.0s\n",
      "[CV] C=0.01, class_weight=None, penalty=l2, solver=liblinear .........\n",
      "[CV]  C=0.01, class_weight=None, penalty=l2, solver=liblinear, score=0.843, total=   2.1s\n",
      "[CV] C=0.01, class_weight=None, penalty=l2, solver=newton-cg .........\n",
      "[CV]  C=0.01, class_weight=None, penalty=l2, solver=newton-cg, score=0.845, total=   2.1s\n",
      "[CV] C=0.01, class_weight=None, penalty=l2, solver=newton-cg .........\n",
      "[CV]  C=0.01, class_weight=None, penalty=l2, solver=newton-cg, score=0.844, total=   2.1s\n",
      "[CV] C=0.01, class_weight=None, penalty=l2, solver=newton-cg .........\n",
      "[CV]  C=0.01, class_weight=None, penalty=l2, solver=newton-cg, score=0.843, total=   2.2s\n",
      "[CV] C=0.01, class_weight=None, penalty=l2, solver=lbfgs .............\n",
      "[CV]  C=0.01, class_weight=None, penalty=l2, solver=lbfgs, score=0.845, total=   0.6s\n",
      "[CV] C=0.01, class_weight=None, penalty=l2, solver=lbfgs .............\n",
      "[CV]  C=0.01, class_weight=None, penalty=l2, solver=lbfgs, score=0.844, total=   0.6s\n",
      "[CV] C=0.01, class_weight=None, penalty=l2, solver=lbfgs .............\n",
      "[CV]  C=0.01, class_weight=None, penalty=l2, solver=lbfgs, score=0.843, total=   0.7s\n",
      "[CV] C=0.01, class_weight=None, penalty=l2, solver=sag ...............\n"
     ]
    },
    {
     "name": "stderr",
     "output_type": "stream",
     "text": [
      "/anaconda3/lib/python3.6/site-packages/sklearn/linear_model/sag.py:337: ConvergenceWarning: The max_iter was reached which means the coef_ did not converge\n",
      "  \"the coef_ did not converge\", ConvergenceWarning)\n"
     ]
    },
    {
     "name": "stdout",
     "output_type": "stream",
     "text": [
      "[CV]  C=0.01, class_weight=None, penalty=l2, solver=sag, score=0.845, total=  12.9s\n",
      "[CV] C=0.01, class_weight=None, penalty=l2, solver=sag ...............\n"
     ]
    },
    {
     "name": "stderr",
     "output_type": "stream",
     "text": [
      "/anaconda3/lib/python3.6/site-packages/sklearn/linear_model/sag.py:337: ConvergenceWarning: The max_iter was reached which means the coef_ did not converge\n",
      "  \"the coef_ did not converge\", ConvergenceWarning)\n"
     ]
    },
    {
     "name": "stdout",
     "output_type": "stream",
     "text": [
      "[CV]  C=0.01, class_weight=None, penalty=l2, solver=sag, score=0.844, total=  12.7s\n",
      "[CV] C=0.01, class_weight=None, penalty=l2, solver=sag ...............\n",
      "[CV]  C=0.01, class_weight=None, penalty=l2, solver=sag, score=0.843, total=  11.6s\n",
      "[CV] C=0.01, class_weight=None, penalty=l2, solver=saga ..............\n"
     ]
    },
    {
     "name": "stderr",
     "output_type": "stream",
     "text": [
      "/anaconda3/lib/python3.6/site-packages/sklearn/linear_model/sag.py:337: ConvergenceWarning: The max_iter was reached which means the coef_ did not converge\n",
      "  \"the coef_ did not converge\", ConvergenceWarning)\n"
     ]
    },
    {
     "name": "stdout",
     "output_type": "stream",
     "text": [
      "[CV]  C=0.01, class_weight=None, penalty=l2, solver=saga, score=0.845, total=  13.4s\n",
      "[CV] C=0.01, class_weight=None, penalty=l2, solver=saga ..............\n"
     ]
    },
    {
     "name": "stderr",
     "output_type": "stream",
     "text": [
      "/anaconda3/lib/python3.6/site-packages/sklearn/linear_model/sag.py:337: ConvergenceWarning: The max_iter was reached which means the coef_ did not converge\n",
      "  \"the coef_ did not converge\", ConvergenceWarning)\n"
     ]
    },
    {
     "name": "stdout",
     "output_type": "stream",
     "text": [
      "[CV]  C=0.01, class_weight=None, penalty=l2, solver=saga, score=0.844, total=  13.4s\n",
      "[CV] C=0.01, class_weight=None, penalty=l2, solver=saga ..............\n"
     ]
    },
    {
     "name": "stderr",
     "output_type": "stream",
     "text": [
      "/anaconda3/lib/python3.6/site-packages/sklearn/linear_model/sag.py:337: ConvergenceWarning: The max_iter was reached which means the coef_ did not converge\n",
      "  \"the coef_ did not converge\", ConvergenceWarning)\n",
      "/anaconda3/lib/python3.6/site-packages/sklearn/model_selection/_validation.py:547: FitFailedWarning: Estimator fit failed. The score on this train-test partition for these parameters will be set to 0.000000. Details: \n",
      "ValueError: penalty='none' is not supported for the liblinear solver\n",
      "\n",
      "  FitFailedWarning)\n",
      "/anaconda3/lib/python3.6/site-packages/sklearn/linear_model/logistic.py:1510: UserWarning: Setting penalty='none' will ignore the C and l1_ratio parameters\n",
      "  \"Setting penalty='none' will ignore the C and l1_ratio \"\n"
     ]
    },
    {
     "name": "stdout",
     "output_type": "stream",
     "text": [
      "[CV]  C=0.01, class_weight=None, penalty=l2, solver=saga, score=0.844, total=  13.3s\n",
      "[CV] C=0.01, class_weight=None, penalty=none, solver=liblinear .......\n",
      "[CV]  C=0.01, class_weight=None, penalty=none, solver=liblinear, score=0.000, total=   0.0s\n",
      "[CV] C=0.01, class_weight=None, penalty=none, solver=liblinear .......\n",
      "[CV]  C=0.01, class_weight=None, penalty=none, solver=liblinear, score=0.000, total=   0.0s\n",
      "[CV] C=0.01, class_weight=None, penalty=none, solver=liblinear .......\n",
      "[CV]  C=0.01, class_weight=None, penalty=none, solver=liblinear, score=0.000, total=   0.0s\n",
      "[CV] C=0.01, class_weight=None, penalty=none, solver=newton-cg .......\n",
      "[CV]  C=0.01, class_weight=None, penalty=none, solver=newton-cg, score=0.845, total=   8.2s\n",
      "[CV] C=0.01, class_weight=None, penalty=none, solver=newton-cg .......\n"
     ]
    },
    {
     "name": "stderr",
     "output_type": "stream",
     "text": [
      "/anaconda3/lib/python3.6/site-packages/sklearn/linear_model/logistic.py:1510: UserWarning: Setting penalty='none' will ignore the C and l1_ratio parameters\n",
      "  \"Setting penalty='none' will ignore the C and l1_ratio \"\n"
     ]
    },
    {
     "name": "stdout",
     "output_type": "stream",
     "text": [
      "[CV]  C=0.01, class_weight=None, penalty=none, solver=newton-cg, score=0.843, total=  19.2s\n",
      "[CV] C=0.01, class_weight=None, penalty=none, solver=newton-cg .......\n"
     ]
    },
    {
     "name": "stderr",
     "output_type": "stream",
     "text": [
      "/anaconda3/lib/python3.6/site-packages/sklearn/linear_model/logistic.py:1510: UserWarning: Setting penalty='none' will ignore the C and l1_ratio parameters\n",
      "  \"Setting penalty='none' will ignore the C and l1_ratio \"\n"
     ]
    },
    {
     "name": "stdout",
     "output_type": "stream",
     "text": [
      "[CV]  C=0.01, class_weight=None, penalty=none, solver=newton-cg, score=0.844, total=  10.1s\n",
      "[CV] C=0.01, class_weight=None, penalty=none, solver=lbfgs ...........\n"
     ]
    },
    {
     "name": "stderr",
     "output_type": "stream",
     "text": [
      "/anaconda3/lib/python3.6/site-packages/sklearn/linear_model/logistic.py:1510: UserWarning: Setting penalty='none' will ignore the C and l1_ratio parameters\n",
      "  \"Setting penalty='none' will ignore the C and l1_ratio \"\n"
     ]
    },
    {
     "name": "stdout",
     "output_type": "stream",
     "text": [
      "[CV]  C=0.01, class_weight=None, penalty=none, solver=lbfgs, score=0.845, total=   0.9s\n",
      "[CV] C=0.01, class_weight=None, penalty=none, solver=lbfgs ...........\n"
     ]
    },
    {
     "name": "stderr",
     "output_type": "stream",
     "text": [
      "/anaconda3/lib/python3.6/site-packages/sklearn/linear_model/logistic.py:1510: UserWarning: Setting penalty='none' will ignore the C and l1_ratio parameters\n",
      "  \"Setting penalty='none' will ignore the C and l1_ratio \"\n"
     ]
    },
    {
     "name": "stdout",
     "output_type": "stream",
     "text": [
      "[CV]  C=0.01, class_weight=None, penalty=none, solver=lbfgs, score=0.843, total=   0.9s\n",
      "[CV] C=0.01, class_weight=None, penalty=none, solver=lbfgs ...........\n"
     ]
    },
    {
     "name": "stderr",
     "output_type": "stream",
     "text": [
      "/anaconda3/lib/python3.6/site-packages/sklearn/linear_model/logistic.py:1510: UserWarning: Setting penalty='none' will ignore the C and l1_ratio parameters\n",
      "  \"Setting penalty='none' will ignore the C and l1_ratio \"\n"
     ]
    },
    {
     "name": "stdout",
     "output_type": "stream",
     "text": [
      "[CV]  C=0.01, class_weight=None, penalty=none, solver=lbfgs, score=0.844, total=   0.9s\n",
      "[CV] C=0.01, class_weight=None, penalty=none, solver=sag .............\n"
     ]
    },
    {
     "name": "stderr",
     "output_type": "stream",
     "text": [
      "/anaconda3/lib/python3.6/site-packages/sklearn/linear_model/logistic.py:1510: UserWarning: Setting penalty='none' will ignore the C and l1_ratio parameters\n",
      "  \"Setting penalty='none' will ignore the C and l1_ratio \"\n",
      "/anaconda3/lib/python3.6/site-packages/sklearn/linear_model/sag.py:337: ConvergenceWarning: The max_iter was reached which means the coef_ did not converge\n",
      "  \"the coef_ did not converge\", ConvergenceWarning)\n",
      "/anaconda3/lib/python3.6/site-packages/sklearn/linear_model/logistic.py:1510: UserWarning: Setting penalty='none' will ignore the C and l1_ratio parameters\n",
      "  \"Setting penalty='none' will ignore the C and l1_ratio \"\n"
     ]
    },
    {
     "name": "stdout",
     "output_type": "stream",
     "text": [
      "[CV]  C=0.01, class_weight=None, penalty=none, solver=sag, score=0.845, total=  12.9s\n",
      "[CV] C=0.01, class_weight=None, penalty=none, solver=sag .............\n"
     ]
    },
    {
     "name": "stderr",
     "output_type": "stream",
     "text": [
      "/anaconda3/lib/python3.6/site-packages/sklearn/linear_model/sag.py:337: ConvergenceWarning: The max_iter was reached which means the coef_ did not converge\n",
      "  \"the coef_ did not converge\", ConvergenceWarning)\n",
      "/anaconda3/lib/python3.6/site-packages/sklearn/linear_model/logistic.py:1510: UserWarning: Setting penalty='none' will ignore the C and l1_ratio parameters\n",
      "  \"Setting penalty='none' will ignore the C and l1_ratio \"\n"
     ]
    },
    {
     "name": "stdout",
     "output_type": "stream",
     "text": [
      "[CV]  C=0.01, class_weight=None, penalty=none, solver=sag, score=0.843, total= 1.4min\n",
      "[CV] C=0.01, class_weight=None, penalty=none, solver=sag .............\n"
     ]
    },
    {
     "name": "stderr",
     "output_type": "stream",
     "text": [
      "/anaconda3/lib/python3.6/site-packages/sklearn/linear_model/sag.py:337: ConvergenceWarning: The max_iter was reached which means the coef_ did not converge\n",
      "  \"the coef_ did not converge\", ConvergenceWarning)\n",
      "/anaconda3/lib/python3.6/site-packages/sklearn/linear_model/logistic.py:1510: UserWarning: Setting penalty='none' will ignore the C and l1_ratio parameters\n",
      "  \"Setting penalty='none' will ignore the C and l1_ratio \"\n"
     ]
    },
    {
     "name": "stdout",
     "output_type": "stream",
     "text": [
      "[CV]  C=0.01, class_weight=None, penalty=none, solver=sag, score=0.844, total=  12.4s\n",
      "[CV] C=0.01, class_weight=None, penalty=none, solver=saga ............\n"
     ]
    },
    {
     "name": "stderr",
     "output_type": "stream",
     "text": [
      "/anaconda3/lib/python3.6/site-packages/sklearn/linear_model/sag.py:337: ConvergenceWarning: The max_iter was reached which means the coef_ did not converge\n",
      "  \"the coef_ did not converge\", ConvergenceWarning)\n",
      "/anaconda3/lib/python3.6/site-packages/sklearn/linear_model/logistic.py:1510: UserWarning: Setting penalty='none' will ignore the C and l1_ratio parameters\n",
      "  \"Setting penalty='none' will ignore the C and l1_ratio \"\n"
     ]
    },
    {
     "name": "stdout",
     "output_type": "stream",
     "text": [
      "[CV]  C=0.01, class_weight=None, penalty=none, solver=saga, score=0.845, total=  13.1s\n",
      "[CV] C=0.01, class_weight=None, penalty=none, solver=saga ............\n"
     ]
    },
    {
     "name": "stderr",
     "output_type": "stream",
     "text": [
      "/anaconda3/lib/python3.6/site-packages/sklearn/linear_model/sag.py:337: ConvergenceWarning: The max_iter was reached which means the coef_ did not converge\n",
      "  \"the coef_ did not converge\", ConvergenceWarning)\n",
      "/anaconda3/lib/python3.6/site-packages/sklearn/linear_model/logistic.py:1510: UserWarning: Setting penalty='none' will ignore the C and l1_ratio parameters\n",
      "  \"Setting penalty='none' will ignore the C and l1_ratio \"\n"
     ]
    },
    {
     "name": "stdout",
     "output_type": "stream",
     "text": [
      "[CV]  C=0.01, class_weight=None, penalty=none, solver=saga, score=0.843, total=  13.1s\n",
      "[CV] C=0.01, class_weight=None, penalty=none, solver=saga ............\n"
     ]
    },
    {
     "name": "stderr",
     "output_type": "stream",
     "text": [
      "/anaconda3/lib/python3.6/site-packages/sklearn/linear_model/sag.py:337: ConvergenceWarning: The max_iter was reached which means the coef_ did not converge\n",
      "  \"the coef_ did not converge\", ConvergenceWarning)\n"
     ]
    },
    {
     "name": "stdout",
     "output_type": "stream",
     "text": [
      "[CV]  C=0.01, class_weight=None, penalty=none, solver=saga, score=0.844, total=  12.9s\n",
      "[CV] C=0.01, class_weight=balanced, penalty=l1, solver=liblinear .....\n",
      "[CV]  C=0.01, class_weight=balanced, penalty=l1, solver=liblinear, score=0.640, total=   0.9s\n",
      "[CV] C=0.01, class_weight=balanced, penalty=l1, solver=liblinear .....\n",
      "[CV]  C=0.01, class_weight=balanced, penalty=l1, solver=liblinear, score=0.642, total=   1.6s\n",
      "[CV] C=0.01, class_weight=balanced, penalty=l1, solver=liblinear .....\n",
      "[CV]  C=0.01, class_weight=balanced, penalty=l1, solver=liblinear, score=0.647, total=   1.0s\n",
      "[CV] C=0.01, class_weight=balanced, penalty=l1, solver=newton-cg .....\n",
      "[CV]  C=0.01, class_weight=balanced, penalty=l1, solver=newton-cg, score=0.000, total=   0.0s\n",
      "[CV] C=0.01, class_weight=balanced, penalty=l1, solver=newton-cg .....\n",
      "[CV]  C=0.01, class_weight=balanced, penalty=l1, solver=newton-cg, score=0.000, total=   0.0s\n",
      "[CV] C=0.01, class_weight=balanced, penalty=l1, solver=newton-cg .....\n",
      "[CV]  C=0.01, class_weight=balanced, penalty=l1, solver=newton-cg, score=0.000, total=   0.0s\n",
      "[CV] C=0.01, class_weight=balanced, penalty=l1, solver=lbfgs .........\n",
      "[CV]  C=0.01, class_weight=balanced, penalty=l1, solver=lbfgs, score=0.000, total=   0.0s\n",
      "[CV] C=0.01, class_weight=balanced, penalty=l1, solver=lbfgs .........\n",
      "[CV]  C=0.01, class_weight=balanced, penalty=l1, solver=lbfgs, score=0.000, total=   0.0s\n",
      "[CV] C=0.01, class_weight=balanced, penalty=l1, solver=lbfgs .........\n",
      "[CV]  C=0.01, class_weight=balanced, penalty=l1, solver=lbfgs, score=0.000, total=   0.0s\n",
      "[CV] C=0.01, class_weight=balanced, penalty=l1, solver=sag ...........\n"
     ]
    },
    {
     "name": "stderr",
     "output_type": "stream",
     "text": [
      "/anaconda3/lib/python3.6/site-packages/sklearn/model_selection/_validation.py:547: FitFailedWarning: Estimator fit failed. The score on this train-test partition for these parameters will be set to 0.000000. Details: \n",
      "ValueError: Solver newton-cg supports only 'l2' or 'none' penalties, got l1 penalty.\n",
      "\n",
      "  FitFailedWarning)\n",
      "/anaconda3/lib/python3.6/site-packages/sklearn/model_selection/_validation.py:547: FitFailedWarning: Estimator fit failed. The score on this train-test partition for these parameters will be set to 0.000000. Details: \n",
      "ValueError: Solver lbfgs supports only 'l2' or 'none' penalties, got l1 penalty.\n",
      "\n",
      "  FitFailedWarning)\n",
      "/anaconda3/lib/python3.6/site-packages/sklearn/model_selection/_validation.py:547: FitFailedWarning: Estimator fit failed. The score on this train-test partition for these parameters will be set to 0.000000. Details: \n",
      "ValueError: Solver sag supports only 'l2' or 'none' penalties, got l1 penalty.\n",
      "\n",
      "  FitFailedWarning)\n"
     ]
    },
    {
     "name": "stdout",
     "output_type": "stream",
     "text": [
      "[CV]  C=0.01, class_weight=balanced, penalty=l1, solver=sag, score=0.000, total=   0.0s\n",
      "[CV] C=0.01, class_weight=balanced, penalty=l1, solver=sag ...........\n",
      "[CV]  C=0.01, class_weight=balanced, penalty=l1, solver=sag, score=0.000, total=   0.0s\n",
      "[CV] C=0.01, class_weight=balanced, penalty=l1, solver=sag ...........\n",
      "[CV]  C=0.01, class_weight=balanced, penalty=l1, solver=sag, score=0.000, total=   0.0s\n",
      "[CV] C=0.01, class_weight=balanced, penalty=l1, solver=saga ..........\n",
      "[CV]  C=0.01, class_weight=balanced, penalty=l1, solver=saga, score=0.642, total=  12.9s\n",
      "[CV] C=0.01, class_weight=balanced, penalty=l1, solver=saga ..........\n",
      "[CV]  C=0.01, class_weight=balanced, penalty=l1, solver=saga, score=0.643, total=  12.8s\n",
      "[CV] C=0.01, class_weight=balanced, penalty=l1, solver=saga ..........\n",
      "[CV]  C=0.01, class_weight=balanced, penalty=l1, solver=saga, score=0.649, total=   5.8s\n",
      "[CV] C=0.01, class_weight=balanced, penalty=l2, solver=liblinear .....\n",
      "[CV]  C=0.01, class_weight=balanced, penalty=l2, solver=liblinear, score=0.640, total=   2.6s\n",
      "[CV] C=0.01, class_weight=balanced, penalty=l2, solver=liblinear .....\n",
      "[CV]  C=0.01, class_weight=balanced, penalty=l2, solver=liblinear, score=0.643, total=   2.2s\n",
      "[CV] C=0.01, class_weight=balanced, penalty=l2, solver=liblinear .....\n",
      "[CV]  C=0.01, class_weight=balanced, penalty=l2, solver=liblinear, score=0.646, total=   2.6s\n",
      "[CV] C=0.01, class_weight=balanced, penalty=l2, solver=newton-cg .....\n",
      "[CV]  C=0.01, class_weight=balanced, penalty=l2, solver=newton-cg, score=0.640, total=   2.6s\n",
      "[CV] C=0.01, class_weight=balanced, penalty=l2, solver=newton-cg .....\n",
      "[CV]  C=0.01, class_weight=balanced, penalty=l2, solver=newton-cg, score=0.643, total=   2.7s\n",
      "[CV] C=0.01, class_weight=balanced, penalty=l2, solver=newton-cg .....\n",
      "[CV]  C=0.01, class_weight=balanced, penalty=l2, solver=newton-cg, score=0.646, total=   2.4s\n",
      "[CV] C=0.01, class_weight=balanced, penalty=l2, solver=lbfgs .........\n",
      "[CV]  C=0.01, class_weight=balanced, penalty=l2, solver=lbfgs, score=0.640, total=   0.8s\n",
      "[CV] C=0.01, class_weight=balanced, penalty=l2, solver=lbfgs .........\n",
      "[CV]  C=0.01, class_weight=balanced, penalty=l2, solver=lbfgs, score=0.643, total=   0.7s\n",
      "[CV] C=0.01, class_weight=balanced, penalty=l2, solver=lbfgs .........\n",
      "[CV]  C=0.01, class_weight=balanced, penalty=l2, solver=lbfgs, score=0.646, total=   0.8s\n",
      "[CV] C=0.01, class_weight=balanced, penalty=l2, solver=sag ...........\n"
     ]
    },
    {
     "name": "stderr",
     "output_type": "stream",
     "text": [
      "/anaconda3/lib/python3.6/site-packages/sklearn/linear_model/sag.py:337: ConvergenceWarning: The max_iter was reached which means the coef_ did not converge\n",
      "  \"the coef_ did not converge\", ConvergenceWarning)\n"
     ]
    },
    {
     "name": "stdout",
     "output_type": "stream",
     "text": [
      "[CV]  C=0.01, class_weight=balanced, penalty=l2, solver=sag, score=0.640, total=  12.9s\n",
      "[CV] C=0.01, class_weight=balanced, penalty=l2, solver=sag ...........\n"
     ]
    },
    {
     "name": "stderr",
     "output_type": "stream",
     "text": [
      "/anaconda3/lib/python3.6/site-packages/sklearn/linear_model/sag.py:337: ConvergenceWarning: The max_iter was reached which means the coef_ did not converge\n",
      "  \"the coef_ did not converge\", ConvergenceWarning)\n"
     ]
    },
    {
     "name": "stdout",
     "output_type": "stream",
     "text": [
      "[CV]  C=0.01, class_weight=balanced, penalty=l2, solver=sag, score=0.643, total=  12.9s\n",
      "[CV] C=0.01, class_weight=balanced, penalty=l2, solver=sag ...........\n",
      "[CV]  C=0.01, class_weight=balanced, penalty=l2, solver=sag, score=0.646, total=   9.3s\n",
      "[CV] C=0.01, class_weight=balanced, penalty=l2, solver=saga ..........\n"
     ]
    },
    {
     "name": "stderr",
     "output_type": "stream",
     "text": [
      "/anaconda3/lib/python3.6/site-packages/sklearn/linear_model/sag.py:337: ConvergenceWarning: The max_iter was reached which means the coef_ did not converge\n",
      "  \"the coef_ did not converge\", ConvergenceWarning)\n"
     ]
    },
    {
     "name": "stdout",
     "output_type": "stream",
     "text": [
      "[CV]  C=0.01, class_weight=balanced, penalty=l2, solver=saga, score=0.641, total=  13.4s\n",
      "[CV] C=0.01, class_weight=balanced, penalty=l2, solver=saga ..........\n"
     ]
    },
    {
     "name": "stderr",
     "output_type": "stream",
     "text": [
      "/anaconda3/lib/python3.6/site-packages/sklearn/linear_model/sag.py:337: ConvergenceWarning: The max_iter was reached which means the coef_ did not converge\n",
      "  \"the coef_ did not converge\", ConvergenceWarning)\n"
     ]
    },
    {
     "name": "stdout",
     "output_type": "stream",
     "text": [
      "[CV]  C=0.01, class_weight=balanced, penalty=l2, solver=saga, score=0.644, total=  13.0s\n",
      "[CV] C=0.01, class_weight=balanced, penalty=l2, solver=saga ..........\n"
     ]
    },
    {
     "name": "stderr",
     "output_type": "stream",
     "text": [
      "/anaconda3/lib/python3.6/site-packages/sklearn/linear_model/sag.py:337: ConvergenceWarning: The max_iter was reached which means the coef_ did not converge\n",
      "  \"the coef_ did not converge\", ConvergenceWarning)\n",
      "/anaconda3/lib/python3.6/site-packages/sklearn/model_selection/_validation.py:547: FitFailedWarning: Estimator fit failed. The score on this train-test partition for these parameters will be set to 0.000000. Details: \n",
      "ValueError: penalty='none' is not supported for the liblinear solver\n",
      "\n",
      "  FitFailedWarning)\n",
      "/anaconda3/lib/python3.6/site-packages/sklearn/linear_model/logistic.py:1510: UserWarning: Setting penalty='none' will ignore the C and l1_ratio parameters\n",
      "  \"Setting penalty='none' will ignore the C and l1_ratio \"\n"
     ]
    },
    {
     "name": "stdout",
     "output_type": "stream",
     "text": [
      "[CV]  C=0.01, class_weight=balanced, penalty=l2, solver=saga, score=0.646, total=  13.8s\n",
      "[CV] C=0.01, class_weight=balanced, penalty=none, solver=liblinear ...\n",
      "[CV]  C=0.01, class_weight=balanced, penalty=none, solver=liblinear, score=0.000, total=   0.0s\n",
      "[CV] C=0.01, class_weight=balanced, penalty=none, solver=liblinear ...\n",
      "[CV]  C=0.01, class_weight=balanced, penalty=none, solver=liblinear, score=0.000, total=   0.0s\n",
      "[CV] C=0.01, class_weight=balanced, penalty=none, solver=liblinear ...\n",
      "[CV]  C=0.01, class_weight=balanced, penalty=none, solver=liblinear, score=0.000, total=   0.0s\n",
      "[CV] C=0.01, class_weight=balanced, penalty=none, solver=newton-cg ...\n",
      "[CV]  C=0.01, class_weight=balanced, penalty=none, solver=newton-cg, score=0.637, total=   6.0s\n",
      "[CV] C=0.01, class_weight=balanced, penalty=none, solver=newton-cg ...\n"
     ]
    },
    {
     "name": "stderr",
     "output_type": "stream",
     "text": [
      "/anaconda3/lib/python3.6/site-packages/sklearn/linear_model/logistic.py:1510: UserWarning: Setting penalty='none' will ignore the C and l1_ratio parameters\n",
      "  \"Setting penalty='none' will ignore the C and l1_ratio \"\n"
     ]
    },
    {
     "name": "stdout",
     "output_type": "stream",
     "text": [
      "[CV]  C=0.01, class_weight=balanced, penalty=none, solver=newton-cg, score=0.642, total=  21.4s\n",
      "[CV] C=0.01, class_weight=balanced, penalty=none, solver=newton-cg ...\n"
     ]
    },
    {
     "name": "stderr",
     "output_type": "stream",
     "text": [
      "/anaconda3/lib/python3.6/site-packages/sklearn/linear_model/logistic.py:1510: UserWarning: Setting penalty='none' will ignore the C and l1_ratio parameters\n",
      "  \"Setting penalty='none' will ignore the C and l1_ratio \"\n"
     ]
    },
    {
     "name": "stdout",
     "output_type": "stream",
     "text": [
      "[CV]  C=0.01, class_weight=balanced, penalty=none, solver=newton-cg, score=0.643, total=   7.7s\n",
      "[CV] C=0.01, class_weight=balanced, penalty=none, solver=lbfgs .......\n"
     ]
    },
    {
     "name": "stderr",
     "output_type": "stream",
     "text": [
      "/anaconda3/lib/python3.6/site-packages/sklearn/linear_model/logistic.py:1510: UserWarning: Setting penalty='none' will ignore the C and l1_ratio parameters\n",
      "  \"Setting penalty='none' will ignore the C and l1_ratio \"\n"
     ]
    },
    {
     "name": "stdout",
     "output_type": "stream",
     "text": [
      "[CV]  C=0.01, class_weight=balanced, penalty=none, solver=lbfgs, score=0.637, total=   0.9s\n",
      "[CV] C=0.01, class_weight=balanced, penalty=none, solver=lbfgs .......\n"
     ]
    },
    {
     "name": "stderr",
     "output_type": "stream",
     "text": [
      "/anaconda3/lib/python3.6/site-packages/sklearn/linear_model/logistic.py:1510: UserWarning: Setting penalty='none' will ignore the C and l1_ratio parameters\n",
      "  \"Setting penalty='none' will ignore the C and l1_ratio \"\n"
     ]
    },
    {
     "name": "stdout",
     "output_type": "stream",
     "text": [
      "[CV]  C=0.01, class_weight=balanced, penalty=none, solver=lbfgs, score=0.642, total=   0.9s\n",
      "[CV] C=0.01, class_weight=balanced, penalty=none, solver=lbfgs .......\n"
     ]
    },
    {
     "name": "stderr",
     "output_type": "stream",
     "text": [
      "/anaconda3/lib/python3.6/site-packages/sklearn/linear_model/logistic.py:1510: UserWarning: Setting penalty='none' will ignore the C and l1_ratio parameters\n",
      "  \"Setting penalty='none' will ignore the C and l1_ratio \"\n"
     ]
    },
    {
     "name": "stdout",
     "output_type": "stream",
     "text": [
      "[CV]  C=0.01, class_weight=balanced, penalty=none, solver=lbfgs, score=0.643, total=   1.0s\n",
      "[CV] C=0.01, class_weight=balanced, penalty=none, solver=sag .........\n"
     ]
    },
    {
     "name": "stderr",
     "output_type": "stream",
     "text": [
      "/anaconda3/lib/python3.6/site-packages/sklearn/linear_model/logistic.py:1510: UserWarning: Setting penalty='none' will ignore the C and l1_ratio parameters\n",
      "  \"Setting penalty='none' will ignore the C and l1_ratio \"\n",
      "/anaconda3/lib/python3.6/site-packages/sklearn/linear_model/sag.py:337: ConvergenceWarning: The max_iter was reached which means the coef_ did not converge\n",
      "  \"the coef_ did not converge\", ConvergenceWarning)\n",
      "/anaconda3/lib/python3.6/site-packages/sklearn/linear_model/logistic.py:1510: UserWarning: Setting penalty='none' will ignore the C and l1_ratio parameters\n",
      "  \"Setting penalty='none' will ignore the C and l1_ratio \"\n"
     ]
    },
    {
     "name": "stdout",
     "output_type": "stream",
     "text": [
      "[CV]  C=0.01, class_weight=balanced, penalty=none, solver=sag, score=0.637, total=  12.9s\n",
      "[CV] C=0.01, class_weight=balanced, penalty=none, solver=sag .........\n"
     ]
    },
    {
     "name": "stderr",
     "output_type": "stream",
     "text": [
      "/anaconda3/lib/python3.6/site-packages/sklearn/linear_model/sag.py:337: ConvergenceWarning: The max_iter was reached which means the coef_ did not converge\n",
      "  \"the coef_ did not converge\", ConvergenceWarning)\n",
      "/anaconda3/lib/python3.6/site-packages/sklearn/linear_model/logistic.py:1510: UserWarning: Setting penalty='none' will ignore the C and l1_ratio parameters\n",
      "  \"Setting penalty='none' will ignore the C and l1_ratio \"\n"
     ]
    },
    {
     "name": "stdout",
     "output_type": "stream",
     "text": [
      "[CV]  C=0.01, class_weight=balanced, penalty=none, solver=sag, score=0.642, total=  12.8s\n",
      "[CV] C=0.01, class_weight=balanced, penalty=none, solver=sag .........\n"
     ]
    },
    {
     "name": "stderr",
     "output_type": "stream",
     "text": [
      "/anaconda3/lib/python3.6/site-packages/sklearn/linear_model/sag.py:337: ConvergenceWarning: The max_iter was reached which means the coef_ did not converge\n",
      "  \"the coef_ did not converge\", ConvergenceWarning)\n",
      "/anaconda3/lib/python3.6/site-packages/sklearn/linear_model/logistic.py:1510: UserWarning: Setting penalty='none' will ignore the C and l1_ratio parameters\n",
      "  \"Setting penalty='none' will ignore the C and l1_ratio \"\n"
     ]
    },
    {
     "name": "stdout",
     "output_type": "stream",
     "text": [
      "[CV]  C=0.01, class_weight=balanced, penalty=none, solver=sag, score=0.643, total=  12.9s\n",
      "[CV] C=0.01, class_weight=balanced, penalty=none, solver=saga ........\n"
     ]
    },
    {
     "name": "stderr",
     "output_type": "stream",
     "text": [
      "/anaconda3/lib/python3.6/site-packages/sklearn/linear_model/sag.py:337: ConvergenceWarning: The max_iter was reached which means the coef_ did not converge\n",
      "  \"the coef_ did not converge\", ConvergenceWarning)\n",
      "/anaconda3/lib/python3.6/site-packages/sklearn/linear_model/logistic.py:1510: UserWarning: Setting penalty='none' will ignore the C and l1_ratio parameters\n",
      "  \"Setting penalty='none' will ignore the C and l1_ratio \"\n"
     ]
    },
    {
     "name": "stdout",
     "output_type": "stream",
     "text": [
      "[CV]  C=0.01, class_weight=balanced, penalty=none, solver=saga, score=0.638, total=  13.4s\n",
      "[CV] C=0.01, class_weight=balanced, penalty=none, solver=saga ........\n"
     ]
    },
    {
     "name": "stderr",
     "output_type": "stream",
     "text": [
      "/anaconda3/lib/python3.6/site-packages/sklearn/linear_model/sag.py:337: ConvergenceWarning: The max_iter was reached which means the coef_ did not converge\n",
      "  \"the coef_ did not converge\", ConvergenceWarning)\n",
      "/anaconda3/lib/python3.6/site-packages/sklearn/linear_model/logistic.py:1510: UserWarning: Setting penalty='none' will ignore the C and l1_ratio parameters\n",
      "  \"Setting penalty='none' will ignore the C and l1_ratio \"\n"
     ]
    },
    {
     "name": "stdout",
     "output_type": "stream",
     "text": [
      "[CV]  C=0.01, class_weight=balanced, penalty=none, solver=saga, score=0.642, total=  13.5s\n",
      "[CV] C=0.01, class_weight=balanced, penalty=none, solver=saga ........\n"
     ]
    },
    {
     "name": "stderr",
     "output_type": "stream",
     "text": [
      "/anaconda3/lib/python3.6/site-packages/sklearn/linear_model/sag.py:337: ConvergenceWarning: The max_iter was reached which means the coef_ did not converge\n",
      "  \"the coef_ did not converge\", ConvergenceWarning)\n"
     ]
    },
    {
     "name": "stdout",
     "output_type": "stream",
     "text": [
      "[CV]  C=0.01, class_weight=balanced, penalty=none, solver=saga, score=0.644, total=  13.4s\n",
      "[CV] C=0.1, class_weight=None, penalty=l1, solver=liblinear ..........\n",
      "[CV]  C=0.1, class_weight=None, penalty=l1, solver=liblinear, score=0.845, total=   5.7s\n",
      "[CV] C=0.1, class_weight=None, penalty=l1, solver=liblinear ..........\n",
      "[CV]  C=0.1, class_weight=None, penalty=l1, solver=liblinear, score=0.844, total=   5.4s\n",
      "[CV] C=0.1, class_weight=None, penalty=l1, solver=liblinear ..........\n",
      "[CV]  C=0.1, class_weight=None, penalty=l1, solver=liblinear, score=0.844, total=   4.8s\n",
      "[CV] C=0.1, class_weight=None, penalty=l1, solver=newton-cg ..........\n",
      "[CV]  C=0.1, class_weight=None, penalty=l1, solver=newton-cg, score=0.000, total=   0.0s\n",
      "[CV] C=0.1, class_weight=None, penalty=l1, solver=newton-cg ..........\n",
      "[CV]  C=0.1, class_weight=None, penalty=l1, solver=newton-cg, score=0.000, total=   0.0s\n",
      "[CV] C=0.1, class_weight=None, penalty=l1, solver=newton-cg ..........\n",
      "[CV]  C=0.1, class_weight=None, penalty=l1, solver=newton-cg, score=0.000, total=   0.0s\n",
      "[CV] C=0.1, class_weight=None, penalty=l1, solver=lbfgs ..............\n",
      "[CV]  C=0.1, class_weight=None, penalty=l1, solver=lbfgs, score=0.000, total=   0.0s\n",
      "[CV] C=0.1, class_weight=None, penalty=l1, solver=lbfgs ..............\n",
      "[CV]  C=0.1, class_weight=None, penalty=l1, solver=lbfgs, score=0.000, total=   0.0s\n",
      "[CV] C=0.1, class_weight=None, penalty=l1, solver=lbfgs ..............\n",
      "[CV]  C=0.1, class_weight=None, penalty=l1, solver=lbfgs, score=0.000, total=   0.0s\n",
      "[CV] C=0.1, class_weight=None, penalty=l1, solver=sag ................\n",
      "[CV]  C=0.1, class_weight=None, penalty=l1, solver=sag, score=0.000, total=   0.0s\n",
      "[CV] C=0.1, class_weight=None, penalty=l1, solver=sag ................\n"
     ]
    },
    {
     "name": "stderr",
     "output_type": "stream",
     "text": [
      "/anaconda3/lib/python3.6/site-packages/sklearn/model_selection/_validation.py:547: FitFailedWarning: Estimator fit failed. The score on this train-test partition for these parameters will be set to 0.000000. Details: \n",
      "ValueError: Solver newton-cg supports only 'l2' or 'none' penalties, got l1 penalty.\n",
      "\n",
      "  FitFailedWarning)\n",
      "/anaconda3/lib/python3.6/site-packages/sklearn/model_selection/_validation.py:547: FitFailedWarning: Estimator fit failed. The score on this train-test partition for these parameters will be set to 0.000000. Details: \n",
      "ValueError: Solver lbfgs supports only 'l2' or 'none' penalties, got l1 penalty.\n",
      "\n",
      "  FitFailedWarning)\n",
      "/anaconda3/lib/python3.6/site-packages/sklearn/model_selection/_validation.py:547: FitFailedWarning: Estimator fit failed. The score on this train-test partition for these parameters will be set to 0.000000. Details: \n",
      "ValueError: Solver sag supports only 'l2' or 'none' penalties, got l1 penalty.\n",
      "\n",
      "  FitFailedWarning)\n"
     ]
    },
    {
     "name": "stdout",
     "output_type": "stream",
     "text": [
      "[CV]  C=0.1, class_weight=None, penalty=l1, solver=sag, score=0.000, total=   0.0s\n",
      "[CV] C=0.1, class_weight=None, penalty=l1, solver=sag ................\n",
      "[CV]  C=0.1, class_weight=None, penalty=l1, solver=sag, score=0.000, total=   0.0s\n",
      "[CV] C=0.1, class_weight=None, penalty=l1, solver=saga ...............\n"
     ]
    },
    {
     "name": "stderr",
     "output_type": "stream",
     "text": [
      "/anaconda3/lib/python3.6/site-packages/sklearn/linear_model/sag.py:337: ConvergenceWarning: The max_iter was reached which means the coef_ did not converge\n",
      "  \"the coef_ did not converge\", ConvergenceWarning)\n"
     ]
    },
    {
     "name": "stdout",
     "output_type": "stream",
     "text": [
      "[CV]  C=0.1, class_weight=None, penalty=l1, solver=saga, score=0.845, total=  14.7s\n",
      "[CV] C=0.1, class_weight=None, penalty=l1, solver=saga ...............\n"
     ]
    },
    {
     "name": "stderr",
     "output_type": "stream",
     "text": [
      "/anaconda3/lib/python3.6/site-packages/sklearn/linear_model/sag.py:337: ConvergenceWarning: The max_iter was reached which means the coef_ did not converge\n",
      "  \"the coef_ did not converge\", ConvergenceWarning)\n"
     ]
    },
    {
     "name": "stdout",
     "output_type": "stream",
     "text": [
      "[CV]  C=0.1, class_weight=None, penalty=l1, solver=saga, score=0.844, total=  14.6s\n",
      "[CV] C=0.1, class_weight=None, penalty=l1, solver=saga ...............\n"
     ]
    },
    {
     "name": "stderr",
     "output_type": "stream",
     "text": [
      "/anaconda3/lib/python3.6/site-packages/sklearn/linear_model/sag.py:337: ConvergenceWarning: The max_iter was reached which means the coef_ did not converge\n",
      "  \"the coef_ did not converge\", ConvergenceWarning)\n"
     ]
    },
    {
     "name": "stdout",
     "output_type": "stream",
     "text": [
      "[CV]  C=0.1, class_weight=None, penalty=l1, solver=saga, score=0.844, total=  14.5s\n",
      "[CV] C=0.1, class_weight=None, penalty=l2, solver=liblinear ..........\n",
      "[CV]  C=0.1, class_weight=None, penalty=l2, solver=liblinear, score=0.845, total=   2.9s\n",
      "[CV] C=0.1, class_weight=None, penalty=l2, solver=liblinear ..........\n",
      "[CV]  C=0.1, class_weight=None, penalty=l2, solver=liblinear, score=0.843, total=   2.9s\n",
      "[CV] C=0.1, class_weight=None, penalty=l2, solver=liblinear ..........\n",
      "[CV]  C=0.1, class_weight=None, penalty=l2, solver=liblinear, score=0.844, total=   3.2s\n",
      "[CV] C=0.1, class_weight=None, penalty=l2, solver=newton-cg ..........\n",
      "[CV]  C=0.1, class_weight=None, penalty=l2, solver=newton-cg, score=0.845, total=   2.9s\n",
      "[CV] C=0.1, class_weight=None, penalty=l2, solver=newton-cg ..........\n",
      "[CV]  C=0.1, class_weight=None, penalty=l2, solver=newton-cg, score=0.843, total=   2.9s\n",
      "[CV] C=0.1, class_weight=None, penalty=l2, solver=newton-cg ..........\n",
      "[CV]  C=0.1, class_weight=None, penalty=l2, solver=newton-cg, score=0.844, total=   3.3s\n",
      "[CV] C=0.1, class_weight=None, penalty=l2, solver=lbfgs ..............\n",
      "[CV]  C=0.1, class_weight=None, penalty=l2, solver=lbfgs, score=0.845, total=   0.9s\n",
      "[CV] C=0.1, class_weight=None, penalty=l2, solver=lbfgs ..............\n",
      "[CV]  C=0.1, class_weight=None, penalty=l2, solver=lbfgs, score=0.843, total=   0.9s\n",
      "[CV] C=0.1, class_weight=None, penalty=l2, solver=lbfgs ..............\n",
      "[CV]  C=0.1, class_weight=None, penalty=l2, solver=lbfgs, score=0.844, total=   1.0s\n",
      "[CV] C=0.1, class_weight=None, penalty=l2, solver=sag ................\n"
     ]
    },
    {
     "name": "stderr",
     "output_type": "stream",
     "text": [
      "/anaconda3/lib/python3.6/site-packages/sklearn/linear_model/sag.py:337: ConvergenceWarning: The max_iter was reached which means the coef_ did not converge\n",
      "  \"the coef_ did not converge\", ConvergenceWarning)\n"
     ]
    },
    {
     "name": "stdout",
     "output_type": "stream",
     "text": [
      "[CV]  C=0.1, class_weight=None, penalty=l2, solver=sag, score=0.845, total=  12.6s\n",
      "[CV] C=0.1, class_weight=None, penalty=l2, solver=sag ................\n"
     ]
    },
    {
     "name": "stderr",
     "output_type": "stream",
     "text": [
      "/anaconda3/lib/python3.6/site-packages/sklearn/linear_model/sag.py:337: ConvergenceWarning: The max_iter was reached which means the coef_ did not converge\n",
      "  \"the coef_ did not converge\", ConvergenceWarning)\n"
     ]
    },
    {
     "name": "stdout",
     "output_type": "stream",
     "text": [
      "[CV]  C=0.1, class_weight=None, penalty=l2, solver=sag, score=0.843, total=  12.9s\n",
      "[CV] C=0.1, class_weight=None, penalty=l2, solver=sag ................\n"
     ]
    },
    {
     "name": "stderr",
     "output_type": "stream",
     "text": [
      "/anaconda3/lib/python3.6/site-packages/sklearn/linear_model/sag.py:337: ConvergenceWarning: The max_iter was reached which means the coef_ did not converge\n",
      "  \"the coef_ did not converge\", ConvergenceWarning)\n"
     ]
    },
    {
     "name": "stdout",
     "output_type": "stream",
     "text": [
      "[CV]  C=0.1, class_weight=None, penalty=l2, solver=sag, score=0.844, total=  12.9s\n",
      "[CV] C=0.1, class_weight=None, penalty=l2, solver=saga ...............\n"
     ]
    },
    {
     "name": "stderr",
     "output_type": "stream",
     "text": [
      "/anaconda3/lib/python3.6/site-packages/sklearn/linear_model/sag.py:337: ConvergenceWarning: The max_iter was reached which means the coef_ did not converge\n",
      "  \"the coef_ did not converge\", ConvergenceWarning)\n"
     ]
    },
    {
     "name": "stdout",
     "output_type": "stream",
     "text": [
      "[CV]  C=0.1, class_weight=None, penalty=l2, solver=saga, score=0.845, total=  13.2s\n",
      "[CV] C=0.1, class_weight=None, penalty=l2, solver=saga ...............\n"
     ]
    },
    {
     "name": "stderr",
     "output_type": "stream",
     "text": [
      "/anaconda3/lib/python3.6/site-packages/sklearn/linear_model/sag.py:337: ConvergenceWarning: The max_iter was reached which means the coef_ did not converge\n",
      "  \"the coef_ did not converge\", ConvergenceWarning)\n"
     ]
    },
    {
     "name": "stdout",
     "output_type": "stream",
     "text": [
      "[CV]  C=0.1, class_weight=None, penalty=l2, solver=saga, score=0.843, total=  13.2s\n",
      "[CV] C=0.1, class_weight=None, penalty=l2, solver=saga ...............\n"
     ]
    },
    {
     "name": "stderr",
     "output_type": "stream",
     "text": [
      "/anaconda3/lib/python3.6/site-packages/sklearn/linear_model/sag.py:337: ConvergenceWarning: The max_iter was reached which means the coef_ did not converge\n",
      "  \"the coef_ did not converge\", ConvergenceWarning)\n",
      "/anaconda3/lib/python3.6/site-packages/sklearn/model_selection/_validation.py:547: FitFailedWarning: Estimator fit failed. The score on this train-test partition for these parameters will be set to 0.000000. Details: \n",
      "ValueError: penalty='none' is not supported for the liblinear solver\n",
      "\n",
      "  FitFailedWarning)\n",
      "/anaconda3/lib/python3.6/site-packages/sklearn/linear_model/logistic.py:1510: UserWarning: Setting penalty='none' will ignore the C and l1_ratio parameters\n",
      "  \"Setting penalty='none' will ignore the C and l1_ratio \"\n"
     ]
    },
    {
     "name": "stdout",
     "output_type": "stream",
     "text": [
      "[CV]  C=0.1, class_weight=None, penalty=l2, solver=saga, score=0.844, total=  13.4s\n",
      "[CV] C=0.1, class_weight=None, penalty=none, solver=liblinear ........\n",
      "[CV]  C=0.1, class_weight=None, penalty=none, solver=liblinear, score=0.000, total=   0.0s\n",
      "[CV] C=0.1, class_weight=None, penalty=none, solver=liblinear ........\n",
      "[CV]  C=0.1, class_weight=None, penalty=none, solver=liblinear, score=0.000, total=   0.0s\n",
      "[CV] C=0.1, class_weight=None, penalty=none, solver=liblinear ........\n",
      "[CV]  C=0.1, class_weight=None, penalty=none, solver=liblinear, score=0.000, total=   0.0s\n",
      "[CV] C=0.1, class_weight=None, penalty=none, solver=newton-cg ........\n",
      "[CV]  C=0.1, class_weight=None, penalty=none, solver=newton-cg, score=0.845, total=   8.1s\n",
      "[CV] C=0.1, class_weight=None, penalty=none, solver=newton-cg ........\n"
     ]
    },
    {
     "name": "stderr",
     "output_type": "stream",
     "text": [
      "/anaconda3/lib/python3.6/site-packages/sklearn/linear_model/logistic.py:1510: UserWarning: Setting penalty='none' will ignore the C and l1_ratio parameters\n",
      "  \"Setting penalty='none' will ignore the C and l1_ratio \"\n"
     ]
    },
    {
     "name": "stdout",
     "output_type": "stream",
     "text": [
      "[CV]  C=0.1, class_weight=None, penalty=none, solver=newton-cg, score=0.843, total=  19.2s\n",
      "[CV] C=0.1, class_weight=None, penalty=none, solver=newton-cg ........\n"
     ]
    },
    {
     "name": "stderr",
     "output_type": "stream",
     "text": [
      "/anaconda3/lib/python3.6/site-packages/sklearn/linear_model/logistic.py:1510: UserWarning: Setting penalty='none' will ignore the C and l1_ratio parameters\n",
      "  \"Setting penalty='none' will ignore the C and l1_ratio \"\n"
     ]
    },
    {
     "name": "stdout",
     "output_type": "stream",
     "text": [
      "[CV]  C=0.1, class_weight=None, penalty=none, solver=newton-cg, score=0.844, total=  10.0s\n",
      "[CV] C=0.1, class_weight=None, penalty=none, solver=lbfgs ............\n"
     ]
    },
    {
     "name": "stderr",
     "output_type": "stream",
     "text": [
      "/anaconda3/lib/python3.6/site-packages/sklearn/linear_model/logistic.py:1510: UserWarning: Setting penalty='none' will ignore the C and l1_ratio parameters\n",
      "  \"Setting penalty='none' will ignore the C and l1_ratio \"\n"
     ]
    },
    {
     "name": "stdout",
     "output_type": "stream",
     "text": [
      "[CV]  C=0.1, class_weight=None, penalty=none, solver=lbfgs, score=0.845, total=   0.9s\n",
      "[CV] C=0.1, class_weight=None, penalty=none, solver=lbfgs ............\n"
     ]
    },
    {
     "name": "stderr",
     "output_type": "stream",
     "text": [
      "/anaconda3/lib/python3.6/site-packages/sklearn/linear_model/logistic.py:1510: UserWarning: Setting penalty='none' will ignore the C and l1_ratio parameters\n",
      "  \"Setting penalty='none' will ignore the C and l1_ratio \"\n"
     ]
    },
    {
     "name": "stdout",
     "output_type": "stream",
     "text": [
      "[CV]  C=0.1, class_weight=None, penalty=none, solver=lbfgs, score=0.843, total=   0.9s\n",
      "[CV] C=0.1, class_weight=None, penalty=none, solver=lbfgs ............\n"
     ]
    },
    {
     "name": "stderr",
     "output_type": "stream",
     "text": [
      "/anaconda3/lib/python3.6/site-packages/sklearn/linear_model/logistic.py:1510: UserWarning: Setting penalty='none' will ignore the C and l1_ratio parameters\n",
      "  \"Setting penalty='none' will ignore the C and l1_ratio \"\n"
     ]
    },
    {
     "name": "stdout",
     "output_type": "stream",
     "text": [
      "[CV]  C=0.1, class_weight=None, penalty=none, solver=lbfgs, score=0.844, total=   1.0s\n",
      "[CV] C=0.1, class_weight=None, penalty=none, solver=sag ..............\n"
     ]
    },
    {
     "name": "stderr",
     "output_type": "stream",
     "text": [
      "/anaconda3/lib/python3.6/site-packages/sklearn/linear_model/logistic.py:1510: UserWarning: Setting penalty='none' will ignore the C and l1_ratio parameters\n",
      "  \"Setting penalty='none' will ignore the C and l1_ratio \"\n",
      "/anaconda3/lib/python3.6/site-packages/sklearn/linear_model/sag.py:337: ConvergenceWarning: The max_iter was reached which means the coef_ did not converge\n",
      "  \"the coef_ did not converge\", ConvergenceWarning)\n",
      "/anaconda3/lib/python3.6/site-packages/sklearn/linear_model/logistic.py:1510: UserWarning: Setting penalty='none' will ignore the C and l1_ratio parameters\n",
      "  \"Setting penalty='none' will ignore the C and l1_ratio \"\n"
     ]
    },
    {
     "name": "stdout",
     "output_type": "stream",
     "text": [
      "[CV]  C=0.1, class_weight=None, penalty=none, solver=sag, score=0.845, total=  12.7s\n",
      "[CV] C=0.1, class_weight=None, penalty=none, solver=sag ..............\n"
     ]
    },
    {
     "name": "stderr",
     "output_type": "stream",
     "text": [
      "/anaconda3/lib/python3.6/site-packages/sklearn/linear_model/sag.py:337: ConvergenceWarning: The max_iter was reached which means the coef_ did not converge\n",
      "  \"the coef_ did not converge\", ConvergenceWarning)\n",
      "/anaconda3/lib/python3.6/site-packages/sklearn/linear_model/logistic.py:1510: UserWarning: Setting penalty='none' will ignore the C and l1_ratio parameters\n",
      "  \"Setting penalty='none' will ignore the C and l1_ratio \"\n"
     ]
    },
    {
     "name": "stdout",
     "output_type": "stream",
     "text": [
      "[CV]  C=0.1, class_weight=None, penalty=none, solver=sag, score=0.843, total=  12.9s\n",
      "[CV] C=0.1, class_weight=None, penalty=none, solver=sag ..............\n"
     ]
    },
    {
     "name": "stderr",
     "output_type": "stream",
     "text": [
      "/anaconda3/lib/python3.6/site-packages/sklearn/linear_model/sag.py:337: ConvergenceWarning: The max_iter was reached which means the coef_ did not converge\n",
      "  \"the coef_ did not converge\", ConvergenceWarning)\n",
      "/anaconda3/lib/python3.6/site-packages/sklearn/linear_model/logistic.py:1510: UserWarning: Setting penalty='none' will ignore the C and l1_ratio parameters\n",
      "  \"Setting penalty='none' will ignore the C and l1_ratio \"\n"
     ]
    },
    {
     "name": "stdout",
     "output_type": "stream",
     "text": [
      "[CV]  C=0.1, class_weight=None, penalty=none, solver=sag, score=0.844, total=  12.6s\n",
      "[CV] C=0.1, class_weight=None, penalty=none, solver=saga .............\n"
     ]
    },
    {
     "name": "stderr",
     "output_type": "stream",
     "text": [
      "/anaconda3/lib/python3.6/site-packages/sklearn/linear_model/sag.py:337: ConvergenceWarning: The max_iter was reached which means the coef_ did not converge\n",
      "  \"the coef_ did not converge\", ConvergenceWarning)\n",
      "/anaconda3/lib/python3.6/site-packages/sklearn/linear_model/logistic.py:1510: UserWarning: Setting penalty='none' will ignore the C and l1_ratio parameters\n",
      "  \"Setting penalty='none' will ignore the C and l1_ratio \"\n"
     ]
    },
    {
     "name": "stdout",
     "output_type": "stream",
     "text": [
      "[CV]  C=0.1, class_weight=None, penalty=none, solver=saga, score=0.845, total=  13.0s\n",
      "[CV] C=0.1, class_weight=None, penalty=none, solver=saga .............\n"
     ]
    },
    {
     "name": "stderr",
     "output_type": "stream",
     "text": [
      "/anaconda3/lib/python3.6/site-packages/sklearn/linear_model/sag.py:337: ConvergenceWarning: The max_iter was reached which means the coef_ did not converge\n",
      "  \"the coef_ did not converge\", ConvergenceWarning)\n",
      "/anaconda3/lib/python3.6/site-packages/sklearn/linear_model/logistic.py:1510: UserWarning: Setting penalty='none' will ignore the C and l1_ratio parameters\n",
      "  \"Setting penalty='none' will ignore the C and l1_ratio \"\n"
     ]
    },
    {
     "name": "stdout",
     "output_type": "stream",
     "text": [
      "[CV]  C=0.1, class_weight=None, penalty=none, solver=saga, score=0.843, total=  13.2s\n",
      "[CV] C=0.1, class_weight=None, penalty=none, solver=saga .............\n"
     ]
    },
    {
     "name": "stderr",
     "output_type": "stream",
     "text": [
      "/anaconda3/lib/python3.6/site-packages/sklearn/linear_model/sag.py:337: ConvergenceWarning: The max_iter was reached which means the coef_ did not converge\n",
      "  \"the coef_ did not converge\", ConvergenceWarning)\n"
     ]
    },
    {
     "name": "stdout",
     "output_type": "stream",
     "text": [
      "[CV]  C=0.1, class_weight=None, penalty=none, solver=saga, score=0.844, total=  13.2s\n",
      "[CV] C=0.1, class_weight=balanced, penalty=l1, solver=liblinear ......\n",
      "[CV]  C=0.1, class_weight=balanced, penalty=l1, solver=liblinear, score=0.639, total=   9.8s\n",
      "[CV] C=0.1, class_weight=balanced, penalty=l1, solver=liblinear ......\n",
      "[CV]  C=0.1, class_weight=balanced, penalty=l1, solver=liblinear, score=0.642, total=   8.6s\n",
      "[CV] C=0.1, class_weight=balanced, penalty=l1, solver=liblinear ......\n",
      "[CV]  C=0.1, class_weight=balanced, penalty=l1, solver=liblinear, score=0.645, total=   7.8s\n",
      "[CV] C=0.1, class_weight=balanced, penalty=l1, solver=newton-cg ......\n",
      "[CV]  C=0.1, class_weight=balanced, penalty=l1, solver=newton-cg, score=0.000, total=   0.0s\n",
      "[CV] C=0.1, class_weight=balanced, penalty=l1, solver=newton-cg ......\n",
      "[CV]  C=0.1, class_weight=balanced, penalty=l1, solver=newton-cg, score=0.000, total=   0.0s\n",
      "[CV] C=0.1, class_weight=balanced, penalty=l1, solver=newton-cg ......\n",
      "[CV]  C=0.1, class_weight=balanced, penalty=l1, solver=newton-cg, score=0.000, total=   0.0s\n",
      "[CV] C=0.1, class_weight=balanced, penalty=l1, solver=lbfgs ..........\n",
      "[CV]  C=0.1, class_weight=balanced, penalty=l1, solver=lbfgs, score=0.000, total=   0.0s\n",
      "[CV] C=0.1, class_weight=balanced, penalty=l1, solver=lbfgs ..........\n",
      "[CV]  C=0.1, class_weight=balanced, penalty=l1, solver=lbfgs, score=0.000, total=   0.0s\n",
      "[CV] C=0.1, class_weight=balanced, penalty=l1, solver=lbfgs ..........\n",
      "[CV]  C=0.1, class_weight=balanced, penalty=l1, solver=lbfgs, score=0.000, total=   0.0s\n",
      "[CV] C=0.1, class_weight=balanced, penalty=l1, solver=sag ............\n"
     ]
    },
    {
     "name": "stderr",
     "output_type": "stream",
     "text": [
      "/anaconda3/lib/python3.6/site-packages/sklearn/model_selection/_validation.py:547: FitFailedWarning: Estimator fit failed. The score on this train-test partition for these parameters will be set to 0.000000. Details: \n",
      "ValueError: Solver newton-cg supports only 'l2' or 'none' penalties, got l1 penalty.\n",
      "\n",
      "  FitFailedWarning)\n",
      "/anaconda3/lib/python3.6/site-packages/sklearn/model_selection/_validation.py:547: FitFailedWarning: Estimator fit failed. The score on this train-test partition for these parameters will be set to 0.000000. Details: \n",
      "ValueError: Solver lbfgs supports only 'l2' or 'none' penalties, got l1 penalty.\n",
      "\n",
      "  FitFailedWarning)\n",
      "/anaconda3/lib/python3.6/site-packages/sklearn/model_selection/_validation.py:547: FitFailedWarning: Estimator fit failed. The score on this train-test partition for these parameters will be set to 0.000000. Details: \n",
      "ValueError: Solver sag supports only 'l2' or 'none' penalties, got l1 penalty.\n",
      "\n",
      "  FitFailedWarning)\n"
     ]
    },
    {
     "name": "stdout",
     "output_type": "stream",
     "text": [
      "[CV]  C=0.1, class_weight=balanced, penalty=l1, solver=sag, score=0.000, total=   0.0s\n",
      "[CV] C=0.1, class_weight=balanced, penalty=l1, solver=sag ............\n",
      "[CV]  C=0.1, class_weight=balanced, penalty=l1, solver=sag, score=0.000, total=   0.0s\n",
      "[CV] C=0.1, class_weight=balanced, penalty=l1, solver=sag ............\n",
      "[CV]  C=0.1, class_weight=balanced, penalty=l1, solver=sag, score=0.000, total=   0.0s\n",
      "[CV] C=0.1, class_weight=balanced, penalty=l1, solver=saga ...........\n"
     ]
    },
    {
     "name": "stderr",
     "output_type": "stream",
     "text": [
      "/anaconda3/lib/python3.6/site-packages/sklearn/linear_model/sag.py:337: ConvergenceWarning: The max_iter was reached which means the coef_ did not converge\n",
      "  \"the coef_ did not converge\", ConvergenceWarning)\n"
     ]
    },
    {
     "name": "stdout",
     "output_type": "stream",
     "text": [
      "[CV]  C=0.1, class_weight=balanced, penalty=l1, solver=saga, score=0.640, total=  14.5s\n",
      "[CV] C=0.1, class_weight=balanced, penalty=l1, solver=saga ...........\n"
     ]
    },
    {
     "name": "stderr",
     "output_type": "stream",
     "text": [
      "/anaconda3/lib/python3.6/site-packages/sklearn/linear_model/sag.py:337: ConvergenceWarning: The max_iter was reached which means the coef_ did not converge\n",
      "  \"the coef_ did not converge\", ConvergenceWarning)\n"
     ]
    },
    {
     "name": "stdout",
     "output_type": "stream",
     "text": [
      "[CV]  C=0.1, class_weight=balanced, penalty=l1, solver=saga, score=0.642, total=  14.7s\n",
      "[CV] C=0.1, class_weight=balanced, penalty=l1, solver=saga ...........\n"
     ]
    },
    {
     "name": "stderr",
     "output_type": "stream",
     "text": [
      "/anaconda3/lib/python3.6/site-packages/sklearn/linear_model/sag.py:337: ConvergenceWarning: The max_iter was reached which means the coef_ did not converge\n",
      "  \"the coef_ did not converge\", ConvergenceWarning)\n"
     ]
    },
    {
     "name": "stdout",
     "output_type": "stream",
     "text": [
      "[CV]  C=0.1, class_weight=balanced, penalty=l1, solver=saga, score=0.645, total=  14.8s\n",
      "[CV] C=0.1, class_weight=balanced, penalty=l2, solver=liblinear ......\n",
      "[CV]  C=0.1, class_weight=balanced, penalty=l2, solver=liblinear, score=0.638, total=   2.7s\n",
      "[CV] C=0.1, class_weight=balanced, penalty=l2, solver=liblinear ......\n",
      "[CV]  C=0.1, class_weight=balanced, penalty=l2, solver=liblinear, score=0.642, total=   2.5s\n",
      "[CV] C=0.1, class_weight=balanced, penalty=l2, solver=liblinear ......\n",
      "[CV]  C=0.1, class_weight=balanced, penalty=l2, solver=liblinear, score=0.644, total=   3.0s\n",
      "[CV] C=0.1, class_weight=balanced, penalty=l2, solver=newton-cg ......\n",
      "[CV]  C=0.1, class_weight=balanced, penalty=l2, solver=newton-cg, score=0.638, total=   2.9s\n",
      "[CV] C=0.1, class_weight=balanced, penalty=l2, solver=newton-cg ......\n",
      "[CV]  C=0.1, class_weight=balanced, penalty=l2, solver=newton-cg, score=0.642, total=   3.3s\n",
      "[CV] C=0.1, class_weight=balanced, penalty=l2, solver=newton-cg ......\n",
      "[CV]  C=0.1, class_weight=balanced, penalty=l2, solver=newton-cg, score=0.644, total=   3.4s\n",
      "[CV] C=0.1, class_weight=balanced, penalty=l2, solver=lbfgs ..........\n",
      "[CV]  C=0.1, class_weight=balanced, penalty=l2, solver=lbfgs, score=0.638, total=   0.9s\n",
      "[CV] C=0.1, class_weight=balanced, penalty=l2, solver=lbfgs ..........\n",
      "[CV]  C=0.1, class_weight=balanced, penalty=l2, solver=lbfgs, score=0.642, total=   0.8s\n",
      "[CV] C=0.1, class_weight=balanced, penalty=l2, solver=lbfgs ..........\n",
      "[CV]  C=0.1, class_weight=balanced, penalty=l2, solver=lbfgs, score=0.644, total=   0.9s\n",
      "[CV] C=0.1, class_weight=balanced, penalty=l2, solver=sag ............\n"
     ]
    },
    {
     "name": "stderr",
     "output_type": "stream",
     "text": [
      "/anaconda3/lib/python3.6/site-packages/sklearn/linear_model/sag.py:337: ConvergenceWarning: The max_iter was reached which means the coef_ did not converge\n",
      "  \"the coef_ did not converge\", ConvergenceWarning)\n"
     ]
    },
    {
     "name": "stdout",
     "output_type": "stream",
     "text": [
      "[CV]  C=0.1, class_weight=balanced, penalty=l2, solver=sag, score=0.638, total=  12.6s\n",
      "[CV] C=0.1, class_weight=balanced, penalty=l2, solver=sag ............\n"
     ]
    },
    {
     "name": "stderr",
     "output_type": "stream",
     "text": [
      "/anaconda3/lib/python3.6/site-packages/sklearn/linear_model/sag.py:337: ConvergenceWarning: The max_iter was reached which means the coef_ did not converge\n",
      "  \"the coef_ did not converge\", ConvergenceWarning)\n"
     ]
    },
    {
     "name": "stdout",
     "output_type": "stream",
     "text": [
      "[CV]  C=0.1, class_weight=balanced, penalty=l2, solver=sag, score=0.642, total=  12.4s\n",
      "[CV] C=0.1, class_weight=balanced, penalty=l2, solver=sag ............\n"
     ]
    },
    {
     "name": "stderr",
     "output_type": "stream",
     "text": [
      "/anaconda3/lib/python3.6/site-packages/sklearn/linear_model/sag.py:337: ConvergenceWarning: The max_iter was reached which means the coef_ did not converge\n",
      "  \"the coef_ did not converge\", ConvergenceWarning)\n"
     ]
    },
    {
     "name": "stdout",
     "output_type": "stream",
     "text": [
      "[CV]  C=0.1, class_weight=balanced, penalty=l2, solver=sag, score=0.644, total=  12.6s\n",
      "[CV] C=0.1, class_weight=balanced, penalty=l2, solver=saga ...........\n"
     ]
    },
    {
     "name": "stderr",
     "output_type": "stream",
     "text": [
      "/anaconda3/lib/python3.6/site-packages/sklearn/linear_model/sag.py:337: ConvergenceWarning: The max_iter was reached which means the coef_ did not converge\n",
      "  \"the coef_ did not converge\", ConvergenceWarning)\n"
     ]
    },
    {
     "name": "stdout",
     "output_type": "stream",
     "text": [
      "[CV]  C=0.1, class_weight=balanced, penalty=l2, solver=saga, score=0.638, total=  13.0s\n",
      "[CV] C=0.1, class_weight=balanced, penalty=l2, solver=saga ...........\n"
     ]
    },
    {
     "name": "stderr",
     "output_type": "stream",
     "text": [
      "/anaconda3/lib/python3.6/site-packages/sklearn/linear_model/sag.py:337: ConvergenceWarning: The max_iter was reached which means the coef_ did not converge\n",
      "  \"the coef_ did not converge\", ConvergenceWarning)\n"
     ]
    },
    {
     "name": "stdout",
     "output_type": "stream",
     "text": [
      "[CV]  C=0.1, class_weight=balanced, penalty=l2, solver=saga, score=0.643, total=  13.2s\n",
      "[CV] C=0.1, class_weight=balanced, penalty=l2, solver=saga ...........\n"
     ]
    },
    {
     "name": "stderr",
     "output_type": "stream",
     "text": [
      "/anaconda3/lib/python3.6/site-packages/sklearn/linear_model/sag.py:337: ConvergenceWarning: The max_iter was reached which means the coef_ did not converge\n",
      "  \"the coef_ did not converge\", ConvergenceWarning)\n",
      "/anaconda3/lib/python3.6/site-packages/sklearn/model_selection/_validation.py:547: FitFailedWarning: Estimator fit failed. The score on this train-test partition for these parameters will be set to 0.000000. Details: \n",
      "ValueError: penalty='none' is not supported for the liblinear solver\n",
      "\n",
      "  FitFailedWarning)\n",
      "/anaconda3/lib/python3.6/site-packages/sklearn/linear_model/logistic.py:1510: UserWarning: Setting penalty='none' will ignore the C and l1_ratio parameters\n",
      "  \"Setting penalty='none' will ignore the C and l1_ratio \"\n"
     ]
    },
    {
     "name": "stdout",
     "output_type": "stream",
     "text": [
      "[CV]  C=0.1, class_weight=balanced, penalty=l2, solver=saga, score=0.644, total=  13.0s\n",
      "[CV] C=0.1, class_weight=balanced, penalty=none, solver=liblinear ....\n",
      "[CV]  C=0.1, class_weight=balanced, penalty=none, solver=liblinear, score=0.000, total=   0.0s\n",
      "[CV] C=0.1, class_weight=balanced, penalty=none, solver=liblinear ....\n",
      "[CV]  C=0.1, class_weight=balanced, penalty=none, solver=liblinear, score=0.000, total=   0.0s\n",
      "[CV] C=0.1, class_weight=balanced, penalty=none, solver=liblinear ....\n",
      "[CV]  C=0.1, class_weight=balanced, penalty=none, solver=liblinear, score=0.000, total=   0.0s\n",
      "[CV] C=0.1, class_weight=balanced, penalty=none, solver=newton-cg ....\n",
      "[CV]  C=0.1, class_weight=balanced, penalty=none, solver=newton-cg, score=0.637, total=   7.2s\n",
      "[CV] C=0.1, class_weight=balanced, penalty=none, solver=newton-cg ....\n"
     ]
    },
    {
     "name": "stderr",
     "output_type": "stream",
     "text": [
      "/anaconda3/lib/python3.6/site-packages/sklearn/linear_model/logistic.py:1510: UserWarning: Setting penalty='none' will ignore the C and l1_ratio parameters\n",
      "  \"Setting penalty='none' will ignore the C and l1_ratio \"\n"
     ]
    },
    {
     "name": "stdout",
     "output_type": "stream",
     "text": [
      "[CV]  C=0.1, class_weight=balanced, penalty=none, solver=newton-cg, score=0.642, total=  23.8s\n",
      "[CV] C=0.1, class_weight=balanced, penalty=none, solver=newton-cg ....\n"
     ]
    },
    {
     "name": "stderr",
     "output_type": "stream",
     "text": [
      "/anaconda3/lib/python3.6/site-packages/sklearn/linear_model/logistic.py:1510: UserWarning: Setting penalty='none' will ignore the C and l1_ratio parameters\n",
      "  \"Setting penalty='none' will ignore the C and l1_ratio \"\n"
     ]
    },
    {
     "name": "stdout",
     "output_type": "stream",
     "text": [
      "[CV]  C=0.1, class_weight=balanced, penalty=none, solver=newton-cg, score=0.643, total=   8.2s\n",
      "[CV] C=0.1, class_weight=balanced, penalty=none, solver=lbfgs ........\n"
     ]
    },
    {
     "name": "stderr",
     "output_type": "stream",
     "text": [
      "/anaconda3/lib/python3.6/site-packages/sklearn/linear_model/logistic.py:1510: UserWarning: Setting penalty='none' will ignore the C and l1_ratio parameters\n",
      "  \"Setting penalty='none' will ignore the C and l1_ratio \"\n"
     ]
    },
    {
     "name": "stdout",
     "output_type": "stream",
     "text": [
      "[CV]  C=0.1, class_weight=balanced, penalty=none, solver=lbfgs, score=0.637, total=   1.0s\n",
      "[CV] C=0.1, class_weight=balanced, penalty=none, solver=lbfgs ........\n"
     ]
    },
    {
     "name": "stderr",
     "output_type": "stream",
     "text": [
      "/anaconda3/lib/python3.6/site-packages/sklearn/linear_model/logistic.py:1510: UserWarning: Setting penalty='none' will ignore the C and l1_ratio parameters\n",
      "  \"Setting penalty='none' will ignore the C and l1_ratio \"\n"
     ]
    },
    {
     "name": "stdout",
     "output_type": "stream",
     "text": [
      "[CV]  C=0.1, class_weight=balanced, penalty=none, solver=lbfgs, score=0.642, total=   0.9s\n",
      "[CV] C=0.1, class_weight=balanced, penalty=none, solver=lbfgs ........\n"
     ]
    },
    {
     "name": "stderr",
     "output_type": "stream",
     "text": [
      "/anaconda3/lib/python3.6/site-packages/sklearn/linear_model/logistic.py:1510: UserWarning: Setting penalty='none' will ignore the C and l1_ratio parameters\n",
      "  \"Setting penalty='none' will ignore the C and l1_ratio \"\n"
     ]
    },
    {
     "name": "stdout",
     "output_type": "stream",
     "text": [
      "[CV]  C=0.1, class_weight=balanced, penalty=none, solver=lbfgs, score=0.643, total=   1.0s\n",
      "[CV] C=0.1, class_weight=balanced, penalty=none, solver=sag ..........\n"
     ]
    },
    {
     "name": "stderr",
     "output_type": "stream",
     "text": [
      "/anaconda3/lib/python3.6/site-packages/sklearn/linear_model/logistic.py:1510: UserWarning: Setting penalty='none' will ignore the C and l1_ratio parameters\n",
      "  \"Setting penalty='none' will ignore the C and l1_ratio \"\n",
      "/anaconda3/lib/python3.6/site-packages/sklearn/linear_model/sag.py:337: ConvergenceWarning: The max_iter was reached which means the coef_ did not converge\n",
      "  \"the coef_ did not converge\", ConvergenceWarning)\n",
      "/anaconda3/lib/python3.6/site-packages/sklearn/linear_model/logistic.py:1510: UserWarning: Setting penalty='none' will ignore the C and l1_ratio parameters\n",
      "  \"Setting penalty='none' will ignore the C and l1_ratio \"\n"
     ]
    },
    {
     "name": "stdout",
     "output_type": "stream",
     "text": [
      "[CV]  C=0.1, class_weight=balanced, penalty=none, solver=sag, score=0.637, total=  12.6s\n",
      "[CV] C=0.1, class_weight=balanced, penalty=none, solver=sag ..........\n"
     ]
    },
    {
     "name": "stderr",
     "output_type": "stream",
     "text": [
      "/anaconda3/lib/python3.6/site-packages/sklearn/linear_model/sag.py:337: ConvergenceWarning: The max_iter was reached which means the coef_ did not converge\n",
      "  \"the coef_ did not converge\", ConvergenceWarning)\n",
      "/anaconda3/lib/python3.6/site-packages/sklearn/linear_model/logistic.py:1510: UserWarning: Setting penalty='none' will ignore the C and l1_ratio parameters\n",
      "  \"Setting penalty='none' will ignore the C and l1_ratio \"\n"
     ]
    },
    {
     "name": "stdout",
     "output_type": "stream",
     "text": [
      "[CV]  C=0.1, class_weight=balanced, penalty=none, solver=sag, score=0.642, total=  12.7s\n",
      "[CV] C=0.1, class_weight=balanced, penalty=none, solver=sag ..........\n"
     ]
    },
    {
     "name": "stderr",
     "output_type": "stream",
     "text": [
      "/anaconda3/lib/python3.6/site-packages/sklearn/linear_model/sag.py:337: ConvergenceWarning: The max_iter was reached which means the coef_ did not converge\n",
      "  \"the coef_ did not converge\", ConvergenceWarning)\n",
      "/anaconda3/lib/python3.6/site-packages/sklearn/linear_model/logistic.py:1510: UserWarning: Setting penalty='none' will ignore the C and l1_ratio parameters\n",
      "  \"Setting penalty='none' will ignore the C and l1_ratio \"\n"
     ]
    },
    {
     "name": "stdout",
     "output_type": "stream",
     "text": [
      "[CV]  C=0.1, class_weight=balanced, penalty=none, solver=sag, score=0.643, total=  12.6s\n",
      "[CV] C=0.1, class_weight=balanced, penalty=none, solver=saga .........\n"
     ]
    },
    {
     "name": "stderr",
     "output_type": "stream",
     "text": [
      "/anaconda3/lib/python3.6/site-packages/sklearn/linear_model/sag.py:337: ConvergenceWarning: The max_iter was reached which means the coef_ did not converge\n",
      "  \"the coef_ did not converge\", ConvergenceWarning)\n",
      "/anaconda3/lib/python3.6/site-packages/sklearn/linear_model/logistic.py:1510: UserWarning: Setting penalty='none' will ignore the C and l1_ratio parameters\n",
      "  \"Setting penalty='none' will ignore the C and l1_ratio \"\n"
     ]
    },
    {
     "name": "stdout",
     "output_type": "stream",
     "text": [
      "[CV]  C=0.1, class_weight=balanced, penalty=none, solver=saga, score=0.638, total=  13.2s\n",
      "[CV] C=0.1, class_weight=balanced, penalty=none, solver=saga .........\n"
     ]
    },
    {
     "name": "stderr",
     "output_type": "stream",
     "text": [
      "/anaconda3/lib/python3.6/site-packages/sklearn/linear_model/sag.py:337: ConvergenceWarning: The max_iter was reached which means the coef_ did not converge\n",
      "  \"the coef_ did not converge\", ConvergenceWarning)\n",
      "/anaconda3/lib/python3.6/site-packages/sklearn/linear_model/logistic.py:1510: UserWarning: Setting penalty='none' will ignore the C and l1_ratio parameters\n",
      "  \"Setting penalty='none' will ignore the C and l1_ratio \"\n"
     ]
    },
    {
     "name": "stdout",
     "output_type": "stream",
     "text": [
      "[CV]  C=0.1, class_weight=balanced, penalty=none, solver=saga, score=0.642, total=  13.0s\n",
      "[CV] C=0.1, class_weight=balanced, penalty=none, solver=saga .........\n"
     ]
    },
    {
     "name": "stderr",
     "output_type": "stream",
     "text": [
      "/anaconda3/lib/python3.6/site-packages/sklearn/linear_model/sag.py:337: ConvergenceWarning: The max_iter was reached which means the coef_ did not converge\n",
      "  \"the coef_ did not converge\", ConvergenceWarning)\n"
     ]
    },
    {
     "name": "stdout",
     "output_type": "stream",
     "text": [
      "[CV]  C=0.1, class_weight=balanced, penalty=none, solver=saga, score=0.644, total=  12.9s\n",
      "[CV] C=1, class_weight=None, penalty=l1, solver=liblinear ............\n",
      "[CV]  C=1, class_weight=None, penalty=l1, solver=liblinear, score=0.845, total=  12.3s\n",
      "[CV] C=1, class_weight=None, penalty=l1, solver=liblinear ............\n",
      "[CV]  C=1, class_weight=None, penalty=l1, solver=liblinear, score=0.843, total=  11.4s\n",
      "[CV] C=1, class_weight=None, penalty=l1, solver=liblinear ............\n",
      "[CV]  C=1, class_weight=None, penalty=l1, solver=liblinear, score=0.844, total=  10.1s\n",
      "[CV] C=1, class_weight=None, penalty=l1, solver=newton-cg ............\n",
      "[CV]  C=1, class_weight=None, penalty=l1, solver=newton-cg, score=0.000, total=   0.0s\n",
      "[CV] C=1, class_weight=None, penalty=l1, solver=newton-cg ............\n",
      "[CV]  C=1, class_weight=None, penalty=l1, solver=newton-cg, score=0.000, total=   0.0s\n",
      "[CV] C=1, class_weight=None, penalty=l1, solver=newton-cg ............\n",
      "[CV]  C=1, class_weight=None, penalty=l1, solver=newton-cg, score=0.000, total=   0.0s\n",
      "[CV] C=1, class_weight=None, penalty=l1, solver=lbfgs ................\n",
      "[CV]  C=1, class_weight=None, penalty=l1, solver=lbfgs, score=0.000, total=   0.0s\n",
      "[CV] C=1, class_weight=None, penalty=l1, solver=lbfgs ................\n",
      "[CV]  C=1, class_weight=None, penalty=l1, solver=lbfgs, score=0.000, total=   0.0s\n",
      "[CV] C=1, class_weight=None, penalty=l1, solver=lbfgs ................\n",
      "[CV]  C=1, class_weight=None, penalty=l1, solver=lbfgs, score=0.000, total=   0.0s\n",
      "[CV] C=1, class_weight=None, penalty=l1, solver=sag ..................\n",
      "[CV]  C=1, class_weight=None, penalty=l1, solver=sag, score=0.000, total=   0.0s\n",
      "[CV] C=1, class_weight=None, penalty=l1, solver=sag ..................\n"
     ]
    },
    {
     "name": "stderr",
     "output_type": "stream",
     "text": [
      "/anaconda3/lib/python3.6/site-packages/sklearn/model_selection/_validation.py:547: FitFailedWarning: Estimator fit failed. The score on this train-test partition for these parameters will be set to 0.000000. Details: \n",
      "ValueError: Solver newton-cg supports only 'l2' or 'none' penalties, got l1 penalty.\n",
      "\n",
      "  FitFailedWarning)\n",
      "/anaconda3/lib/python3.6/site-packages/sklearn/model_selection/_validation.py:547: FitFailedWarning: Estimator fit failed. The score on this train-test partition for these parameters will be set to 0.000000. Details: \n",
      "ValueError: Solver lbfgs supports only 'l2' or 'none' penalties, got l1 penalty.\n",
      "\n",
      "  FitFailedWarning)\n",
      "/anaconda3/lib/python3.6/site-packages/sklearn/model_selection/_validation.py:547: FitFailedWarning: Estimator fit failed. The score on this train-test partition for these parameters will be set to 0.000000. Details: \n",
      "ValueError: Solver sag supports only 'l2' or 'none' penalties, got l1 penalty.\n",
      "\n",
      "  FitFailedWarning)\n"
     ]
    },
    {
     "name": "stdout",
     "output_type": "stream",
     "text": [
      "[CV]  C=1, class_weight=None, penalty=l1, solver=sag, score=0.000, total=   0.0s\n",
      "[CV] C=1, class_weight=None, penalty=l1, solver=sag ..................\n",
      "[CV]  C=1, class_weight=None, penalty=l1, solver=sag, score=0.000, total=   0.0s\n",
      "[CV] C=1, class_weight=None, penalty=l1, solver=saga .................\n"
     ]
    },
    {
     "name": "stderr",
     "output_type": "stream",
     "text": [
      "/anaconda3/lib/python3.6/site-packages/sklearn/linear_model/sag.py:337: ConvergenceWarning: The max_iter was reached which means the coef_ did not converge\n",
      "  \"the coef_ did not converge\", ConvergenceWarning)\n"
     ]
    },
    {
     "name": "stdout",
     "output_type": "stream",
     "text": [
      "[CV]  C=1, class_weight=None, penalty=l1, solver=saga, score=0.845, total=  15.2s\n",
      "[CV] C=1, class_weight=None, penalty=l1, solver=saga .................\n"
     ]
    },
    {
     "name": "stderr",
     "output_type": "stream",
     "text": [
      "/anaconda3/lib/python3.6/site-packages/sklearn/linear_model/sag.py:337: ConvergenceWarning: The max_iter was reached which means the coef_ did not converge\n",
      "  \"the coef_ did not converge\", ConvergenceWarning)\n"
     ]
    },
    {
     "name": "stdout",
     "output_type": "stream",
     "text": [
      "[CV]  C=1, class_weight=None, penalty=l1, solver=saga, score=0.843, total=  15.0s\n",
      "[CV] C=1, class_weight=None, penalty=l1, solver=saga .................\n"
     ]
    },
    {
     "name": "stderr",
     "output_type": "stream",
     "text": [
      "/anaconda3/lib/python3.6/site-packages/sklearn/linear_model/sag.py:337: ConvergenceWarning: The max_iter was reached which means the coef_ did not converge\n",
      "  \"the coef_ did not converge\", ConvergenceWarning)\n"
     ]
    },
    {
     "name": "stdout",
     "output_type": "stream",
     "text": [
      "[CV]  C=1, class_weight=None, penalty=l1, solver=saga, score=0.844, total=  15.2s\n",
      "[CV] C=1, class_weight=None, penalty=l2, solver=liblinear ............\n",
      "[CV]  C=1, class_weight=None, penalty=l2, solver=liblinear, score=0.845, total=   2.7s\n",
      "[CV] C=1, class_weight=None, penalty=l2, solver=liblinear ............\n",
      "[CV]  C=1, class_weight=None, penalty=l2, solver=liblinear, score=0.843, total=   2.9s\n",
      "[CV] C=1, class_weight=None, penalty=l2, solver=liblinear ............\n",
      "[CV]  C=1, class_weight=None, penalty=l2, solver=liblinear, score=0.844, total=   2.9s\n",
      "[CV] C=1, class_weight=None, penalty=l2, solver=newton-cg ............\n",
      "[CV]  C=1, class_weight=None, penalty=l2, solver=newton-cg, score=0.845, total=   4.0s\n",
      "[CV] C=1, class_weight=None, penalty=l2, solver=newton-cg ............\n",
      "[CV]  C=1, class_weight=None, penalty=l2, solver=newton-cg, score=0.843, total=   4.0s\n",
      "[CV] C=1, class_weight=None, penalty=l2, solver=newton-cg ............\n",
      "[CV]  C=1, class_weight=None, penalty=l2, solver=newton-cg, score=0.844, total=   3.7s\n",
      "[CV] C=1, class_weight=None, penalty=l2, solver=lbfgs ................\n",
      "[CV]  C=1, class_weight=None, penalty=l2, solver=lbfgs, score=0.845, total=   0.9s\n",
      "[CV] C=1, class_weight=None, penalty=l2, solver=lbfgs ................\n",
      "[CV]  C=1, class_weight=None, penalty=l2, solver=lbfgs, score=0.843, total=   0.9s\n",
      "[CV] C=1, class_weight=None, penalty=l2, solver=lbfgs ................\n",
      "[CV]  C=1, class_weight=None, penalty=l2, solver=lbfgs, score=0.844, total=   1.0s\n",
      "[CV] C=1, class_weight=None, penalty=l2, solver=sag ..................\n"
     ]
    },
    {
     "name": "stderr",
     "output_type": "stream",
     "text": [
      "/anaconda3/lib/python3.6/site-packages/sklearn/linear_model/sag.py:337: ConvergenceWarning: The max_iter was reached which means the coef_ did not converge\n",
      "  \"the coef_ did not converge\", ConvergenceWarning)\n"
     ]
    },
    {
     "name": "stdout",
     "output_type": "stream",
     "text": [
      "[CV]  C=1, class_weight=None, penalty=l2, solver=sag, score=0.845, total=  12.7s\n",
      "[CV] C=1, class_weight=None, penalty=l2, solver=sag ..................\n"
     ]
    },
    {
     "name": "stderr",
     "output_type": "stream",
     "text": [
      "/anaconda3/lib/python3.6/site-packages/sklearn/linear_model/sag.py:337: ConvergenceWarning: The max_iter was reached which means the coef_ did not converge\n",
      "  \"the coef_ did not converge\", ConvergenceWarning)\n"
     ]
    },
    {
     "name": "stdout",
     "output_type": "stream",
     "text": [
      "[CV]  C=1, class_weight=None, penalty=l2, solver=sag, score=0.843, total=  12.6s\n",
      "[CV] C=1, class_weight=None, penalty=l2, solver=sag ..................\n"
     ]
    },
    {
     "name": "stderr",
     "output_type": "stream",
     "text": [
      "/anaconda3/lib/python3.6/site-packages/sklearn/linear_model/sag.py:337: ConvergenceWarning: The max_iter was reached which means the coef_ did not converge\n",
      "  \"the coef_ did not converge\", ConvergenceWarning)\n"
     ]
    },
    {
     "name": "stdout",
     "output_type": "stream",
     "text": [
      "[CV]  C=1, class_weight=None, penalty=l2, solver=sag, score=0.844, total=  12.5s\n",
      "[CV] C=1, class_weight=None, penalty=l2, solver=saga .................\n"
     ]
    },
    {
     "name": "stderr",
     "output_type": "stream",
     "text": [
      "/anaconda3/lib/python3.6/site-packages/sklearn/linear_model/sag.py:337: ConvergenceWarning: The max_iter was reached which means the coef_ did not converge\n",
      "  \"the coef_ did not converge\", ConvergenceWarning)\n"
     ]
    },
    {
     "name": "stdout",
     "output_type": "stream",
     "text": [
      "[CV]  C=1, class_weight=None, penalty=l2, solver=saga, score=0.845, total=  13.1s\n",
      "[CV] C=1, class_weight=None, penalty=l2, solver=saga .................\n"
     ]
    },
    {
     "name": "stderr",
     "output_type": "stream",
     "text": [
      "/anaconda3/lib/python3.6/site-packages/sklearn/linear_model/sag.py:337: ConvergenceWarning: The max_iter was reached which means the coef_ did not converge\n",
      "  \"the coef_ did not converge\", ConvergenceWarning)\n"
     ]
    },
    {
     "name": "stdout",
     "output_type": "stream",
     "text": [
      "[CV]  C=1, class_weight=None, penalty=l2, solver=saga, score=0.843, total=  13.2s\n",
      "[CV] C=1, class_weight=None, penalty=l2, solver=saga .................\n"
     ]
    },
    {
     "name": "stderr",
     "output_type": "stream",
     "text": [
      "/anaconda3/lib/python3.6/site-packages/sklearn/linear_model/sag.py:337: ConvergenceWarning: The max_iter was reached which means the coef_ did not converge\n",
      "  \"the coef_ did not converge\", ConvergenceWarning)\n",
      "/anaconda3/lib/python3.6/site-packages/sklearn/model_selection/_validation.py:547: FitFailedWarning: Estimator fit failed. The score on this train-test partition for these parameters will be set to 0.000000. Details: \n",
      "ValueError: penalty='none' is not supported for the liblinear solver\n",
      "\n",
      "  FitFailedWarning)\n"
     ]
    },
    {
     "name": "stdout",
     "output_type": "stream",
     "text": [
      "[CV]  C=1, class_weight=None, penalty=l2, solver=saga, score=0.844, total=  13.5s\n",
      "[CV] C=1, class_weight=None, penalty=none, solver=liblinear ..........\n",
      "[CV]  C=1, class_weight=None, penalty=none, solver=liblinear, score=0.000, total=   0.0s\n",
      "[CV] C=1, class_weight=None, penalty=none, solver=liblinear ..........\n",
      "[CV]  C=1, class_weight=None, penalty=none, solver=liblinear, score=0.000, total=   0.0s\n",
      "[CV] C=1, class_weight=None, penalty=none, solver=liblinear ..........\n",
      "[CV]  C=1, class_weight=None, penalty=none, solver=liblinear, score=0.000, total=   0.0s\n",
      "[CV] C=1, class_weight=None, penalty=none, solver=newton-cg ..........\n",
      "[CV]  C=1, class_weight=None, penalty=none, solver=newton-cg, score=0.845, total=   8.2s\n",
      "[CV] C=1, class_weight=None, penalty=none, solver=newton-cg ..........\n",
      "[CV]  C=1, class_weight=None, penalty=none, solver=newton-cg, score=0.843, total=  19.2s\n",
      "[CV] C=1, class_weight=None, penalty=none, solver=newton-cg ..........\n",
      "[CV]  C=1, class_weight=None, penalty=none, solver=newton-cg, score=0.844, total=  10.0s\n",
      "[CV] C=1, class_weight=None, penalty=none, solver=lbfgs ..............\n",
      "[CV]  C=1, class_weight=None, penalty=none, solver=lbfgs, score=0.845, total=   1.0s\n",
      "[CV] C=1, class_weight=None, penalty=none, solver=lbfgs ..............\n",
      "[CV]  C=1, class_weight=None, penalty=none, solver=lbfgs, score=0.843, total=   1.0s\n",
      "[CV] C=1, class_weight=None, penalty=none, solver=lbfgs ..............\n",
      "[CV]  C=1, class_weight=None, penalty=none, solver=lbfgs, score=0.844, total=   1.0s\n",
      "[CV] C=1, class_weight=None, penalty=none, solver=sag ................\n"
     ]
    },
    {
     "name": "stderr",
     "output_type": "stream",
     "text": [
      "/anaconda3/lib/python3.6/site-packages/sklearn/linear_model/sag.py:337: ConvergenceWarning: The max_iter was reached which means the coef_ did not converge\n",
      "  \"the coef_ did not converge\", ConvergenceWarning)\n"
     ]
    },
    {
     "name": "stdout",
     "output_type": "stream",
     "text": [
      "[CV]  C=1, class_weight=None, penalty=none, solver=sag, score=0.845, total=  14.3s\n",
      "[CV] C=1, class_weight=None, penalty=none, solver=sag ................\n"
     ]
    },
    {
     "name": "stderr",
     "output_type": "stream",
     "text": [
      "/anaconda3/lib/python3.6/site-packages/sklearn/linear_model/sag.py:337: ConvergenceWarning: The max_iter was reached which means the coef_ did not converge\n",
      "  \"the coef_ did not converge\", ConvergenceWarning)\n"
     ]
    },
    {
     "name": "stdout",
     "output_type": "stream",
     "text": [
      "[CV]  C=1, class_weight=None, penalty=none, solver=sag, score=0.843, total=  14.3s\n",
      "[CV] C=1, class_weight=None, penalty=none, solver=sag ................\n"
     ]
    },
    {
     "name": "stderr",
     "output_type": "stream",
     "text": [
      "/anaconda3/lib/python3.6/site-packages/sklearn/linear_model/sag.py:337: ConvergenceWarning: The max_iter was reached which means the coef_ did not converge\n",
      "  \"the coef_ did not converge\", ConvergenceWarning)\n"
     ]
    },
    {
     "name": "stdout",
     "output_type": "stream",
     "text": [
      "[CV]  C=1, class_weight=None, penalty=none, solver=sag, score=0.844, total=  14.5s\n",
      "[CV] C=1, class_weight=None, penalty=none, solver=saga ...............\n"
     ]
    },
    {
     "name": "stderr",
     "output_type": "stream",
     "text": [
      "/anaconda3/lib/python3.6/site-packages/sklearn/linear_model/sag.py:337: ConvergenceWarning: The max_iter was reached which means the coef_ did not converge\n",
      "  \"the coef_ did not converge\", ConvergenceWarning)\n"
     ]
    },
    {
     "name": "stdout",
     "output_type": "stream",
     "text": [
      "[CV]  C=1, class_weight=None, penalty=none, solver=saga, score=0.845, total=  14.6s\n",
      "[CV] C=1, class_weight=None, penalty=none, solver=saga ...............\n"
     ]
    },
    {
     "name": "stderr",
     "output_type": "stream",
     "text": [
      "/anaconda3/lib/python3.6/site-packages/sklearn/linear_model/sag.py:337: ConvergenceWarning: The max_iter was reached which means the coef_ did not converge\n",
      "  \"the coef_ did not converge\", ConvergenceWarning)\n"
     ]
    },
    {
     "name": "stdout",
     "output_type": "stream",
     "text": [
      "[CV]  C=1, class_weight=None, penalty=none, solver=saga, score=0.843, total=  14.6s\n",
      "[CV] C=1, class_weight=None, penalty=none, solver=saga ...............\n"
     ]
    },
    {
     "name": "stderr",
     "output_type": "stream",
     "text": [
      "/anaconda3/lib/python3.6/site-packages/sklearn/linear_model/sag.py:337: ConvergenceWarning: The max_iter was reached which means the coef_ did not converge\n",
      "  \"the coef_ did not converge\", ConvergenceWarning)\n"
     ]
    },
    {
     "name": "stdout",
     "output_type": "stream",
     "text": [
      "[CV]  C=1, class_weight=None, penalty=none, solver=saga, score=0.844, total=  14.5s\n",
      "[CV] C=1, class_weight=balanced, penalty=l1, solver=liblinear ........\n",
      "[CV]  C=1, class_weight=balanced, penalty=l1, solver=liblinear, score=0.638, total=   8.7s\n",
      "[CV] C=1, class_weight=balanced, penalty=l1, solver=liblinear ........\n",
      "[CV]  C=1, class_weight=balanced, penalty=l1, solver=liblinear, score=0.642, total=  48.9s\n",
      "[CV] C=1, class_weight=balanced, penalty=l1, solver=liblinear ........\n",
      "[CV]  C=1, class_weight=balanced, penalty=l1, solver=liblinear, score=0.643, total=  10.6s\n",
      "[CV] C=1, class_weight=balanced, penalty=l1, solver=newton-cg ........\n",
      "[CV]  C=1, class_weight=balanced, penalty=l1, solver=newton-cg, score=0.000, total=   0.0s\n",
      "[CV] C=1, class_weight=balanced, penalty=l1, solver=newton-cg ........\n",
      "[CV]  C=1, class_weight=balanced, penalty=l1, solver=newton-cg, score=0.000, total=   0.0s\n",
      "[CV] C=1, class_weight=balanced, penalty=l1, solver=newton-cg ........\n",
      "[CV]  C=1, class_weight=balanced, penalty=l1, solver=newton-cg, score=0.000, total=   0.0s\n",
      "[CV] C=1, class_weight=balanced, penalty=l1, solver=lbfgs ............\n",
      "[CV]  C=1, class_weight=balanced, penalty=l1, solver=lbfgs, score=0.000, total=   0.0s\n",
      "[CV] C=1, class_weight=balanced, penalty=l1, solver=lbfgs ............\n",
      "[CV]  C=1, class_weight=balanced, penalty=l1, solver=lbfgs, score=0.000, total=   0.0s\n",
      "[CV] C=1, class_weight=balanced, penalty=l1, solver=lbfgs ............\n",
      "[CV]  C=1, class_weight=balanced, penalty=l1, solver=lbfgs, score=0.000, total=   0.0s\n",
      "[CV] C=1, class_weight=balanced, penalty=l1, solver=sag ..............\n",
      "[CV]  C=1, class_weight=balanced, penalty=l1, solver=sag, score=0.000, total=   0.0s\n",
      "[CV] C=1, class_weight=balanced, penalty=l1, solver=sag ..............\n"
     ]
    },
    {
     "name": "stderr",
     "output_type": "stream",
     "text": [
      "/anaconda3/lib/python3.6/site-packages/sklearn/model_selection/_validation.py:547: FitFailedWarning: Estimator fit failed. The score on this train-test partition for these parameters will be set to 0.000000. Details: \n",
      "ValueError: Solver newton-cg supports only 'l2' or 'none' penalties, got l1 penalty.\n",
      "\n",
      "  FitFailedWarning)\n",
      "/anaconda3/lib/python3.6/site-packages/sklearn/model_selection/_validation.py:547: FitFailedWarning: Estimator fit failed. The score on this train-test partition for these parameters will be set to 0.000000. Details: \n",
      "ValueError: Solver lbfgs supports only 'l2' or 'none' penalties, got l1 penalty.\n",
      "\n",
      "  FitFailedWarning)\n",
      "/anaconda3/lib/python3.6/site-packages/sklearn/model_selection/_validation.py:547: FitFailedWarning: Estimator fit failed. The score on this train-test partition for these parameters will be set to 0.000000. Details: \n",
      "ValueError: Solver sag supports only 'l2' or 'none' penalties, got l1 penalty.\n",
      "\n",
      "  FitFailedWarning)\n"
     ]
    },
    {
     "name": "stdout",
     "output_type": "stream",
     "text": [
      "[CV]  C=1, class_weight=balanced, penalty=l1, solver=sag, score=0.000, total=   0.0s\n",
      "[CV] C=1, class_weight=balanced, penalty=l1, solver=sag ..............\n",
      "[CV]  C=1, class_weight=balanced, penalty=l1, solver=sag, score=0.000, total=   0.0s\n",
      "[CV] C=1, class_weight=balanced, penalty=l1, solver=saga .............\n"
     ]
    },
    {
     "name": "stderr",
     "output_type": "stream",
     "text": [
      "/anaconda3/lib/python3.6/site-packages/sklearn/linear_model/sag.py:337: ConvergenceWarning: The max_iter was reached which means the coef_ did not converge\n",
      "  \"the coef_ did not converge\", ConvergenceWarning)\n"
     ]
    },
    {
     "name": "stdout",
     "output_type": "stream",
     "text": [
      "[CV]  C=1, class_weight=balanced, penalty=l1, solver=saga, score=0.638, total=  15.4s\n",
      "[CV] C=1, class_weight=balanced, penalty=l1, solver=saga .............\n"
     ]
    },
    {
     "name": "stderr",
     "output_type": "stream",
     "text": [
      "/anaconda3/lib/python3.6/site-packages/sklearn/linear_model/sag.py:337: ConvergenceWarning: The max_iter was reached which means the coef_ did not converge\n",
      "  \"the coef_ did not converge\", ConvergenceWarning)\n"
     ]
    },
    {
     "name": "stdout",
     "output_type": "stream",
     "text": [
      "[CV]  C=1, class_weight=balanced, penalty=l1, solver=saga, score=0.642, total=  15.6s\n",
      "[CV] C=1, class_weight=balanced, penalty=l1, solver=saga .............\n"
     ]
    },
    {
     "name": "stderr",
     "output_type": "stream",
     "text": [
      "/anaconda3/lib/python3.6/site-packages/sklearn/linear_model/sag.py:337: ConvergenceWarning: The max_iter was reached which means the coef_ did not converge\n",
      "  \"the coef_ did not converge\", ConvergenceWarning)\n"
     ]
    },
    {
     "name": "stdout",
     "output_type": "stream",
     "text": [
      "[CV]  C=1, class_weight=balanced, penalty=l1, solver=saga, score=0.644, total=  15.6s\n",
      "[CV] C=1, class_weight=balanced, penalty=l2, solver=liblinear ........\n",
      "[CV]  C=1, class_weight=balanced, penalty=l2, solver=liblinear, score=0.637, total=   2.7s\n",
      "[CV] C=1, class_weight=balanced, penalty=l2, solver=liblinear ........\n",
      "[CV]  C=1, class_weight=balanced, penalty=l2, solver=liblinear, score=0.642, total=   3.3s\n",
      "[CV] C=1, class_weight=balanced, penalty=l2, solver=liblinear ........\n",
      "[CV]  C=1, class_weight=balanced, penalty=l2, solver=liblinear, score=0.643, total=   3.0s\n",
      "[CV] C=1, class_weight=balanced, penalty=l2, solver=newton-cg ........\n",
      "[CV]  C=1, class_weight=balanced, penalty=l2, solver=newton-cg, score=0.637, total=   3.5s\n",
      "[CV] C=1, class_weight=balanced, penalty=l2, solver=newton-cg ........\n",
      "[CV]  C=1, class_weight=balanced, penalty=l2, solver=newton-cg, score=0.642, total=   4.3s\n",
      "[CV] C=1, class_weight=balanced, penalty=l2, solver=newton-cg ........\n",
      "[CV]  C=1, class_weight=balanced, penalty=l2, solver=newton-cg, score=0.643, total=   3.6s\n",
      "[CV] C=1, class_weight=balanced, penalty=l2, solver=lbfgs ............\n",
      "[CV]  C=1, class_weight=balanced, penalty=l2, solver=lbfgs, score=0.637, total=   0.9s\n",
      "[CV] C=1, class_weight=balanced, penalty=l2, solver=lbfgs ............\n",
      "[CV]  C=1, class_weight=balanced, penalty=l2, solver=lbfgs, score=0.642, total=   0.9s\n",
      "[CV] C=1, class_weight=balanced, penalty=l2, solver=lbfgs ............\n",
      "[CV]  C=1, class_weight=balanced, penalty=l2, solver=lbfgs, score=0.643, total=   0.9s\n",
      "[CV] C=1, class_weight=balanced, penalty=l2, solver=sag ..............\n"
     ]
    },
    {
     "name": "stderr",
     "output_type": "stream",
     "text": [
      "/anaconda3/lib/python3.6/site-packages/sklearn/linear_model/sag.py:337: ConvergenceWarning: The max_iter was reached which means the coef_ did not converge\n",
      "  \"the coef_ did not converge\", ConvergenceWarning)\n"
     ]
    },
    {
     "name": "stdout",
     "output_type": "stream",
     "text": [
      "[CV]  C=1, class_weight=balanced, penalty=l2, solver=sag, score=0.637, total=  12.8s\n",
      "[CV] C=1, class_weight=balanced, penalty=l2, solver=sag ..............\n"
     ]
    },
    {
     "name": "stderr",
     "output_type": "stream",
     "text": [
      "/anaconda3/lib/python3.6/site-packages/sklearn/linear_model/sag.py:337: ConvergenceWarning: The max_iter was reached which means the coef_ did not converge\n",
      "  \"the coef_ did not converge\", ConvergenceWarning)\n"
     ]
    },
    {
     "name": "stdout",
     "output_type": "stream",
     "text": [
      "[CV]  C=1, class_weight=balanced, penalty=l2, solver=sag, score=0.642, total=  12.8s\n",
      "[CV] C=1, class_weight=balanced, penalty=l2, solver=sag ..............\n"
     ]
    },
    {
     "name": "stderr",
     "output_type": "stream",
     "text": [
      "/anaconda3/lib/python3.6/site-packages/sklearn/linear_model/sag.py:337: ConvergenceWarning: The max_iter was reached which means the coef_ did not converge\n",
      "  \"the coef_ did not converge\", ConvergenceWarning)\n"
     ]
    },
    {
     "name": "stdout",
     "output_type": "stream",
     "text": [
      "[CV]  C=1, class_weight=balanced, penalty=l2, solver=sag, score=0.643, total=  12.8s\n",
      "[CV] C=1, class_weight=balanced, penalty=l2, solver=saga .............\n"
     ]
    },
    {
     "name": "stderr",
     "output_type": "stream",
     "text": [
      "/anaconda3/lib/python3.6/site-packages/sklearn/linear_model/sag.py:337: ConvergenceWarning: The max_iter was reached which means the coef_ did not converge\n",
      "  \"the coef_ did not converge\", ConvergenceWarning)\n"
     ]
    },
    {
     "name": "stdout",
     "output_type": "stream",
     "text": [
      "[CV]  C=1, class_weight=balanced, penalty=l2, solver=saga, score=0.638, total=  13.2s\n",
      "[CV] C=1, class_weight=balanced, penalty=l2, solver=saga .............\n"
     ]
    },
    {
     "name": "stderr",
     "output_type": "stream",
     "text": [
      "/anaconda3/lib/python3.6/site-packages/sklearn/linear_model/sag.py:337: ConvergenceWarning: The max_iter was reached which means the coef_ did not converge\n",
      "  \"the coef_ did not converge\", ConvergenceWarning)\n"
     ]
    },
    {
     "name": "stdout",
     "output_type": "stream",
     "text": [
      "[CV]  C=1, class_weight=balanced, penalty=l2, solver=saga, score=0.642, total=  13.6s\n",
      "[CV] C=1, class_weight=balanced, penalty=l2, solver=saga .............\n"
     ]
    },
    {
     "name": "stderr",
     "output_type": "stream",
     "text": [
      "/anaconda3/lib/python3.6/site-packages/sklearn/linear_model/sag.py:337: ConvergenceWarning: The max_iter was reached which means the coef_ did not converge\n",
      "  \"the coef_ did not converge\", ConvergenceWarning)\n",
      "/anaconda3/lib/python3.6/site-packages/sklearn/model_selection/_validation.py:547: FitFailedWarning: Estimator fit failed. The score on this train-test partition for these parameters will be set to 0.000000. Details: \n",
      "ValueError: penalty='none' is not supported for the liblinear solver\n",
      "\n",
      "  FitFailedWarning)\n"
     ]
    },
    {
     "name": "stdout",
     "output_type": "stream",
     "text": [
      "[CV]  C=1, class_weight=balanced, penalty=l2, solver=saga, score=0.644, total=  13.4s\n",
      "[CV] C=1, class_weight=balanced, penalty=none, solver=liblinear ......\n",
      "[CV]  C=1, class_weight=balanced, penalty=none, solver=liblinear, score=0.000, total=   0.0s\n",
      "[CV] C=1, class_weight=balanced, penalty=none, solver=liblinear ......\n",
      "[CV]  C=1, class_weight=balanced, penalty=none, solver=liblinear, score=0.000, total=   0.0s\n",
      "[CV] C=1, class_weight=balanced, penalty=none, solver=liblinear ......\n",
      "[CV]  C=1, class_weight=balanced, penalty=none, solver=liblinear, score=0.000, total=   0.0s\n",
      "[CV] C=1, class_weight=balanced, penalty=none, solver=newton-cg ......\n",
      "[CV]  C=1, class_weight=balanced, penalty=none, solver=newton-cg, score=0.637, total=   6.2s\n",
      "[CV] C=1, class_weight=balanced, penalty=none, solver=newton-cg ......\n",
      "[CV]  C=1, class_weight=balanced, penalty=none, solver=newton-cg, score=0.642, total=  22.2s\n",
      "[CV] C=1, class_weight=balanced, penalty=none, solver=newton-cg ......\n",
      "[CV]  C=1, class_weight=balanced, penalty=none, solver=newton-cg, score=0.643, total=   7.8s\n",
      "[CV] C=1, class_weight=balanced, penalty=none, solver=lbfgs ..........\n",
      "[CV]  C=1, class_weight=balanced, penalty=none, solver=lbfgs, score=0.637, total=   1.0s\n",
      "[CV] C=1, class_weight=balanced, penalty=none, solver=lbfgs ..........\n",
      "[CV]  C=1, class_weight=balanced, penalty=none, solver=lbfgs, score=0.642, total=   1.0s\n",
      "[CV] C=1, class_weight=balanced, penalty=none, solver=lbfgs ..........\n",
      "[CV]  C=1, class_weight=balanced, penalty=none, solver=lbfgs, score=0.643, total=   1.1s\n",
      "[CV] C=1, class_weight=balanced, penalty=none, solver=sag ............\n"
     ]
    },
    {
     "name": "stderr",
     "output_type": "stream",
     "text": [
      "/anaconda3/lib/python3.6/site-packages/sklearn/linear_model/sag.py:337: ConvergenceWarning: The max_iter was reached which means the coef_ did not converge\n",
      "  \"the coef_ did not converge\", ConvergenceWarning)\n"
     ]
    },
    {
     "name": "stdout",
     "output_type": "stream",
     "text": [
      "[CV]  C=1, class_weight=balanced, penalty=none, solver=sag, score=0.637, total=  13.7s\n",
      "[CV] C=1, class_weight=balanced, penalty=none, solver=sag ............\n"
     ]
    },
    {
     "name": "stderr",
     "output_type": "stream",
     "text": [
      "/anaconda3/lib/python3.6/site-packages/sklearn/linear_model/sag.py:337: ConvergenceWarning: The max_iter was reached which means the coef_ did not converge\n",
      "  \"the coef_ did not converge\", ConvergenceWarning)\n"
     ]
    },
    {
     "name": "stdout",
     "output_type": "stream",
     "text": [
      "[CV]  C=1, class_weight=balanced, penalty=none, solver=sag, score=0.642, total=  12.6s\n",
      "[CV] C=1, class_weight=balanced, penalty=none, solver=sag ............\n"
     ]
    },
    {
     "name": "stderr",
     "output_type": "stream",
     "text": [
      "/anaconda3/lib/python3.6/site-packages/sklearn/linear_model/sag.py:337: ConvergenceWarning: The max_iter was reached which means the coef_ did not converge\n",
      "  \"the coef_ did not converge\", ConvergenceWarning)\n"
     ]
    },
    {
     "name": "stdout",
     "output_type": "stream",
     "text": [
      "[CV]  C=1, class_weight=balanced, penalty=none, solver=sag, score=0.643, total=  12.4s\n",
      "[CV] C=1, class_weight=balanced, penalty=none, solver=saga ...........\n"
     ]
    },
    {
     "name": "stderr",
     "output_type": "stream",
     "text": [
      "/anaconda3/lib/python3.6/site-packages/sklearn/linear_model/sag.py:337: ConvergenceWarning: The max_iter was reached which means the coef_ did not converge\n",
      "  \"the coef_ did not converge\", ConvergenceWarning)\n"
     ]
    },
    {
     "name": "stdout",
     "output_type": "stream",
     "text": [
      "[CV]  C=1, class_weight=balanced, penalty=none, solver=saga, score=0.638, total=  12.7s\n",
      "[CV] C=1, class_weight=balanced, penalty=none, solver=saga ...........\n"
     ]
    },
    {
     "name": "stderr",
     "output_type": "stream",
     "text": [
      "/anaconda3/lib/python3.6/site-packages/sklearn/linear_model/sag.py:337: ConvergenceWarning: The max_iter was reached which means the coef_ did not converge\n",
      "  \"the coef_ did not converge\", ConvergenceWarning)\n"
     ]
    },
    {
     "name": "stdout",
     "output_type": "stream",
     "text": [
      "[CV]  C=1, class_weight=balanced, penalty=none, solver=saga, score=0.642, total=  13.3s\n",
      "[CV] C=1, class_weight=balanced, penalty=none, solver=saga ...........\n"
     ]
    },
    {
     "name": "stderr",
     "output_type": "stream",
     "text": [
      "/anaconda3/lib/python3.6/site-packages/sklearn/linear_model/sag.py:337: ConvergenceWarning: The max_iter was reached which means the coef_ did not converge\n",
      "  \"the coef_ did not converge\", ConvergenceWarning)\n"
     ]
    },
    {
     "name": "stdout",
     "output_type": "stream",
     "text": [
      "[CV]  C=1, class_weight=balanced, penalty=none, solver=saga, score=0.644, total=  12.5s\n",
      "[CV] C=5, class_weight=None, penalty=l1, solver=liblinear ............\n",
      "[CV]  C=5, class_weight=None, penalty=l1, solver=liblinear, score=0.845, total=  13.5s\n",
      "[CV] C=5, class_weight=None, penalty=l1, solver=liblinear ............\n",
      "[CV]  C=5, class_weight=None, penalty=l1, solver=liblinear, score=0.843, total=  10.8s\n",
      "[CV] C=5, class_weight=None, penalty=l1, solver=liblinear ............\n",
      "[CV]  C=5, class_weight=None, penalty=l1, solver=liblinear, score=0.844, total=  11.0s\n",
      "[CV] C=5, class_weight=None, penalty=l1, solver=newton-cg ............\n",
      "[CV]  C=5, class_weight=None, penalty=l1, solver=newton-cg, score=0.000, total=   0.0s\n",
      "[CV] C=5, class_weight=None, penalty=l1, solver=newton-cg ............\n",
      "[CV]  C=5, class_weight=None, penalty=l1, solver=newton-cg, score=0.000, total=   0.0s\n",
      "[CV] C=5, class_weight=None, penalty=l1, solver=newton-cg ............\n",
      "[CV]  C=5, class_weight=None, penalty=l1, solver=newton-cg, score=0.000, total=   0.0s\n",
      "[CV] C=5, class_weight=None, penalty=l1, solver=lbfgs ................\n",
      "[CV]  C=5, class_weight=None, penalty=l1, solver=lbfgs, score=0.000, total=   0.0s\n",
      "[CV] C=5, class_weight=None, penalty=l1, solver=lbfgs ................\n",
      "[CV]  C=5, class_weight=None, penalty=l1, solver=lbfgs, score=0.000, total=   0.0s\n",
      "[CV] C=5, class_weight=None, penalty=l1, solver=lbfgs ................\n",
      "[CV]  C=5, class_weight=None, penalty=l1, solver=lbfgs, score=0.000, total=   0.0s\n",
      "[CV] C=5, class_weight=None, penalty=l1, solver=sag ..................\n"
     ]
    },
    {
     "name": "stderr",
     "output_type": "stream",
     "text": [
      "/anaconda3/lib/python3.6/site-packages/sklearn/model_selection/_validation.py:547: FitFailedWarning: Estimator fit failed. The score on this train-test partition for these parameters will be set to 0.000000. Details: \n",
      "ValueError: Solver newton-cg supports only 'l2' or 'none' penalties, got l1 penalty.\n",
      "\n",
      "  FitFailedWarning)\n",
      "/anaconda3/lib/python3.6/site-packages/sklearn/model_selection/_validation.py:547: FitFailedWarning: Estimator fit failed. The score on this train-test partition for these parameters will be set to 0.000000. Details: \n",
      "ValueError: Solver lbfgs supports only 'l2' or 'none' penalties, got l1 penalty.\n",
      "\n",
      "  FitFailedWarning)\n",
      "/anaconda3/lib/python3.6/site-packages/sklearn/model_selection/_validation.py:547: FitFailedWarning: Estimator fit failed. The score on this train-test partition for these parameters will be set to 0.000000. Details: \n",
      "ValueError: Solver sag supports only 'l2' or 'none' penalties, got l1 penalty.\n",
      "\n",
      "  FitFailedWarning)\n"
     ]
    },
    {
     "name": "stdout",
     "output_type": "stream",
     "text": [
      "[CV]  C=5, class_weight=None, penalty=l1, solver=sag, score=0.000, total=   0.0s\n",
      "[CV] C=5, class_weight=None, penalty=l1, solver=sag ..................\n",
      "[CV]  C=5, class_weight=None, penalty=l1, solver=sag, score=0.000, total=   0.0s\n",
      "[CV] C=5, class_weight=None, penalty=l1, solver=sag ..................\n",
      "[CV]  C=5, class_weight=None, penalty=l1, solver=sag, score=0.000, total=   0.0s\n",
      "[CV] C=5, class_weight=None, penalty=l1, solver=saga .................\n"
     ]
    },
    {
     "name": "stderr",
     "output_type": "stream",
     "text": [
      "/anaconda3/lib/python3.6/site-packages/sklearn/linear_model/sag.py:337: ConvergenceWarning: The max_iter was reached which means the coef_ did not converge\n",
      "  \"the coef_ did not converge\", ConvergenceWarning)\n"
     ]
    },
    {
     "name": "stdout",
     "output_type": "stream",
     "text": [
      "[CV]  C=5, class_weight=None, penalty=l1, solver=saga, score=0.845, total=  15.0s\n",
      "[CV] C=5, class_weight=None, penalty=l1, solver=saga .................\n"
     ]
    },
    {
     "name": "stderr",
     "output_type": "stream",
     "text": [
      "/anaconda3/lib/python3.6/site-packages/sklearn/linear_model/sag.py:337: ConvergenceWarning: The max_iter was reached which means the coef_ did not converge\n",
      "  \"the coef_ did not converge\", ConvergenceWarning)\n"
     ]
    },
    {
     "name": "stdout",
     "output_type": "stream",
     "text": [
      "[CV]  C=5, class_weight=None, penalty=l1, solver=saga, score=0.843, total=  13.6s\n",
      "[CV] C=5, class_weight=None, penalty=l1, solver=saga .................\n"
     ]
    },
    {
     "name": "stderr",
     "output_type": "stream",
     "text": [
      "/anaconda3/lib/python3.6/site-packages/sklearn/linear_model/sag.py:337: ConvergenceWarning: The max_iter was reached which means the coef_ did not converge\n",
      "  \"the coef_ did not converge\", ConvergenceWarning)\n"
     ]
    },
    {
     "name": "stdout",
     "output_type": "stream",
     "text": [
      "[CV]  C=5, class_weight=None, penalty=l1, solver=saga, score=0.844, total=  13.1s\n",
      "[CV] C=5, class_weight=None, penalty=l2, solver=liblinear ............\n",
      "[CV]  C=5, class_weight=None, penalty=l2, solver=liblinear, score=0.845, total=   3.2s\n",
      "[CV] C=5, class_weight=None, penalty=l2, solver=liblinear ............\n",
      "[CV]  C=5, class_weight=None, penalty=l2, solver=liblinear, score=0.843, total=   3.1s\n",
      "[CV] C=5, class_weight=None, penalty=l2, solver=liblinear ............\n",
      "[CV]  C=5, class_weight=None, penalty=l2, solver=liblinear, score=0.844, total=   3.4s\n",
      "[CV] C=5, class_weight=None, penalty=l2, solver=newton-cg ............\n",
      "[CV]  C=5, class_weight=None, penalty=l2, solver=newton-cg, score=0.845, total=   4.1s\n",
      "[CV] C=5, class_weight=None, penalty=l2, solver=newton-cg ............\n",
      "[CV]  C=5, class_weight=None, penalty=l2, solver=newton-cg, score=0.843, total=   4.6s\n",
      "[CV] C=5, class_weight=None, penalty=l2, solver=newton-cg ............\n",
      "[CV]  C=5, class_weight=None, penalty=l2, solver=newton-cg, score=0.844, total=   4.2s\n",
      "[CV] C=5, class_weight=None, penalty=l2, solver=lbfgs ................\n",
      "[CV]  C=5, class_weight=None, penalty=l2, solver=lbfgs, score=0.845, total=   0.9s\n",
      "[CV] C=5, class_weight=None, penalty=l2, solver=lbfgs ................\n",
      "[CV]  C=5, class_weight=None, penalty=l2, solver=lbfgs, score=0.843, total=   0.9s\n",
      "[CV] C=5, class_weight=None, penalty=l2, solver=lbfgs ................\n",
      "[CV]  C=5, class_weight=None, penalty=l2, solver=lbfgs, score=0.844, total=   1.0s\n",
      "[CV] C=5, class_weight=None, penalty=l2, solver=sag ..................\n"
     ]
    },
    {
     "name": "stderr",
     "output_type": "stream",
     "text": [
      "/anaconda3/lib/python3.6/site-packages/sklearn/linear_model/sag.py:337: ConvergenceWarning: The max_iter was reached which means the coef_ did not converge\n",
      "  \"the coef_ did not converge\", ConvergenceWarning)\n"
     ]
    },
    {
     "name": "stdout",
     "output_type": "stream",
     "text": [
      "[CV]  C=5, class_weight=None, penalty=l2, solver=sag, score=0.845, total=  12.9s\n",
      "[CV] C=5, class_weight=None, penalty=l2, solver=sag ..................\n"
     ]
    },
    {
     "name": "stderr",
     "output_type": "stream",
     "text": [
      "/anaconda3/lib/python3.6/site-packages/sklearn/linear_model/sag.py:337: ConvergenceWarning: The max_iter was reached which means the coef_ did not converge\n",
      "  \"the coef_ did not converge\", ConvergenceWarning)\n"
     ]
    },
    {
     "name": "stdout",
     "output_type": "stream",
     "text": [
      "[CV]  C=5, class_weight=None, penalty=l2, solver=sag, score=0.843, total=  13.0s\n",
      "[CV] C=5, class_weight=None, penalty=l2, solver=sag ..................\n"
     ]
    },
    {
     "name": "stderr",
     "output_type": "stream",
     "text": [
      "/anaconda3/lib/python3.6/site-packages/sklearn/linear_model/sag.py:337: ConvergenceWarning: The max_iter was reached which means the coef_ did not converge\n",
      "  \"the coef_ did not converge\", ConvergenceWarning)\n"
     ]
    },
    {
     "name": "stdout",
     "output_type": "stream",
     "text": [
      "[CV]  C=5, class_weight=None, penalty=l2, solver=sag, score=0.844, total=  13.0s\n",
      "[CV] C=5, class_weight=None, penalty=l2, solver=saga .................\n"
     ]
    },
    {
     "name": "stderr",
     "output_type": "stream",
     "text": [
      "/anaconda3/lib/python3.6/site-packages/sklearn/linear_model/sag.py:337: ConvergenceWarning: The max_iter was reached which means the coef_ did not converge\n",
      "  \"the coef_ did not converge\", ConvergenceWarning)\n"
     ]
    },
    {
     "name": "stdout",
     "output_type": "stream",
     "text": [
      "[CV]  C=5, class_weight=None, penalty=l2, solver=saga, score=0.845, total=  13.3s\n",
      "[CV] C=5, class_weight=None, penalty=l2, solver=saga .................\n"
     ]
    },
    {
     "name": "stderr",
     "output_type": "stream",
     "text": [
      "/anaconda3/lib/python3.6/site-packages/sklearn/linear_model/sag.py:337: ConvergenceWarning: The max_iter was reached which means the coef_ did not converge\n",
      "  \"the coef_ did not converge\", ConvergenceWarning)\n"
     ]
    },
    {
     "name": "stdout",
     "output_type": "stream",
     "text": [
      "[CV]  C=5, class_weight=None, penalty=l2, solver=saga, score=0.843, total=  13.1s\n",
      "[CV] C=5, class_weight=None, penalty=l2, solver=saga .................\n"
     ]
    },
    {
     "name": "stderr",
     "output_type": "stream",
     "text": [
      "/anaconda3/lib/python3.6/site-packages/sklearn/linear_model/sag.py:337: ConvergenceWarning: The max_iter was reached which means the coef_ did not converge\n",
      "  \"the coef_ did not converge\", ConvergenceWarning)\n",
      "/anaconda3/lib/python3.6/site-packages/sklearn/model_selection/_validation.py:547: FitFailedWarning: Estimator fit failed. The score on this train-test partition for these parameters will be set to 0.000000. Details: \n",
      "ValueError: penalty='none' is not supported for the liblinear solver\n",
      "\n",
      "  FitFailedWarning)\n",
      "/anaconda3/lib/python3.6/site-packages/sklearn/linear_model/logistic.py:1510: UserWarning: Setting penalty='none' will ignore the C and l1_ratio parameters\n",
      "  \"Setting penalty='none' will ignore the C and l1_ratio \"\n"
     ]
    },
    {
     "name": "stdout",
     "output_type": "stream",
     "text": [
      "[CV]  C=5, class_weight=None, penalty=l2, solver=saga, score=0.844, total=  13.2s\n",
      "[CV] C=5, class_weight=None, penalty=none, solver=liblinear ..........\n",
      "[CV]  C=5, class_weight=None, penalty=none, solver=liblinear, score=0.000, total=   0.0s\n",
      "[CV] C=5, class_weight=None, penalty=none, solver=liblinear ..........\n",
      "[CV]  C=5, class_weight=None, penalty=none, solver=liblinear, score=0.000, total=   0.0s\n",
      "[CV] C=5, class_weight=None, penalty=none, solver=liblinear ..........\n",
      "[CV]  C=5, class_weight=None, penalty=none, solver=liblinear, score=0.000, total=   0.0s\n",
      "[CV] C=5, class_weight=None, penalty=none, solver=newton-cg ..........\n",
      "[CV]  C=5, class_weight=None, penalty=none, solver=newton-cg, score=0.845, total=   8.4s\n",
      "[CV] C=5, class_weight=None, penalty=none, solver=newton-cg ..........\n"
     ]
    },
    {
     "name": "stderr",
     "output_type": "stream",
     "text": [
      "/anaconda3/lib/python3.6/site-packages/sklearn/linear_model/logistic.py:1510: UserWarning: Setting penalty='none' will ignore the C and l1_ratio parameters\n",
      "  \"Setting penalty='none' will ignore the C and l1_ratio \"\n"
     ]
    },
    {
     "name": "stdout",
     "output_type": "stream",
     "text": [
      "[CV]  C=5, class_weight=None, penalty=none, solver=newton-cg, score=0.843, total=  19.5s\n",
      "[CV] C=5, class_weight=None, penalty=none, solver=newton-cg ..........\n"
     ]
    },
    {
     "name": "stderr",
     "output_type": "stream",
     "text": [
      "/anaconda3/lib/python3.6/site-packages/sklearn/linear_model/logistic.py:1510: UserWarning: Setting penalty='none' will ignore the C and l1_ratio parameters\n",
      "  \"Setting penalty='none' will ignore the C and l1_ratio \"\n"
     ]
    },
    {
     "name": "stdout",
     "output_type": "stream",
     "text": [
      "[CV]  C=5, class_weight=None, penalty=none, solver=newton-cg, score=0.844, total=  10.7s\n",
      "[CV] C=5, class_weight=None, penalty=none, solver=lbfgs ..............\n"
     ]
    },
    {
     "name": "stderr",
     "output_type": "stream",
     "text": [
      "/anaconda3/lib/python3.6/site-packages/sklearn/linear_model/logistic.py:1510: UserWarning: Setting penalty='none' will ignore the C and l1_ratio parameters\n",
      "  \"Setting penalty='none' will ignore the C and l1_ratio \"\n"
     ]
    },
    {
     "name": "stdout",
     "output_type": "stream",
     "text": [
      "[CV]  C=5, class_weight=None, penalty=none, solver=lbfgs, score=0.845, total=   1.1s\n",
      "[CV] C=5, class_weight=None, penalty=none, solver=lbfgs ..............\n"
     ]
    },
    {
     "name": "stderr",
     "output_type": "stream",
     "text": [
      "/anaconda3/lib/python3.6/site-packages/sklearn/linear_model/logistic.py:1510: UserWarning: Setting penalty='none' will ignore the C and l1_ratio parameters\n",
      "  \"Setting penalty='none' will ignore the C and l1_ratio \"\n"
     ]
    },
    {
     "name": "stdout",
     "output_type": "stream",
     "text": [
      "[CV]  C=5, class_weight=None, penalty=none, solver=lbfgs, score=0.843, total=   1.0s\n",
      "[CV] C=5, class_weight=None, penalty=none, solver=lbfgs ..............\n"
     ]
    },
    {
     "name": "stderr",
     "output_type": "stream",
     "text": [
      "/anaconda3/lib/python3.6/site-packages/sklearn/linear_model/logistic.py:1510: UserWarning: Setting penalty='none' will ignore the C and l1_ratio parameters\n",
      "  \"Setting penalty='none' will ignore the C and l1_ratio \"\n"
     ]
    },
    {
     "name": "stdout",
     "output_type": "stream",
     "text": [
      "[CV]  C=5, class_weight=None, penalty=none, solver=lbfgs, score=0.844, total=   1.0s\n",
      "[CV] C=5, class_weight=None, penalty=none, solver=sag ................\n"
     ]
    },
    {
     "name": "stderr",
     "output_type": "stream",
     "text": [
      "/anaconda3/lib/python3.6/site-packages/sklearn/linear_model/logistic.py:1510: UserWarning: Setting penalty='none' will ignore the C and l1_ratio parameters\n",
      "  \"Setting penalty='none' will ignore the C and l1_ratio \"\n",
      "/anaconda3/lib/python3.6/site-packages/sklearn/linear_model/sag.py:337: ConvergenceWarning: The max_iter was reached which means the coef_ did not converge\n",
      "  \"the coef_ did not converge\", ConvergenceWarning)\n",
      "/anaconda3/lib/python3.6/site-packages/sklearn/linear_model/logistic.py:1510: UserWarning: Setting penalty='none' will ignore the C and l1_ratio parameters\n",
      "  \"Setting penalty='none' will ignore the C and l1_ratio \"\n"
     ]
    },
    {
     "name": "stdout",
     "output_type": "stream",
     "text": [
      "[CV]  C=5, class_weight=None, penalty=none, solver=sag, score=0.845, total=  12.0s\n",
      "[CV] C=5, class_weight=None, penalty=none, solver=sag ................\n"
     ]
    },
    {
     "name": "stderr",
     "output_type": "stream",
     "text": [
      "/anaconda3/lib/python3.6/site-packages/sklearn/linear_model/sag.py:337: ConvergenceWarning: The max_iter was reached which means the coef_ did not converge\n",
      "  \"the coef_ did not converge\", ConvergenceWarning)\n",
      "/anaconda3/lib/python3.6/site-packages/sklearn/linear_model/logistic.py:1510: UserWarning: Setting penalty='none' will ignore the C and l1_ratio parameters\n",
      "  \"Setting penalty='none' will ignore the C and l1_ratio \"\n"
     ]
    },
    {
     "name": "stdout",
     "output_type": "stream",
     "text": [
      "[CV]  C=5, class_weight=None, penalty=none, solver=sag, score=0.843, total=  13.2s\n",
      "[CV] C=5, class_weight=None, penalty=none, solver=sag ................\n"
     ]
    },
    {
     "name": "stderr",
     "output_type": "stream",
     "text": [
      "/anaconda3/lib/python3.6/site-packages/sklearn/linear_model/sag.py:337: ConvergenceWarning: The max_iter was reached which means the coef_ did not converge\n",
      "  \"the coef_ did not converge\", ConvergenceWarning)\n",
      "/anaconda3/lib/python3.6/site-packages/sklearn/linear_model/logistic.py:1510: UserWarning: Setting penalty='none' will ignore the C and l1_ratio parameters\n",
      "  \"Setting penalty='none' will ignore the C and l1_ratio \"\n"
     ]
    },
    {
     "name": "stdout",
     "output_type": "stream",
     "text": [
      "[CV]  C=5, class_weight=None, penalty=none, solver=sag, score=0.844, total=  13.0s\n",
      "[CV] C=5, class_weight=None, penalty=none, solver=saga ...............\n"
     ]
    },
    {
     "name": "stderr",
     "output_type": "stream",
     "text": [
      "/anaconda3/lib/python3.6/site-packages/sklearn/linear_model/sag.py:337: ConvergenceWarning: The max_iter was reached which means the coef_ did not converge\n",
      "  \"the coef_ did not converge\", ConvergenceWarning)\n",
      "/anaconda3/lib/python3.6/site-packages/sklearn/linear_model/logistic.py:1510: UserWarning: Setting penalty='none' will ignore the C and l1_ratio parameters\n",
      "  \"Setting penalty='none' will ignore the C and l1_ratio \"\n"
     ]
    },
    {
     "name": "stdout",
     "output_type": "stream",
     "text": [
      "[CV]  C=5, class_weight=None, penalty=none, solver=saga, score=0.845, total=  13.4s\n",
      "[CV] C=5, class_weight=None, penalty=none, solver=saga ...............\n"
     ]
    },
    {
     "name": "stderr",
     "output_type": "stream",
     "text": [
      "/anaconda3/lib/python3.6/site-packages/sklearn/linear_model/sag.py:337: ConvergenceWarning: The max_iter was reached which means the coef_ did not converge\n",
      "  \"the coef_ did not converge\", ConvergenceWarning)\n",
      "/anaconda3/lib/python3.6/site-packages/sklearn/linear_model/logistic.py:1510: UserWarning: Setting penalty='none' will ignore the C and l1_ratio parameters\n",
      "  \"Setting penalty='none' will ignore the C and l1_ratio \"\n"
     ]
    },
    {
     "name": "stdout",
     "output_type": "stream",
     "text": [
      "[CV]  C=5, class_weight=None, penalty=none, solver=saga, score=0.843, total=  13.2s\n",
      "[CV] C=5, class_weight=None, penalty=none, solver=saga ...............\n"
     ]
    },
    {
     "name": "stderr",
     "output_type": "stream",
     "text": [
      "/anaconda3/lib/python3.6/site-packages/sklearn/linear_model/sag.py:337: ConvergenceWarning: The max_iter was reached which means the coef_ did not converge\n",
      "  \"the coef_ did not converge\", ConvergenceWarning)\n"
     ]
    },
    {
     "name": "stdout",
     "output_type": "stream",
     "text": [
      "[CV]  C=5, class_weight=None, penalty=none, solver=saga, score=0.844, total=  12.9s\n",
      "[CV] C=5, class_weight=balanced, penalty=l1, solver=liblinear ........\n",
      "[CV]  C=5, class_weight=balanced, penalty=l1, solver=liblinear, score=0.637, total=  11.2s\n",
      "[CV] C=5, class_weight=balanced, penalty=l1, solver=liblinear ........\n",
      "[CV]  C=5, class_weight=balanced, penalty=l1, solver=liblinear, score=0.642, total=  36.3s\n",
      "[CV] C=5, class_weight=balanced, penalty=l1, solver=liblinear ........\n",
      "[CV]  C=5, class_weight=balanced, penalty=l1, solver=liblinear, score=0.643, total=   9.7s\n",
      "[CV] C=5, class_weight=balanced, penalty=l1, solver=newton-cg ........\n",
      "[CV]  C=5, class_weight=balanced, penalty=l1, solver=newton-cg, score=0.000, total=   0.0s\n",
      "[CV] C=5, class_weight=balanced, penalty=l1, solver=newton-cg ........\n",
      "[CV]  C=5, class_weight=balanced, penalty=l1, solver=newton-cg, score=0.000, total=   0.0s\n",
      "[CV] C=5, class_weight=balanced, penalty=l1, solver=newton-cg ........\n",
      "[CV]  C=5, class_weight=balanced, penalty=l1, solver=newton-cg, score=0.000, total=   0.0s\n",
      "[CV] C=5, class_weight=balanced, penalty=l1, solver=lbfgs ............\n",
      "[CV]  C=5, class_weight=balanced, penalty=l1, solver=lbfgs, score=0.000, total=   0.0s\n",
      "[CV] C=5, class_weight=balanced, penalty=l1, solver=lbfgs ............\n",
      "[CV]  C=5, class_weight=balanced, penalty=l1, solver=lbfgs, score=0.000, total=   0.0s\n",
      "[CV] C=5, class_weight=balanced, penalty=l1, solver=lbfgs ............\n",
      "[CV]  C=5, class_weight=balanced, penalty=l1, solver=lbfgs, score=0.000, total=   0.0s\n",
      "[CV] C=5, class_weight=balanced, penalty=l1, solver=sag ..............\n",
      "[CV]  C=5, class_weight=balanced, penalty=l1, solver=sag, score=0.000, total=   0.0s\n",
      "[CV] C=5, class_weight=balanced, penalty=l1, solver=sag ..............\n"
     ]
    },
    {
     "name": "stderr",
     "output_type": "stream",
     "text": [
      "/anaconda3/lib/python3.6/site-packages/sklearn/model_selection/_validation.py:547: FitFailedWarning: Estimator fit failed. The score on this train-test partition for these parameters will be set to 0.000000. Details: \n",
      "ValueError: Solver newton-cg supports only 'l2' or 'none' penalties, got l1 penalty.\n",
      "\n",
      "  FitFailedWarning)\n",
      "/anaconda3/lib/python3.6/site-packages/sklearn/model_selection/_validation.py:547: FitFailedWarning: Estimator fit failed. The score on this train-test partition for these parameters will be set to 0.000000. Details: \n",
      "ValueError: Solver lbfgs supports only 'l2' or 'none' penalties, got l1 penalty.\n",
      "\n",
      "  FitFailedWarning)\n",
      "/anaconda3/lib/python3.6/site-packages/sklearn/model_selection/_validation.py:547: FitFailedWarning: Estimator fit failed. The score on this train-test partition for these parameters will be set to 0.000000. Details: \n",
      "ValueError: Solver sag supports only 'l2' or 'none' penalties, got l1 penalty.\n",
      "\n",
      "  FitFailedWarning)\n"
     ]
    },
    {
     "name": "stdout",
     "output_type": "stream",
     "text": [
      "[CV]  C=5, class_weight=balanced, penalty=l1, solver=sag, score=0.000, total=   0.0s\n",
      "[CV] C=5, class_weight=balanced, penalty=l1, solver=sag ..............\n",
      "[CV]  C=5, class_weight=balanced, penalty=l1, solver=sag, score=0.000, total=   0.0s\n",
      "[CV] C=5, class_weight=balanced, penalty=l1, solver=saga .............\n"
     ]
    },
    {
     "name": "stderr",
     "output_type": "stream",
     "text": [
      "/anaconda3/lib/python3.6/site-packages/sklearn/linear_model/sag.py:337: ConvergenceWarning: The max_iter was reached which means the coef_ did not converge\n",
      "  \"the coef_ did not converge\", ConvergenceWarning)\n"
     ]
    },
    {
     "name": "stdout",
     "output_type": "stream",
     "text": [
      "[CV]  C=5, class_weight=balanced, penalty=l1, solver=saga, score=0.638, total=  15.0s\n",
      "[CV] C=5, class_weight=balanced, penalty=l1, solver=saga .............\n"
     ]
    },
    {
     "name": "stderr",
     "output_type": "stream",
     "text": [
      "/anaconda3/lib/python3.6/site-packages/sklearn/linear_model/sag.py:337: ConvergenceWarning: The max_iter was reached which means the coef_ did not converge\n",
      "  \"the coef_ did not converge\", ConvergenceWarning)\n"
     ]
    },
    {
     "name": "stdout",
     "output_type": "stream",
     "text": [
      "[CV]  C=5, class_weight=balanced, penalty=l1, solver=saga, score=0.642, total=  15.2s\n",
      "[CV] C=5, class_weight=balanced, penalty=l1, solver=saga .............\n"
     ]
    },
    {
     "name": "stderr",
     "output_type": "stream",
     "text": [
      "/anaconda3/lib/python3.6/site-packages/sklearn/linear_model/sag.py:337: ConvergenceWarning: The max_iter was reached which means the coef_ did not converge\n",
      "  \"the coef_ did not converge\", ConvergenceWarning)\n"
     ]
    },
    {
     "name": "stdout",
     "output_type": "stream",
     "text": [
      "[CV]  C=5, class_weight=balanced, penalty=l1, solver=saga, score=0.644, total=  15.2s\n",
      "[CV] C=5, class_weight=balanced, penalty=l2, solver=liblinear ........\n",
      "[CV]  C=5, class_weight=balanced, penalty=l2, solver=liblinear, score=0.637, total=   2.8s\n",
      "[CV] C=5, class_weight=balanced, penalty=l2, solver=liblinear ........\n",
      "[CV]  C=5, class_weight=balanced, penalty=l2, solver=liblinear, score=0.642, total=   2.5s\n",
      "[CV] C=5, class_weight=balanced, penalty=l2, solver=liblinear ........\n",
      "[CV]  C=5, class_weight=balanced, penalty=l2, solver=liblinear, score=0.643, total=   2.9s\n",
      "[CV] C=5, class_weight=balanced, penalty=l2, solver=newton-cg ........\n",
      "[CV]  C=5, class_weight=balanced, penalty=l2, solver=newton-cg, score=0.637, total=   4.2s\n",
      "[CV] C=5, class_weight=balanced, penalty=l2, solver=newton-cg ........\n",
      "[CV]  C=5, class_weight=balanced, penalty=l2, solver=newton-cg, score=0.642, total=   3.7s\n",
      "[CV] C=5, class_weight=balanced, penalty=l2, solver=newton-cg ........\n",
      "[CV]  C=5, class_weight=balanced, penalty=l2, solver=newton-cg, score=0.643, total=   3.5s\n",
      "[CV] C=5, class_weight=balanced, penalty=l2, solver=lbfgs ............\n",
      "[CV]  C=5, class_weight=balanced, penalty=l2, solver=lbfgs, score=0.637, total=   0.9s\n",
      "[CV] C=5, class_weight=balanced, penalty=l2, solver=lbfgs ............\n",
      "[CV]  C=5, class_weight=balanced, penalty=l2, solver=lbfgs, score=0.642, total=   0.8s\n",
      "[CV] C=5, class_weight=balanced, penalty=l2, solver=lbfgs ............\n",
      "[CV]  C=5, class_weight=balanced, penalty=l2, solver=lbfgs, score=0.643, total=   0.9s\n",
      "[CV] C=5, class_weight=balanced, penalty=l2, solver=sag ..............\n"
     ]
    },
    {
     "name": "stderr",
     "output_type": "stream",
     "text": [
      "/anaconda3/lib/python3.6/site-packages/sklearn/linear_model/sag.py:337: ConvergenceWarning: The max_iter was reached which means the coef_ did not converge\n",
      "  \"the coef_ did not converge\", ConvergenceWarning)\n"
     ]
    },
    {
     "name": "stdout",
     "output_type": "stream",
     "text": [
      "[CV]  C=5, class_weight=balanced, penalty=l2, solver=sag, score=0.637, total=  12.0s\n",
      "[CV] C=5, class_weight=balanced, penalty=l2, solver=sag ..............\n"
     ]
    },
    {
     "name": "stderr",
     "output_type": "stream",
     "text": [
      "/anaconda3/lib/python3.6/site-packages/sklearn/linear_model/sag.py:337: ConvergenceWarning: The max_iter was reached which means the coef_ did not converge\n",
      "  \"the coef_ did not converge\", ConvergenceWarning)\n"
     ]
    },
    {
     "name": "stdout",
     "output_type": "stream",
     "text": [
      "[CV]  C=5, class_weight=balanced, penalty=l2, solver=sag, score=0.642, total=  12.0s\n",
      "[CV] C=5, class_weight=balanced, penalty=l2, solver=sag ..............\n"
     ]
    },
    {
     "name": "stderr",
     "output_type": "stream",
     "text": [
      "/anaconda3/lib/python3.6/site-packages/sklearn/linear_model/sag.py:337: ConvergenceWarning: The max_iter was reached which means the coef_ did not converge\n",
      "  \"the coef_ did not converge\", ConvergenceWarning)\n"
     ]
    },
    {
     "name": "stdout",
     "output_type": "stream",
     "text": [
      "[CV]  C=5, class_weight=balanced, penalty=l2, solver=sag, score=0.643, total=  12.2s\n",
      "[CV] C=5, class_weight=balanced, penalty=l2, solver=saga .............\n"
     ]
    },
    {
     "name": "stderr",
     "output_type": "stream",
     "text": [
      "/anaconda3/lib/python3.6/site-packages/sklearn/linear_model/sag.py:337: ConvergenceWarning: The max_iter was reached which means the coef_ did not converge\n",
      "  \"the coef_ did not converge\", ConvergenceWarning)\n"
     ]
    },
    {
     "name": "stdout",
     "output_type": "stream",
     "text": [
      "[CV]  C=5, class_weight=balanced, penalty=l2, solver=saga, score=0.638, total=  13.2s\n",
      "[CV] C=5, class_weight=balanced, penalty=l2, solver=saga .............\n"
     ]
    },
    {
     "name": "stderr",
     "output_type": "stream",
     "text": [
      "/anaconda3/lib/python3.6/site-packages/sklearn/linear_model/sag.py:337: ConvergenceWarning: The max_iter was reached which means the coef_ did not converge\n",
      "  \"the coef_ did not converge\", ConvergenceWarning)\n"
     ]
    },
    {
     "name": "stdout",
     "output_type": "stream",
     "text": [
      "[CV]  C=5, class_weight=balanced, penalty=l2, solver=saga, score=0.642, total=  12.9s\n",
      "[CV] C=5, class_weight=balanced, penalty=l2, solver=saga .............\n"
     ]
    },
    {
     "name": "stderr",
     "output_type": "stream",
     "text": [
      "/anaconda3/lib/python3.6/site-packages/sklearn/linear_model/sag.py:337: ConvergenceWarning: The max_iter was reached which means the coef_ did not converge\n",
      "  \"the coef_ did not converge\", ConvergenceWarning)\n",
      "/anaconda3/lib/python3.6/site-packages/sklearn/model_selection/_validation.py:547: FitFailedWarning: Estimator fit failed. The score on this train-test partition for these parameters will be set to 0.000000. Details: \n",
      "ValueError: penalty='none' is not supported for the liblinear solver\n",
      "\n",
      "  FitFailedWarning)\n",
      "/anaconda3/lib/python3.6/site-packages/sklearn/linear_model/logistic.py:1510: UserWarning: Setting penalty='none' will ignore the C and l1_ratio parameters\n",
      "  \"Setting penalty='none' will ignore the C and l1_ratio \"\n"
     ]
    },
    {
     "name": "stdout",
     "output_type": "stream",
     "text": [
      "[CV]  C=5, class_weight=balanced, penalty=l2, solver=saga, score=0.644, total=  12.6s\n",
      "[CV] C=5, class_weight=balanced, penalty=none, solver=liblinear ......\n",
      "[CV]  C=5, class_weight=balanced, penalty=none, solver=liblinear, score=0.000, total=   0.0s\n",
      "[CV] C=5, class_weight=balanced, penalty=none, solver=liblinear ......\n",
      "[CV]  C=5, class_weight=balanced, penalty=none, solver=liblinear, score=0.000, total=   0.0s\n",
      "[CV] C=5, class_weight=balanced, penalty=none, solver=liblinear ......\n",
      "[CV]  C=5, class_weight=balanced, penalty=none, solver=liblinear, score=0.000, total=   0.0s\n",
      "[CV] C=5, class_weight=balanced, penalty=none, solver=newton-cg ......\n",
      "[CV]  C=5, class_weight=balanced, penalty=none, solver=newton-cg, score=0.637, total=   6.7s\n",
      "[CV] C=5, class_weight=balanced, penalty=none, solver=newton-cg ......\n"
     ]
    },
    {
     "name": "stderr",
     "output_type": "stream",
     "text": [
      "/anaconda3/lib/python3.6/site-packages/sklearn/linear_model/logistic.py:1510: UserWarning: Setting penalty='none' will ignore the C and l1_ratio parameters\n",
      "  \"Setting penalty='none' will ignore the C and l1_ratio \"\n"
     ]
    },
    {
     "name": "stdout",
     "output_type": "stream",
     "text": [
      "[CV]  C=5, class_weight=balanced, penalty=none, solver=newton-cg, score=0.642, total=  23.6s\n",
      "[CV] C=5, class_weight=balanced, penalty=none, solver=newton-cg ......\n"
     ]
    },
    {
     "name": "stderr",
     "output_type": "stream",
     "text": [
      "/anaconda3/lib/python3.6/site-packages/sklearn/linear_model/logistic.py:1510: UserWarning: Setting penalty='none' will ignore the C and l1_ratio parameters\n",
      "  \"Setting penalty='none' will ignore the C and l1_ratio \"\n"
     ]
    },
    {
     "name": "stdout",
     "output_type": "stream",
     "text": [
      "[CV]  C=5, class_weight=balanced, penalty=none, solver=newton-cg, score=0.643, total=   8.5s\n",
      "[CV] C=5, class_weight=balanced, penalty=none, solver=lbfgs ..........\n"
     ]
    },
    {
     "name": "stderr",
     "output_type": "stream",
     "text": [
      "/anaconda3/lib/python3.6/site-packages/sklearn/linear_model/logistic.py:1510: UserWarning: Setting penalty='none' will ignore the C and l1_ratio parameters\n",
      "  \"Setting penalty='none' will ignore the C and l1_ratio \"\n"
     ]
    },
    {
     "name": "stdout",
     "output_type": "stream",
     "text": [
      "[CV]  C=5, class_weight=balanced, penalty=none, solver=lbfgs, score=0.637, total=   0.9s\n",
      "[CV] C=5, class_weight=balanced, penalty=none, solver=lbfgs ..........\n"
     ]
    },
    {
     "name": "stderr",
     "output_type": "stream",
     "text": [
      "/anaconda3/lib/python3.6/site-packages/sklearn/linear_model/logistic.py:1510: UserWarning: Setting penalty='none' will ignore the C and l1_ratio parameters\n",
      "  \"Setting penalty='none' will ignore the C and l1_ratio \"\n"
     ]
    },
    {
     "name": "stdout",
     "output_type": "stream",
     "text": [
      "[CV]  C=5, class_weight=balanced, penalty=none, solver=lbfgs, score=0.642, total=   0.9s\n",
      "[CV] C=5, class_weight=balanced, penalty=none, solver=lbfgs ..........\n"
     ]
    },
    {
     "name": "stderr",
     "output_type": "stream",
     "text": [
      "/anaconda3/lib/python3.6/site-packages/sklearn/linear_model/logistic.py:1510: UserWarning: Setting penalty='none' will ignore the C and l1_ratio parameters\n",
      "  \"Setting penalty='none' will ignore the C and l1_ratio \"\n"
     ]
    },
    {
     "name": "stdout",
     "output_type": "stream",
     "text": [
      "[CV]  C=5, class_weight=balanced, penalty=none, solver=lbfgs, score=0.643, total=   1.0s\n",
      "[CV] C=5, class_weight=balanced, penalty=none, solver=sag ............\n"
     ]
    },
    {
     "name": "stderr",
     "output_type": "stream",
     "text": [
      "/anaconda3/lib/python3.6/site-packages/sklearn/linear_model/logistic.py:1510: UserWarning: Setting penalty='none' will ignore the C and l1_ratio parameters\n",
      "  \"Setting penalty='none' will ignore the C and l1_ratio \"\n",
      "/anaconda3/lib/python3.6/site-packages/sklearn/linear_model/sag.py:337: ConvergenceWarning: The max_iter was reached which means the coef_ did not converge\n",
      "  \"the coef_ did not converge\", ConvergenceWarning)\n",
      "/anaconda3/lib/python3.6/site-packages/sklearn/linear_model/logistic.py:1510: UserWarning: Setting penalty='none' will ignore the C and l1_ratio parameters\n",
      "  \"Setting penalty='none' will ignore the C and l1_ratio \"\n"
     ]
    },
    {
     "name": "stdout",
     "output_type": "stream",
     "text": [
      "[CV]  C=5, class_weight=balanced, penalty=none, solver=sag, score=0.637, total=  12.7s\n",
      "[CV] C=5, class_weight=balanced, penalty=none, solver=sag ............\n"
     ]
    },
    {
     "name": "stderr",
     "output_type": "stream",
     "text": [
      "/anaconda3/lib/python3.6/site-packages/sklearn/linear_model/sag.py:337: ConvergenceWarning: The max_iter was reached which means the coef_ did not converge\n",
      "  \"the coef_ did not converge\", ConvergenceWarning)\n",
      "/anaconda3/lib/python3.6/site-packages/sklearn/linear_model/logistic.py:1510: UserWarning: Setting penalty='none' will ignore the C and l1_ratio parameters\n",
      "  \"Setting penalty='none' will ignore the C and l1_ratio \"\n"
     ]
    },
    {
     "name": "stdout",
     "output_type": "stream",
     "text": [
      "[CV]  C=5, class_weight=balanced, penalty=none, solver=sag, score=0.642, total=  12.8s\n",
      "[CV] C=5, class_weight=balanced, penalty=none, solver=sag ............\n"
     ]
    },
    {
     "name": "stderr",
     "output_type": "stream",
     "text": [
      "/anaconda3/lib/python3.6/site-packages/sklearn/linear_model/sag.py:337: ConvergenceWarning: The max_iter was reached which means the coef_ did not converge\n",
      "  \"the coef_ did not converge\", ConvergenceWarning)\n",
      "/anaconda3/lib/python3.6/site-packages/sklearn/linear_model/logistic.py:1510: UserWarning: Setting penalty='none' will ignore the C and l1_ratio parameters\n",
      "  \"Setting penalty='none' will ignore the C and l1_ratio \"\n"
     ]
    },
    {
     "name": "stdout",
     "output_type": "stream",
     "text": [
      "[CV]  C=5, class_weight=balanced, penalty=none, solver=sag, score=0.643, total=  12.8s\n",
      "[CV] C=5, class_weight=balanced, penalty=none, solver=saga ...........\n"
     ]
    },
    {
     "name": "stderr",
     "output_type": "stream",
     "text": [
      "/anaconda3/lib/python3.6/site-packages/sklearn/linear_model/sag.py:337: ConvergenceWarning: The max_iter was reached which means the coef_ did not converge\n",
      "  \"the coef_ did not converge\", ConvergenceWarning)\n",
      "/anaconda3/lib/python3.6/site-packages/sklearn/linear_model/logistic.py:1510: UserWarning: Setting penalty='none' will ignore the C and l1_ratio parameters\n",
      "  \"Setting penalty='none' will ignore the C and l1_ratio \"\n"
     ]
    },
    {
     "name": "stdout",
     "output_type": "stream",
     "text": [
      "[CV]  C=5, class_weight=balanced, penalty=none, solver=saga, score=0.638, total=  13.1s\n",
      "[CV] C=5, class_weight=balanced, penalty=none, solver=saga ...........\n"
     ]
    },
    {
     "name": "stderr",
     "output_type": "stream",
     "text": [
      "/anaconda3/lib/python3.6/site-packages/sklearn/linear_model/sag.py:337: ConvergenceWarning: The max_iter was reached which means the coef_ did not converge\n",
      "  \"the coef_ did not converge\", ConvergenceWarning)\n",
      "/anaconda3/lib/python3.6/site-packages/sklearn/linear_model/logistic.py:1510: UserWarning: Setting penalty='none' will ignore the C and l1_ratio parameters\n",
      "  \"Setting penalty='none' will ignore the C and l1_ratio \"\n"
     ]
    },
    {
     "name": "stdout",
     "output_type": "stream",
     "text": [
      "[CV]  C=5, class_weight=balanced, penalty=none, solver=saga, score=0.642, total=  13.4s\n",
      "[CV] C=5, class_weight=balanced, penalty=none, solver=saga ...........\n"
     ]
    },
    {
     "name": "stderr",
     "output_type": "stream",
     "text": [
      "/anaconda3/lib/python3.6/site-packages/sklearn/linear_model/sag.py:337: ConvergenceWarning: The max_iter was reached which means the coef_ did not converge\n",
      "  \"the coef_ did not converge\", ConvergenceWarning)\n"
     ]
    },
    {
     "name": "stdout",
     "output_type": "stream",
     "text": [
      "[CV]  C=5, class_weight=balanced, penalty=none, solver=saga, score=0.644, total=  13.2s\n",
      "[CV] C=10, class_weight=None, penalty=l1, solver=liblinear ...........\n",
      "[CV]  C=10, class_weight=None, penalty=l1, solver=liblinear, score=0.845, total=  10.2s\n",
      "[CV] C=10, class_weight=None, penalty=l1, solver=liblinear ...........\n",
      "[CV]  C=10, class_weight=None, penalty=l1, solver=liblinear, score=0.843, total=  11.1s\n",
      "[CV] C=10, class_weight=None, penalty=l1, solver=liblinear ...........\n",
      "[CV]  C=10, class_weight=None, penalty=l1, solver=liblinear, score=0.844, total=  10.3s\n",
      "[CV] C=10, class_weight=None, penalty=l1, solver=newton-cg ...........\n",
      "[CV]  C=10, class_weight=None, penalty=l1, solver=newton-cg, score=0.000, total=   0.0s\n",
      "[CV] C=10, class_weight=None, penalty=l1, solver=newton-cg ...........\n",
      "[CV]  C=10, class_weight=None, penalty=l1, solver=newton-cg, score=0.000, total=   0.0s\n",
      "[CV] C=10, class_weight=None, penalty=l1, solver=newton-cg ...........\n",
      "[CV]  C=10, class_weight=None, penalty=l1, solver=newton-cg, score=0.000, total=   0.0s\n",
      "[CV] C=10, class_weight=None, penalty=l1, solver=lbfgs ...............\n",
      "[CV]  C=10, class_weight=None, penalty=l1, solver=lbfgs, score=0.000, total=   0.0s\n",
      "[CV] C=10, class_weight=None, penalty=l1, solver=lbfgs ...............\n",
      "[CV]  C=10, class_weight=None, penalty=l1, solver=lbfgs, score=0.000, total=   0.0s\n",
      "[CV] C=10, class_weight=None, penalty=l1, solver=lbfgs ...............\n"
     ]
    },
    {
     "name": "stderr",
     "output_type": "stream",
     "text": [
      "/anaconda3/lib/python3.6/site-packages/sklearn/model_selection/_validation.py:547: FitFailedWarning: Estimator fit failed. The score on this train-test partition for these parameters will be set to 0.000000. Details: \n",
      "ValueError: Solver newton-cg supports only 'l2' or 'none' penalties, got l1 penalty.\n",
      "\n",
      "  FitFailedWarning)\n",
      "/anaconda3/lib/python3.6/site-packages/sklearn/model_selection/_validation.py:547: FitFailedWarning: Estimator fit failed. The score on this train-test partition for these parameters will be set to 0.000000. Details: \n",
      "ValueError: Solver lbfgs supports only 'l2' or 'none' penalties, got l1 penalty.\n",
      "\n",
      "  FitFailedWarning)\n",
      "/anaconda3/lib/python3.6/site-packages/sklearn/model_selection/_validation.py:547: FitFailedWarning: Estimator fit failed. The score on this train-test partition for these parameters will be set to 0.000000. Details: \n",
      "ValueError: Solver sag supports only 'l2' or 'none' penalties, got l1 penalty.\n",
      "\n",
      "  FitFailedWarning)\n"
     ]
    },
    {
     "name": "stdout",
     "output_type": "stream",
     "text": [
      "[CV]  C=10, class_weight=None, penalty=l1, solver=lbfgs, score=0.000, total=   0.0s\n",
      "[CV] C=10, class_weight=None, penalty=l1, solver=sag .................\n",
      "[CV]  C=10, class_weight=None, penalty=l1, solver=sag, score=0.000, total=   0.0s\n",
      "[CV] C=10, class_weight=None, penalty=l1, solver=sag .................\n",
      "[CV]  C=10, class_weight=None, penalty=l1, solver=sag, score=0.000, total=   0.0s\n",
      "[CV] C=10, class_weight=None, penalty=l1, solver=sag .................\n",
      "[CV]  C=10, class_weight=None, penalty=l1, solver=sag, score=0.000, total=   0.0s\n",
      "[CV] C=10, class_weight=None, penalty=l1, solver=saga ................\n"
     ]
    },
    {
     "name": "stderr",
     "output_type": "stream",
     "text": [
      "/anaconda3/lib/python3.6/site-packages/sklearn/linear_model/sag.py:337: ConvergenceWarning: The max_iter was reached which means the coef_ did not converge\n",
      "  \"the coef_ did not converge\", ConvergenceWarning)\n"
     ]
    },
    {
     "name": "stdout",
     "output_type": "stream",
     "text": [
      "[CV]  C=10, class_weight=None, penalty=l1, solver=saga, score=0.845, total=  13.4s\n",
      "[CV] C=10, class_weight=None, penalty=l1, solver=saga ................\n"
     ]
    },
    {
     "name": "stderr",
     "output_type": "stream",
     "text": [
      "/anaconda3/lib/python3.6/site-packages/sklearn/linear_model/sag.py:337: ConvergenceWarning: The max_iter was reached which means the coef_ did not converge\n",
      "  \"the coef_ did not converge\", ConvergenceWarning)\n"
     ]
    },
    {
     "name": "stdout",
     "output_type": "stream",
     "text": [
      "[CV]  C=10, class_weight=None, penalty=l1, solver=saga, score=0.843, total=  13.2s\n",
      "[CV] C=10, class_weight=None, penalty=l1, solver=saga ................\n"
     ]
    },
    {
     "name": "stderr",
     "output_type": "stream",
     "text": [
      "/anaconda3/lib/python3.6/site-packages/sklearn/linear_model/sag.py:337: ConvergenceWarning: The max_iter was reached which means the coef_ did not converge\n",
      "  \"the coef_ did not converge\", ConvergenceWarning)\n"
     ]
    },
    {
     "name": "stdout",
     "output_type": "stream",
     "text": [
      "[CV]  C=10, class_weight=None, penalty=l1, solver=saga, score=0.844, total=  14.1s\n",
      "[CV] C=10, class_weight=None, penalty=l2, solver=liblinear ...........\n",
      "[CV]  C=10, class_weight=None, penalty=l2, solver=liblinear, score=0.845, total=   3.6s\n",
      "[CV] C=10, class_weight=None, penalty=l2, solver=liblinear ...........\n",
      "[CV]  C=10, class_weight=None, penalty=l2, solver=liblinear, score=0.843, total=   3.7s\n",
      "[CV] C=10, class_weight=None, penalty=l2, solver=liblinear ...........\n",
      "[CV]  C=10, class_weight=None, penalty=l2, solver=liblinear, score=0.844, total=   3.8s\n",
      "[CV] C=10, class_weight=None, penalty=l2, solver=newton-cg ...........\n",
      "[CV]  C=10, class_weight=None, penalty=l2, solver=newton-cg, score=0.845, total=   4.5s\n",
      "[CV] C=10, class_weight=None, penalty=l2, solver=newton-cg ...........\n",
      "[CV]  C=10, class_weight=None, penalty=l2, solver=newton-cg, score=0.843, total=   4.8s\n",
      "[CV] C=10, class_weight=None, penalty=l2, solver=newton-cg ...........\n",
      "[CV]  C=10, class_weight=None, penalty=l2, solver=newton-cg, score=0.844, total=   4.2s\n",
      "[CV] C=10, class_weight=None, penalty=l2, solver=lbfgs ...............\n",
      "[CV]  C=10, class_weight=None, penalty=l2, solver=lbfgs, score=0.845, total=   1.3s\n",
      "[CV] C=10, class_weight=None, penalty=l2, solver=lbfgs ...............\n",
      "[CV]  C=10, class_weight=None, penalty=l2, solver=lbfgs, score=0.843, total=   1.3s\n",
      "[CV] C=10, class_weight=None, penalty=l2, solver=lbfgs ...............\n",
      "[CV]  C=10, class_weight=None, penalty=l2, solver=lbfgs, score=0.844, total=   1.3s\n",
      "[CV] C=10, class_weight=None, penalty=l2, solver=sag .................\n"
     ]
    },
    {
     "name": "stderr",
     "output_type": "stream",
     "text": [
      "/anaconda3/lib/python3.6/site-packages/sklearn/linear_model/sag.py:337: ConvergenceWarning: The max_iter was reached which means the coef_ did not converge\n",
      "  \"the coef_ did not converge\", ConvergenceWarning)\n"
     ]
    },
    {
     "name": "stdout",
     "output_type": "stream",
     "text": [
      "[CV]  C=10, class_weight=None, penalty=l2, solver=sag, score=0.845, total=  10.9s\n",
      "[CV] C=10, class_weight=None, penalty=l2, solver=sag .................\n"
     ]
    },
    {
     "name": "stderr",
     "output_type": "stream",
     "text": [
      "/anaconda3/lib/python3.6/site-packages/sklearn/linear_model/sag.py:337: ConvergenceWarning: The max_iter was reached which means the coef_ did not converge\n",
      "  \"the coef_ did not converge\", ConvergenceWarning)\n"
     ]
    },
    {
     "name": "stdout",
     "output_type": "stream",
     "text": [
      "[CV]  C=10, class_weight=None, penalty=l2, solver=sag, score=0.843, total=  10.3s\n",
      "[CV] C=10, class_weight=None, penalty=l2, solver=sag .................\n"
     ]
    },
    {
     "name": "stderr",
     "output_type": "stream",
     "text": [
      "/anaconda3/lib/python3.6/site-packages/sklearn/linear_model/sag.py:337: ConvergenceWarning: The max_iter was reached which means the coef_ did not converge\n",
      "  \"the coef_ did not converge\", ConvergenceWarning)\n"
     ]
    },
    {
     "name": "stdout",
     "output_type": "stream",
     "text": [
      "[CV]  C=10, class_weight=None, penalty=l2, solver=sag, score=0.844, total=   9.9s\n",
      "[CV] C=10, class_weight=None, penalty=l2, solver=saga ................\n"
     ]
    },
    {
     "name": "stderr",
     "output_type": "stream",
     "text": [
      "/anaconda3/lib/python3.6/site-packages/sklearn/linear_model/sag.py:337: ConvergenceWarning: The max_iter was reached which means the coef_ did not converge\n",
      "  \"the coef_ did not converge\", ConvergenceWarning)\n"
     ]
    },
    {
     "name": "stdout",
     "output_type": "stream",
     "text": [
      "[CV]  C=10, class_weight=None, penalty=l2, solver=saga, score=0.845, total=  10.9s\n",
      "[CV] C=10, class_weight=None, penalty=l2, solver=saga ................\n"
     ]
    },
    {
     "name": "stderr",
     "output_type": "stream",
     "text": [
      "/anaconda3/lib/python3.6/site-packages/sklearn/linear_model/sag.py:337: ConvergenceWarning: The max_iter was reached which means the coef_ did not converge\n",
      "  \"the coef_ did not converge\", ConvergenceWarning)\n"
     ]
    },
    {
     "name": "stdout",
     "output_type": "stream",
     "text": [
      "[CV]  C=10, class_weight=None, penalty=l2, solver=saga, score=0.843, total=  10.9s\n",
      "[CV] C=10, class_weight=None, penalty=l2, solver=saga ................\n"
     ]
    },
    {
     "name": "stderr",
     "output_type": "stream",
     "text": [
      "/anaconda3/lib/python3.6/site-packages/sklearn/linear_model/sag.py:337: ConvergenceWarning: The max_iter was reached which means the coef_ did not converge\n",
      "  \"the coef_ did not converge\", ConvergenceWarning)\n",
      "/anaconda3/lib/python3.6/site-packages/sklearn/model_selection/_validation.py:547: FitFailedWarning: Estimator fit failed. The score on this train-test partition for these parameters will be set to 0.000000. Details: \n",
      "ValueError: penalty='none' is not supported for the liblinear solver\n",
      "\n",
      "  FitFailedWarning)\n",
      "/anaconda3/lib/python3.6/site-packages/sklearn/linear_model/logistic.py:1510: UserWarning: Setting penalty='none' will ignore the C and l1_ratio parameters\n",
      "  \"Setting penalty='none' will ignore the C and l1_ratio \"\n"
     ]
    },
    {
     "name": "stdout",
     "output_type": "stream",
     "text": [
      "[CV]  C=10, class_weight=None, penalty=l2, solver=saga, score=0.844, total=  11.4s\n",
      "[CV] C=10, class_weight=None, penalty=none, solver=liblinear .........\n",
      "[CV]  C=10, class_weight=None, penalty=none, solver=liblinear, score=0.000, total=   0.0s\n",
      "[CV] C=10, class_weight=None, penalty=none, solver=liblinear .........\n",
      "[CV]  C=10, class_weight=None, penalty=none, solver=liblinear, score=0.000, total=   0.0s\n",
      "[CV] C=10, class_weight=None, penalty=none, solver=liblinear .........\n",
      "[CV]  C=10, class_weight=None, penalty=none, solver=liblinear, score=0.000, total=   0.0s\n",
      "[CV] C=10, class_weight=None, penalty=none, solver=newton-cg .........\n",
      "[CV]  C=10, class_weight=None, penalty=none, solver=newton-cg, score=0.845, total=   8.3s\n",
      "[CV] C=10, class_weight=None, penalty=none, solver=newton-cg .........\n"
     ]
    },
    {
     "name": "stderr",
     "output_type": "stream",
     "text": [
      "/anaconda3/lib/python3.6/site-packages/sklearn/linear_model/logistic.py:1510: UserWarning: Setting penalty='none' will ignore the C and l1_ratio parameters\n",
      "  \"Setting penalty='none' will ignore the C and l1_ratio \"\n"
     ]
    },
    {
     "name": "stdout",
     "output_type": "stream",
     "text": [
      "[CV]  C=10, class_weight=None, penalty=none, solver=newton-cg, score=0.843, total=  20.6s\n",
      "[CV] C=10, class_weight=None, penalty=none, solver=newton-cg .........\n"
     ]
    },
    {
     "name": "stderr",
     "output_type": "stream",
     "text": [
      "/anaconda3/lib/python3.6/site-packages/sklearn/linear_model/logistic.py:1510: UserWarning: Setting penalty='none' will ignore the C and l1_ratio parameters\n",
      "  \"Setting penalty='none' will ignore the C and l1_ratio \"\n"
     ]
    },
    {
     "name": "stdout",
     "output_type": "stream",
     "text": [
      "[CV]  C=10, class_weight=None, penalty=none, solver=newton-cg, score=0.844, total=  10.8s\n",
      "[CV] C=10, class_weight=None, penalty=none, solver=lbfgs .............\n"
     ]
    },
    {
     "name": "stderr",
     "output_type": "stream",
     "text": [
      "/anaconda3/lib/python3.6/site-packages/sklearn/linear_model/logistic.py:1510: UserWarning: Setting penalty='none' will ignore the C and l1_ratio parameters\n",
      "  \"Setting penalty='none' will ignore the C and l1_ratio \"\n"
     ]
    },
    {
     "name": "stdout",
     "output_type": "stream",
     "text": [
      "[CV]  C=10, class_weight=None, penalty=none, solver=lbfgs, score=0.845, total=   1.0s\n",
      "[CV] C=10, class_weight=None, penalty=none, solver=lbfgs .............\n"
     ]
    },
    {
     "name": "stderr",
     "output_type": "stream",
     "text": [
      "/anaconda3/lib/python3.6/site-packages/sklearn/linear_model/logistic.py:1510: UserWarning: Setting penalty='none' will ignore the C and l1_ratio parameters\n",
      "  \"Setting penalty='none' will ignore the C and l1_ratio \"\n"
     ]
    },
    {
     "name": "stdout",
     "output_type": "stream",
     "text": [
      "[CV]  C=10, class_weight=None, penalty=none, solver=lbfgs, score=0.843, total=   0.9s\n",
      "[CV] C=10, class_weight=None, penalty=none, solver=lbfgs .............\n"
     ]
    },
    {
     "name": "stderr",
     "output_type": "stream",
     "text": [
      "/anaconda3/lib/python3.6/site-packages/sklearn/linear_model/logistic.py:1510: UserWarning: Setting penalty='none' will ignore the C and l1_ratio parameters\n",
      "  \"Setting penalty='none' will ignore the C and l1_ratio \"\n"
     ]
    },
    {
     "name": "stdout",
     "output_type": "stream",
     "text": [
      "[CV]  C=10, class_weight=None, penalty=none, solver=lbfgs, score=0.844, total=   1.0s\n",
      "[CV] C=10, class_weight=None, penalty=none, solver=sag ...............\n"
     ]
    },
    {
     "name": "stderr",
     "output_type": "stream",
     "text": [
      "/anaconda3/lib/python3.6/site-packages/sklearn/linear_model/logistic.py:1510: UserWarning: Setting penalty='none' will ignore the C and l1_ratio parameters\n",
      "  \"Setting penalty='none' will ignore the C and l1_ratio \"\n",
      "/anaconda3/lib/python3.6/site-packages/sklearn/linear_model/sag.py:337: ConvergenceWarning: The max_iter was reached which means the coef_ did not converge\n",
      "  \"the coef_ did not converge\", ConvergenceWarning)\n",
      "/anaconda3/lib/python3.6/site-packages/sklearn/linear_model/logistic.py:1510: UserWarning: Setting penalty='none' will ignore the C and l1_ratio parameters\n",
      "  \"Setting penalty='none' will ignore the C and l1_ratio \"\n"
     ]
    },
    {
     "name": "stdout",
     "output_type": "stream",
     "text": [
      "[CV]  C=10, class_weight=None, penalty=none, solver=sag, score=0.845, total=  11.5s\n",
      "[CV] C=10, class_weight=None, penalty=none, solver=sag ...............\n"
     ]
    },
    {
     "name": "stderr",
     "output_type": "stream",
     "text": [
      "/anaconda3/lib/python3.6/site-packages/sklearn/linear_model/sag.py:337: ConvergenceWarning: The max_iter was reached which means the coef_ did not converge\n",
      "  \"the coef_ did not converge\", ConvergenceWarning)\n",
      "/anaconda3/lib/python3.6/site-packages/sklearn/linear_model/logistic.py:1510: UserWarning: Setting penalty='none' will ignore the C and l1_ratio parameters\n",
      "  \"Setting penalty='none' will ignore the C and l1_ratio \"\n"
     ]
    },
    {
     "name": "stdout",
     "output_type": "stream",
     "text": [
      "[CV]  C=10, class_weight=None, penalty=none, solver=sag, score=0.843, total=  10.4s\n",
      "[CV] C=10, class_weight=None, penalty=none, solver=sag ...............\n"
     ]
    },
    {
     "name": "stderr",
     "output_type": "stream",
     "text": [
      "/anaconda3/lib/python3.6/site-packages/sklearn/linear_model/sag.py:337: ConvergenceWarning: The max_iter was reached which means the coef_ did not converge\n",
      "  \"the coef_ did not converge\", ConvergenceWarning)\n",
      "/anaconda3/lib/python3.6/site-packages/sklearn/linear_model/logistic.py:1510: UserWarning: Setting penalty='none' will ignore the C and l1_ratio parameters\n",
      "  \"Setting penalty='none' will ignore the C and l1_ratio \"\n"
     ]
    },
    {
     "name": "stdout",
     "output_type": "stream",
     "text": [
      "[CV]  C=10, class_weight=None, penalty=none, solver=sag, score=0.844, total=  10.1s\n",
      "[CV] C=10, class_weight=None, penalty=none, solver=saga ..............\n"
     ]
    },
    {
     "name": "stderr",
     "output_type": "stream",
     "text": [
      "/anaconda3/lib/python3.6/site-packages/sklearn/linear_model/sag.py:337: ConvergenceWarning: The max_iter was reached which means the coef_ did not converge\n",
      "  \"the coef_ did not converge\", ConvergenceWarning)\n",
      "/anaconda3/lib/python3.6/site-packages/sklearn/linear_model/logistic.py:1510: UserWarning: Setting penalty='none' will ignore the C and l1_ratio parameters\n",
      "  \"Setting penalty='none' will ignore the C and l1_ratio \"\n"
     ]
    },
    {
     "name": "stdout",
     "output_type": "stream",
     "text": [
      "[CV]  C=10, class_weight=None, penalty=none, solver=saga, score=0.845, total=  10.8s\n",
      "[CV] C=10, class_weight=None, penalty=none, solver=saga ..............\n"
     ]
    },
    {
     "name": "stderr",
     "output_type": "stream",
     "text": [
      "/anaconda3/lib/python3.6/site-packages/sklearn/linear_model/sag.py:337: ConvergenceWarning: The max_iter was reached which means the coef_ did not converge\n",
      "  \"the coef_ did not converge\", ConvergenceWarning)\n",
      "/anaconda3/lib/python3.6/site-packages/sklearn/linear_model/logistic.py:1510: UserWarning: Setting penalty='none' will ignore the C and l1_ratio parameters\n",
      "  \"Setting penalty='none' will ignore the C and l1_ratio \"\n"
     ]
    },
    {
     "name": "stdout",
     "output_type": "stream",
     "text": [
      "[CV]  C=10, class_weight=None, penalty=none, solver=saga, score=0.843, total=  11.1s\n",
      "[CV] C=10, class_weight=None, penalty=none, solver=saga ..............\n"
     ]
    },
    {
     "name": "stderr",
     "output_type": "stream",
     "text": [
      "/anaconda3/lib/python3.6/site-packages/sklearn/linear_model/sag.py:337: ConvergenceWarning: The max_iter was reached which means the coef_ did not converge\n",
      "  \"the coef_ did not converge\", ConvergenceWarning)\n"
     ]
    },
    {
     "name": "stdout",
     "output_type": "stream",
     "text": [
      "[CV]  C=10, class_weight=None, penalty=none, solver=saga, score=0.844, total=  11.3s\n",
      "[CV] C=10, class_weight=balanced, penalty=l1, solver=liblinear .......\n",
      "[CV]  C=10, class_weight=balanced, penalty=l1, solver=liblinear, score=0.637, total=  12.8s\n",
      "[CV] C=10, class_weight=balanced, penalty=l1, solver=liblinear .......\n",
      "[CV]  C=10, class_weight=balanced, penalty=l1, solver=liblinear, score=0.642, total=  12.8s\n",
      "[CV] C=10, class_weight=balanced, penalty=l1, solver=liblinear .......\n",
      "[CV]  C=10, class_weight=balanced, penalty=l1, solver=liblinear, score=0.643, total=  13.9s\n",
      "[CV] C=10, class_weight=balanced, penalty=l1, solver=newton-cg .......\n",
      "[CV]  C=10, class_weight=balanced, penalty=l1, solver=newton-cg, score=0.000, total=   0.0s\n",
      "[CV] C=10, class_weight=balanced, penalty=l1, solver=newton-cg .......\n",
      "[CV]  C=10, class_weight=balanced, penalty=l1, solver=newton-cg, score=0.000, total=   0.0s\n",
      "[CV] C=10, class_weight=balanced, penalty=l1, solver=newton-cg .......\n",
      "[CV]  C=10, class_weight=balanced, penalty=l1, solver=newton-cg, score=0.000, total=   0.0s\n",
      "[CV] C=10, class_weight=balanced, penalty=l1, solver=lbfgs ...........\n",
      "[CV]  C=10, class_weight=balanced, penalty=l1, solver=lbfgs, score=0.000, total=   0.0s\n",
      "[CV] C=10, class_weight=balanced, penalty=l1, solver=lbfgs ...........\n",
      "[CV]  C=10, class_weight=balanced, penalty=l1, solver=lbfgs, score=0.000, total=   0.0s\n",
      "[CV] C=10, class_weight=balanced, penalty=l1, solver=lbfgs ...........\n"
     ]
    },
    {
     "name": "stderr",
     "output_type": "stream",
     "text": [
      "/anaconda3/lib/python3.6/site-packages/sklearn/model_selection/_validation.py:547: FitFailedWarning: Estimator fit failed. The score on this train-test partition for these parameters will be set to 0.000000. Details: \n",
      "ValueError: Solver newton-cg supports only 'l2' or 'none' penalties, got l1 penalty.\n",
      "\n",
      "  FitFailedWarning)\n",
      "/anaconda3/lib/python3.6/site-packages/sklearn/model_selection/_validation.py:547: FitFailedWarning: Estimator fit failed. The score on this train-test partition for these parameters will be set to 0.000000. Details: \n",
      "ValueError: Solver lbfgs supports only 'l2' or 'none' penalties, got l1 penalty.\n",
      "\n",
      "  FitFailedWarning)\n",
      "/anaconda3/lib/python3.6/site-packages/sklearn/model_selection/_validation.py:547: FitFailedWarning: Estimator fit failed. The score on this train-test partition for these parameters will be set to 0.000000. Details: \n",
      "ValueError: Solver sag supports only 'l2' or 'none' penalties, got l1 penalty.\n",
      "\n",
      "  FitFailedWarning)\n"
     ]
    },
    {
     "name": "stdout",
     "output_type": "stream",
     "text": [
      "[CV]  C=10, class_weight=balanced, penalty=l1, solver=lbfgs, score=0.000, total=   0.0s\n",
      "[CV] C=10, class_weight=balanced, penalty=l1, solver=sag .............\n",
      "[CV]  C=10, class_weight=balanced, penalty=l1, solver=sag, score=0.000, total=   0.0s\n",
      "[CV] C=10, class_weight=balanced, penalty=l1, solver=sag .............\n",
      "[CV]  C=10, class_weight=balanced, penalty=l1, solver=sag, score=0.000, total=   0.0s\n",
      "[CV] C=10, class_weight=balanced, penalty=l1, solver=sag .............\n",
      "[CV]  C=10, class_weight=balanced, penalty=l1, solver=sag, score=0.000, total=   0.0s\n",
      "[CV] C=10, class_weight=balanced, penalty=l1, solver=saga ............\n"
     ]
    },
    {
     "name": "stderr",
     "output_type": "stream",
     "text": [
      "/anaconda3/lib/python3.6/site-packages/sklearn/linear_model/sag.py:337: ConvergenceWarning: The max_iter was reached which means the coef_ did not converge\n",
      "  \"the coef_ did not converge\", ConvergenceWarning)\n"
     ]
    },
    {
     "name": "stdout",
     "output_type": "stream",
     "text": [
      "[CV]  C=10, class_weight=balanced, penalty=l1, solver=saga, score=0.638, total=  12.9s\n",
      "[CV] C=10, class_weight=balanced, penalty=l1, solver=saga ............\n"
     ]
    },
    {
     "name": "stderr",
     "output_type": "stream",
     "text": [
      "/anaconda3/lib/python3.6/site-packages/sklearn/linear_model/sag.py:337: ConvergenceWarning: The max_iter was reached which means the coef_ did not converge\n",
      "  \"the coef_ did not converge\", ConvergenceWarning)\n"
     ]
    },
    {
     "name": "stdout",
     "output_type": "stream",
     "text": [
      "[CV]  C=10, class_weight=balanced, penalty=l1, solver=saga, score=0.642, total=  12.9s\n",
      "[CV] C=10, class_weight=balanced, penalty=l1, solver=saga ............\n"
     ]
    },
    {
     "name": "stderr",
     "output_type": "stream",
     "text": [
      "/anaconda3/lib/python3.6/site-packages/sklearn/linear_model/sag.py:337: ConvergenceWarning: The max_iter was reached which means the coef_ did not converge\n",
      "  \"the coef_ did not converge\", ConvergenceWarning)\n"
     ]
    },
    {
     "name": "stdout",
     "output_type": "stream",
     "text": [
      "[CV]  C=10, class_weight=balanced, penalty=l1, solver=saga, score=0.644, total=  12.8s\n",
      "[CV] C=10, class_weight=balanced, penalty=l2, solver=liblinear .......\n",
      "[CV]  C=10, class_weight=balanced, penalty=l2, solver=liblinear, score=0.637, total=   3.2s\n",
      "[CV] C=10, class_weight=balanced, penalty=l2, solver=liblinear .......\n",
      "[CV]  C=10, class_weight=balanced, penalty=l2, solver=liblinear, score=0.642, total=   4.0s\n",
      "[CV] C=10, class_weight=balanced, penalty=l2, solver=liblinear .......\n",
      "[CV]  C=10, class_weight=balanced, penalty=l2, solver=liblinear, score=0.643, total=   3.1s\n",
      "[CV] C=10, class_weight=balanced, penalty=l2, solver=newton-cg .......\n",
      "[CV]  C=10, class_weight=balanced, penalty=l2, solver=newton-cg, score=0.637, total=   3.9s\n",
      "[CV] C=10, class_weight=balanced, penalty=l2, solver=newton-cg .......\n",
      "[CV]  C=10, class_weight=balanced, penalty=l2, solver=newton-cg, score=0.642, total=   3.4s\n",
      "[CV] C=10, class_weight=balanced, penalty=l2, solver=newton-cg .......\n",
      "[CV]  C=10, class_weight=balanced, penalty=l2, solver=newton-cg, score=0.643, total=   4.0s\n",
      "[CV] C=10, class_weight=balanced, penalty=l2, solver=lbfgs ...........\n",
      "[CV]  C=10, class_weight=balanced, penalty=l2, solver=lbfgs, score=0.637, total=   1.0s\n",
      "[CV] C=10, class_weight=balanced, penalty=l2, solver=lbfgs ...........\n",
      "[CV]  C=10, class_weight=balanced, penalty=l2, solver=lbfgs, score=0.642, total=   1.0s\n",
      "[CV] C=10, class_weight=balanced, penalty=l2, solver=lbfgs ...........\n",
      "[CV]  C=10, class_weight=balanced, penalty=l2, solver=lbfgs, score=0.643, total=   1.0s\n",
      "[CV] C=10, class_weight=balanced, penalty=l2, solver=sag .............\n"
     ]
    },
    {
     "name": "stderr",
     "output_type": "stream",
     "text": [
      "/anaconda3/lib/python3.6/site-packages/sklearn/linear_model/sag.py:337: ConvergenceWarning: The max_iter was reached which means the coef_ did not converge\n",
      "  \"the coef_ did not converge\", ConvergenceWarning)\n"
     ]
    },
    {
     "name": "stdout",
     "output_type": "stream",
     "text": [
      "[CV]  C=10, class_weight=balanced, penalty=l2, solver=sag, score=0.637, total=  10.7s\n",
      "[CV] C=10, class_weight=balanced, penalty=l2, solver=sag .............\n"
     ]
    },
    {
     "name": "stderr",
     "output_type": "stream",
     "text": [
      "/anaconda3/lib/python3.6/site-packages/sklearn/linear_model/sag.py:337: ConvergenceWarning: The max_iter was reached which means the coef_ did not converge\n",
      "  \"the coef_ did not converge\", ConvergenceWarning)\n"
     ]
    },
    {
     "name": "stdout",
     "output_type": "stream",
     "text": [
      "[CV]  C=10, class_weight=balanced, penalty=l2, solver=sag, score=0.642, total=  10.5s\n",
      "[CV] C=10, class_weight=balanced, penalty=l2, solver=sag .............\n"
     ]
    },
    {
     "name": "stderr",
     "output_type": "stream",
     "text": [
      "/anaconda3/lib/python3.6/site-packages/sklearn/linear_model/sag.py:337: ConvergenceWarning: The max_iter was reached which means the coef_ did not converge\n",
      "  \"the coef_ did not converge\", ConvergenceWarning)\n"
     ]
    },
    {
     "name": "stdout",
     "output_type": "stream",
     "text": [
      "[CV]  C=10, class_weight=balanced, penalty=l2, solver=sag, score=0.643, total=  10.4s\n",
      "[CV] C=10, class_weight=balanced, penalty=l2, solver=saga ............\n"
     ]
    },
    {
     "name": "stderr",
     "output_type": "stream",
     "text": [
      "/anaconda3/lib/python3.6/site-packages/sklearn/linear_model/sag.py:337: ConvergenceWarning: The max_iter was reached which means the coef_ did not converge\n",
      "  \"the coef_ did not converge\", ConvergenceWarning)\n"
     ]
    },
    {
     "name": "stdout",
     "output_type": "stream",
     "text": [
      "[CV]  C=10, class_weight=balanced, penalty=l2, solver=saga, score=0.638, total=  11.0s\n",
      "[CV] C=10, class_weight=balanced, penalty=l2, solver=saga ............\n"
     ]
    },
    {
     "name": "stderr",
     "output_type": "stream",
     "text": [
      "/anaconda3/lib/python3.6/site-packages/sklearn/linear_model/sag.py:337: ConvergenceWarning: The max_iter was reached which means the coef_ did not converge\n",
      "  \"the coef_ did not converge\", ConvergenceWarning)\n"
     ]
    },
    {
     "name": "stdout",
     "output_type": "stream",
     "text": [
      "[CV]  C=10, class_weight=balanced, penalty=l2, solver=saga, score=0.642, total=  10.9s\n",
      "[CV] C=10, class_weight=balanced, penalty=l2, solver=saga ............\n"
     ]
    },
    {
     "name": "stderr",
     "output_type": "stream",
     "text": [
      "/anaconda3/lib/python3.6/site-packages/sklearn/linear_model/sag.py:337: ConvergenceWarning: The max_iter was reached which means the coef_ did not converge\n",
      "  \"the coef_ did not converge\", ConvergenceWarning)\n",
      "/anaconda3/lib/python3.6/site-packages/sklearn/model_selection/_validation.py:547: FitFailedWarning: Estimator fit failed. The score on this train-test partition for these parameters will be set to 0.000000. Details: \n",
      "ValueError: penalty='none' is not supported for the liblinear solver\n",
      "\n",
      "  FitFailedWarning)\n",
      "/anaconda3/lib/python3.6/site-packages/sklearn/linear_model/logistic.py:1510: UserWarning: Setting penalty='none' will ignore the C and l1_ratio parameters\n",
      "  \"Setting penalty='none' will ignore the C and l1_ratio \"\n"
     ]
    },
    {
     "name": "stdout",
     "output_type": "stream",
     "text": [
      "[CV]  C=10, class_weight=balanced, penalty=l2, solver=saga, score=0.644, total=  10.8s\n",
      "[CV] C=10, class_weight=balanced, penalty=none, solver=liblinear .....\n",
      "[CV]  C=10, class_weight=balanced, penalty=none, solver=liblinear, score=0.000, total=   0.0s\n",
      "[CV] C=10, class_weight=balanced, penalty=none, solver=liblinear .....\n",
      "[CV]  C=10, class_weight=balanced, penalty=none, solver=liblinear, score=0.000, total=   0.0s\n",
      "[CV] C=10, class_weight=balanced, penalty=none, solver=liblinear .....\n",
      "[CV]  C=10, class_weight=balanced, penalty=none, solver=liblinear, score=0.000, total=   0.0s\n",
      "[CV] C=10, class_weight=balanced, penalty=none, solver=newton-cg .....\n",
      "[CV]  C=10, class_weight=balanced, penalty=none, solver=newton-cg, score=0.637, total=   7.5s\n",
      "[CV] C=10, class_weight=balanced, penalty=none, solver=newton-cg .....\n"
     ]
    },
    {
     "name": "stderr",
     "output_type": "stream",
     "text": [
      "/anaconda3/lib/python3.6/site-packages/sklearn/linear_model/logistic.py:1510: UserWarning: Setting penalty='none' will ignore the C and l1_ratio parameters\n",
      "  \"Setting penalty='none' will ignore the C and l1_ratio \"\n"
     ]
    },
    {
     "name": "stdout",
     "output_type": "stream",
     "text": [
      "[CV]  C=10, class_weight=balanced, penalty=none, solver=newton-cg, score=0.642, total=  26.1s\n",
      "[CV] C=10, class_weight=balanced, penalty=none, solver=newton-cg .....\n"
     ]
    },
    {
     "name": "stderr",
     "output_type": "stream",
     "text": [
      "/anaconda3/lib/python3.6/site-packages/sklearn/linear_model/logistic.py:1510: UserWarning: Setting penalty='none' will ignore the C and l1_ratio parameters\n",
      "  \"Setting penalty='none' will ignore the C and l1_ratio \"\n"
     ]
    },
    {
     "name": "stdout",
     "output_type": "stream",
     "text": [
      "[CV]  C=10, class_weight=balanced, penalty=none, solver=newton-cg, score=0.643, total=   8.2s\n",
      "[CV] C=10, class_weight=balanced, penalty=none, solver=lbfgs .........\n"
     ]
    },
    {
     "name": "stderr",
     "output_type": "stream",
     "text": [
      "/anaconda3/lib/python3.6/site-packages/sklearn/linear_model/logistic.py:1510: UserWarning: Setting penalty='none' will ignore the C and l1_ratio parameters\n",
      "  \"Setting penalty='none' will ignore the C and l1_ratio \"\n"
     ]
    },
    {
     "name": "stdout",
     "output_type": "stream",
     "text": [
      "[CV]  C=10, class_weight=balanced, penalty=none, solver=lbfgs, score=0.637, total=   0.9s\n",
      "[CV] C=10, class_weight=balanced, penalty=none, solver=lbfgs .........\n"
     ]
    },
    {
     "name": "stderr",
     "output_type": "stream",
     "text": [
      "/anaconda3/lib/python3.6/site-packages/sklearn/linear_model/logistic.py:1510: UserWarning: Setting penalty='none' will ignore the C and l1_ratio parameters\n",
      "  \"Setting penalty='none' will ignore the C and l1_ratio \"\n"
     ]
    },
    {
     "name": "stdout",
     "output_type": "stream",
     "text": [
      "[CV]  C=10, class_weight=balanced, penalty=none, solver=lbfgs, score=0.642, total=   0.9s\n",
      "[CV] C=10, class_weight=balanced, penalty=none, solver=lbfgs .........\n"
     ]
    },
    {
     "name": "stderr",
     "output_type": "stream",
     "text": [
      "/anaconda3/lib/python3.6/site-packages/sklearn/linear_model/logistic.py:1510: UserWarning: Setting penalty='none' will ignore the C and l1_ratio parameters\n",
      "  \"Setting penalty='none' will ignore the C and l1_ratio \"\n"
     ]
    },
    {
     "name": "stdout",
     "output_type": "stream",
     "text": [
      "[CV]  C=10, class_weight=balanced, penalty=none, solver=lbfgs, score=0.643, total=   0.9s\n",
      "[CV] C=10, class_weight=balanced, penalty=none, solver=sag ...........\n"
     ]
    },
    {
     "name": "stderr",
     "output_type": "stream",
     "text": [
      "/anaconda3/lib/python3.6/site-packages/sklearn/linear_model/logistic.py:1510: UserWarning: Setting penalty='none' will ignore the C and l1_ratio parameters\n",
      "  \"Setting penalty='none' will ignore the C and l1_ratio \"\n",
      "/anaconda3/lib/python3.6/site-packages/sklearn/linear_model/sag.py:337: ConvergenceWarning: The max_iter was reached which means the coef_ did not converge\n",
      "  \"the coef_ did not converge\", ConvergenceWarning)\n",
      "/anaconda3/lib/python3.6/site-packages/sklearn/linear_model/logistic.py:1510: UserWarning: Setting penalty='none' will ignore the C and l1_ratio parameters\n",
      "  \"Setting penalty='none' will ignore the C and l1_ratio \"\n"
     ]
    },
    {
     "name": "stdout",
     "output_type": "stream",
     "text": [
      "[CV]  C=10, class_weight=balanced, penalty=none, solver=sag, score=0.637, total=  12.9s\n",
      "[CV] C=10, class_weight=balanced, penalty=none, solver=sag ...........\n"
     ]
    },
    {
     "name": "stderr",
     "output_type": "stream",
     "text": [
      "/anaconda3/lib/python3.6/site-packages/sklearn/linear_model/sag.py:337: ConvergenceWarning: The max_iter was reached which means the coef_ did not converge\n",
      "  \"the coef_ did not converge\", ConvergenceWarning)\n",
      "/anaconda3/lib/python3.6/site-packages/sklearn/linear_model/logistic.py:1510: UserWarning: Setting penalty='none' will ignore the C and l1_ratio parameters\n",
      "  \"Setting penalty='none' will ignore the C and l1_ratio \"\n"
     ]
    },
    {
     "name": "stdout",
     "output_type": "stream",
     "text": [
      "[CV]  C=10, class_weight=balanced, penalty=none, solver=sag, score=0.642, total=  12.9s\n",
      "[CV] C=10, class_weight=balanced, penalty=none, solver=sag ...........\n"
     ]
    },
    {
     "name": "stderr",
     "output_type": "stream",
     "text": [
      "/anaconda3/lib/python3.6/site-packages/sklearn/linear_model/sag.py:337: ConvergenceWarning: The max_iter was reached which means the coef_ did not converge\n",
      "  \"the coef_ did not converge\", ConvergenceWarning)\n",
      "/anaconda3/lib/python3.6/site-packages/sklearn/linear_model/logistic.py:1510: UserWarning: Setting penalty='none' will ignore the C and l1_ratio parameters\n",
      "  \"Setting penalty='none' will ignore the C and l1_ratio \"\n"
     ]
    },
    {
     "name": "stdout",
     "output_type": "stream",
     "text": [
      "[CV]  C=10, class_weight=balanced, penalty=none, solver=sag, score=0.643, total=  11.4s\n",
      "[CV] C=10, class_weight=balanced, penalty=none, solver=saga ..........\n"
     ]
    },
    {
     "name": "stderr",
     "output_type": "stream",
     "text": [
      "/anaconda3/lib/python3.6/site-packages/sklearn/linear_model/sag.py:337: ConvergenceWarning: The max_iter was reached which means the coef_ did not converge\n",
      "  \"the coef_ did not converge\", ConvergenceWarning)\n",
      "/anaconda3/lib/python3.6/site-packages/sklearn/linear_model/logistic.py:1510: UserWarning: Setting penalty='none' will ignore the C and l1_ratio parameters\n",
      "  \"Setting penalty='none' will ignore the C and l1_ratio \"\n"
     ]
    },
    {
     "name": "stdout",
     "output_type": "stream",
     "text": [
      "[CV]  C=10, class_weight=balanced, penalty=none, solver=saga, score=0.638, total=  11.0s\n",
      "[CV] C=10, class_weight=balanced, penalty=none, solver=saga ..........\n"
     ]
    },
    {
     "name": "stderr",
     "output_type": "stream",
     "text": [
      "/anaconda3/lib/python3.6/site-packages/sklearn/linear_model/sag.py:337: ConvergenceWarning: The max_iter was reached which means the coef_ did not converge\n",
      "  \"the coef_ did not converge\", ConvergenceWarning)\n",
      "/anaconda3/lib/python3.6/site-packages/sklearn/linear_model/logistic.py:1510: UserWarning: Setting penalty='none' will ignore the C and l1_ratio parameters\n",
      "  \"Setting penalty='none' will ignore the C and l1_ratio \"\n"
     ]
    },
    {
     "name": "stdout",
     "output_type": "stream",
     "text": [
      "[CV]  C=10, class_weight=balanced, penalty=none, solver=saga, score=0.642, total=  11.7s\n",
      "[CV] C=10, class_weight=balanced, penalty=none, solver=saga ..........\n"
     ]
    },
    {
     "name": "stderr",
     "output_type": "stream",
     "text": [
      "/anaconda3/lib/python3.6/site-packages/sklearn/linear_model/sag.py:337: ConvergenceWarning: The max_iter was reached which means the coef_ did not converge\n",
      "  \"the coef_ did not converge\", ConvergenceWarning)\n"
     ]
    },
    {
     "name": "stdout",
     "output_type": "stream",
     "text": [
      "[CV]  C=10, class_weight=balanced, penalty=none, solver=saga, score=0.644, total=  11.2s\n",
      "[CV] C=50, class_weight=None, penalty=l1, solver=liblinear ...........\n",
      "[CV]  C=50, class_weight=None, penalty=l1, solver=liblinear, score=0.845, total=  13.3s\n",
      "[CV] C=50, class_weight=None, penalty=l1, solver=liblinear ...........\n",
      "[CV]  C=50, class_weight=None, penalty=l1, solver=liblinear, score=0.843, total=  12.2s\n",
      "[CV] C=50, class_weight=None, penalty=l1, solver=liblinear ...........\n",
      "[CV]  C=50, class_weight=None, penalty=l1, solver=liblinear, score=0.844, total=  12.7s\n",
      "[CV] C=50, class_weight=None, penalty=l1, solver=newton-cg ...........\n",
      "[CV]  C=50, class_weight=None, penalty=l1, solver=newton-cg, score=0.000, total=   0.0s\n",
      "[CV] C=50, class_weight=None, penalty=l1, solver=newton-cg ...........\n",
      "[CV]  C=50, class_weight=None, penalty=l1, solver=newton-cg, score=0.000, total=   0.0s\n",
      "[CV] C=50, class_weight=None, penalty=l1, solver=newton-cg ...........\n",
      "[CV]  C=50, class_weight=None, penalty=l1, solver=newton-cg, score=0.000, total=   0.0s\n",
      "[CV] C=50, class_weight=None, penalty=l1, solver=lbfgs ...............\n",
      "[CV]  C=50, class_weight=None, penalty=l1, solver=lbfgs, score=0.000, total=   0.0s\n",
      "[CV] C=50, class_weight=None, penalty=l1, solver=lbfgs ...............\n",
      "[CV]  C=50, class_weight=None, penalty=l1, solver=lbfgs, score=0.000, total=   0.0s\n",
      "[CV] C=50, class_weight=None, penalty=l1, solver=lbfgs ...............\n"
     ]
    },
    {
     "name": "stderr",
     "output_type": "stream",
     "text": [
      "/anaconda3/lib/python3.6/site-packages/sklearn/model_selection/_validation.py:547: FitFailedWarning: Estimator fit failed. The score on this train-test partition for these parameters will be set to 0.000000. Details: \n",
      "ValueError: Solver newton-cg supports only 'l2' or 'none' penalties, got l1 penalty.\n",
      "\n",
      "  FitFailedWarning)\n",
      "/anaconda3/lib/python3.6/site-packages/sklearn/model_selection/_validation.py:547: FitFailedWarning: Estimator fit failed. The score on this train-test partition for these parameters will be set to 0.000000. Details: \n",
      "ValueError: Solver lbfgs supports only 'l2' or 'none' penalties, got l1 penalty.\n",
      "\n",
      "  FitFailedWarning)\n"
     ]
    },
    {
     "name": "stdout",
     "output_type": "stream",
     "text": [
      "[CV]  C=50, class_weight=None, penalty=l1, solver=lbfgs, score=0.000, total=   0.0s\n",
      "[CV] C=50, class_weight=None, penalty=l1, solver=sag .................\n",
      "[CV]  C=50, class_weight=None, penalty=l1, solver=sag, score=0.000, total=   0.0s\n",
      "[CV] C=50, class_weight=None, penalty=l1, solver=sag .................\n",
      "[CV]  C=50, class_weight=None, penalty=l1, solver=sag, score=0.000, total=   0.0s\n",
      "[CV] C=50, class_weight=None, penalty=l1, solver=sag .................\n",
      "[CV]  C=50, class_weight=None, penalty=l1, solver=sag, score=0.000, total=   0.0s\n",
      "[CV] C=50, class_weight=None, penalty=l1, solver=saga ................\n"
     ]
    },
    {
     "name": "stderr",
     "output_type": "stream",
     "text": [
      "/anaconda3/lib/python3.6/site-packages/sklearn/model_selection/_validation.py:547: FitFailedWarning: Estimator fit failed. The score on this train-test partition for these parameters will be set to 0.000000. Details: \n",
      "ValueError: Solver sag supports only 'l2' or 'none' penalties, got l1 penalty.\n",
      "\n",
      "  FitFailedWarning)\n",
      "/anaconda3/lib/python3.6/site-packages/sklearn/linear_model/sag.py:337: ConvergenceWarning: The max_iter was reached which means the coef_ did not converge\n",
      "  \"the coef_ did not converge\", ConvergenceWarning)\n"
     ]
    },
    {
     "name": "stdout",
     "output_type": "stream",
     "text": [
      "[CV]  C=50, class_weight=None, penalty=l1, solver=saga, score=0.845, total=  13.5s\n",
      "[CV] C=50, class_weight=None, penalty=l1, solver=saga ................\n"
     ]
    },
    {
     "name": "stderr",
     "output_type": "stream",
     "text": [
      "/anaconda3/lib/python3.6/site-packages/sklearn/linear_model/sag.py:337: ConvergenceWarning: The max_iter was reached which means the coef_ did not converge\n",
      "  \"the coef_ did not converge\", ConvergenceWarning)\n"
     ]
    },
    {
     "name": "stdout",
     "output_type": "stream",
     "text": [
      "[CV]  C=50, class_weight=None, penalty=l1, solver=saga, score=0.843, total=  14.7s\n",
      "[CV] C=50, class_weight=None, penalty=l1, solver=saga ................\n"
     ]
    },
    {
     "name": "stderr",
     "output_type": "stream",
     "text": [
      "/anaconda3/lib/python3.6/site-packages/sklearn/linear_model/sag.py:337: ConvergenceWarning: The max_iter was reached which means the coef_ did not converge\n",
      "  \"the coef_ did not converge\", ConvergenceWarning)\n"
     ]
    },
    {
     "name": "stdout",
     "output_type": "stream",
     "text": [
      "[CV]  C=50, class_weight=None, penalty=l1, solver=saga, score=0.844, total=  14.9s\n",
      "[CV] C=50, class_weight=None, penalty=l2, solver=liblinear ...........\n",
      "[CV]  C=50, class_weight=None, penalty=l2, solver=liblinear, score=0.845, total=   3.0s\n",
      "[CV] C=50, class_weight=None, penalty=l2, solver=liblinear ...........\n",
      "[CV]  C=50, class_weight=None, penalty=l2, solver=liblinear, score=0.843, total=   3.2s\n",
      "[CV] C=50, class_weight=None, penalty=l2, solver=liblinear ...........\n",
      "[CV]  C=50, class_weight=None, penalty=l2, solver=liblinear, score=0.844, total=   3.0s\n",
      "[CV] C=50, class_weight=None, penalty=l2, solver=newton-cg ...........\n",
      "[CV]  C=50, class_weight=None, penalty=l2, solver=newton-cg, score=0.845, total=   4.1s\n",
      "[CV] C=50, class_weight=None, penalty=l2, solver=newton-cg ...........\n",
      "[CV]  C=50, class_weight=None, penalty=l2, solver=newton-cg, score=0.843, total=   4.1s\n",
      "[CV] C=50, class_weight=None, penalty=l2, solver=newton-cg ...........\n",
      "[CV]  C=50, class_weight=None, penalty=l2, solver=newton-cg, score=0.844, total=   4.0s\n",
      "[CV] C=50, class_weight=None, penalty=l2, solver=lbfgs ...............\n",
      "[CV]  C=50, class_weight=None, penalty=l2, solver=lbfgs, score=0.845, total=   0.9s\n",
      "[CV] C=50, class_weight=None, penalty=l2, solver=lbfgs ...............\n",
      "[CV]  C=50, class_weight=None, penalty=l2, solver=lbfgs, score=0.843, total=   0.8s\n",
      "[CV] C=50, class_weight=None, penalty=l2, solver=lbfgs ...............\n",
      "[CV]  C=50, class_weight=None, penalty=l2, solver=lbfgs, score=0.844, total=   1.0s\n",
      "[CV] C=50, class_weight=None, penalty=l2, solver=sag .................\n"
     ]
    },
    {
     "name": "stderr",
     "output_type": "stream",
     "text": [
      "/anaconda3/lib/python3.6/site-packages/sklearn/linear_model/sag.py:337: ConvergenceWarning: The max_iter was reached which means the coef_ did not converge\n",
      "  \"the coef_ did not converge\", ConvergenceWarning)\n"
     ]
    },
    {
     "name": "stdout",
     "output_type": "stream",
     "text": [
      "[CV]  C=50, class_weight=None, penalty=l2, solver=sag, score=0.845, total=  12.7s\n",
      "[CV] C=50, class_weight=None, penalty=l2, solver=sag .................\n"
     ]
    },
    {
     "name": "stderr",
     "output_type": "stream",
     "text": [
      "/anaconda3/lib/python3.6/site-packages/sklearn/linear_model/sag.py:337: ConvergenceWarning: The max_iter was reached which means the coef_ did not converge\n",
      "  \"the coef_ did not converge\", ConvergenceWarning)\n"
     ]
    },
    {
     "name": "stdout",
     "output_type": "stream",
     "text": [
      "[CV]  C=50, class_weight=None, penalty=l2, solver=sag, score=0.843, total=  12.8s\n",
      "[CV] C=50, class_weight=None, penalty=l2, solver=sag .................\n"
     ]
    },
    {
     "name": "stderr",
     "output_type": "stream",
     "text": [
      "/anaconda3/lib/python3.6/site-packages/sklearn/linear_model/sag.py:337: ConvergenceWarning: The max_iter was reached which means the coef_ did not converge\n",
      "  \"the coef_ did not converge\", ConvergenceWarning)\n"
     ]
    },
    {
     "name": "stdout",
     "output_type": "stream",
     "text": [
      "[CV]  C=50, class_weight=None, penalty=l2, solver=sag, score=0.844, total=  12.8s\n",
      "[CV] C=50, class_weight=None, penalty=l2, solver=saga ................\n"
     ]
    },
    {
     "name": "stderr",
     "output_type": "stream",
     "text": [
      "/anaconda3/lib/python3.6/site-packages/sklearn/linear_model/sag.py:337: ConvergenceWarning: The max_iter was reached which means the coef_ did not converge\n",
      "  \"the coef_ did not converge\", ConvergenceWarning)\n"
     ]
    },
    {
     "name": "stdout",
     "output_type": "stream",
     "text": [
      "[CV]  C=50, class_weight=None, penalty=l2, solver=saga, score=0.845, total=  13.1s\n",
      "[CV] C=50, class_weight=None, penalty=l2, solver=saga ................\n"
     ]
    },
    {
     "name": "stderr",
     "output_type": "stream",
     "text": [
      "/anaconda3/lib/python3.6/site-packages/sklearn/linear_model/sag.py:337: ConvergenceWarning: The max_iter was reached which means the coef_ did not converge\n",
      "  \"the coef_ did not converge\", ConvergenceWarning)\n"
     ]
    },
    {
     "name": "stdout",
     "output_type": "stream",
     "text": [
      "[CV]  C=50, class_weight=None, penalty=l2, solver=saga, score=0.843, total=  13.2s\n",
      "[CV] C=50, class_weight=None, penalty=l2, solver=saga ................\n"
     ]
    },
    {
     "name": "stderr",
     "output_type": "stream",
     "text": [
      "/anaconda3/lib/python3.6/site-packages/sklearn/linear_model/sag.py:337: ConvergenceWarning: The max_iter was reached which means the coef_ did not converge\n",
      "  \"the coef_ did not converge\", ConvergenceWarning)\n",
      "/anaconda3/lib/python3.6/site-packages/sklearn/model_selection/_validation.py:547: FitFailedWarning: Estimator fit failed. The score on this train-test partition for these parameters will be set to 0.000000. Details: \n",
      "ValueError: penalty='none' is not supported for the liblinear solver\n",
      "\n",
      "  FitFailedWarning)\n",
      "/anaconda3/lib/python3.6/site-packages/sklearn/linear_model/logistic.py:1510: UserWarning: Setting penalty='none' will ignore the C and l1_ratio parameters\n",
      "  \"Setting penalty='none' will ignore the C and l1_ratio \"\n"
     ]
    },
    {
     "name": "stdout",
     "output_type": "stream",
     "text": [
      "[CV]  C=50, class_weight=None, penalty=l2, solver=saga, score=0.844, total=  11.6s\n",
      "[CV] C=50, class_weight=None, penalty=none, solver=liblinear .........\n",
      "[CV]  C=50, class_weight=None, penalty=none, solver=liblinear, score=0.000, total=   0.0s\n",
      "[CV] C=50, class_weight=None, penalty=none, solver=liblinear .........\n",
      "[CV]  C=50, class_weight=None, penalty=none, solver=liblinear, score=0.000, total=   0.0s\n",
      "[CV] C=50, class_weight=None, penalty=none, solver=liblinear .........\n",
      "[CV]  C=50, class_weight=None, penalty=none, solver=liblinear, score=0.000, total=   0.0s\n",
      "[CV] C=50, class_weight=None, penalty=none, solver=newton-cg .........\n",
      "[CV]  C=50, class_weight=None, penalty=none, solver=newton-cg, score=0.845, total=   8.7s\n",
      "[CV] C=50, class_weight=None, penalty=none, solver=newton-cg .........\n"
     ]
    },
    {
     "name": "stderr",
     "output_type": "stream",
     "text": [
      "/anaconda3/lib/python3.6/site-packages/sklearn/linear_model/logistic.py:1510: UserWarning: Setting penalty='none' will ignore the C and l1_ratio parameters\n",
      "  \"Setting penalty='none' will ignore the C and l1_ratio \"\n"
     ]
    },
    {
     "name": "stdout",
     "output_type": "stream",
     "text": [
      "[CV]  C=50, class_weight=None, penalty=none, solver=newton-cg, score=0.843, total=  22.8s\n",
      "[CV] C=50, class_weight=None, penalty=none, solver=newton-cg .........\n"
     ]
    },
    {
     "name": "stderr",
     "output_type": "stream",
     "text": [
      "/anaconda3/lib/python3.6/site-packages/sklearn/linear_model/logistic.py:1510: UserWarning: Setting penalty='none' will ignore the C and l1_ratio parameters\n",
      "  \"Setting penalty='none' will ignore the C and l1_ratio \"\n"
     ]
    },
    {
     "name": "stdout",
     "output_type": "stream",
     "text": [
      "[CV]  C=50, class_weight=None, penalty=none, solver=newton-cg, score=0.844, total=  12.2s\n",
      "[CV] C=50, class_weight=None, penalty=none, solver=lbfgs .............\n"
     ]
    },
    {
     "name": "stderr",
     "output_type": "stream",
     "text": [
      "/anaconda3/lib/python3.6/site-packages/sklearn/linear_model/logistic.py:1510: UserWarning: Setting penalty='none' will ignore the C and l1_ratio parameters\n",
      "  \"Setting penalty='none' will ignore the C and l1_ratio \"\n"
     ]
    },
    {
     "name": "stdout",
     "output_type": "stream",
     "text": [
      "[CV]  C=50, class_weight=None, penalty=none, solver=lbfgs, score=0.845, total=   1.3s\n",
      "[CV] C=50, class_weight=None, penalty=none, solver=lbfgs .............\n"
     ]
    },
    {
     "name": "stderr",
     "output_type": "stream",
     "text": [
      "/anaconda3/lib/python3.6/site-packages/sklearn/linear_model/logistic.py:1510: UserWarning: Setting penalty='none' will ignore the C and l1_ratio parameters\n",
      "  \"Setting penalty='none' will ignore the C and l1_ratio \"\n"
     ]
    },
    {
     "name": "stdout",
     "output_type": "stream",
     "text": [
      "[CV]  C=50, class_weight=None, penalty=none, solver=lbfgs, score=0.843, total=   1.2s\n",
      "[CV] C=50, class_weight=None, penalty=none, solver=lbfgs .............\n"
     ]
    },
    {
     "name": "stderr",
     "output_type": "stream",
     "text": [
      "/anaconda3/lib/python3.6/site-packages/sklearn/linear_model/logistic.py:1510: UserWarning: Setting penalty='none' will ignore the C and l1_ratio parameters\n",
      "  \"Setting penalty='none' will ignore the C and l1_ratio \"\n"
     ]
    },
    {
     "name": "stdout",
     "output_type": "stream",
     "text": [
      "[CV]  C=50, class_weight=None, penalty=none, solver=lbfgs, score=0.844, total=   1.3s\n",
      "[CV] C=50, class_weight=None, penalty=none, solver=sag ...............\n"
     ]
    },
    {
     "name": "stderr",
     "output_type": "stream",
     "text": [
      "/anaconda3/lib/python3.6/site-packages/sklearn/linear_model/logistic.py:1510: UserWarning: Setting penalty='none' will ignore the C and l1_ratio parameters\n",
      "  \"Setting penalty='none' will ignore the C and l1_ratio \"\n",
      "/anaconda3/lib/python3.6/site-packages/sklearn/linear_model/sag.py:337: ConvergenceWarning: The max_iter was reached which means the coef_ did not converge\n",
      "  \"the coef_ did not converge\", ConvergenceWarning)\n",
      "/anaconda3/lib/python3.6/site-packages/sklearn/linear_model/logistic.py:1510: UserWarning: Setting penalty='none' will ignore the C and l1_ratio parameters\n",
      "  \"Setting penalty='none' will ignore the C and l1_ratio \"\n"
     ]
    },
    {
     "name": "stdout",
     "output_type": "stream",
     "text": [
      "[CV]  C=50, class_weight=None, penalty=none, solver=sag, score=0.845, total=  10.5s\n",
      "[CV] C=50, class_weight=None, penalty=none, solver=sag ...............\n"
     ]
    },
    {
     "name": "stderr",
     "output_type": "stream",
     "text": [
      "/anaconda3/lib/python3.6/site-packages/sklearn/linear_model/sag.py:337: ConvergenceWarning: The max_iter was reached which means the coef_ did not converge\n",
      "  \"the coef_ did not converge\", ConvergenceWarning)\n",
      "/anaconda3/lib/python3.6/site-packages/sklearn/linear_model/logistic.py:1510: UserWarning: Setting penalty='none' will ignore the C and l1_ratio parameters\n",
      "  \"Setting penalty='none' will ignore the C and l1_ratio \"\n"
     ]
    },
    {
     "name": "stdout",
     "output_type": "stream",
     "text": [
      "[CV]  C=50, class_weight=None, penalty=none, solver=sag, score=0.843, total=  10.5s\n",
      "[CV] C=50, class_weight=None, penalty=none, solver=sag ...............\n"
     ]
    },
    {
     "name": "stderr",
     "output_type": "stream",
     "text": [
      "/anaconda3/lib/python3.6/site-packages/sklearn/linear_model/sag.py:337: ConvergenceWarning: The max_iter was reached which means the coef_ did not converge\n",
      "  \"the coef_ did not converge\", ConvergenceWarning)\n",
      "/anaconda3/lib/python3.6/site-packages/sklearn/linear_model/logistic.py:1510: UserWarning: Setting penalty='none' will ignore the C and l1_ratio parameters\n",
      "  \"Setting penalty='none' will ignore the C and l1_ratio \"\n"
     ]
    },
    {
     "name": "stdout",
     "output_type": "stream",
     "text": [
      "[CV]  C=50, class_weight=None, penalty=none, solver=sag, score=0.844, total=  10.5s\n",
      "[CV] C=50, class_weight=None, penalty=none, solver=saga ..............\n"
     ]
    },
    {
     "name": "stderr",
     "output_type": "stream",
     "text": [
      "/anaconda3/lib/python3.6/site-packages/sklearn/linear_model/sag.py:337: ConvergenceWarning: The max_iter was reached which means the coef_ did not converge\n",
      "  \"the coef_ did not converge\", ConvergenceWarning)\n",
      "/anaconda3/lib/python3.6/site-packages/sklearn/linear_model/logistic.py:1510: UserWarning: Setting penalty='none' will ignore the C and l1_ratio parameters\n",
      "  \"Setting penalty='none' will ignore the C and l1_ratio \"\n"
     ]
    },
    {
     "name": "stdout",
     "output_type": "stream",
     "text": [
      "[CV]  C=50, class_weight=None, penalty=none, solver=saga, score=0.845, total=  11.1s\n",
      "[CV] C=50, class_weight=None, penalty=none, solver=saga ..............\n"
     ]
    },
    {
     "name": "stderr",
     "output_type": "stream",
     "text": [
      "/anaconda3/lib/python3.6/site-packages/sklearn/linear_model/sag.py:337: ConvergenceWarning: The max_iter was reached which means the coef_ did not converge\n",
      "  \"the coef_ did not converge\", ConvergenceWarning)\n",
      "/anaconda3/lib/python3.6/site-packages/sklearn/linear_model/logistic.py:1510: UserWarning: Setting penalty='none' will ignore the C and l1_ratio parameters\n",
      "  \"Setting penalty='none' will ignore the C and l1_ratio \"\n"
     ]
    },
    {
     "name": "stdout",
     "output_type": "stream",
     "text": [
      "[CV]  C=50, class_weight=None, penalty=none, solver=saga, score=0.843, total=  11.2s\n",
      "[CV] C=50, class_weight=None, penalty=none, solver=saga ..............\n"
     ]
    },
    {
     "name": "stderr",
     "output_type": "stream",
     "text": [
      "/anaconda3/lib/python3.6/site-packages/sklearn/linear_model/sag.py:337: ConvergenceWarning: The max_iter was reached which means the coef_ did not converge\n",
      "  \"the coef_ did not converge\", ConvergenceWarning)\n"
     ]
    },
    {
     "name": "stdout",
     "output_type": "stream",
     "text": [
      "[CV]  C=50, class_weight=None, penalty=none, solver=saga, score=0.844, total=  11.1s\n",
      "[CV] C=50, class_weight=balanced, penalty=l1, solver=liblinear .......\n",
      "[CV]  C=50, class_weight=balanced, penalty=l1, solver=liblinear, score=0.637, total=  10.1s\n",
      "[CV] C=50, class_weight=balanced, penalty=l1, solver=liblinear .......\n",
      "[CV]  C=50, class_weight=balanced, penalty=l1, solver=liblinear, score=0.642, total=  15.6s\n",
      "[CV] C=50, class_weight=balanced, penalty=l1, solver=liblinear .......\n",
      "[CV]  C=50, class_weight=balanced, penalty=l1, solver=liblinear, score=0.643, total=  11.0s\n",
      "[CV] C=50, class_weight=balanced, penalty=l1, solver=newton-cg .......\n",
      "[CV]  C=50, class_weight=balanced, penalty=l1, solver=newton-cg, score=0.000, total=   0.0s\n",
      "[CV] C=50, class_weight=balanced, penalty=l1, solver=newton-cg .......\n",
      "[CV]  C=50, class_weight=balanced, penalty=l1, solver=newton-cg, score=0.000, total=   0.0s\n",
      "[CV] C=50, class_weight=balanced, penalty=l1, solver=newton-cg .......\n",
      "[CV]  C=50, class_weight=balanced, penalty=l1, solver=newton-cg, score=0.000, total=   0.0s\n",
      "[CV] C=50, class_weight=balanced, penalty=l1, solver=lbfgs ...........\n",
      "[CV]  C=50, class_weight=balanced, penalty=l1, solver=lbfgs, score=0.000, total=   0.0s\n",
      "[CV] C=50, class_weight=balanced, penalty=l1, solver=lbfgs ...........\n",
      "[CV]  C=50, class_weight=balanced, penalty=l1, solver=lbfgs, score=0.000, total=   0.0s\n",
      "[CV] C=50, class_weight=balanced, penalty=l1, solver=lbfgs ...........\n"
     ]
    },
    {
     "name": "stderr",
     "output_type": "stream",
     "text": [
      "/anaconda3/lib/python3.6/site-packages/sklearn/model_selection/_validation.py:547: FitFailedWarning: Estimator fit failed. The score on this train-test partition for these parameters will be set to 0.000000. Details: \n",
      "ValueError: Solver newton-cg supports only 'l2' or 'none' penalties, got l1 penalty.\n",
      "\n",
      "  FitFailedWarning)\n",
      "/anaconda3/lib/python3.6/site-packages/sklearn/model_selection/_validation.py:547: FitFailedWarning: Estimator fit failed. The score on this train-test partition for these parameters will be set to 0.000000. Details: \n",
      "ValueError: Solver lbfgs supports only 'l2' or 'none' penalties, got l1 penalty.\n",
      "\n",
      "  FitFailedWarning)\n"
     ]
    },
    {
     "name": "stdout",
     "output_type": "stream",
     "text": [
      "[CV]  C=50, class_weight=balanced, penalty=l1, solver=lbfgs, score=0.000, total=   0.0s\n",
      "[CV] C=50, class_weight=balanced, penalty=l1, solver=sag .............\n",
      "[CV]  C=50, class_weight=balanced, penalty=l1, solver=sag, score=0.000, total=   0.0s\n",
      "[CV] C=50, class_weight=balanced, penalty=l1, solver=sag .............\n",
      "[CV]  C=50, class_weight=balanced, penalty=l1, solver=sag, score=0.000, total=   0.0s\n",
      "[CV] C=50, class_weight=balanced, penalty=l1, solver=sag .............\n",
      "[CV]  C=50, class_weight=balanced, penalty=l1, solver=sag, score=0.000, total=   0.0s\n",
      "[CV] C=50, class_weight=balanced, penalty=l1, solver=saga ............\n"
     ]
    },
    {
     "name": "stderr",
     "output_type": "stream",
     "text": [
      "/anaconda3/lib/python3.6/site-packages/sklearn/model_selection/_validation.py:547: FitFailedWarning: Estimator fit failed. The score on this train-test partition for these parameters will be set to 0.000000. Details: \n",
      "ValueError: Solver sag supports only 'l2' or 'none' penalties, got l1 penalty.\n",
      "\n",
      "  FitFailedWarning)\n",
      "/anaconda3/lib/python3.6/site-packages/sklearn/linear_model/sag.py:337: ConvergenceWarning: The max_iter was reached which means the coef_ did not converge\n",
      "  \"the coef_ did not converge\", ConvergenceWarning)\n"
     ]
    },
    {
     "name": "stdout",
     "output_type": "stream",
     "text": [
      "[CV]  C=50, class_weight=balanced, penalty=l1, solver=saga, score=0.638, total=  13.9s\n",
      "[CV] C=50, class_weight=balanced, penalty=l1, solver=saga ............\n"
     ]
    },
    {
     "name": "stderr",
     "output_type": "stream",
     "text": [
      "/anaconda3/lib/python3.6/site-packages/sklearn/linear_model/sag.py:337: ConvergenceWarning: The max_iter was reached which means the coef_ did not converge\n",
      "  \"the coef_ did not converge\", ConvergenceWarning)\n"
     ]
    },
    {
     "name": "stdout",
     "output_type": "stream",
     "text": [
      "[CV]  C=50, class_weight=balanced, penalty=l1, solver=saga, score=0.642, total=  13.5s\n",
      "[CV] C=50, class_weight=balanced, penalty=l1, solver=saga ............\n"
     ]
    },
    {
     "name": "stderr",
     "output_type": "stream",
     "text": [
      "/anaconda3/lib/python3.6/site-packages/sklearn/linear_model/sag.py:337: ConvergenceWarning: The max_iter was reached which means the coef_ did not converge\n",
      "  \"the coef_ did not converge\", ConvergenceWarning)\n"
     ]
    },
    {
     "name": "stdout",
     "output_type": "stream",
     "text": [
      "[CV]  C=50, class_weight=balanced, penalty=l1, solver=saga, score=0.644, total=  13.5s\n",
      "[CV] C=50, class_weight=balanced, penalty=l2, solver=liblinear .......\n",
      "[CV]  C=50, class_weight=balanced, penalty=l2, solver=liblinear, score=0.637, total=   3.4s\n",
      "[CV] C=50, class_weight=balanced, penalty=l2, solver=liblinear .......\n",
      "[CV]  C=50, class_weight=balanced, penalty=l2, solver=liblinear, score=0.642, total=   4.2s\n",
      "[CV] C=50, class_weight=balanced, penalty=l2, solver=liblinear .......\n",
      "[CV]  C=50, class_weight=balanced, penalty=l2, solver=liblinear, score=0.643, total=   3.8s\n",
      "[CV] C=50, class_weight=balanced, penalty=l2, solver=newton-cg .......\n",
      "[CV]  C=50, class_weight=balanced, penalty=l2, solver=newton-cg, score=0.637, total=   4.8s\n",
      "[CV] C=50, class_weight=balanced, penalty=l2, solver=newton-cg .......\n",
      "[CV]  C=50, class_weight=balanced, penalty=l2, solver=newton-cg, score=0.642, total=   4.9s\n",
      "[CV] C=50, class_weight=balanced, penalty=l2, solver=newton-cg .......\n",
      "[CV]  C=50, class_weight=balanced, penalty=l2, solver=newton-cg, score=0.643, total=   5.1s\n",
      "[CV] C=50, class_weight=balanced, penalty=l2, solver=lbfgs ...........\n",
      "[CV]  C=50, class_weight=balanced, penalty=l2, solver=lbfgs, score=0.637, total=   1.3s\n",
      "[CV] C=50, class_weight=balanced, penalty=l2, solver=lbfgs ...........\n",
      "[CV]  C=50, class_weight=balanced, penalty=l2, solver=lbfgs, score=0.642, total=   1.2s\n",
      "[CV] C=50, class_weight=balanced, penalty=l2, solver=lbfgs ...........\n",
      "[CV]  C=50, class_weight=balanced, penalty=l2, solver=lbfgs, score=0.643, total=   1.3s\n",
      "[CV] C=50, class_weight=balanced, penalty=l2, solver=sag .............\n"
     ]
    },
    {
     "name": "stderr",
     "output_type": "stream",
     "text": [
      "/anaconda3/lib/python3.6/site-packages/sklearn/linear_model/sag.py:337: ConvergenceWarning: The max_iter was reached which means the coef_ did not converge\n",
      "  \"the coef_ did not converge\", ConvergenceWarning)\n"
     ]
    },
    {
     "name": "stdout",
     "output_type": "stream",
     "text": [
      "[CV]  C=50, class_weight=balanced, penalty=l2, solver=sag, score=0.637, total=  11.0s\n",
      "[CV] C=50, class_weight=balanced, penalty=l2, solver=sag .............\n"
     ]
    },
    {
     "name": "stderr",
     "output_type": "stream",
     "text": [
      "/anaconda3/lib/python3.6/site-packages/sklearn/linear_model/sag.py:337: ConvergenceWarning: The max_iter was reached which means the coef_ did not converge\n",
      "  \"the coef_ did not converge\", ConvergenceWarning)\n"
     ]
    },
    {
     "name": "stdout",
     "output_type": "stream",
     "text": [
      "[CV]  C=50, class_weight=balanced, penalty=l2, solver=sag, score=0.642, total=  10.9s\n",
      "[CV] C=50, class_weight=balanced, penalty=l2, solver=sag .............\n"
     ]
    },
    {
     "name": "stderr",
     "output_type": "stream",
     "text": [
      "/anaconda3/lib/python3.6/site-packages/sklearn/linear_model/sag.py:337: ConvergenceWarning: The max_iter was reached which means the coef_ did not converge\n",
      "  \"the coef_ did not converge\", ConvergenceWarning)\n"
     ]
    },
    {
     "name": "stdout",
     "output_type": "stream",
     "text": [
      "[CV]  C=50, class_weight=balanced, penalty=l2, solver=sag, score=0.643, total=  12.1s\n",
      "[CV] C=50, class_weight=balanced, penalty=l2, solver=saga ............\n"
     ]
    },
    {
     "name": "stderr",
     "output_type": "stream",
     "text": [
      "/anaconda3/lib/python3.6/site-packages/sklearn/linear_model/sag.py:337: ConvergenceWarning: The max_iter was reached which means the coef_ did not converge\n",
      "  \"the coef_ did not converge\", ConvergenceWarning)\n"
     ]
    },
    {
     "name": "stdout",
     "output_type": "stream",
     "text": [
      "[CV]  C=50, class_weight=balanced, penalty=l2, solver=saga, score=0.638, total=  11.3s\n",
      "[CV] C=50, class_weight=balanced, penalty=l2, solver=saga ............\n"
     ]
    },
    {
     "name": "stderr",
     "output_type": "stream",
     "text": [
      "/anaconda3/lib/python3.6/site-packages/sklearn/linear_model/sag.py:337: ConvergenceWarning: The max_iter was reached which means the coef_ did not converge\n",
      "  \"the coef_ did not converge\", ConvergenceWarning)\n"
     ]
    },
    {
     "name": "stdout",
     "output_type": "stream",
     "text": [
      "[CV]  C=50, class_weight=balanced, penalty=l2, solver=saga, score=0.642, total=  11.1s\n",
      "[CV] C=50, class_weight=balanced, penalty=l2, solver=saga ............\n"
     ]
    },
    {
     "name": "stderr",
     "output_type": "stream",
     "text": [
      "/anaconda3/lib/python3.6/site-packages/sklearn/linear_model/sag.py:337: ConvergenceWarning: The max_iter was reached which means the coef_ did not converge\n",
      "  \"the coef_ did not converge\", ConvergenceWarning)\n",
      "/anaconda3/lib/python3.6/site-packages/sklearn/model_selection/_validation.py:547: FitFailedWarning: Estimator fit failed. The score on this train-test partition for these parameters will be set to 0.000000. Details: \n",
      "ValueError: penalty='none' is not supported for the liblinear solver\n",
      "\n",
      "  FitFailedWarning)\n",
      "/anaconda3/lib/python3.6/site-packages/sklearn/linear_model/logistic.py:1510: UserWarning: Setting penalty='none' will ignore the C and l1_ratio parameters\n",
      "  \"Setting penalty='none' will ignore the C and l1_ratio \"\n"
     ]
    },
    {
     "name": "stdout",
     "output_type": "stream",
     "text": [
      "[CV]  C=50, class_weight=balanced, penalty=l2, solver=saga, score=0.644, total=  11.0s\n",
      "[CV] C=50, class_weight=balanced, penalty=none, solver=liblinear .....\n",
      "[CV]  C=50, class_weight=balanced, penalty=none, solver=liblinear, score=0.000, total=   0.0s\n",
      "[CV] C=50, class_weight=balanced, penalty=none, solver=liblinear .....\n",
      "[CV]  C=50, class_weight=balanced, penalty=none, solver=liblinear, score=0.000, total=   0.0s\n",
      "[CV] C=50, class_weight=balanced, penalty=none, solver=liblinear .....\n",
      "[CV]  C=50, class_weight=balanced, penalty=none, solver=liblinear, score=0.000, total=   0.0s\n",
      "[CV] C=50, class_weight=balanced, penalty=none, solver=newton-cg .....\n",
      "[CV]  C=50, class_weight=balanced, penalty=none, solver=newton-cg, score=0.637, total=   7.0s\n",
      "[CV] C=50, class_weight=balanced, penalty=none, solver=newton-cg .....\n"
     ]
    },
    {
     "name": "stderr",
     "output_type": "stream",
     "text": [
      "/anaconda3/lib/python3.6/site-packages/sklearn/linear_model/logistic.py:1510: UserWarning: Setting penalty='none' will ignore the C and l1_ratio parameters\n",
      "  \"Setting penalty='none' will ignore the C and l1_ratio \"\n"
     ]
    },
    {
     "name": "stdout",
     "output_type": "stream",
     "text": [
      "[CV]  C=50, class_weight=balanced, penalty=none, solver=newton-cg, score=0.642, total=  25.3s\n",
      "[CV] C=50, class_weight=balanced, penalty=none, solver=newton-cg .....\n"
     ]
    },
    {
     "name": "stderr",
     "output_type": "stream",
     "text": [
      "/anaconda3/lib/python3.6/site-packages/sklearn/linear_model/logistic.py:1510: UserWarning: Setting penalty='none' will ignore the C and l1_ratio parameters\n",
      "  \"Setting penalty='none' will ignore the C and l1_ratio \"\n"
     ]
    },
    {
     "name": "stdout",
     "output_type": "stream",
     "text": [
      "[CV]  C=50, class_weight=balanced, penalty=none, solver=newton-cg, score=0.643, total=   9.1s\n",
      "[CV] C=50, class_weight=balanced, penalty=none, solver=lbfgs .........\n"
     ]
    },
    {
     "name": "stderr",
     "output_type": "stream",
     "text": [
      "/anaconda3/lib/python3.6/site-packages/sklearn/linear_model/logistic.py:1510: UserWarning: Setting penalty='none' will ignore the C and l1_ratio parameters\n",
      "  \"Setting penalty='none' will ignore the C and l1_ratio \"\n"
     ]
    },
    {
     "name": "stdout",
     "output_type": "stream",
     "text": [
      "[CV]  C=50, class_weight=balanced, penalty=none, solver=lbfgs, score=0.637, total=   1.2s\n",
      "[CV] C=50, class_weight=balanced, penalty=none, solver=lbfgs .........\n"
     ]
    },
    {
     "name": "stderr",
     "output_type": "stream",
     "text": [
      "/anaconda3/lib/python3.6/site-packages/sklearn/linear_model/logistic.py:1510: UserWarning: Setting penalty='none' will ignore the C and l1_ratio parameters\n",
      "  \"Setting penalty='none' will ignore the C and l1_ratio \"\n"
     ]
    },
    {
     "name": "stdout",
     "output_type": "stream",
     "text": [
      "[CV]  C=50, class_weight=balanced, penalty=none, solver=lbfgs, score=0.642, total=   1.2s\n",
      "[CV] C=50, class_weight=balanced, penalty=none, solver=lbfgs .........\n"
     ]
    },
    {
     "name": "stderr",
     "output_type": "stream",
     "text": [
      "/anaconda3/lib/python3.6/site-packages/sklearn/linear_model/logistic.py:1510: UserWarning: Setting penalty='none' will ignore the C and l1_ratio parameters\n",
      "  \"Setting penalty='none' will ignore the C and l1_ratio \"\n"
     ]
    },
    {
     "name": "stdout",
     "output_type": "stream",
     "text": [
      "[CV]  C=50, class_weight=balanced, penalty=none, solver=lbfgs, score=0.643, total=   1.2s\n",
      "[CV] C=50, class_weight=balanced, penalty=none, solver=sag ...........\n"
     ]
    },
    {
     "name": "stderr",
     "output_type": "stream",
     "text": [
      "/anaconda3/lib/python3.6/site-packages/sklearn/linear_model/logistic.py:1510: UserWarning: Setting penalty='none' will ignore the C and l1_ratio parameters\n",
      "  \"Setting penalty='none' will ignore the C and l1_ratio \"\n",
      "/anaconda3/lib/python3.6/site-packages/sklearn/linear_model/sag.py:337: ConvergenceWarning: The max_iter was reached which means the coef_ did not converge\n",
      "  \"the coef_ did not converge\", ConvergenceWarning)\n",
      "/anaconda3/lib/python3.6/site-packages/sklearn/linear_model/logistic.py:1510: UserWarning: Setting penalty='none' will ignore the C and l1_ratio parameters\n",
      "  \"Setting penalty='none' will ignore the C and l1_ratio \"\n"
     ]
    },
    {
     "name": "stdout",
     "output_type": "stream",
     "text": [
      "[CV]  C=50, class_weight=balanced, penalty=none, solver=sag, score=0.637, total=  10.6s\n",
      "[CV] C=50, class_weight=balanced, penalty=none, solver=sag ...........\n"
     ]
    },
    {
     "name": "stderr",
     "output_type": "stream",
     "text": [
      "/anaconda3/lib/python3.6/site-packages/sklearn/linear_model/sag.py:337: ConvergenceWarning: The max_iter was reached which means the coef_ did not converge\n",
      "  \"the coef_ did not converge\", ConvergenceWarning)\n",
      "/anaconda3/lib/python3.6/site-packages/sklearn/linear_model/logistic.py:1510: UserWarning: Setting penalty='none' will ignore the C and l1_ratio parameters\n",
      "  \"Setting penalty='none' will ignore the C and l1_ratio \"\n"
     ]
    },
    {
     "name": "stdout",
     "output_type": "stream",
     "text": [
      "[CV]  C=50, class_weight=balanced, penalty=none, solver=sag, score=0.642, total=  10.4s\n",
      "[CV] C=50, class_weight=balanced, penalty=none, solver=sag ...........\n"
     ]
    },
    {
     "name": "stderr",
     "output_type": "stream",
     "text": [
      "/anaconda3/lib/python3.6/site-packages/sklearn/linear_model/sag.py:337: ConvergenceWarning: The max_iter was reached which means the coef_ did not converge\n",
      "  \"the coef_ did not converge\", ConvergenceWarning)\n",
      "/anaconda3/lib/python3.6/site-packages/sklearn/linear_model/logistic.py:1510: UserWarning: Setting penalty='none' will ignore the C and l1_ratio parameters\n",
      "  \"Setting penalty='none' will ignore the C and l1_ratio \"\n"
     ]
    },
    {
     "name": "stdout",
     "output_type": "stream",
     "text": [
      "[CV]  C=50, class_weight=balanced, penalty=none, solver=sag, score=0.643, total=  10.8s\n",
      "[CV] C=50, class_weight=balanced, penalty=none, solver=saga ..........\n"
     ]
    },
    {
     "name": "stderr",
     "output_type": "stream",
     "text": [
      "/anaconda3/lib/python3.6/site-packages/sklearn/linear_model/sag.py:337: ConvergenceWarning: The max_iter was reached which means the coef_ did not converge\n",
      "  \"the coef_ did not converge\", ConvergenceWarning)\n",
      "/anaconda3/lib/python3.6/site-packages/sklearn/linear_model/logistic.py:1510: UserWarning: Setting penalty='none' will ignore the C and l1_ratio parameters\n",
      "  \"Setting penalty='none' will ignore the C and l1_ratio \"\n"
     ]
    },
    {
     "name": "stdout",
     "output_type": "stream",
     "text": [
      "[CV]  C=50, class_weight=balanced, penalty=none, solver=saga, score=0.638, total=  13.0s\n",
      "[CV] C=50, class_weight=balanced, penalty=none, solver=saga ..........\n"
     ]
    },
    {
     "name": "stderr",
     "output_type": "stream",
     "text": [
      "/anaconda3/lib/python3.6/site-packages/sklearn/linear_model/sag.py:337: ConvergenceWarning: The max_iter was reached which means the coef_ did not converge\n",
      "  \"the coef_ did not converge\", ConvergenceWarning)\n",
      "/anaconda3/lib/python3.6/site-packages/sklearn/linear_model/logistic.py:1510: UserWarning: Setting penalty='none' will ignore the C and l1_ratio parameters\n",
      "  \"Setting penalty='none' will ignore the C and l1_ratio \"\n"
     ]
    },
    {
     "name": "stdout",
     "output_type": "stream",
     "text": [
      "[CV]  C=50, class_weight=balanced, penalty=none, solver=saga, score=0.642, total=  11.4s\n",
      "[CV] C=50, class_weight=balanced, penalty=none, solver=saga ..........\n"
     ]
    },
    {
     "name": "stderr",
     "output_type": "stream",
     "text": [
      "/anaconda3/lib/python3.6/site-packages/sklearn/linear_model/sag.py:337: ConvergenceWarning: The max_iter was reached which means the coef_ did not converge\n",
      "  \"the coef_ did not converge\", ConvergenceWarning)\n"
     ]
    },
    {
     "name": "stdout",
     "output_type": "stream",
     "text": [
      "[CV]  C=50, class_weight=balanced, penalty=none, solver=saga, score=0.644, total=  11.1s\n",
      "[CV] C=100, class_weight=None, penalty=l1, solver=liblinear ..........\n",
      "[CV]  C=100, class_weight=None, penalty=l1, solver=liblinear, score=0.845, total=  11.3s\n",
      "[CV] C=100, class_weight=None, penalty=l1, solver=liblinear ..........\n",
      "[CV]  C=100, class_weight=None, penalty=l1, solver=liblinear, score=0.843, total=  13.8s\n",
      "[CV] C=100, class_weight=None, penalty=l1, solver=liblinear ..........\n",
      "[CV]  C=100, class_weight=None, penalty=l1, solver=liblinear, score=0.844, total=  11.9s\n",
      "[CV] C=100, class_weight=None, penalty=l1, solver=newton-cg ..........\n",
      "[CV]  C=100, class_weight=None, penalty=l1, solver=newton-cg, score=0.000, total=   0.0s\n",
      "[CV] C=100, class_weight=None, penalty=l1, solver=newton-cg ..........\n",
      "[CV]  C=100, class_weight=None, penalty=l1, solver=newton-cg, score=0.000, total=   0.0s\n",
      "[CV] C=100, class_weight=None, penalty=l1, solver=newton-cg ..........\n",
      "[CV]  C=100, class_weight=None, penalty=l1, solver=newton-cg, score=0.000, total=   0.0s\n",
      "[CV] C=100, class_weight=None, penalty=l1, solver=lbfgs ..............\n",
      "[CV]  C=100, class_weight=None, penalty=l1, solver=lbfgs, score=0.000, total=   0.0s\n",
      "[CV] C=100, class_weight=None, penalty=l1, solver=lbfgs ..............\n"
     ]
    },
    {
     "name": "stderr",
     "output_type": "stream",
     "text": [
      "/anaconda3/lib/python3.6/site-packages/sklearn/model_selection/_validation.py:547: FitFailedWarning: Estimator fit failed. The score on this train-test partition for these parameters will be set to 0.000000. Details: \n",
      "ValueError: Solver newton-cg supports only 'l2' or 'none' penalties, got l1 penalty.\n",
      "\n",
      "  FitFailedWarning)\n",
      "/anaconda3/lib/python3.6/site-packages/sklearn/model_selection/_validation.py:547: FitFailedWarning: Estimator fit failed. The score on this train-test partition for these parameters will be set to 0.000000. Details: \n",
      "ValueError: Solver lbfgs supports only 'l2' or 'none' penalties, got l1 penalty.\n",
      "\n",
      "  FitFailedWarning)\n"
     ]
    },
    {
     "name": "stdout",
     "output_type": "stream",
     "text": [
      "[CV]  C=100, class_weight=None, penalty=l1, solver=lbfgs, score=0.000, total=   0.0s\n",
      "[CV] C=100, class_weight=None, penalty=l1, solver=lbfgs ..............\n",
      "[CV]  C=100, class_weight=None, penalty=l1, solver=lbfgs, score=0.000, total=   0.0s\n",
      "[CV] C=100, class_weight=None, penalty=l1, solver=sag ................\n",
      "[CV]  C=100, class_weight=None, penalty=l1, solver=sag, score=0.000, total=   0.0s\n",
      "[CV] C=100, class_weight=None, penalty=l1, solver=sag ................\n",
      "[CV]  C=100, class_weight=None, penalty=l1, solver=sag, score=0.000, total=   0.0s\n",
      "[CV] C=100, class_weight=None, penalty=l1, solver=sag ................\n",
      "[CV]  C=100, class_weight=None, penalty=l1, solver=sag, score=0.000, total=   0.0s\n",
      "[CV] C=100, class_weight=None, penalty=l1, solver=saga ...............\n"
     ]
    },
    {
     "name": "stderr",
     "output_type": "stream",
     "text": [
      "/anaconda3/lib/python3.6/site-packages/sklearn/model_selection/_validation.py:547: FitFailedWarning: Estimator fit failed. The score on this train-test partition for these parameters will be set to 0.000000. Details: \n",
      "ValueError: Solver sag supports only 'l2' or 'none' penalties, got l1 penalty.\n",
      "\n",
      "  FitFailedWarning)\n",
      "/anaconda3/lib/python3.6/site-packages/sklearn/linear_model/sag.py:337: ConvergenceWarning: The max_iter was reached which means the coef_ did not converge\n",
      "  \"the coef_ did not converge\", ConvergenceWarning)\n"
     ]
    },
    {
     "name": "stdout",
     "output_type": "stream",
     "text": [
      "[CV]  C=100, class_weight=None, penalty=l1, solver=saga, score=0.845, total=  14.4s\n",
      "[CV] C=100, class_weight=None, penalty=l1, solver=saga ...............\n"
     ]
    },
    {
     "name": "stderr",
     "output_type": "stream",
     "text": [
      "/anaconda3/lib/python3.6/site-packages/sklearn/linear_model/sag.py:337: ConvergenceWarning: The max_iter was reached which means the coef_ did not converge\n",
      "  \"the coef_ did not converge\", ConvergenceWarning)\n"
     ]
    },
    {
     "name": "stdout",
     "output_type": "stream",
     "text": [
      "[CV]  C=100, class_weight=None, penalty=l1, solver=saga, score=0.843, total=  14.9s\n",
      "[CV] C=100, class_weight=None, penalty=l1, solver=saga ...............\n"
     ]
    },
    {
     "name": "stderr",
     "output_type": "stream",
     "text": [
      "/anaconda3/lib/python3.6/site-packages/sklearn/linear_model/sag.py:337: ConvergenceWarning: The max_iter was reached which means the coef_ did not converge\n",
      "  \"the coef_ did not converge\", ConvergenceWarning)\n"
     ]
    },
    {
     "name": "stdout",
     "output_type": "stream",
     "text": [
      "[CV]  C=100, class_weight=None, penalty=l1, solver=saga, score=0.844, total=  15.0s\n",
      "[CV] C=100, class_weight=None, penalty=l2, solver=liblinear ..........\n",
      "[CV]  C=100, class_weight=None, penalty=l2, solver=liblinear, score=0.845, total=   2.6s\n",
      "[CV] C=100, class_weight=None, penalty=l2, solver=liblinear ..........\n",
      "[CV]  C=100, class_weight=None, penalty=l2, solver=liblinear, score=0.843, total=   2.9s\n",
      "[CV] C=100, class_weight=None, penalty=l2, solver=liblinear ..........\n",
      "[CV]  C=100, class_weight=None, penalty=l2, solver=liblinear, score=0.844, total=   3.2s\n",
      "[CV] C=100, class_weight=None, penalty=l2, solver=newton-cg ..........\n",
      "[CV]  C=100, class_weight=None, penalty=l2, solver=newton-cg, score=0.845, total=   3.8s\n",
      "[CV] C=100, class_weight=None, penalty=l2, solver=newton-cg ..........\n",
      "[CV]  C=100, class_weight=None, penalty=l2, solver=newton-cg, score=0.843, total=   4.5s\n",
      "[CV] C=100, class_weight=None, penalty=l2, solver=newton-cg ..........\n",
      "[CV]  C=100, class_weight=None, penalty=l2, solver=newton-cg, score=0.844, total=   4.2s\n",
      "[CV] C=100, class_weight=None, penalty=l2, solver=lbfgs ..............\n",
      "[CV]  C=100, class_weight=None, penalty=l2, solver=lbfgs, score=0.845, total=   0.9s\n",
      "[CV] C=100, class_weight=None, penalty=l2, solver=lbfgs ..............\n",
      "[CV]  C=100, class_weight=None, penalty=l2, solver=lbfgs, score=0.843, total=   0.9s\n",
      "[CV] C=100, class_weight=None, penalty=l2, solver=lbfgs ..............\n",
      "[CV]  C=100, class_weight=None, penalty=l2, solver=lbfgs, score=0.844, total=   0.9s\n",
      "[CV] C=100, class_weight=None, penalty=l2, solver=sag ................\n"
     ]
    },
    {
     "name": "stderr",
     "output_type": "stream",
     "text": [
      "/anaconda3/lib/python3.6/site-packages/sklearn/linear_model/sag.py:337: ConvergenceWarning: The max_iter was reached which means the coef_ did not converge\n",
      "  \"the coef_ did not converge\", ConvergenceWarning)\n"
     ]
    },
    {
     "name": "stdout",
     "output_type": "stream",
     "text": [
      "[CV]  C=100, class_weight=None, penalty=l2, solver=sag, score=0.845, total=  12.0s\n",
      "[CV] C=100, class_weight=None, penalty=l2, solver=sag ................\n"
     ]
    },
    {
     "name": "stderr",
     "output_type": "stream",
     "text": [
      "/anaconda3/lib/python3.6/site-packages/sklearn/linear_model/sag.py:337: ConvergenceWarning: The max_iter was reached which means the coef_ did not converge\n",
      "  \"the coef_ did not converge\", ConvergenceWarning)\n"
     ]
    },
    {
     "name": "stdout",
     "output_type": "stream",
     "text": [
      "[CV]  C=100, class_weight=None, penalty=l2, solver=sag, score=0.843, total=  11.4s\n",
      "[CV] C=100, class_weight=None, penalty=l2, solver=sag ................\n"
     ]
    },
    {
     "name": "stderr",
     "output_type": "stream",
     "text": [
      "/anaconda3/lib/python3.6/site-packages/sklearn/linear_model/sag.py:337: ConvergenceWarning: The max_iter was reached which means the coef_ did not converge\n",
      "  \"the coef_ did not converge\", ConvergenceWarning)\n"
     ]
    },
    {
     "name": "stdout",
     "output_type": "stream",
     "text": [
      "[CV]  C=100, class_weight=None, penalty=l2, solver=sag, score=0.844, total=  11.3s\n",
      "[CV] C=100, class_weight=None, penalty=l2, solver=saga ...............\n"
     ]
    },
    {
     "name": "stderr",
     "output_type": "stream",
     "text": [
      "/anaconda3/lib/python3.6/site-packages/sklearn/linear_model/sag.py:337: ConvergenceWarning: The max_iter was reached which means the coef_ did not converge\n",
      "  \"the coef_ did not converge\", ConvergenceWarning)\n"
     ]
    },
    {
     "name": "stdout",
     "output_type": "stream",
     "text": [
      "[CV]  C=100, class_weight=None, penalty=l2, solver=saga, score=0.845, total=  12.1s\n",
      "[CV] C=100, class_weight=None, penalty=l2, solver=saga ...............\n"
     ]
    },
    {
     "name": "stderr",
     "output_type": "stream",
     "text": [
      "/anaconda3/lib/python3.6/site-packages/sklearn/linear_model/sag.py:337: ConvergenceWarning: The max_iter was reached which means the coef_ did not converge\n",
      "  \"the coef_ did not converge\", ConvergenceWarning)\n"
     ]
    },
    {
     "name": "stdout",
     "output_type": "stream",
     "text": [
      "[CV]  C=100, class_weight=None, penalty=l2, solver=saga, score=0.843, total=  12.1s\n",
      "[CV] C=100, class_weight=None, penalty=l2, solver=saga ...............\n"
     ]
    },
    {
     "name": "stderr",
     "output_type": "stream",
     "text": [
      "/anaconda3/lib/python3.6/site-packages/sklearn/linear_model/sag.py:337: ConvergenceWarning: The max_iter was reached which means the coef_ did not converge\n",
      "  \"the coef_ did not converge\", ConvergenceWarning)\n",
      "/anaconda3/lib/python3.6/site-packages/sklearn/model_selection/_validation.py:547: FitFailedWarning: Estimator fit failed. The score on this train-test partition for these parameters will be set to 0.000000. Details: \n",
      "ValueError: penalty='none' is not supported for the liblinear solver\n",
      "\n",
      "  FitFailedWarning)\n",
      "/anaconda3/lib/python3.6/site-packages/sklearn/linear_model/logistic.py:1510: UserWarning: Setting penalty='none' will ignore the C and l1_ratio parameters\n",
      "  \"Setting penalty='none' will ignore the C and l1_ratio \"\n"
     ]
    },
    {
     "name": "stdout",
     "output_type": "stream",
     "text": [
      "[CV]  C=100, class_weight=None, penalty=l2, solver=saga, score=0.844, total=  11.2s\n",
      "[CV] C=100, class_weight=None, penalty=none, solver=liblinear ........\n",
      "[CV]  C=100, class_weight=None, penalty=none, solver=liblinear, score=0.000, total=   0.0s\n",
      "[CV] C=100, class_weight=None, penalty=none, solver=liblinear ........\n",
      "[CV]  C=100, class_weight=None, penalty=none, solver=liblinear, score=0.000, total=   0.0s\n",
      "[CV] C=100, class_weight=None, penalty=none, solver=liblinear ........\n",
      "[CV]  C=100, class_weight=None, penalty=none, solver=liblinear, score=0.000, total=   0.0s\n",
      "[CV] C=100, class_weight=None, penalty=none, solver=newton-cg ........\n",
      "[CV]  C=100, class_weight=None, penalty=none, solver=newton-cg, score=0.845, total=   9.7s\n",
      "[CV] C=100, class_weight=None, penalty=none, solver=newton-cg ........\n"
     ]
    },
    {
     "name": "stderr",
     "output_type": "stream",
     "text": [
      "/anaconda3/lib/python3.6/site-packages/sklearn/linear_model/logistic.py:1510: UserWarning: Setting penalty='none' will ignore the C and l1_ratio parameters\n",
      "  \"Setting penalty='none' will ignore the C and l1_ratio \"\n"
     ]
    },
    {
     "name": "stdout",
     "output_type": "stream",
     "text": [
      "[CV]  C=100, class_weight=None, penalty=none, solver=newton-cg, score=0.843, total=  22.7s\n",
      "[CV] C=100, class_weight=None, penalty=none, solver=newton-cg ........\n"
     ]
    },
    {
     "name": "stderr",
     "output_type": "stream",
     "text": [
      "/anaconda3/lib/python3.6/site-packages/sklearn/linear_model/logistic.py:1510: UserWarning: Setting penalty='none' will ignore the C and l1_ratio parameters\n",
      "  \"Setting penalty='none' will ignore the C and l1_ratio \"\n"
     ]
    },
    {
     "name": "stdout",
     "output_type": "stream",
     "text": [
      "[CV]  C=100, class_weight=None, penalty=none, solver=newton-cg, score=0.844, total=  12.1s\n",
      "[CV] C=100, class_weight=None, penalty=none, solver=lbfgs ............\n"
     ]
    },
    {
     "name": "stderr",
     "output_type": "stream",
     "text": [
      "/anaconda3/lib/python3.6/site-packages/sklearn/linear_model/logistic.py:1510: UserWarning: Setting penalty='none' will ignore the C and l1_ratio parameters\n",
      "  \"Setting penalty='none' will ignore the C and l1_ratio \"\n"
     ]
    },
    {
     "name": "stdout",
     "output_type": "stream",
     "text": [
      "[CV]  C=100, class_weight=None, penalty=none, solver=lbfgs, score=0.845, total=   1.3s\n",
      "[CV] C=100, class_weight=None, penalty=none, solver=lbfgs ............\n"
     ]
    },
    {
     "name": "stderr",
     "output_type": "stream",
     "text": [
      "/anaconda3/lib/python3.6/site-packages/sklearn/linear_model/logistic.py:1510: UserWarning: Setting penalty='none' will ignore the C and l1_ratio parameters\n",
      "  \"Setting penalty='none' will ignore the C and l1_ratio \"\n"
     ]
    },
    {
     "name": "stdout",
     "output_type": "stream",
     "text": [
      "[CV]  C=100, class_weight=None, penalty=none, solver=lbfgs, score=0.843, total=   1.2s\n",
      "[CV] C=100, class_weight=None, penalty=none, solver=lbfgs ............\n"
     ]
    },
    {
     "name": "stderr",
     "output_type": "stream",
     "text": [
      "/anaconda3/lib/python3.6/site-packages/sklearn/linear_model/logistic.py:1510: UserWarning: Setting penalty='none' will ignore the C and l1_ratio parameters\n",
      "  \"Setting penalty='none' will ignore the C and l1_ratio \"\n"
     ]
    },
    {
     "name": "stdout",
     "output_type": "stream",
     "text": [
      "[CV]  C=100, class_weight=None, penalty=none, solver=lbfgs, score=0.844, total=   1.3s\n",
      "[CV] C=100, class_weight=None, penalty=none, solver=sag ..............\n"
     ]
    },
    {
     "name": "stderr",
     "output_type": "stream",
     "text": [
      "/anaconda3/lib/python3.6/site-packages/sklearn/linear_model/logistic.py:1510: UserWarning: Setting penalty='none' will ignore the C and l1_ratio parameters\n",
      "  \"Setting penalty='none' will ignore the C and l1_ratio \"\n",
      "/anaconda3/lib/python3.6/site-packages/sklearn/linear_model/sag.py:337: ConvergenceWarning: The max_iter was reached which means the coef_ did not converge\n",
      "  \"the coef_ did not converge\", ConvergenceWarning)\n",
      "/anaconda3/lib/python3.6/site-packages/sklearn/linear_model/logistic.py:1510: UserWarning: Setting penalty='none' will ignore the C and l1_ratio parameters\n",
      "  \"Setting penalty='none' will ignore the C and l1_ratio \"\n"
     ]
    },
    {
     "name": "stdout",
     "output_type": "stream",
     "text": [
      "[CV]  C=100, class_weight=None, penalty=none, solver=sag, score=0.845, total=  11.2s\n",
      "[CV] C=100, class_weight=None, penalty=none, solver=sag ..............\n"
     ]
    },
    {
     "name": "stderr",
     "output_type": "stream",
     "text": [
      "/anaconda3/lib/python3.6/site-packages/sklearn/linear_model/sag.py:337: ConvergenceWarning: The max_iter was reached which means the coef_ did not converge\n",
      "  \"the coef_ did not converge\", ConvergenceWarning)\n",
      "/anaconda3/lib/python3.6/site-packages/sklearn/linear_model/logistic.py:1510: UserWarning: Setting penalty='none' will ignore the C and l1_ratio parameters\n",
      "  \"Setting penalty='none' will ignore the C and l1_ratio \"\n"
     ]
    },
    {
     "name": "stdout",
     "output_type": "stream",
     "text": [
      "[CV]  C=100, class_weight=None, penalty=none, solver=sag, score=0.843, total=  10.5s\n",
      "[CV] C=100, class_weight=None, penalty=none, solver=sag ..............\n"
     ]
    },
    {
     "name": "stderr",
     "output_type": "stream",
     "text": [
      "/anaconda3/lib/python3.6/site-packages/sklearn/linear_model/sag.py:337: ConvergenceWarning: The max_iter was reached which means the coef_ did not converge\n",
      "  \"the coef_ did not converge\", ConvergenceWarning)\n",
      "/anaconda3/lib/python3.6/site-packages/sklearn/linear_model/logistic.py:1510: UserWarning: Setting penalty='none' will ignore the C and l1_ratio parameters\n",
      "  \"Setting penalty='none' will ignore the C and l1_ratio \"\n"
     ]
    },
    {
     "name": "stdout",
     "output_type": "stream",
     "text": [
      "[CV]  C=100, class_weight=None, penalty=none, solver=sag, score=0.844, total=  10.3s\n",
      "[CV] C=100, class_weight=None, penalty=none, solver=saga .............\n"
     ]
    },
    {
     "name": "stderr",
     "output_type": "stream",
     "text": [
      "/anaconda3/lib/python3.6/site-packages/sklearn/linear_model/sag.py:337: ConvergenceWarning: The max_iter was reached which means the coef_ did not converge\n",
      "  \"the coef_ did not converge\", ConvergenceWarning)\n",
      "/anaconda3/lib/python3.6/site-packages/sklearn/linear_model/logistic.py:1510: UserWarning: Setting penalty='none' will ignore the C and l1_ratio parameters\n",
      "  \"Setting penalty='none' will ignore the C and l1_ratio \"\n"
     ]
    },
    {
     "name": "stdout",
     "output_type": "stream",
     "text": [
      "[CV]  C=100, class_weight=None, penalty=none, solver=saga, score=0.845, total=  11.1s\n",
      "[CV] C=100, class_weight=None, penalty=none, solver=saga .............\n"
     ]
    },
    {
     "name": "stderr",
     "output_type": "stream",
     "text": [
      "/anaconda3/lib/python3.6/site-packages/sklearn/linear_model/sag.py:337: ConvergenceWarning: The max_iter was reached which means the coef_ did not converge\n",
      "  \"the coef_ did not converge\", ConvergenceWarning)\n",
      "/anaconda3/lib/python3.6/site-packages/sklearn/linear_model/logistic.py:1510: UserWarning: Setting penalty='none' will ignore the C and l1_ratio parameters\n",
      "  \"Setting penalty='none' will ignore the C and l1_ratio \"\n"
     ]
    },
    {
     "name": "stdout",
     "output_type": "stream",
     "text": [
      "[CV]  C=100, class_weight=None, penalty=none, solver=saga, score=0.843, total=  10.9s\n",
      "[CV] C=100, class_weight=None, penalty=none, solver=saga .............\n"
     ]
    },
    {
     "name": "stderr",
     "output_type": "stream",
     "text": [
      "/anaconda3/lib/python3.6/site-packages/sklearn/linear_model/sag.py:337: ConvergenceWarning: The max_iter was reached which means the coef_ did not converge\n",
      "  \"the coef_ did not converge\", ConvergenceWarning)\n"
     ]
    },
    {
     "name": "stdout",
     "output_type": "stream",
     "text": [
      "[CV]  C=100, class_weight=None, penalty=none, solver=saga, score=0.844, total=  11.6s\n",
      "[CV] C=100, class_weight=balanced, penalty=l1, solver=liblinear ......\n",
      "[CV]  C=100, class_weight=balanced, penalty=l1, solver=liblinear, score=0.637, total=  12.0s\n",
      "[CV] C=100, class_weight=balanced, penalty=l1, solver=liblinear ......\n",
      "[CV]  C=100, class_weight=balanced, penalty=l1, solver=liblinear, score=0.642, total=  13.5s\n",
      "[CV] C=100, class_weight=balanced, penalty=l1, solver=liblinear ......\n",
      "[CV]  C=100, class_weight=balanced, penalty=l1, solver=liblinear, score=0.643, total=  12.1s\n",
      "[CV] C=100, class_weight=balanced, penalty=l1, solver=newton-cg ......\n",
      "[CV]  C=100, class_weight=balanced, penalty=l1, solver=newton-cg, score=0.000, total=   0.0s\n",
      "[CV] C=100, class_weight=balanced, penalty=l1, solver=newton-cg ......\n",
      "[CV]  C=100, class_weight=balanced, penalty=l1, solver=newton-cg, score=0.000, total=   0.0s\n",
      "[CV] C=100, class_weight=balanced, penalty=l1, solver=newton-cg ......\n",
      "[CV]  C=100, class_weight=balanced, penalty=l1, solver=newton-cg, score=0.000, total=   0.0s\n",
      "[CV] C=100, class_weight=balanced, penalty=l1, solver=lbfgs ..........\n",
      "[CV]  C=100, class_weight=balanced, penalty=l1, solver=lbfgs, score=0.000, total=   0.0s\n",
      "[CV] C=100, class_weight=balanced, penalty=l1, solver=lbfgs ..........\n",
      "[CV]  C=100, class_weight=balanced, penalty=l1, solver=lbfgs, score=0.000, total=   0.0s\n",
      "[CV] C=100, class_weight=balanced, penalty=l1, solver=lbfgs ..........\n"
     ]
    },
    {
     "name": "stderr",
     "output_type": "stream",
     "text": [
      "/anaconda3/lib/python3.6/site-packages/sklearn/model_selection/_validation.py:547: FitFailedWarning: Estimator fit failed. The score on this train-test partition for these parameters will be set to 0.000000. Details: \n",
      "ValueError: Solver newton-cg supports only 'l2' or 'none' penalties, got l1 penalty.\n",
      "\n",
      "  FitFailedWarning)\n",
      "/anaconda3/lib/python3.6/site-packages/sklearn/model_selection/_validation.py:547: FitFailedWarning: Estimator fit failed. The score on this train-test partition for these parameters will be set to 0.000000. Details: \n",
      "ValueError: Solver lbfgs supports only 'l2' or 'none' penalties, got l1 penalty.\n",
      "\n",
      "  FitFailedWarning)\n"
     ]
    },
    {
     "name": "stdout",
     "output_type": "stream",
     "text": [
      "[CV]  C=100, class_weight=balanced, penalty=l1, solver=lbfgs, score=0.000, total=   0.0s\n",
      "[CV] C=100, class_weight=balanced, penalty=l1, solver=sag ............\n",
      "[CV]  C=100, class_weight=balanced, penalty=l1, solver=sag, score=0.000, total=   0.0s\n",
      "[CV] C=100, class_weight=balanced, penalty=l1, solver=sag ............\n",
      "[CV]  C=100, class_weight=balanced, penalty=l1, solver=sag, score=0.000, total=   0.0s\n",
      "[CV] C=100, class_weight=balanced, penalty=l1, solver=sag ............\n",
      "[CV]  C=100, class_weight=balanced, penalty=l1, solver=sag, score=0.000, total=   0.0s\n",
      "[CV] C=100, class_weight=balanced, penalty=l1, solver=saga ...........\n"
     ]
    },
    {
     "name": "stderr",
     "output_type": "stream",
     "text": [
      "/anaconda3/lib/python3.6/site-packages/sklearn/model_selection/_validation.py:547: FitFailedWarning: Estimator fit failed. The score on this train-test partition for these parameters will be set to 0.000000. Details: \n",
      "ValueError: Solver sag supports only 'l2' or 'none' penalties, got l1 penalty.\n",
      "\n",
      "  FitFailedWarning)\n",
      "/anaconda3/lib/python3.6/site-packages/sklearn/linear_model/sag.py:337: ConvergenceWarning: The max_iter was reached which means the coef_ did not converge\n",
      "  \"the coef_ did not converge\", ConvergenceWarning)\n"
     ]
    },
    {
     "name": "stdout",
     "output_type": "stream",
     "text": [
      "[CV]  C=100, class_weight=balanced, penalty=l1, solver=saga, score=0.638, total=  13.3s\n",
      "[CV] C=100, class_weight=balanced, penalty=l1, solver=saga ...........\n"
     ]
    },
    {
     "name": "stderr",
     "output_type": "stream",
     "text": [
      "/anaconda3/lib/python3.6/site-packages/sklearn/linear_model/sag.py:337: ConvergenceWarning: The max_iter was reached which means the coef_ did not converge\n",
      "  \"the coef_ did not converge\", ConvergenceWarning)\n"
     ]
    },
    {
     "name": "stdout",
     "output_type": "stream",
     "text": [
      "[CV]  C=100, class_weight=balanced, penalty=l1, solver=saga, score=0.642, total=  13.9s\n",
      "[CV] C=100, class_weight=balanced, penalty=l1, solver=saga ...........\n"
     ]
    },
    {
     "name": "stderr",
     "output_type": "stream",
     "text": [
      "/anaconda3/lib/python3.6/site-packages/sklearn/linear_model/sag.py:337: ConvergenceWarning: The max_iter was reached which means the coef_ did not converge\n",
      "  \"the coef_ did not converge\", ConvergenceWarning)\n"
     ]
    },
    {
     "name": "stdout",
     "output_type": "stream",
     "text": [
      "[CV]  C=100, class_weight=balanced, penalty=l1, solver=saga, score=0.644, total=  14.7s\n",
      "[CV] C=100, class_weight=balanced, penalty=l2, solver=liblinear ......\n",
      "[CV]  C=100, class_weight=balanced, penalty=l2, solver=liblinear, score=0.637, total=   2.8s\n",
      "[CV] C=100, class_weight=balanced, penalty=l2, solver=liblinear ......\n",
      "[CV]  C=100, class_weight=balanced, penalty=l2, solver=liblinear, score=0.642, total=   2.8s\n",
      "[CV] C=100, class_weight=balanced, penalty=l2, solver=liblinear ......\n",
      "[CV]  C=100, class_weight=balanced, penalty=l2, solver=liblinear, score=0.643, total=   3.9s\n",
      "[CV] C=100, class_weight=balanced, penalty=l2, solver=newton-cg ......\n",
      "[CV]  C=100, class_weight=balanced, penalty=l2, solver=newton-cg, score=0.637, total=   6.3s\n",
      "[CV] C=100, class_weight=balanced, penalty=l2, solver=newton-cg ......\n",
      "[CV]  C=100, class_weight=balanced, penalty=l2, solver=newton-cg, score=0.642, total=   4.9s\n",
      "[CV] C=100, class_weight=balanced, penalty=l2, solver=newton-cg ......\n",
      "[CV]  C=100, class_weight=balanced, penalty=l2, solver=newton-cg, score=0.643, total=   5.0s\n",
      "[CV] C=100, class_weight=balanced, penalty=l2, solver=lbfgs ..........\n",
      "[CV]  C=100, class_weight=balanced, penalty=l2, solver=lbfgs, score=0.637, total=   1.2s\n",
      "[CV] C=100, class_weight=balanced, penalty=l2, solver=lbfgs ..........\n",
      "[CV]  C=100, class_weight=balanced, penalty=l2, solver=lbfgs, score=0.642, total=   1.1s\n",
      "[CV] C=100, class_weight=balanced, penalty=l2, solver=lbfgs ..........\n",
      "[CV]  C=100, class_weight=balanced, penalty=l2, solver=lbfgs, score=0.643, total=   1.2s\n",
      "[CV] C=100, class_weight=balanced, penalty=l2, solver=sag ............\n"
     ]
    },
    {
     "name": "stderr",
     "output_type": "stream",
     "text": [
      "/anaconda3/lib/python3.6/site-packages/sklearn/linear_model/sag.py:337: ConvergenceWarning: The max_iter was reached which means the coef_ did not converge\n",
      "  \"the coef_ did not converge\", ConvergenceWarning)\n"
     ]
    },
    {
     "name": "stdout",
     "output_type": "stream",
     "text": [
      "[CV]  C=100, class_weight=balanced, penalty=l2, solver=sag, score=0.637, total=  10.7s\n",
      "[CV] C=100, class_weight=balanced, penalty=l2, solver=sag ............\n"
     ]
    },
    {
     "name": "stderr",
     "output_type": "stream",
     "text": [
      "/anaconda3/lib/python3.6/site-packages/sklearn/linear_model/sag.py:337: ConvergenceWarning: The max_iter was reached which means the coef_ did not converge\n",
      "  \"the coef_ did not converge\", ConvergenceWarning)\n"
     ]
    },
    {
     "name": "stdout",
     "output_type": "stream",
     "text": [
      "[CV]  C=100, class_weight=balanced, penalty=l2, solver=sag, score=0.642, total=  10.6s\n",
      "[CV] C=100, class_weight=balanced, penalty=l2, solver=sag ............\n"
     ]
    },
    {
     "name": "stderr",
     "output_type": "stream",
     "text": [
      "/anaconda3/lib/python3.6/site-packages/sklearn/linear_model/sag.py:337: ConvergenceWarning: The max_iter was reached which means the coef_ did not converge\n",
      "  \"the coef_ did not converge\", ConvergenceWarning)\n"
     ]
    },
    {
     "name": "stdout",
     "output_type": "stream",
     "text": [
      "[CV]  C=100, class_weight=balanced, penalty=l2, solver=sag, score=0.643, total=  10.7s\n",
      "[CV] C=100, class_weight=balanced, penalty=l2, solver=saga ...........\n"
     ]
    },
    {
     "name": "stderr",
     "output_type": "stream",
     "text": [
      "/anaconda3/lib/python3.6/site-packages/sklearn/linear_model/sag.py:337: ConvergenceWarning: The max_iter was reached which means the coef_ did not converge\n",
      "  \"the coef_ did not converge\", ConvergenceWarning)\n"
     ]
    },
    {
     "name": "stdout",
     "output_type": "stream",
     "text": [
      "[CV]  C=100, class_weight=balanced, penalty=l2, solver=saga, score=0.638, total=  11.1s\n",
      "[CV] C=100, class_weight=balanced, penalty=l2, solver=saga ...........\n"
     ]
    },
    {
     "name": "stderr",
     "output_type": "stream",
     "text": [
      "/anaconda3/lib/python3.6/site-packages/sklearn/linear_model/sag.py:337: ConvergenceWarning: The max_iter was reached which means the coef_ did not converge\n",
      "  \"the coef_ did not converge\", ConvergenceWarning)\n"
     ]
    },
    {
     "name": "stdout",
     "output_type": "stream",
     "text": [
      "[CV]  C=100, class_weight=balanced, penalty=l2, solver=saga, score=0.642, total=  11.3s\n",
      "[CV] C=100, class_weight=balanced, penalty=l2, solver=saga ...........\n"
     ]
    },
    {
     "name": "stderr",
     "output_type": "stream",
     "text": [
      "/anaconda3/lib/python3.6/site-packages/sklearn/linear_model/sag.py:337: ConvergenceWarning: The max_iter was reached which means the coef_ did not converge\n",
      "  \"the coef_ did not converge\", ConvergenceWarning)\n",
      "/anaconda3/lib/python3.6/site-packages/sklearn/model_selection/_validation.py:547: FitFailedWarning: Estimator fit failed. The score on this train-test partition for these parameters will be set to 0.000000. Details: \n",
      "ValueError: penalty='none' is not supported for the liblinear solver\n",
      "\n",
      "  FitFailedWarning)\n",
      "/anaconda3/lib/python3.6/site-packages/sklearn/linear_model/logistic.py:1510: UserWarning: Setting penalty='none' will ignore the C and l1_ratio parameters\n",
      "  \"Setting penalty='none' will ignore the C and l1_ratio \"\n"
     ]
    },
    {
     "name": "stdout",
     "output_type": "stream",
     "text": [
      "[CV]  C=100, class_weight=balanced, penalty=l2, solver=saga, score=0.644, total=  11.3s\n",
      "[CV] C=100, class_weight=balanced, penalty=none, solver=liblinear ....\n",
      "[CV]  C=100, class_weight=balanced, penalty=none, solver=liblinear, score=0.000, total=   0.0s\n",
      "[CV] C=100, class_weight=balanced, penalty=none, solver=liblinear ....\n",
      "[CV]  C=100, class_weight=balanced, penalty=none, solver=liblinear, score=0.000, total=   0.0s\n",
      "[CV] C=100, class_weight=balanced, penalty=none, solver=liblinear ....\n",
      "[CV]  C=100, class_weight=balanced, penalty=none, solver=liblinear, score=0.000, total=   0.0s\n",
      "[CV] C=100, class_weight=balanced, penalty=none, solver=newton-cg ....\n",
      "[CV]  C=100, class_weight=balanced, penalty=none, solver=newton-cg, score=0.637, total=   7.4s\n",
      "[CV] C=100, class_weight=balanced, penalty=none, solver=newton-cg ....\n"
     ]
    },
    {
     "name": "stderr",
     "output_type": "stream",
     "text": [
      "/anaconda3/lib/python3.6/site-packages/sklearn/linear_model/logistic.py:1510: UserWarning: Setting penalty='none' will ignore the C and l1_ratio parameters\n",
      "  \"Setting penalty='none' will ignore the C and l1_ratio \"\n"
     ]
    },
    {
     "name": "stdout",
     "output_type": "stream",
     "text": [
      "[CV]  C=100, class_weight=balanced, penalty=none, solver=newton-cg, score=0.642, total=  26.6s\n",
      "[CV] C=100, class_weight=balanced, penalty=none, solver=newton-cg ....\n"
     ]
    },
    {
     "name": "stderr",
     "output_type": "stream",
     "text": [
      "/anaconda3/lib/python3.6/site-packages/sklearn/linear_model/logistic.py:1510: UserWarning: Setting penalty='none' will ignore the C and l1_ratio parameters\n",
      "  \"Setting penalty='none' will ignore the C and l1_ratio \"\n"
     ]
    },
    {
     "name": "stdout",
     "output_type": "stream",
     "text": [
      "[CV]  C=100, class_weight=balanced, penalty=none, solver=newton-cg, score=0.643, total=   9.3s\n",
      "[CV] C=100, class_weight=balanced, penalty=none, solver=lbfgs ........\n"
     ]
    },
    {
     "name": "stderr",
     "output_type": "stream",
     "text": [
      "/anaconda3/lib/python3.6/site-packages/sklearn/linear_model/logistic.py:1510: UserWarning: Setting penalty='none' will ignore the C and l1_ratio parameters\n",
      "  \"Setting penalty='none' will ignore the C and l1_ratio \"\n"
     ]
    },
    {
     "name": "stdout",
     "output_type": "stream",
     "text": [
      "[CV]  C=100, class_weight=balanced, penalty=none, solver=lbfgs, score=0.637, total=   1.2s\n",
      "[CV] C=100, class_weight=balanced, penalty=none, solver=lbfgs ........\n"
     ]
    },
    {
     "name": "stderr",
     "output_type": "stream",
     "text": [
      "/anaconda3/lib/python3.6/site-packages/sklearn/linear_model/logistic.py:1510: UserWarning: Setting penalty='none' will ignore the C and l1_ratio parameters\n",
      "  \"Setting penalty='none' will ignore the C and l1_ratio \"\n"
     ]
    },
    {
     "name": "stdout",
     "output_type": "stream",
     "text": [
      "[CV]  C=100, class_weight=balanced, penalty=none, solver=lbfgs, score=0.642, total=   1.1s\n",
      "[CV] C=100, class_weight=balanced, penalty=none, solver=lbfgs ........\n"
     ]
    },
    {
     "name": "stderr",
     "output_type": "stream",
     "text": [
      "/anaconda3/lib/python3.6/site-packages/sklearn/linear_model/logistic.py:1510: UserWarning: Setting penalty='none' will ignore the C and l1_ratio parameters\n",
      "  \"Setting penalty='none' will ignore the C and l1_ratio \"\n"
     ]
    },
    {
     "name": "stdout",
     "output_type": "stream",
     "text": [
      "[CV]  C=100, class_weight=balanced, penalty=none, solver=lbfgs, score=0.643, total=   1.3s\n",
      "[CV] C=100, class_weight=balanced, penalty=none, solver=sag ..........\n"
     ]
    },
    {
     "name": "stderr",
     "output_type": "stream",
     "text": [
      "/anaconda3/lib/python3.6/site-packages/sklearn/linear_model/logistic.py:1510: UserWarning: Setting penalty='none' will ignore the C and l1_ratio parameters\n",
      "  \"Setting penalty='none' will ignore the C and l1_ratio \"\n",
      "/anaconda3/lib/python3.6/site-packages/sklearn/linear_model/sag.py:337: ConvergenceWarning: The max_iter was reached which means the coef_ did not converge\n",
      "  \"the coef_ did not converge\", ConvergenceWarning)\n",
      "/anaconda3/lib/python3.6/site-packages/sklearn/linear_model/logistic.py:1510: UserWarning: Setting penalty='none' will ignore the C and l1_ratio parameters\n",
      "  \"Setting penalty='none' will ignore the C and l1_ratio \"\n"
     ]
    },
    {
     "name": "stdout",
     "output_type": "stream",
     "text": [
      "[CV]  C=100, class_weight=balanced, penalty=none, solver=sag, score=0.637, total=  10.6s\n",
      "[CV] C=100, class_weight=balanced, penalty=none, solver=sag ..........\n"
     ]
    },
    {
     "name": "stderr",
     "output_type": "stream",
     "text": [
      "/anaconda3/lib/python3.6/site-packages/sklearn/linear_model/sag.py:337: ConvergenceWarning: The max_iter was reached which means the coef_ did not converge\n",
      "  \"the coef_ did not converge\", ConvergenceWarning)\n",
      "/anaconda3/lib/python3.6/site-packages/sklearn/linear_model/logistic.py:1510: UserWarning: Setting penalty='none' will ignore the C and l1_ratio parameters\n",
      "  \"Setting penalty='none' will ignore the C and l1_ratio \"\n"
     ]
    },
    {
     "name": "stdout",
     "output_type": "stream",
     "text": [
      "[CV]  C=100, class_weight=balanced, penalty=none, solver=sag, score=0.642, total=  10.5s\n",
      "[CV] C=100, class_weight=balanced, penalty=none, solver=sag ..........\n"
     ]
    },
    {
     "name": "stderr",
     "output_type": "stream",
     "text": [
      "/anaconda3/lib/python3.6/site-packages/sklearn/linear_model/sag.py:337: ConvergenceWarning: The max_iter was reached which means the coef_ did not converge\n",
      "  \"the coef_ did not converge\", ConvergenceWarning)\n",
      "/anaconda3/lib/python3.6/site-packages/sklearn/linear_model/logistic.py:1510: UserWarning: Setting penalty='none' will ignore the C and l1_ratio parameters\n",
      "  \"Setting penalty='none' will ignore the C and l1_ratio \"\n"
     ]
    },
    {
     "name": "stdout",
     "output_type": "stream",
     "text": [
      "[CV]  C=100, class_weight=balanced, penalty=none, solver=sag, score=0.643, total=  10.6s\n",
      "[CV] C=100, class_weight=balanced, penalty=none, solver=saga .........\n"
     ]
    },
    {
     "name": "stderr",
     "output_type": "stream",
     "text": [
      "/anaconda3/lib/python3.6/site-packages/sklearn/linear_model/sag.py:337: ConvergenceWarning: The max_iter was reached which means the coef_ did not converge\n",
      "  \"the coef_ did not converge\", ConvergenceWarning)\n",
      "/anaconda3/lib/python3.6/site-packages/sklearn/linear_model/logistic.py:1510: UserWarning: Setting penalty='none' will ignore the C and l1_ratio parameters\n",
      "  \"Setting penalty='none' will ignore the C and l1_ratio \"\n"
     ]
    },
    {
     "name": "stdout",
     "output_type": "stream",
     "text": [
      "[CV]  C=100, class_weight=balanced, penalty=none, solver=saga, score=0.638, total=  11.1s\n",
      "[CV] C=100, class_weight=balanced, penalty=none, solver=saga .........\n"
     ]
    },
    {
     "name": "stderr",
     "output_type": "stream",
     "text": [
      "/anaconda3/lib/python3.6/site-packages/sklearn/linear_model/sag.py:337: ConvergenceWarning: The max_iter was reached which means the coef_ did not converge\n",
      "  \"the coef_ did not converge\", ConvergenceWarning)\n",
      "/anaconda3/lib/python3.6/site-packages/sklearn/linear_model/logistic.py:1510: UserWarning: Setting penalty='none' will ignore the C and l1_ratio parameters\n",
      "  \"Setting penalty='none' will ignore the C and l1_ratio \"\n"
     ]
    },
    {
     "name": "stdout",
     "output_type": "stream",
     "text": [
      "[CV]  C=100, class_weight=balanced, penalty=none, solver=saga, score=0.642, total=  10.9s\n",
      "[CV] C=100, class_weight=balanced, penalty=none, solver=saga .........\n"
     ]
    },
    {
     "name": "stderr",
     "output_type": "stream",
     "text": [
      "/anaconda3/lib/python3.6/site-packages/sklearn/linear_model/sag.py:337: ConvergenceWarning: The max_iter was reached which means the coef_ did not converge\n",
      "  \"the coef_ did not converge\", ConvergenceWarning)\n"
     ]
    },
    {
     "name": "stdout",
     "output_type": "stream",
     "text": [
      "[CV]  C=100, class_weight=balanced, penalty=none, solver=saga, score=0.644, total=  10.8s\n",
      "[CV] C=500, class_weight=None, penalty=l1, solver=liblinear ..........\n",
      "[CV]  C=500, class_weight=None, penalty=l1, solver=liblinear, score=0.845, total=  11.2s\n",
      "[CV] C=500, class_weight=None, penalty=l1, solver=liblinear ..........\n",
      "[CV]  C=500, class_weight=None, penalty=l1, solver=liblinear, score=0.843, total=  11.7s\n",
      "[CV] C=500, class_weight=None, penalty=l1, solver=liblinear ..........\n",
      "[CV]  C=500, class_weight=None, penalty=l1, solver=liblinear, score=0.844, total=  13.9s\n",
      "[CV] C=500, class_weight=None, penalty=l1, solver=newton-cg ..........\n",
      "[CV]  C=500, class_weight=None, penalty=l1, solver=newton-cg, score=0.000, total=   0.0s\n",
      "[CV] C=500, class_weight=None, penalty=l1, solver=newton-cg ..........\n",
      "[CV]  C=500, class_weight=None, penalty=l1, solver=newton-cg, score=0.000, total=   0.0s\n",
      "[CV] C=500, class_weight=None, penalty=l1, solver=newton-cg ..........\n",
      "[CV]  C=500, class_weight=None, penalty=l1, solver=newton-cg, score=0.000, total=   0.0s\n",
      "[CV] C=500, class_weight=None, penalty=l1, solver=lbfgs ..............\n",
      "[CV]  C=500, class_weight=None, penalty=l1, solver=lbfgs, score=0.000, total=   0.0s\n",
      "[CV] C=500, class_weight=None, penalty=l1, solver=lbfgs ..............\n",
      "[CV]  C=500, class_weight=None, penalty=l1, solver=lbfgs, score=0.000, total=   0.0s\n",
      "[CV] C=500, class_weight=None, penalty=l1, solver=lbfgs ..............\n",
      "[CV]  C=500, class_weight=None, penalty=l1, solver=lbfgs, score=0.000, total=   0.0s\n",
      "[CV] C=500, class_weight=None, penalty=l1, solver=sag ................\n"
     ]
    },
    {
     "name": "stderr",
     "output_type": "stream",
     "text": [
      "/anaconda3/lib/python3.6/site-packages/sklearn/model_selection/_validation.py:547: FitFailedWarning: Estimator fit failed. The score on this train-test partition for these parameters will be set to 0.000000. Details: \n",
      "ValueError: Solver newton-cg supports only 'l2' or 'none' penalties, got l1 penalty.\n",
      "\n",
      "  FitFailedWarning)\n",
      "/anaconda3/lib/python3.6/site-packages/sklearn/model_selection/_validation.py:547: FitFailedWarning: Estimator fit failed. The score on this train-test partition for these parameters will be set to 0.000000. Details: \n",
      "ValueError: Solver lbfgs supports only 'l2' or 'none' penalties, got l1 penalty.\n",
      "\n",
      "  FitFailedWarning)\n",
      "/anaconda3/lib/python3.6/site-packages/sklearn/model_selection/_validation.py:547: FitFailedWarning: Estimator fit failed. The score on this train-test partition for these parameters will be set to 0.000000. Details: \n",
      "ValueError: Solver sag supports only 'l2' or 'none' penalties, got l1 penalty.\n",
      "\n",
      "  FitFailedWarning)\n"
     ]
    },
    {
     "name": "stdout",
     "output_type": "stream",
     "text": [
      "[CV]  C=500, class_weight=None, penalty=l1, solver=sag, score=0.000, total=   0.0s\n",
      "[CV] C=500, class_weight=None, penalty=l1, solver=sag ................\n",
      "[CV]  C=500, class_weight=None, penalty=l1, solver=sag, score=0.000, total=   0.0s\n",
      "[CV] C=500, class_weight=None, penalty=l1, solver=sag ................\n",
      "[CV]  C=500, class_weight=None, penalty=l1, solver=sag, score=0.000, total=   0.0s\n",
      "[CV] C=500, class_weight=None, penalty=l1, solver=saga ...............\n"
     ]
    },
    {
     "name": "stderr",
     "output_type": "stream",
     "text": [
      "/anaconda3/lib/python3.6/site-packages/sklearn/linear_model/sag.py:337: ConvergenceWarning: The max_iter was reached which means the coef_ did not converge\n",
      "  \"the coef_ did not converge\", ConvergenceWarning)\n"
     ]
    },
    {
     "name": "stdout",
     "output_type": "stream",
     "text": [
      "[CV]  C=500, class_weight=None, penalty=l1, solver=saga, score=0.845, total=  12.8s\n",
      "[CV] C=500, class_weight=None, penalty=l1, solver=saga ...............\n"
     ]
    },
    {
     "name": "stderr",
     "output_type": "stream",
     "text": [
      "/anaconda3/lib/python3.6/site-packages/sklearn/linear_model/sag.py:337: ConvergenceWarning: The max_iter was reached which means the coef_ did not converge\n",
      "  \"the coef_ did not converge\", ConvergenceWarning)\n"
     ]
    },
    {
     "name": "stdout",
     "output_type": "stream",
     "text": [
      "[CV]  C=500, class_weight=None, penalty=l1, solver=saga, score=0.843, total=  12.8s\n",
      "[CV] C=500, class_weight=None, penalty=l1, solver=saga ...............\n"
     ]
    },
    {
     "name": "stderr",
     "output_type": "stream",
     "text": [
      "/anaconda3/lib/python3.6/site-packages/sklearn/linear_model/sag.py:337: ConvergenceWarning: The max_iter was reached which means the coef_ did not converge\n",
      "  \"the coef_ did not converge\", ConvergenceWarning)\n"
     ]
    },
    {
     "name": "stdout",
     "output_type": "stream",
     "text": [
      "[CV]  C=500, class_weight=None, penalty=l1, solver=saga, score=0.844, total=  12.8s\n",
      "[CV] C=500, class_weight=None, penalty=l2, solver=liblinear ..........\n",
      "[CV]  C=500, class_weight=None, penalty=l2, solver=liblinear, score=0.845, total=   3.3s\n",
      "[CV] C=500, class_weight=None, penalty=l2, solver=liblinear ..........\n",
      "[CV]  C=500, class_weight=None, penalty=l2, solver=liblinear, score=0.843, total=   3.5s\n",
      "[CV] C=500, class_weight=None, penalty=l2, solver=liblinear ..........\n",
      "[CV]  C=500, class_weight=None, penalty=l2, solver=liblinear, score=0.844, total=   3.5s\n",
      "[CV] C=500, class_weight=None, penalty=l2, solver=newton-cg ..........\n",
      "[CV]  C=500, class_weight=None, penalty=l2, solver=newton-cg, score=0.845, total=   6.0s\n",
      "[CV] C=500, class_weight=None, penalty=l2, solver=newton-cg ..........\n",
      "[CV]  C=500, class_weight=None, penalty=l2, solver=newton-cg, score=0.843, total=   4.9s\n",
      "[CV] C=500, class_weight=None, penalty=l2, solver=newton-cg ..........\n",
      "[CV]  C=500, class_weight=None, penalty=l2, solver=newton-cg, score=0.844, total=   7.4s\n",
      "[CV] C=500, class_weight=None, penalty=l2, solver=lbfgs ..............\n",
      "[CV]  C=500, class_weight=None, penalty=l2, solver=lbfgs, score=0.845, total=   1.1s\n",
      "[CV] C=500, class_weight=None, penalty=l2, solver=lbfgs ..............\n",
      "[CV]  C=500, class_weight=None, penalty=l2, solver=lbfgs, score=0.843, total=   1.0s\n",
      "[CV] C=500, class_weight=None, penalty=l2, solver=lbfgs ..............\n",
      "[CV]  C=500, class_weight=None, penalty=l2, solver=lbfgs, score=0.844, total=   1.1s\n",
      "[CV] C=500, class_weight=None, penalty=l2, solver=sag ................\n"
     ]
    },
    {
     "name": "stderr",
     "output_type": "stream",
     "text": [
      "/anaconda3/lib/python3.6/site-packages/sklearn/linear_model/sag.py:337: ConvergenceWarning: The max_iter was reached which means the coef_ did not converge\n",
      "  \"the coef_ did not converge\", ConvergenceWarning)\n"
     ]
    },
    {
     "name": "stdout",
     "output_type": "stream",
     "text": [
      "[CV]  C=500, class_weight=None, penalty=l2, solver=sag, score=0.845, total=  12.8s\n",
      "[CV] C=500, class_weight=None, penalty=l2, solver=sag ................\n"
     ]
    },
    {
     "name": "stderr",
     "output_type": "stream",
     "text": [
      "/anaconda3/lib/python3.6/site-packages/sklearn/linear_model/sag.py:337: ConvergenceWarning: The max_iter was reached which means the coef_ did not converge\n",
      "  \"the coef_ did not converge\", ConvergenceWarning)\n"
     ]
    },
    {
     "name": "stdout",
     "output_type": "stream",
     "text": [
      "[CV]  C=500, class_weight=None, penalty=l2, solver=sag, score=0.843, total=  12.8s\n",
      "[CV] C=500, class_weight=None, penalty=l2, solver=sag ................\n"
     ]
    },
    {
     "name": "stderr",
     "output_type": "stream",
     "text": [
      "/anaconda3/lib/python3.6/site-packages/sklearn/linear_model/sag.py:337: ConvergenceWarning: The max_iter was reached which means the coef_ did not converge\n",
      "  \"the coef_ did not converge\", ConvergenceWarning)\n"
     ]
    },
    {
     "name": "stdout",
     "output_type": "stream",
     "text": [
      "[CV]  C=500, class_weight=None, penalty=l2, solver=sag, score=0.844, total=  12.0s\n",
      "[CV] C=500, class_weight=None, penalty=l2, solver=saga ...............\n"
     ]
    },
    {
     "name": "stderr",
     "output_type": "stream",
     "text": [
      "/anaconda3/lib/python3.6/site-packages/sklearn/linear_model/sag.py:337: ConvergenceWarning: The max_iter was reached which means the coef_ did not converge\n",
      "  \"the coef_ did not converge\", ConvergenceWarning)\n"
     ]
    },
    {
     "name": "stdout",
     "output_type": "stream",
     "text": [
      "[CV]  C=500, class_weight=None, penalty=l2, solver=saga, score=0.845, total=  12.5s\n",
      "[CV] C=500, class_weight=None, penalty=l2, solver=saga ...............\n"
     ]
    },
    {
     "name": "stderr",
     "output_type": "stream",
     "text": [
      "/anaconda3/lib/python3.6/site-packages/sklearn/linear_model/sag.py:337: ConvergenceWarning: The max_iter was reached which means the coef_ did not converge\n",
      "  \"the coef_ did not converge\", ConvergenceWarning)\n"
     ]
    },
    {
     "name": "stdout",
     "output_type": "stream",
     "text": [
      "[CV]  C=500, class_weight=None, penalty=l2, solver=saga, score=0.843, total=  13.3s\n",
      "[CV] C=500, class_weight=None, penalty=l2, solver=saga ...............\n"
     ]
    },
    {
     "name": "stderr",
     "output_type": "stream",
     "text": [
      "/anaconda3/lib/python3.6/site-packages/sklearn/linear_model/sag.py:337: ConvergenceWarning: The max_iter was reached which means the coef_ did not converge\n",
      "  \"the coef_ did not converge\", ConvergenceWarning)\n",
      "/anaconda3/lib/python3.6/site-packages/sklearn/model_selection/_validation.py:547: FitFailedWarning: Estimator fit failed. The score on this train-test partition for these parameters will be set to 0.000000. Details: \n",
      "ValueError: penalty='none' is not supported for the liblinear solver\n",
      "\n",
      "  FitFailedWarning)\n",
      "/anaconda3/lib/python3.6/site-packages/sklearn/linear_model/logistic.py:1510: UserWarning: Setting penalty='none' will ignore the C and l1_ratio parameters\n",
      "  \"Setting penalty='none' will ignore the C and l1_ratio \"\n"
     ]
    },
    {
     "name": "stdout",
     "output_type": "stream",
     "text": [
      "[CV]  C=500, class_weight=None, penalty=l2, solver=saga, score=0.844, total=  12.5s\n",
      "[CV] C=500, class_weight=None, penalty=none, solver=liblinear ........\n",
      "[CV]  C=500, class_weight=None, penalty=none, solver=liblinear, score=0.000, total=   0.0s\n",
      "[CV] C=500, class_weight=None, penalty=none, solver=liblinear ........\n",
      "[CV]  C=500, class_weight=None, penalty=none, solver=liblinear, score=0.000, total=   0.0s\n",
      "[CV] C=500, class_weight=None, penalty=none, solver=liblinear ........\n",
      "[CV]  C=500, class_weight=None, penalty=none, solver=liblinear, score=0.000, total=   0.0s\n",
      "[CV] C=500, class_weight=None, penalty=none, solver=newton-cg ........\n",
      "[CV]  C=500, class_weight=None, penalty=none, solver=newton-cg, score=0.845, total=   9.5s\n",
      "[CV] C=500, class_weight=None, penalty=none, solver=newton-cg ........\n"
     ]
    },
    {
     "name": "stderr",
     "output_type": "stream",
     "text": [
      "/anaconda3/lib/python3.6/site-packages/sklearn/linear_model/logistic.py:1510: UserWarning: Setting penalty='none' will ignore the C and l1_ratio parameters\n",
      "  \"Setting penalty='none' will ignore the C and l1_ratio \"\n"
     ]
    },
    {
     "name": "stdout",
     "output_type": "stream",
     "text": [
      "[CV]  C=500, class_weight=None, penalty=none, solver=newton-cg, score=0.843, total=  22.6s\n",
      "[CV] C=500, class_weight=None, penalty=none, solver=newton-cg ........\n"
     ]
    },
    {
     "name": "stderr",
     "output_type": "stream",
     "text": [
      "/anaconda3/lib/python3.6/site-packages/sklearn/linear_model/logistic.py:1510: UserWarning: Setting penalty='none' will ignore the C and l1_ratio parameters\n",
      "  \"Setting penalty='none' will ignore the C and l1_ratio \"\n"
     ]
    },
    {
     "name": "stdout",
     "output_type": "stream",
     "text": [
      "[CV]  C=500, class_weight=None, penalty=none, solver=newton-cg, score=0.844, total=  12.3s\n",
      "[CV] C=500, class_weight=None, penalty=none, solver=lbfgs ............\n"
     ]
    },
    {
     "name": "stderr",
     "output_type": "stream",
     "text": [
      "/anaconda3/lib/python3.6/site-packages/sklearn/linear_model/logistic.py:1510: UserWarning: Setting penalty='none' will ignore the C and l1_ratio parameters\n",
      "  \"Setting penalty='none' will ignore the C and l1_ratio \"\n"
     ]
    },
    {
     "name": "stdout",
     "output_type": "stream",
     "text": [
      "[CV]  C=500, class_weight=None, penalty=none, solver=lbfgs, score=0.845, total=   1.1s\n",
      "[CV] C=500, class_weight=None, penalty=none, solver=lbfgs ............\n"
     ]
    },
    {
     "name": "stderr",
     "output_type": "stream",
     "text": [
      "/anaconda3/lib/python3.6/site-packages/sklearn/linear_model/logistic.py:1510: UserWarning: Setting penalty='none' will ignore the C and l1_ratio parameters\n",
      "  \"Setting penalty='none' will ignore the C and l1_ratio \"\n"
     ]
    },
    {
     "name": "stdout",
     "output_type": "stream",
     "text": [
      "[CV]  C=500, class_weight=None, penalty=none, solver=lbfgs, score=0.843, total=   1.0s\n",
      "[CV] C=500, class_weight=None, penalty=none, solver=lbfgs ............\n"
     ]
    },
    {
     "name": "stderr",
     "output_type": "stream",
     "text": [
      "/anaconda3/lib/python3.6/site-packages/sklearn/linear_model/logistic.py:1510: UserWarning: Setting penalty='none' will ignore the C and l1_ratio parameters\n",
      "  \"Setting penalty='none' will ignore the C and l1_ratio \"\n"
     ]
    },
    {
     "name": "stdout",
     "output_type": "stream",
     "text": [
      "[CV]  C=500, class_weight=None, penalty=none, solver=lbfgs, score=0.844, total=   1.0s\n",
      "[CV] C=500, class_weight=None, penalty=none, solver=sag ..............\n"
     ]
    },
    {
     "name": "stderr",
     "output_type": "stream",
     "text": [
      "/anaconda3/lib/python3.6/site-packages/sklearn/linear_model/logistic.py:1510: UserWarning: Setting penalty='none' will ignore the C and l1_ratio parameters\n",
      "  \"Setting penalty='none' will ignore the C and l1_ratio \"\n",
      "/anaconda3/lib/python3.6/site-packages/sklearn/linear_model/sag.py:337: ConvergenceWarning: The max_iter was reached which means the coef_ did not converge\n",
      "  \"the coef_ did not converge\", ConvergenceWarning)\n",
      "/anaconda3/lib/python3.6/site-packages/sklearn/linear_model/logistic.py:1510: UserWarning: Setting penalty='none' will ignore the C and l1_ratio parameters\n",
      "  \"Setting penalty='none' will ignore the C and l1_ratio \"\n"
     ]
    },
    {
     "name": "stdout",
     "output_type": "stream",
     "text": [
      "[CV]  C=500, class_weight=None, penalty=none, solver=sag, score=0.845, total=  12.3s\n",
      "[CV] C=500, class_weight=None, penalty=none, solver=sag ..............\n"
     ]
    },
    {
     "name": "stderr",
     "output_type": "stream",
     "text": [
      "/anaconda3/lib/python3.6/site-packages/sklearn/linear_model/sag.py:337: ConvergenceWarning: The max_iter was reached which means the coef_ did not converge\n",
      "  \"the coef_ did not converge\", ConvergenceWarning)\n",
      "/anaconda3/lib/python3.6/site-packages/sklearn/linear_model/logistic.py:1510: UserWarning: Setting penalty='none' will ignore the C and l1_ratio parameters\n",
      "  \"Setting penalty='none' will ignore the C and l1_ratio \"\n"
     ]
    },
    {
     "name": "stdout",
     "output_type": "stream",
     "text": [
      "[CV]  C=500, class_weight=None, penalty=none, solver=sag, score=0.843, total=  12.0s\n",
      "[CV] C=500, class_weight=None, penalty=none, solver=sag ..............\n"
     ]
    },
    {
     "name": "stderr",
     "output_type": "stream",
     "text": [
      "/anaconda3/lib/python3.6/site-packages/sklearn/linear_model/sag.py:337: ConvergenceWarning: The max_iter was reached which means the coef_ did not converge\n",
      "  \"the coef_ did not converge\", ConvergenceWarning)\n",
      "/anaconda3/lib/python3.6/site-packages/sklearn/linear_model/logistic.py:1510: UserWarning: Setting penalty='none' will ignore the C and l1_ratio parameters\n",
      "  \"Setting penalty='none' will ignore the C and l1_ratio \"\n"
     ]
    },
    {
     "name": "stdout",
     "output_type": "stream",
     "text": [
      "[CV]  C=500, class_weight=None, penalty=none, solver=sag, score=0.844, total=  12.0s\n",
      "[CV] C=500, class_weight=None, penalty=none, solver=saga .............\n"
     ]
    },
    {
     "name": "stderr",
     "output_type": "stream",
     "text": [
      "/anaconda3/lib/python3.6/site-packages/sklearn/linear_model/sag.py:337: ConvergenceWarning: The max_iter was reached which means the coef_ did not converge\n",
      "  \"the coef_ did not converge\", ConvergenceWarning)\n",
      "/anaconda3/lib/python3.6/site-packages/sklearn/linear_model/logistic.py:1510: UserWarning: Setting penalty='none' will ignore the C and l1_ratio parameters\n",
      "  \"Setting penalty='none' will ignore the C and l1_ratio \"\n"
     ]
    },
    {
     "name": "stdout",
     "output_type": "stream",
     "text": [
      "[CV]  C=500, class_weight=None, penalty=none, solver=saga, score=0.845, total=  13.0s\n",
      "[CV] C=500, class_weight=None, penalty=none, solver=saga .............\n"
     ]
    },
    {
     "name": "stderr",
     "output_type": "stream",
     "text": [
      "/anaconda3/lib/python3.6/site-packages/sklearn/linear_model/sag.py:337: ConvergenceWarning: The max_iter was reached which means the coef_ did not converge\n",
      "  \"the coef_ did not converge\", ConvergenceWarning)\n",
      "/anaconda3/lib/python3.6/site-packages/sklearn/linear_model/logistic.py:1510: UserWarning: Setting penalty='none' will ignore the C and l1_ratio parameters\n",
      "  \"Setting penalty='none' will ignore the C and l1_ratio \"\n"
     ]
    },
    {
     "name": "stdout",
     "output_type": "stream",
     "text": [
      "[CV]  C=500, class_weight=None, penalty=none, solver=saga, score=0.843, total=  12.4s\n",
      "[CV] C=500, class_weight=None, penalty=none, solver=saga .............\n"
     ]
    },
    {
     "name": "stderr",
     "output_type": "stream",
     "text": [
      "/anaconda3/lib/python3.6/site-packages/sklearn/linear_model/sag.py:337: ConvergenceWarning: The max_iter was reached which means the coef_ did not converge\n",
      "  \"the coef_ did not converge\", ConvergenceWarning)\n"
     ]
    },
    {
     "name": "stdout",
     "output_type": "stream",
     "text": [
      "[CV]  C=500, class_weight=None, penalty=none, solver=saga, score=0.844, total=  13.1s\n",
      "[CV] C=500, class_weight=balanced, penalty=l1, solver=liblinear ......\n",
      "[CV]  C=500, class_weight=balanced, penalty=l1, solver=liblinear, score=0.637, total=  11.3s\n",
      "[CV] C=500, class_weight=balanced, penalty=l1, solver=liblinear ......\n",
      "[CV]  C=500, class_weight=balanced, penalty=l1, solver=liblinear, score=0.642, total=  11.4s\n",
      "[CV] C=500, class_weight=balanced, penalty=l1, solver=liblinear ......\n",
      "[CV]  C=500, class_weight=balanced, penalty=l1, solver=liblinear, score=0.643, total=  11.2s\n",
      "[CV] C=500, class_weight=balanced, penalty=l1, solver=newton-cg ......\n",
      "[CV]  C=500, class_weight=balanced, penalty=l1, solver=newton-cg, score=0.000, total=   0.0s\n",
      "[CV] C=500, class_weight=balanced, penalty=l1, solver=newton-cg ......\n",
      "[CV]  C=500, class_weight=balanced, penalty=l1, solver=newton-cg, score=0.000, total=   0.0s\n",
      "[CV] C=500, class_weight=balanced, penalty=l1, solver=newton-cg ......\n",
      "[CV]  C=500, class_weight=balanced, penalty=l1, solver=newton-cg, score=0.000, total=   0.0s\n",
      "[CV] C=500, class_weight=balanced, penalty=l1, solver=lbfgs ..........\n",
      "[CV]  C=500, class_weight=balanced, penalty=l1, solver=lbfgs, score=0.000, total=   0.0s\n",
      "[CV] C=500, class_weight=balanced, penalty=l1, solver=lbfgs ..........\n",
      "[CV]  C=500, class_weight=balanced, penalty=l1, solver=lbfgs, score=0.000, total=   0.0s\n",
      "[CV] C=500, class_weight=balanced, penalty=l1, solver=lbfgs ..........\n",
      "[CV]  C=500, class_weight=balanced, penalty=l1, solver=lbfgs, score=0.000, total=   0.0s\n",
      "[CV] C=500, class_weight=balanced, penalty=l1, solver=sag ............\n"
     ]
    },
    {
     "name": "stderr",
     "output_type": "stream",
     "text": [
      "/anaconda3/lib/python3.6/site-packages/sklearn/model_selection/_validation.py:547: FitFailedWarning: Estimator fit failed. The score on this train-test partition for these parameters will be set to 0.000000. Details: \n",
      "ValueError: Solver newton-cg supports only 'l2' or 'none' penalties, got l1 penalty.\n",
      "\n",
      "  FitFailedWarning)\n",
      "/anaconda3/lib/python3.6/site-packages/sklearn/model_selection/_validation.py:547: FitFailedWarning: Estimator fit failed. The score on this train-test partition for these parameters will be set to 0.000000. Details: \n",
      "ValueError: Solver lbfgs supports only 'l2' or 'none' penalties, got l1 penalty.\n",
      "\n",
      "  FitFailedWarning)\n",
      "/anaconda3/lib/python3.6/site-packages/sklearn/model_selection/_validation.py:547: FitFailedWarning: Estimator fit failed. The score on this train-test partition for these parameters will be set to 0.000000. Details: \n",
      "ValueError: Solver sag supports only 'l2' or 'none' penalties, got l1 penalty.\n",
      "\n",
      "  FitFailedWarning)\n"
     ]
    },
    {
     "name": "stdout",
     "output_type": "stream",
     "text": [
      "[CV]  C=500, class_weight=balanced, penalty=l1, solver=sag, score=0.000, total=   0.0s\n",
      "[CV] C=500, class_weight=balanced, penalty=l1, solver=sag ............\n",
      "[CV]  C=500, class_weight=balanced, penalty=l1, solver=sag, score=0.000, total=   0.0s\n",
      "[CV] C=500, class_weight=balanced, penalty=l1, solver=sag ............\n",
      "[CV]  C=500, class_weight=balanced, penalty=l1, solver=sag, score=0.000, total=   0.0s\n",
      "[CV] C=500, class_weight=balanced, penalty=l1, solver=saga ...........\n"
     ]
    },
    {
     "name": "stderr",
     "output_type": "stream",
     "text": [
      "/anaconda3/lib/python3.6/site-packages/sklearn/linear_model/sag.py:337: ConvergenceWarning: The max_iter was reached which means the coef_ did not converge\n",
      "  \"the coef_ did not converge\", ConvergenceWarning)\n"
     ]
    },
    {
     "name": "stdout",
     "output_type": "stream",
     "text": [
      "[CV]  C=500, class_weight=balanced, penalty=l1, solver=saga, score=0.638, total=  14.2s\n",
      "[CV] C=500, class_weight=balanced, penalty=l1, solver=saga ...........\n"
     ]
    },
    {
     "name": "stderr",
     "output_type": "stream",
     "text": [
      "/anaconda3/lib/python3.6/site-packages/sklearn/linear_model/sag.py:337: ConvergenceWarning: The max_iter was reached which means the coef_ did not converge\n",
      "  \"the coef_ did not converge\", ConvergenceWarning)\n"
     ]
    },
    {
     "name": "stdout",
     "output_type": "stream",
     "text": [
      "[CV]  C=500, class_weight=balanced, penalty=l1, solver=saga, score=0.642, total=  14.5s\n",
      "[CV] C=500, class_weight=balanced, penalty=l1, solver=saga ...........\n"
     ]
    },
    {
     "name": "stderr",
     "output_type": "stream",
     "text": [
      "/anaconda3/lib/python3.6/site-packages/sklearn/linear_model/sag.py:337: ConvergenceWarning: The max_iter was reached which means the coef_ did not converge\n",
      "  \"the coef_ did not converge\", ConvergenceWarning)\n"
     ]
    },
    {
     "name": "stdout",
     "output_type": "stream",
     "text": [
      "[CV]  C=500, class_weight=balanced, penalty=l1, solver=saga, score=0.644, total=  13.8s\n",
      "[CV] C=500, class_weight=balanced, penalty=l2, solver=liblinear ......\n",
      "[CV]  C=500, class_weight=balanced, penalty=l2, solver=liblinear, score=0.637, total=   2.7s\n",
      "[CV] C=500, class_weight=balanced, penalty=l2, solver=liblinear ......\n",
      "[CV]  C=500, class_weight=balanced, penalty=l2, solver=liblinear, score=0.642, total=   3.3s\n",
      "[CV] C=500, class_weight=balanced, penalty=l2, solver=liblinear ......\n",
      "[CV]  C=500, class_weight=balanced, penalty=l2, solver=liblinear, score=0.643, total=   3.1s\n",
      "[CV] C=500, class_weight=balanced, penalty=l2, solver=newton-cg ......\n",
      "[CV]  C=500, class_weight=balanced, penalty=l2, solver=newton-cg, score=0.637, total=   5.8s\n",
      "[CV] C=500, class_weight=balanced, penalty=l2, solver=newton-cg ......\n",
      "[CV]  C=500, class_weight=balanced, penalty=l2, solver=newton-cg, score=0.642, total=   6.8s\n",
      "[CV] C=500, class_weight=balanced, penalty=l2, solver=newton-cg ......\n",
      "[CV]  C=500, class_weight=balanced, penalty=l2, solver=newton-cg, score=0.643, total=   5.9s\n",
      "[CV] C=500, class_weight=balanced, penalty=l2, solver=lbfgs ..........\n",
      "[CV]  C=500, class_weight=balanced, penalty=l2, solver=lbfgs, score=0.637, total=   0.9s\n",
      "[CV] C=500, class_weight=balanced, penalty=l2, solver=lbfgs ..........\n",
      "[CV]  C=500, class_weight=balanced, penalty=l2, solver=lbfgs, score=0.642, total=   1.0s\n",
      "[CV] C=500, class_weight=balanced, penalty=l2, solver=lbfgs ..........\n",
      "[CV]  C=500, class_weight=balanced, penalty=l2, solver=lbfgs, score=0.643, total=   1.1s\n",
      "[CV] C=500, class_weight=balanced, penalty=l2, solver=sag ............\n"
     ]
    },
    {
     "name": "stderr",
     "output_type": "stream",
     "text": [
      "/anaconda3/lib/python3.6/site-packages/sklearn/linear_model/sag.py:337: ConvergenceWarning: The max_iter was reached which means the coef_ did not converge\n",
      "  \"the coef_ did not converge\", ConvergenceWarning)\n"
     ]
    },
    {
     "name": "stdout",
     "output_type": "stream",
     "text": [
      "[CV]  C=500, class_weight=balanced, penalty=l2, solver=sag, score=0.637, total=  11.8s\n",
      "[CV] C=500, class_weight=balanced, penalty=l2, solver=sag ............\n"
     ]
    },
    {
     "name": "stderr",
     "output_type": "stream",
     "text": [
      "/anaconda3/lib/python3.6/site-packages/sklearn/linear_model/sag.py:337: ConvergenceWarning: The max_iter was reached which means the coef_ did not converge\n",
      "  \"the coef_ did not converge\", ConvergenceWarning)\n"
     ]
    },
    {
     "name": "stdout",
     "output_type": "stream",
     "text": [
      "[CV]  C=500, class_weight=balanced, penalty=l2, solver=sag, score=0.642, total=  12.1s\n",
      "[CV] C=500, class_weight=balanced, penalty=l2, solver=sag ............\n"
     ]
    },
    {
     "name": "stderr",
     "output_type": "stream",
     "text": [
      "/anaconda3/lib/python3.6/site-packages/sklearn/linear_model/sag.py:337: ConvergenceWarning: The max_iter was reached which means the coef_ did not converge\n",
      "  \"the coef_ did not converge\", ConvergenceWarning)\n"
     ]
    },
    {
     "name": "stdout",
     "output_type": "stream",
     "text": [
      "[CV]  C=500, class_weight=balanced, penalty=l2, solver=sag, score=0.643, total=  12.0s\n",
      "[CV] C=500, class_weight=balanced, penalty=l2, solver=saga ...........\n"
     ]
    },
    {
     "name": "stderr",
     "output_type": "stream",
     "text": [
      "/anaconda3/lib/python3.6/site-packages/sklearn/linear_model/sag.py:337: ConvergenceWarning: The max_iter was reached which means the coef_ did not converge\n",
      "  \"the coef_ did not converge\", ConvergenceWarning)\n"
     ]
    },
    {
     "name": "stdout",
     "output_type": "stream",
     "text": [
      "[CV]  C=500, class_weight=balanced, penalty=l2, solver=saga, score=0.638, total=  13.4s\n",
      "[CV] C=500, class_weight=balanced, penalty=l2, solver=saga ...........\n"
     ]
    },
    {
     "name": "stderr",
     "output_type": "stream",
     "text": [
      "/anaconda3/lib/python3.6/site-packages/sklearn/linear_model/sag.py:337: ConvergenceWarning: The max_iter was reached which means the coef_ did not converge\n",
      "  \"the coef_ did not converge\", ConvergenceWarning)\n"
     ]
    },
    {
     "name": "stdout",
     "output_type": "stream",
     "text": [
      "[CV]  C=500, class_weight=balanced, penalty=l2, solver=saga, score=0.642, total=  13.3s\n",
      "[CV] C=500, class_weight=balanced, penalty=l2, solver=saga ...........\n"
     ]
    },
    {
     "name": "stderr",
     "output_type": "stream",
     "text": [
      "/anaconda3/lib/python3.6/site-packages/sklearn/linear_model/sag.py:337: ConvergenceWarning: The max_iter was reached which means the coef_ did not converge\n",
      "  \"the coef_ did not converge\", ConvergenceWarning)\n",
      "/anaconda3/lib/python3.6/site-packages/sklearn/model_selection/_validation.py:547: FitFailedWarning: Estimator fit failed. The score on this train-test partition for these parameters will be set to 0.000000. Details: \n",
      "ValueError: penalty='none' is not supported for the liblinear solver\n",
      "\n",
      "  FitFailedWarning)\n",
      "/anaconda3/lib/python3.6/site-packages/sklearn/linear_model/logistic.py:1510: UserWarning: Setting penalty='none' will ignore the C and l1_ratio parameters\n",
      "  \"Setting penalty='none' will ignore the C and l1_ratio \"\n"
     ]
    },
    {
     "name": "stdout",
     "output_type": "stream",
     "text": [
      "[CV]  C=500, class_weight=balanced, penalty=l2, solver=saga, score=0.644, total=  13.4s\n",
      "[CV] C=500, class_weight=balanced, penalty=none, solver=liblinear ....\n",
      "[CV]  C=500, class_weight=balanced, penalty=none, solver=liblinear, score=0.000, total=   0.0s\n",
      "[CV] C=500, class_weight=balanced, penalty=none, solver=liblinear ....\n",
      "[CV]  C=500, class_weight=balanced, penalty=none, solver=liblinear, score=0.000, total=   0.0s\n",
      "[CV] C=500, class_weight=balanced, penalty=none, solver=liblinear ....\n",
      "[CV]  C=500, class_weight=balanced, penalty=none, solver=liblinear, score=0.000, total=   0.0s\n",
      "[CV] C=500, class_weight=balanced, penalty=none, solver=newton-cg ....\n",
      "[CV]  C=500, class_weight=balanced, penalty=none, solver=newton-cg, score=0.637, total=   6.4s\n",
      "[CV] C=500, class_weight=balanced, penalty=none, solver=newton-cg ....\n"
     ]
    },
    {
     "name": "stderr",
     "output_type": "stream",
     "text": [
      "/anaconda3/lib/python3.6/site-packages/sklearn/linear_model/logistic.py:1510: UserWarning: Setting penalty='none' will ignore the C and l1_ratio parameters\n",
      "  \"Setting penalty='none' will ignore the C and l1_ratio \"\n"
     ]
    },
    {
     "name": "stdout",
     "output_type": "stream",
     "text": [
      "[CV]  C=500, class_weight=balanced, penalty=none, solver=newton-cg, score=0.642, total=  24.7s\n",
      "[CV] C=500, class_weight=balanced, penalty=none, solver=newton-cg ....\n"
     ]
    },
    {
     "name": "stderr",
     "output_type": "stream",
     "text": [
      "/anaconda3/lib/python3.6/site-packages/sklearn/linear_model/logistic.py:1510: UserWarning: Setting penalty='none' will ignore the C and l1_ratio parameters\n",
      "  \"Setting penalty='none' will ignore the C and l1_ratio \"\n"
     ]
    },
    {
     "name": "stdout",
     "output_type": "stream",
     "text": [
      "[CV]  C=500, class_weight=balanced, penalty=none, solver=newton-cg, score=0.643, total=   7.6s\n",
      "[CV] C=500, class_weight=balanced, penalty=none, solver=lbfgs ........\n"
     ]
    },
    {
     "name": "stderr",
     "output_type": "stream",
     "text": [
      "/anaconda3/lib/python3.6/site-packages/sklearn/linear_model/logistic.py:1510: UserWarning: Setting penalty='none' will ignore the C and l1_ratio parameters\n",
      "  \"Setting penalty='none' will ignore the C and l1_ratio \"\n"
     ]
    },
    {
     "name": "stdout",
     "output_type": "stream",
     "text": [
      "[CV]  C=500, class_weight=balanced, penalty=none, solver=lbfgs, score=0.637, total=   0.9s\n",
      "[CV] C=500, class_weight=balanced, penalty=none, solver=lbfgs ........\n"
     ]
    },
    {
     "name": "stderr",
     "output_type": "stream",
     "text": [
      "/anaconda3/lib/python3.6/site-packages/sklearn/linear_model/logistic.py:1510: UserWarning: Setting penalty='none' will ignore the C and l1_ratio parameters\n",
      "  \"Setting penalty='none' will ignore the C and l1_ratio \"\n"
     ]
    },
    {
     "name": "stdout",
     "output_type": "stream",
     "text": [
      "[CV]  C=500, class_weight=balanced, penalty=none, solver=lbfgs, score=0.642, total=   0.9s\n",
      "[CV] C=500, class_weight=balanced, penalty=none, solver=lbfgs ........\n"
     ]
    },
    {
     "name": "stderr",
     "output_type": "stream",
     "text": [
      "/anaconda3/lib/python3.6/site-packages/sklearn/linear_model/logistic.py:1510: UserWarning: Setting penalty='none' will ignore the C and l1_ratio parameters\n",
      "  \"Setting penalty='none' will ignore the C and l1_ratio \"\n"
     ]
    },
    {
     "name": "stdout",
     "output_type": "stream",
     "text": [
      "[CV]  C=500, class_weight=balanced, penalty=none, solver=lbfgs, score=0.643, total=   1.0s\n",
      "[CV] C=500, class_weight=balanced, penalty=none, solver=sag ..........\n"
     ]
    },
    {
     "name": "stderr",
     "output_type": "stream",
     "text": [
      "/anaconda3/lib/python3.6/site-packages/sklearn/linear_model/logistic.py:1510: UserWarning: Setting penalty='none' will ignore the C and l1_ratio parameters\n",
      "  \"Setting penalty='none' will ignore the C and l1_ratio \"\n",
      "/anaconda3/lib/python3.6/site-packages/sklearn/linear_model/sag.py:337: ConvergenceWarning: The max_iter was reached which means the coef_ did not converge\n",
      "  \"the coef_ did not converge\", ConvergenceWarning)\n",
      "/anaconda3/lib/python3.6/site-packages/sklearn/linear_model/logistic.py:1510: UserWarning: Setting penalty='none' will ignore the C and l1_ratio parameters\n",
      "  \"Setting penalty='none' will ignore the C and l1_ratio \"\n"
     ]
    },
    {
     "name": "stdout",
     "output_type": "stream",
     "text": [
      "[CV]  C=500, class_weight=balanced, penalty=none, solver=sag, score=0.637, total=  11.8s\n",
      "[CV] C=500, class_weight=balanced, penalty=none, solver=sag ..........\n"
     ]
    },
    {
     "name": "stderr",
     "output_type": "stream",
     "text": [
      "/anaconda3/lib/python3.6/site-packages/sklearn/linear_model/sag.py:337: ConvergenceWarning: The max_iter was reached which means the coef_ did not converge\n",
      "  \"the coef_ did not converge\", ConvergenceWarning)\n",
      "/anaconda3/lib/python3.6/site-packages/sklearn/linear_model/logistic.py:1510: UserWarning: Setting penalty='none' will ignore the C and l1_ratio parameters\n",
      "  \"Setting penalty='none' will ignore the C and l1_ratio \"\n"
     ]
    },
    {
     "name": "stdout",
     "output_type": "stream",
     "text": [
      "[CV]  C=500, class_weight=balanced, penalty=none, solver=sag, score=0.642, total=  12.7s\n",
      "[CV] C=500, class_weight=balanced, penalty=none, solver=sag ..........\n"
     ]
    },
    {
     "name": "stderr",
     "output_type": "stream",
     "text": [
      "/anaconda3/lib/python3.6/site-packages/sklearn/linear_model/sag.py:337: ConvergenceWarning: The max_iter was reached which means the coef_ did not converge\n",
      "  \"the coef_ did not converge\", ConvergenceWarning)\n",
      "/anaconda3/lib/python3.6/site-packages/sklearn/linear_model/logistic.py:1510: UserWarning: Setting penalty='none' will ignore the C and l1_ratio parameters\n",
      "  \"Setting penalty='none' will ignore the C and l1_ratio \"\n"
     ]
    },
    {
     "name": "stdout",
     "output_type": "stream",
     "text": [
      "[CV]  C=500, class_weight=balanced, penalty=none, solver=sag, score=0.643, total=  12.4s\n",
      "[CV] C=500, class_weight=balanced, penalty=none, solver=saga .........\n"
     ]
    },
    {
     "name": "stderr",
     "output_type": "stream",
     "text": [
      "/anaconda3/lib/python3.6/site-packages/sklearn/linear_model/sag.py:337: ConvergenceWarning: The max_iter was reached which means the coef_ did not converge\n",
      "  \"the coef_ did not converge\", ConvergenceWarning)\n",
      "/anaconda3/lib/python3.6/site-packages/sklearn/linear_model/logistic.py:1510: UserWarning: Setting penalty='none' will ignore the C and l1_ratio parameters\n",
      "  \"Setting penalty='none' will ignore the C and l1_ratio \"\n"
     ]
    },
    {
     "name": "stdout",
     "output_type": "stream",
     "text": [
      "[CV]  C=500, class_weight=balanced, penalty=none, solver=saga, score=0.638, total=  12.3s\n",
      "[CV] C=500, class_weight=balanced, penalty=none, solver=saga .........\n"
     ]
    },
    {
     "name": "stderr",
     "output_type": "stream",
     "text": [
      "/anaconda3/lib/python3.6/site-packages/sklearn/linear_model/sag.py:337: ConvergenceWarning: The max_iter was reached which means the coef_ did not converge\n",
      "  \"the coef_ did not converge\", ConvergenceWarning)\n",
      "/anaconda3/lib/python3.6/site-packages/sklearn/linear_model/logistic.py:1510: UserWarning: Setting penalty='none' will ignore the C and l1_ratio parameters\n",
      "  \"Setting penalty='none' will ignore the C and l1_ratio \"\n"
     ]
    },
    {
     "name": "stdout",
     "output_type": "stream",
     "text": [
      "[CV]  C=500, class_weight=balanced, penalty=none, solver=saga, score=0.642, total=  13.0s\n",
      "[CV] C=500, class_weight=balanced, penalty=none, solver=saga .........\n"
     ]
    },
    {
     "name": "stderr",
     "output_type": "stream",
     "text": [
      "/anaconda3/lib/python3.6/site-packages/sklearn/linear_model/sag.py:337: ConvergenceWarning: The max_iter was reached which means the coef_ did not converge\n",
      "  \"the coef_ did not converge\", ConvergenceWarning)\n",
      "[Parallel(n_jobs=1)]: Done 720 out of 720 | elapsed: 78.5min finished\n"
     ]
    },
    {
     "name": "stdout",
     "output_type": "stream",
     "text": [
      "[CV]  C=500, class_weight=balanced, penalty=none, solver=saga, score=0.644, total=  13.4s\n"
     ]
    },
    {
     "data": {
      "text/plain": [
       "GridSearchCV(cv='warn', error_score=0,\n",
       "             estimator=LogisticRegression(C=1.0, class_weight=None, dual=False,\n",
       "                                          fit_intercept=True,\n",
       "                                          intercept_scaling=1, l1_ratio=None,\n",
       "                                          max_iter=100, multi_class='warn',\n",
       "                                          n_jobs=None, penalty='l2',\n",
       "                                          random_state=None, solver='warn',\n",
       "                                          tol=0.0001, verbose=0,\n",
       "                                          warm_start=False),\n",
       "             iid='warn', n_jobs=None,\n",
       "             param_grid={'C': [0.01, 0.1, 1, 5, 10, 50, 100, 500],\n",
       "                         'class_weight': [None, 'balanced'],\n",
       "                         'penalty': ['l1', 'l2', 'none'],\n",
       "                         'solver': ['liblinear', 'newton-cg', 'lbfgs', 'sag',\n",
       "                                    'saga']},\n",
       "             pre_dispatch='2*n_jobs', refit=True, return_train_score=False,\n",
       "             scoring=None, verbose=3)"
      ]
     },
     "execution_count": 35,
     "metadata": {},
     "output_type": "execute_result"
    }
   ],
   "source": [
    "grid = GridSearchCV(LogisticRegression(), param_grid, refit=True, error_score=0, verbose=3)\n",
    "grid.fit(df,y_train)"
   ]
  },
  {
   "cell_type": "code",
   "execution_count": 36,
   "metadata": {},
   "outputs": [
    {
     "data": {
      "text/plain": [
       "{'C': 0.01, 'class_weight': None, 'penalty': 'l1', 'solver': 'saga'}"
      ]
     },
     "execution_count": 36,
     "metadata": {},
     "output_type": "execute_result"
    }
   ],
   "source": [
    "grid.best_params_"
   ]
  },
  {
   "cell_type": "code",
   "execution_count": 37,
   "metadata": {},
   "outputs": [
    {
     "name": "stdout",
     "output_type": "stream",
     "text": [
      "              precision    recall  f1-score   support\n",
      "\n",
      "         0.0       0.85      1.00      0.92     45655\n",
      "         1.0       0.48      0.01      0.02      8438\n",
      "\n",
      "    accuracy                           0.84     54093\n",
      "   macro avg       0.66      0.50      0.47     54093\n",
      "weighted avg       0.79      0.84      0.78     54093\n",
      "\n",
      "[[45555   100]\n",
      " [ 8345    93]]\n",
      "0.8438799844711885\n"
     ]
    }
   ],
   "source": [
    "grid_predictions = grid.predict(test_df)\n",
    "print(classification_report(y_test,grid_predictions))\n",
    "print(confusion_matrix(y_test,grid_predictions))\n",
    "print(grid.score(test_df, y_test))"
   ]
  },
  {
   "cell_type": "code",
   "execution_count": 38,
   "metadata": {},
   "outputs": [],
   "source": [
    "# The result improved a little bit from the original logistic regression which only uses numeric variables (grid.score is 0.8436026842659864)\n"
   ]
  }
 ],
 "metadata": {
  "kernelspec": {
   "display_name": "Python 3",
   "language": "python",
   "name": "python3"
  },
  "language_info": {
   "codemirror_mode": {
    "name": "ipython",
    "version": 3
   },
   "file_extension": ".py",
   "mimetype": "text/x-python",
   "name": "python",
   "nbconvert_exporter": "python",
   "pygments_lexer": "ipython3",
   "version": "3.6.9"
  }
 },
 "nbformat": 4,
 "nbformat_minor": 2
}

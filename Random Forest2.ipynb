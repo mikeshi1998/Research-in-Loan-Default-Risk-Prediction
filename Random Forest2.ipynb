{
 "cells": [
  {
   "cell_type": "code",
   "execution_count": 8,
   "metadata": {},
   "outputs": [],
   "source": [
    "import pandas as pd\n",
    "import numpy as np\n",
    "import matplotlib.pyplot as plt\n",
    "import seaborn as sns\n",
    "%matplotlib inline\n",
    "from sklearn.preprocessing import StandardScaler\n",
    "from sklearn.model_selection import train_test_split\n",
    "from sklearn.ensemble import RandomForestClassifier\n",
    "from sklearn.metrics import classification_report, confusion_matrix\n",
    "from sklearn.model_selection import GridSearchCV\n",
    "pd.set_option('display.max_columns', None)  # this will output all columns when display a pandas dataframe"
   ]
  },
  {
   "cell_type": "code",
   "execution_count": 2,
   "metadata": {},
   "outputs": [],
   "source": [
    "df=pd.read_csv('2012-2013_cleaned2.csv', index_col=0)"
   ]
  },
  {
   "cell_type": "code",
   "execution_count": 3,
   "metadata": {},
   "outputs": [],
   "source": [
    "y=df['loan_status']\n",
    "df.drop(columns=['emp_title','issue_d','desc','title','zip_code','loan_status'], inplace=True)\n",
    "scaler=StandardScaler()\n",
    "scaler.fit(df)\n",
    "scaled=scaler.transform(df)\n",
    "df=pd.DataFrame(scaled, columns=df.columns)"
   ]
  },
  {
   "cell_type": "code",
   "execution_count": 4,
   "metadata": {},
   "outputs": [],
   "source": [
    "X_train, X_test, y_train, y_test = train_test_split(df, y, test_size=0.30, random_state=101)"
   ]
  },
  {
   "cell_type": "code",
   "execution_count": 5,
   "metadata": {},
   "outputs": [
    {
     "name": "stdout",
     "output_type": "stream",
     "text": [
      "building tree 1 of 100\n"
     ]
    },
    {
     "name": "stderr",
     "output_type": "stream",
     "text": [
      "[Parallel(n_jobs=1)]: Done   1 out of   1 | elapsed:    0.2s remaining:    0.0s\n"
     ]
    },
    {
     "name": "stdout",
     "output_type": "stream",
     "text": [
      "building tree 2 of 100\n"
     ]
    },
    {
     "name": "stderr",
     "output_type": "stream",
     "text": [
      "[Parallel(n_jobs=1)]: Done   2 out of   2 | elapsed:    0.4s remaining:    0.0s\n"
     ]
    },
    {
     "name": "stdout",
     "output_type": "stream",
     "text": [
      "building tree 3 of 100\n"
     ]
    },
    {
     "name": "stderr",
     "output_type": "stream",
     "text": [
      "[Parallel(n_jobs=1)]: Done   3 out of   3 | elapsed:    0.6s remaining:    0.0s\n"
     ]
    },
    {
     "name": "stdout",
     "output_type": "stream",
     "text": [
      "building tree 4 of 100\n"
     ]
    },
    {
     "name": "stderr",
     "output_type": "stream",
     "text": [
      "[Parallel(n_jobs=1)]: Done   4 out of   4 | elapsed:    0.9s remaining:    0.0s\n"
     ]
    },
    {
     "name": "stdout",
     "output_type": "stream",
     "text": [
      "building tree 5 of 100\n",
      "building tree 6 of 100\n",
      "building tree 7 of 100\n",
      "building tree 8 of 100\n",
      "building tree 9 of 100\n",
      "building tree 10 of 100\n",
      "building tree 11 of 100\n",
      "building tree 12 of 100\n",
      "building tree 13 of 100\n",
      "building tree 14 of 100\n",
      "building tree 15 of 100\n",
      "building tree 16 of 100\n",
      "building tree 17 of 100\n",
      "building tree 18 of 100\n",
      "building tree 19 of 100\n",
      "building tree 20 of 100\n",
      "building tree 21 of 100\n",
      "building tree 22 of 100\n",
      "building tree 23 of 100\n",
      "building tree 24 of 100\n",
      "building tree 25 of 100\n",
      "building tree 26 of 100\n",
      "building tree 27 of 100\n",
      "building tree 28 of 100\n",
      "building tree 29 of 100\n",
      "building tree 30 of 100\n",
      "building tree 31 of 100\n",
      "building tree 32 of 100\n",
      "building tree 33 of 100\n",
      "building tree 34 of 100\n",
      "building tree 35 of 100\n",
      "building tree 36 of 100\n",
      "building tree 37 of 100\n",
      "building tree 38 of 100\n",
      "building tree 39 of 100\n",
      "building tree 40 of 100\n",
      "building tree 41 of 100\n",
      "building tree 42 of 100\n",
      "building tree 43 of 100\n",
      "building tree 44 of 100\n",
      "building tree 45 of 100\n",
      "building tree 46 of 100\n",
      "building tree 47 of 100\n",
      "building tree 48 of 100\n",
      "building tree 49 of 100\n",
      "building tree 50 of 100\n",
      "building tree 51 of 100\n",
      "building tree 52 of 100\n",
      "building tree 53 of 100\n",
      "building tree 54 of 100\n",
      "building tree 55 of 100\n",
      "building tree 56 of 100\n",
      "building tree 57 of 100\n",
      "building tree 58 of 100\n",
      "building tree 59 of 100\n",
      "building tree 60 of 100\n",
      "building tree 61 of 100\n",
      "building tree 62 of 100\n",
      "building tree 63 of 100\n",
      "building tree 64 of 100\n",
      "building tree 65 of 100\n",
      "building tree 66 of 100\n",
      "building tree 67 of 100\n",
      "building tree 68 of 100\n",
      "building tree 69 of 100\n",
      "building tree 70 of 100\n",
      "building tree 71 of 100\n",
      "building tree 72 of 100\n",
      "building tree 73 of 100\n",
      "building tree 74 of 100\n",
      "building tree 75 of 100\n",
      "building tree 76 of 100\n",
      "building tree 77 of 100\n",
      "building tree 78 of 100\n",
      "building tree 79 of 100\n",
      "building tree 80 of 100\n",
      "building tree 81 of 100\n",
      "building tree 82 of 100\n",
      "building tree 83 of 100\n",
      "building tree 84 of 100\n",
      "building tree 85 of 100\n",
      "building tree 86 of 100\n",
      "building tree 87 of 100\n",
      "building tree 88 of 100\n",
      "building tree 89 of 100\n",
      "building tree 90 of 100\n",
      "building tree 91 of 100\n",
      "building tree 92 of 100\n",
      "building tree 93 of 100\n",
      "building tree 94 of 100\n",
      "building tree 95 of 100\n",
      "building tree 96 of 100\n",
      "building tree 97 of 100\n",
      "building tree 98 of 100\n",
      "building tree 99 of 100\n",
      "building tree 100 of 100\n"
     ]
    },
    {
     "name": "stderr",
     "output_type": "stream",
     "text": [
      "[Parallel(n_jobs=1)]: Done 100 out of 100 | elapsed:   23.3s finished\n",
      "[Parallel(n_jobs=1)]: Done   1 out of   1 | elapsed:    0.0s remaining:    0.0s\n",
      "[Parallel(n_jobs=1)]: Done   2 out of   2 | elapsed:    0.0s remaining:    0.0s\n",
      "[Parallel(n_jobs=1)]: Done   3 out of   3 | elapsed:    0.0s remaining:    0.0s\n",
      "[Parallel(n_jobs=1)]: Done   4 out of   4 | elapsed:    0.1s remaining:    0.0s\n",
      "[Parallel(n_jobs=1)]: Done 100 out of 100 | elapsed:    1.3s finished\n",
      "[Parallel(n_jobs=1)]: Done   1 out of   1 | elapsed:    0.0s remaining:    0.0s\n",
      "[Parallel(n_jobs=1)]: Done   2 out of   2 | elapsed:    0.0s remaining:    0.0s\n",
      "[Parallel(n_jobs=1)]: Done   3 out of   3 | elapsed:    0.0s remaining:    0.0s\n",
      "[Parallel(n_jobs=1)]: Done   4 out of   4 | elapsed:    0.0s remaining:    0.0s\n"
     ]
    },
    {
     "name": "stdout",
     "output_type": "stream",
     "text": [
      "[[45477    96]\n",
      " [ 8437    83]]\n",
      "             precision    recall  f1-score   support\n",
      "\n",
      "        0.0       0.84      1.00      0.91     45573\n",
      "        1.0       0.46      0.01      0.02      8520\n",
      "\n",
      "avg / total       0.78      0.84      0.77     54093\n",
      "\n",
      "0.8422531566006692\n"
     ]
    },
    {
     "name": "stderr",
     "output_type": "stream",
     "text": [
      "[Parallel(n_jobs=1)]: Done 100 out of 100 | elapsed:    1.3s finished\n"
     ]
    }
   ],
   "source": [
    "rfc = RandomForestClassifier(n_estimators=100, verbose=5)\n",
    "rfc.fit(X_train, y_train)\n",
    "rfc_pred = rfc.predict(X_test)\n",
    "print(confusion_matrix(y_test,rfc_pred))\n",
    "print(classification_report(y_test,rfc_pred))\n",
    "print(rfc.score(X_test, y_test))"
   ]
  },
  {
   "cell_type": "code",
   "execution_count": 6,
   "metadata": {},
   "outputs": [],
   "source": [
    "param_grid={'criterion':['gini','entropy'],'max_features':['sqrt','log2',None],\n",
    "           'class_weight':['balanced','balanced_subsample',None]}\n"
   ]
  },
  {
   "cell_type": "code",
   "execution_count": 9,
   "metadata": {},
   "outputs": [
    {
     "name": "stdout",
     "output_type": "stream",
     "text": [
      "Fitting 3 folds for each of 18 candidates, totalling 54 fits\n",
      "[CV] class_weight=balanced, criterion=gini, max_features=sqrt ........\n",
      "[CV]  class_weight=balanced, criterion=gini, max_features=sqrt, score=0.8396558281042024, total=   1.5s\n",
      "[CV] class_weight=balanced, criterion=gini, max_features=sqrt ........\n"
     ]
    },
    {
     "name": "stderr",
     "output_type": "stream",
     "text": [
      "[Parallel(n_jobs=1)]: Done   1 out of   1 | elapsed:    1.6s remaining:    0.0s\n"
     ]
    },
    {
     "name": "stdout",
     "output_type": "stream",
     "text": [
      "[CV]  class_weight=balanced, criterion=gini, max_features=sqrt, score=0.8410106484122457, total=   1.5s\n",
      "[CV] class_weight=balanced, criterion=gini, max_features=sqrt ........\n"
     ]
    },
    {
     "name": "stderr",
     "output_type": "stream",
     "text": [
      "[Parallel(n_jobs=1)]: Done   2 out of   2 | elapsed:    3.4s remaining:    0.0s\n"
     ]
    },
    {
     "name": "stdout",
     "output_type": "stream",
     "text": [
      "[CV]  class_weight=balanced, criterion=gini, max_features=sqrt, score=0.8406541167522342, total=   1.6s\n",
      "[CV] class_weight=balanced, criterion=gini, max_features=log2 ........\n",
      "[CV]  class_weight=balanced, criterion=gini, max_features=log2, score=0.8404877353108956, total=   1.5s\n",
      "[CV] class_weight=balanced, criterion=gini, max_features=log2 ........\n",
      "[CV]  class_weight=balanced, criterion=gini, max_features=log2, score=0.8404877353108956, total=   1.4s\n",
      "[CV] class_weight=balanced, criterion=gini, max_features=log2 ........\n",
      "[CV]  class_weight=balanced, criterion=gini, max_features=log2, score=0.840582810420232, total=   1.4s\n",
      "[CV] class_weight=balanced, criterion=gini, max_features=None ........\n",
      "[CV]  class_weight=balanced, criterion=gini, max_features=None, score=0.8382297014641567, total=   6.7s\n",
      "[CV] class_weight=balanced, criterion=gini, max_features=None ........\n",
      "[CV]  class_weight=balanced, criterion=gini, max_features=None, score=0.8388476896748431, total=   6.5s\n",
      "[CV] class_weight=balanced, criterion=gini, max_features=None ........\n",
      "[CV]  class_weight=balanced, criterion=gini, max_features=None, score=0.8380870888001521, total=   6.4s\n",
      "[CV] class_weight=balanced, criterion=entropy, max_features=sqrt .....\n",
      "[CV]  class_weight=balanced, criterion=entropy, max_features=sqrt, score=0.840321353869557, total=   1.6s\n",
      "[CV] class_weight=balanced, criterion=entropy, max_features=sqrt .....\n",
      "[CV]  class_weight=balanced, criterion=entropy, max_features=sqrt, score=0.8397033656588705, total=   1.7s\n",
      "[CV] class_weight=balanced, criterion=entropy, max_features=sqrt .....\n",
      "[CV]  class_weight=balanced, criterion=entropy, max_features=sqrt, score=0.8412483361855866, total=   1.6s\n",
      "[CV] class_weight=balanced, criterion=entropy, max_features=log2 .....\n",
      "[CV]  class_weight=balanced, criterion=entropy, max_features=log2, score=0.8410106484122457, total=   1.6s\n",
      "[CV] class_weight=balanced, criterion=entropy, max_features=log2 .....\n",
      "[CV]  class_weight=balanced, criterion=entropy, max_features=log2, score=0.8407254230842366, total=   1.7s\n",
      "[CV] class_weight=balanced, criterion=entropy, max_features=log2 .....\n",
      "[CV]  class_weight=balanced, criterion=entropy, max_features=log2, score=0.8406303479749002, total=   1.7s\n",
      "[CV] class_weight=balanced, criterion=entropy, max_features=None .....\n",
      "[CV]  class_weight=balanced, criterion=entropy, max_features=None, score=0.8386100019015021, total=   7.6s\n",
      "[CV] class_weight=balanced, criterion=entropy, max_features=None .....\n",
      "[CV]  class_weight=balanced, criterion=entropy, max_features=None, score=0.8394181403308614, total=   7.7s\n",
      "[CV] class_weight=balanced, criterion=entropy, max_features=None .....\n",
      "[CV]  class_weight=balanced, criterion=entropy, max_features=None, score=0.8384911580148318, total=   7.6s\n",
      "[CV] class_weight=balanced_subsample, criterion=gini, max_features=sqrt \n",
      "[CV]  class_weight=balanced_subsample, criterion=gini, max_features=sqrt, score=0.8397271344362046, total=   1.5s\n",
      "[CV] class_weight=balanced_subsample, criterion=gini, max_features=sqrt \n",
      "[CV]  class_weight=balanced_subsample, criterion=gini, max_features=sqrt, score=0.8409631108575775, total=   1.5s\n",
      "[CV] class_weight=balanced_subsample, criterion=gini, max_features=sqrt \n",
      "[CV]  class_weight=balanced_subsample, criterion=gini, max_features=sqrt, score=0.8404401977562275, total=   1.5s\n",
      "[CV] class_weight=balanced_subsample, criterion=gini, max_features=log2 \n",
      "[CV]  class_weight=balanced_subsample, criterion=gini, max_features=log2, score=0.8414860239589276, total=   1.5s\n",
      "[CV] class_weight=balanced_subsample, criterion=gini, max_features=log2 \n",
      "[CV]  class_weight=balanced_subsample, criterion=gini, max_features=log2, score=0.8416999429549344, total=   1.5s\n",
      "[CV] class_weight=balanced_subsample, criterion=gini, max_features=log2 \n",
      "[CV]  class_weight=balanced_subsample, criterion=gini, max_features=log2, score=0.8411057235215821, total=   1.5s\n",
      "[CV] class_weight=balanced_subsample, criterion=gini, max_features=None \n",
      "[CV]  class_weight=balanced_subsample, criterion=gini, max_features=None, score=0.8391566837801864, total=   6.5s\n",
      "[CV] class_weight=balanced_subsample, criterion=gini, max_features=None \n",
      "[CV]  class_weight=balanced_subsample, criterion=gini, max_features=None, score=0.8391804525575205, total=   6.6s\n",
      "[CV] class_weight=balanced_subsample, criterion=gini, max_features=None \n",
      "[CV]  class_weight=balanced_subsample, criterion=gini, max_features=None, score=0.837801863472143, total=   6.6s\n",
      "[CV] class_weight=balanced_subsample, criterion=entropy, max_features=sqrt \n",
      "[CV]  class_weight=balanced_subsample, criterion=entropy, max_features=sqrt, score=0.8407967294162388, total=   1.8s\n",
      "[CV] class_weight=balanced_subsample, criterion=entropy, max_features=sqrt \n",
      "[CV]  class_weight=balanced_subsample, criterion=entropy, max_features=sqrt, score=0.8397509032135387, total=   1.8s\n",
      "[CV] class_weight=balanced_subsample, criterion=entropy, max_features=sqrt \n",
      "[CV]  class_weight=balanced_subsample, criterion=entropy, max_features=sqrt, score=0.8408680357482411, total=   1.8s\n",
      "[CV] class_weight=balanced_subsample, criterion=entropy, max_features=log2 \n",
      "[CV]  class_weight=balanced_subsample, criterion=entropy, max_features=log2, score=0.8409155733029093, total=   1.8s\n",
      "[CV] class_weight=balanced_subsample, criterion=entropy, max_features=log2 \n",
      "[CV]  class_weight=balanced_subsample, criterion=entropy, max_features=log2, score=0.8399648222095455, total=   1.8s\n",
      "[CV] class_weight=balanced_subsample, criterion=entropy, max_features=log2 \n",
      "[CV]  class_weight=balanced_subsample, criterion=entropy, max_features=log2, score=0.8407254230842366, total=   1.8s\n",
      "[CV] class_weight=balanced_subsample, criterion=entropy, max_features=None \n",
      "[CV]  class_weight=balanced_subsample, criterion=entropy, max_features=None, score=0.8388714584521773, total=   7.8s\n",
      "[CV] class_weight=balanced_subsample, criterion=entropy, max_features=None \n",
      "[CV]  class_weight=balanced_subsample, criterion=entropy, max_features=None, score=0.8391804525575205, total=   7.8s\n",
      "[CV] class_weight=balanced_subsample, criterion=entropy, max_features=None \n",
      "[CV]  class_weight=balanced_subsample, criterion=entropy, max_features=None, score=0.8391566837801864, total=   7.8s\n",
      "[CV] class_weight=None, criterion=gini, max_features=sqrt ............\n",
      "[CV]  class_weight=None, criterion=gini, max_features=sqrt, score=0.8393468339988591, total=   1.4s\n",
      "[CV] class_weight=None, criterion=gini, max_features=sqrt ............\n",
      "[CV]  class_weight=None, criterion=gini, max_features=sqrt, score=0.8382059326868226, total=   1.4s\n",
      "[CV] class_weight=None, criterion=gini, max_features=sqrt ............\n",
      "[CV]  class_weight=None, criterion=gini, max_features=sqrt, score=0.8376117132534703, total=   1.5s\n",
      "[CV] class_weight=None, criterion=gini, max_features=log2 ............\n",
      "[CV]  class_weight=None, criterion=gini, max_features=log2, score=0.838063320022818, total=   1.5s\n",
      "[CV] class_weight=None, criterion=gini, max_features=log2 ............\n",
      "[CV]  class_weight=None, criterion=gini, max_features=log2, score=0.8384911580148318, total=   1.4s\n",
      "[CV] class_weight=None, criterion=gini, max_features=log2 ............\n",
      "[CV]  class_weight=None, criterion=gini, max_features=log2, score=0.8378494010268112, total=   1.5s\n",
      "[CV] class_weight=None, criterion=gini, max_features=None ............\n",
      "[CV]  class_weight=None, criterion=gini, max_features=None, score=0.8353536794067313, total=   7.3s\n",
      "[CV] class_weight=None, criterion=gini, max_features=None ............\n",
      "[CV]  class_weight=None, criterion=gini, max_features=None, score=0.8354012169613995, total=   7.4s\n",
      "[CV] class_weight=None, criterion=gini, max_features=None ............\n",
      "[CV]  class_weight=None, criterion=gini, max_features=None, score=0.8356626735120746, total=   7.6s\n",
      "[CV] class_weight=None, criterion=entropy, max_features=sqrt .........\n",
      "[CV]  class_weight=None, criterion=entropy, max_features=sqrt, score=0.8384198516828294, total=   1.6s\n",
      "[CV] class_weight=None, criterion=entropy, max_features=sqrt .........\n",
      "[CV]  class_weight=None, criterion=entropy, max_features=sqrt, score=0.8399410534322115, total=   1.7s\n",
      "[CV] class_weight=None, criterion=entropy, max_features=sqrt .........\n",
      "[CV]  class_weight=None, criterion=entropy, max_features=sqrt, score=0.8392517588895227, total=   1.6s\n",
      "[CV] class_weight=None, criterion=entropy, max_features=log2 .........\n"
     ]
    },
    {
     "name": "stdout",
     "output_type": "stream",
     "text": [
      "[CV]  class_weight=None, criterion=entropy, max_features=log2, score=0.8384436204601635, total=   1.6s\n",
      "[CV] class_weight=None, criterion=entropy, max_features=log2 .........\n",
      "[CV]  class_weight=None, criterion=entropy, max_features=log2, score=0.8390140711161818, total=   1.6s\n",
      "[CV] class_weight=None, criterion=entropy, max_features=log2 .........\n",
      "[CV]  class_weight=None, criterion=entropy, max_features=log2, score=0.8403926602015592, total=   1.6s\n",
      "[CV] class_weight=None, criterion=entropy, max_features=None .........\n",
      "[CV]  class_weight=None, criterion=entropy, max_features=None, score=0.8388476896748431, total=   7.7s\n",
      "[CV] class_weight=None, criterion=entropy, max_features=None .........\n",
      "[CV]  class_weight=None, criterion=entropy, max_features=None, score=0.8378969385814794, total=   7.7s\n",
      "[CV] class_weight=None, criterion=entropy, max_features=None .........\n",
      "[CV]  class_weight=None, criterion=entropy, max_features=None, score=0.8370888001521202, total=   7.8s\n"
     ]
    },
    {
     "name": "stderr",
     "output_type": "stream",
     "text": [
      "[Parallel(n_jobs=1)]: Done  54 out of  54 | elapsed:  3.3min finished\n"
     ]
    },
    {
     "data": {
      "text/plain": [
       "GridSearchCV(cv=None, error_score=0,\n",
       "       estimator=RandomForestClassifier(bootstrap=True, class_weight=None, criterion='gini',\n",
       "            max_depth=None, max_features='auto', max_leaf_nodes=None,\n",
       "            min_impurity_decrease=0.0, min_impurity_split=None,\n",
       "            min_samples_leaf=1, min_samples_split=2,\n",
       "            min_weight_fraction_leaf=0.0, n_estimators=10, n_jobs=1,\n",
       "            oob_score=False, random_state=None, verbose=0,\n",
       "            warm_start=False),\n",
       "       fit_params=None, iid=True, n_jobs=1,\n",
       "       param_grid={'criterion': ['gini', 'entropy'], 'max_features': ['sqrt', 'log2', None], 'class_weight': ['balanced', 'balanced_subsample', None]},\n",
       "       pre_dispatch='2*n_jobs', refit=True, return_train_score='warn',\n",
       "       scoring=None, verbose=3)"
      ]
     },
     "execution_count": 9,
     "metadata": {},
     "output_type": "execute_result"
    }
   ],
   "source": [
    "grid = GridSearchCV(RandomForestClassifier(), param_grid, refit=True, error_score=0, verbose=3)\n",
    "grid.fit(X_train,y_train)"
   ]
  },
  {
   "cell_type": "code",
   "execution_count": 10,
   "metadata": {},
   "outputs": [
    {
     "data": {
      "text/plain": [
       "{'class_weight': 'balanced_subsample',\n",
       " 'criterion': 'gini',\n",
       " 'max_features': 'log2'}"
      ]
     },
     "execution_count": 10,
     "metadata": {},
     "output_type": "execute_result"
    }
   ],
   "source": [
    "grid.best_params_"
   ]
  },
  {
   "cell_type": "code",
   "execution_count": 11,
   "metadata": {},
   "outputs": [
    {
     "name": "stdout",
     "output_type": "stream",
     "text": [
      "             precision    recall  f1-score   support\n",
      "\n",
      "        0.0       0.84      0.99      0.91     45573\n",
      "        1.0       0.34      0.03      0.05      8520\n",
      "\n",
      "avg / total       0.77      0.84      0.78     54093\n",
      "\n",
      "[[45117   456]\n",
      " [ 8283   237]]\n",
      "0.8384449004492264\n"
     ]
    }
   ],
   "source": [
    "grid_predictions = grid.predict(X_test)\n",
    "print(classification_report(y_test,grid_predictions))\n",
    "print(confusion_matrix(y_test,grid_predictions))\n",
    "print(grid.score(X_test, y_test))"
   ]
  },
  {
   "cell_type": "code",
   "execution_count": null,
   "metadata": {},
   "outputs": [],
   "source": []
  }
 ],
 "metadata": {
  "kernelspec": {
   "display_name": "Python 3",
   "language": "python",
   "name": "python3"
  },
  "language_info": {
   "codemirror_mode": {
    "name": "ipython",
    "version": 3
   },
   "file_extension": ".py",
   "mimetype": "text/x-python",
   "name": "python",
   "nbconvert_exporter": "python",
   "pygments_lexer": "ipython3",
   "version": "3.6.9"
  }
 },
 "nbformat": 4,
 "nbformat_minor": 2
}

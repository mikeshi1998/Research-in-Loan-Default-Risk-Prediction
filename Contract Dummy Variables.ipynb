{
 "cells": [
  {
   "cell_type": "code",
   "execution_count": 1,
   "metadata": {},
   "outputs": [],
   "source": [
    "import pandas as pd\n",
    "import numpy as np\n",
    "import matplotlib.pyplot as plt\n",
    "import seaborn as sns\n",
    "%matplotlib inline\n",
    "import datetime"
   ]
  },
  {
   "cell_type": "code",
   "execution_count": 2,
   "metadata": {},
   "outputs": [
    {
     "name": "stderr",
     "output_type": "stream",
     "text": [
      "/anaconda3/lib/python3.6/site-packages/IPython/core/interactiveshell.py:2785: DtypeWarning: Columns (0,49,129,130,131,134,135,136,139) have mixed types. Specify dtype option on import or set low_memory=False.\n",
      "  interactivity=interactivity, compiler=compiler, result=result)\n"
     ]
    }
   ],
   "source": [
    "# Read the data file\n",
    "df=pd.read_csv('LoanStats3b_securev1.csv',header=1)\n",
    "\n",
    "# Choose some meaningful and available features for predictions\n",
    "df=df[['loan_amnt','term','int_rate','installment','sub_grade','emp_title','emp_length','home_ownership','annual_inc','verification_status',\n",
    "        'issue_d','desc','purpose','title','zip_code','addr_state','dti','delinq_2yrs','earliest_cr_line','fico_range_low','fico_range_high','inq_last_6mths',\n",
    "        'open_acc','revol_bal','revol_util','total_acc','acc_open_past_24mths','mort_acc','percent_bc_gt_75','loan_status']]\n",
    "\n",
    "# Drop rows that are completely empty\n",
    "df.dropna(how='all', inplace=True)\n",
    "\n",
    "# Change the format of int_rate to float\n",
    "df['int_rate']=df['int_rate'].apply(lambda x: float(x[:-1]))\n",
    "\n",
    "# Change the format of revol_util to float\n",
    "def process_revol_util(x):\n",
    "    if type(x) == str:\n",
    "        x=float(x[:-1])\n",
    "    return x\n",
    "df['revol_util']=df['revol_util'].apply(lambda x: process_revol_util(x))\n",
    "\n",
    "# Fill in missing values with the mean\n",
    "df['revol_util'].fillna(value=df['revol_util'].mean(), inplace=True)\n",
    "df['acc_open_past_24mths'].fillna(value=df['acc_open_past_24mths'].mean(), inplace=True)\n",
    "df['mort_acc'].fillna(value=df['mort_acc'].mean(), inplace=True)\n",
    "df['percent_bc_gt_75'].fillna(value=df['percent_bc_gt_75'].mean(), inplace=True)\n",
    "\n",
    "# Change emp_length and sub_grade from strings to integers\n",
    "mapping_dict={\"emp_length\": {\"10+ years\": 10, \"9 years\": 9, \"8 years\": 8, \"7 years\": 7, \"6 years\": 6, \"5 years\": 5, \"4 years\": 4, \n",
    "                               \"3 years\": 3, \"2 years\": 2, \"1 year\": 1, \"< 1 year\": 0}, \n",
    "                \"sub_grade\":{\"G5\": 0, \"G4\": 1, \"G3\": 2, \"G2\": 3, \"G1\": 4, \"F5\": 5, \"F4\": 6, \"F3\": 7, \"F2\": 8, \"F1\": 9, \"E5\": 10,\n",
    "                             \"E4\": 11, \"E3\": 12, \"E2\": 13, \"E1\": 14, \"D5\": 15, \"D4\": 16, \"D3\": 17, \"D2\": 18, \"D1\": 19, \"C5\": 20, \n",
    "                             \"C4\": 21, \"C3\": 22, \"C2\": 23, \"C1\": 24, \"B5\": 25, \"B4\": 26, \"B3\": 27, \"B2\": 28, \"B1\": 29, \"A5\": 30, \n",
    "                             \"A4\": 31, \"A3\": 32, \"A2\": 33, \"A1\": 34}}\n",
    "df=df.replace(mapping_dict)\n",
    "\n",
    "# Fill in missing values of emp_length based on emp_title\n",
    "for i in df.index:\n",
    "    if np.isnan(df.loc[i,'emp_length']):\n",
    "        title=df.loc[i,'emp_title']\n",
    "        if type(title)==str:\n",
    "            average=df[df['emp_title']==title]['emp_length'].mean()\n",
    "            df.loc[i,'emp_length']=average\n",
    "\n",
    "# Drop the rows with NaN in either emp_title or emp_length\n",
    "df.dropna(subset=['emp_length'], inplace=True)\n",
    "\n",
    "# Change issue_d to datetime format\n",
    "df['issue_d']=df['issue_d'].apply(lambda x: datetime.datetime.strptime(x, '%b-%Y'))\n",
    "\n",
    "# Change earliest_cr_line to datetime format\n",
    "df['earliest_cr_line']=df['earliest_cr_line'].apply(lambda x: datetime.datetime.strptime(x, '%b-%Y'))\n",
    "\n",
    "# Calculate the differences in months from earliest_cr_line to issue_d\n",
    "def diff_month(d1,d2):\n",
    "    return (d1.year-d2.year)*12+(d1.month-d2.month)\n",
    "\n",
    "for i in df.index:\n",
    "    df.loc[i,'earliest_cr_line']=diff_month(df.loc[i,'issue_d'],df.loc[i,'earliest_cr_line'])"
   ]
  },
  {
   "cell_type": "code",
   "execution_count": 4,
   "metadata": {},
   "outputs": [],
   "source": [
    "# Change the target variable to numbers: 1 indicates defaulted, 0 indicates paid off\n",
    "def flag(x):\n",
    "    if x=='Fully Paid':\n",
    "        return 0\n",
    "    elif x=='Charged Off':\n",
    "        return 1\n",
    "\n",
    "df['loan_status']=df['loan_status'].apply(flag)\n",
    "\n",
    "# Drop loans with other unknown status\n",
    "df.dropna(subset=['loan_status'], inplace=True)"
   ]
  },
  {
   "cell_type": "code",
   "execution_count": 5,
   "metadata": {},
   "outputs": [],
   "source": [
    "# Reset the index to integers starting from 0\n",
    "df.reset_index(drop=True, inplace=True)"
   ]
  },
  {
   "cell_type": "code",
   "execution_count": 6,
   "metadata": {},
   "outputs": [],
   "source": [
    "df_default=df[df['loan_status']==1]\n"
   ]
  },
  {
   "cell_type": "code",
   "execution_count": 33,
   "metadata": {},
   "outputs": [],
   "source": [
    "term_dic={}\n",
    "home_dic={}\n",
    "verification_dic={}\n",
    "purpose_dic={}\n",
    "state_dic={}\n"
   ]
  },
  {
   "cell_type": "code",
   "execution_count": 18,
   "metadata": {},
   "outputs": [],
   "source": [
    "term_df=df.groupby('term').count()\n",
    "default_term_df=df_default.groupby('term').count()"
   ]
  },
  {
   "cell_type": "code",
   "execution_count": 34,
   "metadata": {},
   "outputs": [],
   "source": [
    "for i in range(len(term_df.index)):\n",
    "    term_dic[list(term_df.index)[i]]=default_term_df.iloc[i,0]/term_df.iloc[i,0]"
   ]
  },
  {
   "cell_type": "code",
   "execution_count": 35,
   "metadata": {},
   "outputs": [
    {
     "data": {
      "text/plain": [
       "{' 36 months': 0.12443232762076933, ' 60 months': 0.2559940639057645}"
      ]
     },
     "execution_count": 35,
     "metadata": {},
     "output_type": "execute_result"
    }
   ],
   "source": [
    "term_dic"
   ]
  },
  {
   "cell_type": "code",
   "execution_count": 42,
   "metadata": {},
   "outputs": [],
   "source": [
    "home_df=df.groupby('home_ownership').count()\n",
    "default_home_df=df_default.groupby('home_ownership').count()"
   ]
  },
  {
   "cell_type": "code",
   "execution_count": 45,
   "metadata": {},
   "outputs": [],
   "source": [
    "for i in range(len(home_df.index)):\n",
    "    home_dic[list(home_df.index)[i]]=default_home_df.iloc[i,0]/home_df.iloc[i,0]"
   ]
  },
  {
   "cell_type": "code",
   "execution_count": 46,
   "metadata": {},
   "outputs": [
    {
     "data": {
      "text/plain": [
       "{'MORTGAGE': 0.14214771435313298,\n",
       " 'NONE': 0.14634146341463414,\n",
       " 'OTHER': 0.20930232558139536,\n",
       " 'OWN': 0.15888841747984728,\n",
       " 'RENT': 0.17289187222885696}"
      ]
     },
     "execution_count": 46,
     "metadata": {},
     "output_type": "execute_result"
    }
   ],
   "source": [
    "home_dic"
   ]
  },
  {
   "cell_type": "code",
   "execution_count": 48,
   "metadata": {},
   "outputs": [],
   "source": [
    "veri_df=df.groupby('verification_status').count()\n",
    "default_veri_df=df_default.groupby('verification_status').count()"
   ]
  },
  {
   "cell_type": "code",
   "execution_count": 50,
   "metadata": {},
   "outputs": [],
   "source": [
    "for i in range(len(veri_df.index)):\n",
    "    verification_dic[list(veri_df.index)[i]]=default_veri_df.iloc[i,0]/veri_df.iloc[i,0]"
   ]
  },
  {
   "cell_type": "code",
   "execution_count": 51,
   "metadata": {},
   "outputs": [
    {
     "data": {
      "text/plain": [
       "{'Not Verified': 0.12227387707663909,\n",
       " 'Source Verified': 0.16098672478700218,\n",
       " 'Verified': 0.17753761129874118}"
      ]
     },
     "execution_count": 51,
     "metadata": {},
     "output_type": "execute_result"
    }
   ],
   "source": [
    "verification_dic"
   ]
  },
  {
   "cell_type": "code",
   "execution_count": 52,
   "metadata": {},
   "outputs": [],
   "source": [
    "purpose_df=df.groupby('purpose').count()\n",
    "default_purpose_df=df_default.groupby('purpose').count()"
   ]
  },
  {
   "cell_type": "code",
   "execution_count": 53,
   "metadata": {},
   "outputs": [],
   "source": [
    "for i in range(len(purpose_df.index)):\n",
    "    purpose_dic[list(purpose_df.index)[i]]=default_purpose_df.iloc[i,0]/purpose_df.iloc[i,0]"
   ]
  },
  {
   "cell_type": "code",
   "execution_count": 54,
   "metadata": {},
   "outputs": [
    {
     "data": {
      "text/plain": [
       "{'car': 0.10932475884244373,\n",
       " 'credit_card': 0.12864160303487185,\n",
       " 'debt_consolidation': 0.16502194515110005,\n",
       " 'home_improvement': 0.1346825559893158,\n",
       " 'house': 0.15834932821497122,\n",
       " 'major_purchase': 0.12453478385342112,\n",
       " 'medical': 0.16934919524142758,\n",
       " 'moving': 0.16243654822335024,\n",
       " 'other': 0.18883965992096755,\n",
       " 'renewable_energy': 0.17543859649122806,\n",
       " 'small_business': 0.2547344968436688,\n",
       " 'vacation': 0.15690866510538642,\n",
       " 'wedding': 0.13480578827113482}"
      ]
     },
     "execution_count": 54,
     "metadata": {},
     "output_type": "execute_result"
    }
   ],
   "source": [
    "purpose_dic"
   ]
  },
  {
   "cell_type": "code",
   "execution_count": 73,
   "metadata": {},
   "outputs": [],
   "source": [
    "state_df=df.groupby('addr_state').count()\n",
    "default_state_df=df_default.groupby('addr_state').count()\n",
    "state_df.drop(labels='ID',axis=0, inplace=True)"
   ]
  },
  {
   "cell_type": "code",
   "execution_count": 82,
   "metadata": {},
   "outputs": [],
   "source": [
    "for i in range(len(state_df.index)):\n",
    "    state_dic[list(state_df.index)[i]]=default_state_df.iloc[i,0]/state_df.iloc[i,0]"
   ]
  },
  {
   "cell_type": "code",
   "execution_count": 89,
   "metadata": {},
   "outputs": [],
   "source": [
    "state_dic['ID']=0.0"
   ]
  },
  {
   "cell_type": "code",
   "execution_count": 90,
   "metadata": {},
   "outputs": [
    {
     "data": {
      "text/plain": [
       "{'AK': 0.1336996336996337,\n",
       " 'AL': 0.18304779080252478,\n",
       " 'AR': 0.17559523809523808,\n",
       " 'AZ': 0.15773809523809523,\n",
       " 'CA': 0.1480254260210982,\n",
       " 'CO': 0.12696747114375656,\n",
       " 'CT': 0.15096359743040685,\n",
       " 'DC': 0.09057971014492754,\n",
       " 'DE': 0.16258351893095768,\n",
       " 'FL': 0.17410237449675459,\n",
       " 'GA': 0.1427809388335704,\n",
       " 'HI': 0.17318435754189945,\n",
       " 'IA': 1.0,\n",
       " 'IL': 0.13741651271848798,\n",
       " 'IN': 0.17452402538531278,\n",
       " 'KS': 0.1373117033603708,\n",
       " 'KY': 0.15985130111524162,\n",
       " 'LA': 0.1701931922723091,\n",
       " 'MA': 0.15253445456669001,\n",
       " 'MD': 0.1622668927100993,\n",
       " 'MI': 0.16529701807936134,\n",
       " 'MN': 0.14477468839884947,\n",
       " 'MO': 0.1594048884165781,\n",
       " 'MS': 0.3333333333333333,\n",
       " 'MT': 0.12226277372262774,\n",
       " 'NC': 0.1670871337085193,\n",
       " 'NE': 0.5,\n",
       " 'NH': 0.11431870669745958,\n",
       " 'NJ': 0.17451205510907003,\n",
       " 'NM': 0.16279069767441862,\n",
       " 'NV': 0.18383761011106856,\n",
       " 'NY': 0.17130731142691788,\n",
       " 'OH': 0.16223925833481903,\n",
       " 'OK': 0.17510944340212634,\n",
       " 'OR': 0.13240131578947367,\n",
       " 'PA': 0.16043920026220912,\n",
       " 'RI': 0.16020671834625322,\n",
       " 'SC': 0.13645418326693226,\n",
       " 'SD': 0.1628498727735369,\n",
       " 'TN': 0.19419989642672192,\n",
       " 'TX': 0.14066605126748563,\n",
       " 'UT': 0.15096952908587258,\n",
       " 'VA': 0.1604497590576477,\n",
       " 'VT': 0.1310344827586207,\n",
       " 'WA': 0.14173228346456693,\n",
       " 'WI': 0.14816492976891707,\n",
       " 'WV': 0.11347517730496454,\n",
       " 'WY': 0.11990950226244344,\n",
       " 'ID': 0.0}"
      ]
     },
     "execution_count": 90,
     "metadata": {},
     "output_type": "execute_result"
    }
   ],
   "source": [
    "state_dic"
   ]
  },
  {
   "cell_type": "code",
   "execution_count": 91,
   "metadata": {},
   "outputs": [
    {
     "data": {
      "text/plain": [
       "Index(['loan_amnt', 'term', 'int_rate', 'installment', 'sub_grade',\n",
       "       'emp_title', 'emp_length', 'home_ownership', 'annual_inc',\n",
       "       'verification_status', 'issue_d', 'desc', 'purpose', 'title',\n",
       "       'zip_code', 'addr_state', 'dti', 'delinq_2yrs', 'earliest_cr_line',\n",
       "       'fico_range_low', 'fico_range_high', 'inq_last_6mths', 'open_acc',\n",
       "       'revol_bal', 'revol_util', 'total_acc', 'acc_open_past_24mths',\n",
       "       'mort_acc', 'percent_bc_gt_75', 'loan_status'],\n",
       "      dtype='object')"
      ]
     },
     "execution_count": 91,
     "metadata": {},
     "output_type": "execute_result"
    }
   ],
   "source": [
    "df.columns"
   ]
  },
  {
   "cell_type": "code",
   "execution_count": 92,
   "metadata": {},
   "outputs": [],
   "source": [
    "\n",
    "mapping_dict={\"term\": term_dic, \"home_ownership\": home_dic, \"verification_status\": verification_dic, \"purpose\": purpose_dic, \"addr_state\": state_dic}\n",
    "df=df.replace(mapping_dict)"
   ]
  },
  {
   "cell_type": "code",
   "execution_count": 106,
   "metadata": {},
   "outputs": [],
   "source": [
    "df.to_csv('2012-2013_cleaned2.csv')"
   ]
  },
  {
   "cell_type": "code",
   "execution_count": null,
   "metadata": {},
   "outputs": [],
   "source": []
  }
 ],
 "metadata": {
  "kernelspec": {
   "display_name": "Python 3",
   "language": "python",
   "name": "python3"
  },
  "language_info": {
   "codemirror_mode": {
    "name": "ipython",
    "version": 3
   },
   "file_extension": ".py",
   "mimetype": "text/x-python",
   "name": "python",
   "nbconvert_exporter": "python",
   "pygments_lexer": "ipython3",
   "version": "3.6.5"
  }
 },
 "nbformat": 4,
 "nbformat_minor": 2
}

{
 "cells": [
  {
   "cell_type": "code",
   "execution_count": 1,
   "metadata": {},
   "outputs": [],
   "source": [
    "import pandas as pd\n",
    "import numpy as np\n",
    "import matplotlib.pyplot as plt\n",
    "import seaborn as sns\n",
    "%matplotlib inline\n",
    "import datetime\n",
    "from sklearn.preprocessing import StandardScaler\n",
    "from sklearn.model_selection import train_test_split\n",
    "from sklearn.linear_model import LogisticRegression\n",
    "from sklearn.metrics import classification_report, confusion_matrix\n",
    "from sklearn.model_selection import GridSearchCV"
   ]
  },
  {
   "cell_type": "code",
   "execution_count": 2,
   "metadata": {},
   "outputs": [],
   "source": [
    "df=pd.read_csv('2012-2013_cleaned.csv', index_col=0)"
   ]
  },
  {
   "cell_type": "code",
   "execution_count": 3,
   "metadata": {},
   "outputs": [
    {
     "data": {
      "text/html": [
       "<div>\n",
       "<style scoped>\n",
       "    .dataframe tbody tr th:only-of-type {\n",
       "        vertical-align: middle;\n",
       "    }\n",
       "\n",
       "    .dataframe tbody tr th {\n",
       "        vertical-align: top;\n",
       "    }\n",
       "\n",
       "    .dataframe thead th {\n",
       "        text-align: right;\n",
       "    }\n",
       "</style>\n",
       "<table border=\"1\" class=\"dataframe\">\n",
       "  <thead>\n",
       "    <tr style=\"text-align: right;\">\n",
       "      <th></th>\n",
       "      <th>loan_amnt</th>\n",
       "      <th>int_rate</th>\n",
       "      <th>installment</th>\n",
       "      <th>sub_grade</th>\n",
       "      <th>emp_title</th>\n",
       "      <th>emp_length</th>\n",
       "      <th>annual_inc</th>\n",
       "      <th>issue_d</th>\n",
       "      <th>desc</th>\n",
       "      <th>title</th>\n",
       "      <th>...</th>\n",
       "      <th>addr_state_SD</th>\n",
       "      <th>addr_state_TN</th>\n",
       "      <th>addr_state_TX</th>\n",
       "      <th>addr_state_UT</th>\n",
       "      <th>addr_state_VA</th>\n",
       "      <th>addr_state_VT</th>\n",
       "      <th>addr_state_WA</th>\n",
       "      <th>addr_state_WI</th>\n",
       "      <th>addr_state_WV</th>\n",
       "      <th>addr_state_WY</th>\n",
       "    </tr>\n",
       "  </thead>\n",
       "  <tbody>\n",
       "    <tr>\n",
       "      <th>0</th>\n",
       "      <td>12000.0</td>\n",
       "      <td>7.62</td>\n",
       "      <td>373.94</td>\n",
       "      <td>32</td>\n",
       "      <td>Systems Engineer</td>\n",
       "      <td>3.0</td>\n",
       "      <td>96500.0</td>\n",
       "      <td>2013-12-01</td>\n",
       "      <td>Borrower added on 12/31/13 &gt; Bought a new ho...</td>\n",
       "      <td>Debt Consolidation and Credit Transfer</td>\n",
       "      <td>...</td>\n",
       "      <td>0</td>\n",
       "      <td>0</td>\n",
       "      <td>1</td>\n",
       "      <td>0</td>\n",
       "      <td>0</td>\n",
       "      <td>0</td>\n",
       "      <td>0</td>\n",
       "      <td>0</td>\n",
       "      <td>0</td>\n",
       "      <td>0</td>\n",
       "    </tr>\n",
       "    <tr>\n",
       "      <th>1</th>\n",
       "      <td>27050.0</td>\n",
       "      <td>10.99</td>\n",
       "      <td>885.46</td>\n",
       "      <td>28</td>\n",
       "      <td>Team Leadern Customer Ops &amp; Systems</td>\n",
       "      <td>10.0</td>\n",
       "      <td>55000.0</td>\n",
       "      <td>2013-12-01</td>\n",
       "      <td>Borrower added on 12/31/13 &gt; Combining high ...</td>\n",
       "      <td>Debt Consolidation</td>\n",
       "      <td>...</td>\n",
       "      <td>0</td>\n",
       "      <td>0</td>\n",
       "      <td>0</td>\n",
       "      <td>0</td>\n",
       "      <td>0</td>\n",
       "      <td>0</td>\n",
       "      <td>0</td>\n",
       "      <td>0</td>\n",
       "      <td>0</td>\n",
       "      <td>0</td>\n",
       "    </tr>\n",
       "    <tr>\n",
       "      <th>2</th>\n",
       "      <td>12000.0</td>\n",
       "      <td>11.99</td>\n",
       "      <td>398.52</td>\n",
       "      <td>27</td>\n",
       "      <td>LTC</td>\n",
       "      <td>10.0</td>\n",
       "      <td>130000.0</td>\n",
       "      <td>2013-12-01</td>\n",
       "      <td>NaN</td>\n",
       "      <td>Debt consolidation</td>\n",
       "      <td>...</td>\n",
       "      <td>0</td>\n",
       "      <td>0</td>\n",
       "      <td>0</td>\n",
       "      <td>0</td>\n",
       "      <td>0</td>\n",
       "      <td>0</td>\n",
       "      <td>0</td>\n",
       "      <td>0</td>\n",
       "      <td>0</td>\n",
       "      <td>0</td>\n",
       "    </tr>\n",
       "    <tr>\n",
       "      <th>3</th>\n",
       "      <td>28000.0</td>\n",
       "      <td>7.62</td>\n",
       "      <td>872.52</td>\n",
       "      <td>32</td>\n",
       "      <td>Area Sales Manager</td>\n",
       "      <td>5.0</td>\n",
       "      <td>325000.0</td>\n",
       "      <td>2013-12-01</td>\n",
       "      <td>NaN</td>\n",
       "      <td>Pay off other Installment loan</td>\n",
       "      <td>...</td>\n",
       "      <td>0</td>\n",
       "      <td>0</td>\n",
       "      <td>0</td>\n",
       "      <td>0</td>\n",
       "      <td>0</td>\n",
       "      <td>0</td>\n",
       "      <td>0</td>\n",
       "      <td>0</td>\n",
       "      <td>0</td>\n",
       "      <td>0</td>\n",
       "    </tr>\n",
       "    <tr>\n",
       "      <th>4</th>\n",
       "      <td>27600.0</td>\n",
       "      <td>19.97</td>\n",
       "      <td>730.78</td>\n",
       "      <td>15</td>\n",
       "      <td>Street Operations Supervisor</td>\n",
       "      <td>6.0</td>\n",
       "      <td>73000.0</td>\n",
       "      <td>2013-12-01</td>\n",
       "      <td>Borrower added on 12/31/13 &gt; I had some wate...</td>\n",
       "      <td>Consolidation of debt and home improve.</td>\n",
       "      <td>...</td>\n",
       "      <td>0</td>\n",
       "      <td>0</td>\n",
       "      <td>0</td>\n",
       "      <td>0</td>\n",
       "      <td>0</td>\n",
       "      <td>0</td>\n",
       "      <td>0</td>\n",
       "      <td>0</td>\n",
       "      <td>0</td>\n",
       "      <td>0</td>\n",
       "    </tr>\n",
       "    <tr>\n",
       "      <th>5</th>\n",
       "      <td>12000.0</td>\n",
       "      <td>10.99</td>\n",
       "      <td>392.81</td>\n",
       "      <td>28</td>\n",
       "      <td>Project Manager</td>\n",
       "      <td>4.0</td>\n",
       "      <td>60000.0</td>\n",
       "      <td>2013-12-01</td>\n",
       "      <td>Borrower added on 12/31/13 &gt; I would like to...</td>\n",
       "      <td>No Regrets</td>\n",
       "      <td>...</td>\n",
       "      <td>0</td>\n",
       "      <td>0</td>\n",
       "      <td>0</td>\n",
       "      <td>0</td>\n",
       "      <td>0</td>\n",
       "      <td>0</td>\n",
       "      <td>0</td>\n",
       "      <td>0</td>\n",
       "      <td>0</td>\n",
       "      <td>0</td>\n",
       "    </tr>\n",
       "    <tr>\n",
       "      <th>6</th>\n",
       "      <td>11100.0</td>\n",
       "      <td>14.98</td>\n",
       "      <td>384.68</td>\n",
       "      <td>22</td>\n",
       "      <td>Teacher</td>\n",
       "      <td>10.0</td>\n",
       "      <td>90000.0</td>\n",
       "      <td>2013-12-01</td>\n",
       "      <td>NaN</td>\n",
       "      <td>Other</td>\n",
       "      <td>...</td>\n",
       "      <td>0</td>\n",
       "      <td>0</td>\n",
       "      <td>0</td>\n",
       "      <td>0</td>\n",
       "      <td>0</td>\n",
       "      <td>0</td>\n",
       "      <td>0</td>\n",
       "      <td>0</td>\n",
       "      <td>0</td>\n",
       "      <td>0</td>\n",
       "    </tr>\n",
       "    <tr>\n",
       "      <th>7</th>\n",
       "      <td>12000.0</td>\n",
       "      <td>13.53</td>\n",
       "      <td>407.40</td>\n",
       "      <td>25</td>\n",
       "      <td>On road manager</td>\n",
       "      <td>10.0</td>\n",
       "      <td>40000.0</td>\n",
       "      <td>2013-12-01</td>\n",
       "      <td>NaN</td>\n",
       "      <td>Debt consolidation</td>\n",
       "      <td>...</td>\n",
       "      <td>0</td>\n",
       "      <td>0</td>\n",
       "      <td>0</td>\n",
       "      <td>0</td>\n",
       "      <td>0</td>\n",
       "      <td>0</td>\n",
       "      <td>0</td>\n",
       "      <td>0</td>\n",
       "      <td>0</td>\n",
       "      <td>0</td>\n",
       "    </tr>\n",
       "    <tr>\n",
       "      <th>8</th>\n",
       "      <td>9750.0</td>\n",
       "      <td>13.98</td>\n",
       "      <td>333.14</td>\n",
       "      <td>24</td>\n",
       "      <td>Medical Assistant</td>\n",
       "      <td>1.0</td>\n",
       "      <td>26000.0</td>\n",
       "      <td>2013-12-01</td>\n",
       "      <td>Borrower added on 12/31/13 &gt; While being in ...</td>\n",
       "      <td>Debt Consilation</td>\n",
       "      <td>...</td>\n",
       "      <td>0</td>\n",
       "      <td>0</td>\n",
       "      <td>0</td>\n",
       "      <td>0</td>\n",
       "      <td>0</td>\n",
       "      <td>0</td>\n",
       "      <td>0</td>\n",
       "      <td>0</td>\n",
       "      <td>0</td>\n",
       "      <td>0</td>\n",
       "    </tr>\n",
       "    <tr>\n",
       "      <th>9</th>\n",
       "      <td>4800.0</td>\n",
       "      <td>10.99</td>\n",
       "      <td>157.13</td>\n",
       "      <td>28</td>\n",
       "      <td>Surgical Technician</td>\n",
       "      <td>2.0</td>\n",
       "      <td>39600.0</td>\n",
       "      <td>2013-12-01</td>\n",
       "      <td>Borrower added on 12/31/13 &gt; Just bought a h...</td>\n",
       "      <td>For The House</td>\n",
       "      <td>...</td>\n",
       "      <td>0</td>\n",
       "      <td>0</td>\n",
       "      <td>1</td>\n",
       "      <td>0</td>\n",
       "      <td>0</td>\n",
       "      <td>0</td>\n",
       "      <td>0</td>\n",
       "      <td>0</td>\n",
       "      <td>0</td>\n",
       "      <td>0</td>\n",
       "    </tr>\n",
       "    <tr>\n",
       "      <th>10</th>\n",
       "      <td>8000.0</td>\n",
       "      <td>10.99</td>\n",
       "      <td>261.88</td>\n",
       "      <td>28</td>\n",
       "      <td>PARTS MANAGER</td>\n",
       "      <td>2.0</td>\n",
       "      <td>33000.0</td>\n",
       "      <td>2013-12-01</td>\n",
       "      <td>NaN</td>\n",
       "      <td>My Life Saving Loan :)</td>\n",
       "      <td>...</td>\n",
       "      <td>0</td>\n",
       "      <td>0</td>\n",
       "      <td>0</td>\n",
       "      <td>0</td>\n",
       "      <td>0</td>\n",
       "      <td>0</td>\n",
       "      <td>0</td>\n",
       "      <td>0</td>\n",
       "      <td>0</td>\n",
       "      <td>0</td>\n",
       "    </tr>\n",
       "    <tr>\n",
       "      <th>11</th>\n",
       "      <td>11500.0</td>\n",
       "      <td>22.90</td>\n",
       "      <td>323.54</td>\n",
       "      <td>11</td>\n",
       "      <td>Secretary</td>\n",
       "      <td>4.0</td>\n",
       "      <td>32760.0</td>\n",
       "      <td>2013-12-01</td>\n",
       "      <td>Borrower added on 12/31/13 &gt; This loan is fo...</td>\n",
       "      <td>Debt Killer</td>\n",
       "      <td>...</td>\n",
       "      <td>0</td>\n",
       "      <td>0</td>\n",
       "      <td>0</td>\n",
       "      <td>0</td>\n",
       "      <td>0</td>\n",
       "      <td>0</td>\n",
       "      <td>0</td>\n",
       "      <td>0</td>\n",
       "      <td>0</td>\n",
       "      <td>0</td>\n",
       "    </tr>\n",
       "    <tr>\n",
       "      <th>12</th>\n",
       "      <td>24000.0</td>\n",
       "      <td>13.53</td>\n",
       "      <td>814.80</td>\n",
       "      <td>25</td>\n",
       "      <td>driver</td>\n",
       "      <td>10.0</td>\n",
       "      <td>100000.0</td>\n",
       "      <td>2013-12-01</td>\n",
       "      <td>Borrower added on 12/31/13 &gt; pay off my othe...</td>\n",
       "      <td>credit card</td>\n",
       "      <td>...</td>\n",
       "      <td>0</td>\n",
       "      <td>0</td>\n",
       "      <td>0</td>\n",
       "      <td>0</td>\n",
       "      <td>0</td>\n",
       "      <td>0</td>\n",
       "      <td>0</td>\n",
       "      <td>0</td>\n",
       "      <td>0</td>\n",
       "      <td>0</td>\n",
       "    </tr>\n",
       "    <tr>\n",
       "      <th>13</th>\n",
       "      <td>12000.0</td>\n",
       "      <td>6.62</td>\n",
       "      <td>368.45</td>\n",
       "      <td>33</td>\n",
       "      <td>MANAGER INFORMATION DELIVERY</td>\n",
       "      <td>10.0</td>\n",
       "      <td>105000.0</td>\n",
       "      <td>2013-12-01</td>\n",
       "      <td>NaN</td>\n",
       "      <td>UNIVERSAL CARD</td>\n",
       "      <td>...</td>\n",
       "      <td>0</td>\n",
       "      <td>0</td>\n",
       "      <td>0</td>\n",
       "      <td>0</td>\n",
       "      <td>0</td>\n",
       "      <td>0</td>\n",
       "      <td>0</td>\n",
       "      <td>0</td>\n",
       "      <td>0</td>\n",
       "      <td>0</td>\n",
       "    </tr>\n",
       "    <tr>\n",
       "      <th>14</th>\n",
       "      <td>14000.0</td>\n",
       "      <td>12.85</td>\n",
       "      <td>470.71</td>\n",
       "      <td>26</td>\n",
       "      <td>Assistant Director - Human Resources</td>\n",
       "      <td>4.0</td>\n",
       "      <td>88000.0</td>\n",
       "      <td>2013-12-01</td>\n",
       "      <td>NaN</td>\n",
       "      <td>Debt consolidation</td>\n",
       "      <td>...</td>\n",
       "      <td>0</td>\n",
       "      <td>0</td>\n",
       "      <td>0</td>\n",
       "      <td>0</td>\n",
       "      <td>0</td>\n",
       "      <td>0</td>\n",
       "      <td>0</td>\n",
       "      <td>0</td>\n",
       "      <td>0</td>\n",
       "      <td>0</td>\n",
       "    </tr>\n",
       "    <tr>\n",
       "      <th>15</th>\n",
       "      <td>15000.0</td>\n",
       "      <td>14.47</td>\n",
       "      <td>516.10</td>\n",
       "      <td>23</td>\n",
       "      <td>building maint. mgr.</td>\n",
       "      <td>10.0</td>\n",
       "      <td>98000.0</td>\n",
       "      <td>2013-12-01</td>\n",
       "      <td>Borrower added on 12/31/13 &gt; just to have on...</td>\n",
       "      <td>pay off</td>\n",
       "      <td>...</td>\n",
       "      <td>0</td>\n",
       "      <td>0</td>\n",
       "      <td>0</td>\n",
       "      <td>0</td>\n",
       "      <td>0</td>\n",
       "      <td>0</td>\n",
       "      <td>0</td>\n",
       "      <td>0</td>\n",
       "      <td>0</td>\n",
       "      <td>0</td>\n",
       "    </tr>\n",
       "    <tr>\n",
       "      <th>16</th>\n",
       "      <td>15000.0</td>\n",
       "      <td>8.90</td>\n",
       "      <td>476.30</td>\n",
       "      <td>30</td>\n",
       "      <td>aircraft maintenance engineer</td>\n",
       "      <td>2.0</td>\n",
       "      <td>63000.0</td>\n",
       "      <td>2013-12-01</td>\n",
       "      <td>Borrower added on 12/31/13 &gt; To pay Home Dep...</td>\n",
       "      <td>Pay off</td>\n",
       "      <td>...</td>\n",
       "      <td>0</td>\n",
       "      <td>0</td>\n",
       "      <td>0</td>\n",
       "      <td>0</td>\n",
       "      <td>0</td>\n",
       "      <td>0</td>\n",
       "      <td>0</td>\n",
       "      <td>0</td>\n",
       "      <td>0</td>\n",
       "      <td>0</td>\n",
       "    </tr>\n",
       "    <tr>\n",
       "      <th>17</th>\n",
       "      <td>10000.0</td>\n",
       "      <td>9.67</td>\n",
       "      <td>321.13</td>\n",
       "      <td>29</td>\n",
       "      <td>Registered Nurse</td>\n",
       "      <td>7.0</td>\n",
       "      <td>102000.0</td>\n",
       "      <td>2013-12-01</td>\n",
       "      <td>NaN</td>\n",
       "      <td>Clean Up</td>\n",
       "      <td>...</td>\n",
       "      <td>0</td>\n",
       "      <td>0</td>\n",
       "      <td>0</td>\n",
       "      <td>0</td>\n",
       "      <td>0</td>\n",
       "      <td>0</td>\n",
       "      <td>0</td>\n",
       "      <td>0</td>\n",
       "      <td>0</td>\n",
       "      <td>0</td>\n",
       "    </tr>\n",
       "    <tr>\n",
       "      <th>18</th>\n",
       "      <td>20800.0</td>\n",
       "      <td>13.53</td>\n",
       "      <td>706.16</td>\n",
       "      <td>25</td>\n",
       "      <td>Operations Manager</td>\n",
       "      <td>10.0</td>\n",
       "      <td>81500.0</td>\n",
       "      <td>2013-12-01</td>\n",
       "      <td>Borrower added on 12/31/13 &gt; My goal is to p...</td>\n",
       "      <td>Reducing Debt to Purchase Home</td>\n",
       "      <td>...</td>\n",
       "      <td>0</td>\n",
       "      <td>0</td>\n",
       "      <td>0</td>\n",
       "      <td>0</td>\n",
       "      <td>0</td>\n",
       "      <td>0</td>\n",
       "      <td>0</td>\n",
       "      <td>0</td>\n",
       "      <td>0</td>\n",
       "      <td>0</td>\n",
       "    </tr>\n",
       "    <tr>\n",
       "      <th>19</th>\n",
       "      <td>7550.0</td>\n",
       "      <td>16.24</td>\n",
       "      <td>266.34</td>\n",
       "      <td>20</td>\n",
       "      <td>Special Order Fulfillment Clerk</td>\n",
       "      <td>3.0</td>\n",
       "      <td>28000.0</td>\n",
       "      <td>2013-12-01</td>\n",
       "      <td>NaN</td>\n",
       "      <td>Debt consolidation</td>\n",
       "      <td>...</td>\n",
       "      <td>0</td>\n",
       "      <td>0</td>\n",
       "      <td>0</td>\n",
       "      <td>0</td>\n",
       "      <td>0</td>\n",
       "      <td>0</td>\n",
       "      <td>0</td>\n",
       "      <td>0</td>\n",
       "      <td>0</td>\n",
       "      <td>0</td>\n",
       "    </tr>\n",
       "    <tr>\n",
       "      <th>20</th>\n",
       "      <td>3000.0</td>\n",
       "      <td>12.85</td>\n",
       "      <td>100.87</td>\n",
       "      <td>26</td>\n",
       "      <td>Auditor</td>\n",
       "      <td>10.0</td>\n",
       "      <td>25000.0</td>\n",
       "      <td>2013-12-01</td>\n",
       "      <td>NaN</td>\n",
       "      <td>debt</td>\n",
       "      <td>...</td>\n",
       "      <td>0</td>\n",
       "      <td>0</td>\n",
       "      <td>0</td>\n",
       "      <td>0</td>\n",
       "      <td>0</td>\n",
       "      <td>0</td>\n",
       "      <td>0</td>\n",
       "      <td>0</td>\n",
       "      <td>0</td>\n",
       "      <td>0</td>\n",
       "    </tr>\n",
       "    <tr>\n",
       "      <th>21</th>\n",
       "      <td>5000.0</td>\n",
       "      <td>13.53</td>\n",
       "      <td>169.75</td>\n",
       "      <td>25</td>\n",
       "      <td>Dispatcher</td>\n",
       "      <td>10.0</td>\n",
       "      <td>70000.0</td>\n",
       "      <td>2013-12-01</td>\n",
       "      <td>Borrower added on 12/31/13 &gt; Pay down some c...</td>\n",
       "      <td>Expenses</td>\n",
       "      <td>...</td>\n",
       "      <td>0</td>\n",
       "      <td>0</td>\n",
       "      <td>1</td>\n",
       "      <td>0</td>\n",
       "      <td>0</td>\n",
       "      <td>0</td>\n",
       "      <td>0</td>\n",
       "      <td>0</td>\n",
       "      <td>0</td>\n",
       "      <td>0</td>\n",
       "    </tr>\n",
       "    <tr>\n",
       "      <th>22</th>\n",
       "      <td>10000.0</td>\n",
       "      <td>9.67</td>\n",
       "      <td>321.13</td>\n",
       "      <td>29</td>\n",
       "      <td>machinist</td>\n",
       "      <td>9.0</td>\n",
       "      <td>45000.0</td>\n",
       "      <td>2013-12-01</td>\n",
       "      <td>NaN</td>\n",
       "      <td>debt coladation</td>\n",
       "      <td>...</td>\n",
       "      <td>0</td>\n",
       "      <td>0</td>\n",
       "      <td>0</td>\n",
       "      <td>0</td>\n",
       "      <td>0</td>\n",
       "      <td>0</td>\n",
       "      <td>0</td>\n",
       "      <td>0</td>\n",
       "      <td>0</td>\n",
       "      <td>0</td>\n",
       "    </tr>\n",
       "    <tr>\n",
       "      <th>23</th>\n",
       "      <td>10400.0</td>\n",
       "      <td>17.57</td>\n",
       "      <td>261.67</td>\n",
       "      <td>18</td>\n",
       "      <td>Information Systems Security Officer</td>\n",
       "      <td>2.0</td>\n",
       "      <td>105680.0</td>\n",
       "      <td>2013-12-01</td>\n",
       "      <td>NaN</td>\n",
       "      <td>credit card payoff</td>\n",
       "      <td>...</td>\n",
       "      <td>0</td>\n",
       "      <td>0</td>\n",
       "      <td>1</td>\n",
       "      <td>0</td>\n",
       "      <td>0</td>\n",
       "      <td>0</td>\n",
       "      <td>0</td>\n",
       "      <td>0</td>\n",
       "      <td>0</td>\n",
       "      <td>0</td>\n",
       "    </tr>\n",
       "    <tr>\n",
       "      <th>24</th>\n",
       "      <td>6000.0</td>\n",
       "      <td>6.03</td>\n",
       "      <td>182.62</td>\n",
       "      <td>34</td>\n",
       "      <td>Senior Designer</td>\n",
       "      <td>8.0</td>\n",
       "      <td>115000.0</td>\n",
       "      <td>2013-12-01</td>\n",
       "      <td>Borrower added on 12/31/13 &gt; I am looking to...</td>\n",
       "      <td>Credit Card pay down</td>\n",
       "      <td>...</td>\n",
       "      <td>0</td>\n",
       "      <td>0</td>\n",
       "      <td>0</td>\n",
       "      <td>0</td>\n",
       "      <td>0</td>\n",
       "      <td>0</td>\n",
       "      <td>0</td>\n",
       "      <td>0</td>\n",
       "      <td>0</td>\n",
       "      <td>0</td>\n",
       "    </tr>\n",
       "    <tr>\n",
       "      <th>25</th>\n",
       "      <td>8325.0</td>\n",
       "      <td>15.61</td>\n",
       "      <td>291.09</td>\n",
       "      <td>21</td>\n",
       "      <td>data analyst</td>\n",
       "      <td>10.0</td>\n",
       "      <td>65000.0</td>\n",
       "      <td>2013-12-01</td>\n",
       "      <td>Borrower added on 12/31/13 &gt; Payoff high int...</td>\n",
       "      <td>payoff</td>\n",
       "      <td>...</td>\n",
       "      <td>0</td>\n",
       "      <td>0</td>\n",
       "      <td>0</td>\n",
       "      <td>0</td>\n",
       "      <td>0</td>\n",
       "      <td>0</td>\n",
       "      <td>0</td>\n",
       "      <td>0</td>\n",
       "      <td>0</td>\n",
       "      <td>0</td>\n",
       "    </tr>\n",
       "    <tr>\n",
       "      <th>26</th>\n",
       "      <td>21000.0</td>\n",
       "      <td>7.62</td>\n",
       "      <td>654.39</td>\n",
       "      <td>32</td>\n",
       "      <td>vet tech</td>\n",
       "      <td>9.0</td>\n",
       "      <td>110000.0</td>\n",
       "      <td>2013-12-01</td>\n",
       "      <td>Borrower added on 12/31/13 &gt; Consolidation&lt;br&gt;</td>\n",
       "      <td>consolidation</td>\n",
       "      <td>...</td>\n",
       "      <td>0</td>\n",
       "      <td>0</td>\n",
       "      <td>0</td>\n",
       "      <td>0</td>\n",
       "      <td>0</td>\n",
       "      <td>0</td>\n",
       "      <td>0</td>\n",
       "      <td>0</td>\n",
       "      <td>0</td>\n",
       "      <td>0</td>\n",
       "    </tr>\n",
       "    <tr>\n",
       "      <th>27</th>\n",
       "      <td>17475.0</td>\n",
       "      <td>21.48</td>\n",
       "      <td>477.49</td>\n",
       "      <td>13</td>\n",
       "      <td>Probation Officer</td>\n",
       "      <td>10.0</td>\n",
       "      <td>42494.0</td>\n",
       "      <td>2013-12-01</td>\n",
       "      <td>Borrower added on 12/31/13 &gt; to pay off outs...</td>\n",
       "      <td>Debt Loan</td>\n",
       "      <td>...</td>\n",
       "      <td>0</td>\n",
       "      <td>0</td>\n",
       "      <td>1</td>\n",
       "      <td>0</td>\n",
       "      <td>0</td>\n",
       "      <td>0</td>\n",
       "      <td>0</td>\n",
       "      <td>0</td>\n",
       "      <td>0</td>\n",
       "      <td>0</td>\n",
       "    </tr>\n",
       "    <tr>\n",
       "      <th>28</th>\n",
       "      <td>3000.0</td>\n",
       "      <td>19.97</td>\n",
       "      <td>111.45</td>\n",
       "      <td>15</td>\n",
       "      <td>Claims adjuster</td>\n",
       "      <td>10.0</td>\n",
       "      <td>110000.0</td>\n",
       "      <td>2013-12-01</td>\n",
       "      <td>Borrower added on 12/31/13 &gt; Basically to pa...</td>\n",
       "      <td>Other</td>\n",
       "      <td>...</td>\n",
       "      <td>0</td>\n",
       "      <td>0</td>\n",
       "      <td>1</td>\n",
       "      <td>0</td>\n",
       "      <td>0</td>\n",
       "      <td>0</td>\n",
       "      <td>0</td>\n",
       "      <td>0</td>\n",
       "      <td>0</td>\n",
       "      <td>0</td>\n",
       "    </tr>\n",
       "    <tr>\n",
       "      <th>29</th>\n",
       "      <td>12000.0</td>\n",
       "      <td>16.24</td>\n",
       "      <td>293.35</td>\n",
       "      <td>20</td>\n",
       "      <td>Regional Sales Manager</td>\n",
       "      <td>2.0</td>\n",
       "      <td>80000.0</td>\n",
       "      <td>2013-12-01</td>\n",
       "      <td>Borrower added on 12/31/13 &gt; I needed to con...</td>\n",
       "      <td>Debt Consolidation</td>\n",
       "      <td>...</td>\n",
       "      <td>0</td>\n",
       "      <td>0</td>\n",
       "      <td>0</td>\n",
       "      <td>0</td>\n",
       "      <td>0</td>\n",
       "      <td>0</td>\n",
       "      <td>0</td>\n",
       "      <td>0</td>\n",
       "      <td>0</td>\n",
       "      <td>0</td>\n",
       "    </tr>\n",
       "    <tr>\n",
       "      <th>...</th>\n",
       "      <td>...</td>\n",
       "      <td>...</td>\n",
       "      <td>...</td>\n",
       "      <td>...</td>\n",
       "      <td>...</td>\n",
       "      <td>...</td>\n",
       "      <td>...</td>\n",
       "      <td>...</td>\n",
       "      <td>...</td>\n",
       "      <td>...</td>\n",
       "      <td>...</td>\n",
       "      <td>...</td>\n",
       "      <td>...</td>\n",
       "      <td>...</td>\n",
       "      <td>...</td>\n",
       "      <td>...</td>\n",
       "      <td>...</td>\n",
       "      <td>...</td>\n",
       "      <td>...</td>\n",
       "      <td>...</td>\n",
       "      <td>...</td>\n",
       "    </tr>\n",
       "    <tr>\n",
       "      <th>180279</th>\n",
       "      <td>30000.0</td>\n",
       "      <td>22.06</td>\n",
       "      <td>244.73</td>\n",
       "      <td>6</td>\n",
       "      <td>Linebarger Goggan Blair &amp; Sampson, LLP</td>\n",
       "      <td>10.0</td>\n",
       "      <td>88000.0</td>\n",
       "      <td>2012-01-01</td>\n",
       "      <td>Borrower added on 12/15/11 &gt; ACCOUNT        ...</td>\n",
       "      <td>Debt Free</td>\n",
       "      <td>...</td>\n",
       "      <td>0</td>\n",
       "      <td>0</td>\n",
       "      <td>1</td>\n",
       "      <td>0</td>\n",
       "      <td>0</td>\n",
       "      <td>0</td>\n",
       "      <td>0</td>\n",
       "      <td>0</td>\n",
       "      <td>0</td>\n",
       "      <td>0</td>\n",
       "    </tr>\n",
       "    <tr>\n",
       "      <th>180280</th>\n",
       "      <td>28800.0</td>\n",
       "      <td>20.30</td>\n",
       "      <td>767.84</td>\n",
       "      <td>10</td>\n",
       "      <td>NaN</td>\n",
       "      <td>10.0</td>\n",
       "      <td>75000.0</td>\n",
       "      <td>2012-01-01</td>\n",
       "      <td>Borrower added on 12/19/11 &gt; Loan proceeds w...</td>\n",
       "      <td>2012 Debt Consolidation</td>\n",
       "      <td>...</td>\n",
       "      <td>0</td>\n",
       "      <td>0</td>\n",
       "      <td>0</td>\n",
       "      <td>0</td>\n",
       "      <td>0</td>\n",
       "      <td>0</td>\n",
       "      <td>0</td>\n",
       "      <td>0</td>\n",
       "      <td>0</td>\n",
       "      <td>0</td>\n",
       "    </tr>\n",
       "    <tr>\n",
       "      <th>180281</th>\n",
       "      <td>10000.0</td>\n",
       "      <td>15.27</td>\n",
       "      <td>347.98</td>\n",
       "      <td>21</td>\n",
       "      <td>St. Joseph</td>\n",
       "      <td>0.0</td>\n",
       "      <td>45000.0</td>\n",
       "      <td>2012-01-01</td>\n",
       "      <td>NaN</td>\n",
       "      <td>Debt Consolidation loan</td>\n",
       "      <td>...</td>\n",
       "      <td>0</td>\n",
       "      <td>0</td>\n",
       "      <td>0</td>\n",
       "      <td>0</td>\n",
       "      <td>0</td>\n",
       "      <td>0</td>\n",
       "      <td>0</td>\n",
       "      <td>0</td>\n",
       "      <td>0</td>\n",
       "      <td>0</td>\n",
       "    </tr>\n",
       "    <tr>\n",
       "      <th>180282</th>\n",
       "      <td>20100.0</td>\n",
       "      <td>17.27</td>\n",
       "      <td>719.33</td>\n",
       "      <td>17</td>\n",
       "      <td>NaN</td>\n",
       "      <td>10.0</td>\n",
       "      <td>80000.0</td>\n",
       "      <td>2012-01-01</td>\n",
       "      <td>Borrower added on 12/13/11 &gt; I ventured into...</td>\n",
       "      <td>Small Business Loan</td>\n",
       "      <td>...</td>\n",
       "      <td>0</td>\n",
       "      <td>0</td>\n",
       "      <td>1</td>\n",
       "      <td>0</td>\n",
       "      <td>0</td>\n",
       "      <td>0</td>\n",
       "      <td>0</td>\n",
       "      <td>0</td>\n",
       "      <td>0</td>\n",
       "      <td>0</td>\n",
       "    </tr>\n",
       "    <tr>\n",
       "      <th>180283</th>\n",
       "      <td>19200.0</td>\n",
       "      <td>17.58</td>\n",
       "      <td>483.18</td>\n",
       "      <td>16</td>\n",
       "      <td>U.S. ARMY</td>\n",
       "      <td>10.0</td>\n",
       "      <td>38307.6</td>\n",
       "      <td>2012-01-01</td>\n",
       "      <td>NaN</td>\n",
       "      <td>Credit Card</td>\n",
       "      <td>...</td>\n",
       "      <td>0</td>\n",
       "      <td>0</td>\n",
       "      <td>0</td>\n",
       "      <td>0</td>\n",
       "      <td>0</td>\n",
       "      <td>0</td>\n",
       "      <td>1</td>\n",
       "      <td>0</td>\n",
       "      <td>0</td>\n",
       "      <td>0</td>\n",
       "    </tr>\n",
       "    <tr>\n",
       "      <th>180284</th>\n",
       "      <td>16400.0</td>\n",
       "      <td>16.29</td>\n",
       "      <td>578.93</td>\n",
       "      <td>19</td>\n",
       "      <td>PRO OUTSOURCING INC</td>\n",
       "      <td>4.0</td>\n",
       "      <td>65000.0</td>\n",
       "      <td>2012-01-01</td>\n",
       "      <td>NaN</td>\n",
       "      <td>PAYROLL LOAN</td>\n",
       "      <td>...</td>\n",
       "      <td>0</td>\n",
       "      <td>0</td>\n",
       "      <td>0</td>\n",
       "      <td>0</td>\n",
       "      <td>0</td>\n",
       "      <td>0</td>\n",
       "      <td>0</td>\n",
       "      <td>0</td>\n",
       "      <td>0</td>\n",
       "      <td>0</td>\n",
       "    </tr>\n",
       "    <tr>\n",
       "      <th>180285</th>\n",
       "      <td>10000.0</td>\n",
       "      <td>11.71</td>\n",
       "      <td>330.76</td>\n",
       "      <td>27</td>\n",
       "      <td>Shriners Hospital for Children</td>\n",
       "      <td>5.0</td>\n",
       "      <td>86600.0</td>\n",
       "      <td>2012-01-01</td>\n",
       "      <td>NaN</td>\n",
       "      <td>3yr conolidation</td>\n",
       "      <td>...</td>\n",
       "      <td>0</td>\n",
       "      <td>0</td>\n",
       "      <td>0</td>\n",
       "      <td>0</td>\n",
       "      <td>0</td>\n",
       "      <td>0</td>\n",
       "      <td>0</td>\n",
       "      <td>0</td>\n",
       "      <td>0</td>\n",
       "      <td>0</td>\n",
       "    </tr>\n",
       "    <tr>\n",
       "      <th>180286</th>\n",
       "      <td>15000.0</td>\n",
       "      <td>6.03</td>\n",
       "      <td>456.54</td>\n",
       "      <td>34</td>\n",
       "      <td>CfMC</td>\n",
       "      <td>2.0</td>\n",
       "      <td>50000.0</td>\n",
       "      <td>2012-01-01</td>\n",
       "      <td>Borrower added on 12/13/11 &gt; I am trying to ...</td>\n",
       "      <td>Refinance loan</td>\n",
       "      <td>...</td>\n",
       "      <td>0</td>\n",
       "      <td>0</td>\n",
       "      <td>0</td>\n",
       "      <td>0</td>\n",
       "      <td>0</td>\n",
       "      <td>0</td>\n",
       "      <td>0</td>\n",
       "      <td>0</td>\n",
       "      <td>0</td>\n",
       "      <td>0</td>\n",
       "    </tr>\n",
       "    <tr>\n",
       "      <th>180287</th>\n",
       "      <td>35000.0</td>\n",
       "      <td>13.49</td>\n",
       "      <td>805.17</td>\n",
       "      <td>24</td>\n",
       "      <td>Bitter Root Acupuncture &amp; Wellness Cente</td>\n",
       "      <td>7.0</td>\n",
       "      <td>82000.0</td>\n",
       "      <td>2012-01-01</td>\n",
       "      <td>Borrower added on 12/16/11 &gt; Help me to pay ...</td>\n",
       "      <td>debt consolidation</td>\n",
       "      <td>...</td>\n",
       "      <td>0</td>\n",
       "      <td>0</td>\n",
       "      <td>0</td>\n",
       "      <td>0</td>\n",
       "      <td>0</td>\n",
       "      <td>0</td>\n",
       "      <td>0</td>\n",
       "      <td>0</td>\n",
       "      <td>0</td>\n",
       "      <td>0</td>\n",
       "    </tr>\n",
       "    <tr>\n",
       "      <th>180288</th>\n",
       "      <td>12000.0</td>\n",
       "      <td>6.03</td>\n",
       "      <td>365.23</td>\n",
       "      <td>34</td>\n",
       "      <td>Douglas labs HVL</td>\n",
       "      <td>3.0</td>\n",
       "      <td>76000.0</td>\n",
       "      <td>2012-01-01</td>\n",
       "      <td>Borrower added on 12/11/11 &gt; This loan will ...</td>\n",
       "      <td>Wedding Loan</td>\n",
       "      <td>...</td>\n",
       "      <td>0</td>\n",
       "      <td>0</td>\n",
       "      <td>0</td>\n",
       "      <td>0</td>\n",
       "      <td>0</td>\n",
       "      <td>0</td>\n",
       "      <td>0</td>\n",
       "      <td>0</td>\n",
       "      <td>0</td>\n",
       "      <td>0</td>\n",
       "    </tr>\n",
       "    <tr>\n",
       "      <th>180289</th>\n",
       "      <td>20750.0</td>\n",
       "      <td>12.42</td>\n",
       "      <td>465.99</td>\n",
       "      <td>26</td>\n",
       "      <td>Tarrant County Sheriff Office</td>\n",
       "      <td>0.0</td>\n",
       "      <td>41500.0</td>\n",
       "      <td>2012-01-01</td>\n",
       "      <td>NaN</td>\n",
       "      <td>New Beginning</td>\n",
       "      <td>...</td>\n",
       "      <td>0</td>\n",
       "      <td>0</td>\n",
       "      <td>1</td>\n",
       "      <td>0</td>\n",
       "      <td>0</td>\n",
       "      <td>0</td>\n",
       "      <td>0</td>\n",
       "      <td>0</td>\n",
       "      <td>0</td>\n",
       "      <td>0</td>\n",
       "    </tr>\n",
       "    <tr>\n",
       "      <th>180290</th>\n",
       "      <td>22000.0</td>\n",
       "      <td>12.42</td>\n",
       "      <td>494.06</td>\n",
       "      <td>26</td>\n",
       "      <td>Dr. Betty Carrocchia.  Dr. Adam Kaufman</td>\n",
       "      <td>1.0</td>\n",
       "      <td>65000.0</td>\n",
       "      <td>2012-01-01</td>\n",
       "      <td>Borrower added on 12/13/11 &gt; Consolidation o...</td>\n",
       "      <td>debt consolidation</td>\n",
       "      <td>...</td>\n",
       "      <td>0</td>\n",
       "      <td>0</td>\n",
       "      <td>0</td>\n",
       "      <td>0</td>\n",
       "      <td>0</td>\n",
       "      <td>0</td>\n",
       "      <td>0</td>\n",
       "      <td>0</td>\n",
       "      <td>0</td>\n",
       "      <td>0</td>\n",
       "    </tr>\n",
       "    <tr>\n",
       "      <th>180291</th>\n",
       "      <td>6600.0</td>\n",
       "      <td>17.58</td>\n",
       "      <td>166.10</td>\n",
       "      <td>16</td>\n",
       "      <td>TD Bank</td>\n",
       "      <td>7.0</td>\n",
       "      <td>70000.0</td>\n",
       "      <td>2012-01-01</td>\n",
       "      <td>NaN</td>\n",
       "      <td>loan2</td>\n",
       "      <td>...</td>\n",
       "      <td>0</td>\n",
       "      <td>0</td>\n",
       "      <td>0</td>\n",
       "      <td>0</td>\n",
       "      <td>0</td>\n",
       "      <td>0</td>\n",
       "      <td>0</td>\n",
       "      <td>0</td>\n",
       "      <td>0</td>\n",
       "      <td>0</td>\n",
       "    </tr>\n",
       "    <tr>\n",
       "      <th>180292</th>\n",
       "      <td>22000.0</td>\n",
       "      <td>14.65</td>\n",
       "      <td>519.35</td>\n",
       "      <td>22</td>\n",
       "      <td>TDK Technologies</td>\n",
       "      <td>1.0</td>\n",
       "      <td>100000.0</td>\n",
       "      <td>2012-01-01</td>\n",
       "      <td>NaN</td>\n",
       "      <td>Consolidation Loan</td>\n",
       "      <td>...</td>\n",
       "      <td>0</td>\n",
       "      <td>0</td>\n",
       "      <td>0</td>\n",
       "      <td>0</td>\n",
       "      <td>0</td>\n",
       "      <td>0</td>\n",
       "      <td>0</td>\n",
       "      <td>0</td>\n",
       "      <td>0</td>\n",
       "      <td>0</td>\n",
       "    </tr>\n",
       "    <tr>\n",
       "      <th>180293</th>\n",
       "      <td>33950.0</td>\n",
       "      <td>15.96</td>\n",
       "      <td>824.88</td>\n",
       "      <td>20</td>\n",
       "      <td>NOAA/NWS</td>\n",
       "      <td>7.0</td>\n",
       "      <td>78000.0</td>\n",
       "      <td>2012-01-01</td>\n",
       "      <td>NaN</td>\n",
       "      <td>Credit Card</td>\n",
       "      <td>...</td>\n",
       "      <td>0</td>\n",
       "      <td>0</td>\n",
       "      <td>0</td>\n",
       "      <td>0</td>\n",
       "      <td>0</td>\n",
       "      <td>0</td>\n",
       "      <td>0</td>\n",
       "      <td>0</td>\n",
       "      <td>0</td>\n",
       "      <td>0</td>\n",
       "    </tr>\n",
       "    <tr>\n",
       "      <th>180294</th>\n",
       "      <td>18000.0</td>\n",
       "      <td>22.35</td>\n",
       "      <td>500.73</td>\n",
       "      <td>5</td>\n",
       "      <td>UPS</td>\n",
       "      <td>4.0</td>\n",
       "      <td>100000.0</td>\n",
       "      <td>2012-01-01</td>\n",
       "      <td>NaN</td>\n",
       "      <td>Personal loan</td>\n",
       "      <td>...</td>\n",
       "      <td>0</td>\n",
       "      <td>0</td>\n",
       "      <td>0</td>\n",
       "      <td>0</td>\n",
       "      <td>0</td>\n",
       "      <td>0</td>\n",
       "      <td>0</td>\n",
       "      <td>0</td>\n",
       "      <td>0</td>\n",
       "      <td>0</td>\n",
       "    </tr>\n",
       "    <tr>\n",
       "      <th>180295</th>\n",
       "      <td>10000.0</td>\n",
       "      <td>9.91</td>\n",
       "      <td>322.25</td>\n",
       "      <td>29</td>\n",
       "      <td>Banco popular North America</td>\n",
       "      <td>3.0</td>\n",
       "      <td>28000.0</td>\n",
       "      <td>2012-01-01</td>\n",
       "      <td>Borrower added on 12/10/11 &gt; I WISH TO GET T...</td>\n",
       "      <td>debt Consolidation</td>\n",
       "      <td>...</td>\n",
       "      <td>0</td>\n",
       "      <td>0</td>\n",
       "      <td>0</td>\n",
       "      <td>0</td>\n",
       "      <td>0</td>\n",
       "      <td>0</td>\n",
       "      <td>0</td>\n",
       "      <td>0</td>\n",
       "      <td>0</td>\n",
       "      <td>0</td>\n",
       "    </tr>\n",
       "    <tr>\n",
       "      <th>180296</th>\n",
       "      <td>35000.0</td>\n",
       "      <td>22.74</td>\n",
       "      <td>610.60</td>\n",
       "      <td>4</td>\n",
       "      <td>TalentBurst for M&amp;T</td>\n",
       "      <td>10.0</td>\n",
       "      <td>76000.0</td>\n",
       "      <td>2012-01-01</td>\n",
       "      <td>Borrower added on 12/09/11 &gt; Please help. I ...</td>\n",
       "      <td>house</td>\n",
       "      <td>...</td>\n",
       "      <td>0</td>\n",
       "      <td>0</td>\n",
       "      <td>0</td>\n",
       "      <td>0</td>\n",
       "      <td>0</td>\n",
       "      <td>0</td>\n",
       "      <td>0</td>\n",
       "      <td>0</td>\n",
       "      <td>0</td>\n",
       "      <td>0</td>\n",
       "    </tr>\n",
       "    <tr>\n",
       "      <th>180297</th>\n",
       "      <td>20000.0</td>\n",
       "      <td>19.91</td>\n",
       "      <td>361.62</td>\n",
       "      <td>11</td>\n",
       "      <td>Domino's Pizza</td>\n",
       "      <td>10.0</td>\n",
       "      <td>69996.0</td>\n",
       "      <td>2012-01-01</td>\n",
       "      <td>Borrower added on 12/12/11 &gt; I will be using...</td>\n",
       "      <td>Debt Consolidation Loan</td>\n",
       "      <td>...</td>\n",
       "      <td>0</td>\n",
       "      <td>0</td>\n",
       "      <td>0</td>\n",
       "      <td>0</td>\n",
       "      <td>0</td>\n",
       "      <td>0</td>\n",
       "      <td>0</td>\n",
       "      <td>0</td>\n",
       "      <td>0</td>\n",
       "      <td>0</td>\n",
       "    </tr>\n",
       "    <tr>\n",
       "      <th>180298</th>\n",
       "      <td>18000.0</td>\n",
       "      <td>17.58</td>\n",
       "      <td>452.98</td>\n",
       "      <td>16</td>\n",
       "      <td>Bridgestone Retail Operations</td>\n",
       "      <td>10.0</td>\n",
       "      <td>100000.0</td>\n",
       "      <td>2012-01-01</td>\n",
       "      <td>NaN</td>\n",
       "      <td>debt reduction/hone updates</td>\n",
       "      <td>...</td>\n",
       "      <td>0</td>\n",
       "      <td>0</td>\n",
       "      <td>1</td>\n",
       "      <td>0</td>\n",
       "      <td>0</td>\n",
       "      <td>0</td>\n",
       "      <td>0</td>\n",
       "      <td>0</td>\n",
       "      <td>0</td>\n",
       "      <td>0</td>\n",
       "    </tr>\n",
       "    <tr>\n",
       "      <th>180299</th>\n",
       "      <td>17500.0</td>\n",
       "      <td>22.74</td>\n",
       "      <td>471.10</td>\n",
       "      <td>4</td>\n",
       "      <td>Microsoft</td>\n",
       "      <td>6.0</td>\n",
       "      <td>95000.0</td>\n",
       "      <td>2012-01-01</td>\n",
       "      <td>Borrower added on 12/22/11 &gt; This amount wil...</td>\n",
       "      <td>Credit Card Payoff</td>\n",
       "      <td>...</td>\n",
       "      <td>0</td>\n",
       "      <td>0</td>\n",
       "      <td>0</td>\n",
       "      <td>0</td>\n",
       "      <td>0</td>\n",
       "      <td>0</td>\n",
       "      <td>1</td>\n",
       "      <td>0</td>\n",
       "      <td>0</td>\n",
       "      <td>0</td>\n",
       "    </tr>\n",
       "    <tr>\n",
       "      <th>180300</th>\n",
       "      <td>35000.0</td>\n",
       "      <td>14.27</td>\n",
       "      <td>527.87</td>\n",
       "      <td>23</td>\n",
       "      <td>Nucor Steel</td>\n",
       "      <td>10.0</td>\n",
       "      <td>120000.0</td>\n",
       "      <td>2012-01-01</td>\n",
       "      <td>NaN</td>\n",
       "      <td>Debt Consolidation</td>\n",
       "      <td>...</td>\n",
       "      <td>0</td>\n",
       "      <td>0</td>\n",
       "      <td>0</td>\n",
       "      <td>0</td>\n",
       "      <td>0</td>\n",
       "      <td>0</td>\n",
       "      <td>0</td>\n",
       "      <td>0</td>\n",
       "      <td>0</td>\n",
       "      <td>0</td>\n",
       "    </tr>\n",
       "    <tr>\n",
       "      <th>180301</th>\n",
       "      <td>24000.0</td>\n",
       "      <td>12.69</td>\n",
       "      <td>542.28</td>\n",
       "      <td>25</td>\n",
       "      <td>Delric Construction Company Inc.</td>\n",
       "      <td>2.0</td>\n",
       "      <td>80000.0</td>\n",
       "      <td>2012-01-01</td>\n",
       "      <td>NaN</td>\n",
       "      <td>Debt Consolidation</td>\n",
       "      <td>...</td>\n",
       "      <td>0</td>\n",
       "      <td>0</td>\n",
       "      <td>0</td>\n",
       "      <td>0</td>\n",
       "      <td>0</td>\n",
       "      <td>0</td>\n",
       "      <td>0</td>\n",
       "      <td>0</td>\n",
       "      <td>0</td>\n",
       "      <td>0</td>\n",
       "    </tr>\n",
       "    <tr>\n",
       "      <th>180302</th>\n",
       "      <td>8650.0</td>\n",
       "      <td>14.65</td>\n",
       "      <td>298.38</td>\n",
       "      <td>22</td>\n",
       "      <td>Harrahs Hotel and Casino</td>\n",
       "      <td>9.0</td>\n",
       "      <td>55000.0</td>\n",
       "      <td>2012-01-01</td>\n",
       "      <td>NaN</td>\n",
       "      <td>Credit Card Financing</td>\n",
       "      <td>...</td>\n",
       "      <td>0</td>\n",
       "      <td>0</td>\n",
       "      <td>0</td>\n",
       "      <td>0</td>\n",
       "      <td>0</td>\n",
       "      <td>0</td>\n",
       "      <td>0</td>\n",
       "      <td>0</td>\n",
       "      <td>0</td>\n",
       "      <td>0</td>\n",
       "    </tr>\n",
       "    <tr>\n",
       "      <th>180303</th>\n",
       "      <td>20000.0</td>\n",
       "      <td>14.27</td>\n",
       "      <td>296.71</td>\n",
       "      <td>23</td>\n",
       "      <td>RR DONNELLEY</td>\n",
       "      <td>10.0</td>\n",
       "      <td>60000.0</td>\n",
       "      <td>2012-01-01</td>\n",
       "      <td>NaN</td>\n",
       "      <td>payoff</td>\n",
       "      <td>...</td>\n",
       "      <td>0</td>\n",
       "      <td>0</td>\n",
       "      <td>0</td>\n",
       "      <td>0</td>\n",
       "      <td>0</td>\n",
       "      <td>0</td>\n",
       "      <td>0</td>\n",
       "      <td>1</td>\n",
       "      <td>0</td>\n",
       "      <td>0</td>\n",
       "    </tr>\n",
       "    <tr>\n",
       "      <th>180304</th>\n",
       "      <td>12000.0</td>\n",
       "      <td>7.90</td>\n",
       "      <td>375.49</td>\n",
       "      <td>31</td>\n",
       "      <td>mpmi</td>\n",
       "      <td>3.0</td>\n",
       "      <td>42000.0</td>\n",
       "      <td>2012-01-01</td>\n",
       "      <td>Borrower added on 12/11/11 &gt; pay off credit ...</td>\n",
       "      <td>credit card payoff</td>\n",
       "      <td>...</td>\n",
       "      <td>0</td>\n",
       "      <td>0</td>\n",
       "      <td>0</td>\n",
       "      <td>0</td>\n",
       "      <td>0</td>\n",
       "      <td>0</td>\n",
       "      <td>0</td>\n",
       "      <td>0</td>\n",
       "      <td>0</td>\n",
       "      <td>0</td>\n",
       "    </tr>\n",
       "    <tr>\n",
       "      <th>180305</th>\n",
       "      <td>20500.0</td>\n",
       "      <td>16.77</td>\n",
       "      <td>728.54</td>\n",
       "      <td>18</td>\n",
       "      <td>NaN</td>\n",
       "      <td>7.0</td>\n",
       "      <td>60000.0</td>\n",
       "      <td>2012-01-01</td>\n",
       "      <td>Borrower added on 12/08/11 &gt; I will be payin...</td>\n",
       "      <td>Payoff Loan</td>\n",
       "      <td>...</td>\n",
       "      <td>0</td>\n",
       "      <td>0</td>\n",
       "      <td>0</td>\n",
       "      <td>0</td>\n",
       "      <td>0</td>\n",
       "      <td>0</td>\n",
       "      <td>0</td>\n",
       "      <td>0</td>\n",
       "      <td>0</td>\n",
       "      <td>0</td>\n",
       "    </tr>\n",
       "    <tr>\n",
       "      <th>180306</th>\n",
       "      <td>15000.0</td>\n",
       "      <td>15.27</td>\n",
       "      <td>521.97</td>\n",
       "      <td>21</td>\n",
       "      <td>NaN</td>\n",
       "      <td>3.0</td>\n",
       "      <td>57600.0</td>\n",
       "      <td>2012-01-01</td>\n",
       "      <td>NaN</td>\n",
       "      <td>business loan</td>\n",
       "      <td>...</td>\n",
       "      <td>0</td>\n",
       "      <td>0</td>\n",
       "      <td>0</td>\n",
       "      <td>0</td>\n",
       "      <td>0</td>\n",
       "      <td>0</td>\n",
       "      <td>0</td>\n",
       "      <td>0</td>\n",
       "      <td>0</td>\n",
       "      <td>0</td>\n",
       "    </tr>\n",
       "    <tr>\n",
       "      <th>180307</th>\n",
       "      <td>35000.0</td>\n",
       "      <td>15.96</td>\n",
       "      <td>1229.81</td>\n",
       "      <td>20</td>\n",
       "      <td>Tom and Holly Gores</td>\n",
       "      <td>3.0</td>\n",
       "      <td>160000.0</td>\n",
       "      <td>2012-01-01</td>\n",
       "      <td>NaN</td>\n",
       "      <td>Small Business Loan</td>\n",
       "      <td>...</td>\n",
       "      <td>0</td>\n",
       "      <td>0</td>\n",
       "      <td>0</td>\n",
       "      <td>0</td>\n",
       "      <td>0</td>\n",
       "      <td>0</td>\n",
       "      <td>0</td>\n",
       "      <td>0</td>\n",
       "      <td>0</td>\n",
       "      <td>0</td>\n",
       "    </tr>\n",
       "    <tr>\n",
       "      <th>180308</th>\n",
       "      <td>12000.0</td>\n",
       "      <td>15.27</td>\n",
       "      <td>186.08</td>\n",
       "      <td>21</td>\n",
       "      <td>NaN</td>\n",
       "      <td>7.0</td>\n",
       "      <td>50000.0</td>\n",
       "      <td>2012-01-01</td>\n",
       "      <td>Borrower added on 12/06/11 &gt; Want to close d...</td>\n",
       "      <td>refinance</td>\n",
       "      <td>...</td>\n",
       "      <td>0</td>\n",
       "      <td>0</td>\n",
       "      <td>0</td>\n",
       "      <td>0</td>\n",
       "      <td>1</td>\n",
       "      <td>0</td>\n",
       "      <td>0</td>\n",
       "      <td>0</td>\n",
       "      <td>0</td>\n",
       "      <td>0</td>\n",
       "    </tr>\n",
       "  </tbody>\n",
       "</table>\n",
       "<p>180309 rows × 97 columns</p>\n",
       "</div>"
      ],
      "text/plain": [
       "        loan_amnt  int_rate  installment  sub_grade  \\\n",
       "0         12000.0      7.62       373.94         32   \n",
       "1         27050.0     10.99       885.46         28   \n",
       "2         12000.0     11.99       398.52         27   \n",
       "3         28000.0      7.62       872.52         32   \n",
       "4         27600.0     19.97       730.78         15   \n",
       "5         12000.0     10.99       392.81         28   \n",
       "6         11100.0     14.98       384.68         22   \n",
       "7         12000.0     13.53       407.40         25   \n",
       "8          9750.0     13.98       333.14         24   \n",
       "9          4800.0     10.99       157.13         28   \n",
       "10         8000.0     10.99       261.88         28   \n",
       "11        11500.0     22.90       323.54         11   \n",
       "12        24000.0     13.53       814.80         25   \n",
       "13        12000.0      6.62       368.45         33   \n",
       "14        14000.0     12.85       470.71         26   \n",
       "15        15000.0     14.47       516.10         23   \n",
       "16        15000.0      8.90       476.30         30   \n",
       "17        10000.0      9.67       321.13         29   \n",
       "18        20800.0     13.53       706.16         25   \n",
       "19         7550.0     16.24       266.34         20   \n",
       "20         3000.0     12.85       100.87         26   \n",
       "21         5000.0     13.53       169.75         25   \n",
       "22        10000.0      9.67       321.13         29   \n",
       "23        10400.0     17.57       261.67         18   \n",
       "24         6000.0      6.03       182.62         34   \n",
       "25         8325.0     15.61       291.09         21   \n",
       "26        21000.0      7.62       654.39         32   \n",
       "27        17475.0     21.48       477.49         13   \n",
       "28         3000.0     19.97       111.45         15   \n",
       "29        12000.0     16.24       293.35         20   \n",
       "...           ...       ...          ...        ...   \n",
       "180279    30000.0     22.06       244.73          6   \n",
       "180280    28800.0     20.30       767.84         10   \n",
       "180281    10000.0     15.27       347.98         21   \n",
       "180282    20100.0     17.27       719.33         17   \n",
       "180283    19200.0     17.58       483.18         16   \n",
       "180284    16400.0     16.29       578.93         19   \n",
       "180285    10000.0     11.71       330.76         27   \n",
       "180286    15000.0      6.03       456.54         34   \n",
       "180287    35000.0     13.49       805.17         24   \n",
       "180288    12000.0      6.03       365.23         34   \n",
       "180289    20750.0     12.42       465.99         26   \n",
       "180290    22000.0     12.42       494.06         26   \n",
       "180291     6600.0     17.58       166.10         16   \n",
       "180292    22000.0     14.65       519.35         22   \n",
       "180293    33950.0     15.96       824.88         20   \n",
       "180294    18000.0     22.35       500.73          5   \n",
       "180295    10000.0      9.91       322.25         29   \n",
       "180296    35000.0     22.74       610.60          4   \n",
       "180297    20000.0     19.91       361.62         11   \n",
       "180298    18000.0     17.58       452.98         16   \n",
       "180299    17500.0     22.74       471.10          4   \n",
       "180300    35000.0     14.27       527.87         23   \n",
       "180301    24000.0     12.69       542.28         25   \n",
       "180302     8650.0     14.65       298.38         22   \n",
       "180303    20000.0     14.27       296.71         23   \n",
       "180304    12000.0      7.90       375.49         31   \n",
       "180305    20500.0     16.77       728.54         18   \n",
       "180306    15000.0     15.27       521.97         21   \n",
       "180307    35000.0     15.96      1229.81         20   \n",
       "180308    12000.0     15.27       186.08         21   \n",
       "\n",
       "                                       emp_title  emp_length  annual_inc  \\\n",
       "0                               Systems Engineer         3.0     96500.0   \n",
       "1            Team Leadern Customer Ops & Systems        10.0     55000.0   \n",
       "2                                            LTC        10.0    130000.0   \n",
       "3                             Area Sales Manager         5.0    325000.0   \n",
       "4                   Street Operations Supervisor         6.0     73000.0   \n",
       "5                                Project Manager         4.0     60000.0   \n",
       "6                                        Teacher        10.0     90000.0   \n",
       "7                                On road manager        10.0     40000.0   \n",
       "8                              Medical Assistant         1.0     26000.0   \n",
       "9                            Surgical Technician         2.0     39600.0   \n",
       "10                                 PARTS MANAGER         2.0     33000.0   \n",
       "11                                     Secretary         4.0     32760.0   \n",
       "12                                        driver        10.0    100000.0   \n",
       "13                  MANAGER INFORMATION DELIVERY        10.0    105000.0   \n",
       "14          Assistant Director - Human Resources         4.0     88000.0   \n",
       "15                          building maint. mgr.        10.0     98000.0   \n",
       "16                 aircraft maintenance engineer         2.0     63000.0   \n",
       "17                              Registered Nurse         7.0    102000.0   \n",
       "18                            Operations Manager        10.0     81500.0   \n",
       "19               Special Order Fulfillment Clerk         3.0     28000.0   \n",
       "20                                       Auditor        10.0     25000.0   \n",
       "21                                    Dispatcher        10.0     70000.0   \n",
       "22                                     machinist         9.0     45000.0   \n",
       "23          Information Systems Security Officer         2.0    105680.0   \n",
       "24                               Senior Designer         8.0    115000.0   \n",
       "25                                  data analyst        10.0     65000.0   \n",
       "26                                      vet tech         9.0    110000.0   \n",
       "27                             Probation Officer        10.0     42494.0   \n",
       "28                               Claims adjuster        10.0    110000.0   \n",
       "29                        Regional Sales Manager         2.0     80000.0   \n",
       "...                                          ...         ...         ...   \n",
       "180279    Linebarger Goggan Blair & Sampson, LLP        10.0     88000.0   \n",
       "180280                                       NaN        10.0     75000.0   \n",
       "180281                                St. Joseph         0.0     45000.0   \n",
       "180282                                       NaN        10.0     80000.0   \n",
       "180283                                 U.S. ARMY        10.0     38307.6   \n",
       "180284                       PRO OUTSOURCING INC         4.0     65000.0   \n",
       "180285            Shriners Hospital for Children         5.0     86600.0   \n",
       "180286                                      CfMC         2.0     50000.0   \n",
       "180287  Bitter Root Acupuncture & Wellness Cente         7.0     82000.0   \n",
       "180288                          Douglas labs HVL         3.0     76000.0   \n",
       "180289             Tarrant County Sheriff Office         0.0     41500.0   \n",
       "180290   Dr. Betty Carrocchia.  Dr. Adam Kaufman         1.0     65000.0   \n",
       "180291                                   TD Bank         7.0     70000.0   \n",
       "180292                          TDK Technologies         1.0    100000.0   \n",
       "180293                                  NOAA/NWS         7.0     78000.0   \n",
       "180294                                       UPS         4.0    100000.0   \n",
       "180295               Banco popular North America         3.0     28000.0   \n",
       "180296                       TalentBurst for M&T        10.0     76000.0   \n",
       "180297                            Domino's Pizza        10.0     69996.0   \n",
       "180298             Bridgestone Retail Operations        10.0    100000.0   \n",
       "180299                                 Microsoft         6.0     95000.0   \n",
       "180300                               Nucor Steel        10.0    120000.0   \n",
       "180301          Delric Construction Company Inc.         2.0     80000.0   \n",
       "180302                  Harrahs Hotel and Casino         9.0     55000.0   \n",
       "180303                              RR DONNELLEY        10.0     60000.0   \n",
       "180304                                      mpmi         3.0     42000.0   \n",
       "180305                                       NaN         7.0     60000.0   \n",
       "180306                                       NaN         3.0     57600.0   \n",
       "180307                       Tom and Holly Gores         3.0    160000.0   \n",
       "180308                                       NaN         7.0     50000.0   \n",
       "\n",
       "           issue_d                                               desc  \\\n",
       "0       2013-12-01    Borrower added on 12/31/13 > Bought a new ho...   \n",
       "1       2013-12-01    Borrower added on 12/31/13 > Combining high ...   \n",
       "2       2013-12-01                                                NaN   \n",
       "3       2013-12-01                                                NaN   \n",
       "4       2013-12-01    Borrower added on 12/31/13 > I had some wate...   \n",
       "5       2013-12-01    Borrower added on 12/31/13 > I would like to...   \n",
       "6       2013-12-01                                                NaN   \n",
       "7       2013-12-01                                                NaN   \n",
       "8       2013-12-01    Borrower added on 12/31/13 > While being in ...   \n",
       "9       2013-12-01    Borrower added on 12/31/13 > Just bought a h...   \n",
       "10      2013-12-01                                                NaN   \n",
       "11      2013-12-01    Borrower added on 12/31/13 > This loan is fo...   \n",
       "12      2013-12-01    Borrower added on 12/31/13 > pay off my othe...   \n",
       "13      2013-12-01                                                NaN   \n",
       "14      2013-12-01                                                NaN   \n",
       "15      2013-12-01    Borrower added on 12/31/13 > just to have on...   \n",
       "16      2013-12-01    Borrower added on 12/31/13 > To pay Home Dep...   \n",
       "17      2013-12-01                                                NaN   \n",
       "18      2013-12-01    Borrower added on 12/31/13 > My goal is to p...   \n",
       "19      2013-12-01                                                NaN   \n",
       "20      2013-12-01                                                NaN   \n",
       "21      2013-12-01    Borrower added on 12/31/13 > Pay down some c...   \n",
       "22      2013-12-01                                                NaN   \n",
       "23      2013-12-01                                                NaN   \n",
       "24      2013-12-01    Borrower added on 12/31/13 > I am looking to...   \n",
       "25      2013-12-01    Borrower added on 12/31/13 > Payoff high int...   \n",
       "26      2013-12-01     Borrower added on 12/31/13 > Consolidation<br>   \n",
       "27      2013-12-01    Borrower added on 12/31/13 > to pay off outs...   \n",
       "28      2013-12-01    Borrower added on 12/31/13 > Basically to pa...   \n",
       "29      2013-12-01    Borrower added on 12/31/13 > I needed to con...   \n",
       "...            ...                                                ...   \n",
       "180279  2012-01-01    Borrower added on 12/15/11 > ACCOUNT        ...   \n",
       "180280  2012-01-01    Borrower added on 12/19/11 > Loan proceeds w...   \n",
       "180281  2012-01-01                                                NaN   \n",
       "180282  2012-01-01    Borrower added on 12/13/11 > I ventured into...   \n",
       "180283  2012-01-01                                                NaN   \n",
       "180284  2012-01-01                                                NaN   \n",
       "180285  2012-01-01                                                NaN   \n",
       "180286  2012-01-01    Borrower added on 12/13/11 > I am trying to ...   \n",
       "180287  2012-01-01    Borrower added on 12/16/11 > Help me to pay ...   \n",
       "180288  2012-01-01    Borrower added on 12/11/11 > This loan will ...   \n",
       "180289  2012-01-01                                                NaN   \n",
       "180290  2012-01-01    Borrower added on 12/13/11 > Consolidation o...   \n",
       "180291  2012-01-01                                                NaN   \n",
       "180292  2012-01-01                                                NaN   \n",
       "180293  2012-01-01                                                NaN   \n",
       "180294  2012-01-01                                                NaN   \n",
       "180295  2012-01-01    Borrower added on 12/10/11 > I WISH TO GET T...   \n",
       "180296  2012-01-01    Borrower added on 12/09/11 > Please help. I ...   \n",
       "180297  2012-01-01    Borrower added on 12/12/11 > I will be using...   \n",
       "180298  2012-01-01                                                NaN   \n",
       "180299  2012-01-01    Borrower added on 12/22/11 > This amount wil...   \n",
       "180300  2012-01-01                                                NaN   \n",
       "180301  2012-01-01                                                NaN   \n",
       "180302  2012-01-01                                                NaN   \n",
       "180303  2012-01-01                                                NaN   \n",
       "180304  2012-01-01    Borrower added on 12/11/11 > pay off credit ...   \n",
       "180305  2012-01-01    Borrower added on 12/08/11 > I will be payin...   \n",
       "180306  2012-01-01                                                NaN   \n",
       "180307  2012-01-01                                                NaN   \n",
       "180308  2012-01-01    Borrower added on 12/06/11 > Want to close d...   \n",
       "\n",
       "                                           title      ...       addr_state_SD  \\\n",
       "0         Debt Consolidation and Credit Transfer      ...                   0   \n",
       "1                             Debt Consolidation      ...                   0   \n",
       "2                             Debt consolidation      ...                   0   \n",
       "3                 Pay off other Installment loan      ...                   0   \n",
       "4       Consolidation of debt and home improve.       ...                   0   \n",
       "5                                     No Regrets      ...                   0   \n",
       "6                                          Other      ...                   0   \n",
       "7                             Debt consolidation      ...                   0   \n",
       "8                               Debt Consilation      ...                   0   \n",
       "9                                  For The House      ...                   0   \n",
       "10                        My Life Saving Loan :)      ...                   0   \n",
       "11                                   Debt Killer      ...                   0   \n",
       "12                                   credit card      ...                   0   \n",
       "13                                UNIVERSAL CARD      ...                   0   \n",
       "14                            Debt consolidation      ...                   0   \n",
       "15                                       pay off      ...                   0   \n",
       "16                                       Pay off      ...                   0   \n",
       "17                                      Clean Up      ...                   0   \n",
       "18                Reducing Debt to Purchase Home      ...                   0   \n",
       "19                            Debt consolidation      ...                   0   \n",
       "20                                          debt      ...                   0   \n",
       "21                                      Expenses      ...                   0   \n",
       "22                               debt coladation      ...                   0   \n",
       "23                            credit card payoff      ...                   0   \n",
       "24                          Credit Card pay down      ...                   0   \n",
       "25                                        payoff      ...                   0   \n",
       "26                                 consolidation      ...                   0   \n",
       "27                                     Debt Loan      ...                   0   \n",
       "28                                         Other      ...                   0   \n",
       "29                            Debt Consolidation      ...                   0   \n",
       "...                                          ...      ...                 ...   \n",
       "180279                                 Debt Free      ...                   0   \n",
       "180280                   2012 Debt Consolidation      ...                   0   \n",
       "180281                   Debt Consolidation loan      ...                   0   \n",
       "180282                       Small Business Loan      ...                   0   \n",
       "180283                               Credit Card      ...                   0   \n",
       "180284                              PAYROLL LOAN      ...                   0   \n",
       "180285                          3yr conolidation      ...                   0   \n",
       "180286                            Refinance loan      ...                   0   \n",
       "180287                        debt consolidation      ...                   0   \n",
       "180288                              Wedding Loan      ...                   0   \n",
       "180289                             New Beginning      ...                   0   \n",
       "180290                        debt consolidation      ...                   0   \n",
       "180291                                     loan2      ...                   0   \n",
       "180292                        Consolidation Loan      ...                   0   \n",
       "180293                               Credit Card      ...                   0   \n",
       "180294                             Personal loan      ...                   0   \n",
       "180295                        debt Consolidation      ...                   0   \n",
       "180296                                     house      ...                   0   \n",
       "180297                   Debt Consolidation Loan      ...                   0   \n",
       "180298               debt reduction/hone updates      ...                   0   \n",
       "180299                        Credit Card Payoff      ...                   0   \n",
       "180300                        Debt Consolidation      ...                   0   \n",
       "180301                        Debt Consolidation      ...                   0   \n",
       "180302                     Credit Card Financing      ...                   0   \n",
       "180303                                    payoff      ...                   0   \n",
       "180304                        credit card payoff      ...                   0   \n",
       "180305                               Payoff Loan      ...                   0   \n",
       "180306                             business loan      ...                   0   \n",
       "180307                       Small Business Loan      ...                   0   \n",
       "180308                                 refinance      ...                   0   \n",
       "\n",
       "        addr_state_TN  addr_state_TX  addr_state_UT  addr_state_VA  \\\n",
       "0                   0              1              0              0   \n",
       "1                   0              0              0              0   \n",
       "2                   0              0              0              0   \n",
       "3                   0              0              0              0   \n",
       "4                   0              0              0              0   \n",
       "5                   0              0              0              0   \n",
       "6                   0              0              0              0   \n",
       "7                   0              0              0              0   \n",
       "8                   0              0              0              0   \n",
       "9                   0              1              0              0   \n",
       "10                  0              0              0              0   \n",
       "11                  0              0              0              0   \n",
       "12                  0              0              0              0   \n",
       "13                  0              0              0              0   \n",
       "14                  0              0              0              0   \n",
       "15                  0              0              0              0   \n",
       "16                  0              0              0              0   \n",
       "17                  0              0              0              0   \n",
       "18                  0              0              0              0   \n",
       "19                  0              0              0              0   \n",
       "20                  0              0              0              0   \n",
       "21                  0              1              0              0   \n",
       "22                  0              0              0              0   \n",
       "23                  0              1              0              0   \n",
       "24                  0              0              0              0   \n",
       "25                  0              0              0              0   \n",
       "26                  0              0              0              0   \n",
       "27                  0              1              0              0   \n",
       "28                  0              1              0              0   \n",
       "29                  0              0              0              0   \n",
       "...               ...            ...            ...            ...   \n",
       "180279              0              1              0              0   \n",
       "180280              0              0              0              0   \n",
       "180281              0              0              0              0   \n",
       "180282              0              1              0              0   \n",
       "180283              0              0              0              0   \n",
       "180284              0              0              0              0   \n",
       "180285              0              0              0              0   \n",
       "180286              0              0              0              0   \n",
       "180287              0              0              0              0   \n",
       "180288              0              0              0              0   \n",
       "180289              0              1              0              0   \n",
       "180290              0              0              0              0   \n",
       "180291              0              0              0              0   \n",
       "180292              0              0              0              0   \n",
       "180293              0              0              0              0   \n",
       "180294              0              0              0              0   \n",
       "180295              0              0              0              0   \n",
       "180296              0              0              0              0   \n",
       "180297              0              0              0              0   \n",
       "180298              0              1              0              0   \n",
       "180299              0              0              0              0   \n",
       "180300              0              0              0              0   \n",
       "180301              0              0              0              0   \n",
       "180302              0              0              0              0   \n",
       "180303              0              0              0              0   \n",
       "180304              0              0              0              0   \n",
       "180305              0              0              0              0   \n",
       "180306              0              0              0              0   \n",
       "180307              0              0              0              0   \n",
       "180308              0              0              0              1   \n",
       "\n",
       "        addr_state_VT  addr_state_WA  addr_state_WI  addr_state_WV  \\\n",
       "0                   0              0              0              0   \n",
       "1                   0              0              0              0   \n",
       "2                   0              0              0              0   \n",
       "3                   0              0              0              0   \n",
       "4                   0              0              0              0   \n",
       "5                   0              0              0              0   \n",
       "6                   0              0              0              0   \n",
       "7                   0              0              0              0   \n",
       "8                   0              0              0              0   \n",
       "9                   0              0              0              0   \n",
       "10                  0              0              0              0   \n",
       "11                  0              0              0              0   \n",
       "12                  0              0              0              0   \n",
       "13                  0              0              0              0   \n",
       "14                  0              0              0              0   \n",
       "15                  0              0              0              0   \n",
       "16                  0              0              0              0   \n",
       "17                  0              0              0              0   \n",
       "18                  0              0              0              0   \n",
       "19                  0              0              0              0   \n",
       "20                  0              0              0              0   \n",
       "21                  0              0              0              0   \n",
       "22                  0              0              0              0   \n",
       "23                  0              0              0              0   \n",
       "24                  0              0              0              0   \n",
       "25                  0              0              0              0   \n",
       "26                  0              0              0              0   \n",
       "27                  0              0              0              0   \n",
       "28                  0              0              0              0   \n",
       "29                  0              0              0              0   \n",
       "...               ...            ...            ...            ...   \n",
       "180279              0              0              0              0   \n",
       "180280              0              0              0              0   \n",
       "180281              0              0              0              0   \n",
       "180282              0              0              0              0   \n",
       "180283              0              1              0              0   \n",
       "180284              0              0              0              0   \n",
       "180285              0              0              0              0   \n",
       "180286              0              0              0              0   \n",
       "180287              0              0              0              0   \n",
       "180288              0              0              0              0   \n",
       "180289              0              0              0              0   \n",
       "180290              0              0              0              0   \n",
       "180291              0              0              0              0   \n",
       "180292              0              0              0              0   \n",
       "180293              0              0              0              0   \n",
       "180294              0              0              0              0   \n",
       "180295              0              0              0              0   \n",
       "180296              0              0              0              0   \n",
       "180297              0              0              0              0   \n",
       "180298              0              0              0              0   \n",
       "180299              0              1              0              0   \n",
       "180300              0              0              0              0   \n",
       "180301              0              0              0              0   \n",
       "180302              0              0              0              0   \n",
       "180303              0              0              1              0   \n",
       "180304              0              0              0              0   \n",
       "180305              0              0              0              0   \n",
       "180306              0              0              0              0   \n",
       "180307              0              0              0              0   \n",
       "180308              0              0              0              0   \n",
       "\n",
       "        addr_state_WY  \n",
       "0                   0  \n",
       "1                   0  \n",
       "2                   0  \n",
       "3                   0  \n",
       "4                   0  \n",
       "5                   0  \n",
       "6                   0  \n",
       "7                   0  \n",
       "8                   0  \n",
       "9                   0  \n",
       "10                  0  \n",
       "11                  0  \n",
       "12                  0  \n",
       "13                  0  \n",
       "14                  0  \n",
       "15                  0  \n",
       "16                  0  \n",
       "17                  0  \n",
       "18                  0  \n",
       "19                  0  \n",
       "20                  0  \n",
       "21                  0  \n",
       "22                  0  \n",
       "23                  0  \n",
       "24                  0  \n",
       "25                  0  \n",
       "26                  0  \n",
       "27                  0  \n",
       "28                  0  \n",
       "29                  0  \n",
       "...               ...  \n",
       "180279              0  \n",
       "180280              0  \n",
       "180281              0  \n",
       "180282              0  \n",
       "180283              0  \n",
       "180284              0  \n",
       "180285              0  \n",
       "180286              0  \n",
       "180287              0  \n",
       "180288              0  \n",
       "180289              0  \n",
       "180290              0  \n",
       "180291              0  \n",
       "180292              0  \n",
       "180293              0  \n",
       "180294              0  \n",
       "180295              0  \n",
       "180296              0  \n",
       "180297              0  \n",
       "180298              0  \n",
       "180299              0  \n",
       "180300              0  \n",
       "180301              0  \n",
       "180302              0  \n",
       "180303              0  \n",
       "180304              0  \n",
       "180305              0  \n",
       "180306              0  \n",
       "180307              0  \n",
       "180308              0  \n",
       "\n",
       "[180309 rows x 97 columns]"
      ]
     },
     "execution_count": 3,
     "metadata": {},
     "output_type": "execute_result"
    }
   ],
   "source": [
    "df"
   ]
  },
  {
   "cell_type": "code",
   "execution_count": 4,
   "metadata": {},
   "outputs": [],
   "source": [
    "y=df['loan_status']"
   ]
  },
  {
   "cell_type": "code",
   "execution_count": 10,
   "metadata": {},
   "outputs": [],
   "source": [
    "df.drop(columns=['emp_title','issue_d','zip_code','loan_status'], inplace=True)"
   ]
  },
  {
   "cell_type": "code",
   "execution_count": 11,
   "metadata": {},
   "outputs": [],
   "source": [
    "real_part=df.iloc[:,:19]"
   ]
  },
  {
   "cell_type": "code",
   "execution_count": 12,
   "metadata": {},
   "outputs": [],
   "source": [
    "dummy_part=df.iloc[:,19:]"
   ]
  },
  {
   "cell_type": "code",
   "execution_count": 13,
   "metadata": {},
   "outputs": [],
   "source": [
    "scaler=StandardScaler()"
   ]
  },
  {
   "cell_type": "code",
   "execution_count": 14,
   "metadata": {},
   "outputs": [
    {
     "data": {
      "text/plain": [
       "StandardScaler(copy=True, with_mean=True, with_std=True)"
      ]
     },
     "execution_count": 14,
     "metadata": {},
     "output_type": "execute_result"
    }
   ],
   "source": [
    "scaler.fit(real_part)"
   ]
  },
  {
   "cell_type": "code",
   "execution_count": 15,
   "metadata": {},
   "outputs": [],
   "source": [
    "scaled=scaler.transform(real_part)"
   ]
  },
  {
   "cell_type": "code",
   "execution_count": 16,
   "metadata": {},
   "outputs": [],
   "source": [
    "df1=pd.DataFrame(scaled, columns=real_part.columns)"
   ]
  },
  {
   "cell_type": "code",
   "execution_count": 17,
   "metadata": {},
   "outputs": [],
   "source": [
    "df=pd.concat([df1,dummy_part], axis=1)"
   ]
  },
  {
   "cell_type": "code",
   "execution_count": 12,
   "metadata": {},
   "outputs": [],
   "source": [
    "X_train, X_test, y_train, y_test = train_test_split(df, y, test_size=0.30, random_state=101)"
   ]
  },
  {
   "cell_type": "code",
   "execution_count": 13,
   "metadata": {
    "scrolled": true
   },
   "outputs": [
    {
     "name": "stdout",
     "output_type": "stream",
     "text": [
      "             precision    recall  f1-score   support\n",
      "\n",
      "        0.0       0.85      1.00      0.92     44742\n",
      "        1.0       0.43      0.01      0.02      8183\n",
      "\n",
      "avg / total       0.78      0.84      0.78     52925\n",
      "\n",
      "[[44617   125]\n",
      " [ 8087    96]]\n",
      "0.8448370335380255\n"
     ]
    }
   ],
   "source": [
    "logmodel = LogisticRegression()\n",
    "logmodel.fit(X_train,y_train)\n",
    "predictions = logmodel.predict(X_test)\n",
    "print(classification_report(y_test,predictions))\n",
    "print(confusion_matrix(y_test,predictions))\n",
    "print(logmodel.score(X_test, y_test))"
   ]
  },
  {
   "cell_type": "code",
   "execution_count": 30,
   "metadata": {},
   "outputs": [],
   "source": [
    "param_grid={'penalty': ['l1','l2'], 'C':[0.1,1,5,10,50,100,500,1000],\n",
    "            'class_weight': [None, 'balanced'], 'solver': ['liblinear','newton-cg','lbfgs','sag','saga']}\n"
   ]
  },
  {
   "cell_type": "code",
   "execution_count": 31,
   "metadata": {},
   "outputs": [],
   "source": [
    "grid = GridSearchCV(LogisticRegression(), param_grid, refit=True, error_score=0, verbose=3)"
   ]
  },
  {
   "cell_type": "code",
   "execution_count": 32,
   "metadata": {},
   "outputs": [
    {
     "name": "stdout",
     "output_type": "stream",
     "text": [
      "Fitting 3 folds for each of 160 candidates, totalling 480 fits\n",
      "[CV] C=0.1, class_weight=None, penalty=l1, solver=liblinear ..........\n",
      "[CV]  C=0.1, class_weight=None, penalty=l1, solver=liblinear, score=0.8446215139442231, total=   2.1s\n",
      "[CV] C=0.1, class_weight=None, penalty=l1, solver=liblinear ..........\n"
     ]
    },
    {
     "name": "stderr",
     "output_type": "stream",
     "text": [
      "[Parallel(n_jobs=1)]: Done   1 out of   1 | elapsed:    2.2s remaining:    0.0s\n"
     ]
    },
    {
     "name": "stdout",
     "output_type": "stream",
     "text": [
      "[CV]  C=0.1, class_weight=None, penalty=l1, solver=liblinear, score=0.8437188737458398, total=   6.5s\n",
      "[CV] C=0.1, class_weight=None, penalty=l1, solver=liblinear ..........\n"
     ]
    },
    {
     "name": "stderr",
     "output_type": "stream",
     "text": [
      "[Parallel(n_jobs=1)]: Done   2 out of   2 | elapsed:    8.7s remaining:    0.0s\n"
     ]
    },
    {
     "name": "stdout",
     "output_type": "stream",
     "text": [
      "[CV]  C=0.1, class_weight=None, penalty=l1, solver=liblinear, score=0.8444681988241582, total=   7.8s\n",
      "[CV] C=0.1, class_weight=None, penalty=l1, solver=newton-cg ..........\n",
      "[CV]  C=0.1, class_weight=None, penalty=l1, solver=newton-cg, score=0, total=   0.1s\n",
      "[CV] C=0.1, class_weight=None, penalty=l1, solver=newton-cg ..........\n"
     ]
    },
    {
     "name": "stderr",
     "output_type": "stream",
     "text": [
      "/anaconda3/lib/python3.6/site-packages/sklearn/model_selection/_validation.py:479: FitFailedWarning: Classifier fit failed. The score on this train-test partition for these parameters will be set to 0.000000. Details: \n",
      "ValueError('Solver newton-cg supports only l2 penalties, got l1 penalty.',)\n",
      "  \"Details: \\n%r\" % (error_score, e), FitFailedWarning)\n",
      "/anaconda3/lib/python3.6/site-packages/sklearn/model_selection/_validation.py:479: FitFailedWarning: Classifier fit failed. The score on this train-test partition for these parameters will be set to 0.000000. Details: \n",
      "ValueError('Solver newton-cg supports only l2 penalties, got l1 penalty.',)\n",
      "  \"Details: \\n%r\" % (error_score, e), FitFailedWarning)\n"
     ]
    },
    {
     "name": "stdout",
     "output_type": "stream",
     "text": [
      "[CV]  C=0.1, class_weight=None, penalty=l1, solver=newton-cg, score=0, total=   0.1s\n",
      "[CV] C=0.1, class_weight=None, penalty=l1, solver=newton-cg ..........\n",
      "[CV]  C=0.1, class_weight=None, penalty=l1, solver=newton-cg, score=0, total=   0.1s\n",
      "[CV] C=0.1, class_weight=None, penalty=l1, solver=lbfgs ..............\n",
      "[CV]  C=0.1, class_weight=None, penalty=l1, solver=lbfgs, score=0, total=   0.1s\n",
      "[CV] C=0.1, class_weight=None, penalty=l1, solver=lbfgs ..............\n"
     ]
    },
    {
     "name": "stderr",
     "output_type": "stream",
     "text": [
      "/anaconda3/lib/python3.6/site-packages/sklearn/model_selection/_validation.py:479: FitFailedWarning: Classifier fit failed. The score on this train-test partition for these parameters will be set to 0.000000. Details: \n",
      "ValueError('Solver newton-cg supports only l2 penalties, got l1 penalty.',)\n",
      "  \"Details: \\n%r\" % (error_score, e), FitFailedWarning)\n",
      "/anaconda3/lib/python3.6/site-packages/sklearn/model_selection/_validation.py:479: FitFailedWarning: Classifier fit failed. The score on this train-test partition for these parameters will be set to 0.000000. Details: \n",
      "ValueError('Solver lbfgs supports only l2 penalties, got l1 penalty.',)\n",
      "  \"Details: \\n%r\" % (error_score, e), FitFailedWarning)\n",
      "/anaconda3/lib/python3.6/site-packages/sklearn/model_selection/_validation.py:479: FitFailedWarning: Classifier fit failed. The score on this train-test partition for these parameters will be set to 0.000000. Details: \n",
      "ValueError('Solver lbfgs supports only l2 penalties, got l1 penalty.',)\n",
      "  \"Details: \\n%r\" % (error_score, e), FitFailedWarning)\n",
      "/anaconda3/lib/python3.6/site-packages/sklearn/model_selection/_validation.py:479: FitFailedWarning: Classifier fit failed. The score on this train-test partition for these parameters will be set to 0.000000. Details: \n",
      "ValueError('Solver lbfgs supports only l2 penalties, got l1 penalty.',)\n",
      "  \"Details: \\n%r\" % (error_score, e), FitFailedWarning)\n",
      "/anaconda3/lib/python3.6/site-packages/sklearn/model_selection/_validation.py:479: FitFailedWarning: Classifier fit failed. The score on this train-test partition for these parameters will be set to 0.000000. Details: \n",
      "ValueError('Solver sag supports only l2 penalties, got l1 penalty.',)\n",
      "  \"Details: \\n%r\" % (error_score, e), FitFailedWarning)\n"
     ]
    },
    {
     "name": "stdout",
     "output_type": "stream",
     "text": [
      "[CV]  C=0.1, class_weight=None, penalty=l1, solver=lbfgs, score=0, total=   0.1s\n",
      "[CV] C=0.1, class_weight=None, penalty=l1, solver=lbfgs ..............\n",
      "[CV]  C=0.1, class_weight=None, penalty=l1, solver=lbfgs, score=0, total=   0.1s\n",
      "[CV] C=0.1, class_weight=None, penalty=l1, solver=sag ................\n",
      "[CV]  C=0.1, class_weight=None, penalty=l1, solver=sag, score=0, total=   0.1s\n",
      "[CV] C=0.1, class_weight=None, penalty=l1, solver=sag ................\n"
     ]
    },
    {
     "name": "stderr",
     "output_type": "stream",
     "text": [
      "/anaconda3/lib/python3.6/site-packages/sklearn/model_selection/_validation.py:479: FitFailedWarning: Classifier fit failed. The score on this train-test partition for these parameters will be set to 0.000000. Details: \n",
      "ValueError('Solver sag supports only l2 penalties, got l1 penalty.',)\n",
      "  \"Details: \\n%r\" % (error_score, e), FitFailedWarning)\n",
      "/anaconda3/lib/python3.6/site-packages/sklearn/model_selection/_validation.py:479: FitFailedWarning: Classifier fit failed. The score on this train-test partition for these parameters will be set to 0.000000. Details: \n",
      "ValueError('Solver sag supports only l2 penalties, got l1 penalty.',)\n",
      "  \"Details: \\n%r\" % (error_score, e), FitFailedWarning)\n"
     ]
    },
    {
     "name": "stdout",
     "output_type": "stream",
     "text": [
      "[CV]  C=0.1, class_weight=None, penalty=l1, solver=sag, score=0, total=   0.1s\n",
      "[CV] C=0.1, class_weight=None, penalty=l1, solver=sag ................\n",
      "[CV]  C=0.1, class_weight=None, penalty=l1, solver=sag, score=0, total=   0.1s\n",
      "[CV] C=0.1, class_weight=None, penalty=l1, solver=saga ...............\n"
     ]
    },
    {
     "name": "stderr",
     "output_type": "stream",
     "text": [
      "/anaconda3/lib/python3.6/site-packages/sklearn/linear_model/sag.py:326: ConvergenceWarning: The max_iter was reached which means the coef_ did not converge\n",
      "  \"the coef_ did not converge\", ConvergenceWarning)\n"
     ]
    },
    {
     "name": "stdout",
     "output_type": "stream",
     "text": [
      "[CV]  C=0.1, class_weight=None, penalty=l1, solver=saga, score=0.8445486347293751, total=  13.8s\n",
      "[CV] C=0.1, class_weight=None, penalty=l1, solver=saga ...............\n"
     ]
    },
    {
     "name": "stderr",
     "output_type": "stream",
     "text": [
      "/anaconda3/lib/python3.6/site-packages/sklearn/linear_model/sag.py:326: ConvergenceWarning: The max_iter was reached which means the coef_ did not converge\n",
      "  \"the coef_ did not converge\", ConvergenceWarning)\n"
     ]
    },
    {
     "name": "stdout",
     "output_type": "stream",
     "text": [
      "[CV]  C=0.1, class_weight=None, penalty=l1, solver=saga, score=0.8435488181133542, total=  14.2s\n",
      "[CV] C=0.1, class_weight=None, penalty=l1, solver=saga ...............\n"
     ]
    },
    {
     "name": "stderr",
     "output_type": "stream",
     "text": [
      "/anaconda3/lib/python3.6/site-packages/sklearn/linear_model/sag.py:326: ConvergenceWarning: The max_iter was reached which means the coef_ did not converge\n",
      "  \"the coef_ did not converge\", ConvergenceWarning)\n"
     ]
    },
    {
     "name": "stdout",
     "output_type": "stream",
     "text": [
      "[CV]  C=0.1, class_weight=None, penalty=l1, solver=saga, score=0.8443467275642583, total=  13.8s\n",
      "[CV] C=0.1, class_weight=None, penalty=l2, solver=liblinear ..........\n",
      "[CV]  C=0.1, class_weight=None, penalty=l2, solver=liblinear, score=0.8445000485861432, total=   0.8s\n",
      "[CV] C=0.1, class_weight=None, penalty=l2, solver=liblinear ..........\n",
      "[CV]  C=0.1, class_weight=None, penalty=l2, solver=liblinear, score=0.8437917547311906, total=   0.8s\n",
      "[CV] C=0.1, class_weight=None, penalty=l2, solver=liblinear ..........\n",
      "[CV]  C=0.1, class_weight=None, penalty=l2, solver=liblinear, score=0.8443224333122783, total=   0.8s\n",
      "[CV] C=0.1, class_weight=None, penalty=l2, solver=newton-cg ..........\n",
      "[CV]  C=0.1, class_weight=None, penalty=l2, solver=newton-cg, score=0.8445243416577592, total=   2.5s\n",
      "[CV] C=0.1, class_weight=None, penalty=l2, solver=newton-cg ..........\n",
      "[CV]  C=0.1, class_weight=None, penalty=l2, solver=newton-cg, score=0.8438160483929743, total=   2.5s\n",
      "[CV] C=0.1, class_weight=None, penalty=l2, solver=newton-cg ..........\n",
      "[CV]  C=0.1, class_weight=None, penalty=l2, solver=newton-cg, score=0.8443467275642583, total=   2.4s\n",
      "[CV] C=0.1, class_weight=None, penalty=l2, solver=lbfgs ..............\n",
      "[CV]  C=0.1, class_weight=None, penalty=l2, solver=lbfgs, score=0.8445729278009911, total=   0.8s\n",
      "[CV] C=0.1, class_weight=None, penalty=l2, solver=lbfgs ..............\n",
      "[CV]  C=0.1, class_weight=None, penalty=l2, solver=lbfgs, score=0.8437917547311906, total=   0.7s\n",
      "[CV] C=0.1, class_weight=None, penalty=l2, solver=lbfgs ..............\n",
      "[CV]  C=0.1, class_weight=None, penalty=l2, solver=lbfgs, score=0.8443710218162382, total=   0.8s\n",
      "[CV] C=0.1, class_weight=None, penalty=l2, solver=sag ................\n"
     ]
    },
    {
     "name": "stderr",
     "output_type": "stream",
     "text": [
      "/anaconda3/lib/python3.6/site-packages/sklearn/linear_model/sag.py:326: ConvergenceWarning: The max_iter was reached which means the coef_ did not converge\n",
      "  \"the coef_ did not converge\", ConvergenceWarning)\n"
     ]
    },
    {
     "name": "stdout",
     "output_type": "stream",
     "text": [
      "[CV]  C=0.1, class_weight=None, penalty=l2, solver=sag, score=0.8445486347293751, total=  11.4s\n",
      "[CV] C=0.1, class_weight=None, penalty=l2, solver=sag ................\n"
     ]
    },
    {
     "name": "stderr",
     "output_type": "stream",
     "text": [
      "/anaconda3/lib/python3.6/site-packages/sklearn/linear_model/sag.py:326: ConvergenceWarning: The max_iter was reached which means the coef_ did not converge\n",
      "  \"the coef_ did not converge\", ConvergenceWarning)\n"
     ]
    },
    {
     "name": "stdout",
     "output_type": "stream",
     "text": [
      "[CV]  C=0.1, class_weight=None, penalty=l2, solver=sag, score=0.8438160483929743, total=  11.2s\n",
      "[CV] C=0.1, class_weight=None, penalty=l2, solver=sag ................\n"
     ]
    },
    {
     "name": "stderr",
     "output_type": "stream",
     "text": [
      "/anaconda3/lib/python3.6/site-packages/sklearn/linear_model/sag.py:326: ConvergenceWarning: The max_iter was reached which means the coef_ did not converge\n",
      "  \"the coef_ did not converge\", ConvergenceWarning)\n"
     ]
    },
    {
     "name": "stdout",
     "output_type": "stream",
     "text": [
      "[CV]  C=0.1, class_weight=None, penalty=l2, solver=sag, score=0.8442738448083184, total=  10.7s\n",
      "[CV] C=0.1, class_weight=None, penalty=l2, solver=saga ...............\n"
     ]
    },
    {
     "name": "stderr",
     "output_type": "stream",
     "text": [
      "/anaconda3/lib/python3.6/site-packages/sklearn/linear_model/sag.py:326: ConvergenceWarning: The max_iter was reached which means the coef_ did not converge\n",
      "  \"the coef_ did not converge\", ConvergenceWarning)\n"
     ]
    },
    {
     "name": "stdout",
     "output_type": "stream",
     "text": [
      "[CV]  C=0.1, class_weight=None, penalty=l2, solver=saga, score=0.8445972208726071, total=  10.6s\n",
      "[CV] C=0.1, class_weight=None, penalty=l2, solver=saga ...............\n"
     ]
    },
    {
     "name": "stderr",
     "output_type": "stream",
     "text": [
      "/anaconda3/lib/python3.6/site-packages/sklearn/linear_model/sag.py:326: ConvergenceWarning: The max_iter was reached which means the coef_ did not converge\n",
      "  \"the coef_ did not converge\", ConvergenceWarning)\n"
     ]
    },
    {
     "name": "stdout",
     "output_type": "stream",
     "text": [
      "[CV]  C=0.1, class_weight=None, penalty=l2, solver=saga, score=0.8435974054369215, total=  11.7s\n",
      "[CV] C=0.1, class_weight=None, penalty=l2, solver=saga ...............\n"
     ]
    },
    {
     "name": "stderr",
     "output_type": "stream",
     "text": [
      "/anaconda3/lib/python3.6/site-packages/sklearn/linear_model/sag.py:326: ConvergenceWarning: The max_iter was reached which means the coef_ did not converge\n",
      "  \"the coef_ did not converge\", ConvergenceWarning)\n"
     ]
    },
    {
     "name": "stdout",
     "output_type": "stream",
     "text": [
      "[CV]  C=0.1, class_weight=None, penalty=l2, solver=saga, score=0.8443224333122783, total=  11.6s\n",
      "[CV] C=0.1, class_weight=balanced, penalty=l1, solver=liblinear ......\n",
      "[CV]  C=0.1, class_weight=balanced, penalty=l1, solver=liblinear, score=0.6340977553201826, total=   2.7s\n",
      "[CV] C=0.1, class_weight=balanced, penalty=l1, solver=liblinear ......\n",
      "[CV]  C=0.1, class_weight=balanced, penalty=l1, solver=liblinear, score=0.6455797682384666, total=   4.5s\n",
      "[CV] C=0.1, class_weight=balanced, penalty=l1, solver=liblinear ......\n",
      "[CV]  C=0.1, class_weight=balanced, penalty=l1, solver=liblinear, score=0.6416840775472523, total=   2.1s\n",
      "[CV] C=0.1, class_weight=balanced, penalty=l1, solver=newton-cg ......\n",
      "[CV]  C=0.1, class_weight=balanced, penalty=l1, solver=newton-cg, score=0, total=   0.1s\n",
      "[CV] C=0.1, class_weight=balanced, penalty=l1, solver=newton-cg ......\n"
     ]
    },
    {
     "name": "stderr",
     "output_type": "stream",
     "text": [
      "/anaconda3/lib/python3.6/site-packages/sklearn/model_selection/_validation.py:479: FitFailedWarning: Classifier fit failed. The score on this train-test partition for these parameters will be set to 0.000000. Details: \n",
      "ValueError('Solver newton-cg supports only l2 penalties, got l1 penalty.',)\n",
      "  \"Details: \\n%r\" % (error_score, e), FitFailedWarning)\n",
      "/anaconda3/lib/python3.6/site-packages/sklearn/model_selection/_validation.py:479: FitFailedWarning: Classifier fit failed. The score on this train-test partition for these parameters will be set to 0.000000. Details: \n",
      "ValueError('Solver newton-cg supports only l2 penalties, got l1 penalty.',)\n",
      "  \"Details: \\n%r\" % (error_score, e), FitFailedWarning)\n",
      "/anaconda3/lib/python3.6/site-packages/sklearn/model_selection/_validation.py:479: FitFailedWarning: Classifier fit failed. The score on this train-test partition for these parameters will be set to 0.000000. Details: \n",
      "ValueError('Solver newton-cg supports only l2 penalties, got l1 penalty.',)\n",
      "  \"Details: \\n%r\" % (error_score, e), FitFailedWarning)\n"
     ]
    },
    {
     "name": "stdout",
     "output_type": "stream",
     "text": [
      "[CV]  C=0.1, class_weight=balanced, penalty=l1, solver=newton-cg, score=0, total=   0.1s\n",
      "[CV] C=0.1, class_weight=balanced, penalty=l1, solver=newton-cg ......\n",
      "[CV]  C=0.1, class_weight=balanced, penalty=l1, solver=newton-cg, score=0, total=   0.1s\n",
      "[CV] C=0.1, class_weight=balanced, penalty=l1, solver=lbfgs ..........\n",
      "[CV]  C=0.1, class_weight=balanced, penalty=l1, solver=lbfgs, score=0, total=   0.1s\n",
      "[CV] C=0.1, class_weight=balanced, penalty=l1, solver=lbfgs ..........\n"
     ]
    },
    {
     "name": "stderr",
     "output_type": "stream",
     "text": [
      "/anaconda3/lib/python3.6/site-packages/sklearn/model_selection/_validation.py:479: FitFailedWarning: Classifier fit failed. The score on this train-test partition for these parameters will be set to 0.000000. Details: \n",
      "ValueError('Solver lbfgs supports only l2 penalties, got l1 penalty.',)\n",
      "  \"Details: \\n%r\" % (error_score, e), FitFailedWarning)\n",
      "/anaconda3/lib/python3.6/site-packages/sklearn/model_selection/_validation.py:479: FitFailedWarning: Classifier fit failed. The score on this train-test partition for these parameters will be set to 0.000000. Details: \n",
      "ValueError('Solver lbfgs supports only l2 penalties, got l1 penalty.',)\n",
      "  \"Details: \\n%r\" % (error_score, e), FitFailedWarning)\n",
      "/anaconda3/lib/python3.6/site-packages/sklearn/model_selection/_validation.py:479: FitFailedWarning: Classifier fit failed. The score on this train-test partition for these parameters will be set to 0.000000. Details: \n",
      "ValueError('Solver lbfgs supports only l2 penalties, got l1 penalty.',)\n",
      "  \"Details: \\n%r\" % (error_score, e), FitFailedWarning)\n"
     ]
    },
    {
     "name": "stdout",
     "output_type": "stream",
     "text": [
      "[CV]  C=0.1, class_weight=balanced, penalty=l1, solver=lbfgs, score=0, total=   0.1s\n",
      "[CV] C=0.1, class_weight=balanced, penalty=l1, solver=lbfgs ..........\n",
      "[CV]  C=0.1, class_weight=balanced, penalty=l1, solver=lbfgs, score=0, total=   0.1s\n",
      "[CV] C=0.1, class_weight=balanced, penalty=l1, solver=sag ............\n",
      "[CV]  C=0.1, class_weight=balanced, penalty=l1, solver=sag, score=0, total=   0.1s\n",
      "[CV] C=0.1, class_weight=balanced, penalty=l1, solver=sag ............\n"
     ]
    },
    {
     "name": "stderr",
     "output_type": "stream",
     "text": [
      "/anaconda3/lib/python3.6/site-packages/sklearn/model_selection/_validation.py:479: FitFailedWarning: Classifier fit failed. The score on this train-test partition for these parameters will be set to 0.000000. Details: \n",
      "ValueError('Solver sag supports only l2 penalties, got l1 penalty.',)\n",
      "  \"Details: \\n%r\" % (error_score, e), FitFailedWarning)\n",
      "/anaconda3/lib/python3.6/site-packages/sklearn/model_selection/_validation.py:479: FitFailedWarning: Classifier fit failed. The score on this train-test partition for these parameters will be set to 0.000000. Details: \n",
      "ValueError('Solver sag supports only l2 penalties, got l1 penalty.',)\n",
      "  \"Details: \\n%r\" % (error_score, e), FitFailedWarning)\n",
      "/anaconda3/lib/python3.6/site-packages/sklearn/model_selection/_validation.py:479: FitFailedWarning: Classifier fit failed. The score on this train-test partition for these parameters will be set to 0.000000. Details: \n",
      "ValueError('Solver sag supports only l2 penalties, got l1 penalty.',)\n",
      "  \"Details: \\n%r\" % (error_score, e), FitFailedWarning)\n"
     ]
    },
    {
     "name": "stdout",
     "output_type": "stream",
     "text": [
      "[CV]  C=0.1, class_weight=balanced, penalty=l1, solver=sag, score=0, total=   0.1s\n",
      "[CV] C=0.1, class_weight=balanced, penalty=l1, solver=sag ............\n",
      "[CV]  C=0.1, class_weight=balanced, penalty=l1, solver=sag, score=0, total=   0.1s\n",
      "[CV] C=0.1, class_weight=balanced, penalty=l1, solver=saga ...........\n"
     ]
    },
    {
     "name": "stderr",
     "output_type": "stream",
     "text": [
      "/anaconda3/lib/python3.6/site-packages/sklearn/linear_model/sag.py:326: ConvergenceWarning: The max_iter was reached which means the coef_ did not converge\n",
      "  \"the coef_ did not converge\", ConvergenceWarning)\n"
     ]
    },
    {
     "name": "stdout",
     "output_type": "stream",
     "text": [
      "[CV]  C=0.1, class_weight=balanced, penalty=l1, solver=saga, score=0.6342920998931105, total=  13.9s\n",
      "[CV] C=0.1, class_weight=balanced, penalty=l1, solver=saga ...........\n"
     ]
    },
    {
     "name": "stderr",
     "output_type": "stream",
     "text": [
      "/anaconda3/lib/python3.6/site-packages/sklearn/linear_model/sag.py:326: ConvergenceWarning: The max_iter was reached which means the coef_ did not converge\n",
      "  \"the coef_ did not converge\", ConvergenceWarning)\n"
     ]
    },
    {
     "name": "stdout",
     "output_type": "stream",
     "text": [
      "[CV]  C=0.1, class_weight=balanced, penalty=l1, solver=saga, score=0.6455068872531157, total=  14.1s\n",
      "[CV] C=0.1, class_weight=balanced, penalty=l1, solver=saga ...........\n"
     ]
    },
    {
     "name": "stderr",
     "output_type": "stream",
     "text": [
      "/anaconda3/lib/python3.6/site-packages/sklearn/linear_model/sag.py:326: ConvergenceWarning: The max_iter was reached which means the coef_ did not converge\n",
      "  \"the coef_ did not converge\", ConvergenceWarning)\n"
     ]
    },
    {
     "name": "stdout",
     "output_type": "stream",
     "text": [
      "[CV]  C=0.1, class_weight=balanced, penalty=l1, solver=saga, score=0.6419513143190321, total=  14.1s\n",
      "[CV] C=0.1, class_weight=balanced, penalty=l2, solver=liblinear ......\n",
      "[CV]  C=0.1, class_weight=balanced, penalty=l2, solver=liblinear, score=0.6341220483917986, total=   1.0s\n",
      "[CV] C=0.1, class_weight=balanced, penalty=l2, solver=liblinear ......\n",
      "[CV]  C=0.1, class_weight=balanced, penalty=l2, solver=liblinear, score=0.6437577436046935, total=   1.1s\n",
      "[CV] C=0.1, class_weight=balanced, penalty=l2, solver=liblinear ......\n",
      "[CV]  C=0.1, class_weight=balanced, penalty=l2, solver=liblinear, score=0.6405908362081532, total=   1.0s\n",
      "[CV] C=0.1, class_weight=balanced, penalty=l2, solver=newton-cg ......\n",
      "[CV]  C=0.1, class_weight=balanced, penalty=l2, solver=newton-cg, score=0.6341220483917986, total=   2.0s\n",
      "[CV] C=0.1, class_weight=balanced, penalty=l2, solver=newton-cg ......\n",
      "[CV]  C=0.1, class_weight=balanced, penalty=l2, solver=newton-cg, score=0.6437820372664772, total=   2.4s\n",
      "[CV] C=0.1, class_weight=balanced, penalty=l2, solver=newton-cg ......\n",
      "[CV]  C=0.1, class_weight=balanced, penalty=l2, solver=newton-cg, score=0.6405908362081532, total=   2.1s\n",
      "[CV] C=0.1, class_weight=balanced, penalty=l2, solver=lbfgs ..........\n",
      "[CV]  C=0.1, class_weight=balanced, penalty=l2, solver=lbfgs, score=0.6344378583228063, total=   0.8s\n",
      "[CV] C=0.1, class_weight=balanced, penalty=l2, solver=lbfgs ..........\n",
      "[CV]  C=0.1, class_weight=balanced, penalty=l2, solver=lbfgs, score=0.6438306245900445, total=   0.8s\n",
      "[CV] C=0.1, class_weight=balanced, penalty=l2, solver=lbfgs ..........\n",
      "[CV]  C=0.1, class_weight=balanced, penalty=l2, solver=lbfgs, score=0.6408823672319129, total=   0.8s\n",
      "[CV] C=0.1, class_weight=balanced, penalty=l2, solver=sag ............\n"
     ]
    },
    {
     "name": "stderr",
     "output_type": "stream",
     "text": [
      "/anaconda3/lib/python3.6/site-packages/sklearn/linear_model/sag.py:326: ConvergenceWarning: The max_iter was reached which means the coef_ did not converge\n",
      "  \"the coef_ did not converge\", ConvergenceWarning)\n"
     ]
    },
    {
     "name": "stdout",
     "output_type": "stream",
     "text": [
      "[CV]  C=0.1, class_weight=balanced, penalty=l2, solver=sag, score=0.6341220483917986, total=  11.3s\n",
      "[CV] C=0.1, class_weight=balanced, penalty=l2, solver=sag ............\n"
     ]
    },
    {
     "name": "stderr",
     "output_type": "stream",
     "text": [
      "/anaconda3/lib/python3.6/site-packages/sklearn/linear_model/sag.py:326: ConvergenceWarning: The max_iter was reached which means the coef_ did not converge\n",
      "  \"the coef_ did not converge\", ConvergenceWarning)\n"
     ]
    },
    {
     "name": "stdout",
     "output_type": "stream",
     "text": [
      "[CV]  C=0.1, class_weight=balanced, penalty=l2, solver=sag, score=0.6440735612078808, total=  11.3s\n",
      "[CV] C=0.1, class_weight=balanced, penalty=l2, solver=sag ............\n"
     ]
    },
    {
     "name": "stderr",
     "output_type": "stream",
     "text": [
      "/anaconda3/lib/python3.6/site-packages/sklearn/linear_model/sag.py:326: ConvergenceWarning: The max_iter was reached which means the coef_ did not converge\n",
      "  \"the coef_ did not converge\", ConvergenceWarning)\n"
     ]
    },
    {
     "name": "stdout",
     "output_type": "stream",
     "text": [
      "[CV]  C=0.1, class_weight=balanced, penalty=l2, solver=sag, score=0.640833778727953, total=  11.2s\n",
      "[CV] C=0.1, class_weight=balanced, penalty=l2, solver=saga ...........\n"
     ]
    },
    {
     "name": "stderr",
     "output_type": "stream",
     "text": [
      "/anaconda3/lib/python3.6/site-packages/sklearn/linear_model/sag.py:326: ConvergenceWarning: The max_iter was reached which means the coef_ did not converge\n",
      "  \"the coef_ did not converge\", ConvergenceWarning)\n"
     ]
    },
    {
     "name": "stdout",
     "output_type": "stream",
     "text": [
      "[CV]  C=0.1, class_weight=balanced, penalty=l2, solver=saga, score=0.6342920998931105, total=  11.5s\n",
      "[CV] C=0.1, class_weight=balanced, penalty=l2, solver=saga ...........\n"
     ]
    },
    {
     "name": "stderr",
     "output_type": "stream",
     "text": [
      "/anaconda3/lib/python3.6/site-packages/sklearn/linear_model/sag.py:326: ConvergenceWarning: The max_iter was reached which means the coef_ did not converge\n",
      "  \"the coef_ did not converge\", ConvergenceWarning)\n"
     ]
    },
    {
     "name": "stdout",
     "output_type": "stream",
     "text": [
      "[CV]  C=0.1, class_weight=balanced, penalty=l2, solver=saga, score=0.6449724266938756, total=  11.6s\n",
      "[CV] C=0.1, class_weight=balanced, penalty=l2, solver=saga ...........\n"
     ]
    },
    {
     "name": "stderr",
     "output_type": "stream",
     "text": [
      "/anaconda3/lib/python3.6/site-packages/sklearn/linear_model/sag.py:326: ConvergenceWarning: The max_iter was reached which means the coef_ did not converge\n",
      "  \"the coef_ did not converge\", ConvergenceWarning)\n"
     ]
    },
    {
     "name": "stdout",
     "output_type": "stream",
     "text": [
      "[CV]  C=0.1, class_weight=balanced, penalty=l2, solver=saga, score=0.6413925465234925, total=  11.6s\n",
      "[CV] C=1, class_weight=None, penalty=l1, solver=liblinear ............\n",
      "[CV]  C=1, class_weight=None, penalty=l1, solver=liblinear, score=0.8445729278009911, total=  20.0s\n",
      "[CV] C=1, class_weight=None, penalty=l1, solver=liblinear ............\n",
      "[CV]  C=1, class_weight=None, penalty=l1, solver=liblinear, score=0.8437917547311906, total=  19.9s\n",
      "[CV] C=1, class_weight=None, penalty=l1, solver=liblinear ............\n",
      "[CV]  C=1, class_weight=None, penalty=l1, solver=liblinear, score=0.8443467275642583, total=   9.1s\n",
      "[CV] C=1, class_weight=None, penalty=l1, solver=newton-cg ............\n",
      "[CV]  C=1, class_weight=None, penalty=l1, solver=newton-cg, score=0, total=   0.1s\n",
      "[CV] C=1, class_weight=None, penalty=l1, solver=newton-cg ............\n"
     ]
    },
    {
     "name": "stderr",
     "output_type": "stream",
     "text": [
      "/anaconda3/lib/python3.6/site-packages/sklearn/model_selection/_validation.py:479: FitFailedWarning: Classifier fit failed. The score on this train-test partition for these parameters will be set to 0.000000. Details: \n",
      "ValueError('Solver newton-cg supports only l2 penalties, got l1 penalty.',)\n",
      "  \"Details: \\n%r\" % (error_score, e), FitFailedWarning)\n",
      "/anaconda3/lib/python3.6/site-packages/sklearn/model_selection/_validation.py:479: FitFailedWarning: Classifier fit failed. The score on this train-test partition for these parameters will be set to 0.000000. Details: \n",
      "ValueError('Solver newton-cg supports only l2 penalties, got l1 penalty.',)\n",
      "  \"Details: \\n%r\" % (error_score, e), FitFailedWarning)\n",
      "/anaconda3/lib/python3.6/site-packages/sklearn/model_selection/_validation.py:479: FitFailedWarning: Classifier fit failed. The score on this train-test partition for these parameters will be set to 0.000000. Details: \n",
      "ValueError('Solver newton-cg supports only l2 penalties, got l1 penalty.',)\n",
      "  \"Details: \\n%r\" % (error_score, e), FitFailedWarning)\n"
     ]
    },
    {
     "name": "stdout",
     "output_type": "stream",
     "text": [
      "[CV]  C=1, class_weight=None, penalty=l1, solver=newton-cg, score=0, total=   0.1s\n",
      "[CV] C=1, class_weight=None, penalty=l1, solver=newton-cg ............\n",
      "[CV]  C=1, class_weight=None, penalty=l1, solver=newton-cg, score=0, total=   0.1s\n",
      "[CV] C=1, class_weight=None, penalty=l1, solver=lbfgs ................\n",
      "[CV]  C=1, class_weight=None, penalty=l1, solver=lbfgs, score=0, total=   0.1s\n",
      "[CV] C=1, class_weight=None, penalty=l1, solver=lbfgs ................\n"
     ]
    },
    {
     "name": "stderr",
     "output_type": "stream",
     "text": [
      "/anaconda3/lib/python3.6/site-packages/sklearn/model_selection/_validation.py:479: FitFailedWarning: Classifier fit failed. The score on this train-test partition for these parameters will be set to 0.000000. Details: \n",
      "ValueError('Solver lbfgs supports only l2 penalties, got l1 penalty.',)\n",
      "  \"Details: \\n%r\" % (error_score, e), FitFailedWarning)\n",
      "/anaconda3/lib/python3.6/site-packages/sklearn/model_selection/_validation.py:479: FitFailedWarning: Classifier fit failed. The score on this train-test partition for these parameters will be set to 0.000000. Details: \n",
      "ValueError('Solver lbfgs supports only l2 penalties, got l1 penalty.',)\n",
      "  \"Details: \\n%r\" % (error_score, e), FitFailedWarning)\n"
     ]
    },
    {
     "name": "stdout",
     "output_type": "stream",
     "text": [
      "[CV]  C=1, class_weight=None, penalty=l1, solver=lbfgs, score=0, total=   0.1s\n",
      "[CV] C=1, class_weight=None, penalty=l1, solver=lbfgs ................\n",
      "[CV]  C=1, class_weight=None, penalty=l1, solver=lbfgs, score=0, total=   0.1s\n",
      "[CV] C=1, class_weight=None, penalty=l1, solver=sag ..................\n",
      "[CV]  C=1, class_weight=None, penalty=l1, solver=sag, score=0, total=   0.1s\n",
      "[CV] C=1, class_weight=None, penalty=l1, solver=sag ..................\n"
     ]
    },
    {
     "name": "stderr",
     "output_type": "stream",
     "text": [
      "/anaconda3/lib/python3.6/site-packages/sklearn/model_selection/_validation.py:479: FitFailedWarning: Classifier fit failed. The score on this train-test partition for these parameters will be set to 0.000000. Details: \n",
      "ValueError('Solver lbfgs supports only l2 penalties, got l1 penalty.',)\n",
      "  \"Details: \\n%r\" % (error_score, e), FitFailedWarning)\n",
      "/anaconda3/lib/python3.6/site-packages/sklearn/model_selection/_validation.py:479: FitFailedWarning: Classifier fit failed. The score on this train-test partition for these parameters will be set to 0.000000. Details: \n",
      "ValueError('Solver sag supports only l2 penalties, got l1 penalty.',)\n",
      "  \"Details: \\n%r\" % (error_score, e), FitFailedWarning)\n",
      "/anaconda3/lib/python3.6/site-packages/sklearn/model_selection/_validation.py:479: FitFailedWarning: Classifier fit failed. The score on this train-test partition for these parameters will be set to 0.000000. Details: \n",
      "ValueError('Solver sag supports only l2 penalties, got l1 penalty.',)\n",
      "  \"Details: \\n%r\" % (error_score, e), FitFailedWarning)\n"
     ]
    },
    {
     "name": "stdout",
     "output_type": "stream",
     "text": [
      "[CV]  C=1, class_weight=None, penalty=l1, solver=sag, score=0, total=   0.1s\n",
      "[CV] C=1, class_weight=None, penalty=l1, solver=sag ..................\n",
      "[CV]  C=1, class_weight=None, penalty=l1, solver=sag, score=0, total=   0.1s\n",
      "[CV] C=1, class_weight=None, penalty=l1, solver=saga .................\n"
     ]
    },
    {
     "name": "stderr",
     "output_type": "stream",
     "text": [
      "/anaconda3/lib/python3.6/site-packages/sklearn/model_selection/_validation.py:479: FitFailedWarning: Classifier fit failed. The score on this train-test partition for these parameters will be set to 0.000000. Details: \n",
      "ValueError('Solver sag supports only l2 penalties, got l1 penalty.',)\n",
      "  \"Details: \\n%r\" % (error_score, e), FitFailedWarning)\n",
      "/anaconda3/lib/python3.6/site-packages/sklearn/linear_model/sag.py:326: ConvergenceWarning: The max_iter was reached which means the coef_ did not converge\n",
      "  \"the coef_ did not converge\", ConvergenceWarning)\n"
     ]
    },
    {
     "name": "stdout",
     "output_type": "stream",
     "text": [
      "[CV]  C=1, class_weight=None, penalty=l1, solver=saga, score=0.8445729278009911, total=  14.3s\n",
      "[CV] C=1, class_weight=None, penalty=l1, solver=saga .................\n"
     ]
    },
    {
     "name": "stderr",
     "output_type": "stream",
     "text": [
      "/anaconda3/lib/python3.6/site-packages/sklearn/linear_model/sag.py:326: ConvergenceWarning: The max_iter was reached which means the coef_ did not converge\n",
      "  \"the coef_ did not converge\", ConvergenceWarning)\n"
     ]
    },
    {
     "name": "stdout",
     "output_type": "stream",
     "text": [
      "[CV]  C=1, class_weight=None, penalty=l1, solver=saga, score=0.8437431674076233, total=  14.5s\n",
      "[CV] C=1, class_weight=None, penalty=l1, solver=saga .................\n"
     ]
    },
    {
     "name": "stderr",
     "output_type": "stream",
     "text": [
      "/anaconda3/lib/python3.6/site-packages/sklearn/linear_model/sag.py:326: ConvergenceWarning: The max_iter was reached which means the coef_ did not converge\n",
      "  \"the coef_ did not converge\", ConvergenceWarning)\n"
     ]
    },
    {
     "name": "stdout",
     "output_type": "stream",
     "text": [
      "[CV]  C=1, class_weight=None, penalty=l1, solver=saga, score=0.8442738448083184, total=  14.9s\n",
      "[CV] C=1, class_weight=None, penalty=l2, solver=liblinear ............\n",
      "[CV]  C=1, class_weight=None, penalty=l2, solver=liblinear, score=0.8445486347293751, total=   1.0s\n",
      "[CV] C=1, class_weight=None, penalty=l2, solver=liblinear ............\n",
      "[CV]  C=1, class_weight=None, penalty=l2, solver=liblinear, score=0.843767461069407, total=   1.1s\n",
      "[CV] C=1, class_weight=None, penalty=l2, solver=liblinear ............\n",
      "[CV]  C=1, class_weight=None, penalty=l2, solver=liblinear, score=0.8443224333122783, total=   1.3s\n",
      "[CV] C=1, class_weight=None, penalty=l2, solver=newton-cg ............\n",
      "[CV]  C=1, class_weight=None, penalty=l2, solver=newton-cg, score=0.8445486347293751, total=   3.2s\n",
      "[CV] C=1, class_weight=None, penalty=l2, solver=newton-cg ............\n",
      "[CV]  C=1, class_weight=None, penalty=l2, solver=newton-cg, score=0.843767461069407, total=   3.0s\n",
      "[CV] C=1, class_weight=None, penalty=l2, solver=newton-cg ............\n",
      "[CV]  C=1, class_weight=None, penalty=l2, solver=newton-cg, score=0.8443467275642583, total=   3.1s\n",
      "[CV] C=1, class_weight=None, penalty=l2, solver=lbfgs ................\n",
      "[CV]  C=1, class_weight=None, penalty=l2, solver=lbfgs, score=0.8445729278009911, total=   0.8s\n",
      "[CV] C=1, class_weight=None, penalty=l2, solver=lbfgs ................\n",
      "[CV]  C=1, class_weight=None, penalty=l2, solver=lbfgs, score=0.843767461069407, total=   0.8s\n",
      "[CV] C=1, class_weight=None, penalty=l2, solver=lbfgs ................\n",
      "[CV]  C=1, class_weight=None, penalty=l2, solver=lbfgs, score=0.8443467275642583, total=   0.8s\n",
      "[CV] C=1, class_weight=None, penalty=l2, solver=sag ..................\n"
     ]
    },
    {
     "name": "stderr",
     "output_type": "stream",
     "text": [
      "/anaconda3/lib/python3.6/site-packages/sklearn/linear_model/sag.py:326: ConvergenceWarning: The max_iter was reached which means the coef_ did not converge\n",
      "  \"the coef_ did not converge\", ConvergenceWarning)\n"
     ]
    },
    {
     "name": "stdout",
     "output_type": "stream",
     "text": [
      "[CV]  C=1, class_weight=None, penalty=l2, solver=sag, score=0.8445243416577592, total=  11.2s\n",
      "[CV] C=1, class_weight=None, penalty=l2, solver=sag ..................\n"
     ]
    },
    {
     "name": "stderr",
     "output_type": "stream",
     "text": [
      "/anaconda3/lib/python3.6/site-packages/sklearn/linear_model/sag.py:326: ConvergenceWarning: The max_iter was reached which means the coef_ did not converge\n",
      "  \"the coef_ did not converge\", ConvergenceWarning)\n"
     ]
    },
    {
     "name": "stdout",
     "output_type": "stream",
     "text": [
      "[CV]  C=1, class_weight=None, penalty=l2, solver=sag, score=0.843767461069407, total=  11.3s\n",
      "[CV] C=1, class_weight=None, penalty=l2, solver=sag ..................\n"
     ]
    },
    {
     "name": "stderr",
     "output_type": "stream",
     "text": [
      "/anaconda3/lib/python3.6/site-packages/sklearn/linear_model/sag.py:326: ConvergenceWarning: The max_iter was reached which means the coef_ did not converge\n",
      "  \"the coef_ did not converge\", ConvergenceWarning)\n"
     ]
    },
    {
     "name": "stdout",
     "output_type": "stream",
     "text": [
      "[CV]  C=1, class_weight=None, penalty=l2, solver=sag, score=0.8443467275642583, total=  11.3s\n",
      "[CV] C=1, class_weight=None, penalty=l2, solver=saga .................\n"
     ]
    },
    {
     "name": "stderr",
     "output_type": "stream",
     "text": [
      "/anaconda3/lib/python3.6/site-packages/sklearn/linear_model/sag.py:326: ConvergenceWarning: The max_iter was reached which means the coef_ did not converge\n",
      "  \"the coef_ did not converge\", ConvergenceWarning)\n"
     ]
    },
    {
     "name": "stdout",
     "output_type": "stream",
     "text": [
      "[CV]  C=1, class_weight=None, penalty=l2, solver=saga, score=0.8445729278009911, total=  10.9s\n",
      "[CV] C=1, class_weight=None, penalty=l2, solver=saga .................\n"
     ]
    },
    {
     "name": "stderr",
     "output_type": "stream",
     "text": [
      "/anaconda3/lib/python3.6/site-packages/sklearn/linear_model/sag.py:326: ConvergenceWarning: The max_iter was reached which means the coef_ did not converge\n",
      "  \"the coef_ did not converge\", ConvergenceWarning)\n"
     ]
    },
    {
     "name": "stdout",
     "output_type": "stream",
     "text": [
      "[CV]  C=1, class_weight=None, penalty=l2, solver=saga, score=0.8435488181133542, total=  11.6s\n",
      "[CV] C=1, class_weight=None, penalty=l2, solver=saga .................\n"
     ]
    },
    {
     "name": "stderr",
     "output_type": "stream",
     "text": [
      "/anaconda3/lib/python3.6/site-packages/sklearn/linear_model/sag.py:326: ConvergenceWarning: The max_iter was reached which means the coef_ did not converge\n",
      "  \"the coef_ did not converge\", ConvergenceWarning)\n"
     ]
    },
    {
     "name": "stdout",
     "output_type": "stream",
     "text": [
      "[CV]  C=1, class_weight=None, penalty=l2, solver=saga, score=0.8442981390602984, total=  11.0s\n",
      "[CV] C=1, class_weight=balanced, penalty=l1, solver=liblinear ........\n",
      "[CV]  C=1, class_weight=balanced, penalty=l1, solver=liblinear, score=0.6339762899621028, total=  11.6s\n",
      "[CV] C=1, class_weight=balanced, penalty=l1, solver=liblinear ........\n",
      "[CV]  C=1, class_weight=balanced, penalty=l1, solver=liblinear, score=0.6437577436046935, total=  13.2s\n",
      "[CV] C=1, class_weight=balanced, penalty=l1, solver=liblinear ........\n",
      "[CV]  C=1, class_weight=balanced, penalty=l1, solver=liblinear, score=0.6405422477041932, total=  15.1s\n",
      "[CV] C=1, class_weight=balanced, penalty=l1, solver=newton-cg ........\n",
      "[CV]  C=1, class_weight=balanced, penalty=l1, solver=newton-cg, score=0, total=   0.1s\n",
      "[CV] C=1, class_weight=balanced, penalty=l1, solver=newton-cg ........\n"
     ]
    },
    {
     "name": "stderr",
     "output_type": "stream",
     "text": [
      "/anaconda3/lib/python3.6/site-packages/sklearn/model_selection/_validation.py:479: FitFailedWarning: Classifier fit failed. The score on this train-test partition for these parameters will be set to 0.000000. Details: \n",
      "ValueError('Solver newton-cg supports only l2 penalties, got l1 penalty.',)\n",
      "  \"Details: \\n%r\" % (error_score, e), FitFailedWarning)\n",
      "/anaconda3/lib/python3.6/site-packages/sklearn/model_selection/_validation.py:479: FitFailedWarning: Classifier fit failed. The score on this train-test partition for these parameters will be set to 0.000000. Details: \n",
      "ValueError('Solver newton-cg supports only l2 penalties, got l1 penalty.',)\n",
      "  \"Details: \\n%r\" % (error_score, e), FitFailedWarning)\n",
      "/anaconda3/lib/python3.6/site-packages/sklearn/model_selection/_validation.py:479: FitFailedWarning: Classifier fit failed. The score on this train-test partition for these parameters will be set to 0.000000. Details: \n",
      "ValueError('Solver newton-cg supports only l2 penalties, got l1 penalty.',)\n",
      "  \"Details: \\n%r\" % (error_score, e), FitFailedWarning)\n"
     ]
    },
    {
     "name": "stdout",
     "output_type": "stream",
     "text": [
      "[CV]  C=1, class_weight=balanced, penalty=l1, solver=newton-cg, score=0, total=   0.1s\n",
      "[CV] C=1, class_weight=balanced, penalty=l1, solver=newton-cg ........\n",
      "[CV]  C=1, class_weight=balanced, penalty=l1, solver=newton-cg, score=0, total=   0.1s\n",
      "[CV] C=1, class_weight=balanced, penalty=l1, solver=lbfgs ............\n",
      "[CV]  C=1, class_weight=balanced, penalty=l1, solver=lbfgs, score=0, total=   0.1s\n",
      "[CV] C=1, class_weight=balanced, penalty=l1, solver=lbfgs ............\n"
     ]
    },
    {
     "name": "stderr",
     "output_type": "stream",
     "text": [
      "/anaconda3/lib/python3.6/site-packages/sklearn/model_selection/_validation.py:479: FitFailedWarning: Classifier fit failed. The score on this train-test partition for these parameters will be set to 0.000000. Details: \n",
      "ValueError('Solver lbfgs supports only l2 penalties, got l1 penalty.',)\n",
      "  \"Details: \\n%r\" % (error_score, e), FitFailedWarning)\n",
      "/anaconda3/lib/python3.6/site-packages/sklearn/model_selection/_validation.py:479: FitFailedWarning: Classifier fit failed. The score on this train-test partition for these parameters will be set to 0.000000. Details: \n",
      "ValueError('Solver lbfgs supports only l2 penalties, got l1 penalty.',)\n",
      "  \"Details: \\n%r\" % (error_score, e), FitFailedWarning)\n",
      "/anaconda3/lib/python3.6/site-packages/sklearn/model_selection/_validation.py:479: FitFailedWarning: Classifier fit failed. The score on this train-test partition for these parameters will be set to 0.000000. Details: \n",
      "ValueError('Solver lbfgs supports only l2 penalties, got l1 penalty.',)\n",
      "  \"Details: \\n%r\" % (error_score, e), FitFailedWarning)\n"
     ]
    },
    {
     "name": "stdout",
     "output_type": "stream",
     "text": [
      "[CV]  C=1, class_weight=balanced, penalty=l1, solver=lbfgs, score=0, total=   0.1s\n",
      "[CV] C=1, class_weight=balanced, penalty=l1, solver=lbfgs ............\n",
      "[CV]  C=1, class_weight=balanced, penalty=l1, solver=lbfgs, score=0, total=   0.1s\n",
      "[CV] C=1, class_weight=balanced, penalty=l1, solver=sag ..............\n",
      "[CV]  C=1, class_weight=balanced, penalty=l1, solver=sag, score=0, total=   0.1s\n",
      "[CV] C=1, class_weight=balanced, penalty=l1, solver=sag ..............\n"
     ]
    },
    {
     "name": "stderr",
     "output_type": "stream",
     "text": [
      "/anaconda3/lib/python3.6/site-packages/sklearn/model_selection/_validation.py:479: FitFailedWarning: Classifier fit failed. The score on this train-test partition for these parameters will be set to 0.000000. Details: \n",
      "ValueError('Solver sag supports only l2 penalties, got l1 penalty.',)\n",
      "  \"Details: \\n%r\" % (error_score, e), FitFailedWarning)\n",
      "/anaconda3/lib/python3.6/site-packages/sklearn/model_selection/_validation.py:479: FitFailedWarning: Classifier fit failed. The score on this train-test partition for these parameters will be set to 0.000000. Details: \n",
      "ValueError('Solver sag supports only l2 penalties, got l1 penalty.',)\n",
      "  \"Details: \\n%r\" % (error_score, e), FitFailedWarning)\n",
      "/anaconda3/lib/python3.6/site-packages/sklearn/model_selection/_validation.py:479: FitFailedWarning: Classifier fit failed. The score on this train-test partition for these parameters will be set to 0.000000. Details: \n",
      "ValueError('Solver sag supports only l2 penalties, got l1 penalty.',)\n",
      "  \"Details: \\n%r\" % (error_score, e), FitFailedWarning)\n"
     ]
    },
    {
     "name": "stdout",
     "output_type": "stream",
     "text": [
      "[CV]  C=1, class_weight=balanced, penalty=l1, solver=sag, score=0, total=   0.1s\n",
      "[CV] C=1, class_weight=balanced, penalty=l1, solver=sag ..............\n",
      "[CV]  C=1, class_weight=balanced, penalty=l1, solver=sag, score=0, total=   0.1s\n",
      "[CV] C=1, class_weight=balanced, penalty=l1, solver=saga .............\n"
     ]
    },
    {
     "name": "stderr",
     "output_type": "stream",
     "text": [
      "/anaconda3/lib/python3.6/site-packages/sklearn/linear_model/sag.py:326: ConvergenceWarning: The max_iter was reached which means the coef_ did not converge\n",
      "  \"the coef_ did not converge\", ConvergenceWarning)\n"
     ]
    },
    {
     "name": "stdout",
     "output_type": "stream",
     "text": [
      "[CV]  C=1, class_weight=balanced, penalty=l1, solver=saga, score=0.6341949276066465, total=  12.5s\n",
      "[CV] C=1, class_weight=balanced, penalty=l1, solver=saga .............\n"
     ]
    },
    {
     "name": "stderr",
     "output_type": "stream",
     "text": [
      "/anaconda3/lib/python3.6/site-packages/sklearn/linear_model/sag.py:326: ConvergenceWarning: The max_iter was reached which means the coef_ did not converge\n",
      "  \"the coef_ did not converge\", ConvergenceWarning)\n"
     ]
    },
    {
     "name": "stdout",
     "output_type": "stream",
     "text": [
      "[CV]  C=1, class_weight=balanced, penalty=l1, solver=saga, score=0.6440978548696645, total=  13.4s\n",
      "[CV] C=1, class_weight=balanced, penalty=l1, solver=saga .............\n"
     ]
    },
    {
     "name": "stderr",
     "output_type": "stream",
     "text": [
      "/anaconda3/lib/python3.6/site-packages/sklearn/linear_model/sag.py:326: ConvergenceWarning: The max_iter was reached which means the coef_ did not converge\n",
      "  \"the coef_ did not converge\", ConvergenceWarning)\n"
     ]
    },
    {
     "name": "stdout",
     "output_type": "stream",
     "text": [
      "[CV]  C=1, class_weight=balanced, penalty=l1, solver=saga, score=0.6404207764442933, total=  14.2s\n",
      "[CV] C=1, class_weight=balanced, penalty=l2, solver=liblinear ........\n",
      "[CV]  C=1, class_weight=balanced, penalty=l2, solver=liblinear, score=0.6335633077446312, total=   2.0s\n",
      "[CV] C=1, class_weight=balanced, penalty=l2, solver=liblinear ........\n",
      "[CV]  C=1, class_weight=balanced, penalty=l2, solver=liblinear, score=0.6435633943104244, total=   2.3s\n",
      "[CV] C=1, class_weight=balanced, penalty=l2, solver=liblinear ........\n",
      "[CV]  C=1, class_weight=balanced, penalty=l2, solver=liblinear, score=0.6406151304601332, total=   1.9s\n",
      "[CV] C=1, class_weight=balanced, penalty=l2, solver=newton-cg ........\n",
      "[CV]  C=1, class_weight=balanced, penalty=l2, solver=newton-cg, score=0.6335390146730152, total=   4.4s\n",
      "[CV] C=1, class_weight=balanced, penalty=l2, solver=newton-cg ........\n",
      "[CV]  C=1, class_weight=balanced, penalty=l2, solver=newton-cg, score=0.6435633943104244, total=   3.6s\n",
      "[CV] C=1, class_weight=balanced, penalty=l2, solver=newton-cg ........\n",
      "[CV]  C=1, class_weight=balanced, penalty=l2, solver=newton-cg, score=0.6406151304601332, total=   3.9s\n",
      "[CV] C=1, class_weight=balanced, penalty=l2, solver=lbfgs ............\n",
      "[CV]  C=1, class_weight=balanced, penalty=l2, solver=lbfgs, score=0.6335876008162472, total=   0.9s\n",
      "[CV] C=1, class_weight=balanced, penalty=l2, solver=lbfgs ............\n",
      "[CV]  C=1, class_weight=balanced, penalty=l2, solver=lbfgs, score=0.643320457692588, total=   0.9s\n",
      "[CV] C=1, class_weight=balanced, penalty=l2, solver=lbfgs ............\n",
      "[CV]  C=1, class_weight=balanced, penalty=l2, solver=lbfgs, score=0.640736601720033, total=   0.9s\n",
      "[CV] C=1, class_weight=balanced, penalty=l2, solver=sag ..............\n"
     ]
    },
    {
     "name": "stderr",
     "output_type": "stream",
     "text": [
      "/anaconda3/lib/python3.6/site-packages/sklearn/linear_model/sag.py:326: ConvergenceWarning: The max_iter was reached which means the coef_ did not converge\n",
      "  \"the coef_ did not converge\", ConvergenceWarning)\n"
     ]
    },
    {
     "name": "stdout",
     "output_type": "stream",
     "text": [
      "[CV]  C=1, class_weight=balanced, penalty=l2, solver=sag, score=0.633757652317559, total=  10.9s\n",
      "[CV] C=1, class_weight=balanced, penalty=l2, solver=sag ..............\n"
     ]
    },
    {
     "name": "stderr",
     "output_type": "stream",
     "text": [
      "/anaconda3/lib/python3.6/site-packages/sklearn/linear_model/sag.py:326: ConvergenceWarning: The max_iter was reached which means the coef_ did not converge\n",
      "  \"the coef_ did not converge\", ConvergenceWarning)\n"
     ]
    },
    {
     "name": "stdout",
     "output_type": "stream",
     "text": [
      "[CV]  C=1, class_weight=balanced, penalty=l2, solver=sag, score=0.6439520928989627, total=  11.0s\n",
      "[CV] C=1, class_weight=balanced, penalty=l2, solver=sag ..............\n"
     ]
    },
    {
     "name": "stderr",
     "output_type": "stream",
     "text": [
      "/anaconda3/lib/python3.6/site-packages/sklearn/linear_model/sag.py:326: ConvergenceWarning: The max_iter was reached which means the coef_ did not converge\n",
      "  \"the coef_ did not converge\", ConvergenceWarning)\n"
     ]
    },
    {
     "name": "stdout",
     "output_type": "stream",
     "text": [
      "[CV]  C=1, class_weight=balanced, penalty=l2, solver=sag, score=0.6406151304601332, total=  11.1s\n",
      "[CV] C=1, class_weight=balanced, penalty=l2, solver=saga .............\n"
     ]
    },
    {
     "name": "stderr",
     "output_type": "stream",
     "text": [
      "/anaconda3/lib/python3.6/site-packages/sklearn/linear_model/sag.py:326: ConvergenceWarning: The max_iter was reached which means the coef_ did not converge\n",
      "  \"the coef_ did not converge\", ConvergenceWarning)\n"
     ]
    },
    {
     "name": "stdout",
     "output_type": "stream",
     "text": [
      "[CV]  C=1, class_weight=balanced, penalty=l2, solver=saga, score=0.633781945389175, total=  11.4s\n",
      "[CV] C=1, class_weight=balanced, penalty=l2, solver=saga .............\n"
     ]
    },
    {
     "name": "stderr",
     "output_type": "stream",
     "text": [
      "/anaconda3/lib/python3.6/site-packages/sklearn/linear_model/sag.py:326: ConvergenceWarning: The max_iter was reached which means the coef_ did not converge\n",
      "  \"the coef_ did not converge\", ConvergenceWarning)\n"
     ]
    },
    {
     "name": "stdout",
     "output_type": "stream",
     "text": [
      "[CV]  C=1, class_weight=balanced, penalty=l2, solver=saga, score=0.6450453076792265, total=  11.7s\n",
      "[CV] C=1, class_weight=balanced, penalty=l2, solver=saga .............\n"
     ]
    },
    {
     "name": "stderr",
     "output_type": "stream",
     "text": [
      "/anaconda3/lib/python3.6/site-packages/sklearn/linear_model/sag.py:326: ConvergenceWarning: The max_iter was reached which means the coef_ did not converge\n",
      "  \"the coef_ did not converge\", ConvergenceWarning)\n"
     ]
    },
    {
     "name": "stdout",
     "output_type": "stream",
     "text": [
      "[CV]  C=1, class_weight=balanced, penalty=l2, solver=saga, score=0.6412467810116127, total=  11.5s\n",
      "[CV] C=5, class_weight=None, penalty=l1, solver=liblinear ............\n",
      "[CV]  C=5, class_weight=None, penalty=l1, solver=liblinear, score=0.8445729278009911, total=  12.9s\n",
      "[CV] C=5, class_weight=None, penalty=l1, solver=liblinear ............\n",
      "[CV]  C=5, class_weight=None, penalty=l1, solver=liblinear, score=0.843767461069407, total=   2.6s\n",
      "[CV] C=5, class_weight=None, penalty=l1, solver=liblinear ............\n",
      "[CV]  C=5, class_weight=None, penalty=l1, solver=liblinear, score=0.8443224333122783, total=   1.9s\n",
      "[CV] C=5, class_weight=None, penalty=l1, solver=newton-cg ............\n",
      "[CV]  C=5, class_weight=None, penalty=l1, solver=newton-cg, score=0, total=   0.1s\n",
      "[CV] C=5, class_weight=None, penalty=l1, solver=newton-cg ............\n"
     ]
    },
    {
     "name": "stderr",
     "output_type": "stream",
     "text": [
      "/anaconda3/lib/python3.6/site-packages/sklearn/model_selection/_validation.py:479: FitFailedWarning: Classifier fit failed. The score on this train-test partition for these parameters will be set to 0.000000. Details: \n",
      "ValueError('Solver newton-cg supports only l2 penalties, got l1 penalty.',)\n",
      "  \"Details: \\n%r\" % (error_score, e), FitFailedWarning)\n",
      "/anaconda3/lib/python3.6/site-packages/sklearn/model_selection/_validation.py:479: FitFailedWarning: Classifier fit failed. The score on this train-test partition for these parameters will be set to 0.000000. Details: \n",
      "ValueError('Solver newton-cg supports only l2 penalties, got l1 penalty.',)\n",
      "  \"Details: \\n%r\" % (error_score, e), FitFailedWarning)\n",
      "/anaconda3/lib/python3.6/site-packages/sklearn/model_selection/_validation.py:479: FitFailedWarning: Classifier fit failed. The score on this train-test partition for these parameters will be set to 0.000000. Details: \n",
      "ValueError('Solver newton-cg supports only l2 penalties, got l1 penalty.',)\n",
      "  \"Details: \\n%r\" % (error_score, e), FitFailedWarning)\n"
     ]
    },
    {
     "name": "stdout",
     "output_type": "stream",
     "text": [
      "[CV]  C=5, class_weight=None, penalty=l1, solver=newton-cg, score=0, total=   0.1s\n",
      "[CV] C=5, class_weight=None, penalty=l1, solver=newton-cg ............\n",
      "[CV]  C=5, class_weight=None, penalty=l1, solver=newton-cg, score=0, total=   0.1s\n",
      "[CV] C=5, class_weight=None, penalty=l1, solver=lbfgs ................\n",
      "[CV]  C=5, class_weight=None, penalty=l1, solver=lbfgs, score=0, total=   0.1s\n",
      "[CV] C=5, class_weight=None, penalty=l1, solver=lbfgs ................\n"
     ]
    },
    {
     "name": "stderr",
     "output_type": "stream",
     "text": [
      "/anaconda3/lib/python3.6/site-packages/sklearn/model_selection/_validation.py:479: FitFailedWarning: Classifier fit failed. The score on this train-test partition for these parameters will be set to 0.000000. Details: \n",
      "ValueError('Solver lbfgs supports only l2 penalties, got l1 penalty.',)\n",
      "  \"Details: \\n%r\" % (error_score, e), FitFailedWarning)\n",
      "/anaconda3/lib/python3.6/site-packages/sklearn/model_selection/_validation.py:479: FitFailedWarning: Classifier fit failed. The score on this train-test partition for these parameters will be set to 0.000000. Details: \n",
      "ValueError('Solver lbfgs supports only l2 penalties, got l1 penalty.',)\n",
      "  \"Details: \\n%r\" % (error_score, e), FitFailedWarning)\n",
      "/anaconda3/lib/python3.6/site-packages/sklearn/model_selection/_validation.py:479: FitFailedWarning: Classifier fit failed. The score on this train-test partition for these parameters will be set to 0.000000. Details: \n",
      "ValueError('Solver lbfgs supports only l2 penalties, got l1 penalty.',)\n",
      "  \"Details: \\n%r\" % (error_score, e), FitFailedWarning)\n"
     ]
    },
    {
     "name": "stdout",
     "output_type": "stream",
     "text": [
      "[CV]  C=5, class_weight=None, penalty=l1, solver=lbfgs, score=0, total=   0.1s\n",
      "[CV] C=5, class_weight=None, penalty=l1, solver=lbfgs ................\n",
      "[CV]  C=5, class_weight=None, penalty=l1, solver=lbfgs, score=0, total=   0.1s\n",
      "[CV] C=5, class_weight=None, penalty=l1, solver=sag ..................\n",
      "[CV]  C=5, class_weight=None, penalty=l1, solver=sag, score=0, total=   0.1s\n",
      "[CV] C=5, class_weight=None, penalty=l1, solver=sag ..................\n"
     ]
    },
    {
     "name": "stderr",
     "output_type": "stream",
     "text": [
      "/anaconda3/lib/python3.6/site-packages/sklearn/model_selection/_validation.py:479: FitFailedWarning: Classifier fit failed. The score on this train-test partition for these parameters will be set to 0.000000. Details: \n",
      "ValueError('Solver sag supports only l2 penalties, got l1 penalty.',)\n",
      "  \"Details: \\n%r\" % (error_score, e), FitFailedWarning)\n",
      "/anaconda3/lib/python3.6/site-packages/sklearn/model_selection/_validation.py:479: FitFailedWarning: Classifier fit failed. The score on this train-test partition for these parameters will be set to 0.000000. Details: \n",
      "ValueError('Solver sag supports only l2 penalties, got l1 penalty.',)\n",
      "  \"Details: \\n%r\" % (error_score, e), FitFailedWarning)\n",
      "/anaconda3/lib/python3.6/site-packages/sklearn/model_selection/_validation.py:479: FitFailedWarning: Classifier fit failed. The score on this train-test partition for these parameters will be set to 0.000000. Details: \n",
      "ValueError('Solver sag supports only l2 penalties, got l1 penalty.',)\n",
      "  \"Details: \\n%r\" % (error_score, e), FitFailedWarning)\n"
     ]
    },
    {
     "name": "stdout",
     "output_type": "stream",
     "text": [
      "[CV]  C=5, class_weight=None, penalty=l1, solver=sag, score=0, total=   0.1s\n",
      "[CV] C=5, class_weight=None, penalty=l1, solver=sag ..................\n",
      "[CV]  C=5, class_weight=None, penalty=l1, solver=sag, score=0, total=   0.1s\n",
      "[CV] C=5, class_weight=None, penalty=l1, solver=saga .................\n"
     ]
    },
    {
     "name": "stderr",
     "output_type": "stream",
     "text": [
      "/anaconda3/lib/python3.6/site-packages/sklearn/linear_model/sag.py:326: ConvergenceWarning: The max_iter was reached which means the coef_ did not converge\n",
      "  \"the coef_ did not converge\", ConvergenceWarning)\n"
     ]
    },
    {
     "name": "stdout",
     "output_type": "stream",
     "text": [
      "[CV]  C=5, class_weight=None, penalty=l1, solver=saga, score=0.8445486347293751, total=  14.9s\n",
      "[CV] C=5, class_weight=None, penalty=l1, solver=saga .................\n"
     ]
    },
    {
     "name": "stderr",
     "output_type": "stream",
     "text": [
      "/anaconda3/lib/python3.6/site-packages/sklearn/linear_model/sag.py:326: ConvergenceWarning: The max_iter was reached which means the coef_ did not converge\n",
      "  \"the coef_ did not converge\", ConvergenceWarning)\n"
     ]
    },
    {
     "name": "stdout",
     "output_type": "stream",
     "text": [
      "[CV]  C=5, class_weight=None, penalty=l1, solver=saga, score=0.8437188737458398, total=  14.9s\n",
      "[CV] C=5, class_weight=None, penalty=l1, solver=saga .................\n"
     ]
    },
    {
     "name": "stderr",
     "output_type": "stream",
     "text": [
      "/anaconda3/lib/python3.6/site-packages/sklearn/linear_model/sag.py:326: ConvergenceWarning: The max_iter was reached which means the coef_ did not converge\n",
      "  \"the coef_ did not converge\", ConvergenceWarning)\n"
     ]
    },
    {
     "name": "stdout",
     "output_type": "stream",
     "text": [
      "[CV]  C=5, class_weight=None, penalty=l1, solver=saga, score=0.8443467275642583, total=  15.2s\n",
      "[CV] C=5, class_weight=None, penalty=l2, solver=liblinear ............\n",
      "[CV]  C=5, class_weight=None, penalty=l2, solver=liblinear, score=0.8445243416577592, total=   1.0s\n",
      "[CV] C=5, class_weight=None, penalty=l2, solver=liblinear ............\n",
      "[CV]  C=5, class_weight=None, penalty=l2, solver=liblinear, score=0.843767461069407, total=   2.3s\n",
      "[CV] C=5, class_weight=None, penalty=l2, solver=liblinear ............\n",
      "[CV]  C=5, class_weight=None, penalty=l2, solver=liblinear, score=0.8443224333122783, total=   2.0s\n",
      "[CV] C=5, class_weight=None, penalty=l2, solver=newton-cg ............\n",
      "[CV]  C=5, class_weight=None, penalty=l2, solver=newton-cg, score=0.8445243416577592, total=   4.0s\n",
      "[CV] C=5, class_weight=None, penalty=l2, solver=newton-cg ............\n",
      "[CV]  C=5, class_weight=None, penalty=l2, solver=newton-cg, score=0.843767461069407, total=   4.3s\n",
      "[CV] C=5, class_weight=None, penalty=l2, solver=newton-cg ............\n",
      "[CV]  C=5, class_weight=None, penalty=l2, solver=newton-cg, score=0.8443224333122783, total=   4.7s\n",
      "[CV] C=5, class_weight=None, penalty=l2, solver=lbfgs ................\n",
      "[CV]  C=5, class_weight=None, penalty=l2, solver=lbfgs, score=0.8445486347293751, total=   0.8s\n",
      "[CV] C=5, class_weight=None, penalty=l2, solver=lbfgs ................\n",
      "[CV]  C=5, class_weight=None, penalty=l2, solver=lbfgs, score=0.843767461069407, total=   0.8s\n",
      "[CV] C=5, class_weight=None, penalty=l2, solver=lbfgs ................\n",
      "[CV]  C=5, class_weight=None, penalty=l2, solver=lbfgs, score=0.8443467275642583, total=   0.8s\n",
      "[CV] C=5, class_weight=None, penalty=l2, solver=sag ..................\n"
     ]
    },
    {
     "name": "stderr",
     "output_type": "stream",
     "text": [
      "/anaconda3/lib/python3.6/site-packages/sklearn/linear_model/sag.py:326: ConvergenceWarning: The max_iter was reached which means the coef_ did not converge\n",
      "  \"the coef_ did not converge\", ConvergenceWarning)\n"
     ]
    },
    {
     "name": "stdout",
     "output_type": "stream",
     "text": [
      "[CV]  C=5, class_weight=None, penalty=l2, solver=sag, score=0.8445000485861432, total=  11.0s\n",
      "[CV] C=5, class_weight=None, penalty=l2, solver=sag ..................\n"
     ]
    },
    {
     "name": "stderr",
     "output_type": "stream",
     "text": [
      "/anaconda3/lib/python3.6/site-packages/sklearn/linear_model/sag.py:326: ConvergenceWarning: The max_iter was reached which means the coef_ did not converge\n",
      "  \"the coef_ did not converge\", ConvergenceWarning)\n"
     ]
    },
    {
     "name": "stdout",
     "output_type": "stream",
     "text": [
      "[CV]  C=5, class_weight=None, penalty=l2, solver=sag, score=0.8437431674076233, total=  10.7s\n",
      "[CV] C=5, class_weight=None, penalty=l2, solver=sag ..................\n"
     ]
    },
    {
     "name": "stderr",
     "output_type": "stream",
     "text": [
      "/anaconda3/lib/python3.6/site-packages/sklearn/linear_model/sag.py:326: ConvergenceWarning: The max_iter was reached which means the coef_ did not converge\n",
      "  \"the coef_ did not converge\", ConvergenceWarning)\n"
     ]
    },
    {
     "name": "stdout",
     "output_type": "stream",
     "text": [
      "[CV]  C=5, class_weight=None, penalty=l2, solver=sag, score=0.8443467275642583, total=  10.4s\n",
      "[CV] C=5, class_weight=None, penalty=l2, solver=saga .................\n"
     ]
    },
    {
     "name": "stderr",
     "output_type": "stream",
     "text": [
      "/anaconda3/lib/python3.6/site-packages/sklearn/linear_model/sag.py:326: ConvergenceWarning: The max_iter was reached which means the coef_ did not converge\n",
      "  \"the coef_ did not converge\", ConvergenceWarning)\n"
     ]
    },
    {
     "name": "stdout",
     "output_type": "stream",
     "text": [
      "[CV]  C=5, class_weight=None, penalty=l2, solver=saga, score=0.8445729278009911, total=  11.2s\n",
      "[CV] C=5, class_weight=None, penalty=l2, solver=saga .................\n"
     ]
    },
    {
     "name": "stderr",
     "output_type": "stream",
     "text": [
      "/anaconda3/lib/python3.6/site-packages/sklearn/linear_model/sag.py:326: ConvergenceWarning: The max_iter was reached which means the coef_ did not converge\n",
      "  \"the coef_ did not converge\", ConvergenceWarning)\n"
     ]
    },
    {
     "name": "stdout",
     "output_type": "stream",
     "text": [
      "[CV]  C=5, class_weight=None, penalty=l2, solver=saga, score=0.8435488181133542, total=  11.4s\n",
      "[CV] C=5, class_weight=None, penalty=l2, solver=saga .................\n"
     ]
    },
    {
     "name": "stderr",
     "output_type": "stream",
     "text": [
      "/anaconda3/lib/python3.6/site-packages/sklearn/linear_model/sag.py:326: ConvergenceWarning: The max_iter was reached which means the coef_ did not converge\n",
      "  \"the coef_ did not converge\", ConvergenceWarning)\n"
     ]
    },
    {
     "name": "stdout",
     "output_type": "stream",
     "text": [
      "[CV]  C=5, class_weight=None, penalty=l2, solver=saga, score=0.8442738448083184, total=  11.5s\n",
      "[CV] C=5, class_weight=balanced, penalty=l1, solver=liblinear ........\n",
      "[CV]  C=5, class_weight=balanced, penalty=l1, solver=liblinear, score=0.6335876008162472, total=  24.1s\n",
      "[CV] C=5, class_weight=balanced, penalty=l1, solver=liblinear ........\n",
      "[CV]  C=5, class_weight=balanced, penalty=l1, solver=liblinear, score=0.6436848626193427, total=   8.2s\n",
      "[CV] C=5, class_weight=balanced, penalty=l1, solver=liblinear ........\n",
      "[CV]  C=5, class_weight=balanced, penalty=l1, solver=liblinear, score=0.6406637189640931, total=  18.7s\n",
      "[CV] C=5, class_weight=balanced, penalty=l1, solver=newton-cg ........\n",
      "[CV]  C=5, class_weight=balanced, penalty=l1, solver=newton-cg, score=0, total=   0.1s\n",
      "[CV] C=5, class_weight=balanced, penalty=l1, solver=newton-cg ........\n"
     ]
    },
    {
     "name": "stderr",
     "output_type": "stream",
     "text": [
      "/anaconda3/lib/python3.6/site-packages/sklearn/model_selection/_validation.py:479: FitFailedWarning: Classifier fit failed. The score on this train-test partition for these parameters will be set to 0.000000. Details: \n",
      "ValueError('Solver newton-cg supports only l2 penalties, got l1 penalty.',)\n",
      "  \"Details: \\n%r\" % (error_score, e), FitFailedWarning)\n",
      "/anaconda3/lib/python3.6/site-packages/sklearn/model_selection/_validation.py:479: FitFailedWarning: Classifier fit failed. The score on this train-test partition for these parameters will be set to 0.000000. Details: \n",
      "ValueError('Solver newton-cg supports only l2 penalties, got l1 penalty.',)\n",
      "  \"Details: \\n%r\" % (error_score, e), FitFailedWarning)\n",
      "/anaconda3/lib/python3.6/site-packages/sklearn/model_selection/_validation.py:479: FitFailedWarning: Classifier fit failed. The score on this train-test partition for these parameters will be set to 0.000000. Details: \n",
      "ValueError('Solver newton-cg supports only l2 penalties, got l1 penalty.',)\n",
      "  \"Details: \\n%r\" % (error_score, e), FitFailedWarning)\n"
     ]
    },
    {
     "name": "stdout",
     "output_type": "stream",
     "text": [
      "[CV]  C=5, class_weight=balanced, penalty=l1, solver=newton-cg, score=0, total=   0.1s\n",
      "[CV] C=5, class_weight=balanced, penalty=l1, solver=newton-cg ........\n",
      "[CV]  C=5, class_weight=balanced, penalty=l1, solver=newton-cg, score=0, total=   0.1s\n",
      "[CV] C=5, class_weight=balanced, penalty=l1, solver=lbfgs ............\n",
      "[CV]  C=5, class_weight=balanced, penalty=l1, solver=lbfgs, score=0, total=   0.1s\n",
      "[CV] C=5, class_weight=balanced, penalty=l1, solver=lbfgs ............\n"
     ]
    },
    {
     "name": "stderr",
     "output_type": "stream",
     "text": [
      "/anaconda3/lib/python3.6/site-packages/sklearn/model_selection/_validation.py:479: FitFailedWarning: Classifier fit failed. The score on this train-test partition for these parameters will be set to 0.000000. Details: \n",
      "ValueError('Solver lbfgs supports only l2 penalties, got l1 penalty.',)\n",
      "  \"Details: \\n%r\" % (error_score, e), FitFailedWarning)\n",
      "/anaconda3/lib/python3.6/site-packages/sklearn/model_selection/_validation.py:479: FitFailedWarning: Classifier fit failed. The score on this train-test partition for these parameters will be set to 0.000000. Details: \n",
      "ValueError('Solver lbfgs supports only l2 penalties, got l1 penalty.',)\n",
      "  \"Details: \\n%r\" % (error_score, e), FitFailedWarning)\n"
     ]
    },
    {
     "name": "stdout",
     "output_type": "stream",
     "text": [
      "[CV]  C=5, class_weight=balanced, penalty=l1, solver=lbfgs, score=0, total=   0.1s\n",
      "[CV] C=5, class_weight=balanced, penalty=l1, solver=lbfgs ............\n",
      "[CV]  C=5, class_weight=balanced, penalty=l1, solver=lbfgs, score=0, total=   0.1s\n",
      "[CV] C=5, class_weight=balanced, penalty=l1, solver=sag ..............\n",
      "[CV]  C=5, class_weight=balanced, penalty=l1, solver=sag, score=0, total=   0.1s\n",
      "[CV] C=5, class_weight=balanced, penalty=l1, solver=sag ..............\n"
     ]
    },
    {
     "name": "stderr",
     "output_type": "stream",
     "text": [
      "/anaconda3/lib/python3.6/site-packages/sklearn/model_selection/_validation.py:479: FitFailedWarning: Classifier fit failed. The score on this train-test partition for these parameters will be set to 0.000000. Details: \n",
      "ValueError('Solver lbfgs supports only l2 penalties, got l1 penalty.',)\n",
      "  \"Details: \\n%r\" % (error_score, e), FitFailedWarning)\n",
      "/anaconda3/lib/python3.6/site-packages/sklearn/model_selection/_validation.py:479: FitFailedWarning: Classifier fit failed. The score on this train-test partition for these parameters will be set to 0.000000. Details: \n",
      "ValueError('Solver sag supports only l2 penalties, got l1 penalty.',)\n",
      "  \"Details: \\n%r\" % (error_score, e), FitFailedWarning)\n",
      "/anaconda3/lib/python3.6/site-packages/sklearn/model_selection/_validation.py:479: FitFailedWarning: Classifier fit failed. The score on this train-test partition for these parameters will be set to 0.000000. Details: \n",
      "ValueError('Solver sag supports only l2 penalties, got l1 penalty.',)\n",
      "  \"Details: \\n%r\" % (error_score, e), FitFailedWarning)\n"
     ]
    },
    {
     "name": "stdout",
     "output_type": "stream",
     "text": [
      "[CV]  C=5, class_weight=balanced, penalty=l1, solver=sag, score=0, total=   0.1s\n",
      "[CV] C=5, class_weight=balanced, penalty=l1, solver=sag ..............\n",
      "[CV]  C=5, class_weight=balanced, penalty=l1, solver=sag, score=0, total=   0.1s\n",
      "[CV] C=5, class_weight=balanced, penalty=l1, solver=saga .............\n"
     ]
    },
    {
     "name": "stderr",
     "output_type": "stream",
     "text": [
      "/anaconda3/lib/python3.6/site-packages/sklearn/model_selection/_validation.py:479: FitFailedWarning: Classifier fit failed. The score on this train-test partition for these parameters will be set to 0.000000. Details: \n",
      "ValueError('Solver sag supports only l2 penalties, got l1 penalty.',)\n",
      "  \"Details: \\n%r\" % (error_score, e), FitFailedWarning)\n",
      "/anaconda3/lib/python3.6/site-packages/sklearn/linear_model/sag.py:326: ConvergenceWarning: The max_iter was reached which means the coef_ did not converge\n",
      "  \"the coef_ did not converge\", ConvergenceWarning)\n"
     ]
    },
    {
     "name": "stdout",
     "output_type": "stream",
     "text": [
      "[CV]  C=5, class_weight=balanced, penalty=l1, solver=saga, score=0.6336847731027111, total=  14.3s\n",
      "[CV] C=5, class_weight=balanced, penalty=l1, solver=saga .............\n"
     ]
    },
    {
     "name": "stderr",
     "output_type": "stream",
     "text": [
      "/anaconda3/lib/python3.6/site-packages/sklearn/linear_model/sag.py:326: ConvergenceWarning: The max_iter was reached which means the coef_ did not converge\n",
      "  \"the coef_ did not converge\", ConvergenceWarning)\n"
     ]
    },
    {
     "name": "stdout",
     "output_type": "stream",
     "text": [
      "[CV]  C=5, class_weight=balanced, penalty=l1, solver=saga, score=0.6439763865607463, total=  15.1s\n",
      "[CV] C=5, class_weight=balanced, penalty=l1, solver=saga .............\n"
     ]
    },
    {
     "name": "stderr",
     "output_type": "stream",
     "text": [
      "/anaconda3/lib/python3.6/site-packages/sklearn/linear_model/sag.py:326: ConvergenceWarning: The max_iter was reached which means the coef_ did not converge\n",
      "  \"the coef_ did not converge\", ConvergenceWarning)\n"
     ]
    },
    {
     "name": "stdout",
     "output_type": "stream",
     "text": [
      "[CV]  C=5, class_weight=balanced, penalty=l1, solver=saga, score=0.6406394247121131, total=  15.1s\n",
      "[CV] C=5, class_weight=balanced, penalty=l2, solver=liblinear ........\n",
      "[CV]  C=5, class_weight=balanced, penalty=l2, solver=liblinear, score=0.6335633077446312, total=   2.7s\n",
      "[CV] C=5, class_weight=balanced, penalty=l2, solver=liblinear ........\n",
      "[CV]  C=5, class_weight=balanced, penalty=l2, solver=liblinear, score=0.6435391006486407, total=   2.5s\n",
      "[CV] C=5, class_weight=balanced, penalty=l2, solver=liblinear ........\n",
      "[CV]  C=5, class_weight=balanced, penalty=l2, solver=liblinear, score=0.6404450706962732, total=   2.9s\n",
      "[CV] C=5, class_weight=balanced, penalty=l2, solver=newton-cg ........\n",
      "[CV]  C=5, class_weight=balanced, penalty=l2, solver=newton-cg, score=0.6335633077446312, total=   4.5s\n",
      "[CV] C=5, class_weight=balanced, penalty=l2, solver=newton-cg ........\n",
      "[CV]  C=5, class_weight=balanced, penalty=l2, solver=newton-cg, score=0.643587687972208, total=   5.5s\n",
      "[CV] C=5, class_weight=balanced, penalty=l2, solver=newton-cg ........\n",
      "[CV]  C=5, class_weight=balanced, penalty=l2, solver=newton-cg, score=0.6404450706962732, total=   6.7s\n",
      "[CV] C=5, class_weight=balanced, penalty=l2, solver=lbfgs ............\n",
      "[CV]  C=5, class_weight=balanced, penalty=l2, solver=lbfgs, score=0.633830531532407, total=   0.9s\n",
      "[CV] C=5, class_weight=balanced, penalty=l2, solver=lbfgs ............\n",
      "[CV]  C=5, class_weight=balanced, penalty=l2, solver=lbfgs, score=0.6433933386779389, total=   0.9s\n",
      "[CV] C=5, class_weight=balanced, penalty=l2, solver=lbfgs ............\n",
      "[CV]  C=5, class_weight=balanced, penalty=l2, solver=lbfgs, score=0.6404207764442933, total=   0.9s\n",
      "[CV] C=5, class_weight=balanced, penalty=l2, solver=sag ..............\n"
     ]
    },
    {
     "name": "stderr",
     "output_type": "stream",
     "text": [
      "/anaconda3/lib/python3.6/site-packages/sklearn/linear_model/sag.py:326: ConvergenceWarning: The max_iter was reached which means the coef_ did not converge\n",
      "  \"the coef_ did not converge\", ConvergenceWarning)\n"
     ]
    },
    {
     "name": "stdout",
     "output_type": "stream",
     "text": [
      "[CV]  C=5, class_weight=balanced, penalty=l2, solver=sag, score=0.6335633077446312, total=  10.9s\n",
      "[CV] C=5, class_weight=balanced, penalty=l2, solver=sag ..............\n"
     ]
    },
    {
     "name": "stderr",
     "output_type": "stream",
     "text": [
      "/anaconda3/lib/python3.6/site-packages/sklearn/linear_model/sag.py:326: ConvergenceWarning: The max_iter was reached which means the coef_ did not converge\n",
      "  \"the coef_ did not converge\", ConvergenceWarning)\n"
     ]
    },
    {
     "name": "stdout",
     "output_type": "stream",
     "text": [
      "[CV]  C=5, class_weight=balanced, penalty=l2, solver=sag, score=0.6440249738843136, total=  10.8s\n",
      "[CV] C=5, class_weight=balanced, penalty=l2, solver=sag ..............\n"
     ]
    },
    {
     "name": "stderr",
     "output_type": "stream",
     "text": [
      "/anaconda3/lib/python3.6/site-packages/sklearn/linear_model/sag.py:326: ConvergenceWarning: The max_iter was reached which means the coef_ did not converge\n",
      "  \"the coef_ did not converge\", ConvergenceWarning)\n"
     ]
    },
    {
     "name": "stdout",
     "output_type": "stream",
     "text": [
      "[CV]  C=5, class_weight=balanced, penalty=l2, solver=sag, score=0.6405908362081532, total=   9.3s\n",
      "[CV] C=5, class_weight=balanced, penalty=l2, solver=saga .............\n"
     ]
    },
    {
     "name": "stderr",
     "output_type": "stream",
     "text": [
      "/anaconda3/lib/python3.6/site-packages/sklearn/linear_model/sag.py:326: ConvergenceWarning: The max_iter was reached which means the coef_ did not converge\n",
      "  \"the coef_ did not converge\", ConvergenceWarning)\n"
     ]
    },
    {
     "name": "stdout",
     "output_type": "stream",
     "text": [
      "[CV]  C=5, class_weight=balanced, penalty=l2, solver=saga, score=0.6336847731027111, total=  10.0s\n",
      "[CV] C=5, class_weight=balanced, penalty=l2, solver=saga .............\n"
     ]
    },
    {
     "name": "stderr",
     "output_type": "stream",
     "text": [
      "/anaconda3/lib/python3.6/site-packages/sklearn/linear_model/sag.py:326: ConvergenceWarning: The max_iter was reached which means the coef_ did not converge\n",
      "  \"the coef_ did not converge\", ConvergenceWarning)\n"
     ]
    },
    {
     "name": "stdout",
     "output_type": "stream",
     "text": [
      "[CV]  C=5, class_weight=balanced, penalty=l2, solver=saga, score=0.6451181886645774, total=  11.1s\n",
      "[CV] C=5, class_weight=balanced, penalty=l2, solver=saga .............\n"
     ]
    },
    {
     "name": "stderr",
     "output_type": "stream",
     "text": [
      "/anaconda3/lib/python3.6/site-packages/sklearn/linear_model/sag.py:326: ConvergenceWarning: The max_iter was reached which means the coef_ did not converge\n",
      "  \"the coef_ did not converge\", ConvergenceWarning)\n"
     ]
    },
    {
     "name": "stdout",
     "output_type": "stream",
     "text": [
      "[CV]  C=5, class_weight=balanced, penalty=l2, solver=saga, score=0.6412710752635926, total=  11.3s\n",
      "[CV] C=10, class_weight=None, penalty=l1, solver=liblinear ...........\n",
      "[CV]  C=10, class_weight=None, penalty=l1, solver=liblinear, score=0.8445486347293751, total=  13.9s\n",
      "[CV] C=10, class_weight=None, penalty=l1, solver=liblinear ...........\n",
      "[CV]  C=10, class_weight=None, penalty=l1, solver=liblinear, score=0.843767461069407, total=   3.4s\n",
      "[CV] C=10, class_weight=None, penalty=l1, solver=liblinear ...........\n",
      "[CV]  C=10, class_weight=None, penalty=l1, solver=liblinear, score=0.8443224333122783, total=   4.4s\n",
      "[CV] C=10, class_weight=None, penalty=l1, solver=newton-cg ...........\n",
      "[CV]  C=10, class_weight=None, penalty=l1, solver=newton-cg, score=0, total=   0.1s\n",
      "[CV] C=10, class_weight=None, penalty=l1, solver=newton-cg ...........\n"
     ]
    },
    {
     "name": "stderr",
     "output_type": "stream",
     "text": [
      "/anaconda3/lib/python3.6/site-packages/sklearn/model_selection/_validation.py:479: FitFailedWarning: Classifier fit failed. The score on this train-test partition for these parameters will be set to 0.000000. Details: \n",
      "ValueError('Solver newton-cg supports only l2 penalties, got l1 penalty.',)\n",
      "  \"Details: \\n%r\" % (error_score, e), FitFailedWarning)\n",
      "/anaconda3/lib/python3.6/site-packages/sklearn/model_selection/_validation.py:479: FitFailedWarning: Classifier fit failed. The score on this train-test partition for these parameters will be set to 0.000000. Details: \n",
      "ValueError('Solver newton-cg supports only l2 penalties, got l1 penalty.',)\n",
      "  \"Details: \\n%r\" % (error_score, e), FitFailedWarning)\n"
     ]
    },
    {
     "name": "stdout",
     "output_type": "stream",
     "text": [
      "[CV]  C=10, class_weight=None, penalty=l1, solver=newton-cg, score=0, total=   0.1s\n",
      "[CV] C=10, class_weight=None, penalty=l1, solver=newton-cg ...........\n",
      "[CV]  C=10, class_weight=None, penalty=l1, solver=newton-cg, score=0, total=   0.1s\n",
      "[CV] C=10, class_weight=None, penalty=l1, solver=lbfgs ...............\n",
      "[CV]  C=10, class_weight=None, penalty=l1, solver=lbfgs, score=0, total=   0.1s\n",
      "[CV] C=10, class_weight=None, penalty=l1, solver=lbfgs ...............\n"
     ]
    },
    {
     "name": "stderr",
     "output_type": "stream",
     "text": [
      "/anaconda3/lib/python3.6/site-packages/sklearn/model_selection/_validation.py:479: FitFailedWarning: Classifier fit failed. The score on this train-test partition for these parameters will be set to 0.000000. Details: \n",
      "ValueError('Solver newton-cg supports only l2 penalties, got l1 penalty.',)\n",
      "  \"Details: \\n%r\" % (error_score, e), FitFailedWarning)\n",
      "/anaconda3/lib/python3.6/site-packages/sklearn/model_selection/_validation.py:479: FitFailedWarning: Classifier fit failed. The score on this train-test partition for these parameters will be set to 0.000000. Details: \n",
      "ValueError('Solver lbfgs supports only l2 penalties, got l1 penalty.',)\n",
      "  \"Details: \\n%r\" % (error_score, e), FitFailedWarning)\n",
      "/anaconda3/lib/python3.6/site-packages/sklearn/model_selection/_validation.py:479: FitFailedWarning: Classifier fit failed. The score on this train-test partition for these parameters will be set to 0.000000. Details: \n",
      "ValueError('Solver lbfgs supports only l2 penalties, got l1 penalty.',)\n",
      "  \"Details: \\n%r\" % (error_score, e), FitFailedWarning)\n"
     ]
    },
    {
     "name": "stdout",
     "output_type": "stream",
     "text": [
      "[CV]  C=10, class_weight=None, penalty=l1, solver=lbfgs, score=0, total=   0.1s\n",
      "[CV] C=10, class_weight=None, penalty=l1, solver=lbfgs ...............\n",
      "[CV]  C=10, class_weight=None, penalty=l1, solver=lbfgs, score=0, total=   0.1s\n",
      "[CV] C=10, class_weight=None, penalty=l1, solver=sag .................\n",
      "[CV]  C=10, class_weight=None, penalty=l1, solver=sag, score=0, total=   0.1s\n",
      "[CV] C=10, class_weight=None, penalty=l1, solver=sag .................\n"
     ]
    },
    {
     "name": "stderr",
     "output_type": "stream",
     "text": [
      "/anaconda3/lib/python3.6/site-packages/sklearn/model_selection/_validation.py:479: FitFailedWarning: Classifier fit failed. The score on this train-test partition for these parameters will be set to 0.000000. Details: \n",
      "ValueError('Solver lbfgs supports only l2 penalties, got l1 penalty.',)\n",
      "  \"Details: \\n%r\" % (error_score, e), FitFailedWarning)\n",
      "/anaconda3/lib/python3.6/site-packages/sklearn/model_selection/_validation.py:479: FitFailedWarning: Classifier fit failed. The score on this train-test partition for these parameters will be set to 0.000000. Details: \n",
      "ValueError('Solver sag supports only l2 penalties, got l1 penalty.',)\n",
      "  \"Details: \\n%r\" % (error_score, e), FitFailedWarning)\n",
      "/anaconda3/lib/python3.6/site-packages/sklearn/model_selection/_validation.py:479: FitFailedWarning: Classifier fit failed. The score on this train-test partition for these parameters will be set to 0.000000. Details: \n",
      "ValueError('Solver sag supports only l2 penalties, got l1 penalty.',)\n",
      "  \"Details: \\n%r\" % (error_score, e), FitFailedWarning)\n"
     ]
    },
    {
     "name": "stdout",
     "output_type": "stream",
     "text": [
      "[CV]  C=10, class_weight=None, penalty=l1, solver=sag, score=0, total=   0.1s\n",
      "[CV] C=10, class_weight=None, penalty=l1, solver=sag .................\n",
      "[CV]  C=10, class_weight=None, penalty=l1, solver=sag, score=0, total=   0.1s\n",
      "[CV] C=10, class_weight=None, penalty=l1, solver=saga ................\n"
     ]
    },
    {
     "name": "stderr",
     "output_type": "stream",
     "text": [
      "/anaconda3/lib/python3.6/site-packages/sklearn/model_selection/_validation.py:479: FitFailedWarning: Classifier fit failed. The score on this train-test partition for these parameters will be set to 0.000000. Details: \n",
      "ValueError('Solver sag supports only l2 penalties, got l1 penalty.',)\n",
      "  \"Details: \\n%r\" % (error_score, e), FitFailedWarning)\n",
      "/anaconda3/lib/python3.6/site-packages/sklearn/linear_model/sag.py:326: ConvergenceWarning: The max_iter was reached which means the coef_ did not converge\n",
      "  \"the coef_ did not converge\", ConvergenceWarning)\n"
     ]
    },
    {
     "name": "stdout",
     "output_type": "stream",
     "text": [
      "[CV]  C=10, class_weight=None, penalty=l1, solver=saga, score=0.8445000485861432, total=  14.8s\n",
      "[CV] C=10, class_weight=None, penalty=l1, solver=saga ................\n"
     ]
    },
    {
     "name": "stderr",
     "output_type": "stream",
     "text": [
      "/anaconda3/lib/python3.6/site-packages/sklearn/linear_model/sag.py:326: ConvergenceWarning: The max_iter was reached which means the coef_ did not converge\n",
      "  \"the coef_ did not converge\", ConvergenceWarning)\n"
     ]
    },
    {
     "name": "stdout",
     "output_type": "stream",
     "text": [
      "[CV]  C=10, class_weight=None, penalty=l1, solver=saga, score=0.8437188737458398, total=  14.1s\n",
      "[CV] C=10, class_weight=None, penalty=l1, solver=saga ................\n"
     ]
    },
    {
     "name": "stderr",
     "output_type": "stream",
     "text": [
      "/anaconda3/lib/python3.6/site-packages/sklearn/linear_model/sag.py:326: ConvergenceWarning: The max_iter was reached which means the coef_ did not converge\n",
      "  \"the coef_ did not converge\", ConvergenceWarning)\n"
     ]
    },
    {
     "name": "stdout",
     "output_type": "stream",
     "text": [
      "[CV]  C=10, class_weight=None, penalty=l1, solver=saga, score=0.8443467275642583, total=  13.4s\n",
      "[CV] C=10, class_weight=None, penalty=l2, solver=liblinear ...........\n",
      "[CV]  C=10, class_weight=None, penalty=l2, solver=liblinear, score=0.8445243416577592, total=   1.1s\n",
      "[CV] C=10, class_weight=None, penalty=l2, solver=liblinear ...........\n",
      "[CV]  C=10, class_weight=None, penalty=l2, solver=liblinear, score=0.843767461069407, total=   2.4s\n",
      "[CV] C=10, class_weight=None, penalty=l2, solver=liblinear ...........\n",
      "[CV]  C=10, class_weight=None, penalty=l2, solver=liblinear, score=0.8443224333122783, total=   2.2s\n",
      "[CV] C=10, class_weight=None, penalty=l2, solver=newton-cg ...........\n",
      "[CV]  C=10, class_weight=None, penalty=l2, solver=newton-cg, score=0.8445243416577592, total=   4.5s\n",
      "[CV] C=10, class_weight=None, penalty=l2, solver=newton-cg ...........\n",
      "[CV]  C=10, class_weight=None, penalty=l2, solver=newton-cg, score=0.843767461069407, total=   5.5s\n",
      "[CV] C=10, class_weight=None, penalty=l2, solver=newton-cg ...........\n",
      "[CV]  C=10, class_weight=None, penalty=l2, solver=newton-cg, score=0.8443224333122783, total=   6.7s\n",
      "[CV] C=10, class_weight=None, penalty=l2, solver=lbfgs ...............\n",
      "[CV]  C=10, class_weight=None, penalty=l2, solver=lbfgs, score=0.8445243416577592, total=   0.8s\n",
      "[CV] C=10, class_weight=None, penalty=l2, solver=lbfgs ...............\n",
      "[CV]  C=10, class_weight=None, penalty=l2, solver=lbfgs, score=0.843767461069407, total=   0.8s\n",
      "[CV] C=10, class_weight=None, penalty=l2, solver=lbfgs ...............\n",
      "[CV]  C=10, class_weight=None, penalty=l2, solver=lbfgs, score=0.8443467275642583, total=   0.9s\n",
      "[CV] C=10, class_weight=None, penalty=l2, solver=sag .................\n"
     ]
    },
    {
     "name": "stderr",
     "output_type": "stream",
     "text": [
      "/anaconda3/lib/python3.6/site-packages/sklearn/linear_model/sag.py:326: ConvergenceWarning: The max_iter was reached which means the coef_ did not converge\n",
      "  \"the coef_ did not converge\", ConvergenceWarning)\n"
     ]
    },
    {
     "name": "stdout",
     "output_type": "stream",
     "text": [
      "[CV]  C=10, class_weight=None, penalty=l2, solver=sag, score=0.8445000485861432, total=  10.8s\n",
      "[CV] C=10, class_weight=None, penalty=l2, solver=sag .................\n"
     ]
    },
    {
     "name": "stderr",
     "output_type": "stream",
     "text": [
      "/anaconda3/lib/python3.6/site-packages/sklearn/linear_model/sag.py:326: ConvergenceWarning: The max_iter was reached which means the coef_ did not converge\n",
      "  \"the coef_ did not converge\", ConvergenceWarning)\n"
     ]
    },
    {
     "name": "stdout",
     "output_type": "stream",
     "text": [
      "[CV]  C=10, class_weight=None, penalty=l2, solver=sag, score=0.843767461069407, total=  10.9s\n",
      "[CV] C=10, class_weight=None, penalty=l2, solver=sag .................\n"
     ]
    },
    {
     "name": "stderr",
     "output_type": "stream",
     "text": [
      "/anaconda3/lib/python3.6/site-packages/sklearn/linear_model/sag.py:326: ConvergenceWarning: The max_iter was reached which means the coef_ did not converge\n",
      "  \"the coef_ did not converge\", ConvergenceWarning)\n"
     ]
    },
    {
     "name": "stdout",
     "output_type": "stream",
     "text": [
      "[CV]  C=10, class_weight=None, penalty=l2, solver=sag, score=0.8443467275642583, total=  10.9s\n",
      "[CV] C=10, class_weight=None, penalty=l2, solver=saga ................\n"
     ]
    },
    {
     "name": "stderr",
     "output_type": "stream",
     "text": [
      "/anaconda3/lib/python3.6/site-packages/sklearn/linear_model/sag.py:326: ConvergenceWarning: The max_iter was reached which means the coef_ did not converge\n",
      "  \"the coef_ did not converge\", ConvergenceWarning)\n"
     ]
    },
    {
     "name": "stdout",
     "output_type": "stream",
     "text": [
      "[CV]  C=10, class_weight=None, penalty=l2, solver=saga, score=0.8445729278009911, total=  10.9s\n",
      "[CV] C=10, class_weight=None, penalty=l2, solver=saga ................\n"
     ]
    },
    {
     "name": "stderr",
     "output_type": "stream",
     "text": [
      "/anaconda3/lib/python3.6/site-packages/sklearn/linear_model/sag.py:326: ConvergenceWarning: The max_iter was reached which means the coef_ did not converge\n",
      "  \"the coef_ did not converge\", ConvergenceWarning)\n"
     ]
    },
    {
     "name": "stdout",
     "output_type": "stream",
     "text": [
      "[CV]  C=10, class_weight=None, penalty=l2, solver=saga, score=0.8435488181133542, total=  10.8s\n",
      "[CV] C=10, class_weight=None, penalty=l2, solver=saga ................\n"
     ]
    },
    {
     "name": "stderr",
     "output_type": "stream",
     "text": [
      "/anaconda3/lib/python3.6/site-packages/sklearn/linear_model/sag.py:326: ConvergenceWarning: The max_iter was reached which means the coef_ did not converge\n",
      "  \"the coef_ did not converge\", ConvergenceWarning)\n"
     ]
    },
    {
     "name": "stdout",
     "output_type": "stream",
     "text": [
      "[CV]  C=10, class_weight=None, penalty=l2, solver=saga, score=0.8442738448083184, total=  11.4s\n",
      "[CV] C=10, class_weight=balanced, penalty=l1, solver=liblinear .......\n",
      "[CV]  C=10, class_weight=balanced, penalty=l1, solver=liblinear, score=0.6335876008162472, total=   5.6s\n",
      "[CV] C=10, class_weight=balanced, penalty=l1, solver=liblinear .......\n",
      "[CV]  C=10, class_weight=balanced, penalty=l1, solver=liblinear, score=0.6436119816339917, total=   7.3s\n",
      "[CV] C=10, class_weight=balanced, penalty=l1, solver=liblinear .......\n",
      "[CV]  C=10, class_weight=balanced, penalty=l1, solver=liblinear, score=0.6405422477041932, total=   5.4s\n",
      "[CV] C=10, class_weight=balanced, penalty=l1, solver=newton-cg .......\n",
      "[CV]  C=10, class_weight=balanced, penalty=l1, solver=newton-cg, score=0, total=   0.1s\n",
      "[CV] C=10, class_weight=balanced, penalty=l1, solver=newton-cg .......\n",
      "[CV]  C=10, class_weight=balanced, penalty=l1, solver=newton-cg, score=0, total=   0.1s"
     ]
    },
    {
     "name": "stderr",
     "output_type": "stream",
     "text": [
      "/anaconda3/lib/python3.6/site-packages/sklearn/model_selection/_validation.py:479: FitFailedWarning: Classifier fit failed. The score on this train-test partition for these parameters will be set to 0.000000. Details: \n",
      "ValueError('Solver newton-cg supports only l2 penalties, got l1 penalty.',)\n",
      "  \"Details: \\n%r\" % (error_score, e), FitFailedWarning)\n",
      "/anaconda3/lib/python3.6/site-packages/sklearn/model_selection/_validation.py:479: FitFailedWarning: Classifier fit failed. The score on this train-test partition for these parameters will be set to 0.000000. Details: \n",
      "ValueError('Solver newton-cg supports only l2 penalties, got l1 penalty.',)\n",
      "  \"Details: \\n%r\" % (error_score, e), FitFailedWarning)\n",
      "/anaconda3/lib/python3.6/site-packages/sklearn/model_selection/_validation.py:479: FitFailedWarning: Classifier fit failed. The score on this train-test partition for these parameters will be set to 0.000000. Details: \n",
      "ValueError('Solver newton-cg supports only l2 penalties, got l1 penalty.',)\n",
      "  \"Details: \\n%r\" % (error_score, e), FitFailedWarning)\n"
     ]
    },
    {
     "name": "stdout",
     "output_type": "stream",
     "text": [
      "\n",
      "[CV] C=10, class_weight=balanced, penalty=l1, solver=newton-cg .......\n",
      "[CV]  C=10, class_weight=balanced, penalty=l1, solver=newton-cg, score=0, total=   0.1s\n",
      "[CV] C=10, class_weight=balanced, penalty=l1, solver=lbfgs ...........\n",
      "[CV]  C=10, class_weight=balanced, penalty=l1, solver=lbfgs, score=0, total=   0.1s\n",
      "[CV] C=10, class_weight=balanced, penalty=l1, solver=lbfgs ...........\n"
     ]
    },
    {
     "name": "stderr",
     "output_type": "stream",
     "text": [
      "/anaconda3/lib/python3.6/site-packages/sklearn/model_selection/_validation.py:479: FitFailedWarning: Classifier fit failed. The score on this train-test partition for these parameters will be set to 0.000000. Details: \n",
      "ValueError('Solver lbfgs supports only l2 penalties, got l1 penalty.',)\n",
      "  \"Details: \\n%r\" % (error_score, e), FitFailedWarning)\n",
      "/anaconda3/lib/python3.6/site-packages/sklearn/model_selection/_validation.py:479: FitFailedWarning: Classifier fit failed. The score on this train-test partition for these parameters will be set to 0.000000. Details: \n",
      "ValueError('Solver lbfgs supports only l2 penalties, got l1 penalty.',)\n",
      "  \"Details: \\n%r\" % (error_score, e), FitFailedWarning)\n",
      "/anaconda3/lib/python3.6/site-packages/sklearn/model_selection/_validation.py:479: FitFailedWarning: Classifier fit failed. The score on this train-test partition for these parameters will be set to 0.000000. Details: \n",
      "ValueError('Solver lbfgs supports only l2 penalties, got l1 penalty.',)\n",
      "  \"Details: \\n%r\" % (error_score, e), FitFailedWarning)\n"
     ]
    },
    {
     "name": "stdout",
     "output_type": "stream",
     "text": [
      "[CV]  C=10, class_weight=balanced, penalty=l1, solver=lbfgs, score=0, total=   0.1s\n",
      "[CV] C=10, class_weight=balanced, penalty=l1, solver=lbfgs ...........\n",
      "[CV]  C=10, class_weight=balanced, penalty=l1, solver=lbfgs, score=0, total=   0.1s\n",
      "[CV] C=10, class_weight=balanced, penalty=l1, solver=sag .............\n",
      "[CV]  C=10, class_weight=balanced, penalty=l1, solver=sag, score=0, total=   0.1s\n",
      "[CV] C=10, class_weight=balanced, penalty=l1, solver=sag .............\n"
     ]
    },
    {
     "name": "stderr",
     "output_type": "stream",
     "text": [
      "/anaconda3/lib/python3.6/site-packages/sklearn/model_selection/_validation.py:479: FitFailedWarning: Classifier fit failed. The score on this train-test partition for these parameters will be set to 0.000000. Details: \n",
      "ValueError('Solver sag supports only l2 penalties, got l1 penalty.',)\n",
      "  \"Details: \\n%r\" % (error_score, e), FitFailedWarning)\n",
      "/anaconda3/lib/python3.6/site-packages/sklearn/model_selection/_validation.py:479: FitFailedWarning: Classifier fit failed. The score on this train-test partition for these parameters will be set to 0.000000. Details: \n",
      "ValueError('Solver sag supports only l2 penalties, got l1 penalty.',)\n",
      "  \"Details: \\n%r\" % (error_score, e), FitFailedWarning)\n",
      "/anaconda3/lib/python3.6/site-packages/sklearn/model_selection/_validation.py:479: FitFailedWarning: Classifier fit failed. The score on this train-test partition for these parameters will be set to 0.000000. Details: \n",
      "ValueError('Solver sag supports only l2 penalties, got l1 penalty.',)\n",
      "  \"Details: \\n%r\" % (error_score, e), FitFailedWarning)\n"
     ]
    },
    {
     "name": "stdout",
     "output_type": "stream",
     "text": [
      "[CV]  C=10, class_weight=balanced, penalty=l1, solver=sag, score=0, total=   0.1s\n",
      "[CV] C=10, class_weight=balanced, penalty=l1, solver=sag .............\n",
      "[CV]  C=10, class_weight=balanced, penalty=l1, solver=sag, score=0, total=   0.1s\n",
      "[CV] C=10, class_weight=balanced, penalty=l1, solver=saga ............\n"
     ]
    },
    {
     "name": "stderr",
     "output_type": "stream",
     "text": [
      "/anaconda3/lib/python3.6/site-packages/sklearn/linear_model/sag.py:326: ConvergenceWarning: The max_iter was reached which means the coef_ did not converge\n",
      "  \"the coef_ did not converge\", ConvergenceWarning)\n"
     ]
    },
    {
     "name": "stdout",
     "output_type": "stream",
     "text": [
      "[CV]  C=10, class_weight=balanced, penalty=l1, solver=saga, score=0.6336361869594792, total=  14.9s\n",
      "[CV] C=10, class_weight=balanced, penalty=l1, solver=saga ............\n"
     ]
    },
    {
     "name": "stderr",
     "output_type": "stream",
     "text": [
      "/anaconda3/lib/python3.6/site-packages/sklearn/linear_model/sag.py:326: ConvergenceWarning: The max_iter was reached which means the coef_ did not converge\n",
      "  \"the coef_ did not converge\", ConvergenceWarning)\n"
     ]
    },
    {
     "name": "stdout",
     "output_type": "stream",
     "text": [
      "[CV]  C=10, class_weight=balanced, penalty=l1, solver=saga, score=0.64400068022253, total=  15.3s\n",
      "[CV] C=10, class_weight=balanced, penalty=l1, solver=saga ............\n"
     ]
    },
    {
     "name": "stderr",
     "output_type": "stream",
     "text": [
      "/anaconda3/lib/python3.6/site-packages/sklearn/linear_model/sag.py:326: ConvergenceWarning: The max_iter was reached which means the coef_ did not converge\n",
      "  \"the coef_ did not converge\", ConvergenceWarning)\n"
     ]
    },
    {
     "name": "stdout",
     "output_type": "stream",
     "text": [
      "[CV]  C=10, class_weight=balanced, penalty=l1, solver=saga, score=0.6405908362081532, total=  15.0s\n",
      "[CV] C=10, class_weight=balanced, penalty=l2, solver=liblinear .......\n",
      "[CV]  C=10, class_weight=balanced, penalty=l2, solver=liblinear, score=0.6335633077446312, total=   1.8s\n",
      "[CV] C=10, class_weight=balanced, penalty=l2, solver=liblinear .......\n",
      "[CV]  C=10, class_weight=balanced, penalty=l2, solver=liblinear, score=0.643587687972208, total=   3.6s\n",
      "[CV] C=10, class_weight=balanced, penalty=l2, solver=liblinear .......\n",
      "[CV]  C=10, class_weight=balanced, penalty=l2, solver=liblinear, score=0.6404693649482532, total=   3.2s\n",
      "[CV] C=10, class_weight=balanced, penalty=l2, solver=newton-cg .......\n",
      "[CV]  C=10, class_weight=balanced, penalty=l2, solver=newton-cg, score=0.6335633077446312, total=   5.2s\n",
      "[CV] C=10, class_weight=balanced, penalty=l2, solver=newton-cg .......\n",
      "[CV]  C=10, class_weight=balanced, penalty=l2, solver=newton-cg, score=0.643587687972208, total=   7.4s\n",
      "[CV] C=10, class_weight=balanced, penalty=l2, solver=newton-cg .......\n",
      "[CV]  C=10, class_weight=balanced, penalty=l2, solver=newton-cg, score=0.6404693649482532, total=   5.9s\n",
      "[CV] C=10, class_weight=balanced, penalty=l2, solver=lbfgs ...........\n",
      "[CV]  C=10, class_weight=balanced, penalty=l2, solver=lbfgs, score=0.6334661354581673, total=   0.9s\n",
      "[CV] C=10, class_weight=balanced, penalty=l2, solver=lbfgs ...........\n",
      "[CV]  C=10, class_weight=balanced, penalty=l2, solver=lbfgs, score=0.6433447513543716, total=   1.0s\n",
      "[CV] C=10, class_weight=balanced, penalty=l2, solver=lbfgs ...........\n",
      "[CV]  C=10, class_weight=balanced, penalty=l2, solver=lbfgs, score=0.6398863029007337, total=   0.9s\n",
      "[CV] C=10, class_weight=balanced, penalty=l2, solver=sag .............\n"
     ]
    },
    {
     "name": "stderr",
     "output_type": "stream",
     "text": [
      "/anaconda3/lib/python3.6/site-packages/sklearn/linear_model/sag.py:326: ConvergenceWarning: The max_iter was reached which means the coef_ did not converge\n",
      "  \"the coef_ did not converge\", ConvergenceWarning)\n"
     ]
    },
    {
     "name": "stdout",
     "output_type": "stream",
     "text": [
      "[CV]  C=10, class_weight=balanced, penalty=l2, solver=sag, score=0.6335390146730152, total=  10.9s\n",
      "[CV] C=10, class_weight=balanced, penalty=l2, solver=sag .............\n"
     ]
    },
    {
     "name": "stderr",
     "output_type": "stream",
     "text": [
      "/anaconda3/lib/python3.6/site-packages/sklearn/linear_model/sag.py:326: ConvergenceWarning: The max_iter was reached which means the coef_ did not converge\n",
      "  \"the coef_ did not converge\", ConvergenceWarning)\n"
     ]
    },
    {
     "name": "stdout",
     "output_type": "stream",
     "text": [
      "[CV]  C=10, class_weight=balanced, penalty=l2, solver=sag, score=0.6440249738843136, total=  10.9s\n",
      "[CV] C=10, class_weight=balanced, penalty=l2, solver=sag .............\n"
     ]
    },
    {
     "name": "stderr",
     "output_type": "stream",
     "text": [
      "/anaconda3/lib/python3.6/site-packages/sklearn/linear_model/sag.py:326: ConvergenceWarning: The max_iter was reached which means the coef_ did not converge\n",
      "  \"the coef_ did not converge\", ConvergenceWarning)\n"
     ]
    },
    {
     "name": "stdout",
     "output_type": "stream",
     "text": [
      "[CV]  C=10, class_weight=balanced, penalty=l2, solver=sag, score=0.6405665419561731, total=  10.6s\n",
      "[CV] C=10, class_weight=balanced, penalty=l2, solver=saga ............\n"
     ]
    },
    {
     "name": "stderr",
     "output_type": "stream",
     "text": [
      "/anaconda3/lib/python3.6/site-packages/sklearn/linear_model/sag.py:326: ConvergenceWarning: The max_iter was reached which means the coef_ did not converge\n",
      "  \"the coef_ did not converge\", ConvergenceWarning)\n"
     ]
    },
    {
     "name": "stdout",
     "output_type": "stream",
     "text": [
      "[CV]  C=10, class_weight=balanced, penalty=l2, solver=saga, score=0.6337333592459431, total=  11.2s\n",
      "[CV] C=10, class_weight=balanced, penalty=l2, solver=saga ............\n"
     ]
    },
    {
     "name": "stderr",
     "output_type": "stream",
     "text": [
      "/anaconda3/lib/python3.6/site-packages/sklearn/linear_model/sag.py:326: ConvergenceWarning: The max_iter was reached which means the coef_ did not converge\n",
      "  \"the coef_ did not converge\", ConvergenceWarning)\n"
     ]
    },
    {
     "name": "stdout",
     "output_type": "stream",
     "text": [
      "[CV]  C=10, class_weight=balanced, penalty=l2, solver=saga, score=0.6450696013410101, total=  11.4s\n",
      "[CV] C=10, class_weight=balanced, penalty=l2, solver=saga ............\n"
     ]
    },
    {
     "name": "stderr",
     "output_type": "stream",
     "text": [
      "/anaconda3/lib/python3.6/site-packages/sklearn/linear_model/sag.py:326: ConvergenceWarning: The max_iter was reached which means the coef_ did not converge\n",
      "  \"the coef_ did not converge\", ConvergenceWarning)\n"
     ]
    },
    {
     "name": "stdout",
     "output_type": "stream",
     "text": [
      "[CV]  C=10, class_weight=balanced, penalty=l2, solver=saga, score=0.6412953695155726, total=  11.9s\n",
      "[CV] C=50, class_weight=None, penalty=l1, solver=liblinear ...........\n",
      "[CV]  C=50, class_weight=None, penalty=l1, solver=liblinear, score=0.8445243416577592, total=   2.6s\n",
      "[CV] C=50, class_weight=None, penalty=l1, solver=liblinear ...........\n",
      "[CV]  C=50, class_weight=None, penalty=l1, solver=liblinear, score=0.8437431674076233, total=   2.3s\n",
      "[CV] C=50, class_weight=None, penalty=l1, solver=liblinear ...........\n",
      "[CV]  C=50, class_weight=None, penalty=l1, solver=liblinear, score=0.8443224333122783, total=   2.6s\n",
      "[CV] C=50, class_weight=None, penalty=l1, solver=newton-cg ...........\n",
      "[CV]  C=50, class_weight=None, penalty=l1, solver=newton-cg, score=0, total=   0.1s\n",
      "[CV] C=50, class_weight=None, penalty=l1, solver=newton-cg ...........\n"
     ]
    },
    {
     "name": "stderr",
     "output_type": "stream",
     "text": [
      "/anaconda3/lib/python3.6/site-packages/sklearn/model_selection/_validation.py:479: FitFailedWarning: Classifier fit failed. The score on this train-test partition for these parameters will be set to 0.000000. Details: \n",
      "ValueError('Solver newton-cg supports only l2 penalties, got l1 penalty.',)\n",
      "  \"Details: \\n%r\" % (error_score, e), FitFailedWarning)\n",
      "/anaconda3/lib/python3.6/site-packages/sklearn/model_selection/_validation.py:479: FitFailedWarning: Classifier fit failed. The score on this train-test partition for these parameters will be set to 0.000000. Details: \n",
      "ValueError('Solver newton-cg supports only l2 penalties, got l1 penalty.',)\n",
      "  \"Details: \\n%r\" % (error_score, e), FitFailedWarning)\n"
     ]
    },
    {
     "name": "stdout",
     "output_type": "stream",
     "text": [
      "[CV]  C=50, class_weight=None, penalty=l1, solver=newton-cg, score=0, total=   0.1s\n",
      "[CV] C=50, class_weight=None, penalty=l1, solver=newton-cg ...........\n",
      "[CV]  C=50, class_weight=None, penalty=l1, solver=newton-cg, score=0, total=   0.1s\n",
      "[CV] C=50, class_weight=None, penalty=l1, solver=lbfgs ...............\n",
      "[CV]  C=50, class_weight=None, penalty=l1, solver=lbfgs, score=0, total=   0.1s\n",
      "[CV] C=50, class_weight=None, penalty=l1, solver=lbfgs ...............\n"
     ]
    },
    {
     "name": "stderr",
     "output_type": "stream",
     "text": [
      "/anaconda3/lib/python3.6/site-packages/sklearn/model_selection/_validation.py:479: FitFailedWarning: Classifier fit failed. The score on this train-test partition for these parameters will be set to 0.000000. Details: \n",
      "ValueError('Solver newton-cg supports only l2 penalties, got l1 penalty.',)\n",
      "  \"Details: \\n%r\" % (error_score, e), FitFailedWarning)\n",
      "/anaconda3/lib/python3.6/site-packages/sklearn/model_selection/_validation.py:479: FitFailedWarning: Classifier fit failed. The score on this train-test partition for these parameters will be set to 0.000000. Details: \n",
      "ValueError('Solver lbfgs supports only l2 penalties, got l1 penalty.',)\n",
      "  \"Details: \\n%r\" % (error_score, e), FitFailedWarning)\n",
      "/anaconda3/lib/python3.6/site-packages/sklearn/model_selection/_validation.py:479: FitFailedWarning: Classifier fit failed. The score on this train-test partition for these parameters will be set to 0.000000. Details: \n",
      "ValueError('Solver lbfgs supports only l2 penalties, got l1 penalty.',)\n",
      "  \"Details: \\n%r\" % (error_score, e), FitFailedWarning)\n",
      "/anaconda3/lib/python3.6/site-packages/sklearn/model_selection/_validation.py:479: FitFailedWarning: Classifier fit failed. The score on this train-test partition for these parameters will be set to 0.000000. Details: \n",
      "ValueError('Solver lbfgs supports only l2 penalties, got l1 penalty.',)\n",
      "  \"Details: \\n%r\" % (error_score, e), FitFailedWarning)\n",
      "/anaconda3/lib/python3.6/site-packages/sklearn/model_selection/_validation.py:479: FitFailedWarning: Classifier fit failed. The score on this train-test partition for these parameters will be set to 0.000000. Details: \n",
      "ValueError('Solver sag supports only l2 penalties, got l1 penalty.',)\n",
      "  \"Details: \\n%r\" % (error_score, e), FitFailedWarning)\n"
     ]
    },
    {
     "name": "stdout",
     "output_type": "stream",
     "text": [
      "[CV]  C=50, class_weight=None, penalty=l1, solver=lbfgs, score=0, total=   0.1s\n",
      "[CV] C=50, class_weight=None, penalty=l1, solver=lbfgs ...............\n",
      "[CV]  C=50, class_weight=None, penalty=l1, solver=lbfgs, score=0, total=   0.1s\n",
      "[CV] C=50, class_weight=None, penalty=l1, solver=sag .................\n",
      "[CV]  C=50, class_weight=None, penalty=l1, solver=sag, score=0, total=   0.1s\n",
      "[CV] C=50, class_weight=None, penalty=l1, solver=sag .................\n"
     ]
    },
    {
     "name": "stderr",
     "output_type": "stream",
     "text": [
      "/anaconda3/lib/python3.6/site-packages/sklearn/model_selection/_validation.py:479: FitFailedWarning: Classifier fit failed. The score on this train-test partition for these parameters will be set to 0.000000. Details: \n",
      "ValueError('Solver sag supports only l2 penalties, got l1 penalty.',)\n",
      "  \"Details: \\n%r\" % (error_score, e), FitFailedWarning)\n",
      "/anaconda3/lib/python3.6/site-packages/sklearn/model_selection/_validation.py:479: FitFailedWarning: Classifier fit failed. The score on this train-test partition for these parameters will be set to 0.000000. Details: \n",
      "ValueError('Solver sag supports only l2 penalties, got l1 penalty.',)\n",
      "  \"Details: \\n%r\" % (error_score, e), FitFailedWarning)\n"
     ]
    },
    {
     "name": "stdout",
     "output_type": "stream",
     "text": [
      "[CV]  C=50, class_weight=None, penalty=l1, solver=sag, score=0, total=   0.1s\n",
      "[CV] C=50, class_weight=None, penalty=l1, solver=sag .................\n",
      "[CV]  C=50, class_weight=None, penalty=l1, solver=sag, score=0, total=   0.1s\n",
      "[CV] C=50, class_weight=None, penalty=l1, solver=saga ................\n"
     ]
    },
    {
     "name": "stderr",
     "output_type": "stream",
     "text": [
      "/anaconda3/lib/python3.6/site-packages/sklearn/linear_model/sag.py:326: ConvergenceWarning: The max_iter was reached which means the coef_ did not converge\n",
      "  \"the coef_ did not converge\", ConvergenceWarning)\n"
     ]
    },
    {
     "name": "stdout",
     "output_type": "stream",
     "text": [
      "[CV]  C=50, class_weight=None, penalty=l1, solver=saga, score=0.8445000485861432, total=  14.7s\n",
      "[CV] C=50, class_weight=None, penalty=l1, solver=saga ................\n"
     ]
    },
    {
     "name": "stderr",
     "output_type": "stream",
     "text": [
      "/anaconda3/lib/python3.6/site-packages/sklearn/linear_model/sag.py:326: ConvergenceWarning: The max_iter was reached which means the coef_ did not converge\n",
      "  \"the coef_ did not converge\", ConvergenceWarning)\n"
     ]
    },
    {
     "name": "stdout",
     "output_type": "stream",
     "text": [
      "[CV]  C=50, class_weight=None, penalty=l1, solver=saga, score=0.8437188737458398, total=  15.3s\n",
      "[CV] C=50, class_weight=None, penalty=l1, solver=saga ................\n"
     ]
    },
    {
     "name": "stderr",
     "output_type": "stream",
     "text": [
      "/anaconda3/lib/python3.6/site-packages/sklearn/linear_model/sag.py:326: ConvergenceWarning: The max_iter was reached which means the coef_ did not converge\n",
      "  \"the coef_ did not converge\", ConvergenceWarning)\n"
     ]
    },
    {
     "name": "stdout",
     "output_type": "stream",
     "text": [
      "[CV]  C=50, class_weight=None, penalty=l1, solver=saga, score=0.8443467275642583, total=  15.9s\n",
      "[CV] C=50, class_weight=None, penalty=l2, solver=liblinear ...........\n",
      "[CV]  C=50, class_weight=None, penalty=l2, solver=liblinear, score=0.8445243416577592, total=   1.1s\n",
      "[CV] C=50, class_weight=None, penalty=l2, solver=liblinear ...........\n",
      "[CV]  C=50, class_weight=None, penalty=l2, solver=liblinear, score=0.843767461069407, total=   3.3s\n",
      "[CV] C=50, class_weight=None, penalty=l2, solver=liblinear ...........\n",
      "[CV]  C=50, class_weight=None, penalty=l2, solver=liblinear, score=0.8443224333122783, total=   2.5s\n",
      "[CV] C=50, class_weight=None, penalty=l2, solver=newton-cg ...........\n",
      "[CV]  C=50, class_weight=None, penalty=l2, solver=newton-cg, score=0.8445243416577592, total=   9.0s\n",
      "[CV] C=50, class_weight=None, penalty=l2, solver=newton-cg ...........\n",
      "[CV]  C=50, class_weight=None, penalty=l2, solver=newton-cg, score=0.843767461069407, total=   8.4s\n",
      "[CV] C=50, class_weight=None, penalty=l2, solver=newton-cg ...........\n",
      "[CV]  C=50, class_weight=None, penalty=l2, solver=newton-cg, score=0.8443224333122783, total=   8.3s\n",
      "[CV] C=50, class_weight=None, penalty=l2, solver=lbfgs ...............\n",
      "[CV]  C=50, class_weight=None, penalty=l2, solver=lbfgs, score=0.8445729278009911, total=   0.8s\n",
      "[CV] C=50, class_weight=None, penalty=l2, solver=lbfgs ...............\n",
      "[CV]  C=50, class_weight=None, penalty=l2, solver=lbfgs, score=0.8437917547311906, total=   0.7s\n",
      "[CV] C=50, class_weight=None, penalty=l2, solver=lbfgs ...............\n",
      "[CV]  C=50, class_weight=None, penalty=l2, solver=lbfgs, score=0.8443467275642583, total=   0.8s\n",
      "[CV] C=50, class_weight=None, penalty=l2, solver=sag .................\n"
     ]
    },
    {
     "name": "stderr",
     "output_type": "stream",
     "text": [
      "/anaconda3/lib/python3.6/site-packages/sklearn/linear_model/sag.py:326: ConvergenceWarning: The max_iter was reached which means the coef_ did not converge\n",
      "  \"the coef_ did not converge\", ConvergenceWarning)\n"
     ]
    },
    {
     "name": "stdout",
     "output_type": "stream",
     "text": [
      "[CV]  C=50, class_weight=None, penalty=l2, solver=sag, score=0.8445000485861432, total=  11.1s\n",
      "[CV] C=50, class_weight=None, penalty=l2, solver=sag .................\n"
     ]
    },
    {
     "name": "stderr",
     "output_type": "stream",
     "text": [
      "/anaconda3/lib/python3.6/site-packages/sklearn/linear_model/sag.py:326: ConvergenceWarning: The max_iter was reached which means the coef_ did not converge\n",
      "  \"the coef_ did not converge\", ConvergenceWarning)\n"
     ]
    },
    {
     "name": "stdout",
     "output_type": "stream",
     "text": [
      "[CV]  C=50, class_weight=None, penalty=l2, solver=sag, score=0.843767461069407, total=  11.6s\n",
      "[CV] C=50, class_weight=None, penalty=l2, solver=sag .................\n"
     ]
    },
    {
     "name": "stderr",
     "output_type": "stream",
     "text": [
      "/anaconda3/lib/python3.6/site-packages/sklearn/linear_model/sag.py:326: ConvergenceWarning: The max_iter was reached which means the coef_ did not converge\n",
      "  \"the coef_ did not converge\", ConvergenceWarning)\n"
     ]
    },
    {
     "name": "stdout",
     "output_type": "stream",
     "text": [
      "[CV]  C=50, class_weight=None, penalty=l2, solver=sag, score=0.8443467275642583, total=  11.3s\n",
      "[CV] C=50, class_weight=None, penalty=l2, solver=saga ................\n"
     ]
    },
    {
     "name": "stderr",
     "output_type": "stream",
     "text": [
      "/anaconda3/lib/python3.6/site-packages/sklearn/linear_model/sag.py:326: ConvergenceWarning: The max_iter was reached which means the coef_ did not converge\n",
      "  \"the coef_ did not converge\", ConvergenceWarning)\n"
     ]
    },
    {
     "name": "stdout",
     "output_type": "stream",
     "text": [
      "[CV]  C=50, class_weight=None, penalty=l2, solver=saga, score=0.8445729278009911, total=  11.5s\n",
      "[CV] C=50, class_weight=None, penalty=l2, solver=saga ................\n"
     ]
    },
    {
     "name": "stderr",
     "output_type": "stream",
     "text": [
      "/anaconda3/lib/python3.6/site-packages/sklearn/linear_model/sag.py:326: ConvergenceWarning: The max_iter was reached which means the coef_ did not converge\n",
      "  \"the coef_ did not converge\", ConvergenceWarning)\n"
     ]
    },
    {
     "name": "stdout",
     "output_type": "stream",
     "text": [
      "[CV]  C=50, class_weight=None, penalty=l2, solver=saga, score=0.8435488181133542, total=  11.5s\n",
      "[CV] C=50, class_weight=None, penalty=l2, solver=saga ................\n"
     ]
    },
    {
     "name": "stderr",
     "output_type": "stream",
     "text": [
      "/anaconda3/lib/python3.6/site-packages/sklearn/linear_model/sag.py:326: ConvergenceWarning: The max_iter was reached which means the coef_ did not converge\n",
      "  \"the coef_ did not converge\", ConvergenceWarning)\n"
     ]
    },
    {
     "name": "stdout",
     "output_type": "stream",
     "text": [
      "[CV]  C=50, class_weight=None, penalty=l2, solver=saga, score=0.8442738448083184, total=  11.6s\n",
      "[CV] C=50, class_weight=balanced, penalty=l1, solver=liblinear .......\n",
      "[CV]  C=50, class_weight=balanced, penalty=l1, solver=liblinear, score=0.6335876008162472, total=   2.9s\n",
      "[CV] C=50, class_weight=balanced, penalty=l1, solver=liblinear .......\n",
      "[CV]  C=50, class_weight=balanced, penalty=l1, solver=liblinear, score=0.643587687972208, total=   2.2s\n",
      "[CV] C=50, class_weight=balanced, penalty=l1, solver=liblinear .......\n",
      "[CV]  C=50, class_weight=balanced, penalty=l1, solver=liblinear, score=0.6404693649482532, total=   2.7s\n",
      "[CV] C=50, class_weight=balanced, penalty=l1, solver=newton-cg .......\n",
      "[CV]  C=50, class_weight=balanced, penalty=l1, solver=newton-cg, score=0, total=   0.1s\n",
      "[CV] C=50, class_weight=balanced, penalty=l1, solver=newton-cg .......\n",
      "[CV]  C=50, class_weight=balanced, penalty=l1, solver=newton-cg, score=0, total=   0.1s"
     ]
    },
    {
     "name": "stderr",
     "output_type": "stream",
     "text": [
      "/anaconda3/lib/python3.6/site-packages/sklearn/model_selection/_validation.py:479: FitFailedWarning: Classifier fit failed. The score on this train-test partition for these parameters will be set to 0.000000. Details: \n",
      "ValueError('Solver newton-cg supports only l2 penalties, got l1 penalty.',)\n",
      "  \"Details: \\n%r\" % (error_score, e), FitFailedWarning)\n",
      "/anaconda3/lib/python3.6/site-packages/sklearn/model_selection/_validation.py:479: FitFailedWarning: Classifier fit failed. The score on this train-test partition for these parameters will be set to 0.000000. Details: \n",
      "ValueError('Solver newton-cg supports only l2 penalties, got l1 penalty.',)\n",
      "  \"Details: \\n%r\" % (error_score, e), FitFailedWarning)\n",
      "/anaconda3/lib/python3.6/site-packages/sklearn/model_selection/_validation.py:479: FitFailedWarning: Classifier fit failed. The score on this train-test partition for these parameters will be set to 0.000000. Details: \n",
      "ValueError('Solver newton-cg supports only l2 penalties, got l1 penalty.',)\n",
      "  \"Details: \\n%r\" % (error_score, e), FitFailedWarning)\n"
     ]
    },
    {
     "name": "stdout",
     "output_type": "stream",
     "text": [
      "\n",
      "[CV] C=50, class_weight=balanced, penalty=l1, solver=newton-cg .......\n",
      "[CV]  C=50, class_weight=balanced, penalty=l1, solver=newton-cg, score=0, total=   0.1s\n",
      "[CV] C=50, class_weight=balanced, penalty=l1, solver=lbfgs ...........\n",
      "[CV]  C=50, class_weight=balanced, penalty=l1, solver=lbfgs, score=0, total=   0.1s\n",
      "[CV] C=50, class_weight=balanced, penalty=l1, solver=lbfgs ...........\n"
     ]
    },
    {
     "name": "stderr",
     "output_type": "stream",
     "text": [
      "/anaconda3/lib/python3.6/site-packages/sklearn/model_selection/_validation.py:479: FitFailedWarning: Classifier fit failed. The score on this train-test partition for these parameters will be set to 0.000000. Details: \n",
      "ValueError('Solver lbfgs supports only l2 penalties, got l1 penalty.',)\n",
      "  \"Details: \\n%r\" % (error_score, e), FitFailedWarning)\n",
      "/anaconda3/lib/python3.6/site-packages/sklearn/model_selection/_validation.py:479: FitFailedWarning: Classifier fit failed. The score on this train-test partition for these parameters will be set to 0.000000. Details: \n",
      "ValueError('Solver lbfgs supports only l2 penalties, got l1 penalty.',)\n",
      "  \"Details: \\n%r\" % (error_score, e), FitFailedWarning)\n",
      "/anaconda3/lib/python3.6/site-packages/sklearn/model_selection/_validation.py:479: FitFailedWarning: Classifier fit failed. The score on this train-test partition for these parameters will be set to 0.000000. Details: \n",
      "ValueError('Solver lbfgs supports only l2 penalties, got l1 penalty.',)\n",
      "  \"Details: \\n%r\" % (error_score, e), FitFailedWarning)\n"
     ]
    },
    {
     "name": "stdout",
     "output_type": "stream",
     "text": [
      "[CV]  C=50, class_weight=balanced, penalty=l1, solver=lbfgs, score=0, total=   0.1s\n",
      "[CV] C=50, class_weight=balanced, penalty=l1, solver=lbfgs ...........\n",
      "[CV]  C=50, class_weight=balanced, penalty=l1, solver=lbfgs, score=0, total=   0.1s\n",
      "[CV] C=50, class_weight=balanced, penalty=l1, solver=sag .............\n",
      "[CV]  C=50, class_weight=balanced, penalty=l1, solver=sag, score=0, total=   0.1s\n",
      "[CV] C=50, class_weight=balanced, penalty=l1, solver=sag .............\n"
     ]
    },
    {
     "name": "stderr",
     "output_type": "stream",
     "text": [
      "/anaconda3/lib/python3.6/site-packages/sklearn/model_selection/_validation.py:479: FitFailedWarning: Classifier fit failed. The score on this train-test partition for these parameters will be set to 0.000000. Details: \n",
      "ValueError('Solver sag supports only l2 penalties, got l1 penalty.',)\n",
      "  \"Details: \\n%r\" % (error_score, e), FitFailedWarning)\n",
      "/anaconda3/lib/python3.6/site-packages/sklearn/model_selection/_validation.py:479: FitFailedWarning: Classifier fit failed. The score on this train-test partition for these parameters will be set to 0.000000. Details: \n",
      "ValueError('Solver sag supports only l2 penalties, got l1 penalty.',)\n",
      "  \"Details: \\n%r\" % (error_score, e), FitFailedWarning)\n",
      "/anaconda3/lib/python3.6/site-packages/sklearn/model_selection/_validation.py:479: FitFailedWarning: Classifier fit failed. The score on this train-test partition for these parameters will be set to 0.000000. Details: \n",
      "ValueError('Solver sag supports only l2 penalties, got l1 penalty.',)\n",
      "  \"Details: \\n%r\" % (error_score, e), FitFailedWarning)\n"
     ]
    },
    {
     "name": "stdout",
     "output_type": "stream",
     "text": [
      "[CV]  C=50, class_weight=balanced, penalty=l1, solver=sag, score=0, total=   0.1s\n",
      "[CV] C=50, class_weight=balanced, penalty=l1, solver=sag .............\n",
      "[CV]  C=50, class_weight=balanced, penalty=l1, solver=sag, score=0, total=   0.1s\n",
      "[CV] C=50, class_weight=balanced, penalty=l1, solver=saga ............\n"
     ]
    },
    {
     "name": "stderr",
     "output_type": "stream",
     "text": [
      "/anaconda3/lib/python3.6/site-packages/sklearn/linear_model/sag.py:326: ConvergenceWarning: The max_iter was reached which means the coef_ did not converge\n",
      "  \"the coef_ did not converge\", ConvergenceWarning)\n"
     ]
    },
    {
     "name": "stdout",
     "output_type": "stream",
     "text": [
      "[CV]  C=50, class_weight=balanced, penalty=l1, solver=saga, score=0.6335390146730152, total=  15.2s\n",
      "[CV] C=50, class_weight=balanced, penalty=l1, solver=saga ............\n"
     ]
    },
    {
     "name": "stderr",
     "output_type": "stream",
     "text": [
      "/anaconda3/lib/python3.6/site-packages/sklearn/linear_model/sag.py:326: ConvergenceWarning: The max_iter was reached which means the coef_ did not converge\n",
      "  \"the coef_ did not converge\", ConvergenceWarning)\n"
     ]
    },
    {
     "name": "stdout",
     "output_type": "stream",
     "text": [
      "[CV]  C=50, class_weight=balanced, penalty=l1, solver=saga, score=0.6440249738843136, total=  15.1s\n",
      "[CV] C=50, class_weight=balanced, penalty=l1, solver=saga ............\n"
     ]
    },
    {
     "name": "stderr",
     "output_type": "stream",
     "text": [
      "/anaconda3/lib/python3.6/site-packages/sklearn/linear_model/sag.py:326: ConvergenceWarning: The max_iter was reached which means the coef_ did not converge\n",
      "  \"the coef_ did not converge\", ConvergenceWarning)\n"
     ]
    },
    {
     "name": "stdout",
     "output_type": "stream",
     "text": [
      "[CV]  C=50, class_weight=balanced, penalty=l1, solver=saga, score=0.6405665419561731, total=  15.0s\n",
      "[CV] C=50, class_weight=balanced, penalty=l2, solver=liblinear .......\n",
      "[CV]  C=50, class_weight=balanced, penalty=l2, solver=liblinear, score=0.6335633077446312, total=   1.7s\n",
      "[CV] C=50, class_weight=balanced, penalty=l2, solver=liblinear .......\n",
      "[CV]  C=50, class_weight=balanced, penalty=l2, solver=liblinear, score=0.643587687972208, total=   4.3s\n",
      "[CV] C=50, class_weight=balanced, penalty=l2, solver=liblinear .......\n",
      "[CV]  C=50, class_weight=balanced, penalty=l2, solver=liblinear, score=0.6404207764442933, total=   5.0s\n",
      "[CV] C=50, class_weight=balanced, penalty=l2, solver=newton-cg .......\n",
      "[CV]  C=50, class_weight=balanced, penalty=l2, solver=newton-cg, score=0.6335633077446312, total=   8.5s\n",
      "[CV] C=50, class_weight=balanced, penalty=l2, solver=newton-cg .......\n",
      "[CV]  C=50, class_weight=balanced, penalty=l2, solver=newton-cg, score=0.643587687972208, total=   6.0s\n",
      "[CV] C=50, class_weight=balanced, penalty=l2, solver=newton-cg .......\n",
      "[CV]  C=50, class_weight=balanced, penalty=l2, solver=newton-cg, score=0.6404450706962732, total=   6.5s\n",
      "[CV] C=50, class_weight=balanced, penalty=l2, solver=lbfgs ...........\n",
      "[CV]  C=50, class_weight=balanced, penalty=l2, solver=lbfgs, score=0.6334661354581673, total=   0.9s\n",
      "[CV] C=50, class_weight=balanced, penalty=l2, solver=lbfgs ...........\n",
      "[CV]  C=50, class_weight=balanced, penalty=l2, solver=lbfgs, score=0.6431746957218861, total=   0.9s\n",
      "[CV] C=50, class_weight=balanced, penalty=l2, solver=lbfgs ...........\n",
      "[CV]  C=50, class_weight=balanced, penalty=l2, solver=lbfgs, score=0.6404207764442933, total=   0.9s\n",
      "[CV] C=50, class_weight=balanced, penalty=l2, solver=sag .............\n"
     ]
    },
    {
     "name": "stderr",
     "output_type": "stream",
     "text": [
      "/anaconda3/lib/python3.6/site-packages/sklearn/linear_model/sag.py:326: ConvergenceWarning: The max_iter was reached which means the coef_ did not converge\n",
      "  \"the coef_ did not converge\", ConvergenceWarning)\n"
     ]
    },
    {
     "name": "stdout",
     "output_type": "stream",
     "text": [
      "[CV]  C=50, class_weight=balanced, penalty=l2, solver=sag, score=0.6334904285297833, total=  10.7s\n",
      "[CV] C=50, class_weight=balanced, penalty=l2, solver=sag .............\n"
     ]
    },
    {
     "name": "stderr",
     "output_type": "stream",
     "text": [
      "/anaconda3/lib/python3.6/site-packages/sklearn/linear_model/sag.py:326: ConvergenceWarning: The max_iter was reached which means the coef_ did not converge\n",
      "  \"the coef_ did not converge\", ConvergenceWarning)\n"
     ]
    },
    {
     "name": "stdout",
     "output_type": "stream",
     "text": [
      "[CV]  C=50, class_weight=balanced, penalty=l2, solver=sag, score=0.64400068022253, total=  10.8s\n",
      "[CV] C=50, class_weight=balanced, penalty=l2, solver=sag .............\n"
     ]
    },
    {
     "name": "stderr",
     "output_type": "stream",
     "text": [
      "/anaconda3/lib/python3.6/site-packages/sklearn/linear_model/sag.py:326: ConvergenceWarning: The max_iter was reached which means the coef_ did not converge\n",
      "  \"the coef_ did not converge\", ConvergenceWarning)\n"
     ]
    },
    {
     "name": "stdout",
     "output_type": "stream",
     "text": [
      "[CV]  C=50, class_weight=balanced, penalty=l2, solver=sag, score=0.6404936592002333, total=  10.9s\n",
      "[CV] C=50, class_weight=balanced, penalty=l2, solver=saga ............\n"
     ]
    },
    {
     "name": "stderr",
     "output_type": "stream",
     "text": [
      "/anaconda3/lib/python3.6/site-packages/sklearn/linear_model/sag.py:326: ConvergenceWarning: The max_iter was reached which means the coef_ did not converge\n",
      "  \"the coef_ did not converge\", ConvergenceWarning)\n"
     ]
    },
    {
     "name": "stdout",
     "output_type": "stream",
     "text": [
      "[CV]  C=50, class_weight=balanced, penalty=l2, solver=saga, score=0.6336847731027111, total=  11.5s\n",
      "[CV] C=50, class_weight=balanced, penalty=l2, solver=saga ............\n"
     ]
    },
    {
     "name": "stderr",
     "output_type": "stream",
     "text": [
      "/anaconda3/lib/python3.6/site-packages/sklearn/linear_model/sag.py:326: ConvergenceWarning: The max_iter was reached which means the coef_ did not converge\n",
      "  \"the coef_ did not converge\", ConvergenceWarning)\n"
     ]
    },
    {
     "name": "stdout",
     "output_type": "stream",
     "text": [
      "[CV]  C=50, class_weight=balanced, penalty=l2, solver=saga, score=0.6450696013410101, total=  11.6s\n",
      "[CV] C=50, class_weight=balanced, penalty=l2, solver=saga ............\n"
     ]
    },
    {
     "name": "stderr",
     "output_type": "stream",
     "text": [
      "/anaconda3/lib/python3.6/site-packages/sklearn/linear_model/sag.py:326: ConvergenceWarning: The max_iter was reached which means the coef_ did not converge\n",
      "  \"the coef_ did not converge\", ConvergenceWarning)\n"
     ]
    },
    {
     "name": "stdout",
     "output_type": "stream",
     "text": [
      "[CV]  C=50, class_weight=balanced, penalty=l2, solver=saga, score=0.6412224867596327, total=  11.7s\n",
      "[CV] C=100, class_weight=None, penalty=l1, solver=liblinear ..........\n",
      "[CV]  C=100, class_weight=None, penalty=l1, solver=liblinear, score=0.8445729278009911, total=   1.9s\n",
      "[CV] C=100, class_weight=None, penalty=l1, solver=liblinear ..........\n",
      "[CV]  C=100, class_weight=None, penalty=l1, solver=liblinear, score=0.8437917547311906, total=   1.8s\n",
      "[CV] C=100, class_weight=None, penalty=l1, solver=liblinear ..........\n",
      "[CV]  C=100, class_weight=None, penalty=l1, solver=liblinear, score=0.8443224333122783, total=   2.0s\n",
      "[CV] C=100, class_weight=None, penalty=l1, solver=newton-cg ..........\n",
      "[CV]  C=100, class_weight=None, penalty=l1, solver=newton-cg, score=0, total=   0.1s\n",
      "[CV] C=100, class_weight=None, penalty=l1, solver=newton-cg ..........\n"
     ]
    },
    {
     "name": "stderr",
     "output_type": "stream",
     "text": [
      "/anaconda3/lib/python3.6/site-packages/sklearn/model_selection/_validation.py:479: FitFailedWarning: Classifier fit failed. The score on this train-test partition for these parameters will be set to 0.000000. Details: \n",
      "ValueError('Solver newton-cg supports only l2 penalties, got l1 penalty.',)\n",
      "  \"Details: \\n%r\" % (error_score, e), FitFailedWarning)\n",
      "/anaconda3/lib/python3.6/site-packages/sklearn/model_selection/_validation.py:479: FitFailedWarning: Classifier fit failed. The score on this train-test partition for these parameters will be set to 0.000000. Details: \n",
      "ValueError('Solver newton-cg supports only l2 penalties, got l1 penalty.',)\n",
      "  \"Details: \\n%r\" % (error_score, e), FitFailedWarning)\n",
      "/anaconda3/lib/python3.6/site-packages/sklearn/model_selection/_validation.py:479: FitFailedWarning: Classifier fit failed. The score on this train-test partition for these parameters will be set to 0.000000. Details: \n",
      "ValueError('Solver newton-cg supports only l2 penalties, got l1 penalty.',)\n",
      "  \"Details: \\n%r\" % (error_score, e), FitFailedWarning)\n"
     ]
    },
    {
     "name": "stdout",
     "output_type": "stream",
     "text": [
      "[CV]  C=100, class_weight=None, penalty=l1, solver=newton-cg, score=0, total=   0.1s\n",
      "[CV] C=100, class_weight=None, penalty=l1, solver=newton-cg ..........\n",
      "[CV]  C=100, class_weight=None, penalty=l1, solver=newton-cg, score=0, total=   0.1s\n",
      "[CV] C=100, class_weight=None, penalty=l1, solver=lbfgs ..............\n",
      "[CV]  C=100, class_weight=None, penalty=l1, solver=lbfgs, score=0, total=   0.1s\n",
      "[CV] C=100, class_weight=None, penalty=l1, solver=lbfgs ..............\n"
     ]
    },
    {
     "name": "stderr",
     "output_type": "stream",
     "text": [
      "/anaconda3/lib/python3.6/site-packages/sklearn/model_selection/_validation.py:479: FitFailedWarning: Classifier fit failed. The score on this train-test partition for these parameters will be set to 0.000000. Details: \n",
      "ValueError('Solver lbfgs supports only l2 penalties, got l1 penalty.',)\n",
      "  \"Details: \\n%r\" % (error_score, e), FitFailedWarning)\n",
      "/anaconda3/lib/python3.6/site-packages/sklearn/model_selection/_validation.py:479: FitFailedWarning: Classifier fit failed. The score on this train-test partition for these parameters will be set to 0.000000. Details: \n",
      "ValueError('Solver lbfgs supports only l2 penalties, got l1 penalty.',)\n",
      "  \"Details: \\n%r\" % (error_score, e), FitFailedWarning)\n",
      "/anaconda3/lib/python3.6/site-packages/sklearn/model_selection/_validation.py:479: FitFailedWarning: Classifier fit failed. The score on this train-test partition for these parameters will be set to 0.000000. Details: \n",
      "ValueError('Solver lbfgs supports only l2 penalties, got l1 penalty.',)\n",
      "  \"Details: \\n%r\" % (error_score, e), FitFailedWarning)\n"
     ]
    },
    {
     "name": "stdout",
     "output_type": "stream",
     "text": [
      "[CV]  C=100, class_weight=None, penalty=l1, solver=lbfgs, score=0, total=   0.1s\n",
      "[CV] C=100, class_weight=None, penalty=l1, solver=lbfgs ..............\n",
      "[CV]  C=100, class_weight=None, penalty=l1, solver=lbfgs, score=0, total=   0.1s\n",
      "[CV] C=100, class_weight=None, penalty=l1, solver=sag ................\n",
      "[CV]  C=100, class_weight=None, penalty=l1, solver=sag, score=0, total=   0.1s\n",
      "[CV] C=100, class_weight=None, penalty=l1, solver=sag ................\n"
     ]
    },
    {
     "name": "stderr",
     "output_type": "stream",
     "text": [
      "/anaconda3/lib/python3.6/site-packages/sklearn/model_selection/_validation.py:479: FitFailedWarning: Classifier fit failed. The score on this train-test partition for these parameters will be set to 0.000000. Details: \n",
      "ValueError('Solver sag supports only l2 penalties, got l1 penalty.',)\n",
      "  \"Details: \\n%r\" % (error_score, e), FitFailedWarning)\n",
      "/anaconda3/lib/python3.6/site-packages/sklearn/model_selection/_validation.py:479: FitFailedWarning: Classifier fit failed. The score on this train-test partition for these parameters will be set to 0.000000. Details: \n",
      "ValueError('Solver sag supports only l2 penalties, got l1 penalty.',)\n",
      "  \"Details: \\n%r\" % (error_score, e), FitFailedWarning)\n",
      "/anaconda3/lib/python3.6/site-packages/sklearn/model_selection/_validation.py:479: FitFailedWarning: Classifier fit failed. The score on this train-test partition for these parameters will be set to 0.000000. Details: \n",
      "ValueError('Solver sag supports only l2 penalties, got l1 penalty.',)\n",
      "  \"Details: \\n%r\" % (error_score, e), FitFailedWarning)\n"
     ]
    },
    {
     "name": "stdout",
     "output_type": "stream",
     "text": [
      "[CV]  C=100, class_weight=None, penalty=l1, solver=sag, score=0, total=   0.1s\n",
      "[CV] C=100, class_weight=None, penalty=l1, solver=sag ................\n",
      "[CV]  C=100, class_weight=None, penalty=l1, solver=sag, score=0, total=   0.1s\n",
      "[CV] C=100, class_weight=None, penalty=l1, solver=saga ...............\n"
     ]
    },
    {
     "name": "stderr",
     "output_type": "stream",
     "text": [
      "/anaconda3/lib/python3.6/site-packages/sklearn/linear_model/sag.py:326: ConvergenceWarning: The max_iter was reached which means the coef_ did not converge\n",
      "  \"the coef_ did not converge\", ConvergenceWarning)\n"
     ]
    },
    {
     "name": "stdout",
     "output_type": "stream",
     "text": [
      "[CV]  C=100, class_weight=None, penalty=l1, solver=saga, score=0.8445000485861432, total=  15.0s\n",
      "[CV] C=100, class_weight=None, penalty=l1, solver=saga ...............\n"
     ]
    },
    {
     "name": "stderr",
     "output_type": "stream",
     "text": [
      "/anaconda3/lib/python3.6/site-packages/sklearn/linear_model/sag.py:326: ConvergenceWarning: The max_iter was reached which means the coef_ did not converge\n",
      "  \"the coef_ did not converge\", ConvergenceWarning)\n"
     ]
    },
    {
     "name": "stdout",
     "output_type": "stream",
     "text": [
      "[CV]  C=100, class_weight=None, penalty=l1, solver=saga, score=0.8437188737458398, total=  15.0s\n",
      "[CV] C=100, class_weight=None, penalty=l1, solver=saga ...............\n"
     ]
    },
    {
     "name": "stderr",
     "output_type": "stream",
     "text": [
      "/anaconda3/lib/python3.6/site-packages/sklearn/linear_model/sag.py:326: ConvergenceWarning: The max_iter was reached which means the coef_ did not converge\n",
      "  \"the coef_ did not converge\", ConvergenceWarning)\n"
     ]
    },
    {
     "name": "stdout",
     "output_type": "stream",
     "text": [
      "[CV]  C=100, class_weight=None, penalty=l1, solver=saga, score=0.8443467275642583, total=  15.6s\n",
      "[CV] C=100, class_weight=None, penalty=l2, solver=liblinear ..........\n",
      "[CV]  C=100, class_weight=None, penalty=l2, solver=liblinear, score=0.8445243416577592, total=   1.1s\n",
      "[CV] C=100, class_weight=None, penalty=l2, solver=liblinear ..........\n",
      "[CV]  C=100, class_weight=None, penalty=l2, solver=liblinear, score=0.843767461069407, total=   3.2s\n",
      "[CV] C=100, class_weight=None, penalty=l2, solver=liblinear ..........\n",
      "[CV]  C=100, class_weight=None, penalty=l2, solver=liblinear, score=0.8443467275642583, total=   3.5s\n",
      "[CV] C=100, class_weight=None, penalty=l2, solver=newton-cg ..........\n",
      "[CV]  C=100, class_weight=None, penalty=l2, solver=newton-cg, score=0.8445243416577592, total=  10.1s\n",
      "[CV] C=100, class_weight=None, penalty=l2, solver=newton-cg ..........\n",
      "[CV]  C=100, class_weight=None, penalty=l2, solver=newton-cg, score=0.843767461069407, total=  10.1s\n",
      "[CV] C=100, class_weight=None, penalty=l2, solver=newton-cg ..........\n",
      "[CV]  C=100, class_weight=None, penalty=l2, solver=newton-cg, score=0.8443224333122783, total=  12.9s\n",
      "[CV] C=100, class_weight=None, penalty=l2, solver=lbfgs ..............\n",
      "[CV]  C=100, class_weight=None, penalty=l2, solver=lbfgs, score=0.8445243416577592, total=   0.8s\n",
      "[CV] C=100, class_weight=None, penalty=l2, solver=lbfgs ..............\n",
      "[CV]  C=100, class_weight=None, penalty=l2, solver=lbfgs, score=0.8437917547311906, total=   0.8s\n",
      "[CV] C=100, class_weight=None, penalty=l2, solver=lbfgs ..............\n",
      "[CV]  C=100, class_weight=None, penalty=l2, solver=lbfgs, score=0.8443224333122783, total=   0.8s\n",
      "[CV] C=100, class_weight=None, penalty=l2, solver=sag ................\n"
     ]
    },
    {
     "name": "stderr",
     "output_type": "stream",
     "text": [
      "/anaconda3/lib/python3.6/site-packages/sklearn/linear_model/sag.py:326: ConvergenceWarning: The max_iter was reached which means the coef_ did not converge\n",
      "  \"the coef_ did not converge\", ConvergenceWarning)\n"
     ]
    },
    {
     "name": "stdout",
     "output_type": "stream",
     "text": [
      "[CV]  C=100, class_weight=None, penalty=l2, solver=sag, score=0.8445000485861432, total=  10.7s\n",
      "[CV] C=100, class_weight=None, penalty=l2, solver=sag ................\n"
     ]
    },
    {
     "name": "stderr",
     "output_type": "stream",
     "text": [
      "/anaconda3/lib/python3.6/site-packages/sklearn/linear_model/sag.py:326: ConvergenceWarning: The max_iter was reached which means the coef_ did not converge\n",
      "  \"the coef_ did not converge\", ConvergenceWarning)\n"
     ]
    },
    {
     "name": "stdout",
     "output_type": "stream",
     "text": [
      "[CV]  C=100, class_weight=None, penalty=l2, solver=sag, score=0.8437431674076233, total=  11.0s\n",
      "[CV] C=100, class_weight=None, penalty=l2, solver=sag ................\n"
     ]
    },
    {
     "name": "stderr",
     "output_type": "stream",
     "text": [
      "/anaconda3/lib/python3.6/site-packages/sklearn/linear_model/sag.py:326: ConvergenceWarning: The max_iter was reached which means the coef_ did not converge\n",
      "  \"the coef_ did not converge\", ConvergenceWarning)\n"
     ]
    },
    {
     "name": "stdout",
     "output_type": "stream",
     "text": [
      "[CV]  C=100, class_weight=None, penalty=l2, solver=sag, score=0.8443467275642583, total=  11.4s\n",
      "[CV] C=100, class_weight=None, penalty=l2, solver=saga ...............\n"
     ]
    },
    {
     "name": "stderr",
     "output_type": "stream",
     "text": [
      "/anaconda3/lib/python3.6/site-packages/sklearn/linear_model/sag.py:326: ConvergenceWarning: The max_iter was reached which means the coef_ did not converge\n",
      "  \"the coef_ did not converge\", ConvergenceWarning)\n"
     ]
    },
    {
     "name": "stdout",
     "output_type": "stream",
     "text": [
      "[CV]  C=100, class_weight=None, penalty=l2, solver=saga, score=0.8445729278009911, total=  11.5s\n",
      "[CV] C=100, class_weight=None, penalty=l2, solver=saga ...............\n"
     ]
    },
    {
     "name": "stderr",
     "output_type": "stream",
     "text": [
      "/anaconda3/lib/python3.6/site-packages/sklearn/linear_model/sag.py:326: ConvergenceWarning: The max_iter was reached which means the coef_ did not converge\n",
      "  \"the coef_ did not converge\", ConvergenceWarning)\n"
     ]
    },
    {
     "name": "stdout",
     "output_type": "stream",
     "text": [
      "[CV]  C=100, class_weight=None, penalty=l2, solver=saga, score=0.8435488181133542, total=  11.6s\n",
      "[CV] C=100, class_weight=None, penalty=l2, solver=saga ...............\n"
     ]
    },
    {
     "name": "stderr",
     "output_type": "stream",
     "text": [
      "/anaconda3/lib/python3.6/site-packages/sklearn/linear_model/sag.py:326: ConvergenceWarning: The max_iter was reached which means the coef_ did not converge\n",
      "  \"the coef_ did not converge\", ConvergenceWarning)\n"
     ]
    },
    {
     "name": "stdout",
     "output_type": "stream",
     "text": [
      "[CV]  C=100, class_weight=None, penalty=l2, solver=saga, score=0.8442738448083184, total=  11.7s\n",
      "[CV] C=100, class_weight=balanced, penalty=l1, solver=liblinear ......\n",
      "[CV]  C=100, class_weight=balanced, penalty=l1, solver=liblinear, score=0.6335876008162472, total=   2.3s\n",
      "[CV] C=100, class_weight=balanced, penalty=l1, solver=liblinear ......\n",
      "[CV]  C=100, class_weight=balanced, penalty=l1, solver=liblinear, score=0.6435633943104244, total=   2.8s\n",
      "[CV] C=100, class_weight=balanced, penalty=l1, solver=liblinear ......\n",
      "[CV]  C=100, class_weight=balanced, penalty=l1, solver=liblinear, score=0.6404693649482532, total=   2.6s\n",
      "[CV] C=100, class_weight=balanced, penalty=l1, solver=newton-cg ......\n",
      "[CV]  C=100, class_weight=balanced, penalty=l1, solver=newton-cg, score=0, total=   0.1s\n",
      "[CV] C=100, class_weight=balanced, penalty=l1, solver=newton-cg ......\n"
     ]
    },
    {
     "name": "stderr",
     "output_type": "stream",
     "text": [
      "/anaconda3/lib/python3.6/site-packages/sklearn/model_selection/_validation.py:479: FitFailedWarning: Classifier fit failed. The score on this train-test partition for these parameters will be set to 0.000000. Details: \n",
      "ValueError('Solver newton-cg supports only l2 penalties, got l1 penalty.',)\n",
      "  \"Details: \\n%r\" % (error_score, e), FitFailedWarning)\n",
      "/anaconda3/lib/python3.6/site-packages/sklearn/model_selection/_validation.py:479: FitFailedWarning: Classifier fit failed. The score on this train-test partition for these parameters will be set to 0.000000. Details: \n",
      "ValueError('Solver newton-cg supports only l2 penalties, got l1 penalty.',)\n",
      "  \"Details: \\n%r\" % (error_score, e), FitFailedWarning)\n",
      "/anaconda3/lib/python3.6/site-packages/sklearn/model_selection/_validation.py:479: FitFailedWarning: Classifier fit failed. The score on this train-test partition for these parameters will be set to 0.000000. Details: \n",
      "ValueError('Solver newton-cg supports only l2 penalties, got l1 penalty.',)\n",
      "  \"Details: \\n%r\" % (error_score, e), FitFailedWarning)\n"
     ]
    },
    {
     "name": "stdout",
     "output_type": "stream",
     "text": [
      "[CV]  C=100, class_weight=balanced, penalty=l1, solver=newton-cg, score=0, total=   0.1s\n",
      "[CV] C=100, class_weight=balanced, penalty=l1, solver=newton-cg ......\n",
      "[CV]  C=100, class_weight=balanced, penalty=l1, solver=newton-cg, score=0, total=   0.1s\n",
      "[CV] C=100, class_weight=balanced, penalty=l1, solver=lbfgs ..........\n",
      "[CV]  C=100, class_weight=balanced, penalty=l1, solver=lbfgs, score=0, total=   0.1s\n",
      "[CV] C=100, class_weight=balanced, penalty=l1, solver=lbfgs ..........\n"
     ]
    },
    {
     "name": "stderr",
     "output_type": "stream",
     "text": [
      "/anaconda3/lib/python3.6/site-packages/sklearn/model_selection/_validation.py:479: FitFailedWarning: Classifier fit failed. The score on this train-test partition for these parameters will be set to 0.000000. Details: \n",
      "ValueError('Solver lbfgs supports only l2 penalties, got l1 penalty.',)\n",
      "  \"Details: \\n%r\" % (error_score, e), FitFailedWarning)\n",
      "/anaconda3/lib/python3.6/site-packages/sklearn/model_selection/_validation.py:479: FitFailedWarning: Classifier fit failed. The score on this train-test partition for these parameters will be set to 0.000000. Details: \n",
      "ValueError('Solver lbfgs supports only l2 penalties, got l1 penalty.',)\n",
      "  \"Details: \\n%r\" % (error_score, e), FitFailedWarning)\n",
      "/anaconda3/lib/python3.6/site-packages/sklearn/model_selection/_validation.py:479: FitFailedWarning: Classifier fit failed. The score on this train-test partition for these parameters will be set to 0.000000. Details: \n",
      "ValueError('Solver lbfgs supports only l2 penalties, got l1 penalty.',)\n",
      "  \"Details: \\n%r\" % (error_score, e), FitFailedWarning)\n"
     ]
    },
    {
     "name": "stdout",
     "output_type": "stream",
     "text": [
      "[CV]  C=100, class_weight=balanced, penalty=l1, solver=lbfgs, score=0, total=   0.1s\n",
      "[CV] C=100, class_weight=balanced, penalty=l1, solver=lbfgs ..........\n",
      "[CV]  C=100, class_weight=balanced, penalty=l1, solver=lbfgs, score=0, total=   0.1s\n",
      "[CV] C=100, class_weight=balanced, penalty=l1, solver=sag ............\n",
      "[CV]  C=100, class_weight=balanced, penalty=l1, solver=sag, score=0, total=   0.1s\n",
      "[CV] C=100, class_weight=balanced, penalty=l1, solver=sag ............\n"
     ]
    },
    {
     "name": "stderr",
     "output_type": "stream",
     "text": [
      "/anaconda3/lib/python3.6/site-packages/sklearn/model_selection/_validation.py:479: FitFailedWarning: Classifier fit failed. The score on this train-test partition for these parameters will be set to 0.000000. Details: \n",
      "ValueError('Solver sag supports only l2 penalties, got l1 penalty.',)\n",
      "  \"Details: \\n%r\" % (error_score, e), FitFailedWarning)\n",
      "/anaconda3/lib/python3.6/site-packages/sklearn/model_selection/_validation.py:479: FitFailedWarning: Classifier fit failed. The score on this train-test partition for these parameters will be set to 0.000000. Details: \n",
      "ValueError('Solver sag supports only l2 penalties, got l1 penalty.',)\n",
      "  \"Details: \\n%r\" % (error_score, e), FitFailedWarning)\n",
      "/anaconda3/lib/python3.6/site-packages/sklearn/model_selection/_validation.py:479: FitFailedWarning: Classifier fit failed. The score on this train-test partition for these parameters will be set to 0.000000. Details: \n",
      "ValueError('Solver sag supports only l2 penalties, got l1 penalty.',)\n",
      "  \"Details: \\n%r\" % (error_score, e), FitFailedWarning)\n"
     ]
    },
    {
     "name": "stdout",
     "output_type": "stream",
     "text": [
      "[CV]  C=100, class_weight=balanced, penalty=l1, solver=sag, score=0, total=   0.1s\n",
      "[CV] C=100, class_weight=balanced, penalty=l1, solver=sag ............\n",
      "[CV]  C=100, class_weight=balanced, penalty=l1, solver=sag, score=0, total=   0.1s\n",
      "[CV] C=100, class_weight=balanced, penalty=l1, solver=saga ...........\n"
     ]
    },
    {
     "name": "stderr",
     "output_type": "stream",
     "text": [
      "/anaconda3/lib/python3.6/site-packages/sklearn/linear_model/sag.py:326: ConvergenceWarning: The max_iter was reached which means the coef_ did not converge\n",
      "  \"the coef_ did not converge\", ConvergenceWarning)\n"
     ]
    },
    {
     "name": "stdout",
     "output_type": "stream",
     "text": [
      "[CV]  C=100, class_weight=balanced, penalty=l1, solver=saga, score=0.6335390146730152, total=  14.3s\n",
      "[CV] C=100, class_weight=balanced, penalty=l1, solver=saga ...........\n"
     ]
    },
    {
     "name": "stderr",
     "output_type": "stream",
     "text": [
      "/anaconda3/lib/python3.6/site-packages/sklearn/linear_model/sag.py:326: ConvergenceWarning: The max_iter was reached which means the coef_ did not converge\n",
      "  \"the coef_ did not converge\", ConvergenceWarning)\n"
     ]
    },
    {
     "name": "stdout",
     "output_type": "stream",
     "text": [
      "[CV]  C=100, class_weight=balanced, penalty=l1, solver=saga, score=0.6439763865607463, total=  14.5s\n",
      "[CV] C=100, class_weight=balanced, penalty=l1, solver=saga ...........\n"
     ]
    },
    {
     "name": "stderr",
     "output_type": "stream",
     "text": [
      "/anaconda3/lib/python3.6/site-packages/sklearn/linear_model/sag.py:326: ConvergenceWarning: The max_iter was reached which means the coef_ did not converge\n",
      "  \"the coef_ did not converge\", ConvergenceWarning)\n"
     ]
    },
    {
     "name": "stdout",
     "output_type": "stream",
     "text": [
      "[CV]  C=100, class_weight=balanced, penalty=l1, solver=saga, score=0.6405908362081532, total=  14.4s\n",
      "[CV] C=100, class_weight=balanced, penalty=l2, solver=liblinear ......\n",
      "[CV]  C=100, class_weight=balanced, penalty=l2, solver=liblinear, score=0.6335633077446312, total=   3.6s\n",
      "[CV] C=100, class_weight=balanced, penalty=l2, solver=liblinear ......\n",
      "[CV]  C=100, class_weight=balanced, penalty=l2, solver=liblinear, score=0.643587687972208, total=   6.0s\n",
      "[CV] C=100, class_weight=balanced, penalty=l2, solver=liblinear ......\n",
      "[CV]  C=100, class_weight=balanced, penalty=l2, solver=liblinear, score=0.6404693649482532, total=   5.1s\n",
      "[CV] C=100, class_weight=balanced, penalty=l2, solver=newton-cg ......\n",
      "[CV]  C=100, class_weight=balanced, penalty=l2, solver=newton-cg, score=0.6335633077446312, total=   6.4s\n",
      "[CV] C=100, class_weight=balanced, penalty=l2, solver=newton-cg ......\n",
      "[CV]  C=100, class_weight=balanced, penalty=l2, solver=newton-cg, score=0.643587687972208, total=   7.7s\n",
      "[CV] C=100, class_weight=balanced, penalty=l2, solver=newton-cg ......\n",
      "[CV]  C=100, class_weight=balanced, penalty=l2, solver=newton-cg, score=0.6404450706962732, total=   7.0s\n",
      "[CV] C=100, class_weight=balanced, penalty=l2, solver=lbfgs ..........\n",
      "[CV]  C=100, class_weight=balanced, penalty=l2, solver=lbfgs, score=0.6336847731027111, total=   0.8s\n",
      "[CV] C=100, class_weight=balanced, penalty=l2, solver=lbfgs ..........\n",
      "[CV]  C=100, class_weight=balanced, penalty=l2, solver=lbfgs, score=0.6436362752957754, total=   0.8s\n",
      "[CV] C=100, class_weight=balanced, penalty=l2, solver=lbfgs ..........\n",
      "[CV]  C=100, class_weight=balanced, penalty=l2, solver=lbfgs, score=0.6404450706962732, total=   0.8s\n",
      "[CV] C=100, class_weight=balanced, penalty=l2, solver=sag ............\n"
     ]
    },
    {
     "name": "stderr",
     "output_type": "stream",
     "text": [
      "/anaconda3/lib/python3.6/site-packages/sklearn/linear_model/sag.py:326: ConvergenceWarning: The max_iter was reached which means the coef_ did not converge\n",
      "  \"the coef_ did not converge\", ConvergenceWarning)\n"
     ]
    },
    {
     "name": "stdout",
     "output_type": "stream",
     "text": [
      "[CV]  C=100, class_weight=balanced, penalty=l2, solver=sag, score=0.6334904285297833, total=   9.4s\n",
      "[CV] C=100, class_weight=balanced, penalty=l2, solver=sag ............\n"
     ]
    },
    {
     "name": "stderr",
     "output_type": "stream",
     "text": [
      "/anaconda3/lib/python3.6/site-packages/sklearn/linear_model/sag.py:326: ConvergenceWarning: The max_iter was reached which means the coef_ did not converge\n",
      "  \"the coef_ did not converge\", ConvergenceWarning)\n"
     ]
    },
    {
     "name": "stdout",
     "output_type": "stream",
     "text": [
      "[CV]  C=100, class_weight=balanced, penalty=l2, solver=sag, score=0.6439763865607463, total=   9.4s\n",
      "[CV] C=100, class_weight=balanced, penalty=l2, solver=sag ............\n"
     ]
    },
    {
     "name": "stderr",
     "output_type": "stream",
     "text": [
      "/anaconda3/lib/python3.6/site-packages/sklearn/linear_model/sag.py:326: ConvergenceWarning: The max_iter was reached which means the coef_ did not converge\n",
      "  \"the coef_ did not converge\", ConvergenceWarning)\n"
     ]
    },
    {
     "name": "stdout",
     "output_type": "stream",
     "text": [
      "[CV]  C=100, class_weight=balanced, penalty=l2, solver=sag, score=0.6404936592002333, total=   9.9s\n",
      "[CV] C=100, class_weight=balanced, penalty=l2, solver=saga ...........\n"
     ]
    },
    {
     "name": "stderr",
     "output_type": "stream",
     "text": [
      "/anaconda3/lib/python3.6/site-packages/sklearn/linear_model/sag.py:326: ConvergenceWarning: The max_iter was reached which means the coef_ did not converge\n",
      "  \"the coef_ did not converge\", ConvergenceWarning)\n"
     ]
    },
    {
     "name": "stdout",
     "output_type": "stream",
     "text": [
      "[CV]  C=100, class_weight=balanced, penalty=l2, solver=saga, score=0.6337090661743271, total=  10.3s\n",
      "[CV] C=100, class_weight=balanced, penalty=l2, solver=saga ...........\n"
     ]
    },
    {
     "name": "stderr",
     "output_type": "stream",
     "text": [
      "/anaconda3/lib/python3.6/site-packages/sklearn/linear_model/sag.py:326: ConvergenceWarning: The max_iter was reached which means the coef_ did not converge\n",
      "  \"the coef_ did not converge\", ConvergenceWarning)\n"
     ]
    },
    {
     "name": "stdout",
     "output_type": "stream",
     "text": [
      "[CV]  C=100, class_weight=balanced, penalty=l2, solver=saga, score=0.6451181886645774, total=  10.5s\n",
      "[CV] C=100, class_weight=balanced, penalty=l2, solver=saga ...........\n"
     ]
    },
    {
     "name": "stderr",
     "output_type": "stream",
     "text": [
      "/anaconda3/lib/python3.6/site-packages/sklearn/linear_model/sag.py:326: ConvergenceWarning: The max_iter was reached which means the coef_ did not converge\n",
      "  \"the coef_ did not converge\", ConvergenceWarning)\n"
     ]
    },
    {
     "name": "stdout",
     "output_type": "stream",
     "text": [
      "[CV]  C=100, class_weight=balanced, penalty=l2, solver=saga, score=0.6412710752635926, total=  11.1s\n",
      "[CV] C=500, class_weight=None, penalty=l1, solver=liblinear ..........\n",
      "[CV]  C=500, class_weight=None, penalty=l1, solver=liblinear, score=0.8445729278009911, total=   1.8s\n",
      "[CV] C=500, class_weight=None, penalty=l1, solver=liblinear ..........\n",
      "[CV]  C=500, class_weight=None, penalty=l1, solver=liblinear, score=0.843767461069407, total=   1.9s\n",
      "[CV] C=500, class_weight=None, penalty=l1, solver=liblinear ..........\n",
      "[CV]  C=500, class_weight=None, penalty=l1, solver=liblinear, score=0.8443224333122783, total=   2.0s\n",
      "[CV] C=500, class_weight=None, penalty=l1, solver=newton-cg ..........\n",
      "[CV]  C=500, class_weight=None, penalty=l1, solver=newton-cg, score=0, total=   0.1s\n",
      "[CV] C=500, class_weight=None, penalty=l1, solver=newton-cg ..........\n"
     ]
    },
    {
     "name": "stderr",
     "output_type": "stream",
     "text": [
      "/anaconda3/lib/python3.6/site-packages/sklearn/model_selection/_validation.py:479: FitFailedWarning: Classifier fit failed. The score on this train-test partition for these parameters will be set to 0.000000. Details: \n",
      "ValueError('Solver newton-cg supports only l2 penalties, got l1 penalty.',)\n",
      "  \"Details: \\n%r\" % (error_score, e), FitFailedWarning)\n",
      "/anaconda3/lib/python3.6/site-packages/sklearn/model_selection/_validation.py:479: FitFailedWarning: Classifier fit failed. The score on this train-test partition for these parameters will be set to 0.000000. Details: \n",
      "ValueError('Solver newton-cg supports only l2 penalties, got l1 penalty.',)\n",
      "  \"Details: \\n%r\" % (error_score, e), FitFailedWarning)\n"
     ]
    },
    {
     "name": "stdout",
     "output_type": "stream",
     "text": [
      "[CV]  C=500, class_weight=None, penalty=l1, solver=newton-cg, score=0, total=   0.1s\n",
      "[CV] C=500, class_weight=None, penalty=l1, solver=newton-cg ..........\n",
      "[CV]  C=500, class_weight=None, penalty=l1, solver=newton-cg, score=0, total=   0.1s\n",
      "[CV] C=500, class_weight=None, penalty=l1, solver=lbfgs ..............\n",
      "[CV]  C=500, class_weight=None, penalty=l1, solver=lbfgs, score=0, total=   0.1s\n",
      "[CV] C=500, class_weight=None, penalty=l1, solver=lbfgs ..............\n"
     ]
    },
    {
     "name": "stderr",
     "output_type": "stream",
     "text": [
      "/anaconda3/lib/python3.6/site-packages/sklearn/model_selection/_validation.py:479: FitFailedWarning: Classifier fit failed. The score on this train-test partition for these parameters will be set to 0.000000. Details: \n",
      "ValueError('Solver newton-cg supports only l2 penalties, got l1 penalty.',)\n",
      "  \"Details: \\n%r\" % (error_score, e), FitFailedWarning)\n",
      "/anaconda3/lib/python3.6/site-packages/sklearn/model_selection/_validation.py:479: FitFailedWarning: Classifier fit failed. The score on this train-test partition for these parameters will be set to 0.000000. Details: \n",
      "ValueError('Solver lbfgs supports only l2 penalties, got l1 penalty.',)\n",
      "  \"Details: \\n%r\" % (error_score, e), FitFailedWarning)\n",
      "/anaconda3/lib/python3.6/site-packages/sklearn/model_selection/_validation.py:479: FitFailedWarning: Classifier fit failed. The score on this train-test partition for these parameters will be set to 0.000000. Details: \n",
      "ValueError('Solver lbfgs supports only l2 penalties, got l1 penalty.',)\n",
      "  \"Details: \\n%r\" % (error_score, e), FitFailedWarning)\n"
     ]
    },
    {
     "name": "stdout",
     "output_type": "stream",
     "text": [
      "[CV]  C=500, class_weight=None, penalty=l1, solver=lbfgs, score=0, total=   0.1s\n",
      "[CV] C=500, class_weight=None, penalty=l1, solver=lbfgs ..............\n",
      "[CV]  C=500, class_weight=None, penalty=l1, solver=lbfgs, score=0, total=   0.1s\n",
      "[CV] C=500, class_weight=None, penalty=l1, solver=sag ................\n",
      "[CV]  C=500, class_weight=None, penalty=l1, solver=sag, score=0, total=   0.1s\n",
      "[CV] C=500, class_weight=None, penalty=l1, solver=sag ................\n"
     ]
    },
    {
     "name": "stderr",
     "output_type": "stream",
     "text": [
      "/anaconda3/lib/python3.6/site-packages/sklearn/model_selection/_validation.py:479: FitFailedWarning: Classifier fit failed. The score on this train-test partition for these parameters will be set to 0.000000. Details: \n",
      "ValueError('Solver lbfgs supports only l2 penalties, got l1 penalty.',)\n",
      "  \"Details: \\n%r\" % (error_score, e), FitFailedWarning)\n",
      "/anaconda3/lib/python3.6/site-packages/sklearn/model_selection/_validation.py:479: FitFailedWarning: Classifier fit failed. The score on this train-test partition for these parameters will be set to 0.000000. Details: \n",
      "ValueError('Solver sag supports only l2 penalties, got l1 penalty.',)\n",
      "  \"Details: \\n%r\" % (error_score, e), FitFailedWarning)\n",
      "/anaconda3/lib/python3.6/site-packages/sklearn/model_selection/_validation.py:479: FitFailedWarning: Classifier fit failed. The score on this train-test partition for these parameters will be set to 0.000000. Details: \n",
      "ValueError('Solver sag supports only l2 penalties, got l1 penalty.',)\n",
      "  \"Details: \\n%r\" % (error_score, e), FitFailedWarning)\n",
      "/anaconda3/lib/python3.6/site-packages/sklearn/model_selection/_validation.py:479: FitFailedWarning: Classifier fit failed. The score on this train-test partition for these parameters will be set to 0.000000. Details: \n",
      "ValueError('Solver sag supports only l2 penalties, got l1 penalty.',)\n",
      "  \"Details: \\n%r\" % (error_score, e), FitFailedWarning)\n"
     ]
    },
    {
     "name": "stdout",
     "output_type": "stream",
     "text": [
      "[CV]  C=500, class_weight=None, penalty=l1, solver=sag, score=0, total=   0.1s\n",
      "[CV] C=500, class_weight=None, penalty=l1, solver=sag ................\n",
      "[CV]  C=500, class_weight=None, penalty=l1, solver=sag, score=0, total=   0.1s\n",
      "[CV] C=500, class_weight=None, penalty=l1, solver=saga ...............\n"
     ]
    },
    {
     "name": "stderr",
     "output_type": "stream",
     "text": [
      "/anaconda3/lib/python3.6/site-packages/sklearn/linear_model/sag.py:326: ConvergenceWarning: The max_iter was reached which means the coef_ did not converge\n",
      "  \"the coef_ did not converge\", ConvergenceWarning)\n"
     ]
    },
    {
     "name": "stdout",
     "output_type": "stream",
     "text": [
      "[CV]  C=500, class_weight=None, penalty=l1, solver=saga, score=0.8445000485861432, total=  14.2s\n",
      "[CV] C=500, class_weight=None, penalty=l1, solver=saga ...............\n"
     ]
    },
    {
     "name": "stderr",
     "output_type": "stream",
     "text": [
      "/anaconda3/lib/python3.6/site-packages/sklearn/linear_model/sag.py:326: ConvergenceWarning: The max_iter was reached which means the coef_ did not converge\n",
      "  \"the coef_ did not converge\", ConvergenceWarning)\n"
     ]
    },
    {
     "name": "stdout",
     "output_type": "stream",
     "text": [
      "[CV]  C=500, class_weight=None, penalty=l1, solver=saga, score=0.8437431674076233, total=  14.7s\n",
      "[CV] C=500, class_weight=None, penalty=l1, solver=saga ...............\n"
     ]
    },
    {
     "name": "stderr",
     "output_type": "stream",
     "text": [
      "/anaconda3/lib/python3.6/site-packages/sklearn/linear_model/sag.py:326: ConvergenceWarning: The max_iter was reached which means the coef_ did not converge\n",
      "  \"the coef_ did not converge\", ConvergenceWarning)\n"
     ]
    },
    {
     "name": "stdout",
     "output_type": "stream",
     "text": [
      "[CV]  C=500, class_weight=None, penalty=l1, solver=saga, score=0.8443467275642583, total=  14.1s\n",
      "[CV] C=500, class_weight=None, penalty=l2, solver=liblinear ..........\n",
      "[CV]  C=500, class_weight=None, penalty=l2, solver=liblinear, score=0.8445243416577592, total=   1.2s\n",
      "[CV] C=500, class_weight=None, penalty=l2, solver=liblinear ..........\n",
      "[CV]  C=500, class_weight=None, penalty=l2, solver=liblinear, score=0.8437431674076233, total=   2.9s\n",
      "[CV] C=500, class_weight=None, penalty=l2, solver=liblinear ..........\n",
      "[CV]  C=500, class_weight=None, penalty=l2, solver=liblinear, score=0.8443224333122783, total=   4.2s\n",
      "[CV] C=500, class_weight=None, penalty=l2, solver=newton-cg ..........\n",
      "[CV]  C=500, class_weight=None, penalty=l2, solver=newton-cg, score=0.8445243416577592, total=  14.8s\n",
      "[CV] C=500, class_weight=None, penalty=l2, solver=newton-cg ..........\n",
      "[CV]  C=500, class_weight=None, penalty=l2, solver=newton-cg, score=0.843767461069407, total=  15.4s\n",
      "[CV] C=500, class_weight=None, penalty=l2, solver=newton-cg ..........\n",
      "[CV]  C=500, class_weight=None, penalty=l2, solver=newton-cg, score=0.8443467275642583, total=  21.3s\n",
      "[CV] C=500, class_weight=None, penalty=l2, solver=lbfgs ..............\n",
      "[CV]  C=500, class_weight=None, penalty=l2, solver=lbfgs, score=0.8445243416577592, total=   0.8s\n",
      "[CV] C=500, class_weight=None, penalty=l2, solver=lbfgs ..............\n",
      "[CV]  C=500, class_weight=None, penalty=l2, solver=lbfgs, score=0.843767461069407, total=   0.8s\n",
      "[CV] C=500, class_weight=None, penalty=l2, solver=lbfgs ..............\n",
      "[CV]  C=500, class_weight=None, penalty=l2, solver=lbfgs, score=0.8443467275642583, total=   0.8s\n",
      "[CV] C=500, class_weight=None, penalty=l2, solver=sag ................\n"
     ]
    },
    {
     "name": "stderr",
     "output_type": "stream",
     "text": [
      "/anaconda3/lib/python3.6/site-packages/sklearn/linear_model/sag.py:326: ConvergenceWarning: The max_iter was reached which means the coef_ did not converge\n",
      "  \"the coef_ did not converge\", ConvergenceWarning)\n"
     ]
    },
    {
     "name": "stdout",
     "output_type": "stream",
     "text": [
      "[CV]  C=500, class_weight=None, penalty=l2, solver=sag, score=0.8445000485861432, total=  11.1s\n",
      "[CV] C=500, class_weight=None, penalty=l2, solver=sag ................\n"
     ]
    },
    {
     "name": "stderr",
     "output_type": "stream",
     "text": [
      "/anaconda3/lib/python3.6/site-packages/sklearn/linear_model/sag.py:326: ConvergenceWarning: The max_iter was reached which means the coef_ did not converge\n",
      "  \"the coef_ did not converge\", ConvergenceWarning)\n"
     ]
    },
    {
     "name": "stdout",
     "output_type": "stream",
     "text": [
      "[CV]  C=500, class_weight=None, penalty=l2, solver=sag, score=0.8437188737458398, total=  11.3s\n",
      "[CV] C=500, class_weight=None, penalty=l2, solver=sag ................\n"
     ]
    },
    {
     "name": "stderr",
     "output_type": "stream",
     "text": [
      "/anaconda3/lib/python3.6/site-packages/sklearn/linear_model/sag.py:326: ConvergenceWarning: The max_iter was reached which means the coef_ did not converge\n",
      "  \"the coef_ did not converge\", ConvergenceWarning)\n"
     ]
    },
    {
     "name": "stdout",
     "output_type": "stream",
     "text": [
      "[CV]  C=500, class_weight=None, penalty=l2, solver=sag, score=0.8443467275642583, total=  10.5s\n",
      "[CV] C=500, class_weight=None, penalty=l2, solver=saga ...............\n"
     ]
    },
    {
     "name": "stderr",
     "output_type": "stream",
     "text": [
      "/anaconda3/lib/python3.6/site-packages/sklearn/linear_model/sag.py:326: ConvergenceWarning: The max_iter was reached which means the coef_ did not converge\n",
      "  \"the coef_ did not converge\", ConvergenceWarning)\n"
     ]
    },
    {
     "name": "stdout",
     "output_type": "stream",
     "text": [
      "[CV]  C=500, class_weight=None, penalty=l2, solver=saga, score=0.8445729278009911, total=  10.3s\n",
      "[CV] C=500, class_weight=None, penalty=l2, solver=saga ...............\n"
     ]
    },
    {
     "name": "stderr",
     "output_type": "stream",
     "text": [
      "/anaconda3/lib/python3.6/site-packages/sklearn/linear_model/sag.py:326: ConvergenceWarning: The max_iter was reached which means the coef_ did not converge\n",
      "  \"the coef_ did not converge\", ConvergenceWarning)\n"
     ]
    },
    {
     "name": "stdout",
     "output_type": "stream",
     "text": [
      "[CV]  C=500, class_weight=None, penalty=l2, solver=saga, score=0.8435488181133542, total=  11.4s\n",
      "[CV] C=500, class_weight=None, penalty=l2, solver=saga ...............\n"
     ]
    },
    {
     "name": "stderr",
     "output_type": "stream",
     "text": [
      "/anaconda3/lib/python3.6/site-packages/sklearn/linear_model/sag.py:326: ConvergenceWarning: The max_iter was reached which means the coef_ did not converge\n",
      "  \"the coef_ did not converge\", ConvergenceWarning)\n"
     ]
    },
    {
     "name": "stdout",
     "output_type": "stream",
     "text": [
      "[CV]  C=500, class_weight=None, penalty=l2, solver=saga, score=0.8442738448083184, total=  11.6s\n",
      "[CV] C=500, class_weight=balanced, penalty=l1, solver=liblinear ......\n",
      "[CV]  C=500, class_weight=balanced, penalty=l1, solver=liblinear, score=0.6335876008162472, total=   2.5s\n",
      "[CV] C=500, class_weight=balanced, penalty=l1, solver=liblinear ......\n",
      "[CV]  C=500, class_weight=balanced, penalty=l1, solver=liblinear, score=0.643587687972208, total=   2.1s\n",
      "[CV] C=500, class_weight=balanced, penalty=l1, solver=liblinear ......\n",
      "[CV]  C=500, class_weight=balanced, penalty=l1, solver=liblinear, score=0.6404936592002333, total=   2.2s\n",
      "[CV] C=500, class_weight=balanced, penalty=l1, solver=newton-cg ......\n",
      "[CV]  C=500, class_weight=balanced, penalty=l1, solver=newton-cg, score=0, total=   0.1s\n",
      "[CV] C=500, class_weight=balanced, penalty=l1, solver=newton-cg ......\n"
     ]
    },
    {
     "name": "stderr",
     "output_type": "stream",
     "text": [
      "/anaconda3/lib/python3.6/site-packages/sklearn/model_selection/_validation.py:479: FitFailedWarning: Classifier fit failed. The score on this train-test partition for these parameters will be set to 0.000000. Details: \n",
      "ValueError('Solver newton-cg supports only l2 penalties, got l1 penalty.',)\n",
      "  \"Details: \\n%r\" % (error_score, e), FitFailedWarning)\n",
      "/anaconda3/lib/python3.6/site-packages/sklearn/model_selection/_validation.py:479: FitFailedWarning: Classifier fit failed. The score on this train-test partition for these parameters will be set to 0.000000. Details: \n",
      "ValueError('Solver newton-cg supports only l2 penalties, got l1 penalty.',)\n",
      "  \"Details: \\n%r\" % (error_score, e), FitFailedWarning)\n"
     ]
    },
    {
     "name": "stdout",
     "output_type": "stream",
     "text": [
      "[CV]  C=500, class_weight=balanced, penalty=l1, solver=newton-cg, score=0, total=   0.1s\n",
      "[CV] C=500, class_weight=balanced, penalty=l1, solver=newton-cg ......\n",
      "[CV]  C=500, class_weight=balanced, penalty=l1, solver=newton-cg, score=0, total=   0.1s\n",
      "[CV] C=500, class_weight=balanced, penalty=l1, solver=lbfgs ..........\n",
      "[CV]  C=500, class_weight=balanced, penalty=l1, solver=lbfgs, score=0, total=   0.1s\n",
      "[CV] C=500, class_weight=balanced, penalty=l1, solver=lbfgs ..........\n"
     ]
    },
    {
     "name": "stderr",
     "output_type": "stream",
     "text": [
      "/anaconda3/lib/python3.6/site-packages/sklearn/model_selection/_validation.py:479: FitFailedWarning: Classifier fit failed. The score on this train-test partition for these parameters will be set to 0.000000. Details: \n",
      "ValueError('Solver newton-cg supports only l2 penalties, got l1 penalty.',)\n",
      "  \"Details: \\n%r\" % (error_score, e), FitFailedWarning)\n",
      "/anaconda3/lib/python3.6/site-packages/sklearn/model_selection/_validation.py:479: FitFailedWarning: Classifier fit failed. The score on this train-test partition for these parameters will be set to 0.000000. Details: \n",
      "ValueError('Solver lbfgs supports only l2 penalties, got l1 penalty.',)\n",
      "  \"Details: \\n%r\" % (error_score, e), FitFailedWarning)\n",
      "/anaconda3/lib/python3.6/site-packages/sklearn/model_selection/_validation.py:479: FitFailedWarning: Classifier fit failed. The score on this train-test partition for these parameters will be set to 0.000000. Details: \n",
      "ValueError('Solver lbfgs supports only l2 penalties, got l1 penalty.',)\n",
      "  \"Details: \\n%r\" % (error_score, e), FitFailedWarning)\n"
     ]
    },
    {
     "name": "stdout",
     "output_type": "stream",
     "text": [
      "[CV]  C=500, class_weight=balanced, penalty=l1, solver=lbfgs, score=0, total=   0.1s\n",
      "[CV] C=500, class_weight=balanced, penalty=l1, solver=lbfgs ..........\n",
      "[CV]  C=500, class_weight=balanced, penalty=l1, solver=lbfgs, score=0, total=   0.1s\n",
      "[CV] C=500, class_weight=balanced, penalty=l1, solver=sag ............\n",
      "[CV]  C=500, class_weight=balanced, penalty=l1, solver=sag, score=0, total=   0.1s\n",
      "[CV] C=500, class_weight=balanced, penalty=l1, solver=sag ............"
     ]
    },
    {
     "name": "stderr",
     "output_type": "stream",
     "text": [
      "/anaconda3/lib/python3.6/site-packages/sklearn/model_selection/_validation.py:479: FitFailedWarning: Classifier fit failed. The score on this train-test partition for these parameters will be set to 0.000000. Details: \n",
      "ValueError('Solver lbfgs supports only l2 penalties, got l1 penalty.',)\n",
      "  \"Details: \\n%r\" % (error_score, e), FitFailedWarning)\n",
      "/anaconda3/lib/python3.6/site-packages/sklearn/model_selection/_validation.py:479: FitFailedWarning: Classifier fit failed. The score on this train-test partition for these parameters will be set to 0.000000. Details: \n",
      "ValueError('Solver sag supports only l2 penalties, got l1 penalty.',)\n",
      "  \"Details: \\n%r\" % (error_score, e), FitFailedWarning)\n",
      "/anaconda3/lib/python3.6/site-packages/sklearn/model_selection/_validation.py:479: FitFailedWarning: Classifier fit failed. The score on this train-test partition for these parameters will be set to 0.000000. Details: \n",
      "ValueError('Solver sag supports only l2 penalties, got l1 penalty.',)\n",
      "  \"Details: \\n%r\" % (error_score, e), FitFailedWarning)\n",
      "/anaconda3/lib/python3.6/site-packages/sklearn/model_selection/_validation.py:479: FitFailedWarning: Classifier fit failed. The score on this train-test partition for these parameters will be set to 0.000000. Details: \n",
      "ValueError('Solver sag supports only l2 penalties, got l1 penalty.',)\n",
      "  \"Details: \\n%r\" % (error_score, e), FitFailedWarning)\n"
     ]
    },
    {
     "name": "stdout",
     "output_type": "stream",
     "text": [
      "\n",
      "[CV]  C=500, class_weight=balanced, penalty=l1, solver=sag, score=0, total=   0.1s\n",
      "[CV] C=500, class_weight=balanced, penalty=l1, solver=sag ............\n",
      "[CV]  C=500, class_weight=balanced, penalty=l1, solver=sag, score=0, total=   0.1s\n",
      "[CV] C=500, class_weight=balanced, penalty=l1, solver=saga ...........\n"
     ]
    },
    {
     "name": "stderr",
     "output_type": "stream",
     "text": [
      "/anaconda3/lib/python3.6/site-packages/sklearn/linear_model/sag.py:326: ConvergenceWarning: The max_iter was reached which means the coef_ did not converge\n",
      "  \"the coef_ did not converge\", ConvergenceWarning)\n"
     ]
    },
    {
     "name": "stdout",
     "output_type": "stream",
     "text": [
      "[CV]  C=500, class_weight=balanced, penalty=l1, solver=saga, score=0.6335147216013993, total=  14.9s\n",
      "[CV] C=500, class_weight=balanced, penalty=l1, solver=saga ...........\n"
     ]
    },
    {
     "name": "stderr",
     "output_type": "stream",
     "text": [
      "/anaconda3/lib/python3.6/site-packages/sklearn/linear_model/sag.py:326: ConvergenceWarning: The max_iter was reached which means the coef_ did not converge\n",
      "  \"the coef_ did not converge\", ConvergenceWarning)\n"
     ]
    },
    {
     "name": "stdout",
     "output_type": "stream",
     "text": [
      "[CV]  C=500, class_weight=balanced, penalty=l1, solver=saga, score=0.6440492675460973, total=  15.0s\n",
      "[CV] C=500, class_weight=balanced, penalty=l1, solver=saga ...........\n"
     ]
    },
    {
     "name": "stderr",
     "output_type": "stream",
     "text": [
      "/anaconda3/lib/python3.6/site-packages/sklearn/linear_model/sag.py:326: ConvergenceWarning: The max_iter was reached which means the coef_ did not converge\n",
      "  \"the coef_ did not converge\", ConvergenceWarning)\n"
     ]
    },
    {
     "name": "stdout",
     "output_type": "stream",
     "text": [
      "[CV]  C=500, class_weight=balanced, penalty=l1, solver=saga, score=0.6405665419561731, total=  15.0s\n",
      "[CV] C=500, class_weight=balanced, penalty=l2, solver=liblinear ......\n",
      "[CV]  C=500, class_weight=balanced, penalty=l2, solver=liblinear, score=0.6335633077446312, total=   2.5s\n",
      "[CV] C=500, class_weight=balanced, penalty=l2, solver=liblinear ......\n",
      "[CV]  C=500, class_weight=balanced, penalty=l2, solver=liblinear, score=0.6435633943104244, total=   6.0s\n",
      "[CV] C=500, class_weight=balanced, penalty=l2, solver=liblinear ......\n",
      "[CV]  C=500, class_weight=balanced, penalty=l2, solver=liblinear, score=0.6404207764442933, total=   4.6s\n",
      "[CV] C=500, class_weight=balanced, penalty=l2, solver=newton-cg ......\n",
      "[CV]  C=500, class_weight=balanced, penalty=l2, solver=newton-cg, score=0.6335876008162472, total=  11.6s\n",
      "[CV] C=500, class_weight=balanced, penalty=l2, solver=newton-cg ......\n",
      "[CV]  C=500, class_weight=balanced, penalty=l2, solver=newton-cg, score=0.643587687972208, total=  12.0s\n",
      "[CV] C=500, class_weight=balanced, penalty=l2, solver=newton-cg ......\n",
      "[CV]  C=500, class_weight=balanced, penalty=l2, solver=newton-cg, score=0.6404450706962732, total=  11.5s\n",
      "[CV] C=500, class_weight=balanced, penalty=l2, solver=lbfgs ..........\n",
      "[CV]  C=500, class_weight=balanced, penalty=l2, solver=lbfgs, score=0.633806238460791, total=   0.8s\n",
      "[CV] C=500, class_weight=balanced, penalty=l2, solver=lbfgs ..........\n",
      "[CV]  C=500, class_weight=balanced, penalty=l2, solver=lbfgs, score=0.6433690450161553, total=   0.8s\n",
      "[CV] C=500, class_weight=balanced, penalty=l2, solver=lbfgs ..........\n",
      "[CV]  C=500, class_weight=balanced, penalty=l2, solver=lbfgs, score=0.6404450706962732, total=   0.9s\n",
      "[CV] C=500, class_weight=balanced, penalty=l2, solver=sag ............\n"
     ]
    },
    {
     "name": "stderr",
     "output_type": "stream",
     "text": [
      "/anaconda3/lib/python3.6/site-packages/sklearn/linear_model/sag.py:326: ConvergenceWarning: The max_iter was reached which means the coef_ did not converge\n",
      "  \"the coef_ did not converge\", ConvergenceWarning)\n"
     ]
    },
    {
     "name": "stdout",
     "output_type": "stream",
     "text": [
      "[CV]  C=500, class_weight=balanced, penalty=l2, solver=sag, score=0.6334904285297833, total=  10.0s\n",
      "[CV] C=500, class_weight=balanced, penalty=l2, solver=sag ............\n"
     ]
    },
    {
     "name": "stderr",
     "output_type": "stream",
     "text": [
      "/anaconda3/lib/python3.6/site-packages/sklearn/linear_model/sag.py:326: ConvergenceWarning: The max_iter was reached which means the coef_ did not converge\n",
      "  \"the coef_ did not converge\", ConvergenceWarning)\n"
     ]
    },
    {
     "name": "stdout",
     "output_type": "stream",
     "text": [
      "[CV]  C=500, class_weight=balanced, penalty=l2, solver=sag, score=0.64400068022253, total=  11.1s\n",
      "[CV] C=500, class_weight=balanced, penalty=l2, solver=sag ............\n"
     ]
    },
    {
     "name": "stderr",
     "output_type": "stream",
     "text": [
      "/anaconda3/lib/python3.6/site-packages/sklearn/linear_model/sag.py:326: ConvergenceWarning: The max_iter was reached which means the coef_ did not converge\n",
      "  \"the coef_ did not converge\", ConvergenceWarning)\n"
     ]
    },
    {
     "name": "stdout",
     "output_type": "stream",
     "text": [
      "[CV]  C=500, class_weight=balanced, penalty=l2, solver=sag, score=0.6404936592002333, total=  11.1s\n",
      "[CV] C=500, class_weight=balanced, penalty=l2, solver=saga ...........\n"
     ]
    },
    {
     "name": "stderr",
     "output_type": "stream",
     "text": [
      "/anaconda3/lib/python3.6/site-packages/sklearn/linear_model/sag.py:326: ConvergenceWarning: The max_iter was reached which means the coef_ did not converge\n",
      "  \"the coef_ did not converge\", ConvergenceWarning)\n"
     ]
    },
    {
     "name": "stdout",
     "output_type": "stream",
     "text": [
      "[CV]  C=500, class_weight=balanced, penalty=l2, solver=saga, score=0.6337090661743271, total=   9.7s\n",
      "[CV] C=500, class_weight=balanced, penalty=l2, solver=saga ...........\n"
     ]
    },
    {
     "name": "stderr",
     "output_type": "stream",
     "text": [
      "/anaconda3/lib/python3.6/site-packages/sklearn/linear_model/sag.py:326: ConvergenceWarning: The max_iter was reached which means the coef_ did not converge\n",
      "  \"the coef_ did not converge\", ConvergenceWarning)\n"
     ]
    },
    {
     "name": "stdout",
     "output_type": "stream",
     "text": [
      "[CV]  C=500, class_weight=balanced, penalty=l2, solver=saga, score=0.6450696013410101, total=  10.8s\n",
      "[CV] C=500, class_weight=balanced, penalty=l2, solver=saga ...........\n"
     ]
    },
    {
     "name": "stderr",
     "output_type": "stream",
     "text": [
      "/anaconda3/lib/python3.6/site-packages/sklearn/linear_model/sag.py:326: ConvergenceWarning: The max_iter was reached which means the coef_ did not converge\n",
      "  \"the coef_ did not converge\", ConvergenceWarning)\n"
     ]
    },
    {
     "name": "stdout",
     "output_type": "stream",
     "text": [
      "[CV]  C=500, class_weight=balanced, penalty=l2, solver=saga, score=0.6412710752635926, total=  11.6s\n",
      "[CV] C=1000, class_weight=None, penalty=l1, solver=liblinear .........\n",
      "[CV]  C=1000, class_weight=None, penalty=l1, solver=liblinear, score=0.8445729278009911, total=   1.9s\n",
      "[CV] C=1000, class_weight=None, penalty=l1, solver=liblinear .........\n",
      "[CV]  C=1000, class_weight=None, penalty=l1, solver=liblinear, score=0.8438160483929743, total=   1.7s\n",
      "[CV] C=1000, class_weight=None, penalty=l1, solver=liblinear .........\n",
      "[CV]  C=1000, class_weight=None, penalty=l1, solver=liblinear, score=0.8443224333122783, total=   1.7s\n",
      "[CV] C=1000, class_weight=None, penalty=l1, solver=newton-cg .........\n",
      "[CV]  C=1000, class_weight=None, penalty=l1, solver=newton-cg, score=0, total=   0.1s\n",
      "[CV] C=1000, class_weight=None, penalty=l1, solver=newton-cg .........\n"
     ]
    },
    {
     "name": "stderr",
     "output_type": "stream",
     "text": [
      "/anaconda3/lib/python3.6/site-packages/sklearn/model_selection/_validation.py:479: FitFailedWarning: Classifier fit failed. The score on this train-test partition for these parameters will be set to 0.000000. Details: \n",
      "ValueError('Solver newton-cg supports only l2 penalties, got l1 penalty.',)\n",
      "  \"Details: \\n%r\" % (error_score, e), FitFailedWarning)\n",
      "/anaconda3/lib/python3.6/site-packages/sklearn/model_selection/_validation.py:479: FitFailedWarning: Classifier fit failed. The score on this train-test partition for these parameters will be set to 0.000000. Details: \n",
      "ValueError('Solver newton-cg supports only l2 penalties, got l1 penalty.',)\n",
      "  \"Details: \\n%r\" % (error_score, e), FitFailedWarning)\n",
      "/anaconda3/lib/python3.6/site-packages/sklearn/model_selection/_validation.py:479: FitFailedWarning: Classifier fit failed. The score on this train-test partition for these parameters will be set to 0.000000. Details: \n",
      "ValueError('Solver newton-cg supports only l2 penalties, got l1 penalty.',)\n",
      "  \"Details: \\n%r\" % (error_score, e), FitFailedWarning)\n"
     ]
    },
    {
     "name": "stdout",
     "output_type": "stream",
     "text": [
      "[CV]  C=1000, class_weight=None, penalty=l1, solver=newton-cg, score=0, total=   0.1s\n",
      "[CV] C=1000, class_weight=None, penalty=l1, solver=newton-cg .........\n",
      "[CV]  C=1000, class_weight=None, penalty=l1, solver=newton-cg, score=0, total=   0.1s\n",
      "[CV] C=1000, class_weight=None, penalty=l1, solver=lbfgs .............\n",
      "[CV]  C=1000, class_weight=None, penalty=l1, solver=lbfgs, score=0, total=   0.1s\n",
      "[CV] C=1000, class_weight=None, penalty=l1, solver=lbfgs .............\n"
     ]
    },
    {
     "name": "stderr",
     "output_type": "stream",
     "text": [
      "/anaconda3/lib/python3.6/site-packages/sklearn/model_selection/_validation.py:479: FitFailedWarning: Classifier fit failed. The score on this train-test partition for these parameters will be set to 0.000000. Details: \n",
      "ValueError('Solver lbfgs supports only l2 penalties, got l1 penalty.',)\n",
      "  \"Details: \\n%r\" % (error_score, e), FitFailedWarning)\n",
      "/anaconda3/lib/python3.6/site-packages/sklearn/model_selection/_validation.py:479: FitFailedWarning: Classifier fit failed. The score on this train-test partition for these parameters will be set to 0.000000. Details: \n",
      "ValueError('Solver lbfgs supports only l2 penalties, got l1 penalty.',)\n",
      "  \"Details: \\n%r\" % (error_score, e), FitFailedWarning)\n",
      "/anaconda3/lib/python3.6/site-packages/sklearn/model_selection/_validation.py:479: FitFailedWarning: Classifier fit failed. The score on this train-test partition for these parameters will be set to 0.000000. Details: \n",
      "ValueError('Solver lbfgs supports only l2 penalties, got l1 penalty.',)\n",
      "  \"Details: \\n%r\" % (error_score, e), FitFailedWarning)\n"
     ]
    },
    {
     "name": "stdout",
     "output_type": "stream",
     "text": [
      "[CV]  C=1000, class_weight=None, penalty=l1, solver=lbfgs, score=0, total=   0.1s\n",
      "[CV] C=1000, class_weight=None, penalty=l1, solver=lbfgs .............\n",
      "[CV]  C=1000, class_weight=None, penalty=l1, solver=lbfgs, score=0, total=   0.1s\n",
      "[CV] C=1000, class_weight=None, penalty=l1, solver=sag ...............\n",
      "[CV]  C=1000, class_weight=None, penalty=l1, solver=sag, score=0, total=   0.1s\n",
      "[CV] C=1000, class_weight=None, penalty=l1, solver=sag ...............\n"
     ]
    },
    {
     "name": "stderr",
     "output_type": "stream",
     "text": [
      "/anaconda3/lib/python3.6/site-packages/sklearn/model_selection/_validation.py:479: FitFailedWarning: Classifier fit failed. The score on this train-test partition for these parameters will be set to 0.000000. Details: \n",
      "ValueError('Solver sag supports only l2 penalties, got l1 penalty.',)\n",
      "  \"Details: \\n%r\" % (error_score, e), FitFailedWarning)\n",
      "/anaconda3/lib/python3.6/site-packages/sklearn/model_selection/_validation.py:479: FitFailedWarning: Classifier fit failed. The score on this train-test partition for these parameters will be set to 0.000000. Details: \n",
      "ValueError('Solver sag supports only l2 penalties, got l1 penalty.',)\n",
      "  \"Details: \\n%r\" % (error_score, e), FitFailedWarning)\n",
      "/anaconda3/lib/python3.6/site-packages/sklearn/model_selection/_validation.py:479: FitFailedWarning: Classifier fit failed. The score on this train-test partition for these parameters will be set to 0.000000. Details: \n",
      "ValueError('Solver sag supports only l2 penalties, got l1 penalty.',)\n",
      "  \"Details: \\n%r\" % (error_score, e), FitFailedWarning)\n"
     ]
    },
    {
     "name": "stdout",
     "output_type": "stream",
     "text": [
      "[CV]  C=1000, class_weight=None, penalty=l1, solver=sag, score=0, total=   0.1s\n",
      "[CV] C=1000, class_weight=None, penalty=l1, solver=sag ...............\n",
      "[CV]  C=1000, class_weight=None, penalty=l1, solver=sag, score=0, total=   0.1s\n",
      "[CV] C=1000, class_weight=None, penalty=l1, solver=saga ..............\n"
     ]
    },
    {
     "name": "stderr",
     "output_type": "stream",
     "text": [
      "/anaconda3/lib/python3.6/site-packages/sklearn/linear_model/sag.py:326: ConvergenceWarning: The max_iter was reached which means the coef_ did not converge\n",
      "  \"the coef_ did not converge\", ConvergenceWarning)\n"
     ]
    },
    {
     "name": "stdout",
     "output_type": "stream",
     "text": [
      "[CV]  C=1000, class_weight=None, penalty=l1, solver=saga, score=0.8445000485861432, total=  15.2s\n",
      "[CV] C=1000, class_weight=None, penalty=l1, solver=saga ..............\n"
     ]
    },
    {
     "name": "stderr",
     "output_type": "stream",
     "text": [
      "/anaconda3/lib/python3.6/site-packages/sklearn/linear_model/sag.py:326: ConvergenceWarning: The max_iter was reached which means the coef_ did not converge\n",
      "  \"the coef_ did not converge\", ConvergenceWarning)\n"
     ]
    },
    {
     "name": "stdout",
     "output_type": "stream",
     "text": [
      "[CV]  C=1000, class_weight=None, penalty=l1, solver=saga, score=0.8437188737458398, total=  15.1s\n",
      "[CV] C=1000, class_weight=None, penalty=l1, solver=saga ..............\n"
     ]
    },
    {
     "name": "stderr",
     "output_type": "stream",
     "text": [
      "/anaconda3/lib/python3.6/site-packages/sklearn/linear_model/sag.py:326: ConvergenceWarning: The max_iter was reached which means the coef_ did not converge\n",
      "  \"the coef_ did not converge\", ConvergenceWarning)\n"
     ]
    },
    {
     "name": "stdout",
     "output_type": "stream",
     "text": [
      "[CV]  C=1000, class_weight=None, penalty=l1, solver=saga, score=0.8443467275642583, total=  14.9s\n",
      "[CV] C=1000, class_weight=None, penalty=l2, solver=liblinear .........\n",
      "[CV]  C=1000, class_weight=None, penalty=l2, solver=liblinear, score=0.8445243416577592, total=   1.1s\n",
      "[CV] C=1000, class_weight=None, penalty=l2, solver=liblinear .........\n",
      "[CV]  C=1000, class_weight=None, penalty=l2, solver=liblinear, score=0.8437431674076233, total=   3.7s\n",
      "[CV] C=1000, class_weight=None, penalty=l2, solver=liblinear .........\n",
      "[CV]  C=1000, class_weight=None, penalty=l2, solver=liblinear, score=0.8443224333122783, total=   3.2s\n",
      "[CV] C=1000, class_weight=None, penalty=l2, solver=newton-cg .........\n",
      "[CV]  C=1000, class_weight=None, penalty=l2, solver=newton-cg, score=0.8445243416577592, total=  11.2s\n",
      "[CV] C=1000, class_weight=None, penalty=l2, solver=newton-cg .........\n",
      "[CV]  C=1000, class_weight=None, penalty=l2, solver=newton-cg, score=0.843767461069407, total=  15.6s\n",
      "[CV] C=1000, class_weight=None, penalty=l2, solver=newton-cg .........\n",
      "[CV]  C=1000, class_weight=None, penalty=l2, solver=newton-cg, score=0.8443467275642583, total=  19.0s\n",
      "[CV] C=1000, class_weight=None, penalty=l2, solver=lbfgs .............\n",
      "[CV]  C=1000, class_weight=None, penalty=l2, solver=lbfgs, score=0.8445243416577592, total=   0.8s\n",
      "[CV] C=1000, class_weight=None, penalty=l2, solver=lbfgs .............\n",
      "[CV]  C=1000, class_weight=None, penalty=l2, solver=lbfgs, score=0.843767461069407, total=   0.8s\n",
      "[CV] C=1000, class_weight=None, penalty=l2, solver=lbfgs .............\n",
      "[CV]  C=1000, class_weight=None, penalty=l2, solver=lbfgs, score=0.8443224333122783, total=   0.8s\n",
      "[CV] C=1000, class_weight=None, penalty=l2, solver=sag ...............\n"
     ]
    },
    {
     "name": "stderr",
     "output_type": "stream",
     "text": [
      "/anaconda3/lib/python3.6/site-packages/sklearn/linear_model/sag.py:326: ConvergenceWarning: The max_iter was reached which means the coef_ did not converge\n",
      "  \"the coef_ did not converge\", ConvergenceWarning)\n"
     ]
    },
    {
     "name": "stdout",
     "output_type": "stream",
     "text": [
      "[CV]  C=1000, class_weight=None, penalty=l2, solver=sag, score=0.8445000485861432, total=  11.4s\n",
      "[CV] C=1000, class_weight=None, penalty=l2, solver=sag ...............\n"
     ]
    },
    {
     "name": "stderr",
     "output_type": "stream",
     "text": [
      "/anaconda3/lib/python3.6/site-packages/sklearn/linear_model/sag.py:326: ConvergenceWarning: The max_iter was reached which means the coef_ did not converge\n",
      "  \"the coef_ did not converge\", ConvergenceWarning)\n"
     ]
    },
    {
     "name": "stdout",
     "output_type": "stream",
     "text": [
      "[CV]  C=1000, class_weight=None, penalty=l2, solver=sag, score=0.8437431674076233, total=  11.4s\n",
      "[CV] C=1000, class_weight=None, penalty=l2, solver=sag ...............\n"
     ]
    },
    {
     "name": "stderr",
     "output_type": "stream",
     "text": [
      "/anaconda3/lib/python3.6/site-packages/sklearn/linear_model/sag.py:326: ConvergenceWarning: The max_iter was reached which means the coef_ did not converge\n",
      "  \"the coef_ did not converge\", ConvergenceWarning)\n"
     ]
    },
    {
     "name": "stdout",
     "output_type": "stream",
     "text": [
      "[CV]  C=1000, class_weight=None, penalty=l2, solver=sag, score=0.8443467275642583, total=  11.3s\n",
      "[CV] C=1000, class_weight=None, penalty=l2, solver=saga ..............\n"
     ]
    },
    {
     "name": "stderr",
     "output_type": "stream",
     "text": [
      "/anaconda3/lib/python3.6/site-packages/sklearn/linear_model/sag.py:326: ConvergenceWarning: The max_iter was reached which means the coef_ did not converge\n",
      "  \"the coef_ did not converge\", ConvergenceWarning)\n"
     ]
    },
    {
     "name": "stdout",
     "output_type": "stream",
     "text": [
      "[CV]  C=1000, class_weight=None, penalty=l2, solver=saga, score=0.8445729278009911, total=  11.6s\n",
      "[CV] C=1000, class_weight=None, penalty=l2, solver=saga ..............\n"
     ]
    },
    {
     "name": "stderr",
     "output_type": "stream",
     "text": [
      "/anaconda3/lib/python3.6/site-packages/sklearn/linear_model/sag.py:326: ConvergenceWarning: The max_iter was reached which means the coef_ did not converge\n",
      "  \"the coef_ did not converge\", ConvergenceWarning)\n"
     ]
    },
    {
     "name": "stdout",
     "output_type": "stream",
     "text": [
      "[CV]  C=1000, class_weight=None, penalty=l2, solver=saga, score=0.8435245244515706, total=  11.6s\n",
      "[CV] C=1000, class_weight=None, penalty=l2, solver=saga ..............\n"
     ]
    },
    {
     "name": "stderr",
     "output_type": "stream",
     "text": [
      "/anaconda3/lib/python3.6/site-packages/sklearn/linear_model/sag.py:326: ConvergenceWarning: The max_iter was reached which means the coef_ did not converge\n",
      "  \"the coef_ did not converge\", ConvergenceWarning)\n"
     ]
    },
    {
     "name": "stdout",
     "output_type": "stream",
     "text": [
      "[CV]  C=1000, class_weight=None, penalty=l2, solver=saga, score=0.8442738448083184, total=  11.4s\n",
      "[CV] C=1000, class_weight=balanced, penalty=l1, solver=liblinear .....\n",
      "[CV]  C=1000, class_weight=balanced, penalty=l1, solver=liblinear, score=0.6336118938878632, total=   1.9s\n",
      "[CV] C=1000, class_weight=balanced, penalty=l1, solver=liblinear .....\n",
      "[CV]  C=1000, class_weight=balanced, penalty=l1, solver=liblinear, score=0.6435391006486407, total=   2.3s\n",
      "[CV] C=1000, class_weight=balanced, penalty=l1, solver=liblinear .....\n",
      "[CV]  C=1000, class_weight=balanced, penalty=l1, solver=liblinear, score=0.6404936592002333, total=   2.0s\n",
      "[CV] C=1000, class_weight=balanced, penalty=l1, solver=newton-cg .....\n",
      "[CV]  C=1000, class_weight=balanced, penalty=l1, solver=newton-cg, score=0, total=   0.1s\n",
      "[CV] C=1000, class_weight=balanced, penalty=l1, solver=newton-cg .....\n",
      "[CV]  C=1000, class_weight=balanced, penalty=l1, solver=newton-cg, score=0, total=   0.1s"
     ]
    },
    {
     "name": "stderr",
     "output_type": "stream",
     "text": [
      "/anaconda3/lib/python3.6/site-packages/sklearn/model_selection/_validation.py:479: FitFailedWarning: Classifier fit failed. The score on this train-test partition for these parameters will be set to 0.000000. Details: \n",
      "ValueError('Solver newton-cg supports only l2 penalties, got l1 penalty.',)\n",
      "  \"Details: \\n%r\" % (error_score, e), FitFailedWarning)\n",
      "/anaconda3/lib/python3.6/site-packages/sklearn/model_selection/_validation.py:479: FitFailedWarning: Classifier fit failed. The score on this train-test partition for these parameters will be set to 0.000000. Details: \n",
      "ValueError('Solver newton-cg supports only l2 penalties, got l1 penalty.',)\n",
      "  \"Details: \\n%r\" % (error_score, e), FitFailedWarning)\n",
      "/anaconda3/lib/python3.6/site-packages/sklearn/model_selection/_validation.py:479: FitFailedWarning: Classifier fit failed. The score on this train-test partition for these parameters will be set to 0.000000. Details: \n",
      "ValueError('Solver newton-cg supports only l2 penalties, got l1 penalty.',)\n",
      "  \"Details: \\n%r\" % (error_score, e), FitFailedWarning)\n"
     ]
    },
    {
     "name": "stdout",
     "output_type": "stream",
     "text": [
      "\n",
      "[CV] C=1000, class_weight=balanced, penalty=l1, solver=newton-cg .....\n",
      "[CV]  C=1000, class_weight=balanced, penalty=l1, solver=newton-cg, score=0, total=   0.1s\n",
      "[CV] C=1000, class_weight=balanced, penalty=l1, solver=lbfgs .........\n",
      "[CV]  C=1000, class_weight=balanced, penalty=l1, solver=lbfgs, score=0, total=   0.1s\n",
      "[CV] C=1000, class_weight=balanced, penalty=l1, solver=lbfgs .........\n"
     ]
    },
    {
     "name": "stderr",
     "output_type": "stream",
     "text": [
      "/anaconda3/lib/python3.6/site-packages/sklearn/model_selection/_validation.py:479: FitFailedWarning: Classifier fit failed. The score on this train-test partition for these parameters will be set to 0.000000. Details: \n",
      "ValueError('Solver lbfgs supports only l2 penalties, got l1 penalty.',)\n",
      "  \"Details: \\n%r\" % (error_score, e), FitFailedWarning)\n",
      "/anaconda3/lib/python3.6/site-packages/sklearn/model_selection/_validation.py:479: FitFailedWarning: Classifier fit failed. The score on this train-test partition for these parameters will be set to 0.000000. Details: \n",
      "ValueError('Solver lbfgs supports only l2 penalties, got l1 penalty.',)\n",
      "  \"Details: \\n%r\" % (error_score, e), FitFailedWarning)\n"
     ]
    },
    {
     "name": "stdout",
     "output_type": "stream",
     "text": [
      "[CV]  C=1000, class_weight=balanced, penalty=l1, solver=lbfgs, score=0, total=   0.1s\n",
      "[CV] C=1000, class_weight=balanced, penalty=l1, solver=lbfgs .........\n",
      "[CV]  C=1000, class_weight=balanced, penalty=l1, solver=lbfgs, score=0, total=   0.1s\n",
      "[CV] C=1000, class_weight=balanced, penalty=l1, solver=sag ...........\n",
      "[CV]  C=1000, class_weight=balanced, penalty=l1, solver=sag, score=0, total=   0.1s"
     ]
    },
    {
     "name": "stderr",
     "output_type": "stream",
     "text": [
      "/anaconda3/lib/python3.6/site-packages/sklearn/model_selection/_validation.py:479: FitFailedWarning: Classifier fit failed. The score on this train-test partition for these parameters will be set to 0.000000. Details: \n",
      "ValueError('Solver lbfgs supports only l2 penalties, got l1 penalty.',)\n",
      "  \"Details: \\n%r\" % (error_score, e), FitFailedWarning)\n",
      "/anaconda3/lib/python3.6/site-packages/sklearn/model_selection/_validation.py:479: FitFailedWarning: Classifier fit failed. The score on this train-test partition for these parameters will be set to 0.000000. Details: \n",
      "ValueError('Solver sag supports only l2 penalties, got l1 penalty.',)\n",
      "  \"Details: \\n%r\" % (error_score, e), FitFailedWarning)\n"
     ]
    },
    {
     "name": "stdout",
     "output_type": "stream",
     "text": [
      "\n",
      "[CV] C=1000, class_weight=balanced, penalty=l1, solver=sag ...........\n",
      "[CV]  C=1000, class_weight=balanced, penalty=l1, solver=sag, score=0, total=   0.1s\n",
      "[CV] C=1000, class_weight=balanced, penalty=l1, solver=sag ...........\n"
     ]
    },
    {
     "name": "stderr",
     "output_type": "stream",
     "text": [
      "/anaconda3/lib/python3.6/site-packages/sklearn/model_selection/_validation.py:479: FitFailedWarning: Classifier fit failed. The score on this train-test partition for these parameters will be set to 0.000000. Details: \n",
      "ValueError('Solver sag supports only l2 penalties, got l1 penalty.',)\n",
      "  \"Details: \\n%r\" % (error_score, e), FitFailedWarning)\n",
      "/anaconda3/lib/python3.6/site-packages/sklearn/model_selection/_validation.py:479: FitFailedWarning: Classifier fit failed. The score on this train-test partition for these parameters will be set to 0.000000. Details: \n",
      "ValueError('Solver sag supports only l2 penalties, got l1 penalty.',)\n",
      "  \"Details: \\n%r\" % (error_score, e), FitFailedWarning)\n"
     ]
    },
    {
     "name": "stdout",
     "output_type": "stream",
     "text": [
      "[CV]  C=1000, class_weight=balanced, penalty=l1, solver=sag, score=0, total=   0.1s\n",
      "[CV] C=1000, class_weight=balanced, penalty=l1, solver=saga ..........\n"
     ]
    },
    {
     "name": "stderr",
     "output_type": "stream",
     "text": [
      "/anaconda3/lib/python3.6/site-packages/sklearn/linear_model/sag.py:326: ConvergenceWarning: The max_iter was reached which means the coef_ did not converge\n",
      "  \"the coef_ did not converge\", ConvergenceWarning)\n"
     ]
    },
    {
     "name": "stdout",
     "output_type": "stream",
     "text": [
      "[CV]  C=1000, class_weight=balanced, penalty=l1, solver=saga, score=0.6335147216013993, total=  15.3s\n",
      "[CV] C=1000, class_weight=balanced, penalty=l1, solver=saga ..........\n"
     ]
    },
    {
     "name": "stderr",
     "output_type": "stream",
     "text": [
      "/anaconda3/lib/python3.6/site-packages/sklearn/linear_model/sag.py:326: ConvergenceWarning: The max_iter was reached which means the coef_ did not converge\n",
      "  \"the coef_ did not converge\", ConvergenceWarning)\n"
     ]
    },
    {
     "name": "stdout",
     "output_type": "stream",
     "text": [
      "[CV]  C=1000, class_weight=balanced, penalty=l1, solver=saga, score=0.6440492675460973, total=  15.2s\n",
      "[CV] C=1000, class_weight=balanced, penalty=l1, solver=saga ..........\n"
     ]
    },
    {
     "name": "stderr",
     "output_type": "stream",
     "text": [
      "/anaconda3/lib/python3.6/site-packages/sklearn/linear_model/sag.py:326: ConvergenceWarning: The max_iter was reached which means the coef_ did not converge\n",
      "  \"the coef_ did not converge\", ConvergenceWarning)\n"
     ]
    },
    {
     "name": "stdout",
     "output_type": "stream",
     "text": [
      "[CV]  C=1000, class_weight=balanced, penalty=l1, solver=saga, score=0.6405422477041932, total=  15.0s\n",
      "[CV] C=1000, class_weight=balanced, penalty=l2, solver=liblinear .....\n",
      "[CV]  C=1000, class_weight=balanced, penalty=l2, solver=liblinear, score=0.6335876008162472, total=   1.9s\n",
      "[CV] C=1000, class_weight=balanced, penalty=l2, solver=liblinear .....\n",
      "[CV]  C=1000, class_weight=balanced, penalty=l2, solver=liblinear, score=0.6436848626193427, total=   4.5s\n",
      "[CV] C=1000, class_weight=balanced, penalty=l2, solver=liblinear .....\n",
      "[CV]  C=1000, class_weight=balanced, penalty=l2, solver=liblinear, score=0.6404450706962732, total=   5.6s\n",
      "[CV] C=1000, class_weight=balanced, penalty=l2, solver=newton-cg .....\n",
      "[CV]  C=1000, class_weight=balanced, penalty=l2, solver=newton-cg, score=0.6335390146730152, total=   8.4s\n",
      "[CV] C=1000, class_weight=balanced, penalty=l2, solver=newton-cg .....\n",
      "[CV]  C=1000, class_weight=balanced, penalty=l2, solver=newton-cg, score=0.6435633943104244, total=  12.2s\n",
      "[CV] C=1000, class_weight=balanced, penalty=l2, solver=newton-cg .....\n",
      "[CV]  C=1000, class_weight=balanced, penalty=l2, solver=newton-cg, score=0.6404693649482532, total=  10.0s\n",
      "[CV] C=1000, class_weight=balanced, penalty=l2, solver=lbfgs .........\n",
      "[CV]  C=1000, class_weight=balanced, penalty=l2, solver=lbfgs, score=0.633757652317559, total=   0.8s\n",
      "[CV] C=1000, class_weight=balanced, penalty=l2, solver=lbfgs .........\n",
      "[CV]  C=1000, class_weight=balanced, penalty=l2, solver=lbfgs, score=0.6437577436046935, total=   0.8s\n",
      "[CV] C=1000, class_weight=balanced, penalty=l2, solver=lbfgs .........\n",
      "[CV]  C=1000, class_weight=balanced, penalty=l2, solver=lbfgs, score=0.640785190223993, total=   0.9s\n",
      "[CV] C=1000, class_weight=balanced, penalty=l2, solver=sag ...........\n"
     ]
    },
    {
     "name": "stderr",
     "output_type": "stream",
     "text": [
      "/anaconda3/lib/python3.6/site-packages/sklearn/linear_model/sag.py:326: ConvergenceWarning: The max_iter was reached which means the coef_ did not converge\n",
      "  \"the coef_ did not converge\", ConvergenceWarning)\n"
     ]
    },
    {
     "name": "stdout",
     "output_type": "stream",
     "text": [
      "[CV]  C=1000, class_weight=balanced, penalty=l2, solver=sag, score=0.6334904285297833, total=  11.1s\n",
      "[CV] C=1000, class_weight=balanced, penalty=l2, solver=sag ...........\n"
     ]
    },
    {
     "name": "stderr",
     "output_type": "stream",
     "text": [
      "/anaconda3/lib/python3.6/site-packages/sklearn/linear_model/sag.py:326: ConvergenceWarning: The max_iter was reached which means the coef_ did not converge\n",
      "  \"the coef_ did not converge\", ConvergenceWarning)\n"
     ]
    },
    {
     "name": "stdout",
     "output_type": "stream",
     "text": [
      "[CV]  C=1000, class_weight=balanced, penalty=l2, solver=sag, score=0.6440249738843136, total=  11.3s\n",
      "[CV] C=1000, class_weight=balanced, penalty=l2, solver=sag ...........\n"
     ]
    },
    {
     "name": "stderr",
     "output_type": "stream",
     "text": [
      "/anaconda3/lib/python3.6/site-packages/sklearn/linear_model/sag.py:326: ConvergenceWarning: The max_iter was reached which means the coef_ did not converge\n",
      "  \"the coef_ did not converge\", ConvergenceWarning)\n"
     ]
    },
    {
     "name": "stdout",
     "output_type": "stream",
     "text": [
      "[CV]  C=1000, class_weight=balanced, penalty=l2, solver=sag, score=0.6405422477041932, total=  11.4s\n",
      "[CV] C=1000, class_weight=balanced, penalty=l2, solver=saga ..........\n"
     ]
    },
    {
     "name": "stderr",
     "output_type": "stream",
     "text": [
      "/anaconda3/lib/python3.6/site-packages/sklearn/linear_model/sag.py:326: ConvergenceWarning: The max_iter was reached which means the coef_ did not converge\n",
      "  \"the coef_ did not converge\", ConvergenceWarning)\n"
     ]
    },
    {
     "name": "stdout",
     "output_type": "stream",
     "text": [
      "[CV]  C=1000, class_weight=balanced, penalty=l2, solver=saga, score=0.6337333592459431, total=  11.6s\n",
      "[CV] C=1000, class_weight=balanced, penalty=l2, solver=saga ..........\n"
     ]
    },
    {
     "name": "stderr",
     "output_type": "stream",
     "text": [
      "/anaconda3/lib/python3.6/site-packages/sklearn/linear_model/sag.py:326: ConvergenceWarning: The max_iter was reached which means the coef_ did not converge\n",
      "  \"the coef_ did not converge\", ConvergenceWarning)\n"
     ]
    },
    {
     "name": "stdout",
     "output_type": "stream",
     "text": [
      "[CV]  C=1000, class_weight=balanced, penalty=l2, solver=saga, score=0.6450696013410101, total=  11.5s\n",
      "[CV] C=1000, class_weight=balanced, penalty=l2, solver=saga ..........\n"
     ]
    },
    {
     "name": "stderr",
     "output_type": "stream",
     "text": [
      "/anaconda3/lib/python3.6/site-packages/sklearn/linear_model/sag.py:326: ConvergenceWarning: The max_iter was reached which means the coef_ did not converge\n",
      "  \"the coef_ did not converge\", ConvergenceWarning)\n",
      "[Parallel(n_jobs=1)]: Done 480 out of 480 | elapsed: 43.3min finished\n"
     ]
    },
    {
     "name": "stdout",
     "output_type": "stream",
     "text": [
      "[CV]  C=1000, class_weight=balanced, penalty=l2, solver=saga, score=0.6412710752635926, total=  11.5s\n"
     ]
    },
    {
     "data": {
      "text/plain": [
       "GridSearchCV(cv=None, error_score=0,\n",
       "       estimator=LogisticRegression(C=1.0, class_weight=None, dual=False, fit_intercept=True,\n",
       "          intercept_scaling=1, max_iter=100, multi_class='ovr', n_jobs=1,\n",
       "          penalty='l2', random_state=None, solver='liblinear', tol=0.0001,\n",
       "          verbose=0, warm_start=False),\n",
       "       fit_params=None, iid=True, n_jobs=1,\n",
       "       param_grid={'penalty': ['l1', 'l2'], 'C': [0.1, 1, 5, 10, 50, 100, 500, 1000], 'class_weight': [None, 'balanced'], 'solver': ['liblinear', 'newton-cg', 'lbfgs', 'sag', 'saga']},\n",
       "       pre_dispatch='2*n_jobs', refit=True, return_train_score='warn',\n",
       "       scoring=None, verbose=3)"
      ]
     },
     "execution_count": 32,
     "metadata": {},
     "output_type": "execute_result"
    }
   ],
   "source": [
    "grid.fit(X_train,y_train)"
   ]
  },
  {
   "cell_type": "code",
   "execution_count": 33,
   "metadata": {},
   "outputs": [
    {
     "data": {
      "text/plain": [
       "{'C': 0.1, 'class_weight': None, 'penalty': 'l1', 'solver': 'liblinear'}"
      ]
     },
     "execution_count": 33,
     "metadata": {},
     "output_type": "execute_result"
    }
   ],
   "source": [
    "grid.best_params_"
   ]
  },
  {
   "cell_type": "code",
   "execution_count": 34,
   "metadata": {},
   "outputs": [
    {
     "data": {
      "text/plain": [
       "LogisticRegression(C=0.1, class_weight=None, dual=False, fit_intercept=True,\n",
       "          intercept_scaling=1, max_iter=100, multi_class='ovr', n_jobs=1,\n",
       "          penalty='l1', random_state=None, solver='liblinear', tol=0.0001,\n",
       "          verbose=0, warm_start=False)"
      ]
     },
     "execution_count": 34,
     "metadata": {},
     "output_type": "execute_result"
    }
   ],
   "source": [
    "grid.best_estimator_"
   ]
  },
  {
   "cell_type": "code",
   "execution_count": 35,
   "metadata": {},
   "outputs": [
    {
     "name": "stdout",
     "output_type": "stream",
     "text": [
      "             precision    recall  f1-score   support\n",
      "\n",
      "        0.0       0.85      1.00      0.92     44742\n",
      "        1.0       0.45      0.01      0.02      8183\n",
      "\n",
      "avg / total       0.79      0.85      0.78     52925\n",
      "\n",
      "[[44627   115]\n",
      " [ 8088    95]]\n",
      "0.8450070854983467\n"
     ]
    }
   ],
   "source": [
    "grid_predictions = grid.predict(X_test)\n",
    "print(classification_report(y_test,grid_predictions))\n",
    "print(confusion_matrix(y_test,grid_predictions))\n",
    "print(grid.score(X_test, y_test))"
   ]
  },
  {
   "cell_type": "code",
   "execution_count": 36,
   "metadata": {},
   "outputs": [],
   "source": [
    "grid2 = GridSearchCV(LogisticRegression(), param_grid, scoring='roc_auc', refit=True, error_score=0, verbose=1)"
   ]
  },
  {
   "cell_type": "code",
   "execution_count": 37,
   "metadata": {},
   "outputs": [
    {
     "name": "stdout",
     "output_type": "stream",
     "text": [
      "Fitting 3 folds for each of 160 candidates, totalling 480 fits\n"
     ]
    },
    {
     "name": "stderr",
     "output_type": "stream",
     "text": [
      "/anaconda3/lib/python3.6/site-packages/sklearn/model_selection/_validation.py:479: FitFailedWarning: Classifier fit failed. The score on this train-test partition for these parameters will be set to 0.000000. Details: \n",
      "ValueError('Solver newton-cg supports only l2 penalties, got l1 penalty.',)\n",
      "  \"Details: \\n%r\" % (error_score, e), FitFailedWarning)\n",
      "/anaconda3/lib/python3.6/site-packages/sklearn/model_selection/_validation.py:479: FitFailedWarning: Classifier fit failed. The score on this train-test partition for these parameters will be set to 0.000000. Details: \n",
      "ValueError('Solver newton-cg supports only l2 penalties, got l1 penalty.',)\n",
      "  \"Details: \\n%r\" % (error_score, e), FitFailedWarning)\n",
      "/anaconda3/lib/python3.6/site-packages/sklearn/model_selection/_validation.py:479: FitFailedWarning: Classifier fit failed. The score on this train-test partition for these parameters will be set to 0.000000. Details: \n",
      "ValueError('Solver newton-cg supports only l2 penalties, got l1 penalty.',)\n",
      "  \"Details: \\n%r\" % (error_score, e), FitFailedWarning)\n",
      "/anaconda3/lib/python3.6/site-packages/sklearn/model_selection/_validation.py:479: FitFailedWarning: Classifier fit failed. The score on this train-test partition for these parameters will be set to 0.000000. Details: \n",
      "ValueError('Solver lbfgs supports only l2 penalties, got l1 penalty.',)\n",
      "  \"Details: \\n%r\" % (error_score, e), FitFailedWarning)\n",
      "/anaconda3/lib/python3.6/site-packages/sklearn/model_selection/_validation.py:479: FitFailedWarning: Classifier fit failed. The score on this train-test partition for these parameters will be set to 0.000000. Details: \n",
      "ValueError('Solver lbfgs supports only l2 penalties, got l1 penalty.',)\n",
      "  \"Details: \\n%r\" % (error_score, e), FitFailedWarning)\n",
      "/anaconda3/lib/python3.6/site-packages/sklearn/model_selection/_validation.py:479: FitFailedWarning: Classifier fit failed. The score on this train-test partition for these parameters will be set to 0.000000. Details: \n",
      "ValueError('Solver lbfgs supports only l2 penalties, got l1 penalty.',)\n",
      "  \"Details: \\n%r\" % (error_score, e), FitFailedWarning)\n",
      "/anaconda3/lib/python3.6/site-packages/sklearn/model_selection/_validation.py:479: FitFailedWarning: Classifier fit failed. The score on this train-test partition for these parameters will be set to 0.000000. Details: \n",
      "ValueError('Solver sag supports only l2 penalties, got l1 penalty.',)\n",
      "  \"Details: \\n%r\" % (error_score, e), FitFailedWarning)\n",
      "/anaconda3/lib/python3.6/site-packages/sklearn/model_selection/_validation.py:479: FitFailedWarning: Classifier fit failed. The score on this train-test partition for these parameters will be set to 0.000000. Details: \n",
      "ValueError('Solver sag supports only l2 penalties, got l1 penalty.',)\n",
      "  \"Details: \\n%r\" % (error_score, e), FitFailedWarning)\n",
      "/anaconda3/lib/python3.6/site-packages/sklearn/model_selection/_validation.py:479: FitFailedWarning: Classifier fit failed. The score on this train-test partition for these parameters will be set to 0.000000. Details: \n",
      "ValueError('Solver sag supports only l2 penalties, got l1 penalty.',)\n",
      "  \"Details: \\n%r\" % (error_score, e), FitFailedWarning)\n",
      "/anaconda3/lib/python3.6/site-packages/sklearn/linear_model/sag.py:326: ConvergenceWarning: The max_iter was reached which means the coef_ did not converge\n",
      "  \"the coef_ did not converge\", ConvergenceWarning)\n",
      "/anaconda3/lib/python3.6/site-packages/sklearn/linear_model/sag.py:326: ConvergenceWarning: The max_iter was reached which means the coef_ did not converge\n",
      "  \"the coef_ did not converge\", ConvergenceWarning)\n",
      "/anaconda3/lib/python3.6/site-packages/sklearn/linear_model/sag.py:326: ConvergenceWarning: The max_iter was reached which means the coef_ did not converge\n",
      "  \"the coef_ did not converge\", ConvergenceWarning)\n",
      "/anaconda3/lib/python3.6/site-packages/sklearn/linear_model/sag.py:326: ConvergenceWarning: The max_iter was reached which means the coef_ did not converge\n",
      "  \"the coef_ did not converge\", ConvergenceWarning)\n",
      "/anaconda3/lib/python3.6/site-packages/sklearn/linear_model/sag.py:326: ConvergenceWarning: The max_iter was reached which means the coef_ did not converge\n",
      "  \"the coef_ did not converge\", ConvergenceWarning)\n",
      "/anaconda3/lib/python3.6/site-packages/sklearn/linear_model/sag.py:326: ConvergenceWarning: The max_iter was reached which means the coef_ did not converge\n",
      "  \"the coef_ did not converge\", ConvergenceWarning)\n",
      "/anaconda3/lib/python3.6/site-packages/sklearn/linear_model/sag.py:326: ConvergenceWarning: The max_iter was reached which means the coef_ did not converge\n",
      "  \"the coef_ did not converge\", ConvergenceWarning)\n",
      "/anaconda3/lib/python3.6/site-packages/sklearn/linear_model/sag.py:326: ConvergenceWarning: The max_iter was reached which means the coef_ did not converge\n",
      "  \"the coef_ did not converge\", ConvergenceWarning)\n",
      "/anaconda3/lib/python3.6/site-packages/sklearn/linear_model/sag.py:326: ConvergenceWarning: The max_iter was reached which means the coef_ did not converge\n",
      "  \"the coef_ did not converge\", ConvergenceWarning)\n",
      "/anaconda3/lib/python3.6/site-packages/sklearn/model_selection/_validation.py:479: FitFailedWarning: Classifier fit failed. The score on this train-test partition for these parameters will be set to 0.000000. Details: \n",
      "ValueError('Solver newton-cg supports only l2 penalties, got l1 penalty.',)\n",
      "  \"Details: \\n%r\" % (error_score, e), FitFailedWarning)\n",
      "/anaconda3/lib/python3.6/site-packages/sklearn/model_selection/_validation.py:479: FitFailedWarning: Classifier fit failed. The score on this train-test partition for these parameters will be set to 0.000000. Details: \n",
      "ValueError('Solver newton-cg supports only l2 penalties, got l1 penalty.',)\n",
      "  \"Details: \\n%r\" % (error_score, e), FitFailedWarning)\n",
      "/anaconda3/lib/python3.6/site-packages/sklearn/model_selection/_validation.py:479: FitFailedWarning: Classifier fit failed. The score on this train-test partition for these parameters will be set to 0.000000. Details: \n",
      "ValueError('Solver newton-cg supports only l2 penalties, got l1 penalty.',)\n",
      "  \"Details: \\n%r\" % (error_score, e), FitFailedWarning)\n",
      "/anaconda3/lib/python3.6/site-packages/sklearn/model_selection/_validation.py:479: FitFailedWarning: Classifier fit failed. The score on this train-test partition for these parameters will be set to 0.000000. Details: \n",
      "ValueError('Solver lbfgs supports only l2 penalties, got l1 penalty.',)\n",
      "  \"Details: \\n%r\" % (error_score, e), FitFailedWarning)\n",
      "/anaconda3/lib/python3.6/site-packages/sklearn/model_selection/_validation.py:479: FitFailedWarning: Classifier fit failed. The score on this train-test partition for these parameters will be set to 0.000000. Details: \n",
      "ValueError('Solver lbfgs supports only l2 penalties, got l1 penalty.',)\n",
      "  \"Details: \\n%r\" % (error_score, e), FitFailedWarning)\n",
      "/anaconda3/lib/python3.6/site-packages/sklearn/model_selection/_validation.py:479: FitFailedWarning: Classifier fit failed. The score on this train-test partition for these parameters will be set to 0.000000. Details: \n",
      "ValueError('Solver lbfgs supports only l2 penalties, got l1 penalty.',)\n",
      "  \"Details: \\n%r\" % (error_score, e), FitFailedWarning)\n",
      "/anaconda3/lib/python3.6/site-packages/sklearn/model_selection/_validation.py:479: FitFailedWarning: Classifier fit failed. The score on this train-test partition for these parameters will be set to 0.000000. Details: \n",
      "ValueError('Solver sag supports only l2 penalties, got l1 penalty.',)\n",
      "  \"Details: \\n%r\" % (error_score, e), FitFailedWarning)\n",
      "/anaconda3/lib/python3.6/site-packages/sklearn/model_selection/_validation.py:479: FitFailedWarning: Classifier fit failed. The score on this train-test partition for these parameters will be set to 0.000000. Details: \n",
      "ValueError('Solver sag supports only l2 penalties, got l1 penalty.',)\n",
      "  \"Details: \\n%r\" % (error_score, e), FitFailedWarning)\n",
      "/anaconda3/lib/python3.6/site-packages/sklearn/model_selection/_validation.py:479: FitFailedWarning: Classifier fit failed. The score on this train-test partition for these parameters will be set to 0.000000. Details: \n",
      "ValueError('Solver sag supports only l2 penalties, got l1 penalty.',)\n",
      "  \"Details: \\n%r\" % (error_score, e), FitFailedWarning)\n",
      "/anaconda3/lib/python3.6/site-packages/sklearn/linear_model/sag.py:326: ConvergenceWarning: The max_iter was reached which means the coef_ did not converge\n",
      "  \"the coef_ did not converge\", ConvergenceWarning)\n"
     ]
    },
    {
     "name": "stderr",
     "output_type": "stream",
     "text": [
      "/anaconda3/lib/python3.6/site-packages/sklearn/linear_model/sag.py:326: ConvergenceWarning: The max_iter was reached which means the coef_ did not converge\n",
      "  \"the coef_ did not converge\", ConvergenceWarning)\n",
      "/anaconda3/lib/python3.6/site-packages/sklearn/linear_model/sag.py:326: ConvergenceWarning: The max_iter was reached which means the coef_ did not converge\n",
      "  \"the coef_ did not converge\", ConvergenceWarning)\n",
      "/anaconda3/lib/python3.6/site-packages/sklearn/linear_model/sag.py:326: ConvergenceWarning: The max_iter was reached which means the coef_ did not converge\n",
      "  \"the coef_ did not converge\", ConvergenceWarning)\n",
      "/anaconda3/lib/python3.6/site-packages/sklearn/linear_model/sag.py:326: ConvergenceWarning: The max_iter was reached which means the coef_ did not converge\n",
      "  \"the coef_ did not converge\", ConvergenceWarning)\n",
      "/anaconda3/lib/python3.6/site-packages/sklearn/linear_model/sag.py:326: ConvergenceWarning: The max_iter was reached which means the coef_ did not converge\n",
      "  \"the coef_ did not converge\", ConvergenceWarning)\n",
      "/anaconda3/lib/python3.6/site-packages/sklearn/linear_model/sag.py:326: ConvergenceWarning: The max_iter was reached which means the coef_ did not converge\n",
      "  \"the coef_ did not converge\", ConvergenceWarning)\n",
      "/anaconda3/lib/python3.6/site-packages/sklearn/linear_model/sag.py:326: ConvergenceWarning: The max_iter was reached which means the coef_ did not converge\n",
      "  \"the coef_ did not converge\", ConvergenceWarning)\n",
      "/anaconda3/lib/python3.6/site-packages/sklearn/linear_model/sag.py:326: ConvergenceWarning: The max_iter was reached which means the coef_ did not converge\n",
      "  \"the coef_ did not converge\", ConvergenceWarning)\n",
      "/anaconda3/lib/python3.6/site-packages/sklearn/model_selection/_validation.py:479: FitFailedWarning: Classifier fit failed. The score on this train-test partition for these parameters will be set to 0.000000. Details: \n",
      "ValueError('Solver newton-cg supports only l2 penalties, got l1 penalty.',)\n",
      "  \"Details: \\n%r\" % (error_score, e), FitFailedWarning)\n",
      "/anaconda3/lib/python3.6/site-packages/sklearn/model_selection/_validation.py:479: FitFailedWarning: Classifier fit failed. The score on this train-test partition for these parameters will be set to 0.000000. Details: \n",
      "ValueError('Solver newton-cg supports only l2 penalties, got l1 penalty.',)\n",
      "  \"Details: \\n%r\" % (error_score, e), FitFailedWarning)\n",
      "/anaconda3/lib/python3.6/site-packages/sklearn/model_selection/_validation.py:479: FitFailedWarning: Classifier fit failed. The score on this train-test partition for these parameters will be set to 0.000000. Details: \n",
      "ValueError('Solver newton-cg supports only l2 penalties, got l1 penalty.',)\n",
      "  \"Details: \\n%r\" % (error_score, e), FitFailedWarning)\n",
      "/anaconda3/lib/python3.6/site-packages/sklearn/model_selection/_validation.py:479: FitFailedWarning: Classifier fit failed. The score on this train-test partition for these parameters will be set to 0.000000. Details: \n",
      "ValueError('Solver lbfgs supports only l2 penalties, got l1 penalty.',)\n",
      "  \"Details: \\n%r\" % (error_score, e), FitFailedWarning)\n",
      "/anaconda3/lib/python3.6/site-packages/sklearn/model_selection/_validation.py:479: FitFailedWarning: Classifier fit failed. The score on this train-test partition for these parameters will be set to 0.000000. Details: \n",
      "ValueError('Solver lbfgs supports only l2 penalties, got l1 penalty.',)\n",
      "  \"Details: \\n%r\" % (error_score, e), FitFailedWarning)\n",
      "/anaconda3/lib/python3.6/site-packages/sklearn/model_selection/_validation.py:479: FitFailedWarning: Classifier fit failed. The score on this train-test partition for these parameters will be set to 0.000000. Details: \n",
      "ValueError('Solver lbfgs supports only l2 penalties, got l1 penalty.',)\n",
      "  \"Details: \\n%r\" % (error_score, e), FitFailedWarning)\n",
      "/anaconda3/lib/python3.6/site-packages/sklearn/model_selection/_validation.py:479: FitFailedWarning: Classifier fit failed. The score on this train-test partition for these parameters will be set to 0.000000. Details: \n",
      "ValueError('Solver sag supports only l2 penalties, got l1 penalty.',)\n",
      "  \"Details: \\n%r\" % (error_score, e), FitFailedWarning)\n",
      "/anaconda3/lib/python3.6/site-packages/sklearn/model_selection/_validation.py:479: FitFailedWarning: Classifier fit failed. The score on this train-test partition for these parameters will be set to 0.000000. Details: \n",
      "ValueError('Solver sag supports only l2 penalties, got l1 penalty.',)\n",
      "  \"Details: \\n%r\" % (error_score, e), FitFailedWarning)\n",
      "/anaconda3/lib/python3.6/site-packages/sklearn/model_selection/_validation.py:479: FitFailedWarning: Classifier fit failed. The score on this train-test partition for these parameters will be set to 0.000000. Details: \n",
      "ValueError('Solver sag supports only l2 penalties, got l1 penalty.',)\n",
      "  \"Details: \\n%r\" % (error_score, e), FitFailedWarning)\n",
      "/anaconda3/lib/python3.6/site-packages/sklearn/linear_model/sag.py:326: ConvergenceWarning: The max_iter was reached which means the coef_ did not converge\n",
      "  \"the coef_ did not converge\", ConvergenceWarning)\n",
      "/anaconda3/lib/python3.6/site-packages/sklearn/linear_model/sag.py:326: ConvergenceWarning: The max_iter was reached which means the coef_ did not converge\n",
      "  \"the coef_ did not converge\", ConvergenceWarning)\n",
      "/anaconda3/lib/python3.6/site-packages/sklearn/linear_model/sag.py:326: ConvergenceWarning: The max_iter was reached which means the coef_ did not converge\n",
      "  \"the coef_ did not converge\", ConvergenceWarning)\n",
      "/anaconda3/lib/python3.6/site-packages/sklearn/linear_model/sag.py:326: ConvergenceWarning: The max_iter was reached which means the coef_ did not converge\n",
      "  \"the coef_ did not converge\", ConvergenceWarning)\n",
      "/anaconda3/lib/python3.6/site-packages/sklearn/linear_model/sag.py:326: ConvergenceWarning: The max_iter was reached which means the coef_ did not converge\n",
      "  \"the coef_ did not converge\", ConvergenceWarning)\n",
      "/anaconda3/lib/python3.6/site-packages/sklearn/linear_model/sag.py:326: ConvergenceWarning: The max_iter was reached which means the coef_ did not converge\n",
      "  \"the coef_ did not converge\", ConvergenceWarning)\n",
      "/anaconda3/lib/python3.6/site-packages/sklearn/linear_model/sag.py:326: ConvergenceWarning: The max_iter was reached which means the coef_ did not converge\n",
      "  \"the coef_ did not converge\", ConvergenceWarning)\n",
      "/anaconda3/lib/python3.6/site-packages/sklearn/linear_model/sag.py:326: ConvergenceWarning: The max_iter was reached which means the coef_ did not converge\n",
      "  \"the coef_ did not converge\", ConvergenceWarning)\n",
      "/anaconda3/lib/python3.6/site-packages/sklearn/linear_model/sag.py:326: ConvergenceWarning: The max_iter was reached which means the coef_ did not converge\n",
      "  \"the coef_ did not converge\", ConvergenceWarning)\n",
      "/anaconda3/lib/python3.6/site-packages/sklearn/model_selection/_validation.py:479: FitFailedWarning: Classifier fit failed. The score on this train-test partition for these parameters will be set to 0.000000. Details: \n",
      "ValueError('Solver newton-cg supports only l2 penalties, got l1 penalty.',)\n",
      "  \"Details: \\n%r\" % (error_score, e), FitFailedWarning)\n",
      "/anaconda3/lib/python3.6/site-packages/sklearn/model_selection/_validation.py:479: FitFailedWarning: Classifier fit failed. The score on this train-test partition for these parameters will be set to 0.000000. Details: \n",
      "ValueError('Solver newton-cg supports only l2 penalties, got l1 penalty.',)\n",
      "  \"Details: \\n%r\" % (error_score, e), FitFailedWarning)\n",
      "/anaconda3/lib/python3.6/site-packages/sklearn/model_selection/_validation.py:479: FitFailedWarning: Classifier fit failed. The score on this train-test partition for these parameters will be set to 0.000000. Details: \n",
      "ValueError('Solver newton-cg supports only l2 penalties, got l1 penalty.',)\n",
      "  \"Details: \\n%r\" % (error_score, e), FitFailedWarning)\n",
      "/anaconda3/lib/python3.6/site-packages/sklearn/model_selection/_validation.py:479: FitFailedWarning: Classifier fit failed. The score on this train-test partition for these parameters will be set to 0.000000. Details: \n",
      "ValueError('Solver lbfgs supports only l2 penalties, got l1 penalty.',)\n",
      "  \"Details: \\n%r\" % (error_score, e), FitFailedWarning)\n",
      "/anaconda3/lib/python3.6/site-packages/sklearn/model_selection/_validation.py:479: FitFailedWarning: Classifier fit failed. The score on this train-test partition for these parameters will be set to 0.000000. Details: \n",
      "ValueError('Solver lbfgs supports only l2 penalties, got l1 penalty.',)\n",
      "  \"Details: \\n%r\" % (error_score, e), FitFailedWarning)\n",
      "/anaconda3/lib/python3.6/site-packages/sklearn/model_selection/_validation.py:479: FitFailedWarning: Classifier fit failed. The score on this train-test partition for these parameters will be set to 0.000000. Details: \n",
      "ValueError('Solver lbfgs supports only l2 penalties, got l1 penalty.',)\n",
      "  \"Details: \\n%r\" % (error_score, e), FitFailedWarning)\n"
     ]
    },
    {
     "name": "stderr",
     "output_type": "stream",
     "text": [
      "/anaconda3/lib/python3.6/site-packages/sklearn/model_selection/_validation.py:479: FitFailedWarning: Classifier fit failed. The score on this train-test partition for these parameters will be set to 0.000000. Details: \n",
      "ValueError('Solver sag supports only l2 penalties, got l1 penalty.',)\n",
      "  \"Details: \\n%r\" % (error_score, e), FitFailedWarning)\n",
      "/anaconda3/lib/python3.6/site-packages/sklearn/model_selection/_validation.py:479: FitFailedWarning: Classifier fit failed. The score on this train-test partition for these parameters will be set to 0.000000. Details: \n",
      "ValueError('Solver sag supports only l2 penalties, got l1 penalty.',)\n",
      "  \"Details: \\n%r\" % (error_score, e), FitFailedWarning)\n",
      "/anaconda3/lib/python3.6/site-packages/sklearn/model_selection/_validation.py:479: FitFailedWarning: Classifier fit failed. The score on this train-test partition for these parameters will be set to 0.000000. Details: \n",
      "ValueError('Solver sag supports only l2 penalties, got l1 penalty.',)\n",
      "  \"Details: \\n%r\" % (error_score, e), FitFailedWarning)\n",
      "/anaconda3/lib/python3.6/site-packages/sklearn/linear_model/sag.py:326: ConvergenceWarning: The max_iter was reached which means the coef_ did not converge\n",
      "  \"the coef_ did not converge\", ConvergenceWarning)\n",
      "/anaconda3/lib/python3.6/site-packages/sklearn/linear_model/sag.py:326: ConvergenceWarning: The max_iter was reached which means the coef_ did not converge\n",
      "  \"the coef_ did not converge\", ConvergenceWarning)\n",
      "/anaconda3/lib/python3.6/site-packages/sklearn/linear_model/sag.py:326: ConvergenceWarning: The max_iter was reached which means the coef_ did not converge\n",
      "  \"the coef_ did not converge\", ConvergenceWarning)\n",
      "/anaconda3/lib/python3.6/site-packages/sklearn/linear_model/sag.py:326: ConvergenceWarning: The max_iter was reached which means the coef_ did not converge\n",
      "  \"the coef_ did not converge\", ConvergenceWarning)\n",
      "/anaconda3/lib/python3.6/site-packages/sklearn/linear_model/sag.py:326: ConvergenceWarning: The max_iter was reached which means the coef_ did not converge\n",
      "  \"the coef_ did not converge\", ConvergenceWarning)\n",
      "/anaconda3/lib/python3.6/site-packages/sklearn/linear_model/sag.py:326: ConvergenceWarning: The max_iter was reached which means the coef_ did not converge\n",
      "  \"the coef_ did not converge\", ConvergenceWarning)\n",
      "/anaconda3/lib/python3.6/site-packages/sklearn/linear_model/sag.py:326: ConvergenceWarning: The max_iter was reached which means the coef_ did not converge\n",
      "  \"the coef_ did not converge\", ConvergenceWarning)\n",
      "/anaconda3/lib/python3.6/site-packages/sklearn/linear_model/sag.py:326: ConvergenceWarning: The max_iter was reached which means the coef_ did not converge\n",
      "  \"the coef_ did not converge\", ConvergenceWarning)\n",
      "/anaconda3/lib/python3.6/site-packages/sklearn/linear_model/sag.py:326: ConvergenceWarning: The max_iter was reached which means the coef_ did not converge\n",
      "  \"the coef_ did not converge\", ConvergenceWarning)\n",
      "/anaconda3/lib/python3.6/site-packages/sklearn/model_selection/_validation.py:479: FitFailedWarning: Classifier fit failed. The score on this train-test partition for these parameters will be set to 0.000000. Details: \n",
      "ValueError('Solver newton-cg supports only l2 penalties, got l1 penalty.',)\n",
      "  \"Details: \\n%r\" % (error_score, e), FitFailedWarning)\n",
      "/anaconda3/lib/python3.6/site-packages/sklearn/model_selection/_validation.py:479: FitFailedWarning: Classifier fit failed. The score on this train-test partition for these parameters will be set to 0.000000. Details: \n",
      "ValueError('Solver newton-cg supports only l2 penalties, got l1 penalty.',)\n",
      "  \"Details: \\n%r\" % (error_score, e), FitFailedWarning)\n",
      "/anaconda3/lib/python3.6/site-packages/sklearn/model_selection/_validation.py:479: FitFailedWarning: Classifier fit failed. The score on this train-test partition for these parameters will be set to 0.000000. Details: \n",
      "ValueError('Solver newton-cg supports only l2 penalties, got l1 penalty.',)\n",
      "  \"Details: \\n%r\" % (error_score, e), FitFailedWarning)\n",
      "/anaconda3/lib/python3.6/site-packages/sklearn/model_selection/_validation.py:479: FitFailedWarning: Classifier fit failed. The score on this train-test partition for these parameters will be set to 0.000000. Details: \n",
      "ValueError('Solver lbfgs supports only l2 penalties, got l1 penalty.',)\n",
      "  \"Details: \\n%r\" % (error_score, e), FitFailedWarning)\n",
      "/anaconda3/lib/python3.6/site-packages/sklearn/model_selection/_validation.py:479: FitFailedWarning: Classifier fit failed. The score on this train-test partition for these parameters will be set to 0.000000. Details: \n",
      "ValueError('Solver lbfgs supports only l2 penalties, got l1 penalty.',)\n",
      "  \"Details: \\n%r\" % (error_score, e), FitFailedWarning)\n",
      "/anaconda3/lib/python3.6/site-packages/sklearn/model_selection/_validation.py:479: FitFailedWarning: Classifier fit failed. The score on this train-test partition for these parameters will be set to 0.000000. Details: \n",
      "ValueError('Solver lbfgs supports only l2 penalties, got l1 penalty.',)\n",
      "  \"Details: \\n%r\" % (error_score, e), FitFailedWarning)\n",
      "/anaconda3/lib/python3.6/site-packages/sklearn/model_selection/_validation.py:479: FitFailedWarning: Classifier fit failed. The score on this train-test partition for these parameters will be set to 0.000000. Details: \n",
      "ValueError('Solver sag supports only l2 penalties, got l1 penalty.',)\n",
      "  \"Details: \\n%r\" % (error_score, e), FitFailedWarning)\n",
      "/anaconda3/lib/python3.6/site-packages/sklearn/model_selection/_validation.py:479: FitFailedWarning: Classifier fit failed. The score on this train-test partition for these parameters will be set to 0.000000. Details: \n",
      "ValueError('Solver sag supports only l2 penalties, got l1 penalty.',)\n",
      "  \"Details: \\n%r\" % (error_score, e), FitFailedWarning)\n",
      "/anaconda3/lib/python3.6/site-packages/sklearn/model_selection/_validation.py:479: FitFailedWarning: Classifier fit failed. The score on this train-test partition for these parameters will be set to 0.000000. Details: \n",
      "ValueError('Solver sag supports only l2 penalties, got l1 penalty.',)\n",
      "  \"Details: \\n%r\" % (error_score, e), FitFailedWarning)\n",
      "/anaconda3/lib/python3.6/site-packages/sklearn/linear_model/sag.py:326: ConvergenceWarning: The max_iter was reached which means the coef_ did not converge\n",
      "  \"the coef_ did not converge\", ConvergenceWarning)\n",
      "/anaconda3/lib/python3.6/site-packages/sklearn/linear_model/sag.py:326: ConvergenceWarning: The max_iter was reached which means the coef_ did not converge\n",
      "  \"the coef_ did not converge\", ConvergenceWarning)\n",
      "/anaconda3/lib/python3.6/site-packages/sklearn/linear_model/sag.py:326: ConvergenceWarning: The max_iter was reached which means the coef_ did not converge\n",
      "  \"the coef_ did not converge\", ConvergenceWarning)\n",
      "/anaconda3/lib/python3.6/site-packages/sklearn/linear_model/sag.py:326: ConvergenceWarning: The max_iter was reached which means the coef_ did not converge\n",
      "  \"the coef_ did not converge\", ConvergenceWarning)\n",
      "/anaconda3/lib/python3.6/site-packages/sklearn/linear_model/sag.py:326: ConvergenceWarning: The max_iter was reached which means the coef_ did not converge\n",
      "  \"the coef_ did not converge\", ConvergenceWarning)\n",
      "/anaconda3/lib/python3.6/site-packages/sklearn/linear_model/sag.py:326: ConvergenceWarning: The max_iter was reached which means the coef_ did not converge\n",
      "  \"the coef_ did not converge\", ConvergenceWarning)\n",
      "/anaconda3/lib/python3.6/site-packages/sklearn/linear_model/sag.py:326: ConvergenceWarning: The max_iter was reached which means the coef_ did not converge\n",
      "  \"the coef_ did not converge\", ConvergenceWarning)\n",
      "/anaconda3/lib/python3.6/site-packages/sklearn/linear_model/sag.py:326: ConvergenceWarning: The max_iter was reached which means the coef_ did not converge\n",
      "  \"the coef_ did not converge\", ConvergenceWarning)\n",
      "/anaconda3/lib/python3.6/site-packages/sklearn/linear_model/sag.py:326: ConvergenceWarning: The max_iter was reached which means the coef_ did not converge\n",
      "  \"the coef_ did not converge\", ConvergenceWarning)\n",
      "/anaconda3/lib/python3.6/site-packages/sklearn/model_selection/_validation.py:479: FitFailedWarning: Classifier fit failed. The score on this train-test partition for these parameters will be set to 0.000000. Details: \n",
      "ValueError('Solver newton-cg supports only l2 penalties, got l1 penalty.',)\n",
      "  \"Details: \\n%r\" % (error_score, e), FitFailedWarning)\n",
      "/anaconda3/lib/python3.6/site-packages/sklearn/model_selection/_validation.py:479: FitFailedWarning: Classifier fit failed. The score on this train-test partition for these parameters will be set to 0.000000. Details: \n",
      "ValueError('Solver newton-cg supports only l2 penalties, got l1 penalty.',)\n",
      "  \"Details: \\n%r\" % (error_score, e), FitFailedWarning)\n",
      "/anaconda3/lib/python3.6/site-packages/sklearn/model_selection/_validation.py:479: FitFailedWarning: Classifier fit failed. The score on this train-test partition for these parameters will be set to 0.000000. Details: \n",
      "ValueError('Solver newton-cg supports only l2 penalties, got l1 penalty.',)\n",
      "  \"Details: \\n%r\" % (error_score, e), FitFailedWarning)\n"
     ]
    },
    {
     "name": "stderr",
     "output_type": "stream",
     "text": [
      "/anaconda3/lib/python3.6/site-packages/sklearn/model_selection/_validation.py:479: FitFailedWarning: Classifier fit failed. The score on this train-test partition for these parameters will be set to 0.000000. Details: \n",
      "ValueError('Solver lbfgs supports only l2 penalties, got l1 penalty.',)\n",
      "  \"Details: \\n%r\" % (error_score, e), FitFailedWarning)\n",
      "/anaconda3/lib/python3.6/site-packages/sklearn/model_selection/_validation.py:479: FitFailedWarning: Classifier fit failed. The score on this train-test partition for these parameters will be set to 0.000000. Details: \n",
      "ValueError('Solver lbfgs supports only l2 penalties, got l1 penalty.',)\n",
      "  \"Details: \\n%r\" % (error_score, e), FitFailedWarning)\n",
      "/anaconda3/lib/python3.6/site-packages/sklearn/model_selection/_validation.py:479: FitFailedWarning: Classifier fit failed. The score on this train-test partition for these parameters will be set to 0.000000. Details: \n",
      "ValueError('Solver lbfgs supports only l2 penalties, got l1 penalty.',)\n",
      "  \"Details: \\n%r\" % (error_score, e), FitFailedWarning)\n",
      "/anaconda3/lib/python3.6/site-packages/sklearn/model_selection/_validation.py:479: FitFailedWarning: Classifier fit failed. The score on this train-test partition for these parameters will be set to 0.000000. Details: \n",
      "ValueError('Solver sag supports only l2 penalties, got l1 penalty.',)\n",
      "  \"Details: \\n%r\" % (error_score, e), FitFailedWarning)\n",
      "/anaconda3/lib/python3.6/site-packages/sklearn/model_selection/_validation.py:479: FitFailedWarning: Classifier fit failed. The score on this train-test partition for these parameters will be set to 0.000000. Details: \n",
      "ValueError('Solver sag supports only l2 penalties, got l1 penalty.',)\n",
      "  \"Details: \\n%r\" % (error_score, e), FitFailedWarning)\n",
      "/anaconda3/lib/python3.6/site-packages/sklearn/model_selection/_validation.py:479: FitFailedWarning: Classifier fit failed. The score on this train-test partition for these parameters will be set to 0.000000. Details: \n",
      "ValueError('Solver sag supports only l2 penalties, got l1 penalty.',)\n",
      "  \"Details: \\n%r\" % (error_score, e), FitFailedWarning)\n",
      "/anaconda3/lib/python3.6/site-packages/sklearn/linear_model/sag.py:326: ConvergenceWarning: The max_iter was reached which means the coef_ did not converge\n",
      "  \"the coef_ did not converge\", ConvergenceWarning)\n",
      "/anaconda3/lib/python3.6/site-packages/sklearn/linear_model/sag.py:326: ConvergenceWarning: The max_iter was reached which means the coef_ did not converge\n",
      "  \"the coef_ did not converge\", ConvergenceWarning)\n",
      "/anaconda3/lib/python3.6/site-packages/sklearn/linear_model/sag.py:326: ConvergenceWarning: The max_iter was reached which means the coef_ did not converge\n",
      "  \"the coef_ did not converge\", ConvergenceWarning)\n",
      "/anaconda3/lib/python3.6/site-packages/sklearn/linear_model/sag.py:326: ConvergenceWarning: The max_iter was reached which means the coef_ did not converge\n",
      "  \"the coef_ did not converge\", ConvergenceWarning)\n",
      "/anaconda3/lib/python3.6/site-packages/sklearn/linear_model/sag.py:326: ConvergenceWarning: The max_iter was reached which means the coef_ did not converge\n",
      "  \"the coef_ did not converge\", ConvergenceWarning)\n",
      "/anaconda3/lib/python3.6/site-packages/sklearn/linear_model/sag.py:326: ConvergenceWarning: The max_iter was reached which means the coef_ did not converge\n",
      "  \"the coef_ did not converge\", ConvergenceWarning)\n",
      "/anaconda3/lib/python3.6/site-packages/sklearn/linear_model/sag.py:326: ConvergenceWarning: The max_iter was reached which means the coef_ did not converge\n",
      "  \"the coef_ did not converge\", ConvergenceWarning)\n",
      "/anaconda3/lib/python3.6/site-packages/sklearn/linear_model/sag.py:326: ConvergenceWarning: The max_iter was reached which means the coef_ did not converge\n",
      "  \"the coef_ did not converge\", ConvergenceWarning)\n",
      "/anaconda3/lib/python3.6/site-packages/sklearn/linear_model/sag.py:326: ConvergenceWarning: The max_iter was reached which means the coef_ did not converge\n",
      "  \"the coef_ did not converge\", ConvergenceWarning)\n",
      "/anaconda3/lib/python3.6/site-packages/sklearn/model_selection/_validation.py:479: FitFailedWarning: Classifier fit failed. The score on this train-test partition for these parameters will be set to 0.000000. Details: \n",
      "ValueError('Solver newton-cg supports only l2 penalties, got l1 penalty.',)\n",
      "  \"Details: \\n%r\" % (error_score, e), FitFailedWarning)\n",
      "/anaconda3/lib/python3.6/site-packages/sklearn/model_selection/_validation.py:479: FitFailedWarning: Classifier fit failed. The score on this train-test partition for these parameters will be set to 0.000000. Details: \n",
      "ValueError('Solver newton-cg supports only l2 penalties, got l1 penalty.',)\n",
      "  \"Details: \\n%r\" % (error_score, e), FitFailedWarning)\n",
      "/anaconda3/lib/python3.6/site-packages/sklearn/model_selection/_validation.py:479: FitFailedWarning: Classifier fit failed. The score on this train-test partition for these parameters will be set to 0.000000. Details: \n",
      "ValueError('Solver newton-cg supports only l2 penalties, got l1 penalty.',)\n",
      "  \"Details: \\n%r\" % (error_score, e), FitFailedWarning)\n",
      "/anaconda3/lib/python3.6/site-packages/sklearn/model_selection/_validation.py:479: FitFailedWarning: Classifier fit failed. The score on this train-test partition for these parameters will be set to 0.000000. Details: \n",
      "ValueError('Solver lbfgs supports only l2 penalties, got l1 penalty.',)\n",
      "  \"Details: \\n%r\" % (error_score, e), FitFailedWarning)\n",
      "/anaconda3/lib/python3.6/site-packages/sklearn/model_selection/_validation.py:479: FitFailedWarning: Classifier fit failed. The score on this train-test partition for these parameters will be set to 0.000000. Details: \n",
      "ValueError('Solver lbfgs supports only l2 penalties, got l1 penalty.',)\n",
      "  \"Details: \\n%r\" % (error_score, e), FitFailedWarning)\n",
      "/anaconda3/lib/python3.6/site-packages/sklearn/model_selection/_validation.py:479: FitFailedWarning: Classifier fit failed. The score on this train-test partition for these parameters will be set to 0.000000. Details: \n",
      "ValueError('Solver lbfgs supports only l2 penalties, got l1 penalty.',)\n",
      "  \"Details: \\n%r\" % (error_score, e), FitFailedWarning)\n",
      "/anaconda3/lib/python3.6/site-packages/sklearn/model_selection/_validation.py:479: FitFailedWarning: Classifier fit failed. The score on this train-test partition for these parameters will be set to 0.000000. Details: \n",
      "ValueError('Solver sag supports only l2 penalties, got l1 penalty.',)\n",
      "  \"Details: \\n%r\" % (error_score, e), FitFailedWarning)\n",
      "/anaconda3/lib/python3.6/site-packages/sklearn/model_selection/_validation.py:479: FitFailedWarning: Classifier fit failed. The score on this train-test partition for these parameters will be set to 0.000000. Details: \n",
      "ValueError('Solver sag supports only l2 penalties, got l1 penalty.',)\n",
      "  \"Details: \\n%r\" % (error_score, e), FitFailedWarning)\n",
      "/anaconda3/lib/python3.6/site-packages/sklearn/model_selection/_validation.py:479: FitFailedWarning: Classifier fit failed. The score on this train-test partition for these parameters will be set to 0.000000. Details: \n",
      "ValueError('Solver sag supports only l2 penalties, got l1 penalty.',)\n",
      "  \"Details: \\n%r\" % (error_score, e), FitFailedWarning)\n",
      "/anaconda3/lib/python3.6/site-packages/sklearn/linear_model/sag.py:326: ConvergenceWarning: The max_iter was reached which means the coef_ did not converge\n",
      "  \"the coef_ did not converge\", ConvergenceWarning)\n",
      "/anaconda3/lib/python3.6/site-packages/sklearn/linear_model/sag.py:326: ConvergenceWarning: The max_iter was reached which means the coef_ did not converge\n",
      "  \"the coef_ did not converge\", ConvergenceWarning)\n",
      "/anaconda3/lib/python3.6/site-packages/sklearn/linear_model/sag.py:326: ConvergenceWarning: The max_iter was reached which means the coef_ did not converge\n",
      "  \"the coef_ did not converge\", ConvergenceWarning)\n",
      "/anaconda3/lib/python3.6/site-packages/sklearn/linear_model/sag.py:326: ConvergenceWarning: The max_iter was reached which means the coef_ did not converge\n",
      "  \"the coef_ did not converge\", ConvergenceWarning)\n",
      "/anaconda3/lib/python3.6/site-packages/sklearn/linear_model/sag.py:326: ConvergenceWarning: The max_iter was reached which means the coef_ did not converge\n",
      "  \"the coef_ did not converge\", ConvergenceWarning)\n",
      "/anaconda3/lib/python3.6/site-packages/sklearn/linear_model/sag.py:326: ConvergenceWarning: The max_iter was reached which means the coef_ did not converge\n",
      "  \"the coef_ did not converge\", ConvergenceWarning)\n"
     ]
    },
    {
     "name": "stderr",
     "output_type": "stream",
     "text": [
      "/anaconda3/lib/python3.6/site-packages/sklearn/linear_model/sag.py:326: ConvergenceWarning: The max_iter was reached which means the coef_ did not converge\n",
      "  \"the coef_ did not converge\", ConvergenceWarning)\n",
      "/anaconda3/lib/python3.6/site-packages/sklearn/linear_model/sag.py:326: ConvergenceWarning: The max_iter was reached which means the coef_ did not converge\n",
      "  \"the coef_ did not converge\", ConvergenceWarning)\n",
      "/anaconda3/lib/python3.6/site-packages/sklearn/linear_model/sag.py:326: ConvergenceWarning: The max_iter was reached which means the coef_ did not converge\n",
      "  \"the coef_ did not converge\", ConvergenceWarning)\n",
      "/anaconda3/lib/python3.6/site-packages/sklearn/model_selection/_validation.py:479: FitFailedWarning: Classifier fit failed. The score on this train-test partition for these parameters will be set to 0.000000. Details: \n",
      "ValueError('Solver newton-cg supports only l2 penalties, got l1 penalty.',)\n",
      "  \"Details: \\n%r\" % (error_score, e), FitFailedWarning)\n",
      "/anaconda3/lib/python3.6/site-packages/sklearn/model_selection/_validation.py:479: FitFailedWarning: Classifier fit failed. The score on this train-test partition for these parameters will be set to 0.000000. Details: \n",
      "ValueError('Solver newton-cg supports only l2 penalties, got l1 penalty.',)\n",
      "  \"Details: \\n%r\" % (error_score, e), FitFailedWarning)\n",
      "/anaconda3/lib/python3.6/site-packages/sklearn/model_selection/_validation.py:479: FitFailedWarning: Classifier fit failed. The score on this train-test partition for these parameters will be set to 0.000000. Details: \n",
      "ValueError('Solver newton-cg supports only l2 penalties, got l1 penalty.',)\n",
      "  \"Details: \\n%r\" % (error_score, e), FitFailedWarning)\n",
      "/anaconda3/lib/python3.6/site-packages/sklearn/model_selection/_validation.py:479: FitFailedWarning: Classifier fit failed. The score on this train-test partition for these parameters will be set to 0.000000. Details: \n",
      "ValueError('Solver lbfgs supports only l2 penalties, got l1 penalty.',)\n",
      "  \"Details: \\n%r\" % (error_score, e), FitFailedWarning)\n",
      "/anaconda3/lib/python3.6/site-packages/sklearn/model_selection/_validation.py:479: FitFailedWarning: Classifier fit failed. The score on this train-test partition for these parameters will be set to 0.000000. Details: \n",
      "ValueError('Solver lbfgs supports only l2 penalties, got l1 penalty.',)\n",
      "  \"Details: \\n%r\" % (error_score, e), FitFailedWarning)\n",
      "/anaconda3/lib/python3.6/site-packages/sklearn/model_selection/_validation.py:479: FitFailedWarning: Classifier fit failed. The score on this train-test partition for these parameters will be set to 0.000000. Details: \n",
      "ValueError('Solver lbfgs supports only l2 penalties, got l1 penalty.',)\n",
      "  \"Details: \\n%r\" % (error_score, e), FitFailedWarning)\n",
      "/anaconda3/lib/python3.6/site-packages/sklearn/model_selection/_validation.py:479: FitFailedWarning: Classifier fit failed. The score on this train-test partition for these parameters will be set to 0.000000. Details: \n",
      "ValueError('Solver sag supports only l2 penalties, got l1 penalty.',)\n",
      "  \"Details: \\n%r\" % (error_score, e), FitFailedWarning)\n",
      "/anaconda3/lib/python3.6/site-packages/sklearn/model_selection/_validation.py:479: FitFailedWarning: Classifier fit failed. The score on this train-test partition for these parameters will be set to 0.000000. Details: \n",
      "ValueError('Solver sag supports only l2 penalties, got l1 penalty.',)\n",
      "  \"Details: \\n%r\" % (error_score, e), FitFailedWarning)\n",
      "/anaconda3/lib/python3.6/site-packages/sklearn/model_selection/_validation.py:479: FitFailedWarning: Classifier fit failed. The score on this train-test partition for these parameters will be set to 0.000000. Details: \n",
      "ValueError('Solver sag supports only l2 penalties, got l1 penalty.',)\n",
      "  \"Details: \\n%r\" % (error_score, e), FitFailedWarning)\n",
      "/anaconda3/lib/python3.6/site-packages/sklearn/linear_model/sag.py:326: ConvergenceWarning: The max_iter was reached which means the coef_ did not converge\n",
      "  \"the coef_ did not converge\", ConvergenceWarning)\n",
      "/anaconda3/lib/python3.6/site-packages/sklearn/linear_model/sag.py:326: ConvergenceWarning: The max_iter was reached which means the coef_ did not converge\n",
      "  \"the coef_ did not converge\", ConvergenceWarning)\n",
      "/anaconda3/lib/python3.6/site-packages/sklearn/linear_model/sag.py:326: ConvergenceWarning: The max_iter was reached which means the coef_ did not converge\n",
      "  \"the coef_ did not converge\", ConvergenceWarning)\n",
      "/anaconda3/lib/python3.6/site-packages/sklearn/linear_model/sag.py:326: ConvergenceWarning: The max_iter was reached which means the coef_ did not converge\n",
      "  \"the coef_ did not converge\", ConvergenceWarning)\n",
      "/anaconda3/lib/python3.6/site-packages/sklearn/linear_model/sag.py:326: ConvergenceWarning: The max_iter was reached which means the coef_ did not converge\n",
      "  \"the coef_ did not converge\", ConvergenceWarning)\n",
      "/anaconda3/lib/python3.6/site-packages/sklearn/linear_model/sag.py:326: ConvergenceWarning: The max_iter was reached which means the coef_ did not converge\n",
      "  \"the coef_ did not converge\", ConvergenceWarning)\n",
      "/anaconda3/lib/python3.6/site-packages/sklearn/linear_model/sag.py:326: ConvergenceWarning: The max_iter was reached which means the coef_ did not converge\n",
      "  \"the coef_ did not converge\", ConvergenceWarning)\n",
      "/anaconda3/lib/python3.6/site-packages/sklearn/linear_model/sag.py:326: ConvergenceWarning: The max_iter was reached which means the coef_ did not converge\n",
      "  \"the coef_ did not converge\", ConvergenceWarning)\n",
      "/anaconda3/lib/python3.6/site-packages/sklearn/linear_model/sag.py:326: ConvergenceWarning: The max_iter was reached which means the coef_ did not converge\n",
      "  \"the coef_ did not converge\", ConvergenceWarning)\n",
      "/anaconda3/lib/python3.6/site-packages/sklearn/model_selection/_validation.py:479: FitFailedWarning: Classifier fit failed. The score on this train-test partition for these parameters will be set to 0.000000. Details: \n",
      "ValueError('Solver newton-cg supports only l2 penalties, got l1 penalty.',)\n",
      "  \"Details: \\n%r\" % (error_score, e), FitFailedWarning)\n",
      "/anaconda3/lib/python3.6/site-packages/sklearn/model_selection/_validation.py:479: FitFailedWarning: Classifier fit failed. The score on this train-test partition for these parameters will be set to 0.000000. Details: \n",
      "ValueError('Solver newton-cg supports only l2 penalties, got l1 penalty.',)\n",
      "  \"Details: \\n%r\" % (error_score, e), FitFailedWarning)\n",
      "/anaconda3/lib/python3.6/site-packages/sklearn/model_selection/_validation.py:479: FitFailedWarning: Classifier fit failed. The score on this train-test partition for these parameters will be set to 0.000000. Details: \n",
      "ValueError('Solver newton-cg supports only l2 penalties, got l1 penalty.',)\n",
      "  \"Details: \\n%r\" % (error_score, e), FitFailedWarning)\n",
      "/anaconda3/lib/python3.6/site-packages/sklearn/model_selection/_validation.py:479: FitFailedWarning: Classifier fit failed. The score on this train-test partition for these parameters will be set to 0.000000. Details: \n",
      "ValueError('Solver lbfgs supports only l2 penalties, got l1 penalty.',)\n",
      "  \"Details: \\n%r\" % (error_score, e), FitFailedWarning)\n",
      "/anaconda3/lib/python3.6/site-packages/sklearn/model_selection/_validation.py:479: FitFailedWarning: Classifier fit failed. The score on this train-test partition for these parameters will be set to 0.000000. Details: \n",
      "ValueError('Solver lbfgs supports only l2 penalties, got l1 penalty.',)\n",
      "  \"Details: \\n%r\" % (error_score, e), FitFailedWarning)\n",
      "/anaconda3/lib/python3.6/site-packages/sklearn/model_selection/_validation.py:479: FitFailedWarning: Classifier fit failed. The score on this train-test partition for these parameters will be set to 0.000000. Details: \n",
      "ValueError('Solver lbfgs supports only l2 penalties, got l1 penalty.',)\n",
      "  \"Details: \\n%r\" % (error_score, e), FitFailedWarning)\n",
      "/anaconda3/lib/python3.6/site-packages/sklearn/model_selection/_validation.py:479: FitFailedWarning: Classifier fit failed. The score on this train-test partition for these parameters will be set to 0.000000. Details: \n",
      "ValueError('Solver sag supports only l2 penalties, got l1 penalty.',)\n",
      "  \"Details: \\n%r\" % (error_score, e), FitFailedWarning)\n",
      "/anaconda3/lib/python3.6/site-packages/sklearn/model_selection/_validation.py:479: FitFailedWarning: Classifier fit failed. The score on this train-test partition for these parameters will be set to 0.000000. Details: \n",
      "ValueError('Solver sag supports only l2 penalties, got l1 penalty.',)\n",
      "  \"Details: \\n%r\" % (error_score, e), FitFailedWarning)\n",
      "/anaconda3/lib/python3.6/site-packages/sklearn/model_selection/_validation.py:479: FitFailedWarning: Classifier fit failed. The score on this train-test partition for these parameters will be set to 0.000000. Details: \n",
      "ValueError('Solver sag supports only l2 penalties, got l1 penalty.',)\n",
      "  \"Details: \\n%r\" % (error_score, e), FitFailedWarning)\n"
     ]
    },
    {
     "name": "stderr",
     "output_type": "stream",
     "text": [
      "/anaconda3/lib/python3.6/site-packages/sklearn/linear_model/sag.py:326: ConvergenceWarning: The max_iter was reached which means the coef_ did not converge\n",
      "  \"the coef_ did not converge\", ConvergenceWarning)\n",
      "/anaconda3/lib/python3.6/site-packages/sklearn/linear_model/sag.py:326: ConvergenceWarning: The max_iter was reached which means the coef_ did not converge\n",
      "  \"the coef_ did not converge\", ConvergenceWarning)\n",
      "/anaconda3/lib/python3.6/site-packages/sklearn/linear_model/sag.py:326: ConvergenceWarning: The max_iter was reached which means the coef_ did not converge\n",
      "  \"the coef_ did not converge\", ConvergenceWarning)\n",
      "/anaconda3/lib/python3.6/site-packages/sklearn/linear_model/sag.py:326: ConvergenceWarning: The max_iter was reached which means the coef_ did not converge\n",
      "  \"the coef_ did not converge\", ConvergenceWarning)\n",
      "/anaconda3/lib/python3.6/site-packages/sklearn/linear_model/sag.py:326: ConvergenceWarning: The max_iter was reached which means the coef_ did not converge\n",
      "  \"the coef_ did not converge\", ConvergenceWarning)\n",
      "/anaconda3/lib/python3.6/site-packages/sklearn/linear_model/sag.py:326: ConvergenceWarning: The max_iter was reached which means the coef_ did not converge\n",
      "  \"the coef_ did not converge\", ConvergenceWarning)\n",
      "/anaconda3/lib/python3.6/site-packages/sklearn/linear_model/sag.py:326: ConvergenceWarning: The max_iter was reached which means the coef_ did not converge\n",
      "  \"the coef_ did not converge\", ConvergenceWarning)\n",
      "/anaconda3/lib/python3.6/site-packages/sklearn/linear_model/sag.py:326: ConvergenceWarning: The max_iter was reached which means the coef_ did not converge\n",
      "  \"the coef_ did not converge\", ConvergenceWarning)\n",
      "/anaconda3/lib/python3.6/site-packages/sklearn/linear_model/sag.py:326: ConvergenceWarning: The max_iter was reached which means the coef_ did not converge\n",
      "  \"the coef_ did not converge\", ConvergenceWarning)\n",
      "/anaconda3/lib/python3.6/site-packages/sklearn/model_selection/_validation.py:479: FitFailedWarning: Classifier fit failed. The score on this train-test partition for these parameters will be set to 0.000000. Details: \n",
      "ValueError('Solver newton-cg supports only l2 penalties, got l1 penalty.',)\n",
      "  \"Details: \\n%r\" % (error_score, e), FitFailedWarning)\n",
      "/anaconda3/lib/python3.6/site-packages/sklearn/model_selection/_validation.py:479: FitFailedWarning: Classifier fit failed. The score on this train-test partition for these parameters will be set to 0.000000. Details: \n",
      "ValueError('Solver newton-cg supports only l2 penalties, got l1 penalty.',)\n",
      "  \"Details: \\n%r\" % (error_score, e), FitFailedWarning)\n",
      "/anaconda3/lib/python3.6/site-packages/sklearn/model_selection/_validation.py:479: FitFailedWarning: Classifier fit failed. The score on this train-test partition for these parameters will be set to 0.000000. Details: \n",
      "ValueError('Solver newton-cg supports only l2 penalties, got l1 penalty.',)\n",
      "  \"Details: \\n%r\" % (error_score, e), FitFailedWarning)\n",
      "/anaconda3/lib/python3.6/site-packages/sklearn/model_selection/_validation.py:479: FitFailedWarning: Classifier fit failed. The score on this train-test partition for these parameters will be set to 0.000000. Details: \n",
      "ValueError('Solver lbfgs supports only l2 penalties, got l1 penalty.',)\n",
      "  \"Details: \\n%r\" % (error_score, e), FitFailedWarning)\n",
      "/anaconda3/lib/python3.6/site-packages/sklearn/model_selection/_validation.py:479: FitFailedWarning: Classifier fit failed. The score on this train-test partition for these parameters will be set to 0.000000. Details: \n",
      "ValueError('Solver lbfgs supports only l2 penalties, got l1 penalty.',)\n",
      "  \"Details: \\n%r\" % (error_score, e), FitFailedWarning)\n",
      "/anaconda3/lib/python3.6/site-packages/sklearn/model_selection/_validation.py:479: FitFailedWarning: Classifier fit failed. The score on this train-test partition for these parameters will be set to 0.000000. Details: \n",
      "ValueError('Solver lbfgs supports only l2 penalties, got l1 penalty.',)\n",
      "  \"Details: \\n%r\" % (error_score, e), FitFailedWarning)\n",
      "/anaconda3/lib/python3.6/site-packages/sklearn/model_selection/_validation.py:479: FitFailedWarning: Classifier fit failed. The score on this train-test partition for these parameters will be set to 0.000000. Details: \n",
      "ValueError('Solver sag supports only l2 penalties, got l1 penalty.',)\n",
      "  \"Details: \\n%r\" % (error_score, e), FitFailedWarning)\n",
      "/anaconda3/lib/python3.6/site-packages/sklearn/model_selection/_validation.py:479: FitFailedWarning: Classifier fit failed. The score on this train-test partition for these parameters will be set to 0.000000. Details: \n",
      "ValueError('Solver sag supports only l2 penalties, got l1 penalty.',)\n",
      "  \"Details: \\n%r\" % (error_score, e), FitFailedWarning)\n",
      "/anaconda3/lib/python3.6/site-packages/sklearn/model_selection/_validation.py:479: FitFailedWarning: Classifier fit failed. The score on this train-test partition for these parameters will be set to 0.000000. Details: \n",
      "ValueError('Solver sag supports only l2 penalties, got l1 penalty.',)\n",
      "  \"Details: \\n%r\" % (error_score, e), FitFailedWarning)\n",
      "/anaconda3/lib/python3.6/site-packages/sklearn/linear_model/sag.py:326: ConvergenceWarning: The max_iter was reached which means the coef_ did not converge\n",
      "  \"the coef_ did not converge\", ConvergenceWarning)\n",
      "/anaconda3/lib/python3.6/site-packages/sklearn/linear_model/sag.py:326: ConvergenceWarning: The max_iter was reached which means the coef_ did not converge\n",
      "  \"the coef_ did not converge\", ConvergenceWarning)\n",
      "/anaconda3/lib/python3.6/site-packages/sklearn/linear_model/sag.py:326: ConvergenceWarning: The max_iter was reached which means the coef_ did not converge\n",
      "  \"the coef_ did not converge\", ConvergenceWarning)\n",
      "/anaconda3/lib/python3.6/site-packages/sklearn/linear_model/sag.py:326: ConvergenceWarning: The max_iter was reached which means the coef_ did not converge\n",
      "  \"the coef_ did not converge\", ConvergenceWarning)\n",
      "/anaconda3/lib/python3.6/site-packages/sklearn/linear_model/sag.py:326: ConvergenceWarning: The max_iter was reached which means the coef_ did not converge\n",
      "  \"the coef_ did not converge\", ConvergenceWarning)\n",
      "/anaconda3/lib/python3.6/site-packages/sklearn/linear_model/sag.py:326: ConvergenceWarning: The max_iter was reached which means the coef_ did not converge\n",
      "  \"the coef_ did not converge\", ConvergenceWarning)\n",
      "/anaconda3/lib/python3.6/site-packages/sklearn/linear_model/sag.py:326: ConvergenceWarning: The max_iter was reached which means the coef_ did not converge\n",
      "  \"the coef_ did not converge\", ConvergenceWarning)\n",
      "/anaconda3/lib/python3.6/site-packages/sklearn/linear_model/sag.py:326: ConvergenceWarning: The max_iter was reached which means the coef_ did not converge\n",
      "  \"the coef_ did not converge\", ConvergenceWarning)\n",
      "/anaconda3/lib/python3.6/site-packages/sklearn/linear_model/sag.py:326: ConvergenceWarning: The max_iter was reached which means the coef_ did not converge\n",
      "  \"the coef_ did not converge\", ConvergenceWarning)\n",
      "/anaconda3/lib/python3.6/site-packages/sklearn/model_selection/_validation.py:479: FitFailedWarning: Classifier fit failed. The score on this train-test partition for these parameters will be set to 0.000000. Details: \n",
      "ValueError('Solver newton-cg supports only l2 penalties, got l1 penalty.',)\n",
      "  \"Details: \\n%r\" % (error_score, e), FitFailedWarning)\n",
      "/anaconda3/lib/python3.6/site-packages/sklearn/model_selection/_validation.py:479: FitFailedWarning: Classifier fit failed. The score on this train-test partition for these parameters will be set to 0.000000. Details: \n",
      "ValueError('Solver newton-cg supports only l2 penalties, got l1 penalty.',)\n",
      "  \"Details: \\n%r\" % (error_score, e), FitFailedWarning)\n",
      "/anaconda3/lib/python3.6/site-packages/sklearn/model_selection/_validation.py:479: FitFailedWarning: Classifier fit failed. The score on this train-test partition for these parameters will be set to 0.000000. Details: \n",
      "ValueError('Solver newton-cg supports only l2 penalties, got l1 penalty.',)\n",
      "  \"Details: \\n%r\" % (error_score, e), FitFailedWarning)\n",
      "/anaconda3/lib/python3.6/site-packages/sklearn/model_selection/_validation.py:479: FitFailedWarning: Classifier fit failed. The score on this train-test partition for these parameters will be set to 0.000000. Details: \n",
      "ValueError('Solver lbfgs supports only l2 penalties, got l1 penalty.',)\n",
      "  \"Details: \\n%r\" % (error_score, e), FitFailedWarning)\n"
     ]
    },
    {
     "name": "stderr",
     "output_type": "stream",
     "text": [
      "/anaconda3/lib/python3.6/site-packages/sklearn/model_selection/_validation.py:479: FitFailedWarning: Classifier fit failed. The score on this train-test partition for these parameters will be set to 0.000000. Details: \n",
      "ValueError('Solver lbfgs supports only l2 penalties, got l1 penalty.',)\n",
      "  \"Details: \\n%r\" % (error_score, e), FitFailedWarning)\n",
      "/anaconda3/lib/python3.6/site-packages/sklearn/model_selection/_validation.py:479: FitFailedWarning: Classifier fit failed. The score on this train-test partition for these parameters will be set to 0.000000. Details: \n",
      "ValueError('Solver lbfgs supports only l2 penalties, got l1 penalty.',)\n",
      "  \"Details: \\n%r\" % (error_score, e), FitFailedWarning)\n",
      "/anaconda3/lib/python3.6/site-packages/sklearn/model_selection/_validation.py:479: FitFailedWarning: Classifier fit failed. The score on this train-test partition for these parameters will be set to 0.000000. Details: \n",
      "ValueError('Solver sag supports only l2 penalties, got l1 penalty.',)\n",
      "  \"Details: \\n%r\" % (error_score, e), FitFailedWarning)\n",
      "/anaconda3/lib/python3.6/site-packages/sklearn/model_selection/_validation.py:479: FitFailedWarning: Classifier fit failed. The score on this train-test partition for these parameters will be set to 0.000000. Details: \n",
      "ValueError('Solver sag supports only l2 penalties, got l1 penalty.',)\n",
      "  \"Details: \\n%r\" % (error_score, e), FitFailedWarning)\n",
      "/anaconda3/lib/python3.6/site-packages/sklearn/model_selection/_validation.py:479: FitFailedWarning: Classifier fit failed. The score on this train-test partition for these parameters will be set to 0.000000. Details: \n",
      "ValueError('Solver sag supports only l2 penalties, got l1 penalty.',)\n",
      "  \"Details: \\n%r\" % (error_score, e), FitFailedWarning)\n",
      "/anaconda3/lib/python3.6/site-packages/sklearn/linear_model/sag.py:326: ConvergenceWarning: The max_iter was reached which means the coef_ did not converge\n",
      "  \"the coef_ did not converge\", ConvergenceWarning)\n",
      "/anaconda3/lib/python3.6/site-packages/sklearn/linear_model/sag.py:326: ConvergenceWarning: The max_iter was reached which means the coef_ did not converge\n",
      "  \"the coef_ did not converge\", ConvergenceWarning)\n",
      "/anaconda3/lib/python3.6/site-packages/sklearn/linear_model/sag.py:326: ConvergenceWarning: The max_iter was reached which means the coef_ did not converge\n",
      "  \"the coef_ did not converge\", ConvergenceWarning)\n",
      "/anaconda3/lib/python3.6/site-packages/sklearn/linear_model/sag.py:326: ConvergenceWarning: The max_iter was reached which means the coef_ did not converge\n",
      "  \"the coef_ did not converge\", ConvergenceWarning)\n",
      "/anaconda3/lib/python3.6/site-packages/sklearn/linear_model/sag.py:326: ConvergenceWarning: The max_iter was reached which means the coef_ did not converge\n",
      "  \"the coef_ did not converge\", ConvergenceWarning)\n",
      "/anaconda3/lib/python3.6/site-packages/sklearn/linear_model/sag.py:326: ConvergenceWarning: The max_iter was reached which means the coef_ did not converge\n",
      "  \"the coef_ did not converge\", ConvergenceWarning)\n",
      "/anaconda3/lib/python3.6/site-packages/sklearn/linear_model/sag.py:326: ConvergenceWarning: The max_iter was reached which means the coef_ did not converge\n",
      "  \"the coef_ did not converge\", ConvergenceWarning)\n",
      "/anaconda3/lib/python3.6/site-packages/sklearn/linear_model/sag.py:326: ConvergenceWarning: The max_iter was reached which means the coef_ did not converge\n",
      "  \"the coef_ did not converge\", ConvergenceWarning)\n",
      "/anaconda3/lib/python3.6/site-packages/sklearn/linear_model/sag.py:326: ConvergenceWarning: The max_iter was reached which means the coef_ did not converge\n",
      "  \"the coef_ did not converge\", ConvergenceWarning)\n",
      "/anaconda3/lib/python3.6/site-packages/sklearn/model_selection/_validation.py:479: FitFailedWarning: Classifier fit failed. The score on this train-test partition for these parameters will be set to 0.000000. Details: \n",
      "ValueError('Solver newton-cg supports only l2 penalties, got l1 penalty.',)\n",
      "  \"Details: \\n%r\" % (error_score, e), FitFailedWarning)\n",
      "/anaconda3/lib/python3.6/site-packages/sklearn/model_selection/_validation.py:479: FitFailedWarning: Classifier fit failed. The score on this train-test partition for these parameters will be set to 0.000000. Details: \n",
      "ValueError('Solver newton-cg supports only l2 penalties, got l1 penalty.',)\n",
      "  \"Details: \\n%r\" % (error_score, e), FitFailedWarning)\n",
      "/anaconda3/lib/python3.6/site-packages/sklearn/model_selection/_validation.py:479: FitFailedWarning: Classifier fit failed. The score on this train-test partition for these parameters will be set to 0.000000. Details: \n",
      "ValueError('Solver newton-cg supports only l2 penalties, got l1 penalty.',)\n",
      "  \"Details: \\n%r\" % (error_score, e), FitFailedWarning)\n",
      "/anaconda3/lib/python3.6/site-packages/sklearn/model_selection/_validation.py:479: FitFailedWarning: Classifier fit failed. The score on this train-test partition for these parameters will be set to 0.000000. Details: \n",
      "ValueError('Solver lbfgs supports only l2 penalties, got l1 penalty.',)\n",
      "  \"Details: \\n%r\" % (error_score, e), FitFailedWarning)\n",
      "/anaconda3/lib/python3.6/site-packages/sklearn/model_selection/_validation.py:479: FitFailedWarning: Classifier fit failed. The score on this train-test partition for these parameters will be set to 0.000000. Details: \n",
      "ValueError('Solver lbfgs supports only l2 penalties, got l1 penalty.',)\n",
      "  \"Details: \\n%r\" % (error_score, e), FitFailedWarning)\n",
      "/anaconda3/lib/python3.6/site-packages/sklearn/model_selection/_validation.py:479: FitFailedWarning: Classifier fit failed. The score on this train-test partition for these parameters will be set to 0.000000. Details: \n",
      "ValueError('Solver lbfgs supports only l2 penalties, got l1 penalty.',)\n",
      "  \"Details: \\n%r\" % (error_score, e), FitFailedWarning)\n",
      "/anaconda3/lib/python3.6/site-packages/sklearn/model_selection/_validation.py:479: FitFailedWarning: Classifier fit failed. The score on this train-test partition for these parameters will be set to 0.000000. Details: \n",
      "ValueError('Solver sag supports only l2 penalties, got l1 penalty.',)\n",
      "  \"Details: \\n%r\" % (error_score, e), FitFailedWarning)\n",
      "/anaconda3/lib/python3.6/site-packages/sklearn/model_selection/_validation.py:479: FitFailedWarning: Classifier fit failed. The score on this train-test partition for these parameters will be set to 0.000000. Details: \n",
      "ValueError('Solver sag supports only l2 penalties, got l1 penalty.',)\n",
      "  \"Details: \\n%r\" % (error_score, e), FitFailedWarning)\n",
      "/anaconda3/lib/python3.6/site-packages/sklearn/model_selection/_validation.py:479: FitFailedWarning: Classifier fit failed. The score on this train-test partition for these parameters will be set to 0.000000. Details: \n",
      "ValueError('Solver sag supports only l2 penalties, got l1 penalty.',)\n",
      "  \"Details: \\n%r\" % (error_score, e), FitFailedWarning)\n",
      "/anaconda3/lib/python3.6/site-packages/sklearn/linear_model/sag.py:326: ConvergenceWarning: The max_iter was reached which means the coef_ did not converge\n",
      "  \"the coef_ did not converge\", ConvergenceWarning)\n",
      "/anaconda3/lib/python3.6/site-packages/sklearn/linear_model/sag.py:326: ConvergenceWarning: The max_iter was reached which means the coef_ did not converge\n",
      "  \"the coef_ did not converge\", ConvergenceWarning)\n",
      "/anaconda3/lib/python3.6/site-packages/sklearn/linear_model/sag.py:326: ConvergenceWarning: The max_iter was reached which means the coef_ did not converge\n",
      "  \"the coef_ did not converge\", ConvergenceWarning)\n",
      "/anaconda3/lib/python3.6/site-packages/sklearn/linear_model/sag.py:326: ConvergenceWarning: The max_iter was reached which means the coef_ did not converge\n",
      "  \"the coef_ did not converge\", ConvergenceWarning)\n",
      "/anaconda3/lib/python3.6/site-packages/sklearn/linear_model/sag.py:326: ConvergenceWarning: The max_iter was reached which means the coef_ did not converge\n",
      "  \"the coef_ did not converge\", ConvergenceWarning)\n",
      "/anaconda3/lib/python3.6/site-packages/sklearn/linear_model/sag.py:326: ConvergenceWarning: The max_iter was reached which means the coef_ did not converge\n",
      "  \"the coef_ did not converge\", ConvergenceWarning)\n",
      "/anaconda3/lib/python3.6/site-packages/sklearn/linear_model/sag.py:326: ConvergenceWarning: The max_iter was reached which means the coef_ did not converge\n",
      "  \"the coef_ did not converge\", ConvergenceWarning)\n",
      "/anaconda3/lib/python3.6/site-packages/sklearn/linear_model/sag.py:326: ConvergenceWarning: The max_iter was reached which means the coef_ did not converge\n",
      "  \"the coef_ did not converge\", ConvergenceWarning)\n"
     ]
    },
    {
     "name": "stderr",
     "output_type": "stream",
     "text": [
      "/anaconda3/lib/python3.6/site-packages/sklearn/linear_model/sag.py:326: ConvergenceWarning: The max_iter was reached which means the coef_ did not converge\n",
      "  \"the coef_ did not converge\", ConvergenceWarning)\n",
      "/anaconda3/lib/python3.6/site-packages/sklearn/model_selection/_validation.py:479: FitFailedWarning: Classifier fit failed. The score on this train-test partition for these parameters will be set to 0.000000. Details: \n",
      "ValueError('Solver newton-cg supports only l2 penalties, got l1 penalty.',)\n",
      "  \"Details: \\n%r\" % (error_score, e), FitFailedWarning)\n",
      "/anaconda3/lib/python3.6/site-packages/sklearn/model_selection/_validation.py:479: FitFailedWarning: Classifier fit failed. The score on this train-test partition for these parameters will be set to 0.000000. Details: \n",
      "ValueError('Solver newton-cg supports only l2 penalties, got l1 penalty.',)\n",
      "  \"Details: \\n%r\" % (error_score, e), FitFailedWarning)\n",
      "/anaconda3/lib/python3.6/site-packages/sklearn/model_selection/_validation.py:479: FitFailedWarning: Classifier fit failed. The score on this train-test partition for these parameters will be set to 0.000000. Details: \n",
      "ValueError('Solver newton-cg supports only l2 penalties, got l1 penalty.',)\n",
      "  \"Details: \\n%r\" % (error_score, e), FitFailedWarning)\n",
      "/anaconda3/lib/python3.6/site-packages/sklearn/model_selection/_validation.py:479: FitFailedWarning: Classifier fit failed. The score on this train-test partition for these parameters will be set to 0.000000. Details: \n",
      "ValueError('Solver lbfgs supports only l2 penalties, got l1 penalty.',)\n",
      "  \"Details: \\n%r\" % (error_score, e), FitFailedWarning)\n",
      "/anaconda3/lib/python3.6/site-packages/sklearn/model_selection/_validation.py:479: FitFailedWarning: Classifier fit failed. The score on this train-test partition for these parameters will be set to 0.000000. Details: \n",
      "ValueError('Solver lbfgs supports only l2 penalties, got l1 penalty.',)\n",
      "  \"Details: \\n%r\" % (error_score, e), FitFailedWarning)\n",
      "/anaconda3/lib/python3.6/site-packages/sklearn/model_selection/_validation.py:479: FitFailedWarning: Classifier fit failed. The score on this train-test partition for these parameters will be set to 0.000000. Details: \n",
      "ValueError('Solver lbfgs supports only l2 penalties, got l1 penalty.',)\n",
      "  \"Details: \\n%r\" % (error_score, e), FitFailedWarning)\n",
      "/anaconda3/lib/python3.6/site-packages/sklearn/model_selection/_validation.py:479: FitFailedWarning: Classifier fit failed. The score on this train-test partition for these parameters will be set to 0.000000. Details: \n",
      "ValueError('Solver sag supports only l2 penalties, got l1 penalty.',)\n",
      "  \"Details: \\n%r\" % (error_score, e), FitFailedWarning)\n",
      "/anaconda3/lib/python3.6/site-packages/sklearn/model_selection/_validation.py:479: FitFailedWarning: Classifier fit failed. The score on this train-test partition for these parameters will be set to 0.000000. Details: \n",
      "ValueError('Solver sag supports only l2 penalties, got l1 penalty.',)\n",
      "  \"Details: \\n%r\" % (error_score, e), FitFailedWarning)\n",
      "/anaconda3/lib/python3.6/site-packages/sklearn/model_selection/_validation.py:479: FitFailedWarning: Classifier fit failed. The score on this train-test partition for these parameters will be set to 0.000000. Details: \n",
      "ValueError('Solver sag supports only l2 penalties, got l1 penalty.',)\n",
      "  \"Details: \\n%r\" % (error_score, e), FitFailedWarning)\n",
      "/anaconda3/lib/python3.6/site-packages/sklearn/linear_model/sag.py:326: ConvergenceWarning: The max_iter was reached which means the coef_ did not converge\n",
      "  \"the coef_ did not converge\", ConvergenceWarning)\n",
      "/anaconda3/lib/python3.6/site-packages/sklearn/linear_model/sag.py:326: ConvergenceWarning: The max_iter was reached which means the coef_ did not converge\n",
      "  \"the coef_ did not converge\", ConvergenceWarning)\n",
      "/anaconda3/lib/python3.6/site-packages/sklearn/linear_model/sag.py:326: ConvergenceWarning: The max_iter was reached which means the coef_ did not converge\n",
      "  \"the coef_ did not converge\", ConvergenceWarning)\n",
      "/anaconda3/lib/python3.6/site-packages/sklearn/linear_model/sag.py:326: ConvergenceWarning: The max_iter was reached which means the coef_ did not converge\n",
      "  \"the coef_ did not converge\", ConvergenceWarning)\n",
      "/anaconda3/lib/python3.6/site-packages/sklearn/linear_model/sag.py:326: ConvergenceWarning: The max_iter was reached which means the coef_ did not converge\n",
      "  \"the coef_ did not converge\", ConvergenceWarning)\n",
      "/anaconda3/lib/python3.6/site-packages/sklearn/linear_model/sag.py:326: ConvergenceWarning: The max_iter was reached which means the coef_ did not converge\n",
      "  \"the coef_ did not converge\", ConvergenceWarning)\n",
      "/anaconda3/lib/python3.6/site-packages/sklearn/linear_model/sag.py:326: ConvergenceWarning: The max_iter was reached which means the coef_ did not converge\n",
      "  \"the coef_ did not converge\", ConvergenceWarning)\n",
      "/anaconda3/lib/python3.6/site-packages/sklearn/linear_model/sag.py:326: ConvergenceWarning: The max_iter was reached which means the coef_ did not converge\n",
      "  \"the coef_ did not converge\", ConvergenceWarning)\n",
      "/anaconda3/lib/python3.6/site-packages/sklearn/linear_model/sag.py:326: ConvergenceWarning: The max_iter was reached which means the coef_ did not converge\n",
      "  \"the coef_ did not converge\", ConvergenceWarning)\n",
      "/anaconda3/lib/python3.6/site-packages/sklearn/model_selection/_validation.py:479: FitFailedWarning: Classifier fit failed. The score on this train-test partition for these parameters will be set to 0.000000. Details: \n",
      "ValueError('Solver newton-cg supports only l2 penalties, got l1 penalty.',)\n",
      "  \"Details: \\n%r\" % (error_score, e), FitFailedWarning)\n",
      "/anaconda3/lib/python3.6/site-packages/sklearn/model_selection/_validation.py:479: FitFailedWarning: Classifier fit failed. The score on this train-test partition for these parameters will be set to 0.000000. Details: \n",
      "ValueError('Solver newton-cg supports only l2 penalties, got l1 penalty.',)\n",
      "  \"Details: \\n%r\" % (error_score, e), FitFailedWarning)\n",
      "/anaconda3/lib/python3.6/site-packages/sklearn/model_selection/_validation.py:479: FitFailedWarning: Classifier fit failed. The score on this train-test partition for these parameters will be set to 0.000000. Details: \n",
      "ValueError('Solver newton-cg supports only l2 penalties, got l1 penalty.',)\n",
      "  \"Details: \\n%r\" % (error_score, e), FitFailedWarning)\n",
      "/anaconda3/lib/python3.6/site-packages/sklearn/model_selection/_validation.py:479: FitFailedWarning: Classifier fit failed. The score on this train-test partition for these parameters will be set to 0.000000. Details: \n",
      "ValueError('Solver lbfgs supports only l2 penalties, got l1 penalty.',)\n",
      "  \"Details: \\n%r\" % (error_score, e), FitFailedWarning)\n",
      "/anaconda3/lib/python3.6/site-packages/sklearn/model_selection/_validation.py:479: FitFailedWarning: Classifier fit failed. The score on this train-test partition for these parameters will be set to 0.000000. Details: \n",
      "ValueError('Solver lbfgs supports only l2 penalties, got l1 penalty.',)\n",
      "  \"Details: \\n%r\" % (error_score, e), FitFailedWarning)\n",
      "/anaconda3/lib/python3.6/site-packages/sklearn/model_selection/_validation.py:479: FitFailedWarning: Classifier fit failed. The score on this train-test partition for these parameters will be set to 0.000000. Details: \n",
      "ValueError('Solver lbfgs supports only l2 penalties, got l1 penalty.',)\n",
      "  \"Details: \\n%r\" % (error_score, e), FitFailedWarning)\n",
      "/anaconda3/lib/python3.6/site-packages/sklearn/model_selection/_validation.py:479: FitFailedWarning: Classifier fit failed. The score on this train-test partition for these parameters will be set to 0.000000. Details: \n",
      "ValueError('Solver sag supports only l2 penalties, got l1 penalty.',)\n",
      "  \"Details: \\n%r\" % (error_score, e), FitFailedWarning)\n",
      "/anaconda3/lib/python3.6/site-packages/sklearn/model_selection/_validation.py:479: FitFailedWarning: Classifier fit failed. The score on this train-test partition for these parameters will be set to 0.000000. Details: \n",
      "ValueError('Solver sag supports only l2 penalties, got l1 penalty.',)\n",
      "  \"Details: \\n%r\" % (error_score, e), FitFailedWarning)\n",
      "/anaconda3/lib/python3.6/site-packages/sklearn/model_selection/_validation.py:479: FitFailedWarning: Classifier fit failed. The score on this train-test partition for these parameters will be set to 0.000000. Details: \n",
      "ValueError('Solver sag supports only l2 penalties, got l1 penalty.',)\n",
      "  \"Details: \\n%r\" % (error_score, e), FitFailedWarning)\n"
     ]
    },
    {
     "name": "stderr",
     "output_type": "stream",
     "text": [
      "/anaconda3/lib/python3.6/site-packages/sklearn/linear_model/sag.py:326: ConvergenceWarning: The max_iter was reached which means the coef_ did not converge\n",
      "  \"the coef_ did not converge\", ConvergenceWarning)\n",
      "/anaconda3/lib/python3.6/site-packages/sklearn/linear_model/sag.py:326: ConvergenceWarning: The max_iter was reached which means the coef_ did not converge\n",
      "  \"the coef_ did not converge\", ConvergenceWarning)\n",
      "/anaconda3/lib/python3.6/site-packages/sklearn/linear_model/sag.py:326: ConvergenceWarning: The max_iter was reached which means the coef_ did not converge\n",
      "  \"the coef_ did not converge\", ConvergenceWarning)\n",
      "/anaconda3/lib/python3.6/site-packages/sklearn/linear_model/sag.py:326: ConvergenceWarning: The max_iter was reached which means the coef_ did not converge\n",
      "  \"the coef_ did not converge\", ConvergenceWarning)\n",
      "/anaconda3/lib/python3.6/site-packages/sklearn/linear_model/sag.py:326: ConvergenceWarning: The max_iter was reached which means the coef_ did not converge\n",
      "  \"the coef_ did not converge\", ConvergenceWarning)\n",
      "/anaconda3/lib/python3.6/site-packages/sklearn/linear_model/sag.py:326: ConvergenceWarning: The max_iter was reached which means the coef_ did not converge\n",
      "  \"the coef_ did not converge\", ConvergenceWarning)\n",
      "/anaconda3/lib/python3.6/site-packages/sklearn/linear_model/sag.py:326: ConvergenceWarning: The max_iter was reached which means the coef_ did not converge\n",
      "  \"the coef_ did not converge\", ConvergenceWarning)\n",
      "/anaconda3/lib/python3.6/site-packages/sklearn/linear_model/sag.py:326: ConvergenceWarning: The max_iter was reached which means the coef_ did not converge\n",
      "  \"the coef_ did not converge\", ConvergenceWarning)\n",
      "/anaconda3/lib/python3.6/site-packages/sklearn/linear_model/sag.py:326: ConvergenceWarning: The max_iter was reached which means the coef_ did not converge\n",
      "  \"the coef_ did not converge\", ConvergenceWarning)\n",
      "/anaconda3/lib/python3.6/site-packages/sklearn/model_selection/_validation.py:479: FitFailedWarning: Classifier fit failed. The score on this train-test partition for these parameters will be set to 0.000000. Details: \n",
      "ValueError('Solver newton-cg supports only l2 penalties, got l1 penalty.',)\n",
      "  \"Details: \\n%r\" % (error_score, e), FitFailedWarning)\n",
      "/anaconda3/lib/python3.6/site-packages/sklearn/model_selection/_validation.py:479: FitFailedWarning: Classifier fit failed. The score on this train-test partition for these parameters will be set to 0.000000. Details: \n",
      "ValueError('Solver newton-cg supports only l2 penalties, got l1 penalty.',)\n",
      "  \"Details: \\n%r\" % (error_score, e), FitFailedWarning)\n",
      "/anaconda3/lib/python3.6/site-packages/sklearn/model_selection/_validation.py:479: FitFailedWarning: Classifier fit failed. The score on this train-test partition for these parameters will be set to 0.000000. Details: \n",
      "ValueError('Solver newton-cg supports only l2 penalties, got l1 penalty.',)\n",
      "  \"Details: \\n%r\" % (error_score, e), FitFailedWarning)\n",
      "/anaconda3/lib/python3.6/site-packages/sklearn/model_selection/_validation.py:479: FitFailedWarning: Classifier fit failed. The score on this train-test partition for these parameters will be set to 0.000000. Details: \n",
      "ValueError('Solver lbfgs supports only l2 penalties, got l1 penalty.',)\n",
      "  \"Details: \\n%r\" % (error_score, e), FitFailedWarning)\n",
      "/anaconda3/lib/python3.6/site-packages/sklearn/model_selection/_validation.py:479: FitFailedWarning: Classifier fit failed. The score on this train-test partition for these parameters will be set to 0.000000. Details: \n",
      "ValueError('Solver lbfgs supports only l2 penalties, got l1 penalty.',)\n",
      "  \"Details: \\n%r\" % (error_score, e), FitFailedWarning)\n",
      "/anaconda3/lib/python3.6/site-packages/sklearn/model_selection/_validation.py:479: FitFailedWarning: Classifier fit failed. The score on this train-test partition for these parameters will be set to 0.000000. Details: \n",
      "ValueError('Solver lbfgs supports only l2 penalties, got l1 penalty.',)\n",
      "  \"Details: \\n%r\" % (error_score, e), FitFailedWarning)\n",
      "/anaconda3/lib/python3.6/site-packages/sklearn/model_selection/_validation.py:479: FitFailedWarning: Classifier fit failed. The score on this train-test partition for these parameters will be set to 0.000000. Details: \n",
      "ValueError('Solver sag supports only l2 penalties, got l1 penalty.',)\n",
      "  \"Details: \\n%r\" % (error_score, e), FitFailedWarning)\n",
      "/anaconda3/lib/python3.6/site-packages/sklearn/model_selection/_validation.py:479: FitFailedWarning: Classifier fit failed. The score on this train-test partition for these parameters will be set to 0.000000. Details: \n",
      "ValueError('Solver sag supports only l2 penalties, got l1 penalty.',)\n",
      "  \"Details: \\n%r\" % (error_score, e), FitFailedWarning)\n",
      "/anaconda3/lib/python3.6/site-packages/sklearn/model_selection/_validation.py:479: FitFailedWarning: Classifier fit failed. The score on this train-test partition for these parameters will be set to 0.000000. Details: \n",
      "ValueError('Solver sag supports only l2 penalties, got l1 penalty.',)\n",
      "  \"Details: \\n%r\" % (error_score, e), FitFailedWarning)\n",
      "/anaconda3/lib/python3.6/site-packages/sklearn/linear_model/sag.py:326: ConvergenceWarning: The max_iter was reached which means the coef_ did not converge\n",
      "  \"the coef_ did not converge\", ConvergenceWarning)\n",
      "/anaconda3/lib/python3.6/site-packages/sklearn/linear_model/sag.py:326: ConvergenceWarning: The max_iter was reached which means the coef_ did not converge\n",
      "  \"the coef_ did not converge\", ConvergenceWarning)\n",
      "/anaconda3/lib/python3.6/site-packages/sklearn/linear_model/sag.py:326: ConvergenceWarning: The max_iter was reached which means the coef_ did not converge\n",
      "  \"the coef_ did not converge\", ConvergenceWarning)\n",
      "/anaconda3/lib/python3.6/site-packages/sklearn/linear_model/sag.py:326: ConvergenceWarning: The max_iter was reached which means the coef_ did not converge\n",
      "  \"the coef_ did not converge\", ConvergenceWarning)\n",
      "/anaconda3/lib/python3.6/site-packages/sklearn/linear_model/sag.py:326: ConvergenceWarning: The max_iter was reached which means the coef_ did not converge\n",
      "  \"the coef_ did not converge\", ConvergenceWarning)\n",
      "/anaconda3/lib/python3.6/site-packages/sklearn/linear_model/sag.py:326: ConvergenceWarning: The max_iter was reached which means the coef_ did not converge\n",
      "  \"the coef_ did not converge\", ConvergenceWarning)\n",
      "/anaconda3/lib/python3.6/site-packages/sklearn/linear_model/sag.py:326: ConvergenceWarning: The max_iter was reached which means the coef_ did not converge\n",
      "  \"the coef_ did not converge\", ConvergenceWarning)\n",
      "/anaconda3/lib/python3.6/site-packages/sklearn/linear_model/sag.py:326: ConvergenceWarning: The max_iter was reached which means the coef_ did not converge\n",
      "  \"the coef_ did not converge\", ConvergenceWarning)\n",
      "/anaconda3/lib/python3.6/site-packages/sklearn/linear_model/sag.py:326: ConvergenceWarning: The max_iter was reached which means the coef_ did not converge\n",
      "  \"the coef_ did not converge\", ConvergenceWarning)\n",
      "/anaconda3/lib/python3.6/site-packages/sklearn/model_selection/_validation.py:479: FitFailedWarning: Classifier fit failed. The score on this train-test partition for these parameters will be set to 0.000000. Details: \n",
      "ValueError('Solver newton-cg supports only l2 penalties, got l1 penalty.',)\n",
      "  \"Details: \\n%r\" % (error_score, e), FitFailedWarning)\n",
      "/anaconda3/lib/python3.6/site-packages/sklearn/model_selection/_validation.py:479: FitFailedWarning: Classifier fit failed. The score on this train-test partition for these parameters will be set to 0.000000. Details: \n",
      "ValueError('Solver newton-cg supports only l2 penalties, got l1 penalty.',)\n",
      "  \"Details: \\n%r\" % (error_score, e), FitFailedWarning)\n",
      "/anaconda3/lib/python3.6/site-packages/sklearn/model_selection/_validation.py:479: FitFailedWarning: Classifier fit failed. The score on this train-test partition for these parameters will be set to 0.000000. Details: \n",
      "ValueError('Solver newton-cg supports only l2 penalties, got l1 penalty.',)\n",
      "  \"Details: \\n%r\" % (error_score, e), FitFailedWarning)\n",
      "/anaconda3/lib/python3.6/site-packages/sklearn/model_selection/_validation.py:479: FitFailedWarning: Classifier fit failed. The score on this train-test partition for these parameters will be set to 0.000000. Details: \n",
      "ValueError('Solver lbfgs supports only l2 penalties, got l1 penalty.',)\n",
      "  \"Details: \\n%r\" % (error_score, e), FitFailedWarning)\n",
      "/anaconda3/lib/python3.6/site-packages/sklearn/model_selection/_validation.py:479: FitFailedWarning: Classifier fit failed. The score on this train-test partition for these parameters will be set to 0.000000. Details: \n",
      "ValueError('Solver lbfgs supports only l2 penalties, got l1 penalty.',)\n",
      "  \"Details: \\n%r\" % (error_score, e), FitFailedWarning)\n",
      "/anaconda3/lib/python3.6/site-packages/sklearn/model_selection/_validation.py:479: FitFailedWarning: Classifier fit failed. The score on this train-test partition for these parameters will be set to 0.000000. Details: \n",
      "ValueError('Solver lbfgs supports only l2 penalties, got l1 penalty.',)\n",
      "  \"Details: \\n%r\" % (error_score, e), FitFailedWarning)\n"
     ]
    },
    {
     "name": "stderr",
     "output_type": "stream",
     "text": [
      "/anaconda3/lib/python3.6/site-packages/sklearn/model_selection/_validation.py:479: FitFailedWarning: Classifier fit failed. The score on this train-test partition for these parameters will be set to 0.000000. Details: \n",
      "ValueError('Solver sag supports only l2 penalties, got l1 penalty.',)\n",
      "  \"Details: \\n%r\" % (error_score, e), FitFailedWarning)\n",
      "/anaconda3/lib/python3.6/site-packages/sklearn/model_selection/_validation.py:479: FitFailedWarning: Classifier fit failed. The score on this train-test partition for these parameters will be set to 0.000000. Details: \n",
      "ValueError('Solver sag supports only l2 penalties, got l1 penalty.',)\n",
      "  \"Details: \\n%r\" % (error_score, e), FitFailedWarning)\n",
      "/anaconda3/lib/python3.6/site-packages/sklearn/model_selection/_validation.py:479: FitFailedWarning: Classifier fit failed. The score on this train-test partition for these parameters will be set to 0.000000. Details: \n",
      "ValueError('Solver sag supports only l2 penalties, got l1 penalty.',)\n",
      "  \"Details: \\n%r\" % (error_score, e), FitFailedWarning)\n",
      "/anaconda3/lib/python3.6/site-packages/sklearn/linear_model/sag.py:326: ConvergenceWarning: The max_iter was reached which means the coef_ did not converge\n",
      "  \"the coef_ did not converge\", ConvergenceWarning)\n",
      "/anaconda3/lib/python3.6/site-packages/sklearn/linear_model/sag.py:326: ConvergenceWarning: The max_iter was reached which means the coef_ did not converge\n",
      "  \"the coef_ did not converge\", ConvergenceWarning)\n",
      "/anaconda3/lib/python3.6/site-packages/sklearn/linear_model/sag.py:326: ConvergenceWarning: The max_iter was reached which means the coef_ did not converge\n",
      "  \"the coef_ did not converge\", ConvergenceWarning)\n",
      "/anaconda3/lib/python3.6/site-packages/sklearn/linear_model/sag.py:326: ConvergenceWarning: The max_iter was reached which means the coef_ did not converge\n",
      "  \"the coef_ did not converge\", ConvergenceWarning)\n",
      "/anaconda3/lib/python3.6/site-packages/sklearn/linear_model/sag.py:326: ConvergenceWarning: The max_iter was reached which means the coef_ did not converge\n",
      "  \"the coef_ did not converge\", ConvergenceWarning)\n",
      "/anaconda3/lib/python3.6/site-packages/sklearn/linear_model/sag.py:326: ConvergenceWarning: The max_iter was reached which means the coef_ did not converge\n",
      "  \"the coef_ did not converge\", ConvergenceWarning)\n",
      "/anaconda3/lib/python3.6/site-packages/sklearn/linear_model/sag.py:326: ConvergenceWarning: The max_iter was reached which means the coef_ did not converge\n",
      "  \"the coef_ did not converge\", ConvergenceWarning)\n",
      "/anaconda3/lib/python3.6/site-packages/sklearn/linear_model/sag.py:326: ConvergenceWarning: The max_iter was reached which means the coef_ did not converge\n",
      "  \"the coef_ did not converge\", ConvergenceWarning)\n",
      "/anaconda3/lib/python3.6/site-packages/sklearn/linear_model/sag.py:326: ConvergenceWarning: The max_iter was reached which means the coef_ did not converge\n",
      "  \"the coef_ did not converge\", ConvergenceWarning)\n",
      "[Parallel(n_jobs=1)]: Done 480 out of 480 | elapsed: 46.4min finished\n"
     ]
    },
    {
     "data": {
      "text/plain": [
       "GridSearchCV(cv=None, error_score=0,\n",
       "       estimator=LogisticRegression(C=1.0, class_weight=None, dual=False, fit_intercept=True,\n",
       "          intercept_scaling=1, max_iter=100, multi_class='ovr', n_jobs=1,\n",
       "          penalty='l2', random_state=None, solver='liblinear', tol=0.0001,\n",
       "          verbose=0, warm_start=False),\n",
       "       fit_params=None, iid=True, n_jobs=1,\n",
       "       param_grid={'penalty': ['l1', 'l2'], 'C': [0.1, 1, 5, 10, 50, 100, 500, 1000], 'class_weight': [None, 'balanced'], 'solver': ['liblinear', 'newton-cg', 'lbfgs', 'sag', 'saga']},\n",
       "       pre_dispatch='2*n_jobs', refit=True, return_train_score='warn',\n",
       "       scoring='roc_auc', verbose=1)"
      ]
     },
     "execution_count": 37,
     "metadata": {},
     "output_type": "execute_result"
    }
   ],
   "source": [
    "grid2.fit(X_train,y_train)"
   ]
  },
  {
   "cell_type": "code",
   "execution_count": 38,
   "metadata": {},
   "outputs": [
    {
     "data": {
      "text/plain": [
       "{'C': 0.1, 'class_weight': None, 'penalty': 'l2', 'solver': 'liblinear'}"
      ]
     },
     "execution_count": 38,
     "metadata": {},
     "output_type": "execute_result"
    }
   ],
   "source": [
    "grid2.best_params_"
   ]
  },
  {
   "cell_type": "code",
   "execution_count": 39,
   "metadata": {},
   "outputs": [
    {
     "data": {
      "text/plain": [
       "LogisticRegression(C=0.1, class_weight=None, dual=False, fit_intercept=True,\n",
       "          intercept_scaling=1, max_iter=100, multi_class='ovr', n_jobs=1,\n",
       "          penalty='l2', random_state=None, solver='liblinear', tol=0.0001,\n",
       "          verbose=0, warm_start=False)"
      ]
     },
     "execution_count": 39,
     "metadata": {},
     "output_type": "execute_result"
    }
   ],
   "source": [
    "grid2.best_estimator_"
   ]
  },
  {
   "cell_type": "code",
   "execution_count": 40,
   "metadata": {},
   "outputs": [
    {
     "name": "stdout",
     "output_type": "stream",
     "text": [
      "             precision    recall  f1-score   support\n",
      "\n",
      "        0.0       0.85      1.00      0.92     44742\n",
      "        1.0       0.44      0.01      0.02      8183\n",
      "\n",
      "avg / total       0.78      0.84      0.78     52925\n",
      "\n",
      "[[44622   120]\n",
      " [ 8088    95]]\n",
      "0.6918548307593432\n"
     ]
    }
   ],
   "source": [
    "grid2_predictions = grid2.predict(X_test)\n",
    "print(classification_report(y_test,grid2_predictions))\n",
    "print(confusion_matrix(y_test,grid2_predictions))\n",
    "print(grid2.score(X_test, y_test))"
   ]
  },
  {
   "cell_type": "code",
   "execution_count": null,
   "metadata": {},
   "outputs": [],
   "source": []
  },
  {
   "cell_type": "code",
   "execution_count": 20,
   "metadata": {},
   "outputs": [],
   "source": [
    "df.drop(columns=['installment','emp_length','revol_bal','revol_util','mort_acc','term_ 60 months','home_ownership_NONE','verification_status_Not Verified','purpose_other','addr_state_WY'], inplace=True)\n"
   ]
  },
  {
   "cell_type": "code",
   "execution_count": 21,
   "metadata": {},
   "outputs": [],
   "source": [
    "X_train, X_test, y_train, y_test = train_test_split(df, y, test_size=0.30, random_state=101)"
   ]
  },
  {
   "cell_type": "code",
   "execution_count": 22,
   "metadata": {},
   "outputs": [
    {
     "name": "stdout",
     "output_type": "stream",
     "text": [
      "             precision    recall  f1-score   support\n",
      "\n",
      "        0.0       0.85      1.00      0.92     44742\n",
      "        1.0       0.45      0.01      0.02      8183\n",
      "\n",
      "avg / total       0.78      0.84      0.78     52925\n",
      "\n",
      "[[44620   122]\n",
      " [ 8084    99]]\n",
      "0.844950401511573\n"
     ]
    }
   ],
   "source": [
    "logmodel = LogisticRegression()\n",
    "logmodel.fit(X_train,y_train)\n",
    "predictions = logmodel.predict(X_test)\n",
    "print(classification_report(y_test,predictions))\n",
    "print(confusion_matrix(y_test,predictions))\n",
    "print(logmodel.score(X_test, y_test))"
   ]
  },
  {
   "cell_type": "code",
   "execution_count": 23,
   "metadata": {},
   "outputs": [],
   "source": [
    "param_grid={'penalty': ['l1','l2'], 'C':[0.1,1,5,10,50,100,500,1000],\n",
    "            'class_weight': [None, 'balanced'], 'solver': ['liblinear','newton-cg','lbfgs','sag','saga']}\n"
   ]
  },
  {
   "cell_type": "code",
   "execution_count": 26,
   "metadata": {},
   "outputs": [],
   "source": [
    "grid = GridSearchCV(LogisticRegression(), param_grid, refit=True, error_score=0)"
   ]
  },
  {
   "cell_type": "code",
   "execution_count": 27,
   "metadata": {},
   "outputs": [
    {
     "name": "stderr",
     "output_type": "stream",
     "text": [
      "/anaconda3/lib/python3.6/site-packages/sklearn/model_selection/_validation.py:479: FitFailedWarning: Classifier fit failed. The score on this train-test partition for these parameters will be set to 0.000000. Details: \n",
      "ValueError('Solver newton-cg supports only l2 penalties, got l1 penalty.',)\n",
      "  \"Details: \\n%r\" % (error_score, e), FitFailedWarning)\n",
      "/anaconda3/lib/python3.6/site-packages/sklearn/model_selection/_validation.py:479: FitFailedWarning: Classifier fit failed. The score on this train-test partition for these parameters will be set to 0.000000. Details: \n",
      "ValueError('Solver newton-cg supports only l2 penalties, got l1 penalty.',)\n",
      "  \"Details: \\n%r\" % (error_score, e), FitFailedWarning)\n",
      "/anaconda3/lib/python3.6/site-packages/sklearn/model_selection/_validation.py:479: FitFailedWarning: Classifier fit failed. The score on this train-test partition for these parameters will be set to 0.000000. Details: \n",
      "ValueError('Solver newton-cg supports only l2 penalties, got l1 penalty.',)\n",
      "  \"Details: \\n%r\" % (error_score, e), FitFailedWarning)\n",
      "/anaconda3/lib/python3.6/site-packages/sklearn/model_selection/_validation.py:479: FitFailedWarning: Classifier fit failed. The score on this train-test partition for these parameters will be set to 0.000000. Details: \n",
      "ValueError('Solver lbfgs supports only l2 penalties, got l1 penalty.',)\n",
      "  \"Details: \\n%r\" % (error_score, e), FitFailedWarning)\n",
      "/anaconda3/lib/python3.6/site-packages/sklearn/model_selection/_validation.py:479: FitFailedWarning: Classifier fit failed. The score on this train-test partition for these parameters will be set to 0.000000. Details: \n",
      "ValueError('Solver lbfgs supports only l2 penalties, got l1 penalty.',)\n",
      "  \"Details: \\n%r\" % (error_score, e), FitFailedWarning)\n",
      "/anaconda3/lib/python3.6/site-packages/sklearn/model_selection/_validation.py:479: FitFailedWarning: Classifier fit failed. The score on this train-test partition for these parameters will be set to 0.000000. Details: \n",
      "ValueError('Solver lbfgs supports only l2 penalties, got l1 penalty.',)\n",
      "  \"Details: \\n%r\" % (error_score, e), FitFailedWarning)\n",
      "/anaconda3/lib/python3.6/site-packages/sklearn/model_selection/_validation.py:479: FitFailedWarning: Classifier fit failed. The score on this train-test partition for these parameters will be set to 0.000000. Details: \n",
      "ValueError('Solver sag supports only l2 penalties, got l1 penalty.',)\n",
      "  \"Details: \\n%r\" % (error_score, e), FitFailedWarning)\n",
      "/anaconda3/lib/python3.6/site-packages/sklearn/model_selection/_validation.py:479: FitFailedWarning: Classifier fit failed. The score on this train-test partition for these parameters will be set to 0.000000. Details: \n",
      "ValueError('Solver sag supports only l2 penalties, got l1 penalty.',)\n",
      "  \"Details: \\n%r\" % (error_score, e), FitFailedWarning)\n",
      "/anaconda3/lib/python3.6/site-packages/sklearn/model_selection/_validation.py:479: FitFailedWarning: Classifier fit failed. The score on this train-test partition for these parameters will be set to 0.000000. Details: \n",
      "ValueError('Solver sag supports only l2 penalties, got l1 penalty.',)\n",
      "  \"Details: \\n%r\" % (error_score, e), FitFailedWarning)\n",
      "/anaconda3/lib/python3.6/site-packages/sklearn/linear_model/sag.py:326: ConvergenceWarning: The max_iter was reached which means the coef_ did not converge\n",
      "  \"the coef_ did not converge\", ConvergenceWarning)\n",
      "/anaconda3/lib/python3.6/site-packages/sklearn/linear_model/sag.py:326: ConvergenceWarning: The max_iter was reached which means the coef_ did not converge\n",
      "  \"the coef_ did not converge\", ConvergenceWarning)\n",
      "/anaconda3/lib/python3.6/site-packages/sklearn/linear_model/sag.py:326: ConvergenceWarning: The max_iter was reached which means the coef_ did not converge\n",
      "  \"the coef_ did not converge\", ConvergenceWarning)\n",
      "/anaconda3/lib/python3.6/site-packages/sklearn/linear_model/sag.py:326: ConvergenceWarning: The max_iter was reached which means the coef_ did not converge\n",
      "  \"the coef_ did not converge\", ConvergenceWarning)\n",
      "/anaconda3/lib/python3.6/site-packages/sklearn/linear_model/sag.py:326: ConvergenceWarning: The max_iter was reached which means the coef_ did not converge\n",
      "  \"the coef_ did not converge\", ConvergenceWarning)\n",
      "/anaconda3/lib/python3.6/site-packages/sklearn/linear_model/sag.py:326: ConvergenceWarning: The max_iter was reached which means the coef_ did not converge\n",
      "  \"the coef_ did not converge\", ConvergenceWarning)\n",
      "/anaconda3/lib/python3.6/site-packages/sklearn/linear_model/sag.py:326: ConvergenceWarning: The max_iter was reached which means the coef_ did not converge\n",
      "  \"the coef_ did not converge\", ConvergenceWarning)\n",
      "/anaconda3/lib/python3.6/site-packages/sklearn/linear_model/sag.py:326: ConvergenceWarning: The max_iter was reached which means the coef_ did not converge\n",
      "  \"the coef_ did not converge\", ConvergenceWarning)\n",
      "/anaconda3/lib/python3.6/site-packages/sklearn/linear_model/sag.py:326: ConvergenceWarning: The max_iter was reached which means the coef_ did not converge\n",
      "  \"the coef_ did not converge\", ConvergenceWarning)\n",
      "/anaconda3/lib/python3.6/site-packages/sklearn/model_selection/_validation.py:479: FitFailedWarning: Classifier fit failed. The score on this train-test partition for these parameters will be set to 0.000000. Details: \n",
      "ValueError('Solver newton-cg supports only l2 penalties, got l1 penalty.',)\n",
      "  \"Details: \\n%r\" % (error_score, e), FitFailedWarning)\n",
      "/anaconda3/lib/python3.6/site-packages/sklearn/model_selection/_validation.py:479: FitFailedWarning: Classifier fit failed. The score on this train-test partition for these parameters will be set to 0.000000. Details: \n",
      "ValueError('Solver newton-cg supports only l2 penalties, got l1 penalty.',)\n",
      "  \"Details: \\n%r\" % (error_score, e), FitFailedWarning)\n",
      "/anaconda3/lib/python3.6/site-packages/sklearn/model_selection/_validation.py:479: FitFailedWarning: Classifier fit failed. The score on this train-test partition for these parameters will be set to 0.000000. Details: \n",
      "ValueError('Solver newton-cg supports only l2 penalties, got l1 penalty.',)\n",
      "  \"Details: \\n%r\" % (error_score, e), FitFailedWarning)\n",
      "/anaconda3/lib/python3.6/site-packages/sklearn/model_selection/_validation.py:479: FitFailedWarning: Classifier fit failed. The score on this train-test partition for these parameters will be set to 0.000000. Details: \n",
      "ValueError('Solver lbfgs supports only l2 penalties, got l1 penalty.',)\n",
      "  \"Details: \\n%r\" % (error_score, e), FitFailedWarning)\n",
      "/anaconda3/lib/python3.6/site-packages/sklearn/model_selection/_validation.py:479: FitFailedWarning: Classifier fit failed. The score on this train-test partition for these parameters will be set to 0.000000. Details: \n",
      "ValueError('Solver lbfgs supports only l2 penalties, got l1 penalty.',)\n",
      "  \"Details: \\n%r\" % (error_score, e), FitFailedWarning)\n",
      "/anaconda3/lib/python3.6/site-packages/sklearn/model_selection/_validation.py:479: FitFailedWarning: Classifier fit failed. The score on this train-test partition for these parameters will be set to 0.000000. Details: \n",
      "ValueError('Solver lbfgs supports only l2 penalties, got l1 penalty.',)\n",
      "  \"Details: \\n%r\" % (error_score, e), FitFailedWarning)\n",
      "/anaconda3/lib/python3.6/site-packages/sklearn/model_selection/_validation.py:479: FitFailedWarning: Classifier fit failed. The score on this train-test partition for these parameters will be set to 0.000000. Details: \n",
      "ValueError('Solver sag supports only l2 penalties, got l1 penalty.',)\n",
      "  \"Details: \\n%r\" % (error_score, e), FitFailedWarning)\n",
      "/anaconda3/lib/python3.6/site-packages/sklearn/model_selection/_validation.py:479: FitFailedWarning: Classifier fit failed. The score on this train-test partition for these parameters will be set to 0.000000. Details: \n",
      "ValueError('Solver sag supports only l2 penalties, got l1 penalty.',)\n",
      "  \"Details: \\n%r\" % (error_score, e), FitFailedWarning)\n",
      "/anaconda3/lib/python3.6/site-packages/sklearn/model_selection/_validation.py:479: FitFailedWarning: Classifier fit failed. The score on this train-test partition for these parameters will be set to 0.000000. Details: \n",
      "ValueError('Solver sag supports only l2 penalties, got l1 penalty.',)\n",
      "  \"Details: \\n%r\" % (error_score, e), FitFailedWarning)\n",
      "/anaconda3/lib/python3.6/site-packages/sklearn/linear_model/sag.py:326: ConvergenceWarning: The max_iter was reached which means the coef_ did not converge\n",
      "  \"the coef_ did not converge\", ConvergenceWarning)\n"
     ]
    },
    {
     "name": "stderr",
     "output_type": "stream",
     "text": [
      "/anaconda3/lib/python3.6/site-packages/sklearn/linear_model/sag.py:326: ConvergenceWarning: The max_iter was reached which means the coef_ did not converge\n",
      "  \"the coef_ did not converge\", ConvergenceWarning)\n",
      "/anaconda3/lib/python3.6/site-packages/sklearn/linear_model/sag.py:326: ConvergenceWarning: The max_iter was reached which means the coef_ did not converge\n",
      "  \"the coef_ did not converge\", ConvergenceWarning)\n",
      "/anaconda3/lib/python3.6/site-packages/sklearn/linear_model/sag.py:326: ConvergenceWarning: The max_iter was reached which means the coef_ did not converge\n",
      "  \"the coef_ did not converge\", ConvergenceWarning)\n",
      "/anaconda3/lib/python3.6/site-packages/sklearn/linear_model/sag.py:326: ConvergenceWarning: The max_iter was reached which means the coef_ did not converge\n",
      "  \"the coef_ did not converge\", ConvergenceWarning)\n",
      "/anaconda3/lib/python3.6/site-packages/sklearn/linear_model/sag.py:326: ConvergenceWarning: The max_iter was reached which means the coef_ did not converge\n",
      "  \"the coef_ did not converge\", ConvergenceWarning)\n",
      "/anaconda3/lib/python3.6/site-packages/sklearn/linear_model/sag.py:326: ConvergenceWarning: The max_iter was reached which means the coef_ did not converge\n",
      "  \"the coef_ did not converge\", ConvergenceWarning)\n",
      "/anaconda3/lib/python3.6/site-packages/sklearn/linear_model/sag.py:326: ConvergenceWarning: The max_iter was reached which means the coef_ did not converge\n",
      "  \"the coef_ did not converge\", ConvergenceWarning)\n",
      "/anaconda3/lib/python3.6/site-packages/sklearn/model_selection/_validation.py:479: FitFailedWarning: Classifier fit failed. The score on this train-test partition for these parameters will be set to 0.000000. Details: \n",
      "ValueError('Solver newton-cg supports only l2 penalties, got l1 penalty.',)\n",
      "  \"Details: \\n%r\" % (error_score, e), FitFailedWarning)\n",
      "/anaconda3/lib/python3.6/site-packages/sklearn/model_selection/_validation.py:479: FitFailedWarning: Classifier fit failed. The score on this train-test partition for these parameters will be set to 0.000000. Details: \n",
      "ValueError('Solver newton-cg supports only l2 penalties, got l1 penalty.',)\n",
      "  \"Details: \\n%r\" % (error_score, e), FitFailedWarning)\n",
      "/anaconda3/lib/python3.6/site-packages/sklearn/model_selection/_validation.py:479: FitFailedWarning: Classifier fit failed. The score on this train-test partition for these parameters will be set to 0.000000. Details: \n",
      "ValueError('Solver newton-cg supports only l2 penalties, got l1 penalty.',)\n",
      "  \"Details: \\n%r\" % (error_score, e), FitFailedWarning)\n",
      "/anaconda3/lib/python3.6/site-packages/sklearn/model_selection/_validation.py:479: FitFailedWarning: Classifier fit failed. The score on this train-test partition for these parameters will be set to 0.000000. Details: \n",
      "ValueError('Solver lbfgs supports only l2 penalties, got l1 penalty.',)\n",
      "  \"Details: \\n%r\" % (error_score, e), FitFailedWarning)\n",
      "/anaconda3/lib/python3.6/site-packages/sklearn/model_selection/_validation.py:479: FitFailedWarning: Classifier fit failed. The score on this train-test partition for these parameters will be set to 0.000000. Details: \n",
      "ValueError('Solver lbfgs supports only l2 penalties, got l1 penalty.',)\n",
      "  \"Details: \\n%r\" % (error_score, e), FitFailedWarning)\n",
      "/anaconda3/lib/python3.6/site-packages/sklearn/model_selection/_validation.py:479: FitFailedWarning: Classifier fit failed. The score on this train-test partition for these parameters will be set to 0.000000. Details: \n",
      "ValueError('Solver lbfgs supports only l2 penalties, got l1 penalty.',)\n",
      "  \"Details: \\n%r\" % (error_score, e), FitFailedWarning)\n",
      "/anaconda3/lib/python3.6/site-packages/sklearn/model_selection/_validation.py:479: FitFailedWarning: Classifier fit failed. The score on this train-test partition for these parameters will be set to 0.000000. Details: \n",
      "ValueError('Solver sag supports only l2 penalties, got l1 penalty.',)\n",
      "  \"Details: \\n%r\" % (error_score, e), FitFailedWarning)\n",
      "/anaconda3/lib/python3.6/site-packages/sklearn/model_selection/_validation.py:479: FitFailedWarning: Classifier fit failed. The score on this train-test partition for these parameters will be set to 0.000000. Details: \n",
      "ValueError('Solver sag supports only l2 penalties, got l1 penalty.',)\n",
      "  \"Details: \\n%r\" % (error_score, e), FitFailedWarning)\n",
      "/anaconda3/lib/python3.6/site-packages/sklearn/model_selection/_validation.py:479: FitFailedWarning: Classifier fit failed. The score on this train-test partition for these parameters will be set to 0.000000. Details: \n",
      "ValueError('Solver sag supports only l2 penalties, got l1 penalty.',)\n",
      "  \"Details: \\n%r\" % (error_score, e), FitFailedWarning)\n",
      "/anaconda3/lib/python3.6/site-packages/sklearn/linear_model/sag.py:326: ConvergenceWarning: The max_iter was reached which means the coef_ did not converge\n",
      "  \"the coef_ did not converge\", ConvergenceWarning)\n",
      "/anaconda3/lib/python3.6/site-packages/sklearn/linear_model/sag.py:326: ConvergenceWarning: The max_iter was reached which means the coef_ did not converge\n",
      "  \"the coef_ did not converge\", ConvergenceWarning)\n",
      "/anaconda3/lib/python3.6/site-packages/sklearn/linear_model/sag.py:326: ConvergenceWarning: The max_iter was reached which means the coef_ did not converge\n",
      "  \"the coef_ did not converge\", ConvergenceWarning)\n",
      "/anaconda3/lib/python3.6/site-packages/sklearn/linear_model/sag.py:326: ConvergenceWarning: The max_iter was reached which means the coef_ did not converge\n",
      "  \"the coef_ did not converge\", ConvergenceWarning)\n",
      "/anaconda3/lib/python3.6/site-packages/sklearn/linear_model/sag.py:326: ConvergenceWarning: The max_iter was reached which means the coef_ did not converge\n",
      "  \"the coef_ did not converge\", ConvergenceWarning)\n",
      "/anaconda3/lib/python3.6/site-packages/sklearn/linear_model/sag.py:326: ConvergenceWarning: The max_iter was reached which means the coef_ did not converge\n",
      "  \"the coef_ did not converge\", ConvergenceWarning)\n",
      "/anaconda3/lib/python3.6/site-packages/sklearn/linear_model/sag.py:326: ConvergenceWarning: The max_iter was reached which means the coef_ did not converge\n",
      "  \"the coef_ did not converge\", ConvergenceWarning)\n",
      "/anaconda3/lib/python3.6/site-packages/sklearn/linear_model/sag.py:326: ConvergenceWarning: The max_iter was reached which means the coef_ did not converge\n",
      "  \"the coef_ did not converge\", ConvergenceWarning)\n",
      "/anaconda3/lib/python3.6/site-packages/sklearn/linear_model/sag.py:326: ConvergenceWarning: The max_iter was reached which means the coef_ did not converge\n",
      "  \"the coef_ did not converge\", ConvergenceWarning)\n",
      "/anaconda3/lib/python3.6/site-packages/sklearn/model_selection/_validation.py:479: FitFailedWarning: Classifier fit failed. The score on this train-test partition for these parameters will be set to 0.000000. Details: \n",
      "ValueError('Solver newton-cg supports only l2 penalties, got l1 penalty.',)\n",
      "  \"Details: \\n%r\" % (error_score, e), FitFailedWarning)\n",
      "/anaconda3/lib/python3.6/site-packages/sklearn/model_selection/_validation.py:479: FitFailedWarning: Classifier fit failed. The score on this train-test partition for these parameters will be set to 0.000000. Details: \n",
      "ValueError('Solver newton-cg supports only l2 penalties, got l1 penalty.',)\n",
      "  \"Details: \\n%r\" % (error_score, e), FitFailedWarning)\n",
      "/anaconda3/lib/python3.6/site-packages/sklearn/model_selection/_validation.py:479: FitFailedWarning: Classifier fit failed. The score on this train-test partition for these parameters will be set to 0.000000. Details: \n",
      "ValueError('Solver newton-cg supports only l2 penalties, got l1 penalty.',)\n",
      "  \"Details: \\n%r\" % (error_score, e), FitFailedWarning)\n",
      "/anaconda3/lib/python3.6/site-packages/sklearn/model_selection/_validation.py:479: FitFailedWarning: Classifier fit failed. The score on this train-test partition for these parameters will be set to 0.000000. Details: \n",
      "ValueError('Solver lbfgs supports only l2 penalties, got l1 penalty.',)\n",
      "  \"Details: \\n%r\" % (error_score, e), FitFailedWarning)\n",
      "/anaconda3/lib/python3.6/site-packages/sklearn/model_selection/_validation.py:479: FitFailedWarning: Classifier fit failed. The score on this train-test partition for these parameters will be set to 0.000000. Details: \n",
      "ValueError('Solver lbfgs supports only l2 penalties, got l1 penalty.',)\n",
      "  \"Details: \\n%r\" % (error_score, e), FitFailedWarning)\n",
      "/anaconda3/lib/python3.6/site-packages/sklearn/model_selection/_validation.py:479: FitFailedWarning: Classifier fit failed. The score on this train-test partition for these parameters will be set to 0.000000. Details: \n",
      "ValueError('Solver lbfgs supports only l2 penalties, got l1 penalty.',)\n",
      "  \"Details: \\n%r\" % (error_score, e), FitFailedWarning)\n"
     ]
    },
    {
     "name": "stderr",
     "output_type": "stream",
     "text": [
      "/anaconda3/lib/python3.6/site-packages/sklearn/model_selection/_validation.py:479: FitFailedWarning: Classifier fit failed. The score on this train-test partition for these parameters will be set to 0.000000. Details: \n",
      "ValueError('Solver sag supports only l2 penalties, got l1 penalty.',)\n",
      "  \"Details: \\n%r\" % (error_score, e), FitFailedWarning)\n",
      "/anaconda3/lib/python3.6/site-packages/sklearn/model_selection/_validation.py:479: FitFailedWarning: Classifier fit failed. The score on this train-test partition for these parameters will be set to 0.000000. Details: \n",
      "ValueError('Solver sag supports only l2 penalties, got l1 penalty.',)\n",
      "  \"Details: \\n%r\" % (error_score, e), FitFailedWarning)\n",
      "/anaconda3/lib/python3.6/site-packages/sklearn/model_selection/_validation.py:479: FitFailedWarning: Classifier fit failed. The score on this train-test partition for these parameters will be set to 0.000000. Details: \n",
      "ValueError('Solver sag supports only l2 penalties, got l1 penalty.',)\n",
      "  \"Details: \\n%r\" % (error_score, e), FitFailedWarning)\n",
      "/anaconda3/lib/python3.6/site-packages/sklearn/linear_model/sag.py:326: ConvergenceWarning: The max_iter was reached which means the coef_ did not converge\n",
      "  \"the coef_ did not converge\", ConvergenceWarning)\n",
      "/anaconda3/lib/python3.6/site-packages/sklearn/linear_model/sag.py:326: ConvergenceWarning: The max_iter was reached which means the coef_ did not converge\n",
      "  \"the coef_ did not converge\", ConvergenceWarning)\n",
      "/anaconda3/lib/python3.6/site-packages/sklearn/linear_model/sag.py:326: ConvergenceWarning: The max_iter was reached which means the coef_ did not converge\n",
      "  \"the coef_ did not converge\", ConvergenceWarning)\n",
      "/anaconda3/lib/python3.6/site-packages/sklearn/linear_model/sag.py:326: ConvergenceWarning: The max_iter was reached which means the coef_ did not converge\n",
      "  \"the coef_ did not converge\", ConvergenceWarning)\n",
      "/anaconda3/lib/python3.6/site-packages/sklearn/linear_model/sag.py:326: ConvergenceWarning: The max_iter was reached which means the coef_ did not converge\n",
      "  \"the coef_ did not converge\", ConvergenceWarning)\n",
      "/anaconda3/lib/python3.6/site-packages/sklearn/linear_model/sag.py:326: ConvergenceWarning: The max_iter was reached which means the coef_ did not converge\n",
      "  \"the coef_ did not converge\", ConvergenceWarning)\n",
      "/anaconda3/lib/python3.6/site-packages/sklearn/linear_model/sag.py:326: ConvergenceWarning: The max_iter was reached which means the coef_ did not converge\n",
      "  \"the coef_ did not converge\", ConvergenceWarning)\n",
      "/anaconda3/lib/python3.6/site-packages/sklearn/linear_model/sag.py:326: ConvergenceWarning: The max_iter was reached which means the coef_ did not converge\n",
      "  \"the coef_ did not converge\", ConvergenceWarning)\n",
      "/anaconda3/lib/python3.6/site-packages/sklearn/linear_model/sag.py:326: ConvergenceWarning: The max_iter was reached which means the coef_ did not converge\n",
      "  \"the coef_ did not converge\", ConvergenceWarning)\n",
      "/anaconda3/lib/python3.6/site-packages/sklearn/model_selection/_validation.py:479: FitFailedWarning: Classifier fit failed. The score on this train-test partition for these parameters will be set to 0.000000. Details: \n",
      "ValueError('Solver newton-cg supports only l2 penalties, got l1 penalty.',)\n",
      "  \"Details: \\n%r\" % (error_score, e), FitFailedWarning)\n",
      "/anaconda3/lib/python3.6/site-packages/sklearn/model_selection/_validation.py:479: FitFailedWarning: Classifier fit failed. The score on this train-test partition for these parameters will be set to 0.000000. Details: \n",
      "ValueError('Solver newton-cg supports only l2 penalties, got l1 penalty.',)\n",
      "  \"Details: \\n%r\" % (error_score, e), FitFailedWarning)\n",
      "/anaconda3/lib/python3.6/site-packages/sklearn/model_selection/_validation.py:479: FitFailedWarning: Classifier fit failed. The score on this train-test partition for these parameters will be set to 0.000000. Details: \n",
      "ValueError('Solver newton-cg supports only l2 penalties, got l1 penalty.',)\n",
      "  \"Details: \\n%r\" % (error_score, e), FitFailedWarning)\n",
      "/anaconda3/lib/python3.6/site-packages/sklearn/model_selection/_validation.py:479: FitFailedWarning: Classifier fit failed. The score on this train-test partition for these parameters will be set to 0.000000. Details: \n",
      "ValueError('Solver lbfgs supports only l2 penalties, got l1 penalty.',)\n",
      "  \"Details: \\n%r\" % (error_score, e), FitFailedWarning)\n",
      "/anaconda3/lib/python3.6/site-packages/sklearn/model_selection/_validation.py:479: FitFailedWarning: Classifier fit failed. The score on this train-test partition for these parameters will be set to 0.000000. Details: \n",
      "ValueError('Solver lbfgs supports only l2 penalties, got l1 penalty.',)\n",
      "  \"Details: \\n%r\" % (error_score, e), FitFailedWarning)\n",
      "/anaconda3/lib/python3.6/site-packages/sklearn/model_selection/_validation.py:479: FitFailedWarning: Classifier fit failed. The score on this train-test partition for these parameters will be set to 0.000000. Details: \n",
      "ValueError('Solver lbfgs supports only l2 penalties, got l1 penalty.',)\n",
      "  \"Details: \\n%r\" % (error_score, e), FitFailedWarning)\n",
      "/anaconda3/lib/python3.6/site-packages/sklearn/model_selection/_validation.py:479: FitFailedWarning: Classifier fit failed. The score on this train-test partition for these parameters will be set to 0.000000. Details: \n",
      "ValueError('Solver sag supports only l2 penalties, got l1 penalty.',)\n",
      "  \"Details: \\n%r\" % (error_score, e), FitFailedWarning)\n",
      "/anaconda3/lib/python3.6/site-packages/sklearn/model_selection/_validation.py:479: FitFailedWarning: Classifier fit failed. The score on this train-test partition for these parameters will be set to 0.000000. Details: \n",
      "ValueError('Solver sag supports only l2 penalties, got l1 penalty.',)\n",
      "  \"Details: \\n%r\" % (error_score, e), FitFailedWarning)\n",
      "/anaconda3/lib/python3.6/site-packages/sklearn/model_selection/_validation.py:479: FitFailedWarning: Classifier fit failed. The score on this train-test partition for these parameters will be set to 0.000000. Details: \n",
      "ValueError('Solver sag supports only l2 penalties, got l1 penalty.',)\n",
      "  \"Details: \\n%r\" % (error_score, e), FitFailedWarning)\n",
      "/anaconda3/lib/python3.6/site-packages/sklearn/linear_model/sag.py:326: ConvergenceWarning: The max_iter was reached which means the coef_ did not converge\n",
      "  \"the coef_ did not converge\", ConvergenceWarning)\n",
      "/anaconda3/lib/python3.6/site-packages/sklearn/linear_model/sag.py:326: ConvergenceWarning: The max_iter was reached which means the coef_ did not converge\n",
      "  \"the coef_ did not converge\", ConvergenceWarning)\n",
      "/anaconda3/lib/python3.6/site-packages/sklearn/linear_model/sag.py:326: ConvergenceWarning: The max_iter was reached which means the coef_ did not converge\n",
      "  \"the coef_ did not converge\", ConvergenceWarning)\n",
      "/anaconda3/lib/python3.6/site-packages/sklearn/linear_model/sag.py:326: ConvergenceWarning: The max_iter was reached which means the coef_ did not converge\n",
      "  \"the coef_ did not converge\", ConvergenceWarning)\n",
      "/anaconda3/lib/python3.6/site-packages/sklearn/linear_model/sag.py:326: ConvergenceWarning: The max_iter was reached which means the coef_ did not converge\n",
      "  \"the coef_ did not converge\", ConvergenceWarning)\n",
      "/anaconda3/lib/python3.6/site-packages/sklearn/linear_model/sag.py:326: ConvergenceWarning: The max_iter was reached which means the coef_ did not converge\n",
      "  \"the coef_ did not converge\", ConvergenceWarning)\n",
      "/anaconda3/lib/python3.6/site-packages/sklearn/linear_model/sag.py:326: ConvergenceWarning: The max_iter was reached which means the coef_ did not converge\n",
      "  \"the coef_ did not converge\", ConvergenceWarning)\n",
      "/anaconda3/lib/python3.6/site-packages/sklearn/linear_model/sag.py:326: ConvergenceWarning: The max_iter was reached which means the coef_ did not converge\n",
      "  \"the coef_ did not converge\", ConvergenceWarning)\n",
      "/anaconda3/lib/python3.6/site-packages/sklearn/linear_model/sag.py:326: ConvergenceWarning: The max_iter was reached which means the coef_ did not converge\n",
      "  \"the coef_ did not converge\", ConvergenceWarning)\n",
      "/anaconda3/lib/python3.6/site-packages/sklearn/model_selection/_validation.py:479: FitFailedWarning: Classifier fit failed. The score on this train-test partition for these parameters will be set to 0.000000. Details: \n",
      "ValueError('Solver newton-cg supports only l2 penalties, got l1 penalty.',)\n",
      "  \"Details: \\n%r\" % (error_score, e), FitFailedWarning)\n",
      "/anaconda3/lib/python3.6/site-packages/sklearn/model_selection/_validation.py:479: FitFailedWarning: Classifier fit failed. The score on this train-test partition for these parameters will be set to 0.000000. Details: \n",
      "ValueError('Solver newton-cg supports only l2 penalties, got l1 penalty.',)\n",
      "  \"Details: \\n%r\" % (error_score, e), FitFailedWarning)\n",
      "/anaconda3/lib/python3.6/site-packages/sklearn/model_selection/_validation.py:479: FitFailedWarning: Classifier fit failed. The score on this train-test partition for these parameters will be set to 0.000000. Details: \n",
      "ValueError('Solver newton-cg supports only l2 penalties, got l1 penalty.',)\n",
      "  \"Details: \\n%r\" % (error_score, e), FitFailedWarning)\n"
     ]
    },
    {
     "name": "stderr",
     "output_type": "stream",
     "text": [
      "/anaconda3/lib/python3.6/site-packages/sklearn/model_selection/_validation.py:479: FitFailedWarning: Classifier fit failed. The score on this train-test partition for these parameters will be set to 0.000000. Details: \n",
      "ValueError('Solver lbfgs supports only l2 penalties, got l1 penalty.',)\n",
      "  \"Details: \\n%r\" % (error_score, e), FitFailedWarning)\n",
      "/anaconda3/lib/python3.6/site-packages/sklearn/model_selection/_validation.py:479: FitFailedWarning: Classifier fit failed. The score on this train-test partition for these parameters will be set to 0.000000. Details: \n",
      "ValueError('Solver lbfgs supports only l2 penalties, got l1 penalty.',)\n",
      "  \"Details: \\n%r\" % (error_score, e), FitFailedWarning)\n",
      "/anaconda3/lib/python3.6/site-packages/sklearn/model_selection/_validation.py:479: FitFailedWarning: Classifier fit failed. The score on this train-test partition for these parameters will be set to 0.000000. Details: \n",
      "ValueError('Solver lbfgs supports only l2 penalties, got l1 penalty.',)\n",
      "  \"Details: \\n%r\" % (error_score, e), FitFailedWarning)\n",
      "/anaconda3/lib/python3.6/site-packages/sklearn/model_selection/_validation.py:479: FitFailedWarning: Classifier fit failed. The score on this train-test partition for these parameters will be set to 0.000000. Details: \n",
      "ValueError('Solver sag supports only l2 penalties, got l1 penalty.',)\n",
      "  \"Details: \\n%r\" % (error_score, e), FitFailedWarning)\n",
      "/anaconda3/lib/python3.6/site-packages/sklearn/model_selection/_validation.py:479: FitFailedWarning: Classifier fit failed. The score on this train-test partition for these parameters will be set to 0.000000. Details: \n",
      "ValueError('Solver sag supports only l2 penalties, got l1 penalty.',)\n",
      "  \"Details: \\n%r\" % (error_score, e), FitFailedWarning)\n",
      "/anaconda3/lib/python3.6/site-packages/sklearn/model_selection/_validation.py:479: FitFailedWarning: Classifier fit failed. The score on this train-test partition for these parameters will be set to 0.000000. Details: \n",
      "ValueError('Solver sag supports only l2 penalties, got l1 penalty.',)\n",
      "  \"Details: \\n%r\" % (error_score, e), FitFailedWarning)\n",
      "/anaconda3/lib/python3.6/site-packages/sklearn/linear_model/sag.py:326: ConvergenceWarning: The max_iter was reached which means the coef_ did not converge\n",
      "  \"the coef_ did not converge\", ConvergenceWarning)\n",
      "/anaconda3/lib/python3.6/site-packages/sklearn/linear_model/sag.py:326: ConvergenceWarning: The max_iter was reached which means the coef_ did not converge\n",
      "  \"the coef_ did not converge\", ConvergenceWarning)\n",
      "/anaconda3/lib/python3.6/site-packages/sklearn/linear_model/sag.py:326: ConvergenceWarning: The max_iter was reached which means the coef_ did not converge\n",
      "  \"the coef_ did not converge\", ConvergenceWarning)\n",
      "/anaconda3/lib/python3.6/site-packages/sklearn/linear_model/sag.py:326: ConvergenceWarning: The max_iter was reached which means the coef_ did not converge\n",
      "  \"the coef_ did not converge\", ConvergenceWarning)\n",
      "/anaconda3/lib/python3.6/site-packages/sklearn/linear_model/sag.py:326: ConvergenceWarning: The max_iter was reached which means the coef_ did not converge\n",
      "  \"the coef_ did not converge\", ConvergenceWarning)\n",
      "/anaconda3/lib/python3.6/site-packages/sklearn/linear_model/sag.py:326: ConvergenceWarning: The max_iter was reached which means the coef_ did not converge\n",
      "  \"the coef_ did not converge\", ConvergenceWarning)\n",
      "/anaconda3/lib/python3.6/site-packages/sklearn/linear_model/sag.py:326: ConvergenceWarning: The max_iter was reached which means the coef_ did not converge\n",
      "  \"the coef_ did not converge\", ConvergenceWarning)\n",
      "/anaconda3/lib/python3.6/site-packages/sklearn/linear_model/sag.py:326: ConvergenceWarning: The max_iter was reached which means the coef_ did not converge\n",
      "  \"the coef_ did not converge\", ConvergenceWarning)\n",
      "/anaconda3/lib/python3.6/site-packages/sklearn/linear_model/sag.py:326: ConvergenceWarning: The max_iter was reached which means the coef_ did not converge\n",
      "  \"the coef_ did not converge\", ConvergenceWarning)\n",
      "/anaconda3/lib/python3.6/site-packages/sklearn/model_selection/_validation.py:479: FitFailedWarning: Classifier fit failed. The score on this train-test partition for these parameters will be set to 0.000000. Details: \n",
      "ValueError('Solver newton-cg supports only l2 penalties, got l1 penalty.',)\n",
      "  \"Details: \\n%r\" % (error_score, e), FitFailedWarning)\n",
      "/anaconda3/lib/python3.6/site-packages/sklearn/model_selection/_validation.py:479: FitFailedWarning: Classifier fit failed. The score on this train-test partition for these parameters will be set to 0.000000. Details: \n",
      "ValueError('Solver newton-cg supports only l2 penalties, got l1 penalty.',)\n",
      "  \"Details: \\n%r\" % (error_score, e), FitFailedWarning)\n",
      "/anaconda3/lib/python3.6/site-packages/sklearn/model_selection/_validation.py:479: FitFailedWarning: Classifier fit failed. The score on this train-test partition for these parameters will be set to 0.000000. Details: \n",
      "ValueError('Solver newton-cg supports only l2 penalties, got l1 penalty.',)\n",
      "  \"Details: \\n%r\" % (error_score, e), FitFailedWarning)\n",
      "/anaconda3/lib/python3.6/site-packages/sklearn/model_selection/_validation.py:479: FitFailedWarning: Classifier fit failed. The score on this train-test partition for these parameters will be set to 0.000000. Details: \n",
      "ValueError('Solver lbfgs supports only l2 penalties, got l1 penalty.',)\n",
      "  \"Details: \\n%r\" % (error_score, e), FitFailedWarning)\n",
      "/anaconda3/lib/python3.6/site-packages/sklearn/model_selection/_validation.py:479: FitFailedWarning: Classifier fit failed. The score on this train-test partition for these parameters will be set to 0.000000. Details: \n",
      "ValueError('Solver lbfgs supports only l2 penalties, got l1 penalty.',)\n",
      "  \"Details: \\n%r\" % (error_score, e), FitFailedWarning)\n",
      "/anaconda3/lib/python3.6/site-packages/sklearn/model_selection/_validation.py:479: FitFailedWarning: Classifier fit failed. The score on this train-test partition for these parameters will be set to 0.000000. Details: \n",
      "ValueError('Solver lbfgs supports only l2 penalties, got l1 penalty.',)\n",
      "  \"Details: \\n%r\" % (error_score, e), FitFailedWarning)\n",
      "/anaconda3/lib/python3.6/site-packages/sklearn/model_selection/_validation.py:479: FitFailedWarning: Classifier fit failed. The score on this train-test partition for these parameters will be set to 0.000000. Details: \n",
      "ValueError('Solver sag supports only l2 penalties, got l1 penalty.',)\n",
      "  \"Details: \\n%r\" % (error_score, e), FitFailedWarning)\n",
      "/anaconda3/lib/python3.6/site-packages/sklearn/model_selection/_validation.py:479: FitFailedWarning: Classifier fit failed. The score on this train-test partition for these parameters will be set to 0.000000. Details: \n",
      "ValueError('Solver sag supports only l2 penalties, got l1 penalty.',)\n",
      "  \"Details: \\n%r\" % (error_score, e), FitFailedWarning)\n",
      "/anaconda3/lib/python3.6/site-packages/sklearn/model_selection/_validation.py:479: FitFailedWarning: Classifier fit failed. The score on this train-test partition for these parameters will be set to 0.000000. Details: \n",
      "ValueError('Solver sag supports only l2 penalties, got l1 penalty.',)\n",
      "  \"Details: \\n%r\" % (error_score, e), FitFailedWarning)\n",
      "/anaconda3/lib/python3.6/site-packages/sklearn/linear_model/sag.py:326: ConvergenceWarning: The max_iter was reached which means the coef_ did not converge\n",
      "  \"the coef_ did not converge\", ConvergenceWarning)\n",
      "/anaconda3/lib/python3.6/site-packages/sklearn/linear_model/sag.py:326: ConvergenceWarning: The max_iter was reached which means the coef_ did not converge\n",
      "  \"the coef_ did not converge\", ConvergenceWarning)\n",
      "/anaconda3/lib/python3.6/site-packages/sklearn/linear_model/sag.py:326: ConvergenceWarning: The max_iter was reached which means the coef_ did not converge\n",
      "  \"the coef_ did not converge\", ConvergenceWarning)\n",
      "/anaconda3/lib/python3.6/site-packages/sklearn/linear_model/sag.py:326: ConvergenceWarning: The max_iter was reached which means the coef_ did not converge\n",
      "  \"the coef_ did not converge\", ConvergenceWarning)\n",
      "/anaconda3/lib/python3.6/site-packages/sklearn/linear_model/sag.py:326: ConvergenceWarning: The max_iter was reached which means the coef_ did not converge\n",
      "  \"the coef_ did not converge\", ConvergenceWarning)\n",
      "/anaconda3/lib/python3.6/site-packages/sklearn/linear_model/sag.py:326: ConvergenceWarning: The max_iter was reached which means the coef_ did not converge\n",
      "  \"the coef_ did not converge\", ConvergenceWarning)\n"
     ]
    },
    {
     "name": "stderr",
     "output_type": "stream",
     "text": [
      "/anaconda3/lib/python3.6/site-packages/sklearn/linear_model/sag.py:326: ConvergenceWarning: The max_iter was reached which means the coef_ did not converge\n",
      "  \"the coef_ did not converge\", ConvergenceWarning)\n",
      "/anaconda3/lib/python3.6/site-packages/sklearn/linear_model/sag.py:326: ConvergenceWarning: The max_iter was reached which means the coef_ did not converge\n",
      "  \"the coef_ did not converge\", ConvergenceWarning)\n",
      "/anaconda3/lib/python3.6/site-packages/sklearn/linear_model/sag.py:326: ConvergenceWarning: The max_iter was reached which means the coef_ did not converge\n",
      "  \"the coef_ did not converge\", ConvergenceWarning)\n",
      "/anaconda3/lib/python3.6/site-packages/sklearn/model_selection/_validation.py:479: FitFailedWarning: Classifier fit failed. The score on this train-test partition for these parameters will be set to 0.000000. Details: \n",
      "ValueError('Solver newton-cg supports only l2 penalties, got l1 penalty.',)\n",
      "  \"Details: \\n%r\" % (error_score, e), FitFailedWarning)\n",
      "/anaconda3/lib/python3.6/site-packages/sklearn/model_selection/_validation.py:479: FitFailedWarning: Classifier fit failed. The score on this train-test partition for these parameters will be set to 0.000000. Details: \n",
      "ValueError('Solver newton-cg supports only l2 penalties, got l1 penalty.',)\n",
      "  \"Details: \\n%r\" % (error_score, e), FitFailedWarning)\n",
      "/anaconda3/lib/python3.6/site-packages/sklearn/model_selection/_validation.py:479: FitFailedWarning: Classifier fit failed. The score on this train-test partition for these parameters will be set to 0.000000. Details: \n",
      "ValueError('Solver newton-cg supports only l2 penalties, got l1 penalty.',)\n",
      "  \"Details: \\n%r\" % (error_score, e), FitFailedWarning)\n",
      "/anaconda3/lib/python3.6/site-packages/sklearn/model_selection/_validation.py:479: FitFailedWarning: Classifier fit failed. The score on this train-test partition for these parameters will be set to 0.000000. Details: \n",
      "ValueError('Solver lbfgs supports only l2 penalties, got l1 penalty.',)\n",
      "  \"Details: \\n%r\" % (error_score, e), FitFailedWarning)\n",
      "/anaconda3/lib/python3.6/site-packages/sklearn/model_selection/_validation.py:479: FitFailedWarning: Classifier fit failed. The score on this train-test partition for these parameters will be set to 0.000000. Details: \n",
      "ValueError('Solver lbfgs supports only l2 penalties, got l1 penalty.',)\n",
      "  \"Details: \\n%r\" % (error_score, e), FitFailedWarning)\n",
      "/anaconda3/lib/python3.6/site-packages/sklearn/model_selection/_validation.py:479: FitFailedWarning: Classifier fit failed. The score on this train-test partition for these parameters will be set to 0.000000. Details: \n",
      "ValueError('Solver lbfgs supports only l2 penalties, got l1 penalty.',)\n",
      "  \"Details: \\n%r\" % (error_score, e), FitFailedWarning)\n",
      "/anaconda3/lib/python3.6/site-packages/sklearn/model_selection/_validation.py:479: FitFailedWarning: Classifier fit failed. The score on this train-test partition for these parameters will be set to 0.000000. Details: \n",
      "ValueError('Solver sag supports only l2 penalties, got l1 penalty.',)\n",
      "  \"Details: \\n%r\" % (error_score, e), FitFailedWarning)\n",
      "/anaconda3/lib/python3.6/site-packages/sklearn/model_selection/_validation.py:479: FitFailedWarning: Classifier fit failed. The score on this train-test partition for these parameters will be set to 0.000000. Details: \n",
      "ValueError('Solver sag supports only l2 penalties, got l1 penalty.',)\n",
      "  \"Details: \\n%r\" % (error_score, e), FitFailedWarning)\n",
      "/anaconda3/lib/python3.6/site-packages/sklearn/model_selection/_validation.py:479: FitFailedWarning: Classifier fit failed. The score on this train-test partition for these parameters will be set to 0.000000. Details: \n",
      "ValueError('Solver sag supports only l2 penalties, got l1 penalty.',)\n",
      "  \"Details: \\n%r\" % (error_score, e), FitFailedWarning)\n",
      "/anaconda3/lib/python3.6/site-packages/sklearn/linear_model/sag.py:326: ConvergenceWarning: The max_iter was reached which means the coef_ did not converge\n",
      "  \"the coef_ did not converge\", ConvergenceWarning)\n",
      "/anaconda3/lib/python3.6/site-packages/sklearn/linear_model/sag.py:326: ConvergenceWarning: The max_iter was reached which means the coef_ did not converge\n",
      "  \"the coef_ did not converge\", ConvergenceWarning)\n",
      "/anaconda3/lib/python3.6/site-packages/sklearn/linear_model/sag.py:326: ConvergenceWarning: The max_iter was reached which means the coef_ did not converge\n",
      "  \"the coef_ did not converge\", ConvergenceWarning)\n",
      "/anaconda3/lib/python3.6/site-packages/sklearn/linear_model/sag.py:326: ConvergenceWarning: The max_iter was reached which means the coef_ did not converge\n",
      "  \"the coef_ did not converge\", ConvergenceWarning)\n",
      "/anaconda3/lib/python3.6/site-packages/sklearn/linear_model/sag.py:326: ConvergenceWarning: The max_iter was reached which means the coef_ did not converge\n",
      "  \"the coef_ did not converge\", ConvergenceWarning)\n",
      "/anaconda3/lib/python3.6/site-packages/sklearn/linear_model/sag.py:326: ConvergenceWarning: The max_iter was reached which means the coef_ did not converge\n",
      "  \"the coef_ did not converge\", ConvergenceWarning)\n",
      "/anaconda3/lib/python3.6/site-packages/sklearn/linear_model/sag.py:326: ConvergenceWarning: The max_iter was reached which means the coef_ did not converge\n",
      "  \"the coef_ did not converge\", ConvergenceWarning)\n",
      "/anaconda3/lib/python3.6/site-packages/sklearn/linear_model/sag.py:326: ConvergenceWarning: The max_iter was reached which means the coef_ did not converge\n",
      "  \"the coef_ did not converge\", ConvergenceWarning)\n",
      "/anaconda3/lib/python3.6/site-packages/sklearn/linear_model/sag.py:326: ConvergenceWarning: The max_iter was reached which means the coef_ did not converge\n",
      "  \"the coef_ did not converge\", ConvergenceWarning)\n",
      "/anaconda3/lib/python3.6/site-packages/sklearn/model_selection/_validation.py:479: FitFailedWarning: Classifier fit failed. The score on this train-test partition for these parameters will be set to 0.000000. Details: \n",
      "ValueError('Solver newton-cg supports only l2 penalties, got l1 penalty.',)\n",
      "  \"Details: \\n%r\" % (error_score, e), FitFailedWarning)\n",
      "/anaconda3/lib/python3.6/site-packages/sklearn/model_selection/_validation.py:479: FitFailedWarning: Classifier fit failed. The score on this train-test partition for these parameters will be set to 0.000000. Details: \n",
      "ValueError('Solver newton-cg supports only l2 penalties, got l1 penalty.',)\n",
      "  \"Details: \\n%r\" % (error_score, e), FitFailedWarning)\n",
      "/anaconda3/lib/python3.6/site-packages/sklearn/model_selection/_validation.py:479: FitFailedWarning: Classifier fit failed. The score on this train-test partition for these parameters will be set to 0.000000. Details: \n",
      "ValueError('Solver newton-cg supports only l2 penalties, got l1 penalty.',)\n",
      "  \"Details: \\n%r\" % (error_score, e), FitFailedWarning)\n",
      "/anaconda3/lib/python3.6/site-packages/sklearn/model_selection/_validation.py:479: FitFailedWarning: Classifier fit failed. The score on this train-test partition for these parameters will be set to 0.000000. Details: \n",
      "ValueError('Solver lbfgs supports only l2 penalties, got l1 penalty.',)\n",
      "  \"Details: \\n%r\" % (error_score, e), FitFailedWarning)\n",
      "/anaconda3/lib/python3.6/site-packages/sklearn/model_selection/_validation.py:479: FitFailedWarning: Classifier fit failed. The score on this train-test partition for these parameters will be set to 0.000000. Details: \n",
      "ValueError('Solver lbfgs supports only l2 penalties, got l1 penalty.',)\n",
      "  \"Details: \\n%r\" % (error_score, e), FitFailedWarning)\n",
      "/anaconda3/lib/python3.6/site-packages/sklearn/model_selection/_validation.py:479: FitFailedWarning: Classifier fit failed. The score on this train-test partition for these parameters will be set to 0.000000. Details: \n",
      "ValueError('Solver lbfgs supports only l2 penalties, got l1 penalty.',)\n",
      "  \"Details: \\n%r\" % (error_score, e), FitFailedWarning)\n",
      "/anaconda3/lib/python3.6/site-packages/sklearn/model_selection/_validation.py:479: FitFailedWarning: Classifier fit failed. The score on this train-test partition for these parameters will be set to 0.000000. Details: \n",
      "ValueError('Solver sag supports only l2 penalties, got l1 penalty.',)\n",
      "  \"Details: \\n%r\" % (error_score, e), FitFailedWarning)\n",
      "/anaconda3/lib/python3.6/site-packages/sklearn/model_selection/_validation.py:479: FitFailedWarning: Classifier fit failed. The score on this train-test partition for these parameters will be set to 0.000000. Details: \n",
      "ValueError('Solver sag supports only l2 penalties, got l1 penalty.',)\n",
      "  \"Details: \\n%r\" % (error_score, e), FitFailedWarning)\n",
      "/anaconda3/lib/python3.6/site-packages/sklearn/model_selection/_validation.py:479: FitFailedWarning: Classifier fit failed. The score on this train-test partition for these parameters will be set to 0.000000. Details: \n",
      "ValueError('Solver sag supports only l2 penalties, got l1 penalty.',)\n",
      "  \"Details: \\n%r\" % (error_score, e), FitFailedWarning)\n"
     ]
    },
    {
     "name": "stderr",
     "output_type": "stream",
     "text": [
      "/anaconda3/lib/python3.6/site-packages/sklearn/linear_model/sag.py:326: ConvergenceWarning: The max_iter was reached which means the coef_ did not converge\n",
      "  \"the coef_ did not converge\", ConvergenceWarning)\n",
      "/anaconda3/lib/python3.6/site-packages/sklearn/linear_model/sag.py:326: ConvergenceWarning: The max_iter was reached which means the coef_ did not converge\n",
      "  \"the coef_ did not converge\", ConvergenceWarning)\n",
      "/anaconda3/lib/python3.6/site-packages/sklearn/linear_model/sag.py:326: ConvergenceWarning: The max_iter was reached which means the coef_ did not converge\n",
      "  \"the coef_ did not converge\", ConvergenceWarning)\n",
      "/anaconda3/lib/python3.6/site-packages/sklearn/linear_model/sag.py:326: ConvergenceWarning: The max_iter was reached which means the coef_ did not converge\n",
      "  \"the coef_ did not converge\", ConvergenceWarning)\n",
      "/anaconda3/lib/python3.6/site-packages/sklearn/linear_model/sag.py:326: ConvergenceWarning: The max_iter was reached which means the coef_ did not converge\n",
      "  \"the coef_ did not converge\", ConvergenceWarning)\n",
      "/anaconda3/lib/python3.6/site-packages/sklearn/linear_model/sag.py:326: ConvergenceWarning: The max_iter was reached which means the coef_ did not converge\n",
      "  \"the coef_ did not converge\", ConvergenceWarning)\n",
      "/anaconda3/lib/python3.6/site-packages/sklearn/linear_model/sag.py:326: ConvergenceWarning: The max_iter was reached which means the coef_ did not converge\n",
      "  \"the coef_ did not converge\", ConvergenceWarning)\n",
      "/anaconda3/lib/python3.6/site-packages/sklearn/linear_model/sag.py:326: ConvergenceWarning: The max_iter was reached which means the coef_ did not converge\n",
      "  \"the coef_ did not converge\", ConvergenceWarning)\n",
      "/anaconda3/lib/python3.6/site-packages/sklearn/linear_model/sag.py:326: ConvergenceWarning: The max_iter was reached which means the coef_ did not converge\n",
      "  \"the coef_ did not converge\", ConvergenceWarning)\n",
      "/anaconda3/lib/python3.6/site-packages/sklearn/model_selection/_validation.py:479: FitFailedWarning: Classifier fit failed. The score on this train-test partition for these parameters will be set to 0.000000. Details: \n",
      "ValueError('Solver newton-cg supports only l2 penalties, got l1 penalty.',)\n",
      "  \"Details: \\n%r\" % (error_score, e), FitFailedWarning)\n",
      "/anaconda3/lib/python3.6/site-packages/sklearn/model_selection/_validation.py:479: FitFailedWarning: Classifier fit failed. The score on this train-test partition for these parameters will be set to 0.000000. Details: \n",
      "ValueError('Solver newton-cg supports only l2 penalties, got l1 penalty.',)\n",
      "  \"Details: \\n%r\" % (error_score, e), FitFailedWarning)\n",
      "/anaconda3/lib/python3.6/site-packages/sklearn/model_selection/_validation.py:479: FitFailedWarning: Classifier fit failed. The score on this train-test partition for these parameters will be set to 0.000000. Details: \n",
      "ValueError('Solver newton-cg supports only l2 penalties, got l1 penalty.',)\n",
      "  \"Details: \\n%r\" % (error_score, e), FitFailedWarning)\n",
      "/anaconda3/lib/python3.6/site-packages/sklearn/model_selection/_validation.py:479: FitFailedWarning: Classifier fit failed. The score on this train-test partition for these parameters will be set to 0.000000. Details: \n",
      "ValueError('Solver lbfgs supports only l2 penalties, got l1 penalty.',)\n",
      "  \"Details: \\n%r\" % (error_score, e), FitFailedWarning)\n",
      "/anaconda3/lib/python3.6/site-packages/sklearn/model_selection/_validation.py:479: FitFailedWarning: Classifier fit failed. The score on this train-test partition for these parameters will be set to 0.000000. Details: \n",
      "ValueError('Solver lbfgs supports only l2 penalties, got l1 penalty.',)\n",
      "  \"Details: \\n%r\" % (error_score, e), FitFailedWarning)\n",
      "/anaconda3/lib/python3.6/site-packages/sklearn/model_selection/_validation.py:479: FitFailedWarning: Classifier fit failed. The score on this train-test partition for these parameters will be set to 0.000000. Details: \n",
      "ValueError('Solver lbfgs supports only l2 penalties, got l1 penalty.',)\n",
      "  \"Details: \\n%r\" % (error_score, e), FitFailedWarning)\n",
      "/anaconda3/lib/python3.6/site-packages/sklearn/model_selection/_validation.py:479: FitFailedWarning: Classifier fit failed. The score on this train-test partition for these parameters will be set to 0.000000. Details: \n",
      "ValueError('Solver sag supports only l2 penalties, got l1 penalty.',)\n",
      "  \"Details: \\n%r\" % (error_score, e), FitFailedWarning)\n",
      "/anaconda3/lib/python3.6/site-packages/sklearn/model_selection/_validation.py:479: FitFailedWarning: Classifier fit failed. The score on this train-test partition for these parameters will be set to 0.000000. Details: \n",
      "ValueError('Solver sag supports only l2 penalties, got l1 penalty.',)\n",
      "  \"Details: \\n%r\" % (error_score, e), FitFailedWarning)\n",
      "/anaconda3/lib/python3.6/site-packages/sklearn/model_selection/_validation.py:479: FitFailedWarning: Classifier fit failed. The score on this train-test partition for these parameters will be set to 0.000000. Details: \n",
      "ValueError('Solver sag supports only l2 penalties, got l1 penalty.',)\n",
      "  \"Details: \\n%r\" % (error_score, e), FitFailedWarning)\n",
      "/anaconda3/lib/python3.6/site-packages/sklearn/linear_model/sag.py:326: ConvergenceWarning: The max_iter was reached which means the coef_ did not converge\n",
      "  \"the coef_ did not converge\", ConvergenceWarning)\n",
      "/anaconda3/lib/python3.6/site-packages/sklearn/linear_model/sag.py:326: ConvergenceWarning: The max_iter was reached which means the coef_ did not converge\n",
      "  \"the coef_ did not converge\", ConvergenceWarning)\n",
      "/anaconda3/lib/python3.6/site-packages/sklearn/linear_model/sag.py:326: ConvergenceWarning: The max_iter was reached which means the coef_ did not converge\n",
      "  \"the coef_ did not converge\", ConvergenceWarning)\n",
      "/anaconda3/lib/python3.6/site-packages/sklearn/linear_model/sag.py:326: ConvergenceWarning: The max_iter was reached which means the coef_ did not converge\n",
      "  \"the coef_ did not converge\", ConvergenceWarning)\n",
      "/anaconda3/lib/python3.6/site-packages/sklearn/linear_model/sag.py:326: ConvergenceWarning: The max_iter was reached which means the coef_ did not converge\n",
      "  \"the coef_ did not converge\", ConvergenceWarning)\n",
      "/anaconda3/lib/python3.6/site-packages/sklearn/linear_model/sag.py:326: ConvergenceWarning: The max_iter was reached which means the coef_ did not converge\n",
      "  \"the coef_ did not converge\", ConvergenceWarning)\n",
      "/anaconda3/lib/python3.6/site-packages/sklearn/linear_model/sag.py:326: ConvergenceWarning: The max_iter was reached which means the coef_ did not converge\n",
      "  \"the coef_ did not converge\", ConvergenceWarning)\n",
      "/anaconda3/lib/python3.6/site-packages/sklearn/linear_model/sag.py:326: ConvergenceWarning: The max_iter was reached which means the coef_ did not converge\n",
      "  \"the coef_ did not converge\", ConvergenceWarning)\n",
      "/anaconda3/lib/python3.6/site-packages/sklearn/linear_model/sag.py:326: ConvergenceWarning: The max_iter was reached which means the coef_ did not converge\n",
      "  \"the coef_ did not converge\", ConvergenceWarning)\n",
      "/anaconda3/lib/python3.6/site-packages/sklearn/model_selection/_validation.py:479: FitFailedWarning: Classifier fit failed. The score on this train-test partition for these parameters will be set to 0.000000. Details: \n",
      "ValueError('Solver newton-cg supports only l2 penalties, got l1 penalty.',)\n",
      "  \"Details: \\n%r\" % (error_score, e), FitFailedWarning)\n",
      "/anaconda3/lib/python3.6/site-packages/sklearn/model_selection/_validation.py:479: FitFailedWarning: Classifier fit failed. The score on this train-test partition for these parameters will be set to 0.000000. Details: \n",
      "ValueError('Solver newton-cg supports only l2 penalties, got l1 penalty.',)\n",
      "  \"Details: \\n%r\" % (error_score, e), FitFailedWarning)\n",
      "/anaconda3/lib/python3.6/site-packages/sklearn/model_selection/_validation.py:479: FitFailedWarning: Classifier fit failed. The score on this train-test partition for these parameters will be set to 0.000000. Details: \n",
      "ValueError('Solver newton-cg supports only l2 penalties, got l1 penalty.',)\n",
      "  \"Details: \\n%r\" % (error_score, e), FitFailedWarning)\n",
      "/anaconda3/lib/python3.6/site-packages/sklearn/model_selection/_validation.py:479: FitFailedWarning: Classifier fit failed. The score on this train-test partition for these parameters will be set to 0.000000. Details: \n",
      "ValueError('Solver lbfgs supports only l2 penalties, got l1 penalty.',)\n",
      "  \"Details: \\n%r\" % (error_score, e), FitFailedWarning)\n",
      "/anaconda3/lib/python3.6/site-packages/sklearn/model_selection/_validation.py:479: FitFailedWarning: Classifier fit failed. The score on this train-test partition for these parameters will be set to 0.000000. Details: \n",
      "ValueError('Solver lbfgs supports only l2 penalties, got l1 penalty.',)\n",
      "  \"Details: \\n%r\" % (error_score, e), FitFailedWarning)\n",
      "/anaconda3/lib/python3.6/site-packages/sklearn/model_selection/_validation.py:479: FitFailedWarning: Classifier fit failed. The score on this train-test partition for these parameters will be set to 0.000000. Details: \n",
      "ValueError('Solver lbfgs supports only l2 penalties, got l1 penalty.',)\n",
      "  \"Details: \\n%r\" % (error_score, e), FitFailedWarning)\n"
     ]
    },
    {
     "name": "stderr",
     "output_type": "stream",
     "text": [
      "/anaconda3/lib/python3.6/site-packages/sklearn/model_selection/_validation.py:479: FitFailedWarning: Classifier fit failed. The score on this train-test partition for these parameters will be set to 0.000000. Details: \n",
      "ValueError('Solver sag supports only l2 penalties, got l1 penalty.',)\n",
      "  \"Details: \\n%r\" % (error_score, e), FitFailedWarning)\n",
      "/anaconda3/lib/python3.6/site-packages/sklearn/model_selection/_validation.py:479: FitFailedWarning: Classifier fit failed. The score on this train-test partition for these parameters will be set to 0.000000. Details: \n",
      "ValueError('Solver sag supports only l2 penalties, got l1 penalty.',)\n",
      "  \"Details: \\n%r\" % (error_score, e), FitFailedWarning)\n",
      "/anaconda3/lib/python3.6/site-packages/sklearn/model_selection/_validation.py:479: FitFailedWarning: Classifier fit failed. The score on this train-test partition for these parameters will be set to 0.000000. Details: \n",
      "ValueError('Solver sag supports only l2 penalties, got l1 penalty.',)\n",
      "  \"Details: \\n%r\" % (error_score, e), FitFailedWarning)\n",
      "/anaconda3/lib/python3.6/site-packages/sklearn/linear_model/sag.py:326: ConvergenceWarning: The max_iter was reached which means the coef_ did not converge\n",
      "  \"the coef_ did not converge\", ConvergenceWarning)\n",
      "/anaconda3/lib/python3.6/site-packages/sklearn/linear_model/sag.py:326: ConvergenceWarning: The max_iter was reached which means the coef_ did not converge\n",
      "  \"the coef_ did not converge\", ConvergenceWarning)\n",
      "/anaconda3/lib/python3.6/site-packages/sklearn/linear_model/sag.py:326: ConvergenceWarning: The max_iter was reached which means the coef_ did not converge\n",
      "  \"the coef_ did not converge\", ConvergenceWarning)\n",
      "/anaconda3/lib/python3.6/site-packages/sklearn/linear_model/sag.py:326: ConvergenceWarning: The max_iter was reached which means the coef_ did not converge\n",
      "  \"the coef_ did not converge\", ConvergenceWarning)\n",
      "/anaconda3/lib/python3.6/site-packages/sklearn/linear_model/sag.py:326: ConvergenceWarning: The max_iter was reached which means the coef_ did not converge\n",
      "  \"the coef_ did not converge\", ConvergenceWarning)\n",
      "/anaconda3/lib/python3.6/site-packages/sklearn/linear_model/sag.py:326: ConvergenceWarning: The max_iter was reached which means the coef_ did not converge\n",
      "  \"the coef_ did not converge\", ConvergenceWarning)\n",
      "/anaconda3/lib/python3.6/site-packages/sklearn/linear_model/sag.py:326: ConvergenceWarning: The max_iter was reached which means the coef_ did not converge\n",
      "  \"the coef_ did not converge\", ConvergenceWarning)\n",
      "/anaconda3/lib/python3.6/site-packages/sklearn/linear_model/sag.py:326: ConvergenceWarning: The max_iter was reached which means the coef_ did not converge\n",
      "  \"the coef_ did not converge\", ConvergenceWarning)\n",
      "/anaconda3/lib/python3.6/site-packages/sklearn/linear_model/sag.py:326: ConvergenceWarning: The max_iter was reached which means the coef_ did not converge\n",
      "  \"the coef_ did not converge\", ConvergenceWarning)\n",
      "/anaconda3/lib/python3.6/site-packages/sklearn/model_selection/_validation.py:479: FitFailedWarning: Classifier fit failed. The score on this train-test partition for these parameters will be set to 0.000000. Details: \n",
      "ValueError('Solver newton-cg supports only l2 penalties, got l1 penalty.',)\n",
      "  \"Details: \\n%r\" % (error_score, e), FitFailedWarning)\n",
      "/anaconda3/lib/python3.6/site-packages/sklearn/model_selection/_validation.py:479: FitFailedWarning: Classifier fit failed. The score on this train-test partition for these parameters will be set to 0.000000. Details: \n",
      "ValueError('Solver newton-cg supports only l2 penalties, got l1 penalty.',)\n",
      "  \"Details: \\n%r\" % (error_score, e), FitFailedWarning)\n",
      "/anaconda3/lib/python3.6/site-packages/sklearn/model_selection/_validation.py:479: FitFailedWarning: Classifier fit failed. The score on this train-test partition for these parameters will be set to 0.000000. Details: \n",
      "ValueError('Solver newton-cg supports only l2 penalties, got l1 penalty.',)\n",
      "  \"Details: \\n%r\" % (error_score, e), FitFailedWarning)\n",
      "/anaconda3/lib/python3.6/site-packages/sklearn/model_selection/_validation.py:479: FitFailedWarning: Classifier fit failed. The score on this train-test partition for these parameters will be set to 0.000000. Details: \n",
      "ValueError('Solver lbfgs supports only l2 penalties, got l1 penalty.',)\n",
      "  \"Details: \\n%r\" % (error_score, e), FitFailedWarning)\n",
      "/anaconda3/lib/python3.6/site-packages/sklearn/model_selection/_validation.py:479: FitFailedWarning: Classifier fit failed. The score on this train-test partition for these parameters will be set to 0.000000. Details: \n",
      "ValueError('Solver lbfgs supports only l2 penalties, got l1 penalty.',)\n",
      "  \"Details: \\n%r\" % (error_score, e), FitFailedWarning)\n",
      "/anaconda3/lib/python3.6/site-packages/sklearn/model_selection/_validation.py:479: FitFailedWarning: Classifier fit failed. The score on this train-test partition for these parameters will be set to 0.000000. Details: \n",
      "ValueError('Solver lbfgs supports only l2 penalties, got l1 penalty.',)\n",
      "  \"Details: \\n%r\" % (error_score, e), FitFailedWarning)\n",
      "/anaconda3/lib/python3.6/site-packages/sklearn/model_selection/_validation.py:479: FitFailedWarning: Classifier fit failed. The score on this train-test partition for these parameters will be set to 0.000000. Details: \n",
      "ValueError('Solver sag supports only l2 penalties, got l1 penalty.',)\n",
      "  \"Details: \\n%r\" % (error_score, e), FitFailedWarning)\n",
      "/anaconda3/lib/python3.6/site-packages/sklearn/model_selection/_validation.py:479: FitFailedWarning: Classifier fit failed. The score on this train-test partition for these parameters will be set to 0.000000. Details: \n",
      "ValueError('Solver sag supports only l2 penalties, got l1 penalty.',)\n",
      "  \"Details: \\n%r\" % (error_score, e), FitFailedWarning)\n",
      "/anaconda3/lib/python3.6/site-packages/sklearn/model_selection/_validation.py:479: FitFailedWarning: Classifier fit failed. The score on this train-test partition for these parameters will be set to 0.000000. Details: \n",
      "ValueError('Solver sag supports only l2 penalties, got l1 penalty.',)\n",
      "  \"Details: \\n%r\" % (error_score, e), FitFailedWarning)\n",
      "/anaconda3/lib/python3.6/site-packages/sklearn/linear_model/sag.py:326: ConvergenceWarning: The max_iter was reached which means the coef_ did not converge\n",
      "  \"the coef_ did not converge\", ConvergenceWarning)\n",
      "/anaconda3/lib/python3.6/site-packages/sklearn/linear_model/sag.py:326: ConvergenceWarning: The max_iter was reached which means the coef_ did not converge\n",
      "  \"the coef_ did not converge\", ConvergenceWarning)\n",
      "/anaconda3/lib/python3.6/site-packages/sklearn/linear_model/sag.py:326: ConvergenceWarning: The max_iter was reached which means the coef_ did not converge\n",
      "  \"the coef_ did not converge\", ConvergenceWarning)\n",
      "/anaconda3/lib/python3.6/site-packages/sklearn/linear_model/sag.py:326: ConvergenceWarning: The max_iter was reached which means the coef_ did not converge\n",
      "  \"the coef_ did not converge\", ConvergenceWarning)\n",
      "/anaconda3/lib/python3.6/site-packages/sklearn/linear_model/sag.py:326: ConvergenceWarning: The max_iter was reached which means the coef_ did not converge\n",
      "  \"the coef_ did not converge\", ConvergenceWarning)\n",
      "/anaconda3/lib/python3.6/site-packages/sklearn/linear_model/sag.py:326: ConvergenceWarning: The max_iter was reached which means the coef_ did not converge\n",
      "  \"the coef_ did not converge\", ConvergenceWarning)\n",
      "/anaconda3/lib/python3.6/site-packages/sklearn/linear_model/sag.py:326: ConvergenceWarning: The max_iter was reached which means the coef_ did not converge\n",
      "  \"the coef_ did not converge\", ConvergenceWarning)\n",
      "/anaconda3/lib/python3.6/site-packages/sklearn/linear_model/sag.py:326: ConvergenceWarning: The max_iter was reached which means the coef_ did not converge\n",
      "  \"the coef_ did not converge\", ConvergenceWarning)\n",
      "/anaconda3/lib/python3.6/site-packages/sklearn/linear_model/sag.py:326: ConvergenceWarning: The max_iter was reached which means the coef_ did not converge\n",
      "  \"the coef_ did not converge\", ConvergenceWarning)\n",
      "/anaconda3/lib/python3.6/site-packages/sklearn/model_selection/_validation.py:479: FitFailedWarning: Classifier fit failed. The score on this train-test partition for these parameters will be set to 0.000000. Details: \n",
      "ValueError('Solver newton-cg supports only l2 penalties, got l1 penalty.',)\n",
      "  \"Details: \\n%r\" % (error_score, e), FitFailedWarning)\n",
      "/anaconda3/lib/python3.6/site-packages/sklearn/model_selection/_validation.py:479: FitFailedWarning: Classifier fit failed. The score on this train-test partition for these parameters will be set to 0.000000. Details: \n",
      "ValueError('Solver newton-cg supports only l2 penalties, got l1 penalty.',)\n",
      "  \"Details: \\n%r\" % (error_score, e), FitFailedWarning)\n",
      "/anaconda3/lib/python3.6/site-packages/sklearn/model_selection/_validation.py:479: FitFailedWarning: Classifier fit failed. The score on this train-test partition for these parameters will be set to 0.000000. Details: \n",
      "ValueError('Solver newton-cg supports only l2 penalties, got l1 penalty.',)\n",
      "  \"Details: \\n%r\" % (error_score, e), FitFailedWarning)\n"
     ]
    },
    {
     "name": "stderr",
     "output_type": "stream",
     "text": [
      "/anaconda3/lib/python3.6/site-packages/sklearn/model_selection/_validation.py:479: FitFailedWarning: Classifier fit failed. The score on this train-test partition for these parameters will be set to 0.000000. Details: \n",
      "ValueError('Solver lbfgs supports only l2 penalties, got l1 penalty.',)\n",
      "  \"Details: \\n%r\" % (error_score, e), FitFailedWarning)\n",
      "/anaconda3/lib/python3.6/site-packages/sklearn/model_selection/_validation.py:479: FitFailedWarning: Classifier fit failed. The score on this train-test partition for these parameters will be set to 0.000000. Details: \n",
      "ValueError('Solver lbfgs supports only l2 penalties, got l1 penalty.',)\n",
      "  \"Details: \\n%r\" % (error_score, e), FitFailedWarning)\n",
      "/anaconda3/lib/python3.6/site-packages/sklearn/model_selection/_validation.py:479: FitFailedWarning: Classifier fit failed. The score on this train-test partition for these parameters will be set to 0.000000. Details: \n",
      "ValueError('Solver lbfgs supports only l2 penalties, got l1 penalty.',)\n",
      "  \"Details: \\n%r\" % (error_score, e), FitFailedWarning)\n",
      "/anaconda3/lib/python3.6/site-packages/sklearn/model_selection/_validation.py:479: FitFailedWarning: Classifier fit failed. The score on this train-test partition for these parameters will be set to 0.000000. Details: \n",
      "ValueError('Solver sag supports only l2 penalties, got l1 penalty.',)\n",
      "  \"Details: \\n%r\" % (error_score, e), FitFailedWarning)\n",
      "/anaconda3/lib/python3.6/site-packages/sklearn/model_selection/_validation.py:479: FitFailedWarning: Classifier fit failed. The score on this train-test partition for these parameters will be set to 0.000000. Details: \n",
      "ValueError('Solver sag supports only l2 penalties, got l1 penalty.',)\n",
      "  \"Details: \\n%r\" % (error_score, e), FitFailedWarning)\n",
      "/anaconda3/lib/python3.6/site-packages/sklearn/model_selection/_validation.py:479: FitFailedWarning: Classifier fit failed. The score on this train-test partition for these parameters will be set to 0.000000. Details: \n",
      "ValueError('Solver sag supports only l2 penalties, got l1 penalty.',)\n",
      "  \"Details: \\n%r\" % (error_score, e), FitFailedWarning)\n",
      "/anaconda3/lib/python3.6/site-packages/sklearn/linear_model/sag.py:326: ConvergenceWarning: The max_iter was reached which means the coef_ did not converge\n",
      "  \"the coef_ did not converge\", ConvergenceWarning)\n",
      "/anaconda3/lib/python3.6/site-packages/sklearn/linear_model/sag.py:326: ConvergenceWarning: The max_iter was reached which means the coef_ did not converge\n",
      "  \"the coef_ did not converge\", ConvergenceWarning)\n",
      "/anaconda3/lib/python3.6/site-packages/sklearn/linear_model/sag.py:326: ConvergenceWarning: The max_iter was reached which means the coef_ did not converge\n",
      "  \"the coef_ did not converge\", ConvergenceWarning)\n",
      "/anaconda3/lib/python3.6/site-packages/sklearn/linear_model/sag.py:326: ConvergenceWarning: The max_iter was reached which means the coef_ did not converge\n",
      "  \"the coef_ did not converge\", ConvergenceWarning)\n",
      "/anaconda3/lib/python3.6/site-packages/sklearn/linear_model/sag.py:326: ConvergenceWarning: The max_iter was reached which means the coef_ did not converge\n",
      "  \"the coef_ did not converge\", ConvergenceWarning)\n",
      "/anaconda3/lib/python3.6/site-packages/sklearn/linear_model/sag.py:326: ConvergenceWarning: The max_iter was reached which means the coef_ did not converge\n",
      "  \"the coef_ did not converge\", ConvergenceWarning)\n",
      "/anaconda3/lib/python3.6/site-packages/sklearn/linear_model/sag.py:326: ConvergenceWarning: The max_iter was reached which means the coef_ did not converge\n",
      "  \"the coef_ did not converge\", ConvergenceWarning)\n",
      "/anaconda3/lib/python3.6/site-packages/sklearn/linear_model/sag.py:326: ConvergenceWarning: The max_iter was reached which means the coef_ did not converge\n",
      "  \"the coef_ did not converge\", ConvergenceWarning)\n",
      "/anaconda3/lib/python3.6/site-packages/sklearn/linear_model/sag.py:326: ConvergenceWarning: The max_iter was reached which means the coef_ did not converge\n",
      "  \"the coef_ did not converge\", ConvergenceWarning)\n",
      "/anaconda3/lib/python3.6/site-packages/sklearn/model_selection/_validation.py:479: FitFailedWarning: Classifier fit failed. The score on this train-test partition for these parameters will be set to 0.000000. Details: \n",
      "ValueError('Solver newton-cg supports only l2 penalties, got l1 penalty.',)\n",
      "  \"Details: \\n%r\" % (error_score, e), FitFailedWarning)\n",
      "/anaconda3/lib/python3.6/site-packages/sklearn/model_selection/_validation.py:479: FitFailedWarning: Classifier fit failed. The score on this train-test partition for these parameters will be set to 0.000000. Details: \n",
      "ValueError('Solver newton-cg supports only l2 penalties, got l1 penalty.',)\n",
      "  \"Details: \\n%r\" % (error_score, e), FitFailedWarning)\n",
      "/anaconda3/lib/python3.6/site-packages/sklearn/model_selection/_validation.py:479: FitFailedWarning: Classifier fit failed. The score on this train-test partition for these parameters will be set to 0.000000. Details: \n",
      "ValueError('Solver newton-cg supports only l2 penalties, got l1 penalty.',)\n",
      "  \"Details: \\n%r\" % (error_score, e), FitFailedWarning)\n",
      "/anaconda3/lib/python3.6/site-packages/sklearn/model_selection/_validation.py:479: FitFailedWarning: Classifier fit failed. The score on this train-test partition for these parameters will be set to 0.000000. Details: \n",
      "ValueError('Solver lbfgs supports only l2 penalties, got l1 penalty.',)\n",
      "  \"Details: \\n%r\" % (error_score, e), FitFailedWarning)\n",
      "/anaconda3/lib/python3.6/site-packages/sklearn/model_selection/_validation.py:479: FitFailedWarning: Classifier fit failed. The score on this train-test partition for these parameters will be set to 0.000000. Details: \n",
      "ValueError('Solver lbfgs supports only l2 penalties, got l1 penalty.',)\n",
      "  \"Details: \\n%r\" % (error_score, e), FitFailedWarning)\n",
      "/anaconda3/lib/python3.6/site-packages/sklearn/model_selection/_validation.py:479: FitFailedWarning: Classifier fit failed. The score on this train-test partition for these parameters will be set to 0.000000. Details: \n",
      "ValueError('Solver lbfgs supports only l2 penalties, got l1 penalty.',)\n",
      "  \"Details: \\n%r\" % (error_score, e), FitFailedWarning)\n",
      "/anaconda3/lib/python3.6/site-packages/sklearn/model_selection/_validation.py:479: FitFailedWarning: Classifier fit failed. The score on this train-test partition for these parameters will be set to 0.000000. Details: \n",
      "ValueError('Solver sag supports only l2 penalties, got l1 penalty.',)\n",
      "  \"Details: \\n%r\" % (error_score, e), FitFailedWarning)\n",
      "/anaconda3/lib/python3.6/site-packages/sklearn/model_selection/_validation.py:479: FitFailedWarning: Classifier fit failed. The score on this train-test partition for these parameters will be set to 0.000000. Details: \n",
      "ValueError('Solver sag supports only l2 penalties, got l1 penalty.',)\n",
      "  \"Details: \\n%r\" % (error_score, e), FitFailedWarning)\n",
      "/anaconda3/lib/python3.6/site-packages/sklearn/model_selection/_validation.py:479: FitFailedWarning: Classifier fit failed. The score on this train-test partition for these parameters will be set to 0.000000. Details: \n",
      "ValueError('Solver sag supports only l2 penalties, got l1 penalty.',)\n",
      "  \"Details: \\n%r\" % (error_score, e), FitFailedWarning)\n",
      "/anaconda3/lib/python3.6/site-packages/sklearn/linear_model/sag.py:326: ConvergenceWarning: The max_iter was reached which means the coef_ did not converge\n",
      "  \"the coef_ did not converge\", ConvergenceWarning)\n",
      "/anaconda3/lib/python3.6/site-packages/sklearn/linear_model/sag.py:326: ConvergenceWarning: The max_iter was reached which means the coef_ did not converge\n",
      "  \"the coef_ did not converge\", ConvergenceWarning)\n",
      "/anaconda3/lib/python3.6/site-packages/sklearn/linear_model/sag.py:326: ConvergenceWarning: The max_iter was reached which means the coef_ did not converge\n",
      "  \"the coef_ did not converge\", ConvergenceWarning)\n",
      "/anaconda3/lib/python3.6/site-packages/sklearn/linear_model/sag.py:326: ConvergenceWarning: The max_iter was reached which means the coef_ did not converge\n",
      "  \"the coef_ did not converge\", ConvergenceWarning)\n",
      "/anaconda3/lib/python3.6/site-packages/sklearn/linear_model/sag.py:326: ConvergenceWarning: The max_iter was reached which means the coef_ did not converge\n",
      "  \"the coef_ did not converge\", ConvergenceWarning)\n",
      "/anaconda3/lib/python3.6/site-packages/sklearn/linear_model/sag.py:326: ConvergenceWarning: The max_iter was reached which means the coef_ did not converge\n",
      "  \"the coef_ did not converge\", ConvergenceWarning)\n"
     ]
    },
    {
     "name": "stderr",
     "output_type": "stream",
     "text": [
      "/anaconda3/lib/python3.6/site-packages/sklearn/linear_model/sag.py:326: ConvergenceWarning: The max_iter was reached which means the coef_ did not converge\n",
      "  \"the coef_ did not converge\", ConvergenceWarning)\n",
      "/anaconda3/lib/python3.6/site-packages/sklearn/linear_model/sag.py:326: ConvergenceWarning: The max_iter was reached which means the coef_ did not converge\n",
      "  \"the coef_ did not converge\", ConvergenceWarning)\n",
      "/anaconda3/lib/python3.6/site-packages/sklearn/linear_model/sag.py:326: ConvergenceWarning: The max_iter was reached which means the coef_ did not converge\n",
      "  \"the coef_ did not converge\", ConvergenceWarning)\n",
      "/anaconda3/lib/python3.6/site-packages/sklearn/model_selection/_validation.py:479: FitFailedWarning: Classifier fit failed. The score on this train-test partition for these parameters will be set to 0.000000. Details: \n",
      "ValueError('Solver newton-cg supports only l2 penalties, got l1 penalty.',)\n",
      "  \"Details: \\n%r\" % (error_score, e), FitFailedWarning)\n",
      "/anaconda3/lib/python3.6/site-packages/sklearn/model_selection/_validation.py:479: FitFailedWarning: Classifier fit failed. The score on this train-test partition for these parameters will be set to 0.000000. Details: \n",
      "ValueError('Solver newton-cg supports only l2 penalties, got l1 penalty.',)\n",
      "  \"Details: \\n%r\" % (error_score, e), FitFailedWarning)\n",
      "/anaconda3/lib/python3.6/site-packages/sklearn/model_selection/_validation.py:479: FitFailedWarning: Classifier fit failed. The score on this train-test partition for these parameters will be set to 0.000000. Details: \n",
      "ValueError('Solver newton-cg supports only l2 penalties, got l1 penalty.',)\n",
      "  \"Details: \\n%r\" % (error_score, e), FitFailedWarning)\n",
      "/anaconda3/lib/python3.6/site-packages/sklearn/model_selection/_validation.py:479: FitFailedWarning: Classifier fit failed. The score on this train-test partition for these parameters will be set to 0.000000. Details: \n",
      "ValueError('Solver lbfgs supports only l2 penalties, got l1 penalty.',)\n",
      "  \"Details: \\n%r\" % (error_score, e), FitFailedWarning)\n",
      "/anaconda3/lib/python3.6/site-packages/sklearn/model_selection/_validation.py:479: FitFailedWarning: Classifier fit failed. The score on this train-test partition for these parameters will be set to 0.000000. Details: \n",
      "ValueError('Solver lbfgs supports only l2 penalties, got l1 penalty.',)\n",
      "  \"Details: \\n%r\" % (error_score, e), FitFailedWarning)\n",
      "/anaconda3/lib/python3.6/site-packages/sklearn/model_selection/_validation.py:479: FitFailedWarning: Classifier fit failed. The score on this train-test partition for these parameters will be set to 0.000000. Details: \n",
      "ValueError('Solver lbfgs supports only l2 penalties, got l1 penalty.',)\n",
      "  \"Details: \\n%r\" % (error_score, e), FitFailedWarning)\n",
      "/anaconda3/lib/python3.6/site-packages/sklearn/model_selection/_validation.py:479: FitFailedWarning: Classifier fit failed. The score on this train-test partition for these parameters will be set to 0.000000. Details: \n",
      "ValueError('Solver sag supports only l2 penalties, got l1 penalty.',)\n",
      "  \"Details: \\n%r\" % (error_score, e), FitFailedWarning)\n",
      "/anaconda3/lib/python3.6/site-packages/sklearn/model_selection/_validation.py:479: FitFailedWarning: Classifier fit failed. The score on this train-test partition for these parameters will be set to 0.000000. Details: \n",
      "ValueError('Solver sag supports only l2 penalties, got l1 penalty.',)\n",
      "  \"Details: \\n%r\" % (error_score, e), FitFailedWarning)\n",
      "/anaconda3/lib/python3.6/site-packages/sklearn/model_selection/_validation.py:479: FitFailedWarning: Classifier fit failed. The score on this train-test partition for these parameters will be set to 0.000000. Details: \n",
      "ValueError('Solver sag supports only l2 penalties, got l1 penalty.',)\n",
      "  \"Details: \\n%r\" % (error_score, e), FitFailedWarning)\n",
      "/anaconda3/lib/python3.6/site-packages/sklearn/linear_model/sag.py:326: ConvergenceWarning: The max_iter was reached which means the coef_ did not converge\n",
      "  \"the coef_ did not converge\", ConvergenceWarning)\n",
      "/anaconda3/lib/python3.6/site-packages/sklearn/linear_model/sag.py:326: ConvergenceWarning: The max_iter was reached which means the coef_ did not converge\n",
      "  \"the coef_ did not converge\", ConvergenceWarning)\n",
      "/anaconda3/lib/python3.6/site-packages/sklearn/linear_model/sag.py:326: ConvergenceWarning: The max_iter was reached which means the coef_ did not converge\n",
      "  \"the coef_ did not converge\", ConvergenceWarning)\n",
      "/anaconda3/lib/python3.6/site-packages/sklearn/linear_model/sag.py:326: ConvergenceWarning: The max_iter was reached which means the coef_ did not converge\n",
      "  \"the coef_ did not converge\", ConvergenceWarning)\n",
      "/anaconda3/lib/python3.6/site-packages/sklearn/linear_model/sag.py:326: ConvergenceWarning: The max_iter was reached which means the coef_ did not converge\n",
      "  \"the coef_ did not converge\", ConvergenceWarning)\n",
      "/anaconda3/lib/python3.6/site-packages/sklearn/linear_model/sag.py:326: ConvergenceWarning: The max_iter was reached which means the coef_ did not converge\n",
      "  \"the coef_ did not converge\", ConvergenceWarning)\n",
      "/anaconda3/lib/python3.6/site-packages/sklearn/linear_model/sag.py:326: ConvergenceWarning: The max_iter was reached which means the coef_ did not converge\n",
      "  \"the coef_ did not converge\", ConvergenceWarning)\n",
      "/anaconda3/lib/python3.6/site-packages/sklearn/linear_model/sag.py:326: ConvergenceWarning: The max_iter was reached which means the coef_ did not converge\n",
      "  \"the coef_ did not converge\", ConvergenceWarning)\n",
      "/anaconda3/lib/python3.6/site-packages/sklearn/linear_model/sag.py:326: ConvergenceWarning: The max_iter was reached which means the coef_ did not converge\n",
      "  \"the coef_ did not converge\", ConvergenceWarning)\n",
      "/anaconda3/lib/python3.6/site-packages/sklearn/model_selection/_validation.py:479: FitFailedWarning: Classifier fit failed. The score on this train-test partition for these parameters will be set to 0.000000. Details: \n",
      "ValueError('Solver newton-cg supports only l2 penalties, got l1 penalty.',)\n",
      "  \"Details: \\n%r\" % (error_score, e), FitFailedWarning)\n",
      "/anaconda3/lib/python3.6/site-packages/sklearn/model_selection/_validation.py:479: FitFailedWarning: Classifier fit failed. The score on this train-test partition for these parameters will be set to 0.000000. Details: \n",
      "ValueError('Solver newton-cg supports only l2 penalties, got l1 penalty.',)\n",
      "  \"Details: \\n%r\" % (error_score, e), FitFailedWarning)\n",
      "/anaconda3/lib/python3.6/site-packages/sklearn/model_selection/_validation.py:479: FitFailedWarning: Classifier fit failed. The score on this train-test partition for these parameters will be set to 0.000000. Details: \n",
      "ValueError('Solver newton-cg supports only l2 penalties, got l1 penalty.',)\n",
      "  \"Details: \\n%r\" % (error_score, e), FitFailedWarning)\n",
      "/anaconda3/lib/python3.6/site-packages/sklearn/model_selection/_validation.py:479: FitFailedWarning: Classifier fit failed. The score on this train-test partition for these parameters will be set to 0.000000. Details: \n",
      "ValueError('Solver lbfgs supports only l2 penalties, got l1 penalty.',)\n",
      "  \"Details: \\n%r\" % (error_score, e), FitFailedWarning)\n",
      "/anaconda3/lib/python3.6/site-packages/sklearn/model_selection/_validation.py:479: FitFailedWarning: Classifier fit failed. The score on this train-test partition for these parameters will be set to 0.000000. Details: \n",
      "ValueError('Solver lbfgs supports only l2 penalties, got l1 penalty.',)\n",
      "  \"Details: \\n%r\" % (error_score, e), FitFailedWarning)\n",
      "/anaconda3/lib/python3.6/site-packages/sklearn/model_selection/_validation.py:479: FitFailedWarning: Classifier fit failed. The score on this train-test partition for these parameters will be set to 0.000000. Details: \n",
      "ValueError('Solver lbfgs supports only l2 penalties, got l1 penalty.',)\n",
      "  \"Details: \\n%r\" % (error_score, e), FitFailedWarning)\n",
      "/anaconda3/lib/python3.6/site-packages/sklearn/model_selection/_validation.py:479: FitFailedWarning: Classifier fit failed. The score on this train-test partition for these parameters will be set to 0.000000. Details: \n",
      "ValueError('Solver sag supports only l2 penalties, got l1 penalty.',)\n",
      "  \"Details: \\n%r\" % (error_score, e), FitFailedWarning)\n",
      "/anaconda3/lib/python3.6/site-packages/sklearn/model_selection/_validation.py:479: FitFailedWarning: Classifier fit failed. The score on this train-test partition for these parameters will be set to 0.000000. Details: \n",
      "ValueError('Solver sag supports only l2 penalties, got l1 penalty.',)\n",
      "  \"Details: \\n%r\" % (error_score, e), FitFailedWarning)\n",
      "/anaconda3/lib/python3.6/site-packages/sklearn/model_selection/_validation.py:479: FitFailedWarning: Classifier fit failed. The score on this train-test partition for these parameters will be set to 0.000000. Details: \n",
      "ValueError('Solver sag supports only l2 penalties, got l1 penalty.',)\n",
      "  \"Details: \\n%r\" % (error_score, e), FitFailedWarning)\n"
     ]
    },
    {
     "name": "stderr",
     "output_type": "stream",
     "text": [
      "/anaconda3/lib/python3.6/site-packages/sklearn/linear_model/sag.py:326: ConvergenceWarning: The max_iter was reached which means the coef_ did not converge\n",
      "  \"the coef_ did not converge\", ConvergenceWarning)\n",
      "/anaconda3/lib/python3.6/site-packages/sklearn/linear_model/sag.py:326: ConvergenceWarning: The max_iter was reached which means the coef_ did not converge\n",
      "  \"the coef_ did not converge\", ConvergenceWarning)\n",
      "/anaconda3/lib/python3.6/site-packages/sklearn/linear_model/sag.py:326: ConvergenceWarning: The max_iter was reached which means the coef_ did not converge\n",
      "  \"the coef_ did not converge\", ConvergenceWarning)\n",
      "/anaconda3/lib/python3.6/site-packages/sklearn/linear_model/sag.py:326: ConvergenceWarning: The max_iter was reached which means the coef_ did not converge\n",
      "  \"the coef_ did not converge\", ConvergenceWarning)\n",
      "/anaconda3/lib/python3.6/site-packages/sklearn/linear_model/sag.py:326: ConvergenceWarning: The max_iter was reached which means the coef_ did not converge\n",
      "  \"the coef_ did not converge\", ConvergenceWarning)\n",
      "/anaconda3/lib/python3.6/site-packages/sklearn/linear_model/sag.py:326: ConvergenceWarning: The max_iter was reached which means the coef_ did not converge\n",
      "  \"the coef_ did not converge\", ConvergenceWarning)\n",
      "/anaconda3/lib/python3.6/site-packages/sklearn/linear_model/sag.py:326: ConvergenceWarning: The max_iter was reached which means the coef_ did not converge\n",
      "  \"the coef_ did not converge\", ConvergenceWarning)\n",
      "/anaconda3/lib/python3.6/site-packages/sklearn/linear_model/sag.py:326: ConvergenceWarning: The max_iter was reached which means the coef_ did not converge\n",
      "  \"the coef_ did not converge\", ConvergenceWarning)\n",
      "/anaconda3/lib/python3.6/site-packages/sklearn/linear_model/sag.py:326: ConvergenceWarning: The max_iter was reached which means the coef_ did not converge\n",
      "  \"the coef_ did not converge\", ConvergenceWarning)\n"
     ]
    },
    {
     "data": {
      "text/plain": [
       "GridSearchCV(cv=None, error_score=0,\n",
       "       estimator=LogisticRegression(C=1.0, class_weight=None, dual=False, fit_intercept=True,\n",
       "          intercept_scaling=1, max_iter=100, multi_class='ovr', n_jobs=1,\n",
       "          penalty='l2', random_state=None, solver='liblinear', tol=0.0001,\n",
       "          verbose=0, warm_start=False),\n",
       "       fit_params=None, iid=True, n_jobs=1,\n",
       "       param_grid={'penalty': ['l1', 'l2'], 'C': [0.1, 1, 5, 10, 50, 100, 500, 1000], 'class_weight': [None, 'balanced'], 'solver': ['liblinear', 'newton-cg', 'lbfgs', 'sag', 'saga']},\n",
       "       pre_dispatch='2*n_jobs', refit=True, return_train_score='warn',\n",
       "       scoring=None, verbose=0)"
      ]
     },
     "execution_count": 27,
     "metadata": {},
     "output_type": "execute_result"
    }
   ],
   "source": [
    "grid.fit(X_train,y_train)"
   ]
  },
  {
   "cell_type": "code",
   "execution_count": 31,
   "metadata": {},
   "outputs": [
    {
     "data": {
      "text/plain": [
       "{'C': 0.1, 'class_weight': None, 'penalty': 'l2', 'solver': 'lbfgs'}"
      ]
     },
     "execution_count": 31,
     "metadata": {},
     "output_type": "execute_result"
    }
   ],
   "source": [
    "grid.best_params_"
   ]
  },
  {
   "cell_type": "code",
   "execution_count": 32,
   "metadata": {},
   "outputs": [
    {
     "data": {
      "text/plain": [
       "LogisticRegression(C=0.1, class_weight=None, dual=False, fit_intercept=True,\n",
       "          intercept_scaling=1, max_iter=100, multi_class='ovr', n_jobs=1,\n",
       "          penalty='l2', random_state=None, solver='lbfgs', tol=0.0001,\n",
       "          verbose=0, warm_start=False)"
      ]
     },
     "execution_count": 32,
     "metadata": {},
     "output_type": "execute_result"
    }
   ],
   "source": [
    "grid.best_estimator_"
   ]
  },
  {
   "cell_type": "code",
   "execution_count": 33,
   "metadata": {},
   "outputs": [
    {
     "name": "stdout",
     "output_type": "stream",
     "text": [
      "             precision    recall  f1-score   support\n",
      "\n",
      "        0.0       0.85      1.00      0.92     44742\n",
      "        1.0       0.45      0.01      0.02      8183\n",
      "\n",
      "avg / total       0.78      0.84      0.78     52925\n",
      "\n",
      "[[44621   121]\n",
      " [ 8085    98]]\n",
      "0.844950401511573\n"
     ]
    }
   ],
   "source": [
    "grid_predictions = grid.predict(X_test)\n",
    "print(classification_report(y_test,grid_predictions))\n",
    "print(confusion_matrix(y_test,grid_predictions))\n",
    "print(grid.score(X_test, y_test))"
   ]
  },
  {
   "cell_type": "code",
   "execution_count": null,
   "metadata": {},
   "outputs": [],
   "source": []
  }
 ],
 "metadata": {
  "kernelspec": {
   "display_name": "Python 3",
   "language": "python",
   "name": "python3"
  },
  "language_info": {
   "codemirror_mode": {
    "name": "ipython",
    "version": 3
   },
   "file_extension": ".py",
   "mimetype": "text/x-python",
   "name": "python",
   "nbconvert_exporter": "python",
   "pygments_lexer": "ipython3",
   "version": "3.6.9"
  }
 },
 "nbformat": 4,
 "nbformat_minor": 2
}

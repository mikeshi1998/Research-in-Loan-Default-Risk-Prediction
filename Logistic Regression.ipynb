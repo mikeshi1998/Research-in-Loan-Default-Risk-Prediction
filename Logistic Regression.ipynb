{
 "cells": [
  {
   "cell_type": "code",
   "execution_count": 1,
   "metadata": {},
   "outputs": [],
   "source": [
    "import pandas as pd\n",
    "import numpy as np\n",
    "import matplotlib.pyplot as plt\n",
    "import seaborn as sns\n",
    "%matplotlib inline\n",
    "import datetime\n",
    "from sklearn.preprocessing import StandardScaler\n",
    "from sklearn.model_selection import train_test_split\n",
    "from sklearn.linear_model import LogisticRegression\n",
    "from sklearn.metrics import classification_report, confusion_matrix"
   ]
  },
  {
   "cell_type": "code",
   "execution_count": 2,
   "metadata": {},
   "outputs": [],
   "source": [
    "df=pd.read_csv('2012-2013_cleaned.csv', index_col=0)"
   ]
  },
  {
   "cell_type": "code",
   "execution_count": 3,
   "metadata": {},
   "outputs": [],
   "source": [
    "y=df['loan_status']"
   ]
  },
  {
   "cell_type": "code",
   "execution_count": 4,
   "metadata": {},
   "outputs": [],
   "source": [
    "df.drop(columns=['emp_title','issue_d','zip_code','loan_status'], inplace=True)"
   ]
  },
  {
   "cell_type": "code",
   "execution_count": 5,
   "metadata": {},
   "outputs": [],
   "source": [
    "real_part=df.iloc[:,:19]"
   ]
  },
  {
   "cell_type": "code",
   "execution_count": 6,
   "metadata": {},
   "outputs": [],
   "source": [
    "dummy_part=df.iloc[:,19:]"
   ]
  },
  {
   "cell_type": "code",
   "execution_count": 7,
   "metadata": {},
   "outputs": [],
   "source": [
    "scaler=StandardScaler()"
   ]
  },
  {
   "cell_type": "code",
   "execution_count": 8,
   "metadata": {},
   "outputs": [
    {
     "data": {
      "text/plain": [
       "StandardScaler(copy=True, with_mean=True, with_std=True)"
      ]
     },
     "execution_count": 8,
     "metadata": {},
     "output_type": "execute_result"
    }
   ],
   "source": [
    "scaler.fit(real_part)"
   ]
  },
  {
   "cell_type": "code",
   "execution_count": 9,
   "metadata": {},
   "outputs": [],
   "source": [
    "scaled=scaler.transform(real_part)"
   ]
  },
  {
   "cell_type": "code",
   "execution_count": 10,
   "metadata": {},
   "outputs": [],
   "source": [
    "df1=pd.DataFrame(scaled, columns=real_part.columns)"
   ]
  },
  {
   "cell_type": "code",
   "execution_count": 11,
   "metadata": {},
   "outputs": [],
   "source": [
    "df=pd.concat([df1,dummy_part], axis=1)"
   ]
  },
  {
   "cell_type": "code",
   "execution_count": 12,
   "metadata": {},
   "outputs": [],
   "source": [
    "X_train, X_test, y_train, y_test = train_test_split(df, y, test_size=0.30, random_state=101)"
   ]
  },
  {
   "cell_type": "code",
   "execution_count": 13,
   "metadata": {},
   "outputs": [
    {
     "name": "stdout",
     "output_type": "stream",
     "text": [
      "             precision    recall  f1-score   support\n",
      "\n",
      "        0.0       0.85      1.00      0.92     44742\n",
      "        1.0       0.43      0.01      0.02      8183\n",
      "\n",
      "avg / total       0.78      0.84      0.78     52925\n",
      "\n",
      "[[44617   125]\n",
      " [ 8087    96]]\n",
      "0.8448370335380255\n"
     ]
    }
   ],
   "source": [
    "logmodel = LogisticRegression()\n",
    "logmodel.fit(X_train,y_train)\n",
    "predictions = logmodel.predict(X_test)\n",
    "print(classification_report(y_test,predictions))\n",
    "print(confusion_matrix(y_test,predictions))\n",
    "print(logmodel.score(X_test, y_test))"
   ]
  },
  {
   "cell_type": "code",
   "execution_count": 16,
   "metadata": {},
   "outputs": [],
   "source": [
    "from sklearn.model_selection import GridSearchCV"
   ]
  },
  {
   "cell_type": "code",
   "execution_count": 30,
   "metadata": {},
   "outputs": [],
   "source": [
    "param_grid={'penalty': ['l1','l2'], 'C':[0.1,1,5,10,50,100,500,1000],\n",
    "            'class_weight': [None, 'balanced'], 'solver': ['liblinear','newton-cg','lbfgs','sag','saga']}\n"
   ]
  },
  {
   "cell_type": "code",
   "execution_count": 31,
   "metadata": {},
   "outputs": [],
   "source": [
    "grid = GridSearchCV(LogisticRegression(), param_grid, refit=True, error_score=0, verbose=3)"
   ]
  },
  {
   "cell_type": "code",
   "execution_count": 32,
   "metadata": {},
   "outputs": [
    {
     "name": "stdout",
     "output_type": "stream",
     "text": [
      "Fitting 3 folds for each of 160 candidates, totalling 480 fits\n",
      "[CV] C=0.1, class_weight=None, penalty=l1, solver=liblinear ..........\n",
      "[CV]  C=0.1, class_weight=None, penalty=l1, solver=liblinear, score=0.8446215139442231, total=   2.1s\n",
      "[CV] C=0.1, class_weight=None, penalty=l1, solver=liblinear ..........\n"
     ]
    },
    {
     "name": "stderr",
     "output_type": "stream",
     "text": [
      "[Parallel(n_jobs=1)]: Done   1 out of   1 | elapsed:    2.2s remaining:    0.0s\n"
     ]
    },
    {
     "name": "stdout",
     "output_type": "stream",
     "text": [
      "[CV]  C=0.1, class_weight=None, penalty=l1, solver=liblinear, score=0.8437188737458398, total=   6.5s\n",
      "[CV] C=0.1, class_weight=None, penalty=l1, solver=liblinear ..........\n"
     ]
    },
    {
     "name": "stderr",
     "output_type": "stream",
     "text": [
      "[Parallel(n_jobs=1)]: Done   2 out of   2 | elapsed:    8.7s remaining:    0.0s\n"
     ]
    },
    {
     "name": "stdout",
     "output_type": "stream",
     "text": [
      "[CV]  C=0.1, class_weight=None, penalty=l1, solver=liblinear, score=0.8444681988241582, total=   7.8s\n",
      "[CV] C=0.1, class_weight=None, penalty=l1, solver=newton-cg ..........\n",
      "[CV]  C=0.1, class_weight=None, penalty=l1, solver=newton-cg, score=0, total=   0.1s\n",
      "[CV] C=0.1, class_weight=None, penalty=l1, solver=newton-cg ..........\n"
     ]
    },
    {
     "name": "stderr",
     "output_type": "stream",
     "text": [
      "/anaconda3/lib/python3.6/site-packages/sklearn/model_selection/_validation.py:479: FitFailedWarning: Classifier fit failed. The score on this train-test partition for these parameters will be set to 0.000000. Details: \n",
      "ValueError('Solver newton-cg supports only l2 penalties, got l1 penalty.',)\n",
      "  \"Details: \\n%r\" % (error_score, e), FitFailedWarning)\n",
      "/anaconda3/lib/python3.6/site-packages/sklearn/model_selection/_validation.py:479: FitFailedWarning: Classifier fit failed. The score on this train-test partition for these parameters will be set to 0.000000. Details: \n",
      "ValueError('Solver newton-cg supports only l2 penalties, got l1 penalty.',)\n",
      "  \"Details: \\n%r\" % (error_score, e), FitFailedWarning)\n"
     ]
    },
    {
     "name": "stdout",
     "output_type": "stream",
     "text": [
      "[CV]  C=0.1, class_weight=None, penalty=l1, solver=newton-cg, score=0, total=   0.1s\n",
      "[CV] C=0.1, class_weight=None, penalty=l1, solver=newton-cg ..........\n",
      "[CV]  C=0.1, class_weight=None, penalty=l1, solver=newton-cg, score=0, total=   0.1s\n",
      "[CV] C=0.1, class_weight=None, penalty=l1, solver=lbfgs ..............\n",
      "[CV]  C=0.1, class_weight=None, penalty=l1, solver=lbfgs, score=0, total=   0.1s\n",
      "[CV] C=0.1, class_weight=None, penalty=l1, solver=lbfgs ..............\n"
     ]
    },
    {
     "name": "stderr",
     "output_type": "stream",
     "text": [
      "/anaconda3/lib/python3.6/site-packages/sklearn/model_selection/_validation.py:479: FitFailedWarning: Classifier fit failed. The score on this train-test partition for these parameters will be set to 0.000000. Details: \n",
      "ValueError('Solver newton-cg supports only l2 penalties, got l1 penalty.',)\n",
      "  \"Details: \\n%r\" % (error_score, e), FitFailedWarning)\n",
      "/anaconda3/lib/python3.6/site-packages/sklearn/model_selection/_validation.py:479: FitFailedWarning: Classifier fit failed. The score on this train-test partition for these parameters will be set to 0.000000. Details: \n",
      "ValueError('Solver lbfgs supports only l2 penalties, got l1 penalty.',)\n",
      "  \"Details: \\n%r\" % (error_score, e), FitFailedWarning)\n",
      "/anaconda3/lib/python3.6/site-packages/sklearn/model_selection/_validation.py:479: FitFailedWarning: Classifier fit failed. The score on this train-test partition for these parameters will be set to 0.000000. Details: \n",
      "ValueError('Solver lbfgs supports only l2 penalties, got l1 penalty.',)\n",
      "  \"Details: \\n%r\" % (error_score, e), FitFailedWarning)\n",
      "/anaconda3/lib/python3.6/site-packages/sklearn/model_selection/_validation.py:479: FitFailedWarning: Classifier fit failed. The score on this train-test partition for these parameters will be set to 0.000000. Details: \n",
      "ValueError('Solver lbfgs supports only l2 penalties, got l1 penalty.',)\n",
      "  \"Details: \\n%r\" % (error_score, e), FitFailedWarning)\n",
      "/anaconda3/lib/python3.6/site-packages/sklearn/model_selection/_validation.py:479: FitFailedWarning: Classifier fit failed. The score on this train-test partition for these parameters will be set to 0.000000. Details: \n",
      "ValueError('Solver sag supports only l2 penalties, got l1 penalty.',)\n",
      "  \"Details: \\n%r\" % (error_score, e), FitFailedWarning)\n"
     ]
    },
    {
     "name": "stdout",
     "output_type": "stream",
     "text": [
      "[CV]  C=0.1, class_weight=None, penalty=l1, solver=lbfgs, score=0, total=   0.1s\n",
      "[CV] C=0.1, class_weight=None, penalty=l1, solver=lbfgs ..............\n",
      "[CV]  C=0.1, class_weight=None, penalty=l1, solver=lbfgs, score=0, total=   0.1s\n",
      "[CV] C=0.1, class_weight=None, penalty=l1, solver=sag ................\n",
      "[CV]  C=0.1, class_weight=None, penalty=l1, solver=sag, score=0, total=   0.1s\n",
      "[CV] C=0.1, class_weight=None, penalty=l1, solver=sag ................\n"
     ]
    },
    {
     "name": "stderr",
     "output_type": "stream",
     "text": [
      "/anaconda3/lib/python3.6/site-packages/sklearn/model_selection/_validation.py:479: FitFailedWarning: Classifier fit failed. The score on this train-test partition for these parameters will be set to 0.000000. Details: \n",
      "ValueError('Solver sag supports only l2 penalties, got l1 penalty.',)\n",
      "  \"Details: \\n%r\" % (error_score, e), FitFailedWarning)\n",
      "/anaconda3/lib/python3.6/site-packages/sklearn/model_selection/_validation.py:479: FitFailedWarning: Classifier fit failed. The score on this train-test partition for these parameters will be set to 0.000000. Details: \n",
      "ValueError('Solver sag supports only l2 penalties, got l1 penalty.',)\n",
      "  \"Details: \\n%r\" % (error_score, e), FitFailedWarning)\n"
     ]
    },
    {
     "name": "stdout",
     "output_type": "stream",
     "text": [
      "[CV]  C=0.1, class_weight=None, penalty=l1, solver=sag, score=0, total=   0.1s\n",
      "[CV] C=0.1, class_weight=None, penalty=l1, solver=sag ................\n",
      "[CV]  C=0.1, class_weight=None, penalty=l1, solver=sag, score=0, total=   0.1s\n",
      "[CV] C=0.1, class_weight=None, penalty=l1, solver=saga ...............\n"
     ]
    },
    {
     "name": "stderr",
     "output_type": "stream",
     "text": [
      "/anaconda3/lib/python3.6/site-packages/sklearn/linear_model/sag.py:326: ConvergenceWarning: The max_iter was reached which means the coef_ did not converge\n",
      "  \"the coef_ did not converge\", ConvergenceWarning)\n"
     ]
    },
    {
     "name": "stdout",
     "output_type": "stream",
     "text": [
      "[CV]  C=0.1, class_weight=None, penalty=l1, solver=saga, score=0.8445486347293751, total=  13.8s\n",
      "[CV] C=0.1, class_weight=None, penalty=l1, solver=saga ...............\n"
     ]
    },
    {
     "name": "stderr",
     "output_type": "stream",
     "text": [
      "/anaconda3/lib/python3.6/site-packages/sklearn/linear_model/sag.py:326: ConvergenceWarning: The max_iter was reached which means the coef_ did not converge\n",
      "  \"the coef_ did not converge\", ConvergenceWarning)\n"
     ]
    },
    {
     "name": "stdout",
     "output_type": "stream",
     "text": [
      "[CV]  C=0.1, class_weight=None, penalty=l1, solver=saga, score=0.8435488181133542, total=  14.2s\n",
      "[CV] C=0.1, class_weight=None, penalty=l1, solver=saga ...............\n"
     ]
    },
    {
     "name": "stderr",
     "output_type": "stream",
     "text": [
      "/anaconda3/lib/python3.6/site-packages/sklearn/linear_model/sag.py:326: ConvergenceWarning: The max_iter was reached which means the coef_ did not converge\n",
      "  \"the coef_ did not converge\", ConvergenceWarning)\n"
     ]
    },
    {
     "name": "stdout",
     "output_type": "stream",
     "text": [
      "[CV]  C=0.1, class_weight=None, penalty=l1, solver=saga, score=0.8443467275642583, total=  13.8s\n",
      "[CV] C=0.1, class_weight=None, penalty=l2, solver=liblinear ..........\n",
      "[CV]  C=0.1, class_weight=None, penalty=l2, solver=liblinear, score=0.8445000485861432, total=   0.8s\n",
      "[CV] C=0.1, class_weight=None, penalty=l2, solver=liblinear ..........\n",
      "[CV]  C=0.1, class_weight=None, penalty=l2, solver=liblinear, score=0.8437917547311906, total=   0.8s\n",
      "[CV] C=0.1, class_weight=None, penalty=l2, solver=liblinear ..........\n",
      "[CV]  C=0.1, class_weight=None, penalty=l2, solver=liblinear, score=0.8443224333122783, total=   0.8s\n",
      "[CV] C=0.1, class_weight=None, penalty=l2, solver=newton-cg ..........\n",
      "[CV]  C=0.1, class_weight=None, penalty=l2, solver=newton-cg, score=0.8445243416577592, total=   2.5s\n",
      "[CV] C=0.1, class_weight=None, penalty=l2, solver=newton-cg ..........\n",
      "[CV]  C=0.1, class_weight=None, penalty=l2, solver=newton-cg, score=0.8438160483929743, total=   2.5s\n",
      "[CV] C=0.1, class_weight=None, penalty=l2, solver=newton-cg ..........\n",
      "[CV]  C=0.1, class_weight=None, penalty=l2, solver=newton-cg, score=0.8443467275642583, total=   2.4s\n",
      "[CV] C=0.1, class_weight=None, penalty=l2, solver=lbfgs ..............\n",
      "[CV]  C=0.1, class_weight=None, penalty=l2, solver=lbfgs, score=0.8445729278009911, total=   0.8s\n",
      "[CV] C=0.1, class_weight=None, penalty=l2, solver=lbfgs ..............\n",
      "[CV]  C=0.1, class_weight=None, penalty=l2, solver=lbfgs, score=0.8437917547311906, total=   0.7s\n",
      "[CV] C=0.1, class_weight=None, penalty=l2, solver=lbfgs ..............\n",
      "[CV]  C=0.1, class_weight=None, penalty=l2, solver=lbfgs, score=0.8443710218162382, total=   0.8s\n",
      "[CV] C=0.1, class_weight=None, penalty=l2, solver=sag ................\n"
     ]
    },
    {
     "name": "stderr",
     "output_type": "stream",
     "text": [
      "/anaconda3/lib/python3.6/site-packages/sklearn/linear_model/sag.py:326: ConvergenceWarning: The max_iter was reached which means the coef_ did not converge\n",
      "  \"the coef_ did not converge\", ConvergenceWarning)\n"
     ]
    },
    {
     "name": "stdout",
     "output_type": "stream",
     "text": [
      "[CV]  C=0.1, class_weight=None, penalty=l2, solver=sag, score=0.8445486347293751, total=  11.4s\n",
      "[CV] C=0.1, class_weight=None, penalty=l2, solver=sag ................\n"
     ]
    },
    {
     "name": "stderr",
     "output_type": "stream",
     "text": [
      "/anaconda3/lib/python3.6/site-packages/sklearn/linear_model/sag.py:326: ConvergenceWarning: The max_iter was reached which means the coef_ did not converge\n",
      "  \"the coef_ did not converge\", ConvergenceWarning)\n"
     ]
    },
    {
     "name": "stdout",
     "output_type": "stream",
     "text": [
      "[CV]  C=0.1, class_weight=None, penalty=l2, solver=sag, score=0.8438160483929743, total=  11.2s\n",
      "[CV] C=0.1, class_weight=None, penalty=l2, solver=sag ................\n"
     ]
    },
    {
     "name": "stderr",
     "output_type": "stream",
     "text": [
      "/anaconda3/lib/python3.6/site-packages/sklearn/linear_model/sag.py:326: ConvergenceWarning: The max_iter was reached which means the coef_ did not converge\n",
      "  \"the coef_ did not converge\", ConvergenceWarning)\n"
     ]
    },
    {
     "name": "stdout",
     "output_type": "stream",
     "text": [
      "[CV]  C=0.1, class_weight=None, penalty=l2, solver=sag, score=0.8442738448083184, total=  10.7s\n",
      "[CV] C=0.1, class_weight=None, penalty=l2, solver=saga ...............\n"
     ]
    },
    {
     "name": "stderr",
     "output_type": "stream",
     "text": [
      "/anaconda3/lib/python3.6/site-packages/sklearn/linear_model/sag.py:326: ConvergenceWarning: The max_iter was reached which means the coef_ did not converge\n",
      "  \"the coef_ did not converge\", ConvergenceWarning)\n"
     ]
    },
    {
     "name": "stdout",
     "output_type": "stream",
     "text": [
      "[CV]  C=0.1, class_weight=None, penalty=l2, solver=saga, score=0.8445972208726071, total=  10.6s\n",
      "[CV] C=0.1, class_weight=None, penalty=l2, solver=saga ...............\n"
     ]
    },
    {
     "name": "stderr",
     "output_type": "stream",
     "text": [
      "/anaconda3/lib/python3.6/site-packages/sklearn/linear_model/sag.py:326: ConvergenceWarning: The max_iter was reached which means the coef_ did not converge\n",
      "  \"the coef_ did not converge\", ConvergenceWarning)\n"
     ]
    },
    {
     "name": "stdout",
     "output_type": "stream",
     "text": [
      "[CV]  C=0.1, class_weight=None, penalty=l2, solver=saga, score=0.8435974054369215, total=  11.7s\n",
      "[CV] C=0.1, class_weight=None, penalty=l2, solver=saga ...............\n"
     ]
    },
    {
     "name": "stderr",
     "output_type": "stream",
     "text": [
      "/anaconda3/lib/python3.6/site-packages/sklearn/linear_model/sag.py:326: ConvergenceWarning: The max_iter was reached which means the coef_ did not converge\n",
      "  \"the coef_ did not converge\", ConvergenceWarning)\n"
     ]
    },
    {
     "name": "stdout",
     "output_type": "stream",
     "text": [
      "[CV]  C=0.1, class_weight=None, penalty=l2, solver=saga, score=0.8443224333122783, total=  11.6s\n",
      "[CV] C=0.1, class_weight=balanced, penalty=l1, solver=liblinear ......\n",
      "[CV]  C=0.1, class_weight=balanced, penalty=l1, solver=liblinear, score=0.6340977553201826, total=   2.7s\n",
      "[CV] C=0.1, class_weight=balanced, penalty=l1, solver=liblinear ......\n",
      "[CV]  C=0.1, class_weight=balanced, penalty=l1, solver=liblinear, score=0.6455797682384666, total=   4.5s\n",
      "[CV] C=0.1, class_weight=balanced, penalty=l1, solver=liblinear ......\n",
      "[CV]  C=0.1, class_weight=balanced, penalty=l1, solver=liblinear, score=0.6416840775472523, total=   2.1s\n",
      "[CV] C=0.1, class_weight=balanced, penalty=l1, solver=newton-cg ......\n",
      "[CV]  C=0.1, class_weight=balanced, penalty=l1, solver=newton-cg, score=0, total=   0.1s\n",
      "[CV] C=0.1, class_weight=balanced, penalty=l1, solver=newton-cg ......\n"
     ]
    },
    {
     "name": "stderr",
     "output_type": "stream",
     "text": [
      "/anaconda3/lib/python3.6/site-packages/sklearn/model_selection/_validation.py:479: FitFailedWarning: Classifier fit failed. The score on this train-test partition for these parameters will be set to 0.000000. Details: \n",
      "ValueError('Solver newton-cg supports only l2 penalties, got l1 penalty.',)\n",
      "  \"Details: \\n%r\" % (error_score, e), FitFailedWarning)\n",
      "/anaconda3/lib/python3.6/site-packages/sklearn/model_selection/_validation.py:479: FitFailedWarning: Classifier fit failed. The score on this train-test partition for these parameters will be set to 0.000000. Details: \n",
      "ValueError('Solver newton-cg supports only l2 penalties, got l1 penalty.',)\n",
      "  \"Details: \\n%r\" % (error_score, e), FitFailedWarning)\n",
      "/anaconda3/lib/python3.6/site-packages/sklearn/model_selection/_validation.py:479: FitFailedWarning: Classifier fit failed. The score on this train-test partition for these parameters will be set to 0.000000. Details: \n",
      "ValueError('Solver newton-cg supports only l2 penalties, got l1 penalty.',)\n",
      "  \"Details: \\n%r\" % (error_score, e), FitFailedWarning)\n"
     ]
    },
    {
     "name": "stdout",
     "output_type": "stream",
     "text": [
      "[CV]  C=0.1, class_weight=balanced, penalty=l1, solver=newton-cg, score=0, total=   0.1s\n",
      "[CV] C=0.1, class_weight=balanced, penalty=l1, solver=newton-cg ......\n",
      "[CV]  C=0.1, class_weight=balanced, penalty=l1, solver=newton-cg, score=0, total=   0.1s\n",
      "[CV] C=0.1, class_weight=balanced, penalty=l1, solver=lbfgs ..........\n",
      "[CV]  C=0.1, class_weight=balanced, penalty=l1, solver=lbfgs, score=0, total=   0.1s\n",
      "[CV] C=0.1, class_weight=balanced, penalty=l1, solver=lbfgs ..........\n"
     ]
    },
    {
     "name": "stderr",
     "output_type": "stream",
     "text": [
      "/anaconda3/lib/python3.6/site-packages/sklearn/model_selection/_validation.py:479: FitFailedWarning: Classifier fit failed. The score on this train-test partition for these parameters will be set to 0.000000. Details: \n",
      "ValueError('Solver lbfgs supports only l2 penalties, got l1 penalty.',)\n",
      "  \"Details: \\n%r\" % (error_score, e), FitFailedWarning)\n",
      "/anaconda3/lib/python3.6/site-packages/sklearn/model_selection/_validation.py:479: FitFailedWarning: Classifier fit failed. The score on this train-test partition for these parameters will be set to 0.000000. Details: \n",
      "ValueError('Solver lbfgs supports only l2 penalties, got l1 penalty.',)\n",
      "  \"Details: \\n%r\" % (error_score, e), FitFailedWarning)\n",
      "/anaconda3/lib/python3.6/site-packages/sklearn/model_selection/_validation.py:479: FitFailedWarning: Classifier fit failed. The score on this train-test partition for these parameters will be set to 0.000000. Details: \n",
      "ValueError('Solver lbfgs supports only l2 penalties, got l1 penalty.',)\n",
      "  \"Details: \\n%r\" % (error_score, e), FitFailedWarning)\n"
     ]
    },
    {
     "name": "stdout",
     "output_type": "stream",
     "text": [
      "[CV]  C=0.1, class_weight=balanced, penalty=l1, solver=lbfgs, score=0, total=   0.1s\n",
      "[CV] C=0.1, class_weight=balanced, penalty=l1, solver=lbfgs ..........\n",
      "[CV]  C=0.1, class_weight=balanced, penalty=l1, solver=lbfgs, score=0, total=   0.1s\n",
      "[CV] C=0.1, class_weight=balanced, penalty=l1, solver=sag ............\n",
      "[CV]  C=0.1, class_weight=balanced, penalty=l1, solver=sag, score=0, total=   0.1s\n",
      "[CV] C=0.1, class_weight=balanced, penalty=l1, solver=sag ............\n"
     ]
    },
    {
     "name": "stderr",
     "output_type": "stream",
     "text": [
      "/anaconda3/lib/python3.6/site-packages/sklearn/model_selection/_validation.py:479: FitFailedWarning: Classifier fit failed. The score on this train-test partition for these parameters will be set to 0.000000. Details: \n",
      "ValueError('Solver sag supports only l2 penalties, got l1 penalty.',)\n",
      "  \"Details: \\n%r\" % (error_score, e), FitFailedWarning)\n",
      "/anaconda3/lib/python3.6/site-packages/sklearn/model_selection/_validation.py:479: FitFailedWarning: Classifier fit failed. The score on this train-test partition for these parameters will be set to 0.000000. Details: \n",
      "ValueError('Solver sag supports only l2 penalties, got l1 penalty.',)\n",
      "  \"Details: \\n%r\" % (error_score, e), FitFailedWarning)\n",
      "/anaconda3/lib/python3.6/site-packages/sklearn/model_selection/_validation.py:479: FitFailedWarning: Classifier fit failed. The score on this train-test partition for these parameters will be set to 0.000000. Details: \n",
      "ValueError('Solver sag supports only l2 penalties, got l1 penalty.',)\n",
      "  \"Details: \\n%r\" % (error_score, e), FitFailedWarning)\n"
     ]
    },
    {
     "name": "stdout",
     "output_type": "stream",
     "text": [
      "[CV]  C=0.1, class_weight=balanced, penalty=l1, solver=sag, score=0, total=   0.1s\n",
      "[CV] C=0.1, class_weight=balanced, penalty=l1, solver=sag ............\n",
      "[CV]  C=0.1, class_weight=balanced, penalty=l1, solver=sag, score=0, total=   0.1s\n",
      "[CV] C=0.1, class_weight=balanced, penalty=l1, solver=saga ...........\n"
     ]
    },
    {
     "name": "stderr",
     "output_type": "stream",
     "text": [
      "/anaconda3/lib/python3.6/site-packages/sklearn/linear_model/sag.py:326: ConvergenceWarning: The max_iter was reached which means the coef_ did not converge\n",
      "  \"the coef_ did not converge\", ConvergenceWarning)\n"
     ]
    },
    {
     "name": "stdout",
     "output_type": "stream",
     "text": [
      "[CV]  C=0.1, class_weight=balanced, penalty=l1, solver=saga, score=0.6342920998931105, total=  13.9s\n",
      "[CV] C=0.1, class_weight=balanced, penalty=l1, solver=saga ...........\n"
     ]
    },
    {
     "name": "stderr",
     "output_type": "stream",
     "text": [
      "/anaconda3/lib/python3.6/site-packages/sklearn/linear_model/sag.py:326: ConvergenceWarning: The max_iter was reached which means the coef_ did not converge\n",
      "  \"the coef_ did not converge\", ConvergenceWarning)\n"
     ]
    },
    {
     "name": "stdout",
     "output_type": "stream",
     "text": [
      "[CV]  C=0.1, class_weight=balanced, penalty=l1, solver=saga, score=0.6455068872531157, total=  14.1s\n",
      "[CV] C=0.1, class_weight=balanced, penalty=l1, solver=saga ...........\n"
     ]
    },
    {
     "name": "stderr",
     "output_type": "stream",
     "text": [
      "/anaconda3/lib/python3.6/site-packages/sklearn/linear_model/sag.py:326: ConvergenceWarning: The max_iter was reached which means the coef_ did not converge\n",
      "  \"the coef_ did not converge\", ConvergenceWarning)\n"
     ]
    },
    {
     "name": "stdout",
     "output_type": "stream",
     "text": [
      "[CV]  C=0.1, class_weight=balanced, penalty=l1, solver=saga, score=0.6419513143190321, total=  14.1s\n",
      "[CV] C=0.1, class_weight=balanced, penalty=l2, solver=liblinear ......\n",
      "[CV]  C=0.1, class_weight=balanced, penalty=l2, solver=liblinear, score=0.6341220483917986, total=   1.0s\n",
      "[CV] C=0.1, class_weight=balanced, penalty=l2, solver=liblinear ......\n",
      "[CV]  C=0.1, class_weight=balanced, penalty=l2, solver=liblinear, score=0.6437577436046935, total=   1.1s\n",
      "[CV] C=0.1, class_weight=balanced, penalty=l2, solver=liblinear ......\n",
      "[CV]  C=0.1, class_weight=balanced, penalty=l2, solver=liblinear, score=0.6405908362081532, total=   1.0s\n",
      "[CV] C=0.1, class_weight=balanced, penalty=l2, solver=newton-cg ......\n",
      "[CV]  C=0.1, class_weight=balanced, penalty=l2, solver=newton-cg, score=0.6341220483917986, total=   2.0s\n",
      "[CV] C=0.1, class_weight=balanced, penalty=l2, solver=newton-cg ......\n",
      "[CV]  C=0.1, class_weight=balanced, penalty=l2, solver=newton-cg, score=0.6437820372664772, total=   2.4s\n",
      "[CV] C=0.1, class_weight=balanced, penalty=l2, solver=newton-cg ......\n",
      "[CV]  C=0.1, class_weight=balanced, penalty=l2, solver=newton-cg, score=0.6405908362081532, total=   2.1s\n",
      "[CV] C=0.1, class_weight=balanced, penalty=l2, solver=lbfgs ..........\n",
      "[CV]  C=0.1, class_weight=balanced, penalty=l2, solver=lbfgs, score=0.6344378583228063, total=   0.8s\n",
      "[CV] C=0.1, class_weight=balanced, penalty=l2, solver=lbfgs ..........\n",
      "[CV]  C=0.1, class_weight=balanced, penalty=l2, solver=lbfgs, score=0.6438306245900445, total=   0.8s\n",
      "[CV] C=0.1, class_weight=balanced, penalty=l2, solver=lbfgs ..........\n",
      "[CV]  C=0.1, class_weight=balanced, penalty=l2, solver=lbfgs, score=0.6408823672319129, total=   0.8s\n",
      "[CV] C=0.1, class_weight=balanced, penalty=l2, solver=sag ............\n"
     ]
    },
    {
     "name": "stderr",
     "output_type": "stream",
     "text": [
      "/anaconda3/lib/python3.6/site-packages/sklearn/linear_model/sag.py:326: ConvergenceWarning: The max_iter was reached which means the coef_ did not converge\n",
      "  \"the coef_ did not converge\", ConvergenceWarning)\n"
     ]
    },
    {
     "name": "stdout",
     "output_type": "stream",
     "text": [
      "[CV]  C=0.1, class_weight=balanced, penalty=l2, solver=sag, score=0.6341220483917986, total=  11.3s\n",
      "[CV] C=0.1, class_weight=balanced, penalty=l2, solver=sag ............\n"
     ]
    },
    {
     "name": "stderr",
     "output_type": "stream",
     "text": [
      "/anaconda3/lib/python3.6/site-packages/sklearn/linear_model/sag.py:326: ConvergenceWarning: The max_iter was reached which means the coef_ did not converge\n",
      "  \"the coef_ did not converge\", ConvergenceWarning)\n"
     ]
    },
    {
     "name": "stdout",
     "output_type": "stream",
     "text": [
      "[CV]  C=0.1, class_weight=balanced, penalty=l2, solver=sag, score=0.6440735612078808, total=  11.3s\n",
      "[CV] C=0.1, class_weight=balanced, penalty=l2, solver=sag ............\n"
     ]
    },
    {
     "name": "stderr",
     "output_type": "stream",
     "text": [
      "/anaconda3/lib/python3.6/site-packages/sklearn/linear_model/sag.py:326: ConvergenceWarning: The max_iter was reached which means the coef_ did not converge\n",
      "  \"the coef_ did not converge\", ConvergenceWarning)\n"
     ]
    },
    {
     "name": "stdout",
     "output_type": "stream",
     "text": [
      "[CV]  C=0.1, class_weight=balanced, penalty=l2, solver=sag, score=0.640833778727953, total=  11.2s\n",
      "[CV] C=0.1, class_weight=balanced, penalty=l2, solver=saga ...........\n"
     ]
    },
    {
     "name": "stderr",
     "output_type": "stream",
     "text": [
      "/anaconda3/lib/python3.6/site-packages/sklearn/linear_model/sag.py:326: ConvergenceWarning: The max_iter was reached which means the coef_ did not converge\n",
      "  \"the coef_ did not converge\", ConvergenceWarning)\n"
     ]
    },
    {
     "name": "stdout",
     "output_type": "stream",
     "text": [
      "[CV]  C=0.1, class_weight=balanced, penalty=l2, solver=saga, score=0.6342920998931105, total=  11.5s\n",
      "[CV] C=0.1, class_weight=balanced, penalty=l2, solver=saga ...........\n"
     ]
    },
    {
     "name": "stderr",
     "output_type": "stream",
     "text": [
      "/anaconda3/lib/python3.6/site-packages/sklearn/linear_model/sag.py:326: ConvergenceWarning: The max_iter was reached which means the coef_ did not converge\n",
      "  \"the coef_ did not converge\", ConvergenceWarning)\n"
     ]
    },
    {
     "name": "stdout",
     "output_type": "stream",
     "text": [
      "[CV]  C=0.1, class_weight=balanced, penalty=l2, solver=saga, score=0.6449724266938756, total=  11.6s\n",
      "[CV] C=0.1, class_weight=balanced, penalty=l2, solver=saga ...........\n"
     ]
    },
    {
     "name": "stderr",
     "output_type": "stream",
     "text": [
      "/anaconda3/lib/python3.6/site-packages/sklearn/linear_model/sag.py:326: ConvergenceWarning: The max_iter was reached which means the coef_ did not converge\n",
      "  \"the coef_ did not converge\", ConvergenceWarning)\n"
     ]
    },
    {
     "name": "stdout",
     "output_type": "stream",
     "text": [
      "[CV]  C=0.1, class_weight=balanced, penalty=l2, solver=saga, score=0.6413925465234925, total=  11.6s\n",
      "[CV] C=1, class_weight=None, penalty=l1, solver=liblinear ............\n",
      "[CV]  C=1, class_weight=None, penalty=l1, solver=liblinear, score=0.8445729278009911, total=  20.0s\n",
      "[CV] C=1, class_weight=None, penalty=l1, solver=liblinear ............\n",
      "[CV]  C=1, class_weight=None, penalty=l1, solver=liblinear, score=0.8437917547311906, total=  19.9s\n",
      "[CV] C=1, class_weight=None, penalty=l1, solver=liblinear ............\n",
      "[CV]  C=1, class_weight=None, penalty=l1, solver=liblinear, score=0.8443467275642583, total=   9.1s\n",
      "[CV] C=1, class_weight=None, penalty=l1, solver=newton-cg ............\n",
      "[CV]  C=1, class_weight=None, penalty=l1, solver=newton-cg, score=0, total=   0.1s\n",
      "[CV] C=1, class_weight=None, penalty=l1, solver=newton-cg ............\n"
     ]
    },
    {
     "name": "stderr",
     "output_type": "stream",
     "text": [
      "/anaconda3/lib/python3.6/site-packages/sklearn/model_selection/_validation.py:479: FitFailedWarning: Classifier fit failed. The score on this train-test partition for these parameters will be set to 0.000000. Details: \n",
      "ValueError('Solver newton-cg supports only l2 penalties, got l1 penalty.',)\n",
      "  \"Details: \\n%r\" % (error_score, e), FitFailedWarning)\n",
      "/anaconda3/lib/python3.6/site-packages/sklearn/model_selection/_validation.py:479: FitFailedWarning: Classifier fit failed. The score on this train-test partition for these parameters will be set to 0.000000. Details: \n",
      "ValueError('Solver newton-cg supports only l2 penalties, got l1 penalty.',)\n",
      "  \"Details: \\n%r\" % (error_score, e), FitFailedWarning)\n",
      "/anaconda3/lib/python3.6/site-packages/sklearn/model_selection/_validation.py:479: FitFailedWarning: Classifier fit failed. The score on this train-test partition for these parameters will be set to 0.000000. Details: \n",
      "ValueError('Solver newton-cg supports only l2 penalties, got l1 penalty.',)\n",
      "  \"Details: \\n%r\" % (error_score, e), FitFailedWarning)\n"
     ]
    },
    {
     "name": "stdout",
     "output_type": "stream",
     "text": [
      "[CV]  C=1, class_weight=None, penalty=l1, solver=newton-cg, score=0, total=   0.1s\n",
      "[CV] C=1, class_weight=None, penalty=l1, solver=newton-cg ............\n",
      "[CV]  C=1, class_weight=None, penalty=l1, solver=newton-cg, score=0, total=   0.1s\n",
      "[CV] C=1, class_weight=None, penalty=l1, solver=lbfgs ................\n",
      "[CV]  C=1, class_weight=None, penalty=l1, solver=lbfgs, score=0, total=   0.1s\n",
      "[CV] C=1, class_weight=None, penalty=l1, solver=lbfgs ................\n"
     ]
    },
    {
     "name": "stderr",
     "output_type": "stream",
     "text": [
      "/anaconda3/lib/python3.6/site-packages/sklearn/model_selection/_validation.py:479: FitFailedWarning: Classifier fit failed. The score on this train-test partition for these parameters will be set to 0.000000. Details: \n",
      "ValueError('Solver lbfgs supports only l2 penalties, got l1 penalty.',)\n",
      "  \"Details: \\n%r\" % (error_score, e), FitFailedWarning)\n",
      "/anaconda3/lib/python3.6/site-packages/sklearn/model_selection/_validation.py:479: FitFailedWarning: Classifier fit failed. The score on this train-test partition for these parameters will be set to 0.000000. Details: \n",
      "ValueError('Solver lbfgs supports only l2 penalties, got l1 penalty.',)\n",
      "  \"Details: \\n%r\" % (error_score, e), FitFailedWarning)\n"
     ]
    },
    {
     "name": "stdout",
     "output_type": "stream",
     "text": [
      "[CV]  C=1, class_weight=None, penalty=l1, solver=lbfgs, score=0, total=   0.1s\n",
      "[CV] C=1, class_weight=None, penalty=l1, solver=lbfgs ................\n",
      "[CV]  C=1, class_weight=None, penalty=l1, solver=lbfgs, score=0, total=   0.1s\n",
      "[CV] C=1, class_weight=None, penalty=l1, solver=sag ..................\n",
      "[CV]  C=1, class_weight=None, penalty=l1, solver=sag, score=0, total=   0.1s\n",
      "[CV] C=1, class_weight=None, penalty=l1, solver=sag ..................\n"
     ]
    },
    {
     "name": "stderr",
     "output_type": "stream",
     "text": [
      "/anaconda3/lib/python3.6/site-packages/sklearn/model_selection/_validation.py:479: FitFailedWarning: Classifier fit failed. The score on this train-test partition for these parameters will be set to 0.000000. Details: \n",
      "ValueError('Solver lbfgs supports only l2 penalties, got l1 penalty.',)\n",
      "  \"Details: \\n%r\" % (error_score, e), FitFailedWarning)\n",
      "/anaconda3/lib/python3.6/site-packages/sklearn/model_selection/_validation.py:479: FitFailedWarning: Classifier fit failed. The score on this train-test partition for these parameters will be set to 0.000000. Details: \n",
      "ValueError('Solver sag supports only l2 penalties, got l1 penalty.',)\n",
      "  \"Details: \\n%r\" % (error_score, e), FitFailedWarning)\n",
      "/anaconda3/lib/python3.6/site-packages/sklearn/model_selection/_validation.py:479: FitFailedWarning: Classifier fit failed. The score on this train-test partition for these parameters will be set to 0.000000. Details: \n",
      "ValueError('Solver sag supports only l2 penalties, got l1 penalty.',)\n",
      "  \"Details: \\n%r\" % (error_score, e), FitFailedWarning)\n"
     ]
    },
    {
     "name": "stdout",
     "output_type": "stream",
     "text": [
      "[CV]  C=1, class_weight=None, penalty=l1, solver=sag, score=0, total=   0.1s\n",
      "[CV] C=1, class_weight=None, penalty=l1, solver=sag ..................\n",
      "[CV]  C=1, class_weight=None, penalty=l1, solver=sag, score=0, total=   0.1s\n",
      "[CV] C=1, class_weight=None, penalty=l1, solver=saga .................\n"
     ]
    },
    {
     "name": "stderr",
     "output_type": "stream",
     "text": [
      "/anaconda3/lib/python3.6/site-packages/sklearn/model_selection/_validation.py:479: FitFailedWarning: Classifier fit failed. The score on this train-test partition for these parameters will be set to 0.000000. Details: \n",
      "ValueError('Solver sag supports only l2 penalties, got l1 penalty.',)\n",
      "  \"Details: \\n%r\" % (error_score, e), FitFailedWarning)\n",
      "/anaconda3/lib/python3.6/site-packages/sklearn/linear_model/sag.py:326: ConvergenceWarning: The max_iter was reached which means the coef_ did not converge\n",
      "  \"the coef_ did not converge\", ConvergenceWarning)\n"
     ]
    },
    {
     "name": "stdout",
     "output_type": "stream",
     "text": [
      "[CV]  C=1, class_weight=None, penalty=l1, solver=saga, score=0.8445729278009911, total=  14.3s\n",
      "[CV] C=1, class_weight=None, penalty=l1, solver=saga .................\n"
     ]
    },
    {
     "name": "stderr",
     "output_type": "stream",
     "text": [
      "/anaconda3/lib/python3.6/site-packages/sklearn/linear_model/sag.py:326: ConvergenceWarning: The max_iter was reached which means the coef_ did not converge\n",
      "  \"the coef_ did not converge\", ConvergenceWarning)\n"
     ]
    },
    {
     "name": "stdout",
     "output_type": "stream",
     "text": [
      "[CV]  C=1, class_weight=None, penalty=l1, solver=saga, score=0.8437431674076233, total=  14.5s\n",
      "[CV] C=1, class_weight=None, penalty=l1, solver=saga .................\n"
     ]
    },
    {
     "name": "stderr",
     "output_type": "stream",
     "text": [
      "/anaconda3/lib/python3.6/site-packages/sklearn/linear_model/sag.py:326: ConvergenceWarning: The max_iter was reached which means the coef_ did not converge\n",
      "  \"the coef_ did not converge\", ConvergenceWarning)\n"
     ]
    },
    {
     "name": "stdout",
     "output_type": "stream",
     "text": [
      "[CV]  C=1, class_weight=None, penalty=l1, solver=saga, score=0.8442738448083184, total=  14.9s\n",
      "[CV] C=1, class_weight=None, penalty=l2, solver=liblinear ............\n",
      "[CV]  C=1, class_weight=None, penalty=l2, solver=liblinear, score=0.8445486347293751, total=   1.0s\n",
      "[CV] C=1, class_weight=None, penalty=l2, solver=liblinear ............\n",
      "[CV]  C=1, class_weight=None, penalty=l2, solver=liblinear, score=0.843767461069407, total=   1.1s\n",
      "[CV] C=1, class_weight=None, penalty=l2, solver=liblinear ............\n",
      "[CV]  C=1, class_weight=None, penalty=l2, solver=liblinear, score=0.8443224333122783, total=   1.3s\n",
      "[CV] C=1, class_weight=None, penalty=l2, solver=newton-cg ............\n",
      "[CV]  C=1, class_weight=None, penalty=l2, solver=newton-cg, score=0.8445486347293751, total=   3.2s\n",
      "[CV] C=1, class_weight=None, penalty=l2, solver=newton-cg ............\n",
      "[CV]  C=1, class_weight=None, penalty=l2, solver=newton-cg, score=0.843767461069407, total=   3.0s\n",
      "[CV] C=1, class_weight=None, penalty=l2, solver=newton-cg ............\n",
      "[CV]  C=1, class_weight=None, penalty=l2, solver=newton-cg, score=0.8443467275642583, total=   3.1s\n",
      "[CV] C=1, class_weight=None, penalty=l2, solver=lbfgs ................\n",
      "[CV]  C=1, class_weight=None, penalty=l2, solver=lbfgs, score=0.8445729278009911, total=   0.8s\n",
      "[CV] C=1, class_weight=None, penalty=l2, solver=lbfgs ................\n",
      "[CV]  C=1, class_weight=None, penalty=l2, solver=lbfgs, score=0.843767461069407, total=   0.8s\n",
      "[CV] C=1, class_weight=None, penalty=l2, solver=lbfgs ................\n",
      "[CV]  C=1, class_weight=None, penalty=l2, solver=lbfgs, score=0.8443467275642583, total=   0.8s\n",
      "[CV] C=1, class_weight=None, penalty=l2, solver=sag ..................\n"
     ]
    },
    {
     "name": "stderr",
     "output_type": "stream",
     "text": [
      "/anaconda3/lib/python3.6/site-packages/sklearn/linear_model/sag.py:326: ConvergenceWarning: The max_iter was reached which means the coef_ did not converge\n",
      "  \"the coef_ did not converge\", ConvergenceWarning)\n"
     ]
    },
    {
     "name": "stdout",
     "output_type": "stream",
     "text": [
      "[CV]  C=1, class_weight=None, penalty=l2, solver=sag, score=0.8445243416577592, total=  11.2s\n",
      "[CV] C=1, class_weight=None, penalty=l2, solver=sag ..................\n"
     ]
    },
    {
     "name": "stderr",
     "output_type": "stream",
     "text": [
      "/anaconda3/lib/python3.6/site-packages/sklearn/linear_model/sag.py:326: ConvergenceWarning: The max_iter was reached which means the coef_ did not converge\n",
      "  \"the coef_ did not converge\", ConvergenceWarning)\n"
     ]
    },
    {
     "name": "stdout",
     "output_type": "stream",
     "text": [
      "[CV]  C=1, class_weight=None, penalty=l2, solver=sag, score=0.843767461069407, total=  11.3s\n",
      "[CV] C=1, class_weight=None, penalty=l2, solver=sag ..................\n"
     ]
    },
    {
     "name": "stderr",
     "output_type": "stream",
     "text": [
      "/anaconda3/lib/python3.6/site-packages/sklearn/linear_model/sag.py:326: ConvergenceWarning: The max_iter was reached which means the coef_ did not converge\n",
      "  \"the coef_ did not converge\", ConvergenceWarning)\n"
     ]
    },
    {
     "name": "stdout",
     "output_type": "stream",
     "text": [
      "[CV]  C=1, class_weight=None, penalty=l2, solver=sag, score=0.8443467275642583, total=  11.3s\n",
      "[CV] C=1, class_weight=None, penalty=l2, solver=saga .................\n"
     ]
    },
    {
     "name": "stderr",
     "output_type": "stream",
     "text": [
      "/anaconda3/lib/python3.6/site-packages/sklearn/linear_model/sag.py:326: ConvergenceWarning: The max_iter was reached which means the coef_ did not converge\n",
      "  \"the coef_ did not converge\", ConvergenceWarning)\n"
     ]
    },
    {
     "name": "stdout",
     "output_type": "stream",
     "text": [
      "[CV]  C=1, class_weight=None, penalty=l2, solver=saga, score=0.8445729278009911, total=  10.9s\n",
      "[CV] C=1, class_weight=None, penalty=l2, solver=saga .................\n"
     ]
    },
    {
     "name": "stderr",
     "output_type": "stream",
     "text": [
      "/anaconda3/lib/python3.6/site-packages/sklearn/linear_model/sag.py:326: ConvergenceWarning: The max_iter was reached which means the coef_ did not converge\n",
      "  \"the coef_ did not converge\", ConvergenceWarning)\n"
     ]
    },
    {
     "name": "stdout",
     "output_type": "stream",
     "text": [
      "[CV]  C=1, class_weight=None, penalty=l2, solver=saga, score=0.8435488181133542, total=  11.6s\n",
      "[CV] C=1, class_weight=None, penalty=l2, solver=saga .................\n"
     ]
    },
    {
     "name": "stderr",
     "output_type": "stream",
     "text": [
      "/anaconda3/lib/python3.6/site-packages/sklearn/linear_model/sag.py:326: ConvergenceWarning: The max_iter was reached which means the coef_ did not converge\n",
      "  \"the coef_ did not converge\", ConvergenceWarning)\n"
     ]
    },
    {
     "name": "stdout",
     "output_type": "stream",
     "text": [
      "[CV]  C=1, class_weight=None, penalty=l2, solver=saga, score=0.8442981390602984, total=  11.0s\n",
      "[CV] C=1, class_weight=balanced, penalty=l1, solver=liblinear ........\n",
      "[CV]  C=1, class_weight=balanced, penalty=l1, solver=liblinear, score=0.6339762899621028, total=  11.6s\n",
      "[CV] C=1, class_weight=balanced, penalty=l1, solver=liblinear ........\n",
      "[CV]  C=1, class_weight=balanced, penalty=l1, solver=liblinear, score=0.6437577436046935, total=  13.2s\n",
      "[CV] C=1, class_weight=balanced, penalty=l1, solver=liblinear ........\n",
      "[CV]  C=1, class_weight=balanced, penalty=l1, solver=liblinear, score=0.6405422477041932, total=  15.1s\n",
      "[CV] C=1, class_weight=balanced, penalty=l1, solver=newton-cg ........\n",
      "[CV]  C=1, class_weight=balanced, penalty=l1, solver=newton-cg, score=0, total=   0.1s\n",
      "[CV] C=1, class_weight=balanced, penalty=l1, solver=newton-cg ........\n"
     ]
    },
    {
     "name": "stderr",
     "output_type": "stream",
     "text": [
      "/anaconda3/lib/python3.6/site-packages/sklearn/model_selection/_validation.py:479: FitFailedWarning: Classifier fit failed. The score on this train-test partition for these parameters will be set to 0.000000. Details: \n",
      "ValueError('Solver newton-cg supports only l2 penalties, got l1 penalty.',)\n",
      "  \"Details: \\n%r\" % (error_score, e), FitFailedWarning)\n",
      "/anaconda3/lib/python3.6/site-packages/sklearn/model_selection/_validation.py:479: FitFailedWarning: Classifier fit failed. The score on this train-test partition for these parameters will be set to 0.000000. Details: \n",
      "ValueError('Solver newton-cg supports only l2 penalties, got l1 penalty.',)\n",
      "  \"Details: \\n%r\" % (error_score, e), FitFailedWarning)\n",
      "/anaconda3/lib/python3.6/site-packages/sklearn/model_selection/_validation.py:479: FitFailedWarning: Classifier fit failed. The score on this train-test partition for these parameters will be set to 0.000000. Details: \n",
      "ValueError('Solver newton-cg supports only l2 penalties, got l1 penalty.',)\n",
      "  \"Details: \\n%r\" % (error_score, e), FitFailedWarning)\n"
     ]
    },
    {
     "name": "stdout",
     "output_type": "stream",
     "text": [
      "[CV]  C=1, class_weight=balanced, penalty=l1, solver=newton-cg, score=0, total=   0.1s\n",
      "[CV] C=1, class_weight=balanced, penalty=l1, solver=newton-cg ........\n",
      "[CV]  C=1, class_weight=balanced, penalty=l1, solver=newton-cg, score=0, total=   0.1s\n",
      "[CV] C=1, class_weight=balanced, penalty=l1, solver=lbfgs ............\n",
      "[CV]  C=1, class_weight=balanced, penalty=l1, solver=lbfgs, score=0, total=   0.1s\n",
      "[CV] C=1, class_weight=balanced, penalty=l1, solver=lbfgs ............\n"
     ]
    },
    {
     "name": "stderr",
     "output_type": "stream",
     "text": [
      "/anaconda3/lib/python3.6/site-packages/sklearn/model_selection/_validation.py:479: FitFailedWarning: Classifier fit failed. The score on this train-test partition for these parameters will be set to 0.000000. Details: \n",
      "ValueError('Solver lbfgs supports only l2 penalties, got l1 penalty.',)\n",
      "  \"Details: \\n%r\" % (error_score, e), FitFailedWarning)\n",
      "/anaconda3/lib/python3.6/site-packages/sklearn/model_selection/_validation.py:479: FitFailedWarning: Classifier fit failed. The score on this train-test partition for these parameters will be set to 0.000000. Details: \n",
      "ValueError('Solver lbfgs supports only l2 penalties, got l1 penalty.',)\n",
      "  \"Details: \\n%r\" % (error_score, e), FitFailedWarning)\n",
      "/anaconda3/lib/python3.6/site-packages/sklearn/model_selection/_validation.py:479: FitFailedWarning: Classifier fit failed. The score on this train-test partition for these parameters will be set to 0.000000. Details: \n",
      "ValueError('Solver lbfgs supports only l2 penalties, got l1 penalty.',)\n",
      "  \"Details: \\n%r\" % (error_score, e), FitFailedWarning)\n"
     ]
    },
    {
     "name": "stdout",
     "output_type": "stream",
     "text": [
      "[CV]  C=1, class_weight=balanced, penalty=l1, solver=lbfgs, score=0, total=   0.1s\n",
      "[CV] C=1, class_weight=balanced, penalty=l1, solver=lbfgs ............\n",
      "[CV]  C=1, class_weight=balanced, penalty=l1, solver=lbfgs, score=0, total=   0.1s\n",
      "[CV] C=1, class_weight=balanced, penalty=l1, solver=sag ..............\n",
      "[CV]  C=1, class_weight=balanced, penalty=l1, solver=sag, score=0, total=   0.1s\n",
      "[CV] C=1, class_weight=balanced, penalty=l1, solver=sag ..............\n"
     ]
    },
    {
     "name": "stderr",
     "output_type": "stream",
     "text": [
      "/anaconda3/lib/python3.6/site-packages/sklearn/model_selection/_validation.py:479: FitFailedWarning: Classifier fit failed. The score on this train-test partition for these parameters will be set to 0.000000. Details: \n",
      "ValueError('Solver sag supports only l2 penalties, got l1 penalty.',)\n",
      "  \"Details: \\n%r\" % (error_score, e), FitFailedWarning)\n",
      "/anaconda3/lib/python3.6/site-packages/sklearn/model_selection/_validation.py:479: FitFailedWarning: Classifier fit failed. The score on this train-test partition for these parameters will be set to 0.000000. Details: \n",
      "ValueError('Solver sag supports only l2 penalties, got l1 penalty.',)\n",
      "  \"Details: \\n%r\" % (error_score, e), FitFailedWarning)\n",
      "/anaconda3/lib/python3.6/site-packages/sklearn/model_selection/_validation.py:479: FitFailedWarning: Classifier fit failed. The score on this train-test partition for these parameters will be set to 0.000000. Details: \n",
      "ValueError('Solver sag supports only l2 penalties, got l1 penalty.',)\n",
      "  \"Details: \\n%r\" % (error_score, e), FitFailedWarning)\n"
     ]
    },
    {
     "name": "stdout",
     "output_type": "stream",
     "text": [
      "[CV]  C=1, class_weight=balanced, penalty=l1, solver=sag, score=0, total=   0.1s\n",
      "[CV] C=1, class_weight=balanced, penalty=l1, solver=sag ..............\n",
      "[CV]  C=1, class_weight=balanced, penalty=l1, solver=sag, score=0, total=   0.1s\n",
      "[CV] C=1, class_weight=balanced, penalty=l1, solver=saga .............\n"
     ]
    },
    {
     "name": "stderr",
     "output_type": "stream",
     "text": [
      "/anaconda3/lib/python3.6/site-packages/sklearn/linear_model/sag.py:326: ConvergenceWarning: The max_iter was reached which means the coef_ did not converge\n",
      "  \"the coef_ did not converge\", ConvergenceWarning)\n"
     ]
    },
    {
     "name": "stdout",
     "output_type": "stream",
     "text": [
      "[CV]  C=1, class_weight=balanced, penalty=l1, solver=saga, score=0.6341949276066465, total=  12.5s\n",
      "[CV] C=1, class_weight=balanced, penalty=l1, solver=saga .............\n"
     ]
    },
    {
     "name": "stderr",
     "output_type": "stream",
     "text": [
      "/anaconda3/lib/python3.6/site-packages/sklearn/linear_model/sag.py:326: ConvergenceWarning: The max_iter was reached which means the coef_ did not converge\n",
      "  \"the coef_ did not converge\", ConvergenceWarning)\n"
     ]
    },
    {
     "name": "stdout",
     "output_type": "stream",
     "text": [
      "[CV]  C=1, class_weight=balanced, penalty=l1, solver=saga, score=0.6440978548696645, total=  13.4s\n",
      "[CV] C=1, class_weight=balanced, penalty=l1, solver=saga .............\n"
     ]
    },
    {
     "name": "stderr",
     "output_type": "stream",
     "text": [
      "/anaconda3/lib/python3.6/site-packages/sklearn/linear_model/sag.py:326: ConvergenceWarning: The max_iter was reached which means the coef_ did not converge\n",
      "  \"the coef_ did not converge\", ConvergenceWarning)\n"
     ]
    },
    {
     "name": "stdout",
     "output_type": "stream",
     "text": [
      "[CV]  C=1, class_weight=balanced, penalty=l1, solver=saga, score=0.6404207764442933, total=  14.2s\n",
      "[CV] C=1, class_weight=balanced, penalty=l2, solver=liblinear ........\n",
      "[CV]  C=1, class_weight=balanced, penalty=l2, solver=liblinear, score=0.6335633077446312, total=   2.0s\n",
      "[CV] C=1, class_weight=balanced, penalty=l2, solver=liblinear ........\n",
      "[CV]  C=1, class_weight=balanced, penalty=l2, solver=liblinear, score=0.6435633943104244, total=   2.3s\n",
      "[CV] C=1, class_weight=balanced, penalty=l2, solver=liblinear ........\n",
      "[CV]  C=1, class_weight=balanced, penalty=l2, solver=liblinear, score=0.6406151304601332, total=   1.9s\n",
      "[CV] C=1, class_weight=balanced, penalty=l2, solver=newton-cg ........\n",
      "[CV]  C=1, class_weight=balanced, penalty=l2, solver=newton-cg, score=0.6335390146730152, total=   4.4s\n",
      "[CV] C=1, class_weight=balanced, penalty=l2, solver=newton-cg ........\n",
      "[CV]  C=1, class_weight=balanced, penalty=l2, solver=newton-cg, score=0.6435633943104244, total=   3.6s\n",
      "[CV] C=1, class_weight=balanced, penalty=l2, solver=newton-cg ........\n",
      "[CV]  C=1, class_weight=balanced, penalty=l2, solver=newton-cg, score=0.6406151304601332, total=   3.9s\n",
      "[CV] C=1, class_weight=balanced, penalty=l2, solver=lbfgs ............\n",
      "[CV]  C=1, class_weight=balanced, penalty=l2, solver=lbfgs, score=0.6335876008162472, total=   0.9s\n",
      "[CV] C=1, class_weight=balanced, penalty=l2, solver=lbfgs ............\n",
      "[CV]  C=1, class_weight=balanced, penalty=l2, solver=lbfgs, score=0.643320457692588, total=   0.9s\n",
      "[CV] C=1, class_weight=balanced, penalty=l2, solver=lbfgs ............\n",
      "[CV]  C=1, class_weight=balanced, penalty=l2, solver=lbfgs, score=0.640736601720033, total=   0.9s\n",
      "[CV] C=1, class_weight=balanced, penalty=l2, solver=sag ..............\n"
     ]
    },
    {
     "name": "stderr",
     "output_type": "stream",
     "text": [
      "/anaconda3/lib/python3.6/site-packages/sklearn/linear_model/sag.py:326: ConvergenceWarning: The max_iter was reached which means the coef_ did not converge\n",
      "  \"the coef_ did not converge\", ConvergenceWarning)\n"
     ]
    },
    {
     "name": "stdout",
     "output_type": "stream",
     "text": [
      "[CV]  C=1, class_weight=balanced, penalty=l2, solver=sag, score=0.633757652317559, total=  10.9s\n",
      "[CV] C=1, class_weight=balanced, penalty=l2, solver=sag ..............\n"
     ]
    },
    {
     "name": "stderr",
     "output_type": "stream",
     "text": [
      "/anaconda3/lib/python3.6/site-packages/sklearn/linear_model/sag.py:326: ConvergenceWarning: The max_iter was reached which means the coef_ did not converge\n",
      "  \"the coef_ did not converge\", ConvergenceWarning)\n"
     ]
    },
    {
     "name": "stdout",
     "output_type": "stream",
     "text": [
      "[CV]  C=1, class_weight=balanced, penalty=l2, solver=sag, score=0.6439520928989627, total=  11.0s\n",
      "[CV] C=1, class_weight=balanced, penalty=l2, solver=sag ..............\n"
     ]
    },
    {
     "name": "stderr",
     "output_type": "stream",
     "text": [
      "/anaconda3/lib/python3.6/site-packages/sklearn/linear_model/sag.py:326: ConvergenceWarning: The max_iter was reached which means the coef_ did not converge\n",
      "  \"the coef_ did not converge\", ConvergenceWarning)\n"
     ]
    },
    {
     "name": "stdout",
     "output_type": "stream",
     "text": [
      "[CV]  C=1, class_weight=balanced, penalty=l2, solver=sag, score=0.6406151304601332, total=  11.1s\n",
      "[CV] C=1, class_weight=balanced, penalty=l2, solver=saga .............\n"
     ]
    },
    {
     "name": "stderr",
     "output_type": "stream",
     "text": [
      "/anaconda3/lib/python3.6/site-packages/sklearn/linear_model/sag.py:326: ConvergenceWarning: The max_iter was reached which means the coef_ did not converge\n",
      "  \"the coef_ did not converge\", ConvergenceWarning)\n"
     ]
    },
    {
     "name": "stdout",
     "output_type": "stream",
     "text": [
      "[CV]  C=1, class_weight=balanced, penalty=l2, solver=saga, score=0.633781945389175, total=  11.4s\n",
      "[CV] C=1, class_weight=balanced, penalty=l2, solver=saga .............\n"
     ]
    },
    {
     "name": "stderr",
     "output_type": "stream",
     "text": [
      "/anaconda3/lib/python3.6/site-packages/sklearn/linear_model/sag.py:326: ConvergenceWarning: The max_iter was reached which means the coef_ did not converge\n",
      "  \"the coef_ did not converge\", ConvergenceWarning)\n"
     ]
    },
    {
     "name": "stdout",
     "output_type": "stream",
     "text": [
      "[CV]  C=1, class_weight=balanced, penalty=l2, solver=saga, score=0.6450453076792265, total=  11.7s\n",
      "[CV] C=1, class_weight=balanced, penalty=l2, solver=saga .............\n"
     ]
    },
    {
     "name": "stderr",
     "output_type": "stream",
     "text": [
      "/anaconda3/lib/python3.6/site-packages/sklearn/linear_model/sag.py:326: ConvergenceWarning: The max_iter was reached which means the coef_ did not converge\n",
      "  \"the coef_ did not converge\", ConvergenceWarning)\n"
     ]
    },
    {
     "name": "stdout",
     "output_type": "stream",
     "text": [
      "[CV]  C=1, class_weight=balanced, penalty=l2, solver=saga, score=0.6412467810116127, total=  11.5s\n",
      "[CV] C=5, class_weight=None, penalty=l1, solver=liblinear ............\n",
      "[CV]  C=5, class_weight=None, penalty=l1, solver=liblinear, score=0.8445729278009911, total=  12.9s\n",
      "[CV] C=5, class_weight=None, penalty=l1, solver=liblinear ............\n",
      "[CV]  C=5, class_weight=None, penalty=l1, solver=liblinear, score=0.843767461069407, total=   2.6s\n",
      "[CV] C=5, class_weight=None, penalty=l1, solver=liblinear ............\n",
      "[CV]  C=5, class_weight=None, penalty=l1, solver=liblinear, score=0.8443224333122783, total=   1.9s\n",
      "[CV] C=5, class_weight=None, penalty=l1, solver=newton-cg ............\n",
      "[CV]  C=5, class_weight=None, penalty=l1, solver=newton-cg, score=0, total=   0.1s\n",
      "[CV] C=5, class_weight=None, penalty=l1, solver=newton-cg ............\n"
     ]
    },
    {
     "name": "stderr",
     "output_type": "stream",
     "text": [
      "/anaconda3/lib/python3.6/site-packages/sklearn/model_selection/_validation.py:479: FitFailedWarning: Classifier fit failed. The score on this train-test partition for these parameters will be set to 0.000000. Details: \n",
      "ValueError('Solver newton-cg supports only l2 penalties, got l1 penalty.',)\n",
      "  \"Details: \\n%r\" % (error_score, e), FitFailedWarning)\n",
      "/anaconda3/lib/python3.6/site-packages/sklearn/model_selection/_validation.py:479: FitFailedWarning: Classifier fit failed. The score on this train-test partition for these parameters will be set to 0.000000. Details: \n",
      "ValueError('Solver newton-cg supports only l2 penalties, got l1 penalty.',)\n",
      "  \"Details: \\n%r\" % (error_score, e), FitFailedWarning)\n",
      "/anaconda3/lib/python3.6/site-packages/sklearn/model_selection/_validation.py:479: FitFailedWarning: Classifier fit failed. The score on this train-test partition for these parameters will be set to 0.000000. Details: \n",
      "ValueError('Solver newton-cg supports only l2 penalties, got l1 penalty.',)\n",
      "  \"Details: \\n%r\" % (error_score, e), FitFailedWarning)\n"
     ]
    },
    {
     "name": "stdout",
     "output_type": "stream",
     "text": [
      "[CV]  C=5, class_weight=None, penalty=l1, solver=newton-cg, score=0, total=   0.1s\n",
      "[CV] C=5, class_weight=None, penalty=l1, solver=newton-cg ............\n",
      "[CV]  C=5, class_weight=None, penalty=l1, solver=newton-cg, score=0, total=   0.1s\n",
      "[CV] C=5, class_weight=None, penalty=l1, solver=lbfgs ................\n",
      "[CV]  C=5, class_weight=None, penalty=l1, solver=lbfgs, score=0, total=   0.1s\n",
      "[CV] C=5, class_weight=None, penalty=l1, solver=lbfgs ................\n"
     ]
    },
    {
     "name": "stderr",
     "output_type": "stream",
     "text": [
      "/anaconda3/lib/python3.6/site-packages/sklearn/model_selection/_validation.py:479: FitFailedWarning: Classifier fit failed. The score on this train-test partition for these parameters will be set to 0.000000. Details: \n",
      "ValueError('Solver lbfgs supports only l2 penalties, got l1 penalty.',)\n",
      "  \"Details: \\n%r\" % (error_score, e), FitFailedWarning)\n",
      "/anaconda3/lib/python3.6/site-packages/sklearn/model_selection/_validation.py:479: FitFailedWarning: Classifier fit failed. The score on this train-test partition for these parameters will be set to 0.000000. Details: \n",
      "ValueError('Solver lbfgs supports only l2 penalties, got l1 penalty.',)\n",
      "  \"Details: \\n%r\" % (error_score, e), FitFailedWarning)\n",
      "/anaconda3/lib/python3.6/site-packages/sklearn/model_selection/_validation.py:479: FitFailedWarning: Classifier fit failed. The score on this train-test partition for these parameters will be set to 0.000000. Details: \n",
      "ValueError('Solver lbfgs supports only l2 penalties, got l1 penalty.',)\n",
      "  \"Details: \\n%r\" % (error_score, e), FitFailedWarning)\n"
     ]
    },
    {
     "name": "stdout",
     "output_type": "stream",
     "text": [
      "[CV]  C=5, class_weight=None, penalty=l1, solver=lbfgs, score=0, total=   0.1s\n",
      "[CV] C=5, class_weight=None, penalty=l1, solver=lbfgs ................\n",
      "[CV]  C=5, class_weight=None, penalty=l1, solver=lbfgs, score=0, total=   0.1s\n",
      "[CV] C=5, class_weight=None, penalty=l1, solver=sag ..................\n",
      "[CV]  C=5, class_weight=None, penalty=l1, solver=sag, score=0, total=   0.1s\n",
      "[CV] C=5, class_weight=None, penalty=l1, solver=sag ..................\n"
     ]
    },
    {
     "name": "stderr",
     "output_type": "stream",
     "text": [
      "/anaconda3/lib/python3.6/site-packages/sklearn/model_selection/_validation.py:479: FitFailedWarning: Classifier fit failed. The score on this train-test partition for these parameters will be set to 0.000000. Details: \n",
      "ValueError('Solver sag supports only l2 penalties, got l1 penalty.',)\n",
      "  \"Details: \\n%r\" % (error_score, e), FitFailedWarning)\n",
      "/anaconda3/lib/python3.6/site-packages/sklearn/model_selection/_validation.py:479: FitFailedWarning: Classifier fit failed. The score on this train-test partition for these parameters will be set to 0.000000. Details: \n",
      "ValueError('Solver sag supports only l2 penalties, got l1 penalty.',)\n",
      "  \"Details: \\n%r\" % (error_score, e), FitFailedWarning)\n",
      "/anaconda3/lib/python3.6/site-packages/sklearn/model_selection/_validation.py:479: FitFailedWarning: Classifier fit failed. The score on this train-test partition for these parameters will be set to 0.000000. Details: \n",
      "ValueError('Solver sag supports only l2 penalties, got l1 penalty.',)\n",
      "  \"Details: \\n%r\" % (error_score, e), FitFailedWarning)\n"
     ]
    },
    {
     "name": "stdout",
     "output_type": "stream",
     "text": [
      "[CV]  C=5, class_weight=None, penalty=l1, solver=sag, score=0, total=   0.1s\n",
      "[CV] C=5, class_weight=None, penalty=l1, solver=sag ..................\n",
      "[CV]  C=5, class_weight=None, penalty=l1, solver=sag, score=0, total=   0.1s\n",
      "[CV] C=5, class_weight=None, penalty=l1, solver=saga .................\n"
     ]
    },
    {
     "name": "stderr",
     "output_type": "stream",
     "text": [
      "/anaconda3/lib/python3.6/site-packages/sklearn/linear_model/sag.py:326: ConvergenceWarning: The max_iter was reached which means the coef_ did not converge\n",
      "  \"the coef_ did not converge\", ConvergenceWarning)\n"
     ]
    },
    {
     "name": "stdout",
     "output_type": "stream",
     "text": [
      "[CV]  C=5, class_weight=None, penalty=l1, solver=saga, score=0.8445486347293751, total=  14.9s\n",
      "[CV] C=5, class_weight=None, penalty=l1, solver=saga .................\n"
     ]
    },
    {
     "name": "stderr",
     "output_type": "stream",
     "text": [
      "/anaconda3/lib/python3.6/site-packages/sklearn/linear_model/sag.py:326: ConvergenceWarning: The max_iter was reached which means the coef_ did not converge\n",
      "  \"the coef_ did not converge\", ConvergenceWarning)\n"
     ]
    },
    {
     "name": "stdout",
     "output_type": "stream",
     "text": [
      "[CV]  C=5, class_weight=None, penalty=l1, solver=saga, score=0.8437188737458398, total=  14.9s\n",
      "[CV] C=5, class_weight=None, penalty=l1, solver=saga .................\n"
     ]
    },
    {
     "name": "stderr",
     "output_type": "stream",
     "text": [
      "/anaconda3/lib/python3.6/site-packages/sklearn/linear_model/sag.py:326: ConvergenceWarning: The max_iter was reached which means the coef_ did not converge\n",
      "  \"the coef_ did not converge\", ConvergenceWarning)\n"
     ]
    },
    {
     "name": "stdout",
     "output_type": "stream",
     "text": [
      "[CV]  C=5, class_weight=None, penalty=l1, solver=saga, score=0.8443467275642583, total=  15.2s\n",
      "[CV] C=5, class_weight=None, penalty=l2, solver=liblinear ............\n",
      "[CV]  C=5, class_weight=None, penalty=l2, solver=liblinear, score=0.8445243416577592, total=   1.0s\n",
      "[CV] C=5, class_weight=None, penalty=l2, solver=liblinear ............\n",
      "[CV]  C=5, class_weight=None, penalty=l2, solver=liblinear, score=0.843767461069407, total=   2.3s\n",
      "[CV] C=5, class_weight=None, penalty=l2, solver=liblinear ............\n",
      "[CV]  C=5, class_weight=None, penalty=l2, solver=liblinear, score=0.8443224333122783, total=   2.0s\n",
      "[CV] C=5, class_weight=None, penalty=l2, solver=newton-cg ............\n",
      "[CV]  C=5, class_weight=None, penalty=l2, solver=newton-cg, score=0.8445243416577592, total=   4.0s\n",
      "[CV] C=5, class_weight=None, penalty=l2, solver=newton-cg ............\n",
      "[CV]  C=5, class_weight=None, penalty=l2, solver=newton-cg, score=0.843767461069407, total=   4.3s\n",
      "[CV] C=5, class_weight=None, penalty=l2, solver=newton-cg ............\n",
      "[CV]  C=5, class_weight=None, penalty=l2, solver=newton-cg, score=0.8443224333122783, total=   4.7s\n",
      "[CV] C=5, class_weight=None, penalty=l2, solver=lbfgs ................\n",
      "[CV]  C=5, class_weight=None, penalty=l2, solver=lbfgs, score=0.8445486347293751, total=   0.8s\n",
      "[CV] C=5, class_weight=None, penalty=l2, solver=lbfgs ................\n",
      "[CV]  C=5, class_weight=None, penalty=l2, solver=lbfgs, score=0.843767461069407, total=   0.8s\n",
      "[CV] C=5, class_weight=None, penalty=l2, solver=lbfgs ................\n",
      "[CV]  C=5, class_weight=None, penalty=l2, solver=lbfgs, score=0.8443467275642583, total=   0.8s\n",
      "[CV] C=5, class_weight=None, penalty=l2, solver=sag ..................\n"
     ]
    },
    {
     "name": "stderr",
     "output_type": "stream",
     "text": [
      "/anaconda3/lib/python3.6/site-packages/sklearn/linear_model/sag.py:326: ConvergenceWarning: The max_iter was reached which means the coef_ did not converge\n",
      "  \"the coef_ did not converge\", ConvergenceWarning)\n"
     ]
    },
    {
     "name": "stdout",
     "output_type": "stream",
     "text": [
      "[CV]  C=5, class_weight=None, penalty=l2, solver=sag, score=0.8445000485861432, total=  11.0s\n",
      "[CV] C=5, class_weight=None, penalty=l2, solver=sag ..................\n"
     ]
    },
    {
     "name": "stderr",
     "output_type": "stream",
     "text": [
      "/anaconda3/lib/python3.6/site-packages/sklearn/linear_model/sag.py:326: ConvergenceWarning: The max_iter was reached which means the coef_ did not converge\n",
      "  \"the coef_ did not converge\", ConvergenceWarning)\n"
     ]
    },
    {
     "name": "stdout",
     "output_type": "stream",
     "text": [
      "[CV]  C=5, class_weight=None, penalty=l2, solver=sag, score=0.8437431674076233, total=  10.7s\n",
      "[CV] C=5, class_weight=None, penalty=l2, solver=sag ..................\n"
     ]
    },
    {
     "name": "stderr",
     "output_type": "stream",
     "text": [
      "/anaconda3/lib/python3.6/site-packages/sklearn/linear_model/sag.py:326: ConvergenceWarning: The max_iter was reached which means the coef_ did not converge\n",
      "  \"the coef_ did not converge\", ConvergenceWarning)\n"
     ]
    },
    {
     "name": "stdout",
     "output_type": "stream",
     "text": [
      "[CV]  C=5, class_weight=None, penalty=l2, solver=sag, score=0.8443467275642583, total=  10.4s\n",
      "[CV] C=5, class_weight=None, penalty=l2, solver=saga .................\n"
     ]
    },
    {
     "name": "stderr",
     "output_type": "stream",
     "text": [
      "/anaconda3/lib/python3.6/site-packages/sklearn/linear_model/sag.py:326: ConvergenceWarning: The max_iter was reached which means the coef_ did not converge\n",
      "  \"the coef_ did not converge\", ConvergenceWarning)\n"
     ]
    },
    {
     "name": "stdout",
     "output_type": "stream",
     "text": [
      "[CV]  C=5, class_weight=None, penalty=l2, solver=saga, score=0.8445729278009911, total=  11.2s\n",
      "[CV] C=5, class_weight=None, penalty=l2, solver=saga .................\n"
     ]
    },
    {
     "name": "stderr",
     "output_type": "stream",
     "text": [
      "/anaconda3/lib/python3.6/site-packages/sklearn/linear_model/sag.py:326: ConvergenceWarning: The max_iter was reached which means the coef_ did not converge\n",
      "  \"the coef_ did not converge\", ConvergenceWarning)\n"
     ]
    },
    {
     "name": "stdout",
     "output_type": "stream",
     "text": [
      "[CV]  C=5, class_weight=None, penalty=l2, solver=saga, score=0.8435488181133542, total=  11.4s\n",
      "[CV] C=5, class_weight=None, penalty=l2, solver=saga .................\n"
     ]
    },
    {
     "name": "stderr",
     "output_type": "stream",
     "text": [
      "/anaconda3/lib/python3.6/site-packages/sklearn/linear_model/sag.py:326: ConvergenceWarning: The max_iter was reached which means the coef_ did not converge\n",
      "  \"the coef_ did not converge\", ConvergenceWarning)\n"
     ]
    },
    {
     "name": "stdout",
     "output_type": "stream",
     "text": [
      "[CV]  C=5, class_weight=None, penalty=l2, solver=saga, score=0.8442738448083184, total=  11.5s\n",
      "[CV] C=5, class_weight=balanced, penalty=l1, solver=liblinear ........\n",
      "[CV]  C=5, class_weight=balanced, penalty=l1, solver=liblinear, score=0.6335876008162472, total=  24.1s\n",
      "[CV] C=5, class_weight=balanced, penalty=l1, solver=liblinear ........\n",
      "[CV]  C=5, class_weight=balanced, penalty=l1, solver=liblinear, score=0.6436848626193427, total=   8.2s\n",
      "[CV] C=5, class_weight=balanced, penalty=l1, solver=liblinear ........\n",
      "[CV]  C=5, class_weight=balanced, penalty=l1, solver=liblinear, score=0.6406637189640931, total=  18.7s\n",
      "[CV] C=5, class_weight=balanced, penalty=l1, solver=newton-cg ........\n",
      "[CV]  C=5, class_weight=balanced, penalty=l1, solver=newton-cg, score=0, total=   0.1s\n",
      "[CV] C=5, class_weight=balanced, penalty=l1, solver=newton-cg ........\n"
     ]
    },
    {
     "name": "stderr",
     "output_type": "stream",
     "text": [
      "/anaconda3/lib/python3.6/site-packages/sklearn/model_selection/_validation.py:479: FitFailedWarning: Classifier fit failed. The score on this train-test partition for these parameters will be set to 0.000000. Details: \n",
      "ValueError('Solver newton-cg supports only l2 penalties, got l1 penalty.',)\n",
      "  \"Details: \\n%r\" % (error_score, e), FitFailedWarning)\n",
      "/anaconda3/lib/python3.6/site-packages/sklearn/model_selection/_validation.py:479: FitFailedWarning: Classifier fit failed. The score on this train-test partition for these parameters will be set to 0.000000. Details: \n",
      "ValueError('Solver newton-cg supports only l2 penalties, got l1 penalty.',)\n",
      "  \"Details: \\n%r\" % (error_score, e), FitFailedWarning)\n",
      "/anaconda3/lib/python3.6/site-packages/sklearn/model_selection/_validation.py:479: FitFailedWarning: Classifier fit failed. The score on this train-test partition for these parameters will be set to 0.000000. Details: \n",
      "ValueError('Solver newton-cg supports only l2 penalties, got l1 penalty.',)\n",
      "  \"Details: \\n%r\" % (error_score, e), FitFailedWarning)\n"
     ]
    },
    {
     "name": "stdout",
     "output_type": "stream",
     "text": [
      "[CV]  C=5, class_weight=balanced, penalty=l1, solver=newton-cg, score=0, total=   0.1s\n",
      "[CV] C=5, class_weight=balanced, penalty=l1, solver=newton-cg ........\n",
      "[CV]  C=5, class_weight=balanced, penalty=l1, solver=newton-cg, score=0, total=   0.1s\n",
      "[CV] C=5, class_weight=balanced, penalty=l1, solver=lbfgs ............\n",
      "[CV]  C=5, class_weight=balanced, penalty=l1, solver=lbfgs, score=0, total=   0.1s\n",
      "[CV] C=5, class_weight=balanced, penalty=l1, solver=lbfgs ............\n"
     ]
    },
    {
     "name": "stderr",
     "output_type": "stream",
     "text": [
      "/anaconda3/lib/python3.6/site-packages/sklearn/model_selection/_validation.py:479: FitFailedWarning: Classifier fit failed. The score on this train-test partition for these parameters will be set to 0.000000. Details: \n",
      "ValueError('Solver lbfgs supports only l2 penalties, got l1 penalty.',)\n",
      "  \"Details: \\n%r\" % (error_score, e), FitFailedWarning)\n",
      "/anaconda3/lib/python3.6/site-packages/sklearn/model_selection/_validation.py:479: FitFailedWarning: Classifier fit failed. The score on this train-test partition for these parameters will be set to 0.000000. Details: \n",
      "ValueError('Solver lbfgs supports only l2 penalties, got l1 penalty.',)\n",
      "  \"Details: \\n%r\" % (error_score, e), FitFailedWarning)\n"
     ]
    },
    {
     "name": "stdout",
     "output_type": "stream",
     "text": [
      "[CV]  C=5, class_weight=balanced, penalty=l1, solver=lbfgs, score=0, total=   0.1s\n",
      "[CV] C=5, class_weight=balanced, penalty=l1, solver=lbfgs ............\n",
      "[CV]  C=5, class_weight=balanced, penalty=l1, solver=lbfgs, score=0, total=   0.1s\n",
      "[CV] C=5, class_weight=balanced, penalty=l1, solver=sag ..............\n",
      "[CV]  C=5, class_weight=balanced, penalty=l1, solver=sag, score=0, total=   0.1s\n",
      "[CV] C=5, class_weight=balanced, penalty=l1, solver=sag ..............\n"
     ]
    },
    {
     "name": "stderr",
     "output_type": "stream",
     "text": [
      "/anaconda3/lib/python3.6/site-packages/sklearn/model_selection/_validation.py:479: FitFailedWarning: Classifier fit failed. The score on this train-test partition for these parameters will be set to 0.000000. Details: \n",
      "ValueError('Solver lbfgs supports only l2 penalties, got l1 penalty.',)\n",
      "  \"Details: \\n%r\" % (error_score, e), FitFailedWarning)\n",
      "/anaconda3/lib/python3.6/site-packages/sklearn/model_selection/_validation.py:479: FitFailedWarning: Classifier fit failed. The score on this train-test partition for these parameters will be set to 0.000000. Details: \n",
      "ValueError('Solver sag supports only l2 penalties, got l1 penalty.',)\n",
      "  \"Details: \\n%r\" % (error_score, e), FitFailedWarning)\n",
      "/anaconda3/lib/python3.6/site-packages/sklearn/model_selection/_validation.py:479: FitFailedWarning: Classifier fit failed. The score on this train-test partition for these parameters will be set to 0.000000. Details: \n",
      "ValueError('Solver sag supports only l2 penalties, got l1 penalty.',)\n",
      "  \"Details: \\n%r\" % (error_score, e), FitFailedWarning)\n"
     ]
    },
    {
     "name": "stdout",
     "output_type": "stream",
     "text": [
      "[CV]  C=5, class_weight=balanced, penalty=l1, solver=sag, score=0, total=   0.1s\n",
      "[CV] C=5, class_weight=balanced, penalty=l1, solver=sag ..............\n",
      "[CV]  C=5, class_weight=balanced, penalty=l1, solver=sag, score=0, total=   0.1s\n",
      "[CV] C=5, class_weight=balanced, penalty=l1, solver=saga .............\n"
     ]
    },
    {
     "name": "stderr",
     "output_type": "stream",
     "text": [
      "/anaconda3/lib/python3.6/site-packages/sklearn/model_selection/_validation.py:479: FitFailedWarning: Classifier fit failed. The score on this train-test partition for these parameters will be set to 0.000000. Details: \n",
      "ValueError('Solver sag supports only l2 penalties, got l1 penalty.',)\n",
      "  \"Details: \\n%r\" % (error_score, e), FitFailedWarning)\n",
      "/anaconda3/lib/python3.6/site-packages/sklearn/linear_model/sag.py:326: ConvergenceWarning: The max_iter was reached which means the coef_ did not converge\n",
      "  \"the coef_ did not converge\", ConvergenceWarning)\n"
     ]
    },
    {
     "name": "stdout",
     "output_type": "stream",
     "text": [
      "[CV]  C=5, class_weight=balanced, penalty=l1, solver=saga, score=0.6336847731027111, total=  14.3s\n",
      "[CV] C=5, class_weight=balanced, penalty=l1, solver=saga .............\n"
     ]
    },
    {
     "name": "stderr",
     "output_type": "stream",
     "text": [
      "/anaconda3/lib/python3.6/site-packages/sklearn/linear_model/sag.py:326: ConvergenceWarning: The max_iter was reached which means the coef_ did not converge\n",
      "  \"the coef_ did not converge\", ConvergenceWarning)\n"
     ]
    },
    {
     "name": "stdout",
     "output_type": "stream",
     "text": [
      "[CV]  C=5, class_weight=balanced, penalty=l1, solver=saga, score=0.6439763865607463, total=  15.1s\n",
      "[CV] C=5, class_weight=balanced, penalty=l1, solver=saga .............\n"
     ]
    },
    {
     "name": "stderr",
     "output_type": "stream",
     "text": [
      "/anaconda3/lib/python3.6/site-packages/sklearn/linear_model/sag.py:326: ConvergenceWarning: The max_iter was reached which means the coef_ did not converge\n",
      "  \"the coef_ did not converge\", ConvergenceWarning)\n"
     ]
    },
    {
     "name": "stdout",
     "output_type": "stream",
     "text": [
      "[CV]  C=5, class_weight=balanced, penalty=l1, solver=saga, score=0.6406394247121131, total=  15.1s\n",
      "[CV] C=5, class_weight=balanced, penalty=l2, solver=liblinear ........\n",
      "[CV]  C=5, class_weight=balanced, penalty=l2, solver=liblinear, score=0.6335633077446312, total=   2.7s\n",
      "[CV] C=5, class_weight=balanced, penalty=l2, solver=liblinear ........\n",
      "[CV]  C=5, class_weight=balanced, penalty=l2, solver=liblinear, score=0.6435391006486407, total=   2.5s\n",
      "[CV] C=5, class_weight=balanced, penalty=l2, solver=liblinear ........\n",
      "[CV]  C=5, class_weight=balanced, penalty=l2, solver=liblinear, score=0.6404450706962732, total=   2.9s\n",
      "[CV] C=5, class_weight=balanced, penalty=l2, solver=newton-cg ........\n",
      "[CV]  C=5, class_weight=balanced, penalty=l2, solver=newton-cg, score=0.6335633077446312, total=   4.5s\n",
      "[CV] C=5, class_weight=balanced, penalty=l2, solver=newton-cg ........\n",
      "[CV]  C=5, class_weight=balanced, penalty=l2, solver=newton-cg, score=0.643587687972208, total=   5.5s\n",
      "[CV] C=5, class_weight=balanced, penalty=l2, solver=newton-cg ........\n",
      "[CV]  C=5, class_weight=balanced, penalty=l2, solver=newton-cg, score=0.6404450706962732, total=   6.7s\n",
      "[CV] C=5, class_weight=balanced, penalty=l2, solver=lbfgs ............\n",
      "[CV]  C=5, class_weight=balanced, penalty=l2, solver=lbfgs, score=0.633830531532407, total=   0.9s\n",
      "[CV] C=5, class_weight=balanced, penalty=l2, solver=lbfgs ............\n",
      "[CV]  C=5, class_weight=balanced, penalty=l2, solver=lbfgs, score=0.6433933386779389, total=   0.9s\n",
      "[CV] C=5, class_weight=balanced, penalty=l2, solver=lbfgs ............\n",
      "[CV]  C=5, class_weight=balanced, penalty=l2, solver=lbfgs, score=0.6404207764442933, total=   0.9s\n",
      "[CV] C=5, class_weight=balanced, penalty=l2, solver=sag ..............\n"
     ]
    },
    {
     "name": "stderr",
     "output_type": "stream",
     "text": [
      "/anaconda3/lib/python3.6/site-packages/sklearn/linear_model/sag.py:326: ConvergenceWarning: The max_iter was reached which means the coef_ did not converge\n",
      "  \"the coef_ did not converge\", ConvergenceWarning)\n"
     ]
    },
    {
     "name": "stdout",
     "output_type": "stream",
     "text": [
      "[CV]  C=5, class_weight=balanced, penalty=l2, solver=sag, score=0.6335633077446312, total=  10.9s\n",
      "[CV] C=5, class_weight=balanced, penalty=l2, solver=sag ..............\n"
     ]
    },
    {
     "name": "stderr",
     "output_type": "stream",
     "text": [
      "/anaconda3/lib/python3.6/site-packages/sklearn/linear_model/sag.py:326: ConvergenceWarning: The max_iter was reached which means the coef_ did not converge\n",
      "  \"the coef_ did not converge\", ConvergenceWarning)\n"
     ]
    },
    {
     "name": "stdout",
     "output_type": "stream",
     "text": [
      "[CV]  C=5, class_weight=balanced, penalty=l2, solver=sag, score=0.6440249738843136, total=  10.8s\n",
      "[CV] C=5, class_weight=balanced, penalty=l2, solver=sag ..............\n"
     ]
    },
    {
     "name": "stderr",
     "output_type": "stream",
     "text": [
      "/anaconda3/lib/python3.6/site-packages/sklearn/linear_model/sag.py:326: ConvergenceWarning: The max_iter was reached which means the coef_ did not converge\n",
      "  \"the coef_ did not converge\", ConvergenceWarning)\n"
     ]
    },
    {
     "name": "stdout",
     "output_type": "stream",
     "text": [
      "[CV]  C=5, class_weight=balanced, penalty=l2, solver=sag, score=0.6405908362081532, total=   9.3s\n",
      "[CV] C=5, class_weight=balanced, penalty=l2, solver=saga .............\n"
     ]
    },
    {
     "name": "stderr",
     "output_type": "stream",
     "text": [
      "/anaconda3/lib/python3.6/site-packages/sklearn/linear_model/sag.py:326: ConvergenceWarning: The max_iter was reached which means the coef_ did not converge\n",
      "  \"the coef_ did not converge\", ConvergenceWarning)\n"
     ]
    },
    {
     "name": "stdout",
     "output_type": "stream",
     "text": [
      "[CV]  C=5, class_weight=balanced, penalty=l2, solver=saga, score=0.6336847731027111, total=  10.0s\n",
      "[CV] C=5, class_weight=balanced, penalty=l2, solver=saga .............\n"
     ]
    },
    {
     "name": "stderr",
     "output_type": "stream",
     "text": [
      "/anaconda3/lib/python3.6/site-packages/sklearn/linear_model/sag.py:326: ConvergenceWarning: The max_iter was reached which means the coef_ did not converge\n",
      "  \"the coef_ did not converge\", ConvergenceWarning)\n"
     ]
    },
    {
     "name": "stdout",
     "output_type": "stream",
     "text": [
      "[CV]  C=5, class_weight=balanced, penalty=l2, solver=saga, score=0.6451181886645774, total=  11.1s\n",
      "[CV] C=5, class_weight=balanced, penalty=l2, solver=saga .............\n"
     ]
    },
    {
     "name": "stderr",
     "output_type": "stream",
     "text": [
      "/anaconda3/lib/python3.6/site-packages/sklearn/linear_model/sag.py:326: ConvergenceWarning: The max_iter was reached which means the coef_ did not converge\n",
      "  \"the coef_ did not converge\", ConvergenceWarning)\n"
     ]
    },
    {
     "name": "stdout",
     "output_type": "stream",
     "text": [
      "[CV]  C=5, class_weight=balanced, penalty=l2, solver=saga, score=0.6412710752635926, total=  11.3s\n",
      "[CV] C=10, class_weight=None, penalty=l1, solver=liblinear ...........\n",
      "[CV]  C=10, class_weight=None, penalty=l1, solver=liblinear, score=0.8445486347293751, total=  13.9s\n",
      "[CV] C=10, class_weight=None, penalty=l1, solver=liblinear ...........\n",
      "[CV]  C=10, class_weight=None, penalty=l1, solver=liblinear, score=0.843767461069407, total=   3.4s\n",
      "[CV] C=10, class_weight=None, penalty=l1, solver=liblinear ...........\n",
      "[CV]  C=10, class_weight=None, penalty=l1, solver=liblinear, score=0.8443224333122783, total=   4.4s\n",
      "[CV] C=10, class_weight=None, penalty=l1, solver=newton-cg ...........\n",
      "[CV]  C=10, class_weight=None, penalty=l1, solver=newton-cg, score=0, total=   0.1s\n",
      "[CV] C=10, class_weight=None, penalty=l1, solver=newton-cg ...........\n"
     ]
    },
    {
     "name": "stderr",
     "output_type": "stream",
     "text": [
      "/anaconda3/lib/python3.6/site-packages/sklearn/model_selection/_validation.py:479: FitFailedWarning: Classifier fit failed. The score on this train-test partition for these parameters will be set to 0.000000. Details: \n",
      "ValueError('Solver newton-cg supports only l2 penalties, got l1 penalty.',)\n",
      "  \"Details: \\n%r\" % (error_score, e), FitFailedWarning)\n",
      "/anaconda3/lib/python3.6/site-packages/sklearn/model_selection/_validation.py:479: FitFailedWarning: Classifier fit failed. The score on this train-test partition for these parameters will be set to 0.000000. Details: \n",
      "ValueError('Solver newton-cg supports only l2 penalties, got l1 penalty.',)\n",
      "  \"Details: \\n%r\" % (error_score, e), FitFailedWarning)\n"
     ]
    },
    {
     "name": "stdout",
     "output_type": "stream",
     "text": [
      "[CV]  C=10, class_weight=None, penalty=l1, solver=newton-cg, score=0, total=   0.1s\n",
      "[CV] C=10, class_weight=None, penalty=l1, solver=newton-cg ...........\n",
      "[CV]  C=10, class_weight=None, penalty=l1, solver=newton-cg, score=0, total=   0.1s\n",
      "[CV] C=10, class_weight=None, penalty=l1, solver=lbfgs ...............\n",
      "[CV]  C=10, class_weight=None, penalty=l1, solver=lbfgs, score=0, total=   0.1s\n",
      "[CV] C=10, class_weight=None, penalty=l1, solver=lbfgs ...............\n"
     ]
    },
    {
     "name": "stderr",
     "output_type": "stream",
     "text": [
      "/anaconda3/lib/python3.6/site-packages/sklearn/model_selection/_validation.py:479: FitFailedWarning: Classifier fit failed. The score on this train-test partition for these parameters will be set to 0.000000. Details: \n",
      "ValueError('Solver newton-cg supports only l2 penalties, got l1 penalty.',)\n",
      "  \"Details: \\n%r\" % (error_score, e), FitFailedWarning)\n",
      "/anaconda3/lib/python3.6/site-packages/sklearn/model_selection/_validation.py:479: FitFailedWarning: Classifier fit failed. The score on this train-test partition for these parameters will be set to 0.000000. Details: \n",
      "ValueError('Solver lbfgs supports only l2 penalties, got l1 penalty.',)\n",
      "  \"Details: \\n%r\" % (error_score, e), FitFailedWarning)\n",
      "/anaconda3/lib/python3.6/site-packages/sklearn/model_selection/_validation.py:479: FitFailedWarning: Classifier fit failed. The score on this train-test partition for these parameters will be set to 0.000000. Details: \n",
      "ValueError('Solver lbfgs supports only l2 penalties, got l1 penalty.',)\n",
      "  \"Details: \\n%r\" % (error_score, e), FitFailedWarning)\n"
     ]
    },
    {
     "name": "stdout",
     "output_type": "stream",
     "text": [
      "[CV]  C=10, class_weight=None, penalty=l1, solver=lbfgs, score=0, total=   0.1s\n",
      "[CV] C=10, class_weight=None, penalty=l1, solver=lbfgs ...............\n",
      "[CV]  C=10, class_weight=None, penalty=l1, solver=lbfgs, score=0, total=   0.1s\n",
      "[CV] C=10, class_weight=None, penalty=l1, solver=sag .................\n",
      "[CV]  C=10, class_weight=None, penalty=l1, solver=sag, score=0, total=   0.1s\n",
      "[CV] C=10, class_weight=None, penalty=l1, solver=sag .................\n"
     ]
    },
    {
     "name": "stderr",
     "output_type": "stream",
     "text": [
      "/anaconda3/lib/python3.6/site-packages/sklearn/model_selection/_validation.py:479: FitFailedWarning: Classifier fit failed. The score on this train-test partition for these parameters will be set to 0.000000. Details: \n",
      "ValueError('Solver lbfgs supports only l2 penalties, got l1 penalty.',)\n",
      "  \"Details: \\n%r\" % (error_score, e), FitFailedWarning)\n",
      "/anaconda3/lib/python3.6/site-packages/sklearn/model_selection/_validation.py:479: FitFailedWarning: Classifier fit failed. The score on this train-test partition for these parameters will be set to 0.000000. Details: \n",
      "ValueError('Solver sag supports only l2 penalties, got l1 penalty.',)\n",
      "  \"Details: \\n%r\" % (error_score, e), FitFailedWarning)\n",
      "/anaconda3/lib/python3.6/site-packages/sklearn/model_selection/_validation.py:479: FitFailedWarning: Classifier fit failed. The score on this train-test partition for these parameters will be set to 0.000000. Details: \n",
      "ValueError('Solver sag supports only l2 penalties, got l1 penalty.',)\n",
      "  \"Details: \\n%r\" % (error_score, e), FitFailedWarning)\n"
     ]
    },
    {
     "name": "stdout",
     "output_type": "stream",
     "text": [
      "[CV]  C=10, class_weight=None, penalty=l1, solver=sag, score=0, total=   0.1s\n",
      "[CV] C=10, class_weight=None, penalty=l1, solver=sag .................\n",
      "[CV]  C=10, class_weight=None, penalty=l1, solver=sag, score=0, total=   0.1s\n",
      "[CV] C=10, class_weight=None, penalty=l1, solver=saga ................\n"
     ]
    },
    {
     "name": "stderr",
     "output_type": "stream",
     "text": [
      "/anaconda3/lib/python3.6/site-packages/sklearn/model_selection/_validation.py:479: FitFailedWarning: Classifier fit failed. The score on this train-test partition for these parameters will be set to 0.000000. Details: \n",
      "ValueError('Solver sag supports only l2 penalties, got l1 penalty.',)\n",
      "  \"Details: \\n%r\" % (error_score, e), FitFailedWarning)\n",
      "/anaconda3/lib/python3.6/site-packages/sklearn/linear_model/sag.py:326: ConvergenceWarning: The max_iter was reached which means the coef_ did not converge\n",
      "  \"the coef_ did not converge\", ConvergenceWarning)\n"
     ]
    },
    {
     "name": "stdout",
     "output_type": "stream",
     "text": [
      "[CV]  C=10, class_weight=None, penalty=l1, solver=saga, score=0.8445000485861432, total=  14.8s\n",
      "[CV] C=10, class_weight=None, penalty=l1, solver=saga ................\n"
     ]
    },
    {
     "name": "stderr",
     "output_type": "stream",
     "text": [
      "/anaconda3/lib/python3.6/site-packages/sklearn/linear_model/sag.py:326: ConvergenceWarning: The max_iter was reached which means the coef_ did not converge\n",
      "  \"the coef_ did not converge\", ConvergenceWarning)\n"
     ]
    },
    {
     "name": "stdout",
     "output_type": "stream",
     "text": [
      "[CV]  C=10, class_weight=None, penalty=l1, solver=saga, score=0.8437188737458398, total=  14.1s\n",
      "[CV] C=10, class_weight=None, penalty=l1, solver=saga ................\n"
     ]
    },
    {
     "name": "stderr",
     "output_type": "stream",
     "text": [
      "/anaconda3/lib/python3.6/site-packages/sklearn/linear_model/sag.py:326: ConvergenceWarning: The max_iter was reached which means the coef_ did not converge\n",
      "  \"the coef_ did not converge\", ConvergenceWarning)\n"
     ]
    },
    {
     "name": "stdout",
     "output_type": "stream",
     "text": [
      "[CV]  C=10, class_weight=None, penalty=l1, solver=saga, score=0.8443467275642583, total=  13.4s\n",
      "[CV] C=10, class_weight=None, penalty=l2, solver=liblinear ...........\n",
      "[CV]  C=10, class_weight=None, penalty=l2, solver=liblinear, score=0.8445243416577592, total=   1.1s\n",
      "[CV] C=10, class_weight=None, penalty=l2, solver=liblinear ...........\n",
      "[CV]  C=10, class_weight=None, penalty=l2, solver=liblinear, score=0.843767461069407, total=   2.4s\n",
      "[CV] C=10, class_weight=None, penalty=l2, solver=liblinear ...........\n",
      "[CV]  C=10, class_weight=None, penalty=l2, solver=liblinear, score=0.8443224333122783, total=   2.2s\n",
      "[CV] C=10, class_weight=None, penalty=l2, solver=newton-cg ...........\n",
      "[CV]  C=10, class_weight=None, penalty=l2, solver=newton-cg, score=0.8445243416577592, total=   4.5s\n",
      "[CV] C=10, class_weight=None, penalty=l2, solver=newton-cg ...........\n",
      "[CV]  C=10, class_weight=None, penalty=l2, solver=newton-cg, score=0.843767461069407, total=   5.5s\n",
      "[CV] C=10, class_weight=None, penalty=l2, solver=newton-cg ...........\n",
      "[CV]  C=10, class_weight=None, penalty=l2, solver=newton-cg, score=0.8443224333122783, total=   6.7s\n",
      "[CV] C=10, class_weight=None, penalty=l2, solver=lbfgs ...............\n",
      "[CV]  C=10, class_weight=None, penalty=l2, solver=lbfgs, score=0.8445243416577592, total=   0.8s\n",
      "[CV] C=10, class_weight=None, penalty=l2, solver=lbfgs ...............\n",
      "[CV]  C=10, class_weight=None, penalty=l2, solver=lbfgs, score=0.843767461069407, total=   0.8s\n",
      "[CV] C=10, class_weight=None, penalty=l2, solver=lbfgs ...............\n",
      "[CV]  C=10, class_weight=None, penalty=l2, solver=lbfgs, score=0.8443467275642583, total=   0.9s\n",
      "[CV] C=10, class_weight=None, penalty=l2, solver=sag .................\n"
     ]
    },
    {
     "name": "stderr",
     "output_type": "stream",
     "text": [
      "/anaconda3/lib/python3.6/site-packages/sklearn/linear_model/sag.py:326: ConvergenceWarning: The max_iter was reached which means the coef_ did not converge\n",
      "  \"the coef_ did not converge\", ConvergenceWarning)\n"
     ]
    },
    {
     "name": "stdout",
     "output_type": "stream",
     "text": [
      "[CV]  C=10, class_weight=None, penalty=l2, solver=sag, score=0.8445000485861432, total=  10.8s\n",
      "[CV] C=10, class_weight=None, penalty=l2, solver=sag .................\n"
     ]
    },
    {
     "name": "stderr",
     "output_type": "stream",
     "text": [
      "/anaconda3/lib/python3.6/site-packages/sklearn/linear_model/sag.py:326: ConvergenceWarning: The max_iter was reached which means the coef_ did not converge\n",
      "  \"the coef_ did not converge\", ConvergenceWarning)\n"
     ]
    },
    {
     "name": "stdout",
     "output_type": "stream",
     "text": [
      "[CV]  C=10, class_weight=None, penalty=l2, solver=sag, score=0.843767461069407, total=  10.9s\n",
      "[CV] C=10, class_weight=None, penalty=l2, solver=sag .................\n"
     ]
    },
    {
     "name": "stderr",
     "output_type": "stream",
     "text": [
      "/anaconda3/lib/python3.6/site-packages/sklearn/linear_model/sag.py:326: ConvergenceWarning: The max_iter was reached which means the coef_ did not converge\n",
      "  \"the coef_ did not converge\", ConvergenceWarning)\n"
     ]
    },
    {
     "name": "stdout",
     "output_type": "stream",
     "text": [
      "[CV]  C=10, class_weight=None, penalty=l2, solver=sag, score=0.8443467275642583, total=  10.9s\n",
      "[CV] C=10, class_weight=None, penalty=l2, solver=saga ................\n"
     ]
    },
    {
     "name": "stderr",
     "output_type": "stream",
     "text": [
      "/anaconda3/lib/python3.6/site-packages/sklearn/linear_model/sag.py:326: ConvergenceWarning: The max_iter was reached which means the coef_ did not converge\n",
      "  \"the coef_ did not converge\", ConvergenceWarning)\n"
     ]
    },
    {
     "name": "stdout",
     "output_type": "stream",
     "text": [
      "[CV]  C=10, class_weight=None, penalty=l2, solver=saga, score=0.8445729278009911, total=  10.9s\n",
      "[CV] C=10, class_weight=None, penalty=l2, solver=saga ................\n"
     ]
    },
    {
     "name": "stderr",
     "output_type": "stream",
     "text": [
      "/anaconda3/lib/python3.6/site-packages/sklearn/linear_model/sag.py:326: ConvergenceWarning: The max_iter was reached which means the coef_ did not converge\n",
      "  \"the coef_ did not converge\", ConvergenceWarning)\n"
     ]
    },
    {
     "name": "stdout",
     "output_type": "stream",
     "text": [
      "[CV]  C=10, class_weight=None, penalty=l2, solver=saga, score=0.8435488181133542, total=  10.8s\n",
      "[CV] C=10, class_weight=None, penalty=l2, solver=saga ................\n"
     ]
    },
    {
     "name": "stderr",
     "output_type": "stream",
     "text": [
      "/anaconda3/lib/python3.6/site-packages/sklearn/linear_model/sag.py:326: ConvergenceWarning: The max_iter was reached which means the coef_ did not converge\n",
      "  \"the coef_ did not converge\", ConvergenceWarning)\n"
     ]
    },
    {
     "name": "stdout",
     "output_type": "stream",
     "text": [
      "[CV]  C=10, class_weight=None, penalty=l2, solver=saga, score=0.8442738448083184, total=  11.4s\n",
      "[CV] C=10, class_weight=balanced, penalty=l1, solver=liblinear .......\n",
      "[CV]  C=10, class_weight=balanced, penalty=l1, solver=liblinear, score=0.6335876008162472, total=   5.6s\n",
      "[CV] C=10, class_weight=balanced, penalty=l1, solver=liblinear .......\n",
      "[CV]  C=10, class_weight=balanced, penalty=l1, solver=liblinear, score=0.6436119816339917, total=   7.3s\n",
      "[CV] C=10, class_weight=balanced, penalty=l1, solver=liblinear .......\n",
      "[CV]  C=10, class_weight=balanced, penalty=l1, solver=liblinear, score=0.6405422477041932, total=   5.4s\n",
      "[CV] C=10, class_weight=balanced, penalty=l1, solver=newton-cg .......\n",
      "[CV]  C=10, class_weight=balanced, penalty=l1, solver=newton-cg, score=0, total=   0.1s\n",
      "[CV] C=10, class_weight=balanced, penalty=l1, solver=newton-cg .......\n",
      "[CV]  C=10, class_weight=balanced, penalty=l1, solver=newton-cg, score=0, total=   0.1s"
     ]
    },
    {
     "name": "stderr",
     "output_type": "stream",
     "text": [
      "/anaconda3/lib/python3.6/site-packages/sklearn/model_selection/_validation.py:479: FitFailedWarning: Classifier fit failed. The score on this train-test partition for these parameters will be set to 0.000000. Details: \n",
      "ValueError('Solver newton-cg supports only l2 penalties, got l1 penalty.',)\n",
      "  \"Details: \\n%r\" % (error_score, e), FitFailedWarning)\n",
      "/anaconda3/lib/python3.6/site-packages/sklearn/model_selection/_validation.py:479: FitFailedWarning: Classifier fit failed. The score on this train-test partition for these parameters will be set to 0.000000. Details: \n",
      "ValueError('Solver newton-cg supports only l2 penalties, got l1 penalty.',)\n",
      "  \"Details: \\n%r\" % (error_score, e), FitFailedWarning)\n",
      "/anaconda3/lib/python3.6/site-packages/sklearn/model_selection/_validation.py:479: FitFailedWarning: Classifier fit failed. The score on this train-test partition for these parameters will be set to 0.000000. Details: \n",
      "ValueError('Solver newton-cg supports only l2 penalties, got l1 penalty.',)\n",
      "  \"Details: \\n%r\" % (error_score, e), FitFailedWarning)\n"
     ]
    },
    {
     "name": "stdout",
     "output_type": "stream",
     "text": [
      "\n",
      "[CV] C=10, class_weight=balanced, penalty=l1, solver=newton-cg .......\n",
      "[CV]  C=10, class_weight=balanced, penalty=l1, solver=newton-cg, score=0, total=   0.1s\n",
      "[CV] C=10, class_weight=balanced, penalty=l1, solver=lbfgs ...........\n",
      "[CV]  C=10, class_weight=balanced, penalty=l1, solver=lbfgs, score=0, total=   0.1s\n",
      "[CV] C=10, class_weight=balanced, penalty=l1, solver=lbfgs ...........\n"
     ]
    },
    {
     "name": "stderr",
     "output_type": "stream",
     "text": [
      "/anaconda3/lib/python3.6/site-packages/sklearn/model_selection/_validation.py:479: FitFailedWarning: Classifier fit failed. The score on this train-test partition for these parameters will be set to 0.000000. Details: \n",
      "ValueError('Solver lbfgs supports only l2 penalties, got l1 penalty.',)\n",
      "  \"Details: \\n%r\" % (error_score, e), FitFailedWarning)\n",
      "/anaconda3/lib/python3.6/site-packages/sklearn/model_selection/_validation.py:479: FitFailedWarning: Classifier fit failed. The score on this train-test partition for these parameters will be set to 0.000000. Details: \n",
      "ValueError('Solver lbfgs supports only l2 penalties, got l1 penalty.',)\n",
      "  \"Details: \\n%r\" % (error_score, e), FitFailedWarning)\n",
      "/anaconda3/lib/python3.6/site-packages/sklearn/model_selection/_validation.py:479: FitFailedWarning: Classifier fit failed. The score on this train-test partition for these parameters will be set to 0.000000. Details: \n",
      "ValueError('Solver lbfgs supports only l2 penalties, got l1 penalty.',)\n",
      "  \"Details: \\n%r\" % (error_score, e), FitFailedWarning)\n"
     ]
    },
    {
     "name": "stdout",
     "output_type": "stream",
     "text": [
      "[CV]  C=10, class_weight=balanced, penalty=l1, solver=lbfgs, score=0, total=   0.1s\n",
      "[CV] C=10, class_weight=balanced, penalty=l1, solver=lbfgs ...........\n",
      "[CV]  C=10, class_weight=balanced, penalty=l1, solver=lbfgs, score=0, total=   0.1s\n",
      "[CV] C=10, class_weight=balanced, penalty=l1, solver=sag .............\n",
      "[CV]  C=10, class_weight=balanced, penalty=l1, solver=sag, score=0, total=   0.1s\n",
      "[CV] C=10, class_weight=balanced, penalty=l1, solver=sag .............\n"
     ]
    },
    {
     "name": "stderr",
     "output_type": "stream",
     "text": [
      "/anaconda3/lib/python3.6/site-packages/sklearn/model_selection/_validation.py:479: FitFailedWarning: Classifier fit failed. The score on this train-test partition for these parameters will be set to 0.000000. Details: \n",
      "ValueError('Solver sag supports only l2 penalties, got l1 penalty.',)\n",
      "  \"Details: \\n%r\" % (error_score, e), FitFailedWarning)\n",
      "/anaconda3/lib/python3.6/site-packages/sklearn/model_selection/_validation.py:479: FitFailedWarning: Classifier fit failed. The score on this train-test partition for these parameters will be set to 0.000000. Details: \n",
      "ValueError('Solver sag supports only l2 penalties, got l1 penalty.',)\n",
      "  \"Details: \\n%r\" % (error_score, e), FitFailedWarning)\n",
      "/anaconda3/lib/python3.6/site-packages/sklearn/model_selection/_validation.py:479: FitFailedWarning: Classifier fit failed. The score on this train-test partition for these parameters will be set to 0.000000. Details: \n",
      "ValueError('Solver sag supports only l2 penalties, got l1 penalty.',)\n",
      "  \"Details: \\n%r\" % (error_score, e), FitFailedWarning)\n"
     ]
    },
    {
     "name": "stdout",
     "output_type": "stream",
     "text": [
      "[CV]  C=10, class_weight=balanced, penalty=l1, solver=sag, score=0, total=   0.1s\n",
      "[CV] C=10, class_weight=balanced, penalty=l1, solver=sag .............\n",
      "[CV]  C=10, class_weight=balanced, penalty=l1, solver=sag, score=0, total=   0.1s\n",
      "[CV] C=10, class_weight=balanced, penalty=l1, solver=saga ............\n"
     ]
    },
    {
     "name": "stderr",
     "output_type": "stream",
     "text": [
      "/anaconda3/lib/python3.6/site-packages/sklearn/linear_model/sag.py:326: ConvergenceWarning: The max_iter was reached which means the coef_ did not converge\n",
      "  \"the coef_ did not converge\", ConvergenceWarning)\n"
     ]
    },
    {
     "name": "stdout",
     "output_type": "stream",
     "text": [
      "[CV]  C=10, class_weight=balanced, penalty=l1, solver=saga, score=0.6336361869594792, total=  14.9s\n",
      "[CV] C=10, class_weight=balanced, penalty=l1, solver=saga ............\n"
     ]
    },
    {
     "name": "stderr",
     "output_type": "stream",
     "text": [
      "/anaconda3/lib/python3.6/site-packages/sklearn/linear_model/sag.py:326: ConvergenceWarning: The max_iter was reached which means the coef_ did not converge\n",
      "  \"the coef_ did not converge\", ConvergenceWarning)\n"
     ]
    },
    {
     "name": "stdout",
     "output_type": "stream",
     "text": [
      "[CV]  C=10, class_weight=balanced, penalty=l1, solver=saga, score=0.64400068022253, total=  15.3s\n",
      "[CV] C=10, class_weight=balanced, penalty=l1, solver=saga ............\n"
     ]
    },
    {
     "name": "stderr",
     "output_type": "stream",
     "text": [
      "/anaconda3/lib/python3.6/site-packages/sklearn/linear_model/sag.py:326: ConvergenceWarning: The max_iter was reached which means the coef_ did not converge\n",
      "  \"the coef_ did not converge\", ConvergenceWarning)\n"
     ]
    },
    {
     "name": "stdout",
     "output_type": "stream",
     "text": [
      "[CV]  C=10, class_weight=balanced, penalty=l1, solver=saga, score=0.6405908362081532, total=  15.0s\n",
      "[CV] C=10, class_weight=balanced, penalty=l2, solver=liblinear .......\n",
      "[CV]  C=10, class_weight=balanced, penalty=l2, solver=liblinear, score=0.6335633077446312, total=   1.8s\n",
      "[CV] C=10, class_weight=balanced, penalty=l2, solver=liblinear .......\n",
      "[CV]  C=10, class_weight=balanced, penalty=l2, solver=liblinear, score=0.643587687972208, total=   3.6s\n",
      "[CV] C=10, class_weight=balanced, penalty=l2, solver=liblinear .......\n",
      "[CV]  C=10, class_weight=balanced, penalty=l2, solver=liblinear, score=0.6404693649482532, total=   3.2s\n",
      "[CV] C=10, class_weight=balanced, penalty=l2, solver=newton-cg .......\n",
      "[CV]  C=10, class_weight=balanced, penalty=l2, solver=newton-cg, score=0.6335633077446312, total=   5.2s\n",
      "[CV] C=10, class_weight=balanced, penalty=l2, solver=newton-cg .......\n",
      "[CV]  C=10, class_weight=balanced, penalty=l2, solver=newton-cg, score=0.643587687972208, total=   7.4s\n",
      "[CV] C=10, class_weight=balanced, penalty=l2, solver=newton-cg .......\n",
      "[CV]  C=10, class_weight=balanced, penalty=l2, solver=newton-cg, score=0.6404693649482532, total=   5.9s\n",
      "[CV] C=10, class_weight=balanced, penalty=l2, solver=lbfgs ...........\n",
      "[CV]  C=10, class_weight=balanced, penalty=l2, solver=lbfgs, score=0.6334661354581673, total=   0.9s\n",
      "[CV] C=10, class_weight=balanced, penalty=l2, solver=lbfgs ...........\n",
      "[CV]  C=10, class_weight=balanced, penalty=l2, solver=lbfgs, score=0.6433447513543716, total=   1.0s\n",
      "[CV] C=10, class_weight=balanced, penalty=l2, solver=lbfgs ...........\n",
      "[CV]  C=10, class_weight=balanced, penalty=l2, solver=lbfgs, score=0.6398863029007337, total=   0.9s\n",
      "[CV] C=10, class_weight=balanced, penalty=l2, solver=sag .............\n"
     ]
    },
    {
     "name": "stderr",
     "output_type": "stream",
     "text": [
      "/anaconda3/lib/python3.6/site-packages/sklearn/linear_model/sag.py:326: ConvergenceWarning: The max_iter was reached which means the coef_ did not converge\n",
      "  \"the coef_ did not converge\", ConvergenceWarning)\n"
     ]
    },
    {
     "name": "stdout",
     "output_type": "stream",
     "text": [
      "[CV]  C=10, class_weight=balanced, penalty=l2, solver=sag, score=0.6335390146730152, total=  10.9s\n",
      "[CV] C=10, class_weight=balanced, penalty=l2, solver=sag .............\n"
     ]
    },
    {
     "name": "stderr",
     "output_type": "stream",
     "text": [
      "/anaconda3/lib/python3.6/site-packages/sklearn/linear_model/sag.py:326: ConvergenceWarning: The max_iter was reached which means the coef_ did not converge\n",
      "  \"the coef_ did not converge\", ConvergenceWarning)\n"
     ]
    },
    {
     "name": "stdout",
     "output_type": "stream",
     "text": [
      "[CV]  C=10, class_weight=balanced, penalty=l2, solver=sag, score=0.6440249738843136, total=  10.9s\n",
      "[CV] C=10, class_weight=balanced, penalty=l2, solver=sag .............\n"
     ]
    },
    {
     "name": "stderr",
     "output_type": "stream",
     "text": [
      "/anaconda3/lib/python3.6/site-packages/sklearn/linear_model/sag.py:326: ConvergenceWarning: The max_iter was reached which means the coef_ did not converge\n",
      "  \"the coef_ did not converge\", ConvergenceWarning)\n"
     ]
    },
    {
     "name": "stdout",
     "output_type": "stream",
     "text": [
      "[CV]  C=10, class_weight=balanced, penalty=l2, solver=sag, score=0.6405665419561731, total=  10.6s\n",
      "[CV] C=10, class_weight=balanced, penalty=l2, solver=saga ............\n"
     ]
    },
    {
     "name": "stderr",
     "output_type": "stream",
     "text": [
      "/anaconda3/lib/python3.6/site-packages/sklearn/linear_model/sag.py:326: ConvergenceWarning: The max_iter was reached which means the coef_ did not converge\n",
      "  \"the coef_ did not converge\", ConvergenceWarning)\n"
     ]
    },
    {
     "name": "stdout",
     "output_type": "stream",
     "text": [
      "[CV]  C=10, class_weight=balanced, penalty=l2, solver=saga, score=0.6337333592459431, total=  11.2s\n",
      "[CV] C=10, class_weight=balanced, penalty=l2, solver=saga ............\n"
     ]
    },
    {
     "name": "stderr",
     "output_type": "stream",
     "text": [
      "/anaconda3/lib/python3.6/site-packages/sklearn/linear_model/sag.py:326: ConvergenceWarning: The max_iter was reached which means the coef_ did not converge\n",
      "  \"the coef_ did not converge\", ConvergenceWarning)\n"
     ]
    },
    {
     "name": "stdout",
     "output_type": "stream",
     "text": [
      "[CV]  C=10, class_weight=balanced, penalty=l2, solver=saga, score=0.6450696013410101, total=  11.4s\n",
      "[CV] C=10, class_weight=balanced, penalty=l2, solver=saga ............\n"
     ]
    },
    {
     "name": "stderr",
     "output_type": "stream",
     "text": [
      "/anaconda3/lib/python3.6/site-packages/sklearn/linear_model/sag.py:326: ConvergenceWarning: The max_iter was reached which means the coef_ did not converge\n",
      "  \"the coef_ did not converge\", ConvergenceWarning)\n"
     ]
    },
    {
     "name": "stdout",
     "output_type": "stream",
     "text": [
      "[CV]  C=10, class_weight=balanced, penalty=l2, solver=saga, score=0.6412953695155726, total=  11.9s\n",
      "[CV] C=50, class_weight=None, penalty=l1, solver=liblinear ...........\n",
      "[CV]  C=50, class_weight=None, penalty=l1, solver=liblinear, score=0.8445243416577592, total=   2.6s\n",
      "[CV] C=50, class_weight=None, penalty=l1, solver=liblinear ...........\n",
      "[CV]  C=50, class_weight=None, penalty=l1, solver=liblinear, score=0.8437431674076233, total=   2.3s\n",
      "[CV] C=50, class_weight=None, penalty=l1, solver=liblinear ...........\n",
      "[CV]  C=50, class_weight=None, penalty=l1, solver=liblinear, score=0.8443224333122783, total=   2.6s\n",
      "[CV] C=50, class_weight=None, penalty=l1, solver=newton-cg ...........\n",
      "[CV]  C=50, class_weight=None, penalty=l1, solver=newton-cg, score=0, total=   0.1s\n",
      "[CV] C=50, class_weight=None, penalty=l1, solver=newton-cg ...........\n"
     ]
    },
    {
     "name": "stderr",
     "output_type": "stream",
     "text": [
      "/anaconda3/lib/python3.6/site-packages/sklearn/model_selection/_validation.py:479: FitFailedWarning: Classifier fit failed. The score on this train-test partition for these parameters will be set to 0.000000. Details: \n",
      "ValueError('Solver newton-cg supports only l2 penalties, got l1 penalty.',)\n",
      "  \"Details: \\n%r\" % (error_score, e), FitFailedWarning)\n",
      "/anaconda3/lib/python3.6/site-packages/sklearn/model_selection/_validation.py:479: FitFailedWarning: Classifier fit failed. The score on this train-test partition for these parameters will be set to 0.000000. Details: \n",
      "ValueError('Solver newton-cg supports only l2 penalties, got l1 penalty.',)\n",
      "  \"Details: \\n%r\" % (error_score, e), FitFailedWarning)\n"
     ]
    },
    {
     "name": "stdout",
     "output_type": "stream",
     "text": [
      "[CV]  C=50, class_weight=None, penalty=l1, solver=newton-cg, score=0, total=   0.1s\n",
      "[CV] C=50, class_weight=None, penalty=l1, solver=newton-cg ...........\n",
      "[CV]  C=50, class_weight=None, penalty=l1, solver=newton-cg, score=0, total=   0.1s\n",
      "[CV] C=50, class_weight=None, penalty=l1, solver=lbfgs ...............\n",
      "[CV]  C=50, class_weight=None, penalty=l1, solver=lbfgs, score=0, total=   0.1s\n",
      "[CV] C=50, class_weight=None, penalty=l1, solver=lbfgs ...............\n"
     ]
    },
    {
     "name": "stderr",
     "output_type": "stream",
     "text": [
      "/anaconda3/lib/python3.6/site-packages/sklearn/model_selection/_validation.py:479: FitFailedWarning: Classifier fit failed. The score on this train-test partition for these parameters will be set to 0.000000. Details: \n",
      "ValueError('Solver newton-cg supports only l2 penalties, got l1 penalty.',)\n",
      "  \"Details: \\n%r\" % (error_score, e), FitFailedWarning)\n",
      "/anaconda3/lib/python3.6/site-packages/sklearn/model_selection/_validation.py:479: FitFailedWarning: Classifier fit failed. The score on this train-test partition for these parameters will be set to 0.000000. Details: \n",
      "ValueError('Solver lbfgs supports only l2 penalties, got l1 penalty.',)\n",
      "  \"Details: \\n%r\" % (error_score, e), FitFailedWarning)\n",
      "/anaconda3/lib/python3.6/site-packages/sklearn/model_selection/_validation.py:479: FitFailedWarning: Classifier fit failed. The score on this train-test partition for these parameters will be set to 0.000000. Details: \n",
      "ValueError('Solver lbfgs supports only l2 penalties, got l1 penalty.',)\n",
      "  \"Details: \\n%r\" % (error_score, e), FitFailedWarning)\n",
      "/anaconda3/lib/python3.6/site-packages/sklearn/model_selection/_validation.py:479: FitFailedWarning: Classifier fit failed. The score on this train-test partition for these parameters will be set to 0.000000. Details: \n",
      "ValueError('Solver lbfgs supports only l2 penalties, got l1 penalty.',)\n",
      "  \"Details: \\n%r\" % (error_score, e), FitFailedWarning)\n",
      "/anaconda3/lib/python3.6/site-packages/sklearn/model_selection/_validation.py:479: FitFailedWarning: Classifier fit failed. The score on this train-test partition for these parameters will be set to 0.000000. Details: \n",
      "ValueError('Solver sag supports only l2 penalties, got l1 penalty.',)\n",
      "  \"Details: \\n%r\" % (error_score, e), FitFailedWarning)\n"
     ]
    },
    {
     "name": "stdout",
     "output_type": "stream",
     "text": [
      "[CV]  C=50, class_weight=None, penalty=l1, solver=lbfgs, score=0, total=   0.1s\n",
      "[CV] C=50, class_weight=None, penalty=l1, solver=lbfgs ...............\n",
      "[CV]  C=50, class_weight=None, penalty=l1, solver=lbfgs, score=0, total=   0.1s\n",
      "[CV] C=50, class_weight=None, penalty=l1, solver=sag .................\n",
      "[CV]  C=50, class_weight=None, penalty=l1, solver=sag, score=0, total=   0.1s\n",
      "[CV] C=50, class_weight=None, penalty=l1, solver=sag .................\n"
     ]
    },
    {
     "name": "stderr",
     "output_type": "stream",
     "text": [
      "/anaconda3/lib/python3.6/site-packages/sklearn/model_selection/_validation.py:479: FitFailedWarning: Classifier fit failed. The score on this train-test partition for these parameters will be set to 0.000000. Details: \n",
      "ValueError('Solver sag supports only l2 penalties, got l1 penalty.',)\n",
      "  \"Details: \\n%r\" % (error_score, e), FitFailedWarning)\n",
      "/anaconda3/lib/python3.6/site-packages/sklearn/model_selection/_validation.py:479: FitFailedWarning: Classifier fit failed. The score on this train-test partition for these parameters will be set to 0.000000. Details: \n",
      "ValueError('Solver sag supports only l2 penalties, got l1 penalty.',)\n",
      "  \"Details: \\n%r\" % (error_score, e), FitFailedWarning)\n"
     ]
    },
    {
     "name": "stdout",
     "output_type": "stream",
     "text": [
      "[CV]  C=50, class_weight=None, penalty=l1, solver=sag, score=0, total=   0.1s\n",
      "[CV] C=50, class_weight=None, penalty=l1, solver=sag .................\n",
      "[CV]  C=50, class_weight=None, penalty=l1, solver=sag, score=0, total=   0.1s\n",
      "[CV] C=50, class_weight=None, penalty=l1, solver=saga ................\n"
     ]
    },
    {
     "name": "stderr",
     "output_type": "stream",
     "text": [
      "/anaconda3/lib/python3.6/site-packages/sklearn/linear_model/sag.py:326: ConvergenceWarning: The max_iter was reached which means the coef_ did not converge\n",
      "  \"the coef_ did not converge\", ConvergenceWarning)\n"
     ]
    },
    {
     "name": "stdout",
     "output_type": "stream",
     "text": [
      "[CV]  C=50, class_weight=None, penalty=l1, solver=saga, score=0.8445000485861432, total=  14.7s\n",
      "[CV] C=50, class_weight=None, penalty=l1, solver=saga ................\n"
     ]
    },
    {
     "name": "stderr",
     "output_type": "stream",
     "text": [
      "/anaconda3/lib/python3.6/site-packages/sklearn/linear_model/sag.py:326: ConvergenceWarning: The max_iter was reached which means the coef_ did not converge\n",
      "  \"the coef_ did not converge\", ConvergenceWarning)\n"
     ]
    },
    {
     "name": "stdout",
     "output_type": "stream",
     "text": [
      "[CV]  C=50, class_weight=None, penalty=l1, solver=saga, score=0.8437188737458398, total=  15.3s\n",
      "[CV] C=50, class_weight=None, penalty=l1, solver=saga ................\n"
     ]
    },
    {
     "name": "stderr",
     "output_type": "stream",
     "text": [
      "/anaconda3/lib/python3.6/site-packages/sklearn/linear_model/sag.py:326: ConvergenceWarning: The max_iter was reached which means the coef_ did not converge\n",
      "  \"the coef_ did not converge\", ConvergenceWarning)\n"
     ]
    },
    {
     "name": "stdout",
     "output_type": "stream",
     "text": [
      "[CV]  C=50, class_weight=None, penalty=l1, solver=saga, score=0.8443467275642583, total=  15.9s\n",
      "[CV] C=50, class_weight=None, penalty=l2, solver=liblinear ...........\n",
      "[CV]  C=50, class_weight=None, penalty=l2, solver=liblinear, score=0.8445243416577592, total=   1.1s\n",
      "[CV] C=50, class_weight=None, penalty=l2, solver=liblinear ...........\n",
      "[CV]  C=50, class_weight=None, penalty=l2, solver=liblinear, score=0.843767461069407, total=   3.3s\n",
      "[CV] C=50, class_weight=None, penalty=l2, solver=liblinear ...........\n",
      "[CV]  C=50, class_weight=None, penalty=l2, solver=liblinear, score=0.8443224333122783, total=   2.5s\n",
      "[CV] C=50, class_weight=None, penalty=l2, solver=newton-cg ...........\n",
      "[CV]  C=50, class_weight=None, penalty=l2, solver=newton-cg, score=0.8445243416577592, total=   9.0s\n",
      "[CV] C=50, class_weight=None, penalty=l2, solver=newton-cg ...........\n",
      "[CV]  C=50, class_weight=None, penalty=l2, solver=newton-cg, score=0.843767461069407, total=   8.4s\n",
      "[CV] C=50, class_weight=None, penalty=l2, solver=newton-cg ...........\n",
      "[CV]  C=50, class_weight=None, penalty=l2, solver=newton-cg, score=0.8443224333122783, total=   8.3s\n",
      "[CV] C=50, class_weight=None, penalty=l2, solver=lbfgs ...............\n",
      "[CV]  C=50, class_weight=None, penalty=l2, solver=lbfgs, score=0.8445729278009911, total=   0.8s\n",
      "[CV] C=50, class_weight=None, penalty=l2, solver=lbfgs ...............\n",
      "[CV]  C=50, class_weight=None, penalty=l2, solver=lbfgs, score=0.8437917547311906, total=   0.7s\n",
      "[CV] C=50, class_weight=None, penalty=l2, solver=lbfgs ...............\n",
      "[CV]  C=50, class_weight=None, penalty=l2, solver=lbfgs, score=0.8443467275642583, total=   0.8s\n",
      "[CV] C=50, class_weight=None, penalty=l2, solver=sag .................\n"
     ]
    },
    {
     "name": "stderr",
     "output_type": "stream",
     "text": [
      "/anaconda3/lib/python3.6/site-packages/sklearn/linear_model/sag.py:326: ConvergenceWarning: The max_iter was reached which means the coef_ did not converge\n",
      "  \"the coef_ did not converge\", ConvergenceWarning)\n"
     ]
    },
    {
     "name": "stdout",
     "output_type": "stream",
     "text": [
      "[CV]  C=50, class_weight=None, penalty=l2, solver=sag, score=0.8445000485861432, total=  11.1s\n",
      "[CV] C=50, class_weight=None, penalty=l2, solver=sag .................\n"
     ]
    },
    {
     "name": "stderr",
     "output_type": "stream",
     "text": [
      "/anaconda3/lib/python3.6/site-packages/sklearn/linear_model/sag.py:326: ConvergenceWarning: The max_iter was reached which means the coef_ did not converge\n",
      "  \"the coef_ did not converge\", ConvergenceWarning)\n"
     ]
    },
    {
     "name": "stdout",
     "output_type": "stream",
     "text": [
      "[CV]  C=50, class_weight=None, penalty=l2, solver=sag, score=0.843767461069407, total=  11.6s\n",
      "[CV] C=50, class_weight=None, penalty=l2, solver=sag .................\n"
     ]
    },
    {
     "name": "stderr",
     "output_type": "stream",
     "text": [
      "/anaconda3/lib/python3.6/site-packages/sklearn/linear_model/sag.py:326: ConvergenceWarning: The max_iter was reached which means the coef_ did not converge\n",
      "  \"the coef_ did not converge\", ConvergenceWarning)\n"
     ]
    },
    {
     "name": "stdout",
     "output_type": "stream",
     "text": [
      "[CV]  C=50, class_weight=None, penalty=l2, solver=sag, score=0.8443467275642583, total=  11.3s\n",
      "[CV] C=50, class_weight=None, penalty=l2, solver=saga ................\n"
     ]
    },
    {
     "name": "stderr",
     "output_type": "stream",
     "text": [
      "/anaconda3/lib/python3.6/site-packages/sklearn/linear_model/sag.py:326: ConvergenceWarning: The max_iter was reached which means the coef_ did not converge\n",
      "  \"the coef_ did not converge\", ConvergenceWarning)\n"
     ]
    },
    {
     "name": "stdout",
     "output_type": "stream",
     "text": [
      "[CV]  C=50, class_weight=None, penalty=l2, solver=saga, score=0.8445729278009911, total=  11.5s\n",
      "[CV] C=50, class_weight=None, penalty=l2, solver=saga ................\n"
     ]
    },
    {
     "name": "stderr",
     "output_type": "stream",
     "text": [
      "/anaconda3/lib/python3.6/site-packages/sklearn/linear_model/sag.py:326: ConvergenceWarning: The max_iter was reached which means the coef_ did not converge\n",
      "  \"the coef_ did not converge\", ConvergenceWarning)\n"
     ]
    },
    {
     "name": "stdout",
     "output_type": "stream",
     "text": [
      "[CV]  C=50, class_weight=None, penalty=l2, solver=saga, score=0.8435488181133542, total=  11.5s\n",
      "[CV] C=50, class_weight=None, penalty=l2, solver=saga ................\n"
     ]
    },
    {
     "name": "stderr",
     "output_type": "stream",
     "text": [
      "/anaconda3/lib/python3.6/site-packages/sklearn/linear_model/sag.py:326: ConvergenceWarning: The max_iter was reached which means the coef_ did not converge\n",
      "  \"the coef_ did not converge\", ConvergenceWarning)\n"
     ]
    },
    {
     "name": "stdout",
     "output_type": "stream",
     "text": [
      "[CV]  C=50, class_weight=None, penalty=l2, solver=saga, score=0.8442738448083184, total=  11.6s\n",
      "[CV] C=50, class_weight=balanced, penalty=l1, solver=liblinear .......\n",
      "[CV]  C=50, class_weight=balanced, penalty=l1, solver=liblinear, score=0.6335876008162472, total=   2.9s\n",
      "[CV] C=50, class_weight=balanced, penalty=l1, solver=liblinear .......\n",
      "[CV]  C=50, class_weight=balanced, penalty=l1, solver=liblinear, score=0.643587687972208, total=   2.2s\n",
      "[CV] C=50, class_weight=balanced, penalty=l1, solver=liblinear .......\n",
      "[CV]  C=50, class_weight=balanced, penalty=l1, solver=liblinear, score=0.6404693649482532, total=   2.7s\n",
      "[CV] C=50, class_weight=balanced, penalty=l1, solver=newton-cg .......\n",
      "[CV]  C=50, class_weight=balanced, penalty=l1, solver=newton-cg, score=0, total=   0.1s\n",
      "[CV] C=50, class_weight=balanced, penalty=l1, solver=newton-cg .......\n",
      "[CV]  C=50, class_weight=balanced, penalty=l1, solver=newton-cg, score=0, total=   0.1s"
     ]
    },
    {
     "name": "stderr",
     "output_type": "stream",
     "text": [
      "/anaconda3/lib/python3.6/site-packages/sklearn/model_selection/_validation.py:479: FitFailedWarning: Classifier fit failed. The score on this train-test partition for these parameters will be set to 0.000000. Details: \n",
      "ValueError('Solver newton-cg supports only l2 penalties, got l1 penalty.',)\n",
      "  \"Details: \\n%r\" % (error_score, e), FitFailedWarning)\n",
      "/anaconda3/lib/python3.6/site-packages/sklearn/model_selection/_validation.py:479: FitFailedWarning: Classifier fit failed. The score on this train-test partition for these parameters will be set to 0.000000. Details: \n",
      "ValueError('Solver newton-cg supports only l2 penalties, got l1 penalty.',)\n",
      "  \"Details: \\n%r\" % (error_score, e), FitFailedWarning)\n",
      "/anaconda3/lib/python3.6/site-packages/sklearn/model_selection/_validation.py:479: FitFailedWarning: Classifier fit failed. The score on this train-test partition for these parameters will be set to 0.000000. Details: \n",
      "ValueError('Solver newton-cg supports only l2 penalties, got l1 penalty.',)\n",
      "  \"Details: \\n%r\" % (error_score, e), FitFailedWarning)\n"
     ]
    },
    {
     "name": "stdout",
     "output_type": "stream",
     "text": [
      "\n",
      "[CV] C=50, class_weight=balanced, penalty=l1, solver=newton-cg .......\n",
      "[CV]  C=50, class_weight=balanced, penalty=l1, solver=newton-cg, score=0, total=   0.1s\n",
      "[CV] C=50, class_weight=balanced, penalty=l1, solver=lbfgs ...........\n",
      "[CV]  C=50, class_weight=balanced, penalty=l1, solver=lbfgs, score=0, total=   0.1s\n",
      "[CV] C=50, class_weight=balanced, penalty=l1, solver=lbfgs ...........\n"
     ]
    },
    {
     "name": "stderr",
     "output_type": "stream",
     "text": [
      "/anaconda3/lib/python3.6/site-packages/sklearn/model_selection/_validation.py:479: FitFailedWarning: Classifier fit failed. The score on this train-test partition for these parameters will be set to 0.000000. Details: \n",
      "ValueError('Solver lbfgs supports only l2 penalties, got l1 penalty.',)\n",
      "  \"Details: \\n%r\" % (error_score, e), FitFailedWarning)\n",
      "/anaconda3/lib/python3.6/site-packages/sklearn/model_selection/_validation.py:479: FitFailedWarning: Classifier fit failed. The score on this train-test partition for these parameters will be set to 0.000000. Details: \n",
      "ValueError('Solver lbfgs supports only l2 penalties, got l1 penalty.',)\n",
      "  \"Details: \\n%r\" % (error_score, e), FitFailedWarning)\n",
      "/anaconda3/lib/python3.6/site-packages/sklearn/model_selection/_validation.py:479: FitFailedWarning: Classifier fit failed. The score on this train-test partition for these parameters will be set to 0.000000. Details: \n",
      "ValueError('Solver lbfgs supports only l2 penalties, got l1 penalty.',)\n",
      "  \"Details: \\n%r\" % (error_score, e), FitFailedWarning)\n"
     ]
    },
    {
     "name": "stdout",
     "output_type": "stream",
     "text": [
      "[CV]  C=50, class_weight=balanced, penalty=l1, solver=lbfgs, score=0, total=   0.1s\n",
      "[CV] C=50, class_weight=balanced, penalty=l1, solver=lbfgs ...........\n",
      "[CV]  C=50, class_weight=balanced, penalty=l1, solver=lbfgs, score=0, total=   0.1s\n",
      "[CV] C=50, class_weight=balanced, penalty=l1, solver=sag .............\n",
      "[CV]  C=50, class_weight=balanced, penalty=l1, solver=sag, score=0, total=   0.1s\n",
      "[CV] C=50, class_weight=balanced, penalty=l1, solver=sag .............\n"
     ]
    },
    {
     "name": "stderr",
     "output_type": "stream",
     "text": [
      "/anaconda3/lib/python3.6/site-packages/sklearn/model_selection/_validation.py:479: FitFailedWarning: Classifier fit failed. The score on this train-test partition for these parameters will be set to 0.000000. Details: \n",
      "ValueError('Solver sag supports only l2 penalties, got l1 penalty.',)\n",
      "  \"Details: \\n%r\" % (error_score, e), FitFailedWarning)\n",
      "/anaconda3/lib/python3.6/site-packages/sklearn/model_selection/_validation.py:479: FitFailedWarning: Classifier fit failed. The score on this train-test partition for these parameters will be set to 0.000000. Details: \n",
      "ValueError('Solver sag supports only l2 penalties, got l1 penalty.',)\n",
      "  \"Details: \\n%r\" % (error_score, e), FitFailedWarning)\n",
      "/anaconda3/lib/python3.6/site-packages/sklearn/model_selection/_validation.py:479: FitFailedWarning: Classifier fit failed. The score on this train-test partition for these parameters will be set to 0.000000. Details: \n",
      "ValueError('Solver sag supports only l2 penalties, got l1 penalty.',)\n",
      "  \"Details: \\n%r\" % (error_score, e), FitFailedWarning)\n"
     ]
    },
    {
     "name": "stdout",
     "output_type": "stream",
     "text": [
      "[CV]  C=50, class_weight=balanced, penalty=l1, solver=sag, score=0, total=   0.1s\n",
      "[CV] C=50, class_weight=balanced, penalty=l1, solver=sag .............\n",
      "[CV]  C=50, class_weight=balanced, penalty=l1, solver=sag, score=0, total=   0.1s\n",
      "[CV] C=50, class_weight=balanced, penalty=l1, solver=saga ............\n"
     ]
    },
    {
     "name": "stderr",
     "output_type": "stream",
     "text": [
      "/anaconda3/lib/python3.6/site-packages/sklearn/linear_model/sag.py:326: ConvergenceWarning: The max_iter was reached which means the coef_ did not converge\n",
      "  \"the coef_ did not converge\", ConvergenceWarning)\n"
     ]
    },
    {
     "name": "stdout",
     "output_type": "stream",
     "text": [
      "[CV]  C=50, class_weight=balanced, penalty=l1, solver=saga, score=0.6335390146730152, total=  15.2s\n",
      "[CV] C=50, class_weight=balanced, penalty=l1, solver=saga ............\n"
     ]
    },
    {
     "name": "stderr",
     "output_type": "stream",
     "text": [
      "/anaconda3/lib/python3.6/site-packages/sklearn/linear_model/sag.py:326: ConvergenceWarning: The max_iter was reached which means the coef_ did not converge\n",
      "  \"the coef_ did not converge\", ConvergenceWarning)\n"
     ]
    },
    {
     "name": "stdout",
     "output_type": "stream",
     "text": [
      "[CV]  C=50, class_weight=balanced, penalty=l1, solver=saga, score=0.6440249738843136, total=  15.1s\n",
      "[CV] C=50, class_weight=balanced, penalty=l1, solver=saga ............\n"
     ]
    },
    {
     "name": "stderr",
     "output_type": "stream",
     "text": [
      "/anaconda3/lib/python3.6/site-packages/sklearn/linear_model/sag.py:326: ConvergenceWarning: The max_iter was reached which means the coef_ did not converge\n",
      "  \"the coef_ did not converge\", ConvergenceWarning)\n"
     ]
    },
    {
     "name": "stdout",
     "output_type": "stream",
     "text": [
      "[CV]  C=50, class_weight=balanced, penalty=l1, solver=saga, score=0.6405665419561731, total=  15.0s\n",
      "[CV] C=50, class_weight=balanced, penalty=l2, solver=liblinear .......\n",
      "[CV]  C=50, class_weight=balanced, penalty=l2, solver=liblinear, score=0.6335633077446312, total=   1.7s\n",
      "[CV] C=50, class_weight=balanced, penalty=l2, solver=liblinear .......\n",
      "[CV]  C=50, class_weight=balanced, penalty=l2, solver=liblinear, score=0.643587687972208, total=   4.3s\n",
      "[CV] C=50, class_weight=balanced, penalty=l2, solver=liblinear .......\n",
      "[CV]  C=50, class_weight=balanced, penalty=l2, solver=liblinear, score=0.6404207764442933, total=   5.0s\n",
      "[CV] C=50, class_weight=balanced, penalty=l2, solver=newton-cg .......\n",
      "[CV]  C=50, class_weight=balanced, penalty=l2, solver=newton-cg, score=0.6335633077446312, total=   8.5s\n",
      "[CV] C=50, class_weight=balanced, penalty=l2, solver=newton-cg .......\n",
      "[CV]  C=50, class_weight=balanced, penalty=l2, solver=newton-cg, score=0.643587687972208, total=   6.0s\n",
      "[CV] C=50, class_weight=balanced, penalty=l2, solver=newton-cg .......\n",
      "[CV]  C=50, class_weight=balanced, penalty=l2, solver=newton-cg, score=0.6404450706962732, total=   6.5s\n",
      "[CV] C=50, class_weight=balanced, penalty=l2, solver=lbfgs ...........\n",
      "[CV]  C=50, class_weight=balanced, penalty=l2, solver=lbfgs, score=0.6334661354581673, total=   0.9s\n",
      "[CV] C=50, class_weight=balanced, penalty=l2, solver=lbfgs ...........\n",
      "[CV]  C=50, class_weight=balanced, penalty=l2, solver=lbfgs, score=0.6431746957218861, total=   0.9s\n",
      "[CV] C=50, class_weight=balanced, penalty=l2, solver=lbfgs ...........\n",
      "[CV]  C=50, class_weight=balanced, penalty=l2, solver=lbfgs, score=0.6404207764442933, total=   0.9s\n",
      "[CV] C=50, class_weight=balanced, penalty=l2, solver=sag .............\n"
     ]
    },
    {
     "name": "stderr",
     "output_type": "stream",
     "text": [
      "/anaconda3/lib/python3.6/site-packages/sklearn/linear_model/sag.py:326: ConvergenceWarning: The max_iter was reached which means the coef_ did not converge\n",
      "  \"the coef_ did not converge\", ConvergenceWarning)\n"
     ]
    },
    {
     "name": "stdout",
     "output_type": "stream",
     "text": [
      "[CV]  C=50, class_weight=balanced, penalty=l2, solver=sag, score=0.6334904285297833, total=  10.7s\n",
      "[CV] C=50, class_weight=balanced, penalty=l2, solver=sag .............\n"
     ]
    },
    {
     "name": "stderr",
     "output_type": "stream",
     "text": [
      "/anaconda3/lib/python3.6/site-packages/sklearn/linear_model/sag.py:326: ConvergenceWarning: The max_iter was reached which means the coef_ did not converge\n",
      "  \"the coef_ did not converge\", ConvergenceWarning)\n"
     ]
    },
    {
     "name": "stdout",
     "output_type": "stream",
     "text": [
      "[CV]  C=50, class_weight=balanced, penalty=l2, solver=sag, score=0.64400068022253, total=  10.8s\n",
      "[CV] C=50, class_weight=balanced, penalty=l2, solver=sag .............\n"
     ]
    },
    {
     "name": "stderr",
     "output_type": "stream",
     "text": [
      "/anaconda3/lib/python3.6/site-packages/sklearn/linear_model/sag.py:326: ConvergenceWarning: The max_iter was reached which means the coef_ did not converge\n",
      "  \"the coef_ did not converge\", ConvergenceWarning)\n"
     ]
    },
    {
     "name": "stdout",
     "output_type": "stream",
     "text": [
      "[CV]  C=50, class_weight=balanced, penalty=l2, solver=sag, score=0.6404936592002333, total=  10.9s\n",
      "[CV] C=50, class_weight=balanced, penalty=l2, solver=saga ............\n"
     ]
    },
    {
     "name": "stderr",
     "output_type": "stream",
     "text": [
      "/anaconda3/lib/python3.6/site-packages/sklearn/linear_model/sag.py:326: ConvergenceWarning: The max_iter was reached which means the coef_ did not converge\n",
      "  \"the coef_ did not converge\", ConvergenceWarning)\n"
     ]
    },
    {
     "name": "stdout",
     "output_type": "stream",
     "text": [
      "[CV]  C=50, class_weight=balanced, penalty=l2, solver=saga, score=0.6336847731027111, total=  11.5s\n",
      "[CV] C=50, class_weight=balanced, penalty=l2, solver=saga ............\n"
     ]
    },
    {
     "name": "stderr",
     "output_type": "stream",
     "text": [
      "/anaconda3/lib/python3.6/site-packages/sklearn/linear_model/sag.py:326: ConvergenceWarning: The max_iter was reached which means the coef_ did not converge\n",
      "  \"the coef_ did not converge\", ConvergenceWarning)\n"
     ]
    },
    {
     "name": "stdout",
     "output_type": "stream",
     "text": [
      "[CV]  C=50, class_weight=balanced, penalty=l2, solver=saga, score=0.6450696013410101, total=  11.6s\n",
      "[CV] C=50, class_weight=balanced, penalty=l2, solver=saga ............\n"
     ]
    },
    {
     "name": "stderr",
     "output_type": "stream",
     "text": [
      "/anaconda3/lib/python3.6/site-packages/sklearn/linear_model/sag.py:326: ConvergenceWarning: The max_iter was reached which means the coef_ did not converge\n",
      "  \"the coef_ did not converge\", ConvergenceWarning)\n"
     ]
    },
    {
     "name": "stdout",
     "output_type": "stream",
     "text": [
      "[CV]  C=50, class_weight=balanced, penalty=l2, solver=saga, score=0.6412224867596327, total=  11.7s\n",
      "[CV] C=100, class_weight=None, penalty=l1, solver=liblinear ..........\n",
      "[CV]  C=100, class_weight=None, penalty=l1, solver=liblinear, score=0.8445729278009911, total=   1.9s\n",
      "[CV] C=100, class_weight=None, penalty=l1, solver=liblinear ..........\n",
      "[CV]  C=100, class_weight=None, penalty=l1, solver=liblinear, score=0.8437917547311906, total=   1.8s\n",
      "[CV] C=100, class_weight=None, penalty=l1, solver=liblinear ..........\n",
      "[CV]  C=100, class_weight=None, penalty=l1, solver=liblinear, score=0.8443224333122783, total=   2.0s\n",
      "[CV] C=100, class_weight=None, penalty=l1, solver=newton-cg ..........\n",
      "[CV]  C=100, class_weight=None, penalty=l1, solver=newton-cg, score=0, total=   0.1s\n",
      "[CV] C=100, class_weight=None, penalty=l1, solver=newton-cg ..........\n"
     ]
    },
    {
     "name": "stderr",
     "output_type": "stream",
     "text": [
      "/anaconda3/lib/python3.6/site-packages/sklearn/model_selection/_validation.py:479: FitFailedWarning: Classifier fit failed. The score on this train-test partition for these parameters will be set to 0.000000. Details: \n",
      "ValueError('Solver newton-cg supports only l2 penalties, got l1 penalty.',)\n",
      "  \"Details: \\n%r\" % (error_score, e), FitFailedWarning)\n",
      "/anaconda3/lib/python3.6/site-packages/sklearn/model_selection/_validation.py:479: FitFailedWarning: Classifier fit failed. The score on this train-test partition for these parameters will be set to 0.000000. Details: \n",
      "ValueError('Solver newton-cg supports only l2 penalties, got l1 penalty.',)\n",
      "  \"Details: \\n%r\" % (error_score, e), FitFailedWarning)\n",
      "/anaconda3/lib/python3.6/site-packages/sklearn/model_selection/_validation.py:479: FitFailedWarning: Classifier fit failed. The score on this train-test partition for these parameters will be set to 0.000000. Details: \n",
      "ValueError('Solver newton-cg supports only l2 penalties, got l1 penalty.',)\n",
      "  \"Details: \\n%r\" % (error_score, e), FitFailedWarning)\n"
     ]
    },
    {
     "name": "stdout",
     "output_type": "stream",
     "text": [
      "[CV]  C=100, class_weight=None, penalty=l1, solver=newton-cg, score=0, total=   0.1s\n",
      "[CV] C=100, class_weight=None, penalty=l1, solver=newton-cg ..........\n",
      "[CV]  C=100, class_weight=None, penalty=l1, solver=newton-cg, score=0, total=   0.1s\n",
      "[CV] C=100, class_weight=None, penalty=l1, solver=lbfgs ..............\n",
      "[CV]  C=100, class_weight=None, penalty=l1, solver=lbfgs, score=0, total=   0.1s\n",
      "[CV] C=100, class_weight=None, penalty=l1, solver=lbfgs ..............\n"
     ]
    },
    {
     "name": "stderr",
     "output_type": "stream",
     "text": [
      "/anaconda3/lib/python3.6/site-packages/sklearn/model_selection/_validation.py:479: FitFailedWarning: Classifier fit failed. The score on this train-test partition for these parameters will be set to 0.000000. Details: \n",
      "ValueError('Solver lbfgs supports only l2 penalties, got l1 penalty.',)\n",
      "  \"Details: \\n%r\" % (error_score, e), FitFailedWarning)\n",
      "/anaconda3/lib/python3.6/site-packages/sklearn/model_selection/_validation.py:479: FitFailedWarning: Classifier fit failed. The score on this train-test partition for these parameters will be set to 0.000000. Details: \n",
      "ValueError('Solver lbfgs supports only l2 penalties, got l1 penalty.',)\n",
      "  \"Details: \\n%r\" % (error_score, e), FitFailedWarning)\n",
      "/anaconda3/lib/python3.6/site-packages/sklearn/model_selection/_validation.py:479: FitFailedWarning: Classifier fit failed. The score on this train-test partition for these parameters will be set to 0.000000. Details: \n",
      "ValueError('Solver lbfgs supports only l2 penalties, got l1 penalty.',)\n",
      "  \"Details: \\n%r\" % (error_score, e), FitFailedWarning)\n"
     ]
    },
    {
     "name": "stdout",
     "output_type": "stream",
     "text": [
      "[CV]  C=100, class_weight=None, penalty=l1, solver=lbfgs, score=0, total=   0.1s\n",
      "[CV] C=100, class_weight=None, penalty=l1, solver=lbfgs ..............\n",
      "[CV]  C=100, class_weight=None, penalty=l1, solver=lbfgs, score=0, total=   0.1s\n",
      "[CV] C=100, class_weight=None, penalty=l1, solver=sag ................\n",
      "[CV]  C=100, class_weight=None, penalty=l1, solver=sag, score=0, total=   0.1s\n",
      "[CV] C=100, class_weight=None, penalty=l1, solver=sag ................\n"
     ]
    },
    {
     "name": "stderr",
     "output_type": "stream",
     "text": [
      "/anaconda3/lib/python3.6/site-packages/sklearn/model_selection/_validation.py:479: FitFailedWarning: Classifier fit failed. The score on this train-test partition for these parameters will be set to 0.000000. Details: \n",
      "ValueError('Solver sag supports only l2 penalties, got l1 penalty.',)\n",
      "  \"Details: \\n%r\" % (error_score, e), FitFailedWarning)\n",
      "/anaconda3/lib/python3.6/site-packages/sklearn/model_selection/_validation.py:479: FitFailedWarning: Classifier fit failed. The score on this train-test partition for these parameters will be set to 0.000000. Details: \n",
      "ValueError('Solver sag supports only l2 penalties, got l1 penalty.',)\n",
      "  \"Details: \\n%r\" % (error_score, e), FitFailedWarning)\n",
      "/anaconda3/lib/python3.6/site-packages/sklearn/model_selection/_validation.py:479: FitFailedWarning: Classifier fit failed. The score on this train-test partition for these parameters will be set to 0.000000. Details: \n",
      "ValueError('Solver sag supports only l2 penalties, got l1 penalty.',)\n",
      "  \"Details: \\n%r\" % (error_score, e), FitFailedWarning)\n"
     ]
    },
    {
     "name": "stdout",
     "output_type": "stream",
     "text": [
      "[CV]  C=100, class_weight=None, penalty=l1, solver=sag, score=0, total=   0.1s\n",
      "[CV] C=100, class_weight=None, penalty=l1, solver=sag ................\n",
      "[CV]  C=100, class_weight=None, penalty=l1, solver=sag, score=0, total=   0.1s\n",
      "[CV] C=100, class_weight=None, penalty=l1, solver=saga ...............\n"
     ]
    },
    {
     "name": "stderr",
     "output_type": "stream",
     "text": [
      "/anaconda3/lib/python3.6/site-packages/sklearn/linear_model/sag.py:326: ConvergenceWarning: The max_iter was reached which means the coef_ did not converge\n",
      "  \"the coef_ did not converge\", ConvergenceWarning)\n"
     ]
    },
    {
     "name": "stdout",
     "output_type": "stream",
     "text": [
      "[CV]  C=100, class_weight=None, penalty=l1, solver=saga, score=0.8445000485861432, total=  15.0s\n",
      "[CV] C=100, class_weight=None, penalty=l1, solver=saga ...............\n"
     ]
    },
    {
     "name": "stderr",
     "output_type": "stream",
     "text": [
      "/anaconda3/lib/python3.6/site-packages/sklearn/linear_model/sag.py:326: ConvergenceWarning: The max_iter was reached which means the coef_ did not converge\n",
      "  \"the coef_ did not converge\", ConvergenceWarning)\n"
     ]
    },
    {
     "name": "stdout",
     "output_type": "stream",
     "text": [
      "[CV]  C=100, class_weight=None, penalty=l1, solver=saga, score=0.8437188737458398, total=  15.0s\n",
      "[CV] C=100, class_weight=None, penalty=l1, solver=saga ...............\n"
     ]
    },
    {
     "name": "stderr",
     "output_type": "stream",
     "text": [
      "/anaconda3/lib/python3.6/site-packages/sklearn/linear_model/sag.py:326: ConvergenceWarning: The max_iter was reached which means the coef_ did not converge\n",
      "  \"the coef_ did not converge\", ConvergenceWarning)\n"
     ]
    },
    {
     "name": "stdout",
     "output_type": "stream",
     "text": [
      "[CV]  C=100, class_weight=None, penalty=l1, solver=saga, score=0.8443467275642583, total=  15.6s\n",
      "[CV] C=100, class_weight=None, penalty=l2, solver=liblinear ..........\n",
      "[CV]  C=100, class_weight=None, penalty=l2, solver=liblinear, score=0.8445243416577592, total=   1.1s\n",
      "[CV] C=100, class_weight=None, penalty=l2, solver=liblinear ..........\n",
      "[CV]  C=100, class_weight=None, penalty=l2, solver=liblinear, score=0.843767461069407, total=   3.2s\n",
      "[CV] C=100, class_weight=None, penalty=l2, solver=liblinear ..........\n",
      "[CV]  C=100, class_weight=None, penalty=l2, solver=liblinear, score=0.8443467275642583, total=   3.5s\n",
      "[CV] C=100, class_weight=None, penalty=l2, solver=newton-cg ..........\n",
      "[CV]  C=100, class_weight=None, penalty=l2, solver=newton-cg, score=0.8445243416577592, total=  10.1s\n",
      "[CV] C=100, class_weight=None, penalty=l2, solver=newton-cg ..........\n",
      "[CV]  C=100, class_weight=None, penalty=l2, solver=newton-cg, score=0.843767461069407, total=  10.1s\n",
      "[CV] C=100, class_weight=None, penalty=l2, solver=newton-cg ..........\n",
      "[CV]  C=100, class_weight=None, penalty=l2, solver=newton-cg, score=0.8443224333122783, total=  12.9s\n",
      "[CV] C=100, class_weight=None, penalty=l2, solver=lbfgs ..............\n",
      "[CV]  C=100, class_weight=None, penalty=l2, solver=lbfgs, score=0.8445243416577592, total=   0.8s\n",
      "[CV] C=100, class_weight=None, penalty=l2, solver=lbfgs ..............\n",
      "[CV]  C=100, class_weight=None, penalty=l2, solver=lbfgs, score=0.8437917547311906, total=   0.8s\n",
      "[CV] C=100, class_weight=None, penalty=l2, solver=lbfgs ..............\n",
      "[CV]  C=100, class_weight=None, penalty=l2, solver=lbfgs, score=0.8443224333122783, total=   0.8s\n",
      "[CV] C=100, class_weight=None, penalty=l2, solver=sag ................\n"
     ]
    },
    {
     "name": "stderr",
     "output_type": "stream",
     "text": [
      "/anaconda3/lib/python3.6/site-packages/sklearn/linear_model/sag.py:326: ConvergenceWarning: The max_iter was reached which means the coef_ did not converge\n",
      "  \"the coef_ did not converge\", ConvergenceWarning)\n"
     ]
    },
    {
     "name": "stdout",
     "output_type": "stream",
     "text": [
      "[CV]  C=100, class_weight=None, penalty=l2, solver=sag, score=0.8445000485861432, total=  10.7s\n",
      "[CV] C=100, class_weight=None, penalty=l2, solver=sag ................\n"
     ]
    },
    {
     "name": "stderr",
     "output_type": "stream",
     "text": [
      "/anaconda3/lib/python3.6/site-packages/sklearn/linear_model/sag.py:326: ConvergenceWarning: The max_iter was reached which means the coef_ did not converge\n",
      "  \"the coef_ did not converge\", ConvergenceWarning)\n"
     ]
    },
    {
     "name": "stdout",
     "output_type": "stream",
     "text": [
      "[CV]  C=100, class_weight=None, penalty=l2, solver=sag, score=0.8437431674076233, total=  11.0s\n",
      "[CV] C=100, class_weight=None, penalty=l2, solver=sag ................\n"
     ]
    },
    {
     "name": "stderr",
     "output_type": "stream",
     "text": [
      "/anaconda3/lib/python3.6/site-packages/sklearn/linear_model/sag.py:326: ConvergenceWarning: The max_iter was reached which means the coef_ did not converge\n",
      "  \"the coef_ did not converge\", ConvergenceWarning)\n"
     ]
    },
    {
     "name": "stdout",
     "output_type": "stream",
     "text": [
      "[CV]  C=100, class_weight=None, penalty=l2, solver=sag, score=0.8443467275642583, total=  11.4s\n",
      "[CV] C=100, class_weight=None, penalty=l2, solver=saga ...............\n"
     ]
    },
    {
     "name": "stderr",
     "output_type": "stream",
     "text": [
      "/anaconda3/lib/python3.6/site-packages/sklearn/linear_model/sag.py:326: ConvergenceWarning: The max_iter was reached which means the coef_ did not converge\n",
      "  \"the coef_ did not converge\", ConvergenceWarning)\n"
     ]
    },
    {
     "name": "stdout",
     "output_type": "stream",
     "text": [
      "[CV]  C=100, class_weight=None, penalty=l2, solver=saga, score=0.8445729278009911, total=  11.5s\n",
      "[CV] C=100, class_weight=None, penalty=l2, solver=saga ...............\n"
     ]
    },
    {
     "name": "stderr",
     "output_type": "stream",
     "text": [
      "/anaconda3/lib/python3.6/site-packages/sklearn/linear_model/sag.py:326: ConvergenceWarning: The max_iter was reached which means the coef_ did not converge\n",
      "  \"the coef_ did not converge\", ConvergenceWarning)\n"
     ]
    },
    {
     "name": "stdout",
     "output_type": "stream",
     "text": [
      "[CV]  C=100, class_weight=None, penalty=l2, solver=saga, score=0.8435488181133542, total=  11.6s\n",
      "[CV] C=100, class_weight=None, penalty=l2, solver=saga ...............\n"
     ]
    },
    {
     "name": "stderr",
     "output_type": "stream",
     "text": [
      "/anaconda3/lib/python3.6/site-packages/sklearn/linear_model/sag.py:326: ConvergenceWarning: The max_iter was reached which means the coef_ did not converge\n",
      "  \"the coef_ did not converge\", ConvergenceWarning)\n"
     ]
    },
    {
     "name": "stdout",
     "output_type": "stream",
     "text": [
      "[CV]  C=100, class_weight=None, penalty=l2, solver=saga, score=0.8442738448083184, total=  11.7s\n",
      "[CV] C=100, class_weight=balanced, penalty=l1, solver=liblinear ......\n",
      "[CV]  C=100, class_weight=balanced, penalty=l1, solver=liblinear, score=0.6335876008162472, total=   2.3s\n",
      "[CV] C=100, class_weight=balanced, penalty=l1, solver=liblinear ......\n",
      "[CV]  C=100, class_weight=balanced, penalty=l1, solver=liblinear, score=0.6435633943104244, total=   2.8s\n",
      "[CV] C=100, class_weight=balanced, penalty=l1, solver=liblinear ......\n",
      "[CV]  C=100, class_weight=balanced, penalty=l1, solver=liblinear, score=0.6404693649482532, total=   2.6s\n",
      "[CV] C=100, class_weight=balanced, penalty=l1, solver=newton-cg ......\n",
      "[CV]  C=100, class_weight=balanced, penalty=l1, solver=newton-cg, score=0, total=   0.1s\n",
      "[CV] C=100, class_weight=balanced, penalty=l1, solver=newton-cg ......\n"
     ]
    },
    {
     "name": "stderr",
     "output_type": "stream",
     "text": [
      "/anaconda3/lib/python3.6/site-packages/sklearn/model_selection/_validation.py:479: FitFailedWarning: Classifier fit failed. The score on this train-test partition for these parameters will be set to 0.000000. Details: \n",
      "ValueError('Solver newton-cg supports only l2 penalties, got l1 penalty.',)\n",
      "  \"Details: \\n%r\" % (error_score, e), FitFailedWarning)\n",
      "/anaconda3/lib/python3.6/site-packages/sklearn/model_selection/_validation.py:479: FitFailedWarning: Classifier fit failed. The score on this train-test partition for these parameters will be set to 0.000000. Details: \n",
      "ValueError('Solver newton-cg supports only l2 penalties, got l1 penalty.',)\n",
      "  \"Details: \\n%r\" % (error_score, e), FitFailedWarning)\n",
      "/anaconda3/lib/python3.6/site-packages/sklearn/model_selection/_validation.py:479: FitFailedWarning: Classifier fit failed. The score on this train-test partition for these parameters will be set to 0.000000. Details: \n",
      "ValueError('Solver newton-cg supports only l2 penalties, got l1 penalty.',)\n",
      "  \"Details: \\n%r\" % (error_score, e), FitFailedWarning)\n"
     ]
    },
    {
     "name": "stdout",
     "output_type": "stream",
     "text": [
      "[CV]  C=100, class_weight=balanced, penalty=l1, solver=newton-cg, score=0, total=   0.1s\n",
      "[CV] C=100, class_weight=balanced, penalty=l1, solver=newton-cg ......\n",
      "[CV]  C=100, class_weight=balanced, penalty=l1, solver=newton-cg, score=0, total=   0.1s\n",
      "[CV] C=100, class_weight=balanced, penalty=l1, solver=lbfgs ..........\n",
      "[CV]  C=100, class_weight=balanced, penalty=l1, solver=lbfgs, score=0, total=   0.1s\n",
      "[CV] C=100, class_weight=balanced, penalty=l1, solver=lbfgs ..........\n"
     ]
    },
    {
     "name": "stderr",
     "output_type": "stream",
     "text": [
      "/anaconda3/lib/python3.6/site-packages/sklearn/model_selection/_validation.py:479: FitFailedWarning: Classifier fit failed. The score on this train-test partition for these parameters will be set to 0.000000. Details: \n",
      "ValueError('Solver lbfgs supports only l2 penalties, got l1 penalty.',)\n",
      "  \"Details: \\n%r\" % (error_score, e), FitFailedWarning)\n",
      "/anaconda3/lib/python3.6/site-packages/sklearn/model_selection/_validation.py:479: FitFailedWarning: Classifier fit failed. The score on this train-test partition for these parameters will be set to 0.000000. Details: \n",
      "ValueError('Solver lbfgs supports only l2 penalties, got l1 penalty.',)\n",
      "  \"Details: \\n%r\" % (error_score, e), FitFailedWarning)\n",
      "/anaconda3/lib/python3.6/site-packages/sklearn/model_selection/_validation.py:479: FitFailedWarning: Classifier fit failed. The score on this train-test partition for these parameters will be set to 0.000000. Details: \n",
      "ValueError('Solver lbfgs supports only l2 penalties, got l1 penalty.',)\n",
      "  \"Details: \\n%r\" % (error_score, e), FitFailedWarning)\n"
     ]
    },
    {
     "name": "stdout",
     "output_type": "stream",
     "text": [
      "[CV]  C=100, class_weight=balanced, penalty=l1, solver=lbfgs, score=0, total=   0.1s\n",
      "[CV] C=100, class_weight=balanced, penalty=l1, solver=lbfgs ..........\n",
      "[CV]  C=100, class_weight=balanced, penalty=l1, solver=lbfgs, score=0, total=   0.1s\n",
      "[CV] C=100, class_weight=balanced, penalty=l1, solver=sag ............\n",
      "[CV]  C=100, class_weight=balanced, penalty=l1, solver=sag, score=0, total=   0.1s\n",
      "[CV] C=100, class_weight=balanced, penalty=l1, solver=sag ............\n"
     ]
    },
    {
     "name": "stderr",
     "output_type": "stream",
     "text": [
      "/anaconda3/lib/python3.6/site-packages/sklearn/model_selection/_validation.py:479: FitFailedWarning: Classifier fit failed. The score on this train-test partition for these parameters will be set to 0.000000. Details: \n",
      "ValueError('Solver sag supports only l2 penalties, got l1 penalty.',)\n",
      "  \"Details: \\n%r\" % (error_score, e), FitFailedWarning)\n",
      "/anaconda3/lib/python3.6/site-packages/sklearn/model_selection/_validation.py:479: FitFailedWarning: Classifier fit failed. The score on this train-test partition for these parameters will be set to 0.000000. Details: \n",
      "ValueError('Solver sag supports only l2 penalties, got l1 penalty.',)\n",
      "  \"Details: \\n%r\" % (error_score, e), FitFailedWarning)\n",
      "/anaconda3/lib/python3.6/site-packages/sklearn/model_selection/_validation.py:479: FitFailedWarning: Classifier fit failed. The score on this train-test partition for these parameters will be set to 0.000000. Details: \n",
      "ValueError('Solver sag supports only l2 penalties, got l1 penalty.',)\n",
      "  \"Details: \\n%r\" % (error_score, e), FitFailedWarning)\n"
     ]
    },
    {
     "name": "stdout",
     "output_type": "stream",
     "text": [
      "[CV]  C=100, class_weight=balanced, penalty=l1, solver=sag, score=0, total=   0.1s\n",
      "[CV] C=100, class_weight=balanced, penalty=l1, solver=sag ............\n",
      "[CV]  C=100, class_weight=balanced, penalty=l1, solver=sag, score=0, total=   0.1s\n",
      "[CV] C=100, class_weight=balanced, penalty=l1, solver=saga ...........\n"
     ]
    },
    {
     "name": "stderr",
     "output_type": "stream",
     "text": [
      "/anaconda3/lib/python3.6/site-packages/sklearn/linear_model/sag.py:326: ConvergenceWarning: The max_iter was reached which means the coef_ did not converge\n",
      "  \"the coef_ did not converge\", ConvergenceWarning)\n"
     ]
    },
    {
     "name": "stdout",
     "output_type": "stream",
     "text": [
      "[CV]  C=100, class_weight=balanced, penalty=l1, solver=saga, score=0.6335390146730152, total=  14.3s\n",
      "[CV] C=100, class_weight=balanced, penalty=l1, solver=saga ...........\n"
     ]
    },
    {
     "name": "stderr",
     "output_type": "stream",
     "text": [
      "/anaconda3/lib/python3.6/site-packages/sklearn/linear_model/sag.py:326: ConvergenceWarning: The max_iter was reached which means the coef_ did not converge\n",
      "  \"the coef_ did not converge\", ConvergenceWarning)\n"
     ]
    },
    {
     "name": "stdout",
     "output_type": "stream",
     "text": [
      "[CV]  C=100, class_weight=balanced, penalty=l1, solver=saga, score=0.6439763865607463, total=  14.5s\n",
      "[CV] C=100, class_weight=balanced, penalty=l1, solver=saga ...........\n"
     ]
    },
    {
     "name": "stderr",
     "output_type": "stream",
     "text": [
      "/anaconda3/lib/python3.6/site-packages/sklearn/linear_model/sag.py:326: ConvergenceWarning: The max_iter was reached which means the coef_ did not converge\n",
      "  \"the coef_ did not converge\", ConvergenceWarning)\n"
     ]
    },
    {
     "name": "stdout",
     "output_type": "stream",
     "text": [
      "[CV]  C=100, class_weight=balanced, penalty=l1, solver=saga, score=0.6405908362081532, total=  14.4s\n",
      "[CV] C=100, class_weight=balanced, penalty=l2, solver=liblinear ......\n",
      "[CV]  C=100, class_weight=balanced, penalty=l2, solver=liblinear, score=0.6335633077446312, total=   3.6s\n",
      "[CV] C=100, class_weight=balanced, penalty=l2, solver=liblinear ......\n",
      "[CV]  C=100, class_weight=balanced, penalty=l2, solver=liblinear, score=0.643587687972208, total=   6.0s\n",
      "[CV] C=100, class_weight=balanced, penalty=l2, solver=liblinear ......\n",
      "[CV]  C=100, class_weight=balanced, penalty=l2, solver=liblinear, score=0.6404693649482532, total=   5.1s\n",
      "[CV] C=100, class_weight=balanced, penalty=l2, solver=newton-cg ......\n",
      "[CV]  C=100, class_weight=balanced, penalty=l2, solver=newton-cg, score=0.6335633077446312, total=   6.4s\n",
      "[CV] C=100, class_weight=balanced, penalty=l2, solver=newton-cg ......\n",
      "[CV]  C=100, class_weight=balanced, penalty=l2, solver=newton-cg, score=0.643587687972208, total=   7.7s\n",
      "[CV] C=100, class_weight=balanced, penalty=l2, solver=newton-cg ......\n",
      "[CV]  C=100, class_weight=balanced, penalty=l2, solver=newton-cg, score=0.6404450706962732, total=   7.0s\n",
      "[CV] C=100, class_weight=balanced, penalty=l2, solver=lbfgs ..........\n",
      "[CV]  C=100, class_weight=balanced, penalty=l2, solver=lbfgs, score=0.6336847731027111, total=   0.8s\n",
      "[CV] C=100, class_weight=balanced, penalty=l2, solver=lbfgs ..........\n",
      "[CV]  C=100, class_weight=balanced, penalty=l2, solver=lbfgs, score=0.6436362752957754, total=   0.8s\n",
      "[CV] C=100, class_weight=balanced, penalty=l2, solver=lbfgs ..........\n",
      "[CV]  C=100, class_weight=balanced, penalty=l2, solver=lbfgs, score=0.6404450706962732, total=   0.8s\n",
      "[CV] C=100, class_weight=balanced, penalty=l2, solver=sag ............\n"
     ]
    },
    {
     "name": "stderr",
     "output_type": "stream",
     "text": [
      "/anaconda3/lib/python3.6/site-packages/sklearn/linear_model/sag.py:326: ConvergenceWarning: The max_iter was reached which means the coef_ did not converge\n",
      "  \"the coef_ did not converge\", ConvergenceWarning)\n"
     ]
    },
    {
     "name": "stdout",
     "output_type": "stream",
     "text": [
      "[CV]  C=100, class_weight=balanced, penalty=l2, solver=sag, score=0.6334904285297833, total=   9.4s\n",
      "[CV] C=100, class_weight=balanced, penalty=l2, solver=sag ............\n"
     ]
    },
    {
     "name": "stderr",
     "output_type": "stream",
     "text": [
      "/anaconda3/lib/python3.6/site-packages/sklearn/linear_model/sag.py:326: ConvergenceWarning: The max_iter was reached which means the coef_ did not converge\n",
      "  \"the coef_ did not converge\", ConvergenceWarning)\n"
     ]
    },
    {
     "name": "stdout",
     "output_type": "stream",
     "text": [
      "[CV]  C=100, class_weight=balanced, penalty=l2, solver=sag, score=0.6439763865607463, total=   9.4s\n",
      "[CV] C=100, class_weight=balanced, penalty=l2, solver=sag ............\n"
     ]
    },
    {
     "name": "stderr",
     "output_type": "stream",
     "text": [
      "/anaconda3/lib/python3.6/site-packages/sklearn/linear_model/sag.py:326: ConvergenceWarning: The max_iter was reached which means the coef_ did not converge\n",
      "  \"the coef_ did not converge\", ConvergenceWarning)\n"
     ]
    },
    {
     "name": "stdout",
     "output_type": "stream",
     "text": [
      "[CV]  C=100, class_weight=balanced, penalty=l2, solver=sag, score=0.6404936592002333, total=   9.9s\n",
      "[CV] C=100, class_weight=balanced, penalty=l2, solver=saga ...........\n"
     ]
    },
    {
     "name": "stderr",
     "output_type": "stream",
     "text": [
      "/anaconda3/lib/python3.6/site-packages/sklearn/linear_model/sag.py:326: ConvergenceWarning: The max_iter was reached which means the coef_ did not converge\n",
      "  \"the coef_ did not converge\", ConvergenceWarning)\n"
     ]
    },
    {
     "name": "stdout",
     "output_type": "stream",
     "text": [
      "[CV]  C=100, class_weight=balanced, penalty=l2, solver=saga, score=0.6337090661743271, total=  10.3s\n",
      "[CV] C=100, class_weight=balanced, penalty=l2, solver=saga ...........\n"
     ]
    },
    {
     "name": "stderr",
     "output_type": "stream",
     "text": [
      "/anaconda3/lib/python3.6/site-packages/sklearn/linear_model/sag.py:326: ConvergenceWarning: The max_iter was reached which means the coef_ did not converge\n",
      "  \"the coef_ did not converge\", ConvergenceWarning)\n"
     ]
    },
    {
     "name": "stdout",
     "output_type": "stream",
     "text": [
      "[CV]  C=100, class_weight=balanced, penalty=l2, solver=saga, score=0.6451181886645774, total=  10.5s\n",
      "[CV] C=100, class_weight=balanced, penalty=l2, solver=saga ...........\n"
     ]
    },
    {
     "name": "stderr",
     "output_type": "stream",
     "text": [
      "/anaconda3/lib/python3.6/site-packages/sklearn/linear_model/sag.py:326: ConvergenceWarning: The max_iter was reached which means the coef_ did not converge\n",
      "  \"the coef_ did not converge\", ConvergenceWarning)\n"
     ]
    },
    {
     "name": "stdout",
     "output_type": "stream",
     "text": [
      "[CV]  C=100, class_weight=balanced, penalty=l2, solver=saga, score=0.6412710752635926, total=  11.1s\n",
      "[CV] C=500, class_weight=None, penalty=l1, solver=liblinear ..........\n",
      "[CV]  C=500, class_weight=None, penalty=l1, solver=liblinear, score=0.8445729278009911, total=   1.8s\n",
      "[CV] C=500, class_weight=None, penalty=l1, solver=liblinear ..........\n",
      "[CV]  C=500, class_weight=None, penalty=l1, solver=liblinear, score=0.843767461069407, total=   1.9s\n",
      "[CV] C=500, class_weight=None, penalty=l1, solver=liblinear ..........\n",
      "[CV]  C=500, class_weight=None, penalty=l1, solver=liblinear, score=0.8443224333122783, total=   2.0s\n",
      "[CV] C=500, class_weight=None, penalty=l1, solver=newton-cg ..........\n",
      "[CV]  C=500, class_weight=None, penalty=l1, solver=newton-cg, score=0, total=   0.1s\n",
      "[CV] C=500, class_weight=None, penalty=l1, solver=newton-cg ..........\n"
     ]
    },
    {
     "name": "stderr",
     "output_type": "stream",
     "text": [
      "/anaconda3/lib/python3.6/site-packages/sklearn/model_selection/_validation.py:479: FitFailedWarning: Classifier fit failed. The score on this train-test partition for these parameters will be set to 0.000000. Details: \n",
      "ValueError('Solver newton-cg supports only l2 penalties, got l1 penalty.',)\n",
      "  \"Details: \\n%r\" % (error_score, e), FitFailedWarning)\n",
      "/anaconda3/lib/python3.6/site-packages/sklearn/model_selection/_validation.py:479: FitFailedWarning: Classifier fit failed. The score on this train-test partition for these parameters will be set to 0.000000. Details: \n",
      "ValueError('Solver newton-cg supports only l2 penalties, got l1 penalty.',)\n",
      "  \"Details: \\n%r\" % (error_score, e), FitFailedWarning)\n"
     ]
    },
    {
     "name": "stdout",
     "output_type": "stream",
     "text": [
      "[CV]  C=500, class_weight=None, penalty=l1, solver=newton-cg, score=0, total=   0.1s\n",
      "[CV] C=500, class_weight=None, penalty=l1, solver=newton-cg ..........\n",
      "[CV]  C=500, class_weight=None, penalty=l1, solver=newton-cg, score=0, total=   0.1s\n",
      "[CV] C=500, class_weight=None, penalty=l1, solver=lbfgs ..............\n",
      "[CV]  C=500, class_weight=None, penalty=l1, solver=lbfgs, score=0, total=   0.1s\n",
      "[CV] C=500, class_weight=None, penalty=l1, solver=lbfgs ..............\n"
     ]
    },
    {
     "name": "stderr",
     "output_type": "stream",
     "text": [
      "/anaconda3/lib/python3.6/site-packages/sklearn/model_selection/_validation.py:479: FitFailedWarning: Classifier fit failed. The score on this train-test partition for these parameters will be set to 0.000000. Details: \n",
      "ValueError('Solver newton-cg supports only l2 penalties, got l1 penalty.',)\n",
      "  \"Details: \\n%r\" % (error_score, e), FitFailedWarning)\n",
      "/anaconda3/lib/python3.6/site-packages/sklearn/model_selection/_validation.py:479: FitFailedWarning: Classifier fit failed. The score on this train-test partition for these parameters will be set to 0.000000. Details: \n",
      "ValueError('Solver lbfgs supports only l2 penalties, got l1 penalty.',)\n",
      "  \"Details: \\n%r\" % (error_score, e), FitFailedWarning)\n",
      "/anaconda3/lib/python3.6/site-packages/sklearn/model_selection/_validation.py:479: FitFailedWarning: Classifier fit failed. The score on this train-test partition for these parameters will be set to 0.000000. Details: \n",
      "ValueError('Solver lbfgs supports only l2 penalties, got l1 penalty.',)\n",
      "  \"Details: \\n%r\" % (error_score, e), FitFailedWarning)\n"
     ]
    },
    {
     "name": "stdout",
     "output_type": "stream",
     "text": [
      "[CV]  C=500, class_weight=None, penalty=l1, solver=lbfgs, score=0, total=   0.1s\n",
      "[CV] C=500, class_weight=None, penalty=l1, solver=lbfgs ..............\n",
      "[CV]  C=500, class_weight=None, penalty=l1, solver=lbfgs, score=0, total=   0.1s\n",
      "[CV] C=500, class_weight=None, penalty=l1, solver=sag ................\n",
      "[CV]  C=500, class_weight=None, penalty=l1, solver=sag, score=0, total=   0.1s\n",
      "[CV] C=500, class_weight=None, penalty=l1, solver=sag ................\n"
     ]
    },
    {
     "name": "stderr",
     "output_type": "stream",
     "text": [
      "/anaconda3/lib/python3.6/site-packages/sklearn/model_selection/_validation.py:479: FitFailedWarning: Classifier fit failed. The score on this train-test partition for these parameters will be set to 0.000000. Details: \n",
      "ValueError('Solver lbfgs supports only l2 penalties, got l1 penalty.',)\n",
      "  \"Details: \\n%r\" % (error_score, e), FitFailedWarning)\n",
      "/anaconda3/lib/python3.6/site-packages/sklearn/model_selection/_validation.py:479: FitFailedWarning: Classifier fit failed. The score on this train-test partition for these parameters will be set to 0.000000. Details: \n",
      "ValueError('Solver sag supports only l2 penalties, got l1 penalty.',)\n",
      "  \"Details: \\n%r\" % (error_score, e), FitFailedWarning)\n",
      "/anaconda3/lib/python3.6/site-packages/sklearn/model_selection/_validation.py:479: FitFailedWarning: Classifier fit failed. The score on this train-test partition for these parameters will be set to 0.000000. Details: \n",
      "ValueError('Solver sag supports only l2 penalties, got l1 penalty.',)\n",
      "  \"Details: \\n%r\" % (error_score, e), FitFailedWarning)\n",
      "/anaconda3/lib/python3.6/site-packages/sklearn/model_selection/_validation.py:479: FitFailedWarning: Classifier fit failed. The score on this train-test partition for these parameters will be set to 0.000000. Details: \n",
      "ValueError('Solver sag supports only l2 penalties, got l1 penalty.',)\n",
      "  \"Details: \\n%r\" % (error_score, e), FitFailedWarning)\n"
     ]
    },
    {
     "name": "stdout",
     "output_type": "stream",
     "text": [
      "[CV]  C=500, class_weight=None, penalty=l1, solver=sag, score=0, total=   0.1s\n",
      "[CV] C=500, class_weight=None, penalty=l1, solver=sag ................\n",
      "[CV]  C=500, class_weight=None, penalty=l1, solver=sag, score=0, total=   0.1s\n",
      "[CV] C=500, class_weight=None, penalty=l1, solver=saga ...............\n"
     ]
    },
    {
     "name": "stderr",
     "output_type": "stream",
     "text": [
      "/anaconda3/lib/python3.6/site-packages/sklearn/linear_model/sag.py:326: ConvergenceWarning: The max_iter was reached which means the coef_ did not converge\n",
      "  \"the coef_ did not converge\", ConvergenceWarning)\n"
     ]
    },
    {
     "name": "stdout",
     "output_type": "stream",
     "text": [
      "[CV]  C=500, class_weight=None, penalty=l1, solver=saga, score=0.8445000485861432, total=  14.2s\n",
      "[CV] C=500, class_weight=None, penalty=l1, solver=saga ...............\n"
     ]
    },
    {
     "name": "stderr",
     "output_type": "stream",
     "text": [
      "/anaconda3/lib/python3.6/site-packages/sklearn/linear_model/sag.py:326: ConvergenceWarning: The max_iter was reached which means the coef_ did not converge\n",
      "  \"the coef_ did not converge\", ConvergenceWarning)\n"
     ]
    },
    {
     "name": "stdout",
     "output_type": "stream",
     "text": [
      "[CV]  C=500, class_weight=None, penalty=l1, solver=saga, score=0.8437431674076233, total=  14.7s\n",
      "[CV] C=500, class_weight=None, penalty=l1, solver=saga ...............\n"
     ]
    },
    {
     "name": "stderr",
     "output_type": "stream",
     "text": [
      "/anaconda3/lib/python3.6/site-packages/sklearn/linear_model/sag.py:326: ConvergenceWarning: The max_iter was reached which means the coef_ did not converge\n",
      "  \"the coef_ did not converge\", ConvergenceWarning)\n"
     ]
    },
    {
     "name": "stdout",
     "output_type": "stream",
     "text": [
      "[CV]  C=500, class_weight=None, penalty=l1, solver=saga, score=0.8443467275642583, total=  14.1s\n",
      "[CV] C=500, class_weight=None, penalty=l2, solver=liblinear ..........\n",
      "[CV]  C=500, class_weight=None, penalty=l2, solver=liblinear, score=0.8445243416577592, total=   1.2s\n",
      "[CV] C=500, class_weight=None, penalty=l2, solver=liblinear ..........\n",
      "[CV]  C=500, class_weight=None, penalty=l2, solver=liblinear, score=0.8437431674076233, total=   2.9s\n",
      "[CV] C=500, class_weight=None, penalty=l2, solver=liblinear ..........\n",
      "[CV]  C=500, class_weight=None, penalty=l2, solver=liblinear, score=0.8443224333122783, total=   4.2s\n",
      "[CV] C=500, class_weight=None, penalty=l2, solver=newton-cg ..........\n",
      "[CV]  C=500, class_weight=None, penalty=l2, solver=newton-cg, score=0.8445243416577592, total=  14.8s\n",
      "[CV] C=500, class_weight=None, penalty=l2, solver=newton-cg ..........\n",
      "[CV]  C=500, class_weight=None, penalty=l2, solver=newton-cg, score=0.843767461069407, total=  15.4s\n",
      "[CV] C=500, class_weight=None, penalty=l2, solver=newton-cg ..........\n",
      "[CV]  C=500, class_weight=None, penalty=l2, solver=newton-cg, score=0.8443467275642583, total=  21.3s\n",
      "[CV] C=500, class_weight=None, penalty=l2, solver=lbfgs ..............\n",
      "[CV]  C=500, class_weight=None, penalty=l2, solver=lbfgs, score=0.8445243416577592, total=   0.8s\n",
      "[CV] C=500, class_weight=None, penalty=l2, solver=lbfgs ..............\n",
      "[CV]  C=500, class_weight=None, penalty=l2, solver=lbfgs, score=0.843767461069407, total=   0.8s\n",
      "[CV] C=500, class_weight=None, penalty=l2, solver=lbfgs ..............\n",
      "[CV]  C=500, class_weight=None, penalty=l2, solver=lbfgs, score=0.8443467275642583, total=   0.8s\n",
      "[CV] C=500, class_weight=None, penalty=l2, solver=sag ................\n"
     ]
    },
    {
     "name": "stderr",
     "output_type": "stream",
     "text": [
      "/anaconda3/lib/python3.6/site-packages/sklearn/linear_model/sag.py:326: ConvergenceWarning: The max_iter was reached which means the coef_ did not converge\n",
      "  \"the coef_ did not converge\", ConvergenceWarning)\n"
     ]
    },
    {
     "name": "stdout",
     "output_type": "stream",
     "text": [
      "[CV]  C=500, class_weight=None, penalty=l2, solver=sag, score=0.8445000485861432, total=  11.1s\n",
      "[CV] C=500, class_weight=None, penalty=l2, solver=sag ................\n"
     ]
    },
    {
     "name": "stderr",
     "output_type": "stream",
     "text": [
      "/anaconda3/lib/python3.6/site-packages/sklearn/linear_model/sag.py:326: ConvergenceWarning: The max_iter was reached which means the coef_ did not converge\n",
      "  \"the coef_ did not converge\", ConvergenceWarning)\n"
     ]
    },
    {
     "name": "stdout",
     "output_type": "stream",
     "text": [
      "[CV]  C=500, class_weight=None, penalty=l2, solver=sag, score=0.8437188737458398, total=  11.3s\n",
      "[CV] C=500, class_weight=None, penalty=l2, solver=sag ................\n"
     ]
    },
    {
     "name": "stderr",
     "output_type": "stream",
     "text": [
      "/anaconda3/lib/python3.6/site-packages/sklearn/linear_model/sag.py:326: ConvergenceWarning: The max_iter was reached which means the coef_ did not converge\n",
      "  \"the coef_ did not converge\", ConvergenceWarning)\n"
     ]
    },
    {
     "name": "stdout",
     "output_type": "stream",
     "text": [
      "[CV]  C=500, class_weight=None, penalty=l2, solver=sag, score=0.8443467275642583, total=  10.5s\n",
      "[CV] C=500, class_weight=None, penalty=l2, solver=saga ...............\n"
     ]
    },
    {
     "name": "stderr",
     "output_type": "stream",
     "text": [
      "/anaconda3/lib/python3.6/site-packages/sklearn/linear_model/sag.py:326: ConvergenceWarning: The max_iter was reached which means the coef_ did not converge\n",
      "  \"the coef_ did not converge\", ConvergenceWarning)\n"
     ]
    },
    {
     "name": "stdout",
     "output_type": "stream",
     "text": [
      "[CV]  C=500, class_weight=None, penalty=l2, solver=saga, score=0.8445729278009911, total=  10.3s\n",
      "[CV] C=500, class_weight=None, penalty=l2, solver=saga ...............\n"
     ]
    },
    {
     "name": "stderr",
     "output_type": "stream",
     "text": [
      "/anaconda3/lib/python3.6/site-packages/sklearn/linear_model/sag.py:326: ConvergenceWarning: The max_iter was reached which means the coef_ did not converge\n",
      "  \"the coef_ did not converge\", ConvergenceWarning)\n"
     ]
    },
    {
     "name": "stdout",
     "output_type": "stream",
     "text": [
      "[CV]  C=500, class_weight=None, penalty=l2, solver=saga, score=0.8435488181133542, total=  11.4s\n",
      "[CV] C=500, class_weight=None, penalty=l2, solver=saga ...............\n"
     ]
    },
    {
     "name": "stderr",
     "output_type": "stream",
     "text": [
      "/anaconda3/lib/python3.6/site-packages/sklearn/linear_model/sag.py:326: ConvergenceWarning: The max_iter was reached which means the coef_ did not converge\n",
      "  \"the coef_ did not converge\", ConvergenceWarning)\n"
     ]
    },
    {
     "name": "stdout",
     "output_type": "stream",
     "text": [
      "[CV]  C=500, class_weight=None, penalty=l2, solver=saga, score=0.8442738448083184, total=  11.6s\n",
      "[CV] C=500, class_weight=balanced, penalty=l1, solver=liblinear ......\n",
      "[CV]  C=500, class_weight=balanced, penalty=l1, solver=liblinear, score=0.6335876008162472, total=   2.5s\n",
      "[CV] C=500, class_weight=balanced, penalty=l1, solver=liblinear ......\n",
      "[CV]  C=500, class_weight=balanced, penalty=l1, solver=liblinear, score=0.643587687972208, total=   2.1s\n",
      "[CV] C=500, class_weight=balanced, penalty=l1, solver=liblinear ......\n",
      "[CV]  C=500, class_weight=balanced, penalty=l1, solver=liblinear, score=0.6404936592002333, total=   2.2s\n",
      "[CV] C=500, class_weight=balanced, penalty=l1, solver=newton-cg ......\n",
      "[CV]  C=500, class_weight=balanced, penalty=l1, solver=newton-cg, score=0, total=   0.1s\n",
      "[CV] C=500, class_weight=balanced, penalty=l1, solver=newton-cg ......\n"
     ]
    },
    {
     "name": "stderr",
     "output_type": "stream",
     "text": [
      "/anaconda3/lib/python3.6/site-packages/sklearn/model_selection/_validation.py:479: FitFailedWarning: Classifier fit failed. The score on this train-test partition for these parameters will be set to 0.000000. Details: \n",
      "ValueError('Solver newton-cg supports only l2 penalties, got l1 penalty.',)\n",
      "  \"Details: \\n%r\" % (error_score, e), FitFailedWarning)\n",
      "/anaconda3/lib/python3.6/site-packages/sklearn/model_selection/_validation.py:479: FitFailedWarning: Classifier fit failed. The score on this train-test partition for these parameters will be set to 0.000000. Details: \n",
      "ValueError('Solver newton-cg supports only l2 penalties, got l1 penalty.',)\n",
      "  \"Details: \\n%r\" % (error_score, e), FitFailedWarning)\n"
     ]
    },
    {
     "name": "stdout",
     "output_type": "stream",
     "text": [
      "[CV]  C=500, class_weight=balanced, penalty=l1, solver=newton-cg, score=0, total=   0.1s\n",
      "[CV] C=500, class_weight=balanced, penalty=l1, solver=newton-cg ......\n",
      "[CV]  C=500, class_weight=balanced, penalty=l1, solver=newton-cg, score=0, total=   0.1s\n",
      "[CV] C=500, class_weight=balanced, penalty=l1, solver=lbfgs ..........\n",
      "[CV]  C=500, class_weight=balanced, penalty=l1, solver=lbfgs, score=0, total=   0.1s\n",
      "[CV] C=500, class_weight=balanced, penalty=l1, solver=lbfgs ..........\n"
     ]
    },
    {
     "name": "stderr",
     "output_type": "stream",
     "text": [
      "/anaconda3/lib/python3.6/site-packages/sklearn/model_selection/_validation.py:479: FitFailedWarning: Classifier fit failed. The score on this train-test partition for these parameters will be set to 0.000000. Details: \n",
      "ValueError('Solver newton-cg supports only l2 penalties, got l1 penalty.',)\n",
      "  \"Details: \\n%r\" % (error_score, e), FitFailedWarning)\n",
      "/anaconda3/lib/python3.6/site-packages/sklearn/model_selection/_validation.py:479: FitFailedWarning: Classifier fit failed. The score on this train-test partition for these parameters will be set to 0.000000. Details: \n",
      "ValueError('Solver lbfgs supports only l2 penalties, got l1 penalty.',)\n",
      "  \"Details: \\n%r\" % (error_score, e), FitFailedWarning)\n",
      "/anaconda3/lib/python3.6/site-packages/sklearn/model_selection/_validation.py:479: FitFailedWarning: Classifier fit failed. The score on this train-test partition for these parameters will be set to 0.000000. Details: \n",
      "ValueError('Solver lbfgs supports only l2 penalties, got l1 penalty.',)\n",
      "  \"Details: \\n%r\" % (error_score, e), FitFailedWarning)\n"
     ]
    },
    {
     "name": "stdout",
     "output_type": "stream",
     "text": [
      "[CV]  C=500, class_weight=balanced, penalty=l1, solver=lbfgs, score=0, total=   0.1s\n",
      "[CV] C=500, class_weight=balanced, penalty=l1, solver=lbfgs ..........\n",
      "[CV]  C=500, class_weight=balanced, penalty=l1, solver=lbfgs, score=0, total=   0.1s\n",
      "[CV] C=500, class_weight=balanced, penalty=l1, solver=sag ............\n",
      "[CV]  C=500, class_weight=balanced, penalty=l1, solver=sag, score=0, total=   0.1s\n",
      "[CV] C=500, class_weight=balanced, penalty=l1, solver=sag ............"
     ]
    },
    {
     "name": "stderr",
     "output_type": "stream",
     "text": [
      "/anaconda3/lib/python3.6/site-packages/sklearn/model_selection/_validation.py:479: FitFailedWarning: Classifier fit failed. The score on this train-test partition for these parameters will be set to 0.000000. Details: \n",
      "ValueError('Solver lbfgs supports only l2 penalties, got l1 penalty.',)\n",
      "  \"Details: \\n%r\" % (error_score, e), FitFailedWarning)\n",
      "/anaconda3/lib/python3.6/site-packages/sklearn/model_selection/_validation.py:479: FitFailedWarning: Classifier fit failed. The score on this train-test partition for these parameters will be set to 0.000000. Details: \n",
      "ValueError('Solver sag supports only l2 penalties, got l1 penalty.',)\n",
      "  \"Details: \\n%r\" % (error_score, e), FitFailedWarning)\n",
      "/anaconda3/lib/python3.6/site-packages/sklearn/model_selection/_validation.py:479: FitFailedWarning: Classifier fit failed. The score on this train-test partition for these parameters will be set to 0.000000. Details: \n",
      "ValueError('Solver sag supports only l2 penalties, got l1 penalty.',)\n",
      "  \"Details: \\n%r\" % (error_score, e), FitFailedWarning)\n",
      "/anaconda3/lib/python3.6/site-packages/sklearn/model_selection/_validation.py:479: FitFailedWarning: Classifier fit failed. The score on this train-test partition for these parameters will be set to 0.000000. Details: \n",
      "ValueError('Solver sag supports only l2 penalties, got l1 penalty.',)\n",
      "  \"Details: \\n%r\" % (error_score, e), FitFailedWarning)\n"
     ]
    },
    {
     "name": "stdout",
     "output_type": "stream",
     "text": [
      "\n",
      "[CV]  C=500, class_weight=balanced, penalty=l1, solver=sag, score=0, total=   0.1s\n",
      "[CV] C=500, class_weight=balanced, penalty=l1, solver=sag ............\n",
      "[CV]  C=500, class_weight=balanced, penalty=l1, solver=sag, score=0, total=   0.1s\n",
      "[CV] C=500, class_weight=balanced, penalty=l1, solver=saga ...........\n"
     ]
    },
    {
     "name": "stderr",
     "output_type": "stream",
     "text": [
      "/anaconda3/lib/python3.6/site-packages/sklearn/linear_model/sag.py:326: ConvergenceWarning: The max_iter was reached which means the coef_ did not converge\n",
      "  \"the coef_ did not converge\", ConvergenceWarning)\n"
     ]
    },
    {
     "name": "stdout",
     "output_type": "stream",
     "text": [
      "[CV]  C=500, class_weight=balanced, penalty=l1, solver=saga, score=0.6335147216013993, total=  14.9s\n",
      "[CV] C=500, class_weight=balanced, penalty=l1, solver=saga ...........\n"
     ]
    },
    {
     "name": "stderr",
     "output_type": "stream",
     "text": [
      "/anaconda3/lib/python3.6/site-packages/sklearn/linear_model/sag.py:326: ConvergenceWarning: The max_iter was reached which means the coef_ did not converge\n",
      "  \"the coef_ did not converge\", ConvergenceWarning)\n"
     ]
    },
    {
     "name": "stdout",
     "output_type": "stream",
     "text": [
      "[CV]  C=500, class_weight=balanced, penalty=l1, solver=saga, score=0.6440492675460973, total=  15.0s\n",
      "[CV] C=500, class_weight=balanced, penalty=l1, solver=saga ...........\n"
     ]
    },
    {
     "name": "stderr",
     "output_type": "stream",
     "text": [
      "/anaconda3/lib/python3.6/site-packages/sklearn/linear_model/sag.py:326: ConvergenceWarning: The max_iter was reached which means the coef_ did not converge\n",
      "  \"the coef_ did not converge\", ConvergenceWarning)\n"
     ]
    },
    {
     "name": "stdout",
     "output_type": "stream",
     "text": [
      "[CV]  C=500, class_weight=balanced, penalty=l1, solver=saga, score=0.6405665419561731, total=  15.0s\n",
      "[CV] C=500, class_weight=balanced, penalty=l2, solver=liblinear ......\n",
      "[CV]  C=500, class_weight=balanced, penalty=l2, solver=liblinear, score=0.6335633077446312, total=   2.5s\n",
      "[CV] C=500, class_weight=balanced, penalty=l2, solver=liblinear ......\n",
      "[CV]  C=500, class_weight=balanced, penalty=l2, solver=liblinear, score=0.6435633943104244, total=   6.0s\n",
      "[CV] C=500, class_weight=balanced, penalty=l2, solver=liblinear ......\n",
      "[CV]  C=500, class_weight=balanced, penalty=l2, solver=liblinear, score=0.6404207764442933, total=   4.6s\n",
      "[CV] C=500, class_weight=balanced, penalty=l2, solver=newton-cg ......\n",
      "[CV]  C=500, class_weight=balanced, penalty=l2, solver=newton-cg, score=0.6335876008162472, total=  11.6s\n",
      "[CV] C=500, class_weight=balanced, penalty=l2, solver=newton-cg ......\n",
      "[CV]  C=500, class_weight=balanced, penalty=l2, solver=newton-cg, score=0.643587687972208, total=  12.0s\n",
      "[CV] C=500, class_weight=balanced, penalty=l2, solver=newton-cg ......\n",
      "[CV]  C=500, class_weight=balanced, penalty=l2, solver=newton-cg, score=0.6404450706962732, total=  11.5s\n",
      "[CV] C=500, class_weight=balanced, penalty=l2, solver=lbfgs ..........\n",
      "[CV]  C=500, class_weight=balanced, penalty=l2, solver=lbfgs, score=0.633806238460791, total=   0.8s\n",
      "[CV] C=500, class_weight=balanced, penalty=l2, solver=lbfgs ..........\n",
      "[CV]  C=500, class_weight=balanced, penalty=l2, solver=lbfgs, score=0.6433690450161553, total=   0.8s\n",
      "[CV] C=500, class_weight=balanced, penalty=l2, solver=lbfgs ..........\n",
      "[CV]  C=500, class_weight=balanced, penalty=l2, solver=lbfgs, score=0.6404450706962732, total=   0.9s\n",
      "[CV] C=500, class_weight=balanced, penalty=l2, solver=sag ............\n"
     ]
    },
    {
     "name": "stderr",
     "output_type": "stream",
     "text": [
      "/anaconda3/lib/python3.6/site-packages/sklearn/linear_model/sag.py:326: ConvergenceWarning: The max_iter was reached which means the coef_ did not converge\n",
      "  \"the coef_ did not converge\", ConvergenceWarning)\n"
     ]
    },
    {
     "name": "stdout",
     "output_type": "stream",
     "text": [
      "[CV]  C=500, class_weight=balanced, penalty=l2, solver=sag, score=0.6334904285297833, total=  10.0s\n",
      "[CV] C=500, class_weight=balanced, penalty=l2, solver=sag ............\n"
     ]
    },
    {
     "name": "stderr",
     "output_type": "stream",
     "text": [
      "/anaconda3/lib/python3.6/site-packages/sklearn/linear_model/sag.py:326: ConvergenceWarning: The max_iter was reached which means the coef_ did not converge\n",
      "  \"the coef_ did not converge\", ConvergenceWarning)\n"
     ]
    },
    {
     "name": "stdout",
     "output_type": "stream",
     "text": [
      "[CV]  C=500, class_weight=balanced, penalty=l2, solver=sag, score=0.64400068022253, total=  11.1s\n",
      "[CV] C=500, class_weight=balanced, penalty=l2, solver=sag ............\n"
     ]
    },
    {
     "name": "stderr",
     "output_type": "stream",
     "text": [
      "/anaconda3/lib/python3.6/site-packages/sklearn/linear_model/sag.py:326: ConvergenceWarning: The max_iter was reached which means the coef_ did not converge\n",
      "  \"the coef_ did not converge\", ConvergenceWarning)\n"
     ]
    },
    {
     "name": "stdout",
     "output_type": "stream",
     "text": [
      "[CV]  C=500, class_weight=balanced, penalty=l2, solver=sag, score=0.6404936592002333, total=  11.1s\n",
      "[CV] C=500, class_weight=balanced, penalty=l2, solver=saga ...........\n"
     ]
    },
    {
     "name": "stderr",
     "output_type": "stream",
     "text": [
      "/anaconda3/lib/python3.6/site-packages/sklearn/linear_model/sag.py:326: ConvergenceWarning: The max_iter was reached which means the coef_ did not converge\n",
      "  \"the coef_ did not converge\", ConvergenceWarning)\n"
     ]
    },
    {
     "name": "stdout",
     "output_type": "stream",
     "text": [
      "[CV]  C=500, class_weight=balanced, penalty=l2, solver=saga, score=0.6337090661743271, total=   9.7s\n",
      "[CV] C=500, class_weight=balanced, penalty=l2, solver=saga ...........\n"
     ]
    },
    {
     "name": "stderr",
     "output_type": "stream",
     "text": [
      "/anaconda3/lib/python3.6/site-packages/sklearn/linear_model/sag.py:326: ConvergenceWarning: The max_iter was reached which means the coef_ did not converge\n",
      "  \"the coef_ did not converge\", ConvergenceWarning)\n"
     ]
    },
    {
     "name": "stdout",
     "output_type": "stream",
     "text": [
      "[CV]  C=500, class_weight=balanced, penalty=l2, solver=saga, score=0.6450696013410101, total=  10.8s\n",
      "[CV] C=500, class_weight=balanced, penalty=l2, solver=saga ...........\n"
     ]
    },
    {
     "name": "stderr",
     "output_type": "stream",
     "text": [
      "/anaconda3/lib/python3.6/site-packages/sklearn/linear_model/sag.py:326: ConvergenceWarning: The max_iter was reached which means the coef_ did not converge\n",
      "  \"the coef_ did not converge\", ConvergenceWarning)\n"
     ]
    },
    {
     "name": "stdout",
     "output_type": "stream",
     "text": [
      "[CV]  C=500, class_weight=balanced, penalty=l2, solver=saga, score=0.6412710752635926, total=  11.6s\n",
      "[CV] C=1000, class_weight=None, penalty=l1, solver=liblinear .........\n",
      "[CV]  C=1000, class_weight=None, penalty=l1, solver=liblinear, score=0.8445729278009911, total=   1.9s\n",
      "[CV] C=1000, class_weight=None, penalty=l1, solver=liblinear .........\n",
      "[CV]  C=1000, class_weight=None, penalty=l1, solver=liblinear, score=0.8438160483929743, total=   1.7s\n",
      "[CV] C=1000, class_weight=None, penalty=l1, solver=liblinear .........\n",
      "[CV]  C=1000, class_weight=None, penalty=l1, solver=liblinear, score=0.8443224333122783, total=   1.7s\n",
      "[CV] C=1000, class_weight=None, penalty=l1, solver=newton-cg .........\n",
      "[CV]  C=1000, class_weight=None, penalty=l1, solver=newton-cg, score=0, total=   0.1s\n",
      "[CV] C=1000, class_weight=None, penalty=l1, solver=newton-cg .........\n"
     ]
    },
    {
     "name": "stderr",
     "output_type": "stream",
     "text": [
      "/anaconda3/lib/python3.6/site-packages/sklearn/model_selection/_validation.py:479: FitFailedWarning: Classifier fit failed. The score on this train-test partition for these parameters will be set to 0.000000. Details: \n",
      "ValueError('Solver newton-cg supports only l2 penalties, got l1 penalty.',)\n",
      "  \"Details: \\n%r\" % (error_score, e), FitFailedWarning)\n",
      "/anaconda3/lib/python3.6/site-packages/sklearn/model_selection/_validation.py:479: FitFailedWarning: Classifier fit failed. The score on this train-test partition for these parameters will be set to 0.000000. Details: \n",
      "ValueError('Solver newton-cg supports only l2 penalties, got l1 penalty.',)\n",
      "  \"Details: \\n%r\" % (error_score, e), FitFailedWarning)\n",
      "/anaconda3/lib/python3.6/site-packages/sklearn/model_selection/_validation.py:479: FitFailedWarning: Classifier fit failed. The score on this train-test partition for these parameters will be set to 0.000000. Details: \n",
      "ValueError('Solver newton-cg supports only l2 penalties, got l1 penalty.',)\n",
      "  \"Details: \\n%r\" % (error_score, e), FitFailedWarning)\n"
     ]
    },
    {
     "name": "stdout",
     "output_type": "stream",
     "text": [
      "[CV]  C=1000, class_weight=None, penalty=l1, solver=newton-cg, score=0, total=   0.1s\n",
      "[CV] C=1000, class_weight=None, penalty=l1, solver=newton-cg .........\n",
      "[CV]  C=1000, class_weight=None, penalty=l1, solver=newton-cg, score=0, total=   0.1s\n",
      "[CV] C=1000, class_weight=None, penalty=l1, solver=lbfgs .............\n",
      "[CV]  C=1000, class_weight=None, penalty=l1, solver=lbfgs, score=0, total=   0.1s\n",
      "[CV] C=1000, class_weight=None, penalty=l1, solver=lbfgs .............\n"
     ]
    },
    {
     "name": "stderr",
     "output_type": "stream",
     "text": [
      "/anaconda3/lib/python3.6/site-packages/sklearn/model_selection/_validation.py:479: FitFailedWarning: Classifier fit failed. The score on this train-test partition for these parameters will be set to 0.000000. Details: \n",
      "ValueError('Solver lbfgs supports only l2 penalties, got l1 penalty.',)\n",
      "  \"Details: \\n%r\" % (error_score, e), FitFailedWarning)\n",
      "/anaconda3/lib/python3.6/site-packages/sklearn/model_selection/_validation.py:479: FitFailedWarning: Classifier fit failed. The score on this train-test partition for these parameters will be set to 0.000000. Details: \n",
      "ValueError('Solver lbfgs supports only l2 penalties, got l1 penalty.',)\n",
      "  \"Details: \\n%r\" % (error_score, e), FitFailedWarning)\n",
      "/anaconda3/lib/python3.6/site-packages/sklearn/model_selection/_validation.py:479: FitFailedWarning: Classifier fit failed. The score on this train-test partition for these parameters will be set to 0.000000. Details: \n",
      "ValueError('Solver lbfgs supports only l2 penalties, got l1 penalty.',)\n",
      "  \"Details: \\n%r\" % (error_score, e), FitFailedWarning)\n"
     ]
    },
    {
     "name": "stdout",
     "output_type": "stream",
     "text": [
      "[CV]  C=1000, class_weight=None, penalty=l1, solver=lbfgs, score=0, total=   0.1s\n",
      "[CV] C=1000, class_weight=None, penalty=l1, solver=lbfgs .............\n",
      "[CV]  C=1000, class_weight=None, penalty=l1, solver=lbfgs, score=0, total=   0.1s\n",
      "[CV] C=1000, class_weight=None, penalty=l1, solver=sag ...............\n",
      "[CV]  C=1000, class_weight=None, penalty=l1, solver=sag, score=0, total=   0.1s\n",
      "[CV] C=1000, class_weight=None, penalty=l1, solver=sag ...............\n"
     ]
    },
    {
     "name": "stderr",
     "output_type": "stream",
     "text": [
      "/anaconda3/lib/python3.6/site-packages/sklearn/model_selection/_validation.py:479: FitFailedWarning: Classifier fit failed. The score on this train-test partition for these parameters will be set to 0.000000. Details: \n",
      "ValueError('Solver sag supports only l2 penalties, got l1 penalty.',)\n",
      "  \"Details: \\n%r\" % (error_score, e), FitFailedWarning)\n",
      "/anaconda3/lib/python3.6/site-packages/sklearn/model_selection/_validation.py:479: FitFailedWarning: Classifier fit failed. The score on this train-test partition for these parameters will be set to 0.000000. Details: \n",
      "ValueError('Solver sag supports only l2 penalties, got l1 penalty.',)\n",
      "  \"Details: \\n%r\" % (error_score, e), FitFailedWarning)\n",
      "/anaconda3/lib/python3.6/site-packages/sklearn/model_selection/_validation.py:479: FitFailedWarning: Classifier fit failed. The score on this train-test partition for these parameters will be set to 0.000000. Details: \n",
      "ValueError('Solver sag supports only l2 penalties, got l1 penalty.',)\n",
      "  \"Details: \\n%r\" % (error_score, e), FitFailedWarning)\n"
     ]
    },
    {
     "name": "stdout",
     "output_type": "stream",
     "text": [
      "[CV]  C=1000, class_weight=None, penalty=l1, solver=sag, score=0, total=   0.1s\n",
      "[CV] C=1000, class_weight=None, penalty=l1, solver=sag ...............\n",
      "[CV]  C=1000, class_weight=None, penalty=l1, solver=sag, score=0, total=   0.1s\n",
      "[CV] C=1000, class_weight=None, penalty=l1, solver=saga ..............\n"
     ]
    },
    {
     "name": "stderr",
     "output_type": "stream",
     "text": [
      "/anaconda3/lib/python3.6/site-packages/sklearn/linear_model/sag.py:326: ConvergenceWarning: The max_iter was reached which means the coef_ did not converge\n",
      "  \"the coef_ did not converge\", ConvergenceWarning)\n"
     ]
    },
    {
     "name": "stdout",
     "output_type": "stream",
     "text": [
      "[CV]  C=1000, class_weight=None, penalty=l1, solver=saga, score=0.8445000485861432, total=  15.2s\n",
      "[CV] C=1000, class_weight=None, penalty=l1, solver=saga ..............\n"
     ]
    },
    {
     "name": "stderr",
     "output_type": "stream",
     "text": [
      "/anaconda3/lib/python3.6/site-packages/sklearn/linear_model/sag.py:326: ConvergenceWarning: The max_iter was reached which means the coef_ did not converge\n",
      "  \"the coef_ did not converge\", ConvergenceWarning)\n"
     ]
    },
    {
     "name": "stdout",
     "output_type": "stream",
     "text": [
      "[CV]  C=1000, class_weight=None, penalty=l1, solver=saga, score=0.8437188737458398, total=  15.1s\n",
      "[CV] C=1000, class_weight=None, penalty=l1, solver=saga ..............\n"
     ]
    },
    {
     "name": "stderr",
     "output_type": "stream",
     "text": [
      "/anaconda3/lib/python3.6/site-packages/sklearn/linear_model/sag.py:326: ConvergenceWarning: The max_iter was reached which means the coef_ did not converge\n",
      "  \"the coef_ did not converge\", ConvergenceWarning)\n"
     ]
    },
    {
     "name": "stdout",
     "output_type": "stream",
     "text": [
      "[CV]  C=1000, class_weight=None, penalty=l1, solver=saga, score=0.8443467275642583, total=  14.9s\n",
      "[CV] C=1000, class_weight=None, penalty=l2, solver=liblinear .........\n",
      "[CV]  C=1000, class_weight=None, penalty=l2, solver=liblinear, score=0.8445243416577592, total=   1.1s\n",
      "[CV] C=1000, class_weight=None, penalty=l2, solver=liblinear .........\n",
      "[CV]  C=1000, class_weight=None, penalty=l2, solver=liblinear, score=0.8437431674076233, total=   3.7s\n",
      "[CV] C=1000, class_weight=None, penalty=l2, solver=liblinear .........\n",
      "[CV]  C=1000, class_weight=None, penalty=l2, solver=liblinear, score=0.8443224333122783, total=   3.2s\n",
      "[CV] C=1000, class_weight=None, penalty=l2, solver=newton-cg .........\n",
      "[CV]  C=1000, class_weight=None, penalty=l2, solver=newton-cg, score=0.8445243416577592, total=  11.2s\n",
      "[CV] C=1000, class_weight=None, penalty=l2, solver=newton-cg .........\n",
      "[CV]  C=1000, class_weight=None, penalty=l2, solver=newton-cg, score=0.843767461069407, total=  15.6s\n",
      "[CV] C=1000, class_weight=None, penalty=l2, solver=newton-cg .........\n",
      "[CV]  C=1000, class_weight=None, penalty=l2, solver=newton-cg, score=0.8443467275642583, total=  19.0s\n",
      "[CV] C=1000, class_weight=None, penalty=l2, solver=lbfgs .............\n",
      "[CV]  C=1000, class_weight=None, penalty=l2, solver=lbfgs, score=0.8445243416577592, total=   0.8s\n",
      "[CV] C=1000, class_weight=None, penalty=l2, solver=lbfgs .............\n",
      "[CV]  C=1000, class_weight=None, penalty=l2, solver=lbfgs, score=0.843767461069407, total=   0.8s\n",
      "[CV] C=1000, class_weight=None, penalty=l2, solver=lbfgs .............\n",
      "[CV]  C=1000, class_weight=None, penalty=l2, solver=lbfgs, score=0.8443224333122783, total=   0.8s\n",
      "[CV] C=1000, class_weight=None, penalty=l2, solver=sag ...............\n"
     ]
    },
    {
     "name": "stderr",
     "output_type": "stream",
     "text": [
      "/anaconda3/lib/python3.6/site-packages/sklearn/linear_model/sag.py:326: ConvergenceWarning: The max_iter was reached which means the coef_ did not converge\n",
      "  \"the coef_ did not converge\", ConvergenceWarning)\n"
     ]
    },
    {
     "name": "stdout",
     "output_type": "stream",
     "text": [
      "[CV]  C=1000, class_weight=None, penalty=l2, solver=sag, score=0.8445000485861432, total=  11.4s\n",
      "[CV] C=1000, class_weight=None, penalty=l2, solver=sag ...............\n"
     ]
    },
    {
     "name": "stderr",
     "output_type": "stream",
     "text": [
      "/anaconda3/lib/python3.6/site-packages/sklearn/linear_model/sag.py:326: ConvergenceWarning: The max_iter was reached which means the coef_ did not converge\n",
      "  \"the coef_ did not converge\", ConvergenceWarning)\n"
     ]
    },
    {
     "name": "stdout",
     "output_type": "stream",
     "text": [
      "[CV]  C=1000, class_weight=None, penalty=l2, solver=sag, score=0.8437431674076233, total=  11.4s\n",
      "[CV] C=1000, class_weight=None, penalty=l2, solver=sag ...............\n"
     ]
    },
    {
     "name": "stderr",
     "output_type": "stream",
     "text": [
      "/anaconda3/lib/python3.6/site-packages/sklearn/linear_model/sag.py:326: ConvergenceWarning: The max_iter was reached which means the coef_ did not converge\n",
      "  \"the coef_ did not converge\", ConvergenceWarning)\n"
     ]
    },
    {
     "name": "stdout",
     "output_type": "stream",
     "text": [
      "[CV]  C=1000, class_weight=None, penalty=l2, solver=sag, score=0.8443467275642583, total=  11.3s\n",
      "[CV] C=1000, class_weight=None, penalty=l2, solver=saga ..............\n"
     ]
    },
    {
     "name": "stderr",
     "output_type": "stream",
     "text": [
      "/anaconda3/lib/python3.6/site-packages/sklearn/linear_model/sag.py:326: ConvergenceWarning: The max_iter was reached which means the coef_ did not converge\n",
      "  \"the coef_ did not converge\", ConvergenceWarning)\n"
     ]
    },
    {
     "name": "stdout",
     "output_type": "stream",
     "text": [
      "[CV]  C=1000, class_weight=None, penalty=l2, solver=saga, score=0.8445729278009911, total=  11.6s\n",
      "[CV] C=1000, class_weight=None, penalty=l2, solver=saga ..............\n"
     ]
    },
    {
     "name": "stderr",
     "output_type": "stream",
     "text": [
      "/anaconda3/lib/python3.6/site-packages/sklearn/linear_model/sag.py:326: ConvergenceWarning: The max_iter was reached which means the coef_ did not converge\n",
      "  \"the coef_ did not converge\", ConvergenceWarning)\n"
     ]
    },
    {
     "name": "stdout",
     "output_type": "stream",
     "text": [
      "[CV]  C=1000, class_weight=None, penalty=l2, solver=saga, score=0.8435245244515706, total=  11.6s\n",
      "[CV] C=1000, class_weight=None, penalty=l2, solver=saga ..............\n"
     ]
    },
    {
     "name": "stderr",
     "output_type": "stream",
     "text": [
      "/anaconda3/lib/python3.6/site-packages/sklearn/linear_model/sag.py:326: ConvergenceWarning: The max_iter was reached which means the coef_ did not converge\n",
      "  \"the coef_ did not converge\", ConvergenceWarning)\n"
     ]
    },
    {
     "name": "stdout",
     "output_type": "stream",
     "text": [
      "[CV]  C=1000, class_weight=None, penalty=l2, solver=saga, score=0.8442738448083184, total=  11.4s\n",
      "[CV] C=1000, class_weight=balanced, penalty=l1, solver=liblinear .....\n",
      "[CV]  C=1000, class_weight=balanced, penalty=l1, solver=liblinear, score=0.6336118938878632, total=   1.9s\n",
      "[CV] C=1000, class_weight=balanced, penalty=l1, solver=liblinear .....\n",
      "[CV]  C=1000, class_weight=balanced, penalty=l1, solver=liblinear, score=0.6435391006486407, total=   2.3s\n",
      "[CV] C=1000, class_weight=balanced, penalty=l1, solver=liblinear .....\n",
      "[CV]  C=1000, class_weight=balanced, penalty=l1, solver=liblinear, score=0.6404936592002333, total=   2.0s\n",
      "[CV] C=1000, class_weight=balanced, penalty=l1, solver=newton-cg .....\n",
      "[CV]  C=1000, class_weight=balanced, penalty=l1, solver=newton-cg, score=0, total=   0.1s\n",
      "[CV] C=1000, class_weight=balanced, penalty=l1, solver=newton-cg .....\n",
      "[CV]  C=1000, class_weight=balanced, penalty=l1, solver=newton-cg, score=0, total=   0.1s"
     ]
    },
    {
     "name": "stderr",
     "output_type": "stream",
     "text": [
      "/anaconda3/lib/python3.6/site-packages/sklearn/model_selection/_validation.py:479: FitFailedWarning: Classifier fit failed. The score on this train-test partition for these parameters will be set to 0.000000. Details: \n",
      "ValueError('Solver newton-cg supports only l2 penalties, got l1 penalty.',)\n",
      "  \"Details: \\n%r\" % (error_score, e), FitFailedWarning)\n",
      "/anaconda3/lib/python3.6/site-packages/sklearn/model_selection/_validation.py:479: FitFailedWarning: Classifier fit failed. The score on this train-test partition for these parameters will be set to 0.000000. Details: \n",
      "ValueError('Solver newton-cg supports only l2 penalties, got l1 penalty.',)\n",
      "  \"Details: \\n%r\" % (error_score, e), FitFailedWarning)\n",
      "/anaconda3/lib/python3.6/site-packages/sklearn/model_selection/_validation.py:479: FitFailedWarning: Classifier fit failed. The score on this train-test partition for these parameters will be set to 0.000000. Details: \n",
      "ValueError('Solver newton-cg supports only l2 penalties, got l1 penalty.',)\n",
      "  \"Details: \\n%r\" % (error_score, e), FitFailedWarning)\n"
     ]
    },
    {
     "name": "stdout",
     "output_type": "stream",
     "text": [
      "\n",
      "[CV] C=1000, class_weight=balanced, penalty=l1, solver=newton-cg .....\n",
      "[CV]  C=1000, class_weight=balanced, penalty=l1, solver=newton-cg, score=0, total=   0.1s\n",
      "[CV] C=1000, class_weight=balanced, penalty=l1, solver=lbfgs .........\n",
      "[CV]  C=1000, class_weight=balanced, penalty=l1, solver=lbfgs, score=0, total=   0.1s\n",
      "[CV] C=1000, class_weight=balanced, penalty=l1, solver=lbfgs .........\n"
     ]
    },
    {
     "name": "stderr",
     "output_type": "stream",
     "text": [
      "/anaconda3/lib/python3.6/site-packages/sklearn/model_selection/_validation.py:479: FitFailedWarning: Classifier fit failed. The score on this train-test partition for these parameters will be set to 0.000000. Details: \n",
      "ValueError('Solver lbfgs supports only l2 penalties, got l1 penalty.',)\n",
      "  \"Details: \\n%r\" % (error_score, e), FitFailedWarning)\n",
      "/anaconda3/lib/python3.6/site-packages/sklearn/model_selection/_validation.py:479: FitFailedWarning: Classifier fit failed. The score on this train-test partition for these parameters will be set to 0.000000. Details: \n",
      "ValueError('Solver lbfgs supports only l2 penalties, got l1 penalty.',)\n",
      "  \"Details: \\n%r\" % (error_score, e), FitFailedWarning)\n"
     ]
    },
    {
     "name": "stdout",
     "output_type": "stream",
     "text": [
      "[CV]  C=1000, class_weight=balanced, penalty=l1, solver=lbfgs, score=0, total=   0.1s\n",
      "[CV] C=1000, class_weight=balanced, penalty=l1, solver=lbfgs .........\n",
      "[CV]  C=1000, class_weight=balanced, penalty=l1, solver=lbfgs, score=0, total=   0.1s\n",
      "[CV] C=1000, class_weight=balanced, penalty=l1, solver=sag ...........\n",
      "[CV]  C=1000, class_weight=balanced, penalty=l1, solver=sag, score=0, total=   0.1s"
     ]
    },
    {
     "name": "stderr",
     "output_type": "stream",
     "text": [
      "/anaconda3/lib/python3.6/site-packages/sklearn/model_selection/_validation.py:479: FitFailedWarning: Classifier fit failed. The score on this train-test partition for these parameters will be set to 0.000000. Details: \n",
      "ValueError('Solver lbfgs supports only l2 penalties, got l1 penalty.',)\n",
      "  \"Details: \\n%r\" % (error_score, e), FitFailedWarning)\n",
      "/anaconda3/lib/python3.6/site-packages/sklearn/model_selection/_validation.py:479: FitFailedWarning: Classifier fit failed. The score on this train-test partition for these parameters will be set to 0.000000. Details: \n",
      "ValueError('Solver sag supports only l2 penalties, got l1 penalty.',)\n",
      "  \"Details: \\n%r\" % (error_score, e), FitFailedWarning)\n"
     ]
    },
    {
     "name": "stdout",
     "output_type": "stream",
     "text": [
      "\n",
      "[CV] C=1000, class_weight=balanced, penalty=l1, solver=sag ...........\n",
      "[CV]  C=1000, class_weight=balanced, penalty=l1, solver=sag, score=0, total=   0.1s\n",
      "[CV] C=1000, class_weight=balanced, penalty=l1, solver=sag ...........\n"
     ]
    },
    {
     "name": "stderr",
     "output_type": "stream",
     "text": [
      "/anaconda3/lib/python3.6/site-packages/sklearn/model_selection/_validation.py:479: FitFailedWarning: Classifier fit failed. The score on this train-test partition for these parameters will be set to 0.000000. Details: \n",
      "ValueError('Solver sag supports only l2 penalties, got l1 penalty.',)\n",
      "  \"Details: \\n%r\" % (error_score, e), FitFailedWarning)\n",
      "/anaconda3/lib/python3.6/site-packages/sklearn/model_selection/_validation.py:479: FitFailedWarning: Classifier fit failed. The score on this train-test partition for these parameters will be set to 0.000000. Details: \n",
      "ValueError('Solver sag supports only l2 penalties, got l1 penalty.',)\n",
      "  \"Details: \\n%r\" % (error_score, e), FitFailedWarning)\n"
     ]
    },
    {
     "name": "stdout",
     "output_type": "stream",
     "text": [
      "[CV]  C=1000, class_weight=balanced, penalty=l1, solver=sag, score=0, total=   0.1s\n",
      "[CV] C=1000, class_weight=balanced, penalty=l1, solver=saga ..........\n"
     ]
    },
    {
     "name": "stderr",
     "output_type": "stream",
     "text": [
      "/anaconda3/lib/python3.6/site-packages/sklearn/linear_model/sag.py:326: ConvergenceWarning: The max_iter was reached which means the coef_ did not converge\n",
      "  \"the coef_ did not converge\", ConvergenceWarning)\n"
     ]
    },
    {
     "name": "stdout",
     "output_type": "stream",
     "text": [
      "[CV]  C=1000, class_weight=balanced, penalty=l1, solver=saga, score=0.6335147216013993, total=  15.3s\n",
      "[CV] C=1000, class_weight=balanced, penalty=l1, solver=saga ..........\n"
     ]
    },
    {
     "name": "stderr",
     "output_type": "stream",
     "text": [
      "/anaconda3/lib/python3.6/site-packages/sklearn/linear_model/sag.py:326: ConvergenceWarning: The max_iter was reached which means the coef_ did not converge\n",
      "  \"the coef_ did not converge\", ConvergenceWarning)\n"
     ]
    },
    {
     "name": "stdout",
     "output_type": "stream",
     "text": [
      "[CV]  C=1000, class_weight=balanced, penalty=l1, solver=saga, score=0.6440492675460973, total=  15.2s\n",
      "[CV] C=1000, class_weight=balanced, penalty=l1, solver=saga ..........\n"
     ]
    },
    {
     "name": "stderr",
     "output_type": "stream",
     "text": [
      "/anaconda3/lib/python3.6/site-packages/sklearn/linear_model/sag.py:326: ConvergenceWarning: The max_iter was reached which means the coef_ did not converge\n",
      "  \"the coef_ did not converge\", ConvergenceWarning)\n"
     ]
    },
    {
     "name": "stdout",
     "output_type": "stream",
     "text": [
      "[CV]  C=1000, class_weight=balanced, penalty=l1, solver=saga, score=0.6405422477041932, total=  15.0s\n",
      "[CV] C=1000, class_weight=balanced, penalty=l2, solver=liblinear .....\n",
      "[CV]  C=1000, class_weight=balanced, penalty=l2, solver=liblinear, score=0.6335876008162472, total=   1.9s\n",
      "[CV] C=1000, class_weight=balanced, penalty=l2, solver=liblinear .....\n",
      "[CV]  C=1000, class_weight=balanced, penalty=l2, solver=liblinear, score=0.6436848626193427, total=   4.5s\n",
      "[CV] C=1000, class_weight=balanced, penalty=l2, solver=liblinear .....\n",
      "[CV]  C=1000, class_weight=balanced, penalty=l2, solver=liblinear, score=0.6404450706962732, total=   5.6s\n",
      "[CV] C=1000, class_weight=balanced, penalty=l2, solver=newton-cg .....\n",
      "[CV]  C=1000, class_weight=balanced, penalty=l2, solver=newton-cg, score=0.6335390146730152, total=   8.4s\n",
      "[CV] C=1000, class_weight=balanced, penalty=l2, solver=newton-cg .....\n",
      "[CV]  C=1000, class_weight=balanced, penalty=l2, solver=newton-cg, score=0.6435633943104244, total=  12.2s\n",
      "[CV] C=1000, class_weight=balanced, penalty=l2, solver=newton-cg .....\n",
      "[CV]  C=1000, class_weight=balanced, penalty=l2, solver=newton-cg, score=0.6404693649482532, total=  10.0s\n",
      "[CV] C=1000, class_weight=balanced, penalty=l2, solver=lbfgs .........\n",
      "[CV]  C=1000, class_weight=balanced, penalty=l2, solver=lbfgs, score=0.633757652317559, total=   0.8s\n",
      "[CV] C=1000, class_weight=balanced, penalty=l2, solver=lbfgs .........\n",
      "[CV]  C=1000, class_weight=balanced, penalty=l2, solver=lbfgs, score=0.6437577436046935, total=   0.8s\n",
      "[CV] C=1000, class_weight=balanced, penalty=l2, solver=lbfgs .........\n",
      "[CV]  C=1000, class_weight=balanced, penalty=l2, solver=lbfgs, score=0.640785190223993, total=   0.9s\n",
      "[CV] C=1000, class_weight=balanced, penalty=l2, solver=sag ...........\n"
     ]
    },
    {
     "name": "stderr",
     "output_type": "stream",
     "text": [
      "/anaconda3/lib/python3.6/site-packages/sklearn/linear_model/sag.py:326: ConvergenceWarning: The max_iter was reached which means the coef_ did not converge\n",
      "  \"the coef_ did not converge\", ConvergenceWarning)\n"
     ]
    },
    {
     "name": "stdout",
     "output_type": "stream",
     "text": [
      "[CV]  C=1000, class_weight=balanced, penalty=l2, solver=sag, score=0.6334904285297833, total=  11.1s\n",
      "[CV] C=1000, class_weight=balanced, penalty=l2, solver=sag ...........\n"
     ]
    },
    {
     "name": "stderr",
     "output_type": "stream",
     "text": [
      "/anaconda3/lib/python3.6/site-packages/sklearn/linear_model/sag.py:326: ConvergenceWarning: The max_iter was reached which means the coef_ did not converge\n",
      "  \"the coef_ did not converge\", ConvergenceWarning)\n"
     ]
    },
    {
     "name": "stdout",
     "output_type": "stream",
     "text": [
      "[CV]  C=1000, class_weight=balanced, penalty=l2, solver=sag, score=0.6440249738843136, total=  11.3s\n",
      "[CV] C=1000, class_weight=balanced, penalty=l2, solver=sag ...........\n"
     ]
    },
    {
     "name": "stderr",
     "output_type": "stream",
     "text": [
      "/anaconda3/lib/python3.6/site-packages/sklearn/linear_model/sag.py:326: ConvergenceWarning: The max_iter was reached which means the coef_ did not converge\n",
      "  \"the coef_ did not converge\", ConvergenceWarning)\n"
     ]
    },
    {
     "name": "stdout",
     "output_type": "stream",
     "text": [
      "[CV]  C=1000, class_weight=balanced, penalty=l2, solver=sag, score=0.6405422477041932, total=  11.4s\n",
      "[CV] C=1000, class_weight=balanced, penalty=l2, solver=saga ..........\n"
     ]
    },
    {
     "name": "stderr",
     "output_type": "stream",
     "text": [
      "/anaconda3/lib/python3.6/site-packages/sklearn/linear_model/sag.py:326: ConvergenceWarning: The max_iter was reached which means the coef_ did not converge\n",
      "  \"the coef_ did not converge\", ConvergenceWarning)\n"
     ]
    },
    {
     "name": "stdout",
     "output_type": "stream",
     "text": [
      "[CV]  C=1000, class_weight=balanced, penalty=l2, solver=saga, score=0.6337333592459431, total=  11.6s\n",
      "[CV] C=1000, class_weight=balanced, penalty=l2, solver=saga ..........\n"
     ]
    },
    {
     "name": "stderr",
     "output_type": "stream",
     "text": [
      "/anaconda3/lib/python3.6/site-packages/sklearn/linear_model/sag.py:326: ConvergenceWarning: The max_iter was reached which means the coef_ did not converge\n",
      "  \"the coef_ did not converge\", ConvergenceWarning)\n"
     ]
    },
    {
     "name": "stdout",
     "output_type": "stream",
     "text": [
      "[CV]  C=1000, class_weight=balanced, penalty=l2, solver=saga, score=0.6450696013410101, total=  11.5s\n",
      "[CV] C=1000, class_weight=balanced, penalty=l2, solver=saga ..........\n"
     ]
    },
    {
     "name": "stderr",
     "output_type": "stream",
     "text": [
      "/anaconda3/lib/python3.6/site-packages/sklearn/linear_model/sag.py:326: ConvergenceWarning: The max_iter was reached which means the coef_ did not converge\n",
      "  \"the coef_ did not converge\", ConvergenceWarning)\n",
      "[Parallel(n_jobs=1)]: Done 480 out of 480 | elapsed: 43.3min finished\n"
     ]
    },
    {
     "name": "stdout",
     "output_type": "stream",
     "text": [
      "[CV]  C=1000, class_weight=balanced, penalty=l2, solver=saga, score=0.6412710752635926, total=  11.5s\n"
     ]
    },
    {
     "data": {
      "text/plain": [
       "GridSearchCV(cv=None, error_score=0,\n",
       "       estimator=LogisticRegression(C=1.0, class_weight=None, dual=False, fit_intercept=True,\n",
       "          intercept_scaling=1, max_iter=100, multi_class='ovr', n_jobs=1,\n",
       "          penalty='l2', random_state=None, solver='liblinear', tol=0.0001,\n",
       "          verbose=0, warm_start=False),\n",
       "       fit_params=None, iid=True, n_jobs=1,\n",
       "       param_grid={'penalty': ['l1', 'l2'], 'C': [0.1, 1, 5, 10, 50, 100, 500, 1000], 'class_weight': [None, 'balanced'], 'solver': ['liblinear', 'newton-cg', 'lbfgs', 'sag', 'saga']},\n",
       "       pre_dispatch='2*n_jobs', refit=True, return_train_score='warn',\n",
       "       scoring=None, verbose=3)"
      ]
     },
     "execution_count": 32,
     "metadata": {},
     "output_type": "execute_result"
    }
   ],
   "source": [
    "grid.fit(X_train,y_train)"
   ]
  },
  {
   "cell_type": "code",
   "execution_count": 33,
   "metadata": {},
   "outputs": [
    {
     "data": {
      "text/plain": [
       "{'C': 0.1, 'class_weight': None, 'penalty': 'l1', 'solver': 'liblinear'}"
      ]
     },
     "execution_count": 33,
     "metadata": {},
     "output_type": "execute_result"
    }
   ],
   "source": [
    "grid.best_params_"
   ]
  },
  {
   "cell_type": "code",
   "execution_count": 34,
   "metadata": {},
   "outputs": [
    {
     "data": {
      "text/plain": [
       "LogisticRegression(C=0.1, class_weight=None, dual=False, fit_intercept=True,\n",
       "          intercept_scaling=1, max_iter=100, multi_class='ovr', n_jobs=1,\n",
       "          penalty='l1', random_state=None, solver='liblinear', tol=0.0001,\n",
       "          verbose=0, warm_start=False)"
      ]
     },
     "execution_count": 34,
     "metadata": {},
     "output_type": "execute_result"
    }
   ],
   "source": [
    "grid.best_estimator_"
   ]
  },
  {
   "cell_type": "code",
   "execution_count": 35,
   "metadata": {},
   "outputs": [
    {
     "name": "stdout",
     "output_type": "stream",
     "text": [
      "             precision    recall  f1-score   support\n",
      "\n",
      "        0.0       0.85      1.00      0.92     44742\n",
      "        1.0       0.45      0.01      0.02      8183\n",
      "\n",
      "avg / total       0.79      0.85      0.78     52925\n",
      "\n",
      "[[44627   115]\n",
      " [ 8088    95]]\n",
      "0.8450070854983467\n"
     ]
    }
   ],
   "source": [
    "grid_predictions = grid.predict(X_test)\n",
    "print(classification_report(y_test,grid_predictions))\n",
    "print(confusion_matrix(y_test,grid_predictions))\n",
    "print(grid.score(X_test, y_test))"
   ]
  },
  {
   "cell_type": "code",
   "execution_count": 36,
   "metadata": {},
   "outputs": [],
   "source": [
    "grid2 = GridSearchCV(LogisticRegression(), param_grid, scoring='roc_auc', refit=True, error_score=0, verbose=1)"
   ]
  },
  {
   "cell_type": "code",
   "execution_count": 37,
   "metadata": {},
   "outputs": [
    {
     "name": "stdout",
     "output_type": "stream",
     "text": [
      "Fitting 3 folds for each of 160 candidates, totalling 480 fits\n"
     ]
    },
    {
     "name": "stderr",
     "output_type": "stream",
     "text": [
      "/anaconda3/lib/python3.6/site-packages/sklearn/model_selection/_validation.py:479: FitFailedWarning: Classifier fit failed. The score on this train-test partition for these parameters will be set to 0.000000. Details: \n",
      "ValueError('Solver newton-cg supports only l2 penalties, got l1 penalty.',)\n",
      "  \"Details: \\n%r\" % (error_score, e), FitFailedWarning)\n",
      "/anaconda3/lib/python3.6/site-packages/sklearn/model_selection/_validation.py:479: FitFailedWarning: Classifier fit failed. The score on this train-test partition for these parameters will be set to 0.000000. Details: \n",
      "ValueError('Solver newton-cg supports only l2 penalties, got l1 penalty.',)\n",
      "  \"Details: \\n%r\" % (error_score, e), FitFailedWarning)\n",
      "/anaconda3/lib/python3.6/site-packages/sklearn/model_selection/_validation.py:479: FitFailedWarning: Classifier fit failed. The score on this train-test partition for these parameters will be set to 0.000000. Details: \n",
      "ValueError('Solver newton-cg supports only l2 penalties, got l1 penalty.',)\n",
      "  \"Details: \\n%r\" % (error_score, e), FitFailedWarning)\n",
      "/anaconda3/lib/python3.6/site-packages/sklearn/model_selection/_validation.py:479: FitFailedWarning: Classifier fit failed. The score on this train-test partition for these parameters will be set to 0.000000. Details: \n",
      "ValueError('Solver lbfgs supports only l2 penalties, got l1 penalty.',)\n",
      "  \"Details: \\n%r\" % (error_score, e), FitFailedWarning)\n",
      "/anaconda3/lib/python3.6/site-packages/sklearn/model_selection/_validation.py:479: FitFailedWarning: Classifier fit failed. The score on this train-test partition for these parameters will be set to 0.000000. Details: \n",
      "ValueError('Solver lbfgs supports only l2 penalties, got l1 penalty.',)\n",
      "  \"Details: \\n%r\" % (error_score, e), FitFailedWarning)\n",
      "/anaconda3/lib/python3.6/site-packages/sklearn/model_selection/_validation.py:479: FitFailedWarning: Classifier fit failed. The score on this train-test partition for these parameters will be set to 0.000000. Details: \n",
      "ValueError('Solver lbfgs supports only l2 penalties, got l1 penalty.',)\n",
      "  \"Details: \\n%r\" % (error_score, e), FitFailedWarning)\n",
      "/anaconda3/lib/python3.6/site-packages/sklearn/model_selection/_validation.py:479: FitFailedWarning: Classifier fit failed. The score on this train-test partition for these parameters will be set to 0.000000. Details: \n",
      "ValueError('Solver sag supports only l2 penalties, got l1 penalty.',)\n",
      "  \"Details: \\n%r\" % (error_score, e), FitFailedWarning)\n",
      "/anaconda3/lib/python3.6/site-packages/sklearn/model_selection/_validation.py:479: FitFailedWarning: Classifier fit failed. The score on this train-test partition for these parameters will be set to 0.000000. Details: \n",
      "ValueError('Solver sag supports only l2 penalties, got l1 penalty.',)\n",
      "  \"Details: \\n%r\" % (error_score, e), FitFailedWarning)\n",
      "/anaconda3/lib/python3.6/site-packages/sklearn/model_selection/_validation.py:479: FitFailedWarning: Classifier fit failed. The score on this train-test partition for these parameters will be set to 0.000000. Details: \n",
      "ValueError('Solver sag supports only l2 penalties, got l1 penalty.',)\n",
      "  \"Details: \\n%r\" % (error_score, e), FitFailedWarning)\n",
      "/anaconda3/lib/python3.6/site-packages/sklearn/linear_model/sag.py:326: ConvergenceWarning: The max_iter was reached which means the coef_ did not converge\n",
      "  \"the coef_ did not converge\", ConvergenceWarning)\n",
      "/anaconda3/lib/python3.6/site-packages/sklearn/linear_model/sag.py:326: ConvergenceWarning: The max_iter was reached which means the coef_ did not converge\n",
      "  \"the coef_ did not converge\", ConvergenceWarning)\n",
      "/anaconda3/lib/python3.6/site-packages/sklearn/linear_model/sag.py:326: ConvergenceWarning: The max_iter was reached which means the coef_ did not converge\n",
      "  \"the coef_ did not converge\", ConvergenceWarning)\n",
      "/anaconda3/lib/python3.6/site-packages/sklearn/linear_model/sag.py:326: ConvergenceWarning: The max_iter was reached which means the coef_ did not converge\n",
      "  \"the coef_ did not converge\", ConvergenceWarning)\n",
      "/anaconda3/lib/python3.6/site-packages/sklearn/linear_model/sag.py:326: ConvergenceWarning: The max_iter was reached which means the coef_ did not converge\n",
      "  \"the coef_ did not converge\", ConvergenceWarning)\n",
      "/anaconda3/lib/python3.6/site-packages/sklearn/linear_model/sag.py:326: ConvergenceWarning: The max_iter was reached which means the coef_ did not converge\n",
      "  \"the coef_ did not converge\", ConvergenceWarning)\n",
      "/anaconda3/lib/python3.6/site-packages/sklearn/linear_model/sag.py:326: ConvergenceWarning: The max_iter was reached which means the coef_ did not converge\n",
      "  \"the coef_ did not converge\", ConvergenceWarning)\n",
      "/anaconda3/lib/python3.6/site-packages/sklearn/linear_model/sag.py:326: ConvergenceWarning: The max_iter was reached which means the coef_ did not converge\n",
      "  \"the coef_ did not converge\", ConvergenceWarning)\n",
      "/anaconda3/lib/python3.6/site-packages/sklearn/linear_model/sag.py:326: ConvergenceWarning: The max_iter was reached which means the coef_ did not converge\n",
      "  \"the coef_ did not converge\", ConvergenceWarning)\n",
      "/anaconda3/lib/python3.6/site-packages/sklearn/model_selection/_validation.py:479: FitFailedWarning: Classifier fit failed. The score on this train-test partition for these parameters will be set to 0.000000. Details: \n",
      "ValueError('Solver newton-cg supports only l2 penalties, got l1 penalty.',)\n",
      "  \"Details: \\n%r\" % (error_score, e), FitFailedWarning)\n",
      "/anaconda3/lib/python3.6/site-packages/sklearn/model_selection/_validation.py:479: FitFailedWarning: Classifier fit failed. The score on this train-test partition for these parameters will be set to 0.000000. Details: \n",
      "ValueError('Solver newton-cg supports only l2 penalties, got l1 penalty.',)\n",
      "  \"Details: \\n%r\" % (error_score, e), FitFailedWarning)\n",
      "/anaconda3/lib/python3.6/site-packages/sklearn/model_selection/_validation.py:479: FitFailedWarning: Classifier fit failed. The score on this train-test partition for these parameters will be set to 0.000000. Details: \n",
      "ValueError('Solver newton-cg supports only l2 penalties, got l1 penalty.',)\n",
      "  \"Details: \\n%r\" % (error_score, e), FitFailedWarning)\n",
      "/anaconda3/lib/python3.6/site-packages/sklearn/model_selection/_validation.py:479: FitFailedWarning: Classifier fit failed. The score on this train-test partition for these parameters will be set to 0.000000. Details: \n",
      "ValueError('Solver lbfgs supports only l2 penalties, got l1 penalty.',)\n",
      "  \"Details: \\n%r\" % (error_score, e), FitFailedWarning)\n",
      "/anaconda3/lib/python3.6/site-packages/sklearn/model_selection/_validation.py:479: FitFailedWarning: Classifier fit failed. The score on this train-test partition for these parameters will be set to 0.000000. Details: \n",
      "ValueError('Solver lbfgs supports only l2 penalties, got l1 penalty.',)\n",
      "  \"Details: \\n%r\" % (error_score, e), FitFailedWarning)\n",
      "/anaconda3/lib/python3.6/site-packages/sklearn/model_selection/_validation.py:479: FitFailedWarning: Classifier fit failed. The score on this train-test partition for these parameters will be set to 0.000000. Details: \n",
      "ValueError('Solver lbfgs supports only l2 penalties, got l1 penalty.',)\n",
      "  \"Details: \\n%r\" % (error_score, e), FitFailedWarning)\n",
      "/anaconda3/lib/python3.6/site-packages/sklearn/model_selection/_validation.py:479: FitFailedWarning: Classifier fit failed. The score on this train-test partition for these parameters will be set to 0.000000. Details: \n",
      "ValueError('Solver sag supports only l2 penalties, got l1 penalty.',)\n",
      "  \"Details: \\n%r\" % (error_score, e), FitFailedWarning)\n",
      "/anaconda3/lib/python3.6/site-packages/sklearn/model_selection/_validation.py:479: FitFailedWarning: Classifier fit failed. The score on this train-test partition for these parameters will be set to 0.000000. Details: \n",
      "ValueError('Solver sag supports only l2 penalties, got l1 penalty.',)\n",
      "  \"Details: \\n%r\" % (error_score, e), FitFailedWarning)\n",
      "/anaconda3/lib/python3.6/site-packages/sklearn/model_selection/_validation.py:479: FitFailedWarning: Classifier fit failed. The score on this train-test partition for these parameters will be set to 0.000000. Details: \n",
      "ValueError('Solver sag supports only l2 penalties, got l1 penalty.',)\n",
      "  \"Details: \\n%r\" % (error_score, e), FitFailedWarning)\n",
      "/anaconda3/lib/python3.6/site-packages/sklearn/linear_model/sag.py:326: ConvergenceWarning: The max_iter was reached which means the coef_ did not converge\n",
      "  \"the coef_ did not converge\", ConvergenceWarning)\n"
     ]
    },
    {
     "name": "stderr",
     "output_type": "stream",
     "text": [
      "/anaconda3/lib/python3.6/site-packages/sklearn/linear_model/sag.py:326: ConvergenceWarning: The max_iter was reached which means the coef_ did not converge\n",
      "  \"the coef_ did not converge\", ConvergenceWarning)\n",
      "/anaconda3/lib/python3.6/site-packages/sklearn/linear_model/sag.py:326: ConvergenceWarning: The max_iter was reached which means the coef_ did not converge\n",
      "  \"the coef_ did not converge\", ConvergenceWarning)\n",
      "/anaconda3/lib/python3.6/site-packages/sklearn/linear_model/sag.py:326: ConvergenceWarning: The max_iter was reached which means the coef_ did not converge\n",
      "  \"the coef_ did not converge\", ConvergenceWarning)\n",
      "/anaconda3/lib/python3.6/site-packages/sklearn/linear_model/sag.py:326: ConvergenceWarning: The max_iter was reached which means the coef_ did not converge\n",
      "  \"the coef_ did not converge\", ConvergenceWarning)\n",
      "/anaconda3/lib/python3.6/site-packages/sklearn/linear_model/sag.py:326: ConvergenceWarning: The max_iter was reached which means the coef_ did not converge\n",
      "  \"the coef_ did not converge\", ConvergenceWarning)\n",
      "/anaconda3/lib/python3.6/site-packages/sklearn/linear_model/sag.py:326: ConvergenceWarning: The max_iter was reached which means the coef_ did not converge\n",
      "  \"the coef_ did not converge\", ConvergenceWarning)\n",
      "/anaconda3/lib/python3.6/site-packages/sklearn/linear_model/sag.py:326: ConvergenceWarning: The max_iter was reached which means the coef_ did not converge\n",
      "  \"the coef_ did not converge\", ConvergenceWarning)\n",
      "/anaconda3/lib/python3.6/site-packages/sklearn/linear_model/sag.py:326: ConvergenceWarning: The max_iter was reached which means the coef_ did not converge\n",
      "  \"the coef_ did not converge\", ConvergenceWarning)\n",
      "/anaconda3/lib/python3.6/site-packages/sklearn/model_selection/_validation.py:479: FitFailedWarning: Classifier fit failed. The score on this train-test partition for these parameters will be set to 0.000000. Details: \n",
      "ValueError('Solver newton-cg supports only l2 penalties, got l1 penalty.',)\n",
      "  \"Details: \\n%r\" % (error_score, e), FitFailedWarning)\n",
      "/anaconda3/lib/python3.6/site-packages/sklearn/model_selection/_validation.py:479: FitFailedWarning: Classifier fit failed. The score on this train-test partition for these parameters will be set to 0.000000. Details: \n",
      "ValueError('Solver newton-cg supports only l2 penalties, got l1 penalty.',)\n",
      "  \"Details: \\n%r\" % (error_score, e), FitFailedWarning)\n",
      "/anaconda3/lib/python3.6/site-packages/sklearn/model_selection/_validation.py:479: FitFailedWarning: Classifier fit failed. The score on this train-test partition for these parameters will be set to 0.000000. Details: \n",
      "ValueError('Solver newton-cg supports only l2 penalties, got l1 penalty.',)\n",
      "  \"Details: \\n%r\" % (error_score, e), FitFailedWarning)\n",
      "/anaconda3/lib/python3.6/site-packages/sklearn/model_selection/_validation.py:479: FitFailedWarning: Classifier fit failed. The score on this train-test partition for these parameters will be set to 0.000000. Details: \n",
      "ValueError('Solver lbfgs supports only l2 penalties, got l1 penalty.',)\n",
      "  \"Details: \\n%r\" % (error_score, e), FitFailedWarning)\n",
      "/anaconda3/lib/python3.6/site-packages/sklearn/model_selection/_validation.py:479: FitFailedWarning: Classifier fit failed. The score on this train-test partition for these parameters will be set to 0.000000. Details: \n",
      "ValueError('Solver lbfgs supports only l2 penalties, got l1 penalty.',)\n",
      "  \"Details: \\n%r\" % (error_score, e), FitFailedWarning)\n",
      "/anaconda3/lib/python3.6/site-packages/sklearn/model_selection/_validation.py:479: FitFailedWarning: Classifier fit failed. The score on this train-test partition for these parameters will be set to 0.000000. Details: \n",
      "ValueError('Solver lbfgs supports only l2 penalties, got l1 penalty.',)\n",
      "  \"Details: \\n%r\" % (error_score, e), FitFailedWarning)\n",
      "/anaconda3/lib/python3.6/site-packages/sklearn/model_selection/_validation.py:479: FitFailedWarning: Classifier fit failed. The score on this train-test partition for these parameters will be set to 0.000000. Details: \n",
      "ValueError('Solver sag supports only l2 penalties, got l1 penalty.',)\n",
      "  \"Details: \\n%r\" % (error_score, e), FitFailedWarning)\n",
      "/anaconda3/lib/python3.6/site-packages/sklearn/model_selection/_validation.py:479: FitFailedWarning: Classifier fit failed. The score on this train-test partition for these parameters will be set to 0.000000. Details: \n",
      "ValueError('Solver sag supports only l2 penalties, got l1 penalty.',)\n",
      "  \"Details: \\n%r\" % (error_score, e), FitFailedWarning)\n",
      "/anaconda3/lib/python3.6/site-packages/sklearn/model_selection/_validation.py:479: FitFailedWarning: Classifier fit failed. The score on this train-test partition for these parameters will be set to 0.000000. Details: \n",
      "ValueError('Solver sag supports only l2 penalties, got l1 penalty.',)\n",
      "  \"Details: \\n%r\" % (error_score, e), FitFailedWarning)\n",
      "/anaconda3/lib/python3.6/site-packages/sklearn/linear_model/sag.py:326: ConvergenceWarning: The max_iter was reached which means the coef_ did not converge\n",
      "  \"the coef_ did not converge\", ConvergenceWarning)\n",
      "/anaconda3/lib/python3.6/site-packages/sklearn/linear_model/sag.py:326: ConvergenceWarning: The max_iter was reached which means the coef_ did not converge\n",
      "  \"the coef_ did not converge\", ConvergenceWarning)\n",
      "/anaconda3/lib/python3.6/site-packages/sklearn/linear_model/sag.py:326: ConvergenceWarning: The max_iter was reached which means the coef_ did not converge\n",
      "  \"the coef_ did not converge\", ConvergenceWarning)\n",
      "/anaconda3/lib/python3.6/site-packages/sklearn/linear_model/sag.py:326: ConvergenceWarning: The max_iter was reached which means the coef_ did not converge\n",
      "  \"the coef_ did not converge\", ConvergenceWarning)\n",
      "/anaconda3/lib/python3.6/site-packages/sklearn/linear_model/sag.py:326: ConvergenceWarning: The max_iter was reached which means the coef_ did not converge\n",
      "  \"the coef_ did not converge\", ConvergenceWarning)\n",
      "/anaconda3/lib/python3.6/site-packages/sklearn/linear_model/sag.py:326: ConvergenceWarning: The max_iter was reached which means the coef_ did not converge\n",
      "  \"the coef_ did not converge\", ConvergenceWarning)\n",
      "/anaconda3/lib/python3.6/site-packages/sklearn/linear_model/sag.py:326: ConvergenceWarning: The max_iter was reached which means the coef_ did not converge\n",
      "  \"the coef_ did not converge\", ConvergenceWarning)\n",
      "/anaconda3/lib/python3.6/site-packages/sklearn/linear_model/sag.py:326: ConvergenceWarning: The max_iter was reached which means the coef_ did not converge\n",
      "  \"the coef_ did not converge\", ConvergenceWarning)\n",
      "/anaconda3/lib/python3.6/site-packages/sklearn/linear_model/sag.py:326: ConvergenceWarning: The max_iter was reached which means the coef_ did not converge\n",
      "  \"the coef_ did not converge\", ConvergenceWarning)\n",
      "/anaconda3/lib/python3.6/site-packages/sklearn/model_selection/_validation.py:479: FitFailedWarning: Classifier fit failed. The score on this train-test partition for these parameters will be set to 0.000000. Details: \n",
      "ValueError('Solver newton-cg supports only l2 penalties, got l1 penalty.',)\n",
      "  \"Details: \\n%r\" % (error_score, e), FitFailedWarning)\n",
      "/anaconda3/lib/python3.6/site-packages/sklearn/model_selection/_validation.py:479: FitFailedWarning: Classifier fit failed. The score on this train-test partition for these parameters will be set to 0.000000. Details: \n",
      "ValueError('Solver newton-cg supports only l2 penalties, got l1 penalty.',)\n",
      "  \"Details: \\n%r\" % (error_score, e), FitFailedWarning)\n",
      "/anaconda3/lib/python3.6/site-packages/sklearn/model_selection/_validation.py:479: FitFailedWarning: Classifier fit failed. The score on this train-test partition for these parameters will be set to 0.000000. Details: \n",
      "ValueError('Solver newton-cg supports only l2 penalties, got l1 penalty.',)\n",
      "  \"Details: \\n%r\" % (error_score, e), FitFailedWarning)\n",
      "/anaconda3/lib/python3.6/site-packages/sklearn/model_selection/_validation.py:479: FitFailedWarning: Classifier fit failed. The score on this train-test partition for these parameters will be set to 0.000000. Details: \n",
      "ValueError('Solver lbfgs supports only l2 penalties, got l1 penalty.',)\n",
      "  \"Details: \\n%r\" % (error_score, e), FitFailedWarning)\n",
      "/anaconda3/lib/python3.6/site-packages/sklearn/model_selection/_validation.py:479: FitFailedWarning: Classifier fit failed. The score on this train-test partition for these parameters will be set to 0.000000. Details: \n",
      "ValueError('Solver lbfgs supports only l2 penalties, got l1 penalty.',)\n",
      "  \"Details: \\n%r\" % (error_score, e), FitFailedWarning)\n",
      "/anaconda3/lib/python3.6/site-packages/sklearn/model_selection/_validation.py:479: FitFailedWarning: Classifier fit failed. The score on this train-test partition for these parameters will be set to 0.000000. Details: \n",
      "ValueError('Solver lbfgs supports only l2 penalties, got l1 penalty.',)\n",
      "  \"Details: \\n%r\" % (error_score, e), FitFailedWarning)\n"
     ]
    },
    {
     "name": "stderr",
     "output_type": "stream",
     "text": [
      "/anaconda3/lib/python3.6/site-packages/sklearn/model_selection/_validation.py:479: FitFailedWarning: Classifier fit failed. The score on this train-test partition for these parameters will be set to 0.000000. Details: \n",
      "ValueError('Solver sag supports only l2 penalties, got l1 penalty.',)\n",
      "  \"Details: \\n%r\" % (error_score, e), FitFailedWarning)\n",
      "/anaconda3/lib/python3.6/site-packages/sklearn/model_selection/_validation.py:479: FitFailedWarning: Classifier fit failed. The score on this train-test partition for these parameters will be set to 0.000000. Details: \n",
      "ValueError('Solver sag supports only l2 penalties, got l1 penalty.',)\n",
      "  \"Details: \\n%r\" % (error_score, e), FitFailedWarning)\n",
      "/anaconda3/lib/python3.6/site-packages/sklearn/model_selection/_validation.py:479: FitFailedWarning: Classifier fit failed. The score on this train-test partition for these parameters will be set to 0.000000. Details: \n",
      "ValueError('Solver sag supports only l2 penalties, got l1 penalty.',)\n",
      "  \"Details: \\n%r\" % (error_score, e), FitFailedWarning)\n",
      "/anaconda3/lib/python3.6/site-packages/sklearn/linear_model/sag.py:326: ConvergenceWarning: The max_iter was reached which means the coef_ did not converge\n",
      "  \"the coef_ did not converge\", ConvergenceWarning)\n",
      "/anaconda3/lib/python3.6/site-packages/sklearn/linear_model/sag.py:326: ConvergenceWarning: The max_iter was reached which means the coef_ did not converge\n",
      "  \"the coef_ did not converge\", ConvergenceWarning)\n",
      "/anaconda3/lib/python3.6/site-packages/sklearn/linear_model/sag.py:326: ConvergenceWarning: The max_iter was reached which means the coef_ did not converge\n",
      "  \"the coef_ did not converge\", ConvergenceWarning)\n",
      "/anaconda3/lib/python3.6/site-packages/sklearn/linear_model/sag.py:326: ConvergenceWarning: The max_iter was reached which means the coef_ did not converge\n",
      "  \"the coef_ did not converge\", ConvergenceWarning)\n",
      "/anaconda3/lib/python3.6/site-packages/sklearn/linear_model/sag.py:326: ConvergenceWarning: The max_iter was reached which means the coef_ did not converge\n",
      "  \"the coef_ did not converge\", ConvergenceWarning)\n",
      "/anaconda3/lib/python3.6/site-packages/sklearn/linear_model/sag.py:326: ConvergenceWarning: The max_iter was reached which means the coef_ did not converge\n",
      "  \"the coef_ did not converge\", ConvergenceWarning)\n",
      "/anaconda3/lib/python3.6/site-packages/sklearn/linear_model/sag.py:326: ConvergenceWarning: The max_iter was reached which means the coef_ did not converge\n",
      "  \"the coef_ did not converge\", ConvergenceWarning)\n",
      "/anaconda3/lib/python3.6/site-packages/sklearn/linear_model/sag.py:326: ConvergenceWarning: The max_iter was reached which means the coef_ did not converge\n",
      "  \"the coef_ did not converge\", ConvergenceWarning)\n",
      "/anaconda3/lib/python3.6/site-packages/sklearn/linear_model/sag.py:326: ConvergenceWarning: The max_iter was reached which means the coef_ did not converge\n",
      "  \"the coef_ did not converge\", ConvergenceWarning)\n",
      "/anaconda3/lib/python3.6/site-packages/sklearn/model_selection/_validation.py:479: FitFailedWarning: Classifier fit failed. The score on this train-test partition for these parameters will be set to 0.000000. Details: \n",
      "ValueError('Solver newton-cg supports only l2 penalties, got l1 penalty.',)\n",
      "  \"Details: \\n%r\" % (error_score, e), FitFailedWarning)\n",
      "/anaconda3/lib/python3.6/site-packages/sklearn/model_selection/_validation.py:479: FitFailedWarning: Classifier fit failed. The score on this train-test partition for these parameters will be set to 0.000000. Details: \n",
      "ValueError('Solver newton-cg supports only l2 penalties, got l1 penalty.',)\n",
      "  \"Details: \\n%r\" % (error_score, e), FitFailedWarning)\n",
      "/anaconda3/lib/python3.6/site-packages/sklearn/model_selection/_validation.py:479: FitFailedWarning: Classifier fit failed. The score on this train-test partition for these parameters will be set to 0.000000. Details: \n",
      "ValueError('Solver newton-cg supports only l2 penalties, got l1 penalty.',)\n",
      "  \"Details: \\n%r\" % (error_score, e), FitFailedWarning)\n",
      "/anaconda3/lib/python3.6/site-packages/sklearn/model_selection/_validation.py:479: FitFailedWarning: Classifier fit failed. The score on this train-test partition for these parameters will be set to 0.000000. Details: \n",
      "ValueError('Solver lbfgs supports only l2 penalties, got l1 penalty.',)\n",
      "  \"Details: \\n%r\" % (error_score, e), FitFailedWarning)\n",
      "/anaconda3/lib/python3.6/site-packages/sklearn/model_selection/_validation.py:479: FitFailedWarning: Classifier fit failed. The score on this train-test partition for these parameters will be set to 0.000000. Details: \n",
      "ValueError('Solver lbfgs supports only l2 penalties, got l1 penalty.',)\n",
      "  \"Details: \\n%r\" % (error_score, e), FitFailedWarning)\n",
      "/anaconda3/lib/python3.6/site-packages/sklearn/model_selection/_validation.py:479: FitFailedWarning: Classifier fit failed. The score on this train-test partition for these parameters will be set to 0.000000. Details: \n",
      "ValueError('Solver lbfgs supports only l2 penalties, got l1 penalty.',)\n",
      "  \"Details: \\n%r\" % (error_score, e), FitFailedWarning)\n",
      "/anaconda3/lib/python3.6/site-packages/sklearn/model_selection/_validation.py:479: FitFailedWarning: Classifier fit failed. The score on this train-test partition for these parameters will be set to 0.000000. Details: \n",
      "ValueError('Solver sag supports only l2 penalties, got l1 penalty.',)\n",
      "  \"Details: \\n%r\" % (error_score, e), FitFailedWarning)\n",
      "/anaconda3/lib/python3.6/site-packages/sklearn/model_selection/_validation.py:479: FitFailedWarning: Classifier fit failed. The score on this train-test partition for these parameters will be set to 0.000000. Details: \n",
      "ValueError('Solver sag supports only l2 penalties, got l1 penalty.',)\n",
      "  \"Details: \\n%r\" % (error_score, e), FitFailedWarning)\n",
      "/anaconda3/lib/python3.6/site-packages/sklearn/model_selection/_validation.py:479: FitFailedWarning: Classifier fit failed. The score on this train-test partition for these parameters will be set to 0.000000. Details: \n",
      "ValueError('Solver sag supports only l2 penalties, got l1 penalty.',)\n",
      "  \"Details: \\n%r\" % (error_score, e), FitFailedWarning)\n",
      "/anaconda3/lib/python3.6/site-packages/sklearn/linear_model/sag.py:326: ConvergenceWarning: The max_iter was reached which means the coef_ did not converge\n",
      "  \"the coef_ did not converge\", ConvergenceWarning)\n",
      "/anaconda3/lib/python3.6/site-packages/sklearn/linear_model/sag.py:326: ConvergenceWarning: The max_iter was reached which means the coef_ did not converge\n",
      "  \"the coef_ did not converge\", ConvergenceWarning)\n",
      "/anaconda3/lib/python3.6/site-packages/sklearn/linear_model/sag.py:326: ConvergenceWarning: The max_iter was reached which means the coef_ did not converge\n",
      "  \"the coef_ did not converge\", ConvergenceWarning)\n",
      "/anaconda3/lib/python3.6/site-packages/sklearn/linear_model/sag.py:326: ConvergenceWarning: The max_iter was reached which means the coef_ did not converge\n",
      "  \"the coef_ did not converge\", ConvergenceWarning)\n",
      "/anaconda3/lib/python3.6/site-packages/sklearn/linear_model/sag.py:326: ConvergenceWarning: The max_iter was reached which means the coef_ did not converge\n",
      "  \"the coef_ did not converge\", ConvergenceWarning)\n",
      "/anaconda3/lib/python3.6/site-packages/sklearn/linear_model/sag.py:326: ConvergenceWarning: The max_iter was reached which means the coef_ did not converge\n",
      "  \"the coef_ did not converge\", ConvergenceWarning)\n",
      "/anaconda3/lib/python3.6/site-packages/sklearn/linear_model/sag.py:326: ConvergenceWarning: The max_iter was reached which means the coef_ did not converge\n",
      "  \"the coef_ did not converge\", ConvergenceWarning)\n",
      "/anaconda3/lib/python3.6/site-packages/sklearn/linear_model/sag.py:326: ConvergenceWarning: The max_iter was reached which means the coef_ did not converge\n",
      "  \"the coef_ did not converge\", ConvergenceWarning)\n",
      "/anaconda3/lib/python3.6/site-packages/sklearn/linear_model/sag.py:326: ConvergenceWarning: The max_iter was reached which means the coef_ did not converge\n",
      "  \"the coef_ did not converge\", ConvergenceWarning)\n",
      "/anaconda3/lib/python3.6/site-packages/sklearn/model_selection/_validation.py:479: FitFailedWarning: Classifier fit failed. The score on this train-test partition for these parameters will be set to 0.000000. Details: \n",
      "ValueError('Solver newton-cg supports only l2 penalties, got l1 penalty.',)\n",
      "  \"Details: \\n%r\" % (error_score, e), FitFailedWarning)\n",
      "/anaconda3/lib/python3.6/site-packages/sklearn/model_selection/_validation.py:479: FitFailedWarning: Classifier fit failed. The score on this train-test partition for these parameters will be set to 0.000000. Details: \n",
      "ValueError('Solver newton-cg supports only l2 penalties, got l1 penalty.',)\n",
      "  \"Details: \\n%r\" % (error_score, e), FitFailedWarning)\n",
      "/anaconda3/lib/python3.6/site-packages/sklearn/model_selection/_validation.py:479: FitFailedWarning: Classifier fit failed. The score on this train-test partition for these parameters will be set to 0.000000. Details: \n",
      "ValueError('Solver newton-cg supports only l2 penalties, got l1 penalty.',)\n",
      "  \"Details: \\n%r\" % (error_score, e), FitFailedWarning)\n"
     ]
    },
    {
     "name": "stderr",
     "output_type": "stream",
     "text": [
      "/anaconda3/lib/python3.6/site-packages/sklearn/model_selection/_validation.py:479: FitFailedWarning: Classifier fit failed. The score on this train-test partition for these parameters will be set to 0.000000. Details: \n",
      "ValueError('Solver lbfgs supports only l2 penalties, got l1 penalty.',)\n",
      "  \"Details: \\n%r\" % (error_score, e), FitFailedWarning)\n",
      "/anaconda3/lib/python3.6/site-packages/sklearn/model_selection/_validation.py:479: FitFailedWarning: Classifier fit failed. The score on this train-test partition for these parameters will be set to 0.000000. Details: \n",
      "ValueError('Solver lbfgs supports only l2 penalties, got l1 penalty.',)\n",
      "  \"Details: \\n%r\" % (error_score, e), FitFailedWarning)\n",
      "/anaconda3/lib/python3.6/site-packages/sklearn/model_selection/_validation.py:479: FitFailedWarning: Classifier fit failed. The score on this train-test partition for these parameters will be set to 0.000000. Details: \n",
      "ValueError('Solver lbfgs supports only l2 penalties, got l1 penalty.',)\n",
      "  \"Details: \\n%r\" % (error_score, e), FitFailedWarning)\n",
      "/anaconda3/lib/python3.6/site-packages/sklearn/model_selection/_validation.py:479: FitFailedWarning: Classifier fit failed. The score on this train-test partition for these parameters will be set to 0.000000. Details: \n",
      "ValueError('Solver sag supports only l2 penalties, got l1 penalty.',)\n",
      "  \"Details: \\n%r\" % (error_score, e), FitFailedWarning)\n",
      "/anaconda3/lib/python3.6/site-packages/sklearn/model_selection/_validation.py:479: FitFailedWarning: Classifier fit failed. The score on this train-test partition for these parameters will be set to 0.000000. Details: \n",
      "ValueError('Solver sag supports only l2 penalties, got l1 penalty.',)\n",
      "  \"Details: \\n%r\" % (error_score, e), FitFailedWarning)\n",
      "/anaconda3/lib/python3.6/site-packages/sklearn/model_selection/_validation.py:479: FitFailedWarning: Classifier fit failed. The score on this train-test partition for these parameters will be set to 0.000000. Details: \n",
      "ValueError('Solver sag supports only l2 penalties, got l1 penalty.',)\n",
      "  \"Details: \\n%r\" % (error_score, e), FitFailedWarning)\n",
      "/anaconda3/lib/python3.6/site-packages/sklearn/linear_model/sag.py:326: ConvergenceWarning: The max_iter was reached which means the coef_ did not converge\n",
      "  \"the coef_ did not converge\", ConvergenceWarning)\n",
      "/anaconda3/lib/python3.6/site-packages/sklearn/linear_model/sag.py:326: ConvergenceWarning: The max_iter was reached which means the coef_ did not converge\n",
      "  \"the coef_ did not converge\", ConvergenceWarning)\n",
      "/anaconda3/lib/python3.6/site-packages/sklearn/linear_model/sag.py:326: ConvergenceWarning: The max_iter was reached which means the coef_ did not converge\n",
      "  \"the coef_ did not converge\", ConvergenceWarning)\n",
      "/anaconda3/lib/python3.6/site-packages/sklearn/linear_model/sag.py:326: ConvergenceWarning: The max_iter was reached which means the coef_ did not converge\n",
      "  \"the coef_ did not converge\", ConvergenceWarning)\n",
      "/anaconda3/lib/python3.6/site-packages/sklearn/linear_model/sag.py:326: ConvergenceWarning: The max_iter was reached which means the coef_ did not converge\n",
      "  \"the coef_ did not converge\", ConvergenceWarning)\n",
      "/anaconda3/lib/python3.6/site-packages/sklearn/linear_model/sag.py:326: ConvergenceWarning: The max_iter was reached which means the coef_ did not converge\n",
      "  \"the coef_ did not converge\", ConvergenceWarning)\n",
      "/anaconda3/lib/python3.6/site-packages/sklearn/linear_model/sag.py:326: ConvergenceWarning: The max_iter was reached which means the coef_ did not converge\n",
      "  \"the coef_ did not converge\", ConvergenceWarning)\n",
      "/anaconda3/lib/python3.6/site-packages/sklearn/linear_model/sag.py:326: ConvergenceWarning: The max_iter was reached which means the coef_ did not converge\n",
      "  \"the coef_ did not converge\", ConvergenceWarning)\n",
      "/anaconda3/lib/python3.6/site-packages/sklearn/linear_model/sag.py:326: ConvergenceWarning: The max_iter was reached which means the coef_ did not converge\n",
      "  \"the coef_ did not converge\", ConvergenceWarning)\n",
      "/anaconda3/lib/python3.6/site-packages/sklearn/model_selection/_validation.py:479: FitFailedWarning: Classifier fit failed. The score on this train-test partition for these parameters will be set to 0.000000. Details: \n",
      "ValueError('Solver newton-cg supports only l2 penalties, got l1 penalty.',)\n",
      "  \"Details: \\n%r\" % (error_score, e), FitFailedWarning)\n",
      "/anaconda3/lib/python3.6/site-packages/sklearn/model_selection/_validation.py:479: FitFailedWarning: Classifier fit failed. The score on this train-test partition for these parameters will be set to 0.000000. Details: \n",
      "ValueError('Solver newton-cg supports only l2 penalties, got l1 penalty.',)\n",
      "  \"Details: \\n%r\" % (error_score, e), FitFailedWarning)\n",
      "/anaconda3/lib/python3.6/site-packages/sklearn/model_selection/_validation.py:479: FitFailedWarning: Classifier fit failed. The score on this train-test partition for these parameters will be set to 0.000000. Details: \n",
      "ValueError('Solver newton-cg supports only l2 penalties, got l1 penalty.',)\n",
      "  \"Details: \\n%r\" % (error_score, e), FitFailedWarning)\n",
      "/anaconda3/lib/python3.6/site-packages/sklearn/model_selection/_validation.py:479: FitFailedWarning: Classifier fit failed. The score on this train-test partition for these parameters will be set to 0.000000. Details: \n",
      "ValueError('Solver lbfgs supports only l2 penalties, got l1 penalty.',)\n",
      "  \"Details: \\n%r\" % (error_score, e), FitFailedWarning)\n",
      "/anaconda3/lib/python3.6/site-packages/sklearn/model_selection/_validation.py:479: FitFailedWarning: Classifier fit failed. The score on this train-test partition for these parameters will be set to 0.000000. Details: \n",
      "ValueError('Solver lbfgs supports only l2 penalties, got l1 penalty.',)\n",
      "  \"Details: \\n%r\" % (error_score, e), FitFailedWarning)\n",
      "/anaconda3/lib/python3.6/site-packages/sklearn/model_selection/_validation.py:479: FitFailedWarning: Classifier fit failed. The score on this train-test partition for these parameters will be set to 0.000000. Details: \n",
      "ValueError('Solver lbfgs supports only l2 penalties, got l1 penalty.',)\n",
      "  \"Details: \\n%r\" % (error_score, e), FitFailedWarning)\n",
      "/anaconda3/lib/python3.6/site-packages/sklearn/model_selection/_validation.py:479: FitFailedWarning: Classifier fit failed. The score on this train-test partition for these parameters will be set to 0.000000. Details: \n",
      "ValueError('Solver sag supports only l2 penalties, got l1 penalty.',)\n",
      "  \"Details: \\n%r\" % (error_score, e), FitFailedWarning)\n",
      "/anaconda3/lib/python3.6/site-packages/sklearn/model_selection/_validation.py:479: FitFailedWarning: Classifier fit failed. The score on this train-test partition for these parameters will be set to 0.000000. Details: \n",
      "ValueError('Solver sag supports only l2 penalties, got l1 penalty.',)\n",
      "  \"Details: \\n%r\" % (error_score, e), FitFailedWarning)\n",
      "/anaconda3/lib/python3.6/site-packages/sklearn/model_selection/_validation.py:479: FitFailedWarning: Classifier fit failed. The score on this train-test partition for these parameters will be set to 0.000000. Details: \n",
      "ValueError('Solver sag supports only l2 penalties, got l1 penalty.',)\n",
      "  \"Details: \\n%r\" % (error_score, e), FitFailedWarning)\n",
      "/anaconda3/lib/python3.6/site-packages/sklearn/linear_model/sag.py:326: ConvergenceWarning: The max_iter was reached which means the coef_ did not converge\n",
      "  \"the coef_ did not converge\", ConvergenceWarning)\n",
      "/anaconda3/lib/python3.6/site-packages/sklearn/linear_model/sag.py:326: ConvergenceWarning: The max_iter was reached which means the coef_ did not converge\n",
      "  \"the coef_ did not converge\", ConvergenceWarning)\n",
      "/anaconda3/lib/python3.6/site-packages/sklearn/linear_model/sag.py:326: ConvergenceWarning: The max_iter was reached which means the coef_ did not converge\n",
      "  \"the coef_ did not converge\", ConvergenceWarning)\n",
      "/anaconda3/lib/python3.6/site-packages/sklearn/linear_model/sag.py:326: ConvergenceWarning: The max_iter was reached which means the coef_ did not converge\n",
      "  \"the coef_ did not converge\", ConvergenceWarning)\n",
      "/anaconda3/lib/python3.6/site-packages/sklearn/linear_model/sag.py:326: ConvergenceWarning: The max_iter was reached which means the coef_ did not converge\n",
      "  \"the coef_ did not converge\", ConvergenceWarning)\n",
      "/anaconda3/lib/python3.6/site-packages/sklearn/linear_model/sag.py:326: ConvergenceWarning: The max_iter was reached which means the coef_ did not converge\n",
      "  \"the coef_ did not converge\", ConvergenceWarning)\n"
     ]
    },
    {
     "name": "stderr",
     "output_type": "stream",
     "text": [
      "/anaconda3/lib/python3.6/site-packages/sklearn/linear_model/sag.py:326: ConvergenceWarning: The max_iter was reached which means the coef_ did not converge\n",
      "  \"the coef_ did not converge\", ConvergenceWarning)\n",
      "/anaconda3/lib/python3.6/site-packages/sklearn/linear_model/sag.py:326: ConvergenceWarning: The max_iter was reached which means the coef_ did not converge\n",
      "  \"the coef_ did not converge\", ConvergenceWarning)\n",
      "/anaconda3/lib/python3.6/site-packages/sklearn/linear_model/sag.py:326: ConvergenceWarning: The max_iter was reached which means the coef_ did not converge\n",
      "  \"the coef_ did not converge\", ConvergenceWarning)\n",
      "/anaconda3/lib/python3.6/site-packages/sklearn/model_selection/_validation.py:479: FitFailedWarning: Classifier fit failed. The score on this train-test partition for these parameters will be set to 0.000000. Details: \n",
      "ValueError('Solver newton-cg supports only l2 penalties, got l1 penalty.',)\n",
      "  \"Details: \\n%r\" % (error_score, e), FitFailedWarning)\n",
      "/anaconda3/lib/python3.6/site-packages/sklearn/model_selection/_validation.py:479: FitFailedWarning: Classifier fit failed. The score on this train-test partition for these parameters will be set to 0.000000. Details: \n",
      "ValueError('Solver newton-cg supports only l2 penalties, got l1 penalty.',)\n",
      "  \"Details: \\n%r\" % (error_score, e), FitFailedWarning)\n",
      "/anaconda3/lib/python3.6/site-packages/sklearn/model_selection/_validation.py:479: FitFailedWarning: Classifier fit failed. The score on this train-test partition for these parameters will be set to 0.000000. Details: \n",
      "ValueError('Solver newton-cg supports only l2 penalties, got l1 penalty.',)\n",
      "  \"Details: \\n%r\" % (error_score, e), FitFailedWarning)\n",
      "/anaconda3/lib/python3.6/site-packages/sklearn/model_selection/_validation.py:479: FitFailedWarning: Classifier fit failed. The score on this train-test partition for these parameters will be set to 0.000000. Details: \n",
      "ValueError('Solver lbfgs supports only l2 penalties, got l1 penalty.',)\n",
      "  \"Details: \\n%r\" % (error_score, e), FitFailedWarning)\n",
      "/anaconda3/lib/python3.6/site-packages/sklearn/model_selection/_validation.py:479: FitFailedWarning: Classifier fit failed. The score on this train-test partition for these parameters will be set to 0.000000. Details: \n",
      "ValueError('Solver lbfgs supports only l2 penalties, got l1 penalty.',)\n",
      "  \"Details: \\n%r\" % (error_score, e), FitFailedWarning)\n",
      "/anaconda3/lib/python3.6/site-packages/sklearn/model_selection/_validation.py:479: FitFailedWarning: Classifier fit failed. The score on this train-test partition for these parameters will be set to 0.000000. Details: \n",
      "ValueError('Solver lbfgs supports only l2 penalties, got l1 penalty.',)\n",
      "  \"Details: \\n%r\" % (error_score, e), FitFailedWarning)\n",
      "/anaconda3/lib/python3.6/site-packages/sklearn/model_selection/_validation.py:479: FitFailedWarning: Classifier fit failed. The score on this train-test partition for these parameters will be set to 0.000000. Details: \n",
      "ValueError('Solver sag supports only l2 penalties, got l1 penalty.',)\n",
      "  \"Details: \\n%r\" % (error_score, e), FitFailedWarning)\n",
      "/anaconda3/lib/python3.6/site-packages/sklearn/model_selection/_validation.py:479: FitFailedWarning: Classifier fit failed. The score on this train-test partition for these parameters will be set to 0.000000. Details: \n",
      "ValueError('Solver sag supports only l2 penalties, got l1 penalty.',)\n",
      "  \"Details: \\n%r\" % (error_score, e), FitFailedWarning)\n",
      "/anaconda3/lib/python3.6/site-packages/sklearn/model_selection/_validation.py:479: FitFailedWarning: Classifier fit failed. The score on this train-test partition for these parameters will be set to 0.000000. Details: \n",
      "ValueError('Solver sag supports only l2 penalties, got l1 penalty.',)\n",
      "  \"Details: \\n%r\" % (error_score, e), FitFailedWarning)\n",
      "/anaconda3/lib/python3.6/site-packages/sklearn/linear_model/sag.py:326: ConvergenceWarning: The max_iter was reached which means the coef_ did not converge\n",
      "  \"the coef_ did not converge\", ConvergenceWarning)\n",
      "/anaconda3/lib/python3.6/site-packages/sklearn/linear_model/sag.py:326: ConvergenceWarning: The max_iter was reached which means the coef_ did not converge\n",
      "  \"the coef_ did not converge\", ConvergenceWarning)\n",
      "/anaconda3/lib/python3.6/site-packages/sklearn/linear_model/sag.py:326: ConvergenceWarning: The max_iter was reached which means the coef_ did not converge\n",
      "  \"the coef_ did not converge\", ConvergenceWarning)\n",
      "/anaconda3/lib/python3.6/site-packages/sklearn/linear_model/sag.py:326: ConvergenceWarning: The max_iter was reached which means the coef_ did not converge\n",
      "  \"the coef_ did not converge\", ConvergenceWarning)\n",
      "/anaconda3/lib/python3.6/site-packages/sklearn/linear_model/sag.py:326: ConvergenceWarning: The max_iter was reached which means the coef_ did not converge\n",
      "  \"the coef_ did not converge\", ConvergenceWarning)\n",
      "/anaconda3/lib/python3.6/site-packages/sklearn/linear_model/sag.py:326: ConvergenceWarning: The max_iter was reached which means the coef_ did not converge\n",
      "  \"the coef_ did not converge\", ConvergenceWarning)\n",
      "/anaconda3/lib/python3.6/site-packages/sklearn/linear_model/sag.py:326: ConvergenceWarning: The max_iter was reached which means the coef_ did not converge\n",
      "  \"the coef_ did not converge\", ConvergenceWarning)\n",
      "/anaconda3/lib/python3.6/site-packages/sklearn/linear_model/sag.py:326: ConvergenceWarning: The max_iter was reached which means the coef_ did not converge\n",
      "  \"the coef_ did not converge\", ConvergenceWarning)\n",
      "/anaconda3/lib/python3.6/site-packages/sklearn/linear_model/sag.py:326: ConvergenceWarning: The max_iter was reached which means the coef_ did not converge\n",
      "  \"the coef_ did not converge\", ConvergenceWarning)\n",
      "/anaconda3/lib/python3.6/site-packages/sklearn/model_selection/_validation.py:479: FitFailedWarning: Classifier fit failed. The score on this train-test partition for these parameters will be set to 0.000000. Details: \n",
      "ValueError('Solver newton-cg supports only l2 penalties, got l1 penalty.',)\n",
      "  \"Details: \\n%r\" % (error_score, e), FitFailedWarning)\n",
      "/anaconda3/lib/python3.6/site-packages/sklearn/model_selection/_validation.py:479: FitFailedWarning: Classifier fit failed. The score on this train-test partition for these parameters will be set to 0.000000. Details: \n",
      "ValueError('Solver newton-cg supports only l2 penalties, got l1 penalty.',)\n",
      "  \"Details: \\n%r\" % (error_score, e), FitFailedWarning)\n",
      "/anaconda3/lib/python3.6/site-packages/sklearn/model_selection/_validation.py:479: FitFailedWarning: Classifier fit failed. The score on this train-test partition for these parameters will be set to 0.000000. Details: \n",
      "ValueError('Solver newton-cg supports only l2 penalties, got l1 penalty.',)\n",
      "  \"Details: \\n%r\" % (error_score, e), FitFailedWarning)\n",
      "/anaconda3/lib/python3.6/site-packages/sklearn/model_selection/_validation.py:479: FitFailedWarning: Classifier fit failed. The score on this train-test partition for these parameters will be set to 0.000000. Details: \n",
      "ValueError('Solver lbfgs supports only l2 penalties, got l1 penalty.',)\n",
      "  \"Details: \\n%r\" % (error_score, e), FitFailedWarning)\n",
      "/anaconda3/lib/python3.6/site-packages/sklearn/model_selection/_validation.py:479: FitFailedWarning: Classifier fit failed. The score on this train-test partition for these parameters will be set to 0.000000. Details: \n",
      "ValueError('Solver lbfgs supports only l2 penalties, got l1 penalty.',)\n",
      "  \"Details: \\n%r\" % (error_score, e), FitFailedWarning)\n",
      "/anaconda3/lib/python3.6/site-packages/sklearn/model_selection/_validation.py:479: FitFailedWarning: Classifier fit failed. The score on this train-test partition for these parameters will be set to 0.000000. Details: \n",
      "ValueError('Solver lbfgs supports only l2 penalties, got l1 penalty.',)\n",
      "  \"Details: \\n%r\" % (error_score, e), FitFailedWarning)\n",
      "/anaconda3/lib/python3.6/site-packages/sklearn/model_selection/_validation.py:479: FitFailedWarning: Classifier fit failed. The score on this train-test partition for these parameters will be set to 0.000000. Details: \n",
      "ValueError('Solver sag supports only l2 penalties, got l1 penalty.',)\n",
      "  \"Details: \\n%r\" % (error_score, e), FitFailedWarning)\n",
      "/anaconda3/lib/python3.6/site-packages/sklearn/model_selection/_validation.py:479: FitFailedWarning: Classifier fit failed. The score on this train-test partition for these parameters will be set to 0.000000. Details: \n",
      "ValueError('Solver sag supports only l2 penalties, got l1 penalty.',)\n",
      "  \"Details: \\n%r\" % (error_score, e), FitFailedWarning)\n",
      "/anaconda3/lib/python3.6/site-packages/sklearn/model_selection/_validation.py:479: FitFailedWarning: Classifier fit failed. The score on this train-test partition for these parameters will be set to 0.000000. Details: \n",
      "ValueError('Solver sag supports only l2 penalties, got l1 penalty.',)\n",
      "  \"Details: \\n%r\" % (error_score, e), FitFailedWarning)\n"
     ]
    },
    {
     "name": "stderr",
     "output_type": "stream",
     "text": [
      "/anaconda3/lib/python3.6/site-packages/sklearn/linear_model/sag.py:326: ConvergenceWarning: The max_iter was reached which means the coef_ did not converge\n",
      "  \"the coef_ did not converge\", ConvergenceWarning)\n",
      "/anaconda3/lib/python3.6/site-packages/sklearn/linear_model/sag.py:326: ConvergenceWarning: The max_iter was reached which means the coef_ did not converge\n",
      "  \"the coef_ did not converge\", ConvergenceWarning)\n",
      "/anaconda3/lib/python3.6/site-packages/sklearn/linear_model/sag.py:326: ConvergenceWarning: The max_iter was reached which means the coef_ did not converge\n",
      "  \"the coef_ did not converge\", ConvergenceWarning)\n",
      "/anaconda3/lib/python3.6/site-packages/sklearn/linear_model/sag.py:326: ConvergenceWarning: The max_iter was reached which means the coef_ did not converge\n",
      "  \"the coef_ did not converge\", ConvergenceWarning)\n",
      "/anaconda3/lib/python3.6/site-packages/sklearn/linear_model/sag.py:326: ConvergenceWarning: The max_iter was reached which means the coef_ did not converge\n",
      "  \"the coef_ did not converge\", ConvergenceWarning)\n",
      "/anaconda3/lib/python3.6/site-packages/sklearn/linear_model/sag.py:326: ConvergenceWarning: The max_iter was reached which means the coef_ did not converge\n",
      "  \"the coef_ did not converge\", ConvergenceWarning)\n",
      "/anaconda3/lib/python3.6/site-packages/sklearn/linear_model/sag.py:326: ConvergenceWarning: The max_iter was reached which means the coef_ did not converge\n",
      "  \"the coef_ did not converge\", ConvergenceWarning)\n",
      "/anaconda3/lib/python3.6/site-packages/sklearn/linear_model/sag.py:326: ConvergenceWarning: The max_iter was reached which means the coef_ did not converge\n",
      "  \"the coef_ did not converge\", ConvergenceWarning)\n",
      "/anaconda3/lib/python3.6/site-packages/sklearn/linear_model/sag.py:326: ConvergenceWarning: The max_iter was reached which means the coef_ did not converge\n",
      "  \"the coef_ did not converge\", ConvergenceWarning)\n",
      "/anaconda3/lib/python3.6/site-packages/sklearn/model_selection/_validation.py:479: FitFailedWarning: Classifier fit failed. The score on this train-test partition for these parameters will be set to 0.000000. Details: \n",
      "ValueError('Solver newton-cg supports only l2 penalties, got l1 penalty.',)\n",
      "  \"Details: \\n%r\" % (error_score, e), FitFailedWarning)\n",
      "/anaconda3/lib/python3.6/site-packages/sklearn/model_selection/_validation.py:479: FitFailedWarning: Classifier fit failed. The score on this train-test partition for these parameters will be set to 0.000000. Details: \n",
      "ValueError('Solver newton-cg supports only l2 penalties, got l1 penalty.',)\n",
      "  \"Details: \\n%r\" % (error_score, e), FitFailedWarning)\n",
      "/anaconda3/lib/python3.6/site-packages/sklearn/model_selection/_validation.py:479: FitFailedWarning: Classifier fit failed. The score on this train-test partition for these parameters will be set to 0.000000. Details: \n",
      "ValueError('Solver newton-cg supports only l2 penalties, got l1 penalty.',)\n",
      "  \"Details: \\n%r\" % (error_score, e), FitFailedWarning)\n",
      "/anaconda3/lib/python3.6/site-packages/sklearn/model_selection/_validation.py:479: FitFailedWarning: Classifier fit failed. The score on this train-test partition for these parameters will be set to 0.000000. Details: \n",
      "ValueError('Solver lbfgs supports only l2 penalties, got l1 penalty.',)\n",
      "  \"Details: \\n%r\" % (error_score, e), FitFailedWarning)\n",
      "/anaconda3/lib/python3.6/site-packages/sklearn/model_selection/_validation.py:479: FitFailedWarning: Classifier fit failed. The score on this train-test partition for these parameters will be set to 0.000000. Details: \n",
      "ValueError('Solver lbfgs supports only l2 penalties, got l1 penalty.',)\n",
      "  \"Details: \\n%r\" % (error_score, e), FitFailedWarning)\n",
      "/anaconda3/lib/python3.6/site-packages/sklearn/model_selection/_validation.py:479: FitFailedWarning: Classifier fit failed. The score on this train-test partition for these parameters will be set to 0.000000. Details: \n",
      "ValueError('Solver lbfgs supports only l2 penalties, got l1 penalty.',)\n",
      "  \"Details: \\n%r\" % (error_score, e), FitFailedWarning)\n",
      "/anaconda3/lib/python3.6/site-packages/sklearn/model_selection/_validation.py:479: FitFailedWarning: Classifier fit failed. The score on this train-test partition for these parameters will be set to 0.000000. Details: \n",
      "ValueError('Solver sag supports only l2 penalties, got l1 penalty.',)\n",
      "  \"Details: \\n%r\" % (error_score, e), FitFailedWarning)\n",
      "/anaconda3/lib/python3.6/site-packages/sklearn/model_selection/_validation.py:479: FitFailedWarning: Classifier fit failed. The score on this train-test partition for these parameters will be set to 0.000000. Details: \n",
      "ValueError('Solver sag supports only l2 penalties, got l1 penalty.',)\n",
      "  \"Details: \\n%r\" % (error_score, e), FitFailedWarning)\n",
      "/anaconda3/lib/python3.6/site-packages/sklearn/model_selection/_validation.py:479: FitFailedWarning: Classifier fit failed. The score on this train-test partition for these parameters will be set to 0.000000. Details: \n",
      "ValueError('Solver sag supports only l2 penalties, got l1 penalty.',)\n",
      "  \"Details: \\n%r\" % (error_score, e), FitFailedWarning)\n",
      "/anaconda3/lib/python3.6/site-packages/sklearn/linear_model/sag.py:326: ConvergenceWarning: The max_iter was reached which means the coef_ did not converge\n",
      "  \"the coef_ did not converge\", ConvergenceWarning)\n",
      "/anaconda3/lib/python3.6/site-packages/sklearn/linear_model/sag.py:326: ConvergenceWarning: The max_iter was reached which means the coef_ did not converge\n",
      "  \"the coef_ did not converge\", ConvergenceWarning)\n",
      "/anaconda3/lib/python3.6/site-packages/sklearn/linear_model/sag.py:326: ConvergenceWarning: The max_iter was reached which means the coef_ did not converge\n",
      "  \"the coef_ did not converge\", ConvergenceWarning)\n",
      "/anaconda3/lib/python3.6/site-packages/sklearn/linear_model/sag.py:326: ConvergenceWarning: The max_iter was reached which means the coef_ did not converge\n",
      "  \"the coef_ did not converge\", ConvergenceWarning)\n",
      "/anaconda3/lib/python3.6/site-packages/sklearn/linear_model/sag.py:326: ConvergenceWarning: The max_iter was reached which means the coef_ did not converge\n",
      "  \"the coef_ did not converge\", ConvergenceWarning)\n",
      "/anaconda3/lib/python3.6/site-packages/sklearn/linear_model/sag.py:326: ConvergenceWarning: The max_iter was reached which means the coef_ did not converge\n",
      "  \"the coef_ did not converge\", ConvergenceWarning)\n",
      "/anaconda3/lib/python3.6/site-packages/sklearn/linear_model/sag.py:326: ConvergenceWarning: The max_iter was reached which means the coef_ did not converge\n",
      "  \"the coef_ did not converge\", ConvergenceWarning)\n",
      "/anaconda3/lib/python3.6/site-packages/sklearn/linear_model/sag.py:326: ConvergenceWarning: The max_iter was reached which means the coef_ did not converge\n",
      "  \"the coef_ did not converge\", ConvergenceWarning)\n",
      "/anaconda3/lib/python3.6/site-packages/sklearn/linear_model/sag.py:326: ConvergenceWarning: The max_iter was reached which means the coef_ did not converge\n",
      "  \"the coef_ did not converge\", ConvergenceWarning)\n",
      "/anaconda3/lib/python3.6/site-packages/sklearn/model_selection/_validation.py:479: FitFailedWarning: Classifier fit failed. The score on this train-test partition for these parameters will be set to 0.000000. Details: \n",
      "ValueError('Solver newton-cg supports only l2 penalties, got l1 penalty.',)\n",
      "  \"Details: \\n%r\" % (error_score, e), FitFailedWarning)\n",
      "/anaconda3/lib/python3.6/site-packages/sklearn/model_selection/_validation.py:479: FitFailedWarning: Classifier fit failed. The score on this train-test partition for these parameters will be set to 0.000000. Details: \n",
      "ValueError('Solver newton-cg supports only l2 penalties, got l1 penalty.',)\n",
      "  \"Details: \\n%r\" % (error_score, e), FitFailedWarning)\n",
      "/anaconda3/lib/python3.6/site-packages/sklearn/model_selection/_validation.py:479: FitFailedWarning: Classifier fit failed. The score on this train-test partition for these parameters will be set to 0.000000. Details: \n",
      "ValueError('Solver newton-cg supports only l2 penalties, got l1 penalty.',)\n",
      "  \"Details: \\n%r\" % (error_score, e), FitFailedWarning)\n",
      "/anaconda3/lib/python3.6/site-packages/sklearn/model_selection/_validation.py:479: FitFailedWarning: Classifier fit failed. The score on this train-test partition for these parameters will be set to 0.000000. Details: \n",
      "ValueError('Solver lbfgs supports only l2 penalties, got l1 penalty.',)\n",
      "  \"Details: \\n%r\" % (error_score, e), FitFailedWarning)\n"
     ]
    },
    {
     "name": "stderr",
     "output_type": "stream",
     "text": [
      "/anaconda3/lib/python3.6/site-packages/sklearn/model_selection/_validation.py:479: FitFailedWarning: Classifier fit failed. The score on this train-test partition for these parameters will be set to 0.000000. Details: \n",
      "ValueError('Solver lbfgs supports only l2 penalties, got l1 penalty.',)\n",
      "  \"Details: \\n%r\" % (error_score, e), FitFailedWarning)\n",
      "/anaconda3/lib/python3.6/site-packages/sklearn/model_selection/_validation.py:479: FitFailedWarning: Classifier fit failed. The score on this train-test partition for these parameters will be set to 0.000000. Details: \n",
      "ValueError('Solver lbfgs supports only l2 penalties, got l1 penalty.',)\n",
      "  \"Details: \\n%r\" % (error_score, e), FitFailedWarning)\n",
      "/anaconda3/lib/python3.6/site-packages/sklearn/model_selection/_validation.py:479: FitFailedWarning: Classifier fit failed. The score on this train-test partition for these parameters will be set to 0.000000. Details: \n",
      "ValueError('Solver sag supports only l2 penalties, got l1 penalty.',)\n",
      "  \"Details: \\n%r\" % (error_score, e), FitFailedWarning)\n",
      "/anaconda3/lib/python3.6/site-packages/sklearn/model_selection/_validation.py:479: FitFailedWarning: Classifier fit failed. The score on this train-test partition for these parameters will be set to 0.000000. Details: \n",
      "ValueError('Solver sag supports only l2 penalties, got l1 penalty.',)\n",
      "  \"Details: \\n%r\" % (error_score, e), FitFailedWarning)\n",
      "/anaconda3/lib/python3.6/site-packages/sklearn/model_selection/_validation.py:479: FitFailedWarning: Classifier fit failed. The score on this train-test partition for these parameters will be set to 0.000000. Details: \n",
      "ValueError('Solver sag supports only l2 penalties, got l1 penalty.',)\n",
      "  \"Details: \\n%r\" % (error_score, e), FitFailedWarning)\n",
      "/anaconda3/lib/python3.6/site-packages/sklearn/linear_model/sag.py:326: ConvergenceWarning: The max_iter was reached which means the coef_ did not converge\n",
      "  \"the coef_ did not converge\", ConvergenceWarning)\n",
      "/anaconda3/lib/python3.6/site-packages/sklearn/linear_model/sag.py:326: ConvergenceWarning: The max_iter was reached which means the coef_ did not converge\n",
      "  \"the coef_ did not converge\", ConvergenceWarning)\n",
      "/anaconda3/lib/python3.6/site-packages/sklearn/linear_model/sag.py:326: ConvergenceWarning: The max_iter was reached which means the coef_ did not converge\n",
      "  \"the coef_ did not converge\", ConvergenceWarning)\n",
      "/anaconda3/lib/python3.6/site-packages/sklearn/linear_model/sag.py:326: ConvergenceWarning: The max_iter was reached which means the coef_ did not converge\n",
      "  \"the coef_ did not converge\", ConvergenceWarning)\n",
      "/anaconda3/lib/python3.6/site-packages/sklearn/linear_model/sag.py:326: ConvergenceWarning: The max_iter was reached which means the coef_ did not converge\n",
      "  \"the coef_ did not converge\", ConvergenceWarning)\n",
      "/anaconda3/lib/python3.6/site-packages/sklearn/linear_model/sag.py:326: ConvergenceWarning: The max_iter was reached which means the coef_ did not converge\n",
      "  \"the coef_ did not converge\", ConvergenceWarning)\n",
      "/anaconda3/lib/python3.6/site-packages/sklearn/linear_model/sag.py:326: ConvergenceWarning: The max_iter was reached which means the coef_ did not converge\n",
      "  \"the coef_ did not converge\", ConvergenceWarning)\n",
      "/anaconda3/lib/python3.6/site-packages/sklearn/linear_model/sag.py:326: ConvergenceWarning: The max_iter was reached which means the coef_ did not converge\n",
      "  \"the coef_ did not converge\", ConvergenceWarning)\n",
      "/anaconda3/lib/python3.6/site-packages/sklearn/linear_model/sag.py:326: ConvergenceWarning: The max_iter was reached which means the coef_ did not converge\n",
      "  \"the coef_ did not converge\", ConvergenceWarning)\n",
      "/anaconda3/lib/python3.6/site-packages/sklearn/model_selection/_validation.py:479: FitFailedWarning: Classifier fit failed. The score on this train-test partition for these parameters will be set to 0.000000. Details: \n",
      "ValueError('Solver newton-cg supports only l2 penalties, got l1 penalty.',)\n",
      "  \"Details: \\n%r\" % (error_score, e), FitFailedWarning)\n",
      "/anaconda3/lib/python3.6/site-packages/sklearn/model_selection/_validation.py:479: FitFailedWarning: Classifier fit failed. The score on this train-test partition for these parameters will be set to 0.000000. Details: \n",
      "ValueError('Solver newton-cg supports only l2 penalties, got l1 penalty.',)\n",
      "  \"Details: \\n%r\" % (error_score, e), FitFailedWarning)\n",
      "/anaconda3/lib/python3.6/site-packages/sklearn/model_selection/_validation.py:479: FitFailedWarning: Classifier fit failed. The score on this train-test partition for these parameters will be set to 0.000000. Details: \n",
      "ValueError('Solver newton-cg supports only l2 penalties, got l1 penalty.',)\n",
      "  \"Details: \\n%r\" % (error_score, e), FitFailedWarning)\n",
      "/anaconda3/lib/python3.6/site-packages/sklearn/model_selection/_validation.py:479: FitFailedWarning: Classifier fit failed. The score on this train-test partition for these parameters will be set to 0.000000. Details: \n",
      "ValueError('Solver lbfgs supports only l2 penalties, got l1 penalty.',)\n",
      "  \"Details: \\n%r\" % (error_score, e), FitFailedWarning)\n",
      "/anaconda3/lib/python3.6/site-packages/sklearn/model_selection/_validation.py:479: FitFailedWarning: Classifier fit failed. The score on this train-test partition for these parameters will be set to 0.000000. Details: \n",
      "ValueError('Solver lbfgs supports only l2 penalties, got l1 penalty.',)\n",
      "  \"Details: \\n%r\" % (error_score, e), FitFailedWarning)\n",
      "/anaconda3/lib/python3.6/site-packages/sklearn/model_selection/_validation.py:479: FitFailedWarning: Classifier fit failed. The score on this train-test partition for these parameters will be set to 0.000000. Details: \n",
      "ValueError('Solver lbfgs supports only l2 penalties, got l1 penalty.',)\n",
      "  \"Details: \\n%r\" % (error_score, e), FitFailedWarning)\n",
      "/anaconda3/lib/python3.6/site-packages/sklearn/model_selection/_validation.py:479: FitFailedWarning: Classifier fit failed. The score on this train-test partition for these parameters will be set to 0.000000. Details: \n",
      "ValueError('Solver sag supports only l2 penalties, got l1 penalty.',)\n",
      "  \"Details: \\n%r\" % (error_score, e), FitFailedWarning)\n",
      "/anaconda3/lib/python3.6/site-packages/sklearn/model_selection/_validation.py:479: FitFailedWarning: Classifier fit failed. The score on this train-test partition for these parameters will be set to 0.000000. Details: \n",
      "ValueError('Solver sag supports only l2 penalties, got l1 penalty.',)\n",
      "  \"Details: \\n%r\" % (error_score, e), FitFailedWarning)\n",
      "/anaconda3/lib/python3.6/site-packages/sklearn/model_selection/_validation.py:479: FitFailedWarning: Classifier fit failed. The score on this train-test partition for these parameters will be set to 0.000000. Details: \n",
      "ValueError('Solver sag supports only l2 penalties, got l1 penalty.',)\n",
      "  \"Details: \\n%r\" % (error_score, e), FitFailedWarning)\n",
      "/anaconda3/lib/python3.6/site-packages/sklearn/linear_model/sag.py:326: ConvergenceWarning: The max_iter was reached which means the coef_ did not converge\n",
      "  \"the coef_ did not converge\", ConvergenceWarning)\n",
      "/anaconda3/lib/python3.6/site-packages/sklearn/linear_model/sag.py:326: ConvergenceWarning: The max_iter was reached which means the coef_ did not converge\n",
      "  \"the coef_ did not converge\", ConvergenceWarning)\n",
      "/anaconda3/lib/python3.6/site-packages/sklearn/linear_model/sag.py:326: ConvergenceWarning: The max_iter was reached which means the coef_ did not converge\n",
      "  \"the coef_ did not converge\", ConvergenceWarning)\n",
      "/anaconda3/lib/python3.6/site-packages/sklearn/linear_model/sag.py:326: ConvergenceWarning: The max_iter was reached which means the coef_ did not converge\n",
      "  \"the coef_ did not converge\", ConvergenceWarning)\n",
      "/anaconda3/lib/python3.6/site-packages/sklearn/linear_model/sag.py:326: ConvergenceWarning: The max_iter was reached which means the coef_ did not converge\n",
      "  \"the coef_ did not converge\", ConvergenceWarning)\n",
      "/anaconda3/lib/python3.6/site-packages/sklearn/linear_model/sag.py:326: ConvergenceWarning: The max_iter was reached which means the coef_ did not converge\n",
      "  \"the coef_ did not converge\", ConvergenceWarning)\n",
      "/anaconda3/lib/python3.6/site-packages/sklearn/linear_model/sag.py:326: ConvergenceWarning: The max_iter was reached which means the coef_ did not converge\n",
      "  \"the coef_ did not converge\", ConvergenceWarning)\n",
      "/anaconda3/lib/python3.6/site-packages/sklearn/linear_model/sag.py:326: ConvergenceWarning: The max_iter was reached which means the coef_ did not converge\n",
      "  \"the coef_ did not converge\", ConvergenceWarning)\n"
     ]
    },
    {
     "name": "stderr",
     "output_type": "stream",
     "text": [
      "/anaconda3/lib/python3.6/site-packages/sklearn/linear_model/sag.py:326: ConvergenceWarning: The max_iter was reached which means the coef_ did not converge\n",
      "  \"the coef_ did not converge\", ConvergenceWarning)\n",
      "/anaconda3/lib/python3.6/site-packages/sklearn/model_selection/_validation.py:479: FitFailedWarning: Classifier fit failed. The score on this train-test partition for these parameters will be set to 0.000000. Details: \n",
      "ValueError('Solver newton-cg supports only l2 penalties, got l1 penalty.',)\n",
      "  \"Details: \\n%r\" % (error_score, e), FitFailedWarning)\n",
      "/anaconda3/lib/python3.6/site-packages/sklearn/model_selection/_validation.py:479: FitFailedWarning: Classifier fit failed. The score on this train-test partition for these parameters will be set to 0.000000. Details: \n",
      "ValueError('Solver newton-cg supports only l2 penalties, got l1 penalty.',)\n",
      "  \"Details: \\n%r\" % (error_score, e), FitFailedWarning)\n",
      "/anaconda3/lib/python3.6/site-packages/sklearn/model_selection/_validation.py:479: FitFailedWarning: Classifier fit failed. The score on this train-test partition for these parameters will be set to 0.000000. Details: \n",
      "ValueError('Solver newton-cg supports only l2 penalties, got l1 penalty.',)\n",
      "  \"Details: \\n%r\" % (error_score, e), FitFailedWarning)\n",
      "/anaconda3/lib/python3.6/site-packages/sklearn/model_selection/_validation.py:479: FitFailedWarning: Classifier fit failed. The score on this train-test partition for these parameters will be set to 0.000000. Details: \n",
      "ValueError('Solver lbfgs supports only l2 penalties, got l1 penalty.',)\n",
      "  \"Details: \\n%r\" % (error_score, e), FitFailedWarning)\n",
      "/anaconda3/lib/python3.6/site-packages/sklearn/model_selection/_validation.py:479: FitFailedWarning: Classifier fit failed. The score on this train-test partition for these parameters will be set to 0.000000. Details: \n",
      "ValueError('Solver lbfgs supports only l2 penalties, got l1 penalty.',)\n",
      "  \"Details: \\n%r\" % (error_score, e), FitFailedWarning)\n",
      "/anaconda3/lib/python3.6/site-packages/sklearn/model_selection/_validation.py:479: FitFailedWarning: Classifier fit failed. The score on this train-test partition for these parameters will be set to 0.000000. Details: \n",
      "ValueError('Solver lbfgs supports only l2 penalties, got l1 penalty.',)\n",
      "  \"Details: \\n%r\" % (error_score, e), FitFailedWarning)\n",
      "/anaconda3/lib/python3.6/site-packages/sklearn/model_selection/_validation.py:479: FitFailedWarning: Classifier fit failed. The score on this train-test partition for these parameters will be set to 0.000000. Details: \n",
      "ValueError('Solver sag supports only l2 penalties, got l1 penalty.',)\n",
      "  \"Details: \\n%r\" % (error_score, e), FitFailedWarning)\n",
      "/anaconda3/lib/python3.6/site-packages/sklearn/model_selection/_validation.py:479: FitFailedWarning: Classifier fit failed. The score on this train-test partition for these parameters will be set to 0.000000. Details: \n",
      "ValueError('Solver sag supports only l2 penalties, got l1 penalty.',)\n",
      "  \"Details: \\n%r\" % (error_score, e), FitFailedWarning)\n",
      "/anaconda3/lib/python3.6/site-packages/sklearn/model_selection/_validation.py:479: FitFailedWarning: Classifier fit failed. The score on this train-test partition for these parameters will be set to 0.000000. Details: \n",
      "ValueError('Solver sag supports only l2 penalties, got l1 penalty.',)\n",
      "  \"Details: \\n%r\" % (error_score, e), FitFailedWarning)\n",
      "/anaconda3/lib/python3.6/site-packages/sklearn/linear_model/sag.py:326: ConvergenceWarning: The max_iter was reached which means the coef_ did not converge\n",
      "  \"the coef_ did not converge\", ConvergenceWarning)\n",
      "/anaconda3/lib/python3.6/site-packages/sklearn/linear_model/sag.py:326: ConvergenceWarning: The max_iter was reached which means the coef_ did not converge\n",
      "  \"the coef_ did not converge\", ConvergenceWarning)\n",
      "/anaconda3/lib/python3.6/site-packages/sklearn/linear_model/sag.py:326: ConvergenceWarning: The max_iter was reached which means the coef_ did not converge\n",
      "  \"the coef_ did not converge\", ConvergenceWarning)\n",
      "/anaconda3/lib/python3.6/site-packages/sklearn/linear_model/sag.py:326: ConvergenceWarning: The max_iter was reached which means the coef_ did not converge\n",
      "  \"the coef_ did not converge\", ConvergenceWarning)\n",
      "/anaconda3/lib/python3.6/site-packages/sklearn/linear_model/sag.py:326: ConvergenceWarning: The max_iter was reached which means the coef_ did not converge\n",
      "  \"the coef_ did not converge\", ConvergenceWarning)\n",
      "/anaconda3/lib/python3.6/site-packages/sklearn/linear_model/sag.py:326: ConvergenceWarning: The max_iter was reached which means the coef_ did not converge\n",
      "  \"the coef_ did not converge\", ConvergenceWarning)\n",
      "/anaconda3/lib/python3.6/site-packages/sklearn/linear_model/sag.py:326: ConvergenceWarning: The max_iter was reached which means the coef_ did not converge\n",
      "  \"the coef_ did not converge\", ConvergenceWarning)\n",
      "/anaconda3/lib/python3.6/site-packages/sklearn/linear_model/sag.py:326: ConvergenceWarning: The max_iter was reached which means the coef_ did not converge\n",
      "  \"the coef_ did not converge\", ConvergenceWarning)\n",
      "/anaconda3/lib/python3.6/site-packages/sklearn/linear_model/sag.py:326: ConvergenceWarning: The max_iter was reached which means the coef_ did not converge\n",
      "  \"the coef_ did not converge\", ConvergenceWarning)\n",
      "/anaconda3/lib/python3.6/site-packages/sklearn/model_selection/_validation.py:479: FitFailedWarning: Classifier fit failed. The score on this train-test partition for these parameters will be set to 0.000000. Details: \n",
      "ValueError('Solver newton-cg supports only l2 penalties, got l1 penalty.',)\n",
      "  \"Details: \\n%r\" % (error_score, e), FitFailedWarning)\n",
      "/anaconda3/lib/python3.6/site-packages/sklearn/model_selection/_validation.py:479: FitFailedWarning: Classifier fit failed. The score on this train-test partition for these parameters will be set to 0.000000. Details: \n",
      "ValueError('Solver newton-cg supports only l2 penalties, got l1 penalty.',)\n",
      "  \"Details: \\n%r\" % (error_score, e), FitFailedWarning)\n",
      "/anaconda3/lib/python3.6/site-packages/sklearn/model_selection/_validation.py:479: FitFailedWarning: Classifier fit failed. The score on this train-test partition for these parameters will be set to 0.000000. Details: \n",
      "ValueError('Solver newton-cg supports only l2 penalties, got l1 penalty.',)\n",
      "  \"Details: \\n%r\" % (error_score, e), FitFailedWarning)\n",
      "/anaconda3/lib/python3.6/site-packages/sklearn/model_selection/_validation.py:479: FitFailedWarning: Classifier fit failed. The score on this train-test partition for these parameters will be set to 0.000000. Details: \n",
      "ValueError('Solver lbfgs supports only l2 penalties, got l1 penalty.',)\n",
      "  \"Details: \\n%r\" % (error_score, e), FitFailedWarning)\n",
      "/anaconda3/lib/python3.6/site-packages/sklearn/model_selection/_validation.py:479: FitFailedWarning: Classifier fit failed. The score on this train-test partition for these parameters will be set to 0.000000. Details: \n",
      "ValueError('Solver lbfgs supports only l2 penalties, got l1 penalty.',)\n",
      "  \"Details: \\n%r\" % (error_score, e), FitFailedWarning)\n",
      "/anaconda3/lib/python3.6/site-packages/sklearn/model_selection/_validation.py:479: FitFailedWarning: Classifier fit failed. The score on this train-test partition for these parameters will be set to 0.000000. Details: \n",
      "ValueError('Solver lbfgs supports only l2 penalties, got l1 penalty.',)\n",
      "  \"Details: \\n%r\" % (error_score, e), FitFailedWarning)\n",
      "/anaconda3/lib/python3.6/site-packages/sklearn/model_selection/_validation.py:479: FitFailedWarning: Classifier fit failed. The score on this train-test partition for these parameters will be set to 0.000000. Details: \n",
      "ValueError('Solver sag supports only l2 penalties, got l1 penalty.',)\n",
      "  \"Details: \\n%r\" % (error_score, e), FitFailedWarning)\n",
      "/anaconda3/lib/python3.6/site-packages/sklearn/model_selection/_validation.py:479: FitFailedWarning: Classifier fit failed. The score on this train-test partition for these parameters will be set to 0.000000. Details: \n",
      "ValueError('Solver sag supports only l2 penalties, got l1 penalty.',)\n",
      "  \"Details: \\n%r\" % (error_score, e), FitFailedWarning)\n",
      "/anaconda3/lib/python3.6/site-packages/sklearn/model_selection/_validation.py:479: FitFailedWarning: Classifier fit failed. The score on this train-test partition for these parameters will be set to 0.000000. Details: \n",
      "ValueError('Solver sag supports only l2 penalties, got l1 penalty.',)\n",
      "  \"Details: \\n%r\" % (error_score, e), FitFailedWarning)\n"
     ]
    },
    {
     "name": "stderr",
     "output_type": "stream",
     "text": [
      "/anaconda3/lib/python3.6/site-packages/sklearn/linear_model/sag.py:326: ConvergenceWarning: The max_iter was reached which means the coef_ did not converge\n",
      "  \"the coef_ did not converge\", ConvergenceWarning)\n",
      "/anaconda3/lib/python3.6/site-packages/sklearn/linear_model/sag.py:326: ConvergenceWarning: The max_iter was reached which means the coef_ did not converge\n",
      "  \"the coef_ did not converge\", ConvergenceWarning)\n",
      "/anaconda3/lib/python3.6/site-packages/sklearn/linear_model/sag.py:326: ConvergenceWarning: The max_iter was reached which means the coef_ did not converge\n",
      "  \"the coef_ did not converge\", ConvergenceWarning)\n",
      "/anaconda3/lib/python3.6/site-packages/sklearn/linear_model/sag.py:326: ConvergenceWarning: The max_iter was reached which means the coef_ did not converge\n",
      "  \"the coef_ did not converge\", ConvergenceWarning)\n",
      "/anaconda3/lib/python3.6/site-packages/sklearn/linear_model/sag.py:326: ConvergenceWarning: The max_iter was reached which means the coef_ did not converge\n",
      "  \"the coef_ did not converge\", ConvergenceWarning)\n",
      "/anaconda3/lib/python3.6/site-packages/sklearn/linear_model/sag.py:326: ConvergenceWarning: The max_iter was reached which means the coef_ did not converge\n",
      "  \"the coef_ did not converge\", ConvergenceWarning)\n",
      "/anaconda3/lib/python3.6/site-packages/sklearn/linear_model/sag.py:326: ConvergenceWarning: The max_iter was reached which means the coef_ did not converge\n",
      "  \"the coef_ did not converge\", ConvergenceWarning)\n",
      "/anaconda3/lib/python3.6/site-packages/sklearn/linear_model/sag.py:326: ConvergenceWarning: The max_iter was reached which means the coef_ did not converge\n",
      "  \"the coef_ did not converge\", ConvergenceWarning)\n",
      "/anaconda3/lib/python3.6/site-packages/sklearn/linear_model/sag.py:326: ConvergenceWarning: The max_iter was reached which means the coef_ did not converge\n",
      "  \"the coef_ did not converge\", ConvergenceWarning)\n",
      "/anaconda3/lib/python3.6/site-packages/sklearn/model_selection/_validation.py:479: FitFailedWarning: Classifier fit failed. The score on this train-test partition for these parameters will be set to 0.000000. Details: \n",
      "ValueError('Solver newton-cg supports only l2 penalties, got l1 penalty.',)\n",
      "  \"Details: \\n%r\" % (error_score, e), FitFailedWarning)\n",
      "/anaconda3/lib/python3.6/site-packages/sklearn/model_selection/_validation.py:479: FitFailedWarning: Classifier fit failed. The score on this train-test partition for these parameters will be set to 0.000000. Details: \n",
      "ValueError('Solver newton-cg supports only l2 penalties, got l1 penalty.',)\n",
      "  \"Details: \\n%r\" % (error_score, e), FitFailedWarning)\n",
      "/anaconda3/lib/python3.6/site-packages/sklearn/model_selection/_validation.py:479: FitFailedWarning: Classifier fit failed. The score on this train-test partition for these parameters will be set to 0.000000. Details: \n",
      "ValueError('Solver newton-cg supports only l2 penalties, got l1 penalty.',)\n",
      "  \"Details: \\n%r\" % (error_score, e), FitFailedWarning)\n",
      "/anaconda3/lib/python3.6/site-packages/sklearn/model_selection/_validation.py:479: FitFailedWarning: Classifier fit failed. The score on this train-test partition for these parameters will be set to 0.000000. Details: \n",
      "ValueError('Solver lbfgs supports only l2 penalties, got l1 penalty.',)\n",
      "  \"Details: \\n%r\" % (error_score, e), FitFailedWarning)\n",
      "/anaconda3/lib/python3.6/site-packages/sklearn/model_selection/_validation.py:479: FitFailedWarning: Classifier fit failed. The score on this train-test partition for these parameters will be set to 0.000000. Details: \n",
      "ValueError('Solver lbfgs supports only l2 penalties, got l1 penalty.',)\n",
      "  \"Details: \\n%r\" % (error_score, e), FitFailedWarning)\n",
      "/anaconda3/lib/python3.6/site-packages/sklearn/model_selection/_validation.py:479: FitFailedWarning: Classifier fit failed. The score on this train-test partition for these parameters will be set to 0.000000. Details: \n",
      "ValueError('Solver lbfgs supports only l2 penalties, got l1 penalty.',)\n",
      "  \"Details: \\n%r\" % (error_score, e), FitFailedWarning)\n",
      "/anaconda3/lib/python3.6/site-packages/sklearn/model_selection/_validation.py:479: FitFailedWarning: Classifier fit failed. The score on this train-test partition for these parameters will be set to 0.000000. Details: \n",
      "ValueError('Solver sag supports only l2 penalties, got l1 penalty.',)\n",
      "  \"Details: \\n%r\" % (error_score, e), FitFailedWarning)\n",
      "/anaconda3/lib/python3.6/site-packages/sklearn/model_selection/_validation.py:479: FitFailedWarning: Classifier fit failed. The score on this train-test partition for these parameters will be set to 0.000000. Details: \n",
      "ValueError('Solver sag supports only l2 penalties, got l1 penalty.',)\n",
      "  \"Details: \\n%r\" % (error_score, e), FitFailedWarning)\n",
      "/anaconda3/lib/python3.6/site-packages/sklearn/model_selection/_validation.py:479: FitFailedWarning: Classifier fit failed. The score on this train-test partition for these parameters will be set to 0.000000. Details: \n",
      "ValueError('Solver sag supports only l2 penalties, got l1 penalty.',)\n",
      "  \"Details: \\n%r\" % (error_score, e), FitFailedWarning)\n",
      "/anaconda3/lib/python3.6/site-packages/sklearn/linear_model/sag.py:326: ConvergenceWarning: The max_iter was reached which means the coef_ did not converge\n",
      "  \"the coef_ did not converge\", ConvergenceWarning)\n",
      "/anaconda3/lib/python3.6/site-packages/sklearn/linear_model/sag.py:326: ConvergenceWarning: The max_iter was reached which means the coef_ did not converge\n",
      "  \"the coef_ did not converge\", ConvergenceWarning)\n",
      "/anaconda3/lib/python3.6/site-packages/sklearn/linear_model/sag.py:326: ConvergenceWarning: The max_iter was reached which means the coef_ did not converge\n",
      "  \"the coef_ did not converge\", ConvergenceWarning)\n",
      "/anaconda3/lib/python3.6/site-packages/sklearn/linear_model/sag.py:326: ConvergenceWarning: The max_iter was reached which means the coef_ did not converge\n",
      "  \"the coef_ did not converge\", ConvergenceWarning)\n",
      "/anaconda3/lib/python3.6/site-packages/sklearn/linear_model/sag.py:326: ConvergenceWarning: The max_iter was reached which means the coef_ did not converge\n",
      "  \"the coef_ did not converge\", ConvergenceWarning)\n",
      "/anaconda3/lib/python3.6/site-packages/sklearn/linear_model/sag.py:326: ConvergenceWarning: The max_iter was reached which means the coef_ did not converge\n",
      "  \"the coef_ did not converge\", ConvergenceWarning)\n",
      "/anaconda3/lib/python3.6/site-packages/sklearn/linear_model/sag.py:326: ConvergenceWarning: The max_iter was reached which means the coef_ did not converge\n",
      "  \"the coef_ did not converge\", ConvergenceWarning)\n",
      "/anaconda3/lib/python3.6/site-packages/sklearn/linear_model/sag.py:326: ConvergenceWarning: The max_iter was reached which means the coef_ did not converge\n",
      "  \"the coef_ did not converge\", ConvergenceWarning)\n",
      "/anaconda3/lib/python3.6/site-packages/sklearn/linear_model/sag.py:326: ConvergenceWarning: The max_iter was reached which means the coef_ did not converge\n",
      "  \"the coef_ did not converge\", ConvergenceWarning)\n",
      "/anaconda3/lib/python3.6/site-packages/sklearn/model_selection/_validation.py:479: FitFailedWarning: Classifier fit failed. The score on this train-test partition for these parameters will be set to 0.000000. Details: \n",
      "ValueError('Solver newton-cg supports only l2 penalties, got l1 penalty.',)\n",
      "  \"Details: \\n%r\" % (error_score, e), FitFailedWarning)\n",
      "/anaconda3/lib/python3.6/site-packages/sklearn/model_selection/_validation.py:479: FitFailedWarning: Classifier fit failed. The score on this train-test partition for these parameters will be set to 0.000000. Details: \n",
      "ValueError('Solver newton-cg supports only l2 penalties, got l1 penalty.',)\n",
      "  \"Details: \\n%r\" % (error_score, e), FitFailedWarning)\n",
      "/anaconda3/lib/python3.6/site-packages/sklearn/model_selection/_validation.py:479: FitFailedWarning: Classifier fit failed. The score on this train-test partition for these parameters will be set to 0.000000. Details: \n",
      "ValueError('Solver newton-cg supports only l2 penalties, got l1 penalty.',)\n",
      "  \"Details: \\n%r\" % (error_score, e), FitFailedWarning)\n",
      "/anaconda3/lib/python3.6/site-packages/sklearn/model_selection/_validation.py:479: FitFailedWarning: Classifier fit failed. The score on this train-test partition for these parameters will be set to 0.000000. Details: \n",
      "ValueError('Solver lbfgs supports only l2 penalties, got l1 penalty.',)\n",
      "  \"Details: \\n%r\" % (error_score, e), FitFailedWarning)\n",
      "/anaconda3/lib/python3.6/site-packages/sklearn/model_selection/_validation.py:479: FitFailedWarning: Classifier fit failed. The score on this train-test partition for these parameters will be set to 0.000000. Details: \n",
      "ValueError('Solver lbfgs supports only l2 penalties, got l1 penalty.',)\n",
      "  \"Details: \\n%r\" % (error_score, e), FitFailedWarning)\n",
      "/anaconda3/lib/python3.6/site-packages/sklearn/model_selection/_validation.py:479: FitFailedWarning: Classifier fit failed. The score on this train-test partition for these parameters will be set to 0.000000. Details: \n",
      "ValueError('Solver lbfgs supports only l2 penalties, got l1 penalty.',)\n",
      "  \"Details: \\n%r\" % (error_score, e), FitFailedWarning)\n"
     ]
    },
    {
     "name": "stderr",
     "output_type": "stream",
     "text": [
      "/anaconda3/lib/python3.6/site-packages/sklearn/model_selection/_validation.py:479: FitFailedWarning: Classifier fit failed. The score on this train-test partition for these parameters will be set to 0.000000. Details: \n",
      "ValueError('Solver sag supports only l2 penalties, got l1 penalty.',)\n",
      "  \"Details: \\n%r\" % (error_score, e), FitFailedWarning)\n",
      "/anaconda3/lib/python3.6/site-packages/sklearn/model_selection/_validation.py:479: FitFailedWarning: Classifier fit failed. The score on this train-test partition for these parameters will be set to 0.000000. Details: \n",
      "ValueError('Solver sag supports only l2 penalties, got l1 penalty.',)\n",
      "  \"Details: \\n%r\" % (error_score, e), FitFailedWarning)\n",
      "/anaconda3/lib/python3.6/site-packages/sklearn/model_selection/_validation.py:479: FitFailedWarning: Classifier fit failed. The score on this train-test partition for these parameters will be set to 0.000000. Details: \n",
      "ValueError('Solver sag supports only l2 penalties, got l1 penalty.',)\n",
      "  \"Details: \\n%r\" % (error_score, e), FitFailedWarning)\n",
      "/anaconda3/lib/python3.6/site-packages/sklearn/linear_model/sag.py:326: ConvergenceWarning: The max_iter was reached which means the coef_ did not converge\n",
      "  \"the coef_ did not converge\", ConvergenceWarning)\n",
      "/anaconda3/lib/python3.6/site-packages/sklearn/linear_model/sag.py:326: ConvergenceWarning: The max_iter was reached which means the coef_ did not converge\n",
      "  \"the coef_ did not converge\", ConvergenceWarning)\n",
      "/anaconda3/lib/python3.6/site-packages/sklearn/linear_model/sag.py:326: ConvergenceWarning: The max_iter was reached which means the coef_ did not converge\n",
      "  \"the coef_ did not converge\", ConvergenceWarning)\n",
      "/anaconda3/lib/python3.6/site-packages/sklearn/linear_model/sag.py:326: ConvergenceWarning: The max_iter was reached which means the coef_ did not converge\n",
      "  \"the coef_ did not converge\", ConvergenceWarning)\n",
      "/anaconda3/lib/python3.6/site-packages/sklearn/linear_model/sag.py:326: ConvergenceWarning: The max_iter was reached which means the coef_ did not converge\n",
      "  \"the coef_ did not converge\", ConvergenceWarning)\n",
      "/anaconda3/lib/python3.6/site-packages/sklearn/linear_model/sag.py:326: ConvergenceWarning: The max_iter was reached which means the coef_ did not converge\n",
      "  \"the coef_ did not converge\", ConvergenceWarning)\n",
      "/anaconda3/lib/python3.6/site-packages/sklearn/linear_model/sag.py:326: ConvergenceWarning: The max_iter was reached which means the coef_ did not converge\n",
      "  \"the coef_ did not converge\", ConvergenceWarning)\n",
      "/anaconda3/lib/python3.6/site-packages/sklearn/linear_model/sag.py:326: ConvergenceWarning: The max_iter was reached which means the coef_ did not converge\n",
      "  \"the coef_ did not converge\", ConvergenceWarning)\n",
      "/anaconda3/lib/python3.6/site-packages/sklearn/linear_model/sag.py:326: ConvergenceWarning: The max_iter was reached which means the coef_ did not converge\n",
      "  \"the coef_ did not converge\", ConvergenceWarning)\n",
      "[Parallel(n_jobs=1)]: Done 480 out of 480 | elapsed: 46.4min finished\n"
     ]
    },
    {
     "data": {
      "text/plain": [
       "GridSearchCV(cv=None, error_score=0,\n",
       "       estimator=LogisticRegression(C=1.0, class_weight=None, dual=False, fit_intercept=True,\n",
       "          intercept_scaling=1, max_iter=100, multi_class='ovr', n_jobs=1,\n",
       "          penalty='l2', random_state=None, solver='liblinear', tol=0.0001,\n",
       "          verbose=0, warm_start=False),\n",
       "       fit_params=None, iid=True, n_jobs=1,\n",
       "       param_grid={'penalty': ['l1', 'l2'], 'C': [0.1, 1, 5, 10, 50, 100, 500, 1000], 'class_weight': [None, 'balanced'], 'solver': ['liblinear', 'newton-cg', 'lbfgs', 'sag', 'saga']},\n",
       "       pre_dispatch='2*n_jobs', refit=True, return_train_score='warn',\n",
       "       scoring='roc_auc', verbose=1)"
      ]
     },
     "execution_count": 37,
     "metadata": {},
     "output_type": "execute_result"
    }
   ],
   "source": [
    "grid2.fit(X_train,y_train)"
   ]
  },
  {
   "cell_type": "code",
   "execution_count": 38,
   "metadata": {},
   "outputs": [
    {
     "data": {
      "text/plain": [
       "{'C': 0.1, 'class_weight': None, 'penalty': 'l2', 'solver': 'liblinear'}"
      ]
     },
     "execution_count": 38,
     "metadata": {},
     "output_type": "execute_result"
    }
   ],
   "source": [
    "grid2.best_params_"
   ]
  },
  {
   "cell_type": "code",
   "execution_count": 39,
   "metadata": {},
   "outputs": [
    {
     "data": {
      "text/plain": [
       "LogisticRegression(C=0.1, class_weight=None, dual=False, fit_intercept=True,\n",
       "          intercept_scaling=1, max_iter=100, multi_class='ovr', n_jobs=1,\n",
       "          penalty='l2', random_state=None, solver='liblinear', tol=0.0001,\n",
       "          verbose=0, warm_start=False)"
      ]
     },
     "execution_count": 39,
     "metadata": {},
     "output_type": "execute_result"
    }
   ],
   "source": [
    "grid2.best_estimator_"
   ]
  },
  {
   "cell_type": "code",
   "execution_count": 40,
   "metadata": {},
   "outputs": [
    {
     "name": "stdout",
     "output_type": "stream",
     "text": [
      "             precision    recall  f1-score   support\n",
      "\n",
      "        0.0       0.85      1.00      0.92     44742\n",
      "        1.0       0.44      0.01      0.02      8183\n",
      "\n",
      "avg / total       0.78      0.84      0.78     52925\n",
      "\n",
      "[[44622   120]\n",
      " [ 8088    95]]\n",
      "0.6918548307593432\n"
     ]
    }
   ],
   "source": [
    "grid2_predictions = grid2.predict(X_test)\n",
    "print(classification_report(y_test,grid2_predictions))\n",
    "print(confusion_matrix(y_test,grid2_predictions))\n",
    "print(grid2.score(X_test, y_test))"
   ]
  },
  {
   "cell_type": "code",
   "execution_count": null,
   "metadata": {},
   "outputs": [],
   "source": []
  },
  {
   "cell_type": "code",
   "execution_count": 108,
   "metadata": {},
   "outputs": [
    {
     "name": "stdout",
     "output_type": "stream",
     "text": [
      "             precision    recall  f1-score   support\n",
      "\n",
      "        0.0       0.91      0.64      0.75     44742\n",
      "        1.0       0.24      0.64      0.35      8183\n",
      "\n",
      "avg / total       0.80      0.64      0.69     52925\n",
      "\n",
      "[[28489 16253]\n",
      " [ 2951  5232]]\n",
      "0.6371469059990552\n"
     ]
    }
   ],
   "source": [
    "logmodel = LogisticRegression(class_weight='balanced')\n",
    "logmodel.fit(X_train,y_train)\n",
    "predictions = logmodel.predict(X_test)\n",
    "print(classification_report(y_test,predictions))\n",
    "print(confusion_matrix(y_test,predictions))\n",
    "print(logmodel.score(X_test, y_test))"
   ]
  },
  {
   "cell_type": "code",
   "execution_count": 89,
   "metadata": {},
   "outputs": [
    {
     "name": "stdout",
     "output_type": "stream",
     "text": [
      "             precision    recall  f1-score   support\n",
      "\n",
      "        0.0       0.91      0.64      0.75     44742\n",
      "        1.0       0.24      0.64      0.35      8183\n",
      "\n",
      "avg / total       0.80      0.64      0.69     52925\n",
      "\n",
      "[[28489 16253]\n",
      " [ 2952  5231]]\n",
      "0.6371280113367973\n"
     ]
    }
   ],
   "source": [
    "logmodel = LogisticRegression(class_weight='balanced', C=10)\n",
    "logmodel.fit(X_train,y_train)\n",
    "predictions = logmodel.predict(X_test)\n",
    "print(classification_report(y_test,predictions))\n",
    "print(confusion_matrix(y_test,predictions))\n",
    "print(logmodel.score(X_test, y_test))"
   ]
  },
  {
   "cell_type": "code",
   "execution_count": 100,
   "metadata": {},
   "outputs": [
    {
     "name": "stdout",
     "output_type": "stream",
     "text": [
      "             precision    recall  f1-score   support\n",
      "\n",
      "        0.0       0.85      1.00      0.92     44742\n",
      "        1.0       0.43      0.01      0.02      8183\n",
      "\n",
      "avg / total       0.78      0.84      0.78     52925\n",
      "\n",
      "[[44616   126]\n",
      " [ 8088    95]]\n",
      "0.8447992442135097\n"
     ]
    }
   ],
   "source": [
    "logmodel = LogisticRegression(penalty='l1')\n",
    "logmodel.fit(X_train,y_train)\n",
    "predictions = logmodel.predict(X_test)\n",
    "print(classification_report(y_test,predictions))\n",
    "print(confusion_matrix(y_test,predictions))\n",
    "print(logmodel.score(X_test, y_test))"
   ]
  },
  {
   "cell_type": "code",
   "execution_count": 91,
   "metadata": {},
   "outputs": [
    {
     "name": "stdout",
     "output_type": "stream",
     "text": [
      "             precision    recall  f1-score   support\n",
      "\n",
      "        0.0       0.91      0.64      0.75     44742\n",
      "        1.0       0.24      0.64      0.35      8183\n",
      "\n",
      "avg / total       0.80      0.64      0.69     52925\n",
      "\n",
      "[[28495 16247]\n",
      " [ 2944  5239]]\n",
      "0.6373925366084081\n"
     ]
    }
   ],
   "source": [
    "logmodel = LogisticRegression(penalty='l1', class_weight='balanced')\n",
    "logmodel.fit(X_train,y_train)\n",
    "predictions = logmodel.predict(X_test)\n",
    "print(classification_report(y_test,predictions))\n",
    "print(confusion_matrix(y_test,predictions))\n",
    "print(logmodel.score(X_test, y_test))"
   ]
  },
  {
   "cell_type": "code",
   "execution_count": 92,
   "metadata": {},
   "outputs": [
    {
     "name": "stdout",
     "output_type": "stream",
     "text": [
      "             precision    recall  f1-score   support\n",
      "\n",
      "        0.0       0.91      0.64      0.75     44742\n",
      "        1.0       0.24      0.64      0.35      8183\n",
      "\n",
      "avg / total       0.80      0.64      0.69     52925\n",
      "\n",
      "[[28490 16252]\n",
      " [ 2952  5231]]\n",
      "0.6371469059990552\n"
     ]
    }
   ],
   "source": [
    "logmodel = LogisticRegression(penalty='l1', class_weight='balanced', C=10)\n",
    "logmodel.fit(X_train,y_train)\n",
    "predictions = logmodel.predict(X_test)\n",
    "print(classification_report(y_test,predictions))\n",
    "print(confusion_matrix(y_test,predictions))\n",
    "print(logmodel.score(X_test, y_test))"
   ]
  },
  {
   "cell_type": "code",
   "execution_count": 97,
   "metadata": {},
   "outputs": [
    {
     "name": "stdout",
     "output_type": "stream",
     "text": [
      "             precision    recall  f1-score   support\n",
      "\n",
      "        0.0       0.85      1.00      0.92     44742\n",
      "        1.0       0.44      0.01      0.02      8183\n",
      "\n",
      "avg / total       0.78      0.84      0.78     52925\n",
      "\n",
      "[[44617   125]\n",
      " [ 8086    97]]\n",
      "0.8448559282002834\n"
     ]
    }
   ],
   "source": [
    "logmodel = LogisticRegression(penalty='l1', C=10)\n",
    "logmodel.fit(X_train,y_train)\n",
    "predictions = logmodel.predict(X_test)\n",
    "print(classification_report(y_test,predictions))\n",
    "print(confusion_matrix(y_test,predictions))\n",
    "print(logmodel.score(X_test, y_test))"
   ]
  },
  {
   "cell_type": "code",
   "execution_count": 95,
   "metadata": {},
   "outputs": [
    {
     "name": "stdout",
     "output_type": "stream",
     "text": [
      "             precision    recall  f1-score   support\n",
      "\n",
      "        0.0       0.85      1.00      0.92     44742\n",
      "        1.0       0.43      0.01      0.02      8183\n",
      "\n",
      "avg / total       0.78      0.84      0.78     52925\n",
      "\n",
      "[[44617   125]\n",
      " [ 8087    96]]\n",
      "0.8448370335380255\n"
     ]
    }
   ],
   "source": [
    "logmodel = LogisticRegression(C=100)\n",
    "logmodel.fit(X_train,y_train)\n",
    "predictions = logmodel.predict(X_test)\n",
    "print(classification_report(y_test,predictions))\n",
    "print(confusion_matrix(y_test,predictions))\n",
    "print(logmodel.score(X_test, y_test))"
   ]
  },
  {
   "cell_type": "code",
   "execution_count": 103,
   "metadata": {},
   "outputs": [
    {
     "name": "stdout",
     "output_type": "stream",
     "text": [
      "             precision    recall  f1-score   support\n",
      "\n",
      "        0.0       0.85      1.00      0.92     44742\n",
      "        1.0       0.44      0.01      0.02      8183\n",
      "\n",
      "avg / total       0.78      0.84      0.78     52925\n",
      "\n",
      "[[44619   123]\n",
      " [ 8086    97]]\n",
      "0.8448937175247992\n"
     ]
    },
    {
     "name": "stderr",
     "output_type": "stream",
     "text": [
      "/anaconda3/lib/python3.6/site-packages/sklearn/linear_model/sag.py:326: ConvergenceWarning: The max_iter was reached which means the coef_ did not converge\n",
      "  \"the coef_ did not converge\", ConvergenceWarning)\n"
     ]
    }
   ],
   "source": [
    "logmodel = LogisticRegression(solver='saga')\n",
    "logmodel.fit(X_train,y_train)\n",
    "predictions = logmodel.predict(X_test)\n",
    "print(classification_report(y_test,predictions))\n",
    "print(confusion_matrix(y_test,predictions))\n",
    "print(logmodel.score(X_test, y_test))"
   ]
  },
  {
   "cell_type": "code",
   "execution_count": 104,
   "metadata": {},
   "outputs": [
    {
     "name": "stdout",
     "output_type": "stream",
     "text": [
      "             precision    recall  f1-score   support\n",
      "\n",
      "        0.0       0.91      0.64      0.75     44742\n",
      "        1.0       0.24      0.64      0.35      8183\n",
      "\n",
      "avg / total       0.80      0.64      0.69     52925\n",
      "\n",
      "[[28503 16239]\n",
      " [ 2949  5234]]\n",
      "0.6374492205951818\n"
     ]
    },
    {
     "name": "stderr",
     "output_type": "stream",
     "text": [
      "/anaconda3/lib/python3.6/site-packages/sklearn/linear_model/sag.py:326: ConvergenceWarning: The max_iter was reached which means the coef_ did not converge\n",
      "  \"the coef_ did not converge\", ConvergenceWarning)\n"
     ]
    }
   ],
   "source": [
    "logmodel = LogisticRegression(solver='saga', class_weight='balanced')\n",
    "logmodel.fit(X_train,y_train)\n",
    "predictions = logmodel.predict(X_test)\n",
    "print(classification_report(y_test,predictions))\n",
    "print(confusion_matrix(y_test,predictions))\n",
    "print(logmodel.score(X_test, y_test))"
   ]
  },
  {
   "cell_type": "code",
   "execution_count": 110,
   "metadata": {},
   "outputs": [
    {
     "name": "stdout",
     "output_type": "stream",
     "text": [
      "             precision    recall  f1-score   support\n",
      "\n",
      "        0.0       0.85      1.00      0.92     44742\n",
      "        1.0       0.45      0.01      0.02      8183\n",
      "\n",
      "avg / total       0.78      0.84      0.78     52925\n",
      "\n",
      "[[44623   119]\n",
      " [ 8087    96]]\n",
      "0.844950401511573\n"
     ]
    },
    {
     "name": "stderr",
     "output_type": "stream",
     "text": [
      "/anaconda3/lib/python3.6/site-packages/sklearn/linear_model/sag.py:326: ConvergenceWarning: The max_iter was reached which means the coef_ did not converge\n",
      "  \"the coef_ did not converge\", ConvergenceWarning)\n"
     ]
    }
   ],
   "source": [
    "logmodel = LogisticRegression(penalty='l1', solver='saga')\n",
    "logmodel.fit(X_train,y_train)\n",
    "predictions = logmodel.predict(X_test)\n",
    "print(classification_report(y_test,predictions))\n",
    "print(confusion_matrix(y_test,predictions))\n",
    "print(logmodel.score(X_test, y_test))"
   ]
  },
  {
   "cell_type": "code",
   "execution_count": 111,
   "metadata": {},
   "outputs": [
    {
     "data": {
      "text/plain": [
       "0.0    44742\n",
       "1.0     8183\n",
       "Name: loan_status, dtype: int64"
      ]
     },
     "execution_count": 111,
     "metadata": {},
     "output_type": "execute_result"
    }
   ],
   "source": [
    "y_test.value_counts()"
   ]
  },
  {
   "cell_type": "code",
   "execution_count": null,
   "metadata": {},
   "outputs": [],
   "source": []
  }
 ],
 "metadata": {
  "kernelspec": {
   "display_name": "Python 3",
   "language": "python",
   "name": "python3"
  },
  "language_info": {
   "codemirror_mode": {
    "name": "ipython",
    "version": 3
   },
   "file_extension": ".py",
   "mimetype": "text/x-python",
   "name": "python",
   "nbconvert_exporter": "python",
   "pygments_lexer": "ipython3",
   "version": "3.6.5"
  }
 },
 "nbformat": 4,
 "nbformat_minor": 2
}

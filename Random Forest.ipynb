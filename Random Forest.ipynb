{
 "cells": [
  {
   "cell_type": "code",
   "execution_count": 1,
   "metadata": {},
   "outputs": [],
   "source": [
    "import pandas as pd\n",
    "import numpy as np\n",
    "import matplotlib.pyplot as plt\n",
    "import seaborn as sns\n",
    "%matplotlib inline\n",
    "from sklearn.preprocessing import StandardScaler\n",
    "from sklearn.model_selection import train_test_split\n",
    "from sklearn.ensemble import RandomForestClassifier\n",
    "from sklearn.metrics import classification_report, confusion_matrix"
   ]
  },
  {
   "cell_type": "code",
   "execution_count": 2,
   "metadata": {},
   "outputs": [],
   "source": [
    "df=pd.read_csv('2012-2013_cleaned.csv', index_col=0)\n",
    "y=df['loan_status']\n",
    "df.drop(columns=['emp_title','issue_d','zip_code','loan_status'], inplace=True)\n",
    "real_part=df.iloc[:,:19]\n",
    "dummy_part=df.iloc[:,19:]\n",
    "scaler=StandardScaler()\n",
    "scaler.fit(real_part)\n",
    "scaled=scaler.transform(real_part)\n",
    "df1=pd.DataFrame(scaled, columns=real_part.columns)\n",
    "df=pd.concat([df1,dummy_part], axis=1)\n",
    "X_train, X_test, y_train, y_test = train_test_split(df, y, test_size=0.30, random_state=101)"
   ]
  },
  {
   "cell_type": "code",
   "execution_count": 3,
   "metadata": {},
   "outputs": [],
   "source": [
    "rfc = RandomForestClassifier(n_estimators=100, verbose=5)\n"
   ]
  },
  {
   "cell_type": "code",
   "execution_count": 4,
   "metadata": {},
   "outputs": [
    {
     "name": "stdout",
     "output_type": "stream",
     "text": [
      "building tree 1 of 100\n"
     ]
    },
    {
     "name": "stderr",
     "output_type": "stream",
     "text": [
      "[Parallel(n_jobs=1)]: Done   1 out of   1 | elapsed:    0.3s remaining:    0.0s\n"
     ]
    },
    {
     "name": "stdout",
     "output_type": "stream",
     "text": [
      "building tree 2 of 100\n"
     ]
    },
    {
     "name": "stderr",
     "output_type": "stream",
     "text": [
      "[Parallel(n_jobs=1)]: Done   2 out of   2 | elapsed:    0.5s remaining:    0.0s\n"
     ]
    },
    {
     "name": "stdout",
     "output_type": "stream",
     "text": [
      "building tree 3 of 100\n"
     ]
    },
    {
     "name": "stderr",
     "output_type": "stream",
     "text": [
      "[Parallel(n_jobs=1)]: Done   3 out of   3 | elapsed:    0.8s remaining:    0.0s\n"
     ]
    },
    {
     "name": "stdout",
     "output_type": "stream",
     "text": [
      "building tree 4 of 100\n"
     ]
    },
    {
     "name": "stderr",
     "output_type": "stream",
     "text": [
      "[Parallel(n_jobs=1)]: Done   4 out of   4 | elapsed:    1.0s remaining:    0.0s\n"
     ]
    },
    {
     "name": "stdout",
     "output_type": "stream",
     "text": [
      "building tree 5 of 100\n",
      "building tree 6 of 100\n",
      "building tree 7 of 100\n",
      "building tree 8 of 100\n",
      "building tree 9 of 100\n",
      "building tree 10 of 100\n",
      "building tree 11 of 100\n",
      "building tree 12 of 100\n",
      "building tree 13 of 100\n",
      "building tree 14 of 100\n",
      "building tree 15 of 100\n",
      "building tree 16 of 100\n",
      "building tree 17 of 100\n",
      "building tree 18 of 100\n",
      "building tree 19 of 100\n",
      "building tree 20 of 100\n",
      "building tree 21 of 100\n",
      "building tree 22 of 100\n",
      "building tree 23 of 100\n",
      "building tree 24 of 100\n",
      "building tree 25 of 100\n",
      "building tree 26 of 100\n",
      "building tree 27 of 100\n",
      "building tree 28 of 100\n",
      "building tree 29 of 100\n",
      "building tree 30 of 100\n",
      "building tree 31 of 100\n",
      "building tree 32 of 100\n",
      "building tree 33 of 100\n",
      "building tree 34 of 100\n",
      "building tree 35 of 100\n",
      "building tree 36 of 100\n",
      "building tree 37 of 100\n",
      "building tree 38 of 100\n",
      "building tree 39 of 100\n",
      "building tree 40 of 100\n",
      "building tree 41 of 100\n",
      "building tree 42 of 100\n",
      "building tree 43 of 100\n",
      "building tree 44 of 100\n",
      "building tree 45 of 100\n",
      "building tree 46 of 100\n",
      "building tree 47 of 100\n",
      "building tree 48 of 100\n",
      "building tree 49 of 100\n",
      "building tree 50 of 100\n",
      "building tree 51 of 100\n",
      "building tree 52 of 100\n",
      "building tree 53 of 100\n",
      "building tree 54 of 100\n",
      "building tree 55 of 100\n",
      "building tree 56 of 100\n",
      "building tree 57 of 100\n",
      "building tree 58 of 100\n",
      "building tree 59 of 100\n",
      "building tree 60 of 100\n",
      "building tree 61 of 100\n",
      "building tree 62 of 100\n",
      "building tree 63 of 100\n",
      "building tree 64 of 100\n",
      "building tree 65 of 100\n",
      "building tree 66 of 100\n",
      "building tree 67 of 100\n",
      "building tree 68 of 100\n",
      "building tree 69 of 100\n",
      "building tree 70 of 100\n",
      "building tree 71 of 100\n",
      "building tree 72 of 100\n",
      "building tree 73 of 100\n",
      "building tree 74 of 100\n",
      "building tree 75 of 100\n",
      "building tree 76 of 100\n",
      "building tree 77 of 100\n",
      "building tree 78 of 100\n",
      "building tree 79 of 100\n",
      "building tree 80 of 100\n",
      "building tree 81 of 100\n",
      "building tree 82 of 100\n",
      "building tree 83 of 100\n",
      "building tree 84 of 100\n",
      "building tree 85 of 100\n",
      "building tree 86 of 100\n",
      "building tree 87 of 100\n",
      "building tree 88 of 100\n",
      "building tree 89 of 100\n",
      "building tree 90 of 100\n",
      "building tree 91 of 100\n",
      "building tree 92 of 100\n",
      "building tree 93 of 100\n",
      "building tree 94 of 100\n",
      "building tree 95 of 100\n",
      "building tree 96 of 100\n",
      "building tree 97 of 100\n",
      "building tree 98 of 100\n",
      "building tree 99 of 100\n",
      "building tree 100 of 100\n"
     ]
    },
    {
     "name": "stderr",
     "output_type": "stream",
     "text": [
      "[Parallel(n_jobs=1)]: Done 100 out of 100 | elapsed:   24.4s finished\n"
     ]
    },
    {
     "data": {
      "text/plain": [
       "RandomForestClassifier(bootstrap=True, class_weight=None, criterion='gini',\n",
       "            max_depth=None, max_features='auto', max_leaf_nodes=None,\n",
       "            min_impurity_decrease=0.0, min_impurity_split=None,\n",
       "            min_samples_leaf=1, min_samples_split=2,\n",
       "            min_weight_fraction_leaf=0.0, n_estimators=100, n_jobs=1,\n",
       "            oob_score=False, random_state=None, verbose=5,\n",
       "            warm_start=False)"
      ]
     },
     "execution_count": 4,
     "metadata": {},
     "output_type": "execute_result"
    }
   ],
   "source": [
    "rfc.fit(X_train, y_train)"
   ]
  },
  {
   "cell_type": "code",
   "execution_count": 5,
   "metadata": {},
   "outputs": [
    {
     "name": "stderr",
     "output_type": "stream",
     "text": [
      "[Parallel(n_jobs=1)]: Done   1 out of   1 | elapsed:    0.0s remaining:    0.0s\n",
      "[Parallel(n_jobs=1)]: Done   2 out of   2 | elapsed:    0.0s remaining:    0.0s\n",
      "[Parallel(n_jobs=1)]: Done   3 out of   3 | elapsed:    0.0s remaining:    0.0s\n",
      "[Parallel(n_jobs=1)]: Done   4 out of   4 | elapsed:    0.1s remaining:    0.0s\n",
      "[Parallel(n_jobs=1)]: Done 100 out of 100 | elapsed:    1.5s finished\n"
     ]
    }
   ],
   "source": [
    "rfc_pred = rfc.predict(X_test)"
   ]
  },
  {
   "cell_type": "code",
   "execution_count": 6,
   "metadata": {},
   "outputs": [
    {
     "name": "stdout",
     "output_type": "stream",
     "text": [
      "[[44694    48]\n",
      " [ 8121    62]]\n"
     ]
    }
   ],
   "source": [
    "print(confusion_matrix(y_test,rfc_pred))"
   ]
  },
  {
   "cell_type": "code",
   "execution_count": 8,
   "metadata": {},
   "outputs": [
    {
     "name": "stdout",
     "output_type": "stream",
     "text": [
      "             precision    recall  f1-score   support\n",
      "\n",
      "        0.0       0.85      1.00      0.92     44742\n",
      "        1.0       0.56      0.01      0.01      8183\n",
      "\n",
      "avg / total       0.80      0.85      0.78     52925\n",
      "\n"
     ]
    }
   ],
   "source": [
    "print(classification_report(y_test,rfc_pred))"
   ]
  },
  {
   "cell_type": "code",
   "execution_count": 8,
   "metadata": {},
   "outputs": [
    {
     "data": {
      "text/plain": [
       "array([4.76704016e-02, 5.35755777e-02, 5.58348605e-02, 4.20819542e-02,\n",
       "       3.20861874e-02, 5.76246691e-02, 6.14943284e-02, 1.07351701e-02,\n",
       "       5.82629009e-02, 3.25435465e-02, 3.16394334e-02, 2.03292730e-02,\n",
       "       4.09722214e-02, 6.00200522e-02, 5.81713639e-02, 4.81129487e-02,\n",
       "       3.68075984e-02, 2.42421221e-02, 3.47553236e-02, 7.77310983e-03,\n",
       "       7.55881089e-03, 6.53157065e-03, 6.00558947e-05, 1.43951393e-04,\n",
       "       4.37416837e-03, 6.74458403e-03, 5.45209156e-03, 7.10050848e-03,\n",
       "       7.66747641e-03, 1.11280914e-03, 6.48382133e-03, 8.11120639e-03,\n",
       "       3.43600915e-03, 1.16215713e-03, 1.88028896e-03, 1.19274331e-03,\n",
       "       9.30214644e-04, 3.47206955e-03, 2.37391695e-04, 2.60691088e-03,\n",
       "       7.72159241e-04, 9.02894888e-04, 6.40322426e-04, 2.16315232e-03,\n",
       "       1.61862154e-03, 3.03092626e-03, 7.79414709e-03, 2.26108491e-03,\n",
       "       2.34106912e-03, 4.20261271e-04, 6.43145909e-04, 5.71174747e-03,\n",
       "       3.20652976e-03, 1.23601506e-03, 2.33498733e-05, 0.00000000e+00,\n",
       "       3.77017047e-03, 2.03696849e-03, 1.47124664e-03, 1.57519634e-03,\n",
       "       2.11376592e-03, 3.07917519e-03, 2.94603802e-03, 3.24417338e-03,\n",
       "       2.37544172e-03, 2.24560884e-03, 0.00000000e+00, 5.95217116e-04,\n",
       "       3.44493474e-03, 0.00000000e+00, 7.11756984e-04, 4.34349158e-03,\n",
       "       1.15081486e-03, 2.65641031e-03, 6.27150308e-03, 3.58953516e-03,\n",
       "       1.70840264e-03, 1.70522624e-03, 3.68759000e-03, 9.26943000e-04,\n",
       "       1.59329861e-03, 5.44641023e-04, 2.20967488e-03, 5.04431309e-03,\n",
       "       1.33375641e-03, 3.62493105e-03, 3.65688212e-04, 2.84527642e-03,\n",
       "       1.87803661e-03, 6.27454668e-04, 5.26008234e-04])"
      ]
     },
     "execution_count": 8,
     "metadata": {},
     "output_type": "execute_result"
    }
   ],
   "source": [
    "rfc.feature_importances_"
   ]
  },
  {
   "cell_type": "code",
   "execution_count": 10,
   "metadata": {},
   "outputs": [],
   "source": [
    "from sklearn.model_selection import GridSearchCV"
   ]
  },
  {
   "cell_type": "code",
   "execution_count": 11,
   "metadata": {},
   "outputs": [],
   "source": [
    "param_grid={'criterion':['gini','entropy'],'max_features':['sqrt','log2',None],\n",
    "           'class_weight':['balanced','balanced_subsample',None]}\n"
   ]
  },
  {
   "cell_type": "code",
   "execution_count": 12,
   "metadata": {},
   "outputs": [],
   "source": [
    "grid = GridSearchCV(RandomForestClassifier(), param_grid, refit=True, error_score=0, verbose=5)"
   ]
  },
  {
   "cell_type": "code",
   "execution_count": 13,
   "metadata": {
    "scrolled": false
   },
   "outputs": [
    {
     "name": "stdout",
     "output_type": "stream",
     "text": [
      "Fitting 3 folds for each of 18 candidates, totalling 54 fits\n",
      "[CV] class_weight=balanced, criterion=gini, max_features=sqrt ........\n",
      "[CV]  class_weight=balanced, criterion=gini, max_features=sqrt, score=0.8409289670585949, total=   1.7s\n",
      "[CV] class_weight=balanced, criterion=gini, max_features=sqrt ........\n"
     ]
    },
    {
     "name": "stderr",
     "output_type": "stream",
     "text": [
      "[Parallel(n_jobs=1)]: Done   1 out of   1 | elapsed:    2.0s remaining:    0.0s\n"
     ]
    },
    {
     "name": "stdout",
     "output_type": "stream",
     "text": [
      "[CV]  class_weight=balanced, criterion=gini, max_features=sqrt, score=0.8402934674343464, total=   1.7s\n",
      "[CV] class_weight=balanced, criterion=gini, max_features=sqrt ........\n"
     ]
    },
    {
     "name": "stderr",
     "output_type": "stream",
     "text": [
      "[Parallel(n_jobs=1)]: Done   2 out of   2 | elapsed:    3.9s remaining:    0.0s\n"
     ]
    },
    {
     "name": "stdout",
     "output_type": "stream",
     "text": [
      "[CV]  class_weight=balanced, criterion=gini, max_features=sqrt, score=0.8392692289004422, total=   1.7s\n",
      "[CV] class_weight=balanced, criterion=gini, max_features=log2 ........\n"
     ]
    },
    {
     "name": "stderr",
     "output_type": "stream",
     "text": [
      "[Parallel(n_jobs=1)]: Done   3 out of   3 | elapsed:    5.9s remaining:    0.0s\n"
     ]
    },
    {
     "name": "stdout",
     "output_type": "stream",
     "text": [
      "[CV]  class_weight=balanced, criterion=gini, max_features=log2, score=0.8403459333398114, total=   1.4s\n",
      "[CV] class_weight=balanced, criterion=gini, max_features=log2 ........\n"
     ]
    },
    {
     "name": "stderr",
     "output_type": "stream",
     "text": [
      "[Parallel(n_jobs=1)]: Done   4 out of   4 | elapsed:    7.5s remaining:    0.0s\n"
     ]
    },
    {
     "name": "stdout",
     "output_type": "stream",
     "text": [
      "[CV]  class_weight=balanced, criterion=gini, max_features=log2, score=0.8396861258897553, total=   1.4s\n",
      "[CV] class_weight=balanced, criterion=gini, max_features=log2 ........\n",
      "[CV]  class_weight=balanced, criterion=gini, max_features=log2, score=0.8407025897672611, total=   1.4s\n",
      "[CV] class_weight=balanced, criterion=gini, max_features=None ........\n",
      "[CV]  class_weight=balanced, criterion=gini, max_features=None, score=0.8370906617432708, total=  13.5s\n",
      "[CV] class_weight=balanced, criterion=gini, max_features=None ........\n",
      "[CV]  class_weight=balanced, criterion=gini, max_features=None, score=0.8374996963292277, total=  12.6s\n",
      "[CV] class_weight=balanced, criterion=gini, max_features=None ........\n",
      "[CV]  class_weight=balanced, criterion=gini, max_features=None, score=0.8361109761430445, total=  10.2s\n",
      "[CV] class_weight=balanced, criterion=entropy, max_features=sqrt .....\n",
      "[CV]  class_weight=balanced, criterion=entropy, max_features=sqrt, score=0.839835778835876, total=   1.8s\n",
      "[CV] class_weight=balanced, criterion=entropy, max_features=sqrt .....\n",
      "[CV]  class_weight=balanced, criterion=entropy, max_features=sqrt, score=0.8402934674343464, total=   1.9s\n",
      "[CV] class_weight=balanced, criterion=entropy, max_features=sqrt .....\n",
      "[CV]  class_weight=balanced, criterion=entropy, max_features=sqrt, score=0.8402652932316214, total=   1.9s\n",
      "[CV] class_weight=balanced, criterion=entropy, max_features=log2 .....\n",
      "[CV]  class_weight=balanced, criterion=entropy, max_features=log2, score=0.8402973471965796, total=   1.5s\n",
      "[CV] class_weight=balanced, criterion=entropy, max_features=log2 .....\n",
      "[CV]  class_weight=balanced, criterion=entropy, max_features=log2, score=0.8404149357432645, total=   1.6s\n",
      "[CV] class_weight=balanced, criterion=entropy, max_features=log2 .....\n",
      "[CV]  class_weight=balanced, criterion=entropy, max_features=log2, score=0.8399494679558817, total=   1.6s\n",
      "[CV] class_weight=balanced, criterion=entropy, max_features=None .....\n",
      "[CV]  class_weight=balanced, criterion=entropy, max_features=None, score=0.837868040034982, total=  11.9s\n",
      "[CV] class_weight=balanced, criterion=entropy, max_features=None .....\n",
      "[CV]  class_weight=balanced, criterion=entropy, max_features=None, score=0.8379612759031169, total=  11.9s\n",
      "[CV] class_weight=balanced, criterion=entropy, max_features=None .....\n",
      "[CV]  class_weight=balanced, criterion=entropy, max_features=None, score=0.8376415140177834, total=  12.0s\n",
      "[CV] class_weight=balanced_subsample, criterion=gini, max_features=sqrt \n",
      "[CV]  class_weight=balanced_subsample, criterion=gini, max_features=sqrt, score=0.8399086580507239, total=   1.8s\n",
      "[CV] class_weight=balanced_subsample, criterion=gini, max_features=sqrt \n",
      "[CV]  class_weight=balanced_subsample, criterion=gini, max_features=sqrt, score=0.8400991181400772, total=   2.0s\n",
      "[CV] class_weight=balanced_subsample, criterion=gini, max_features=sqrt \n",
      "[CV]  class_weight=balanced_subsample, criterion=gini, max_features=sqrt, score=0.8399008794519217, total=   1.8s\n",
      "[CV] class_weight=balanced_subsample, criterion=gini, max_features=log2 \n",
      "[CV]  class_weight=balanced_subsample, criterion=gini, max_features=log2, score=0.8409289670585949, total=   1.5s\n",
      "[CV] class_weight=balanced_subsample, criterion=gini, max_features=log2 \n",
      "[CV]  class_weight=balanced_subsample, criterion=gini, max_features=log2, score=0.8407307533464519, total=   1.5s\n",
      "[CV] class_weight=balanced_subsample, criterion=gini, max_features=log2 \n",
      "[CV]  class_weight=balanced_subsample, criterion=gini, max_features=log2, score=0.840726884019241, total=   1.5s\n",
      "[CV] class_weight=balanced_subsample, criterion=gini, max_features=None \n",
      "[CV]  class_weight=balanced_subsample, criterion=gini, max_features=None, score=0.8370663686716548, total=  10.8s\n",
      "[CV] class_weight=balanced_subsample, criterion=gini, max_features=None \n",
      "[CV]  class_weight=balanced_subsample, criterion=gini, max_features=None, score=0.8363821878871802, total=  11.2s\n",
      "[CV] class_weight=balanced_subsample, criterion=gini, max_features=None \n",
      "[CV]  class_weight=balanced_subsample, criterion=gini, max_features=None, score=0.8376658082697633, total=  11.1s\n",
      "[CV] class_weight=balanced_subsample, criterion=entropy, max_features=sqrt \n",
      "[CV]  class_weight=balanced_subsample, criterion=entropy, max_features=sqrt, score=0.8412690700612185, total=   2.0s\n",
      "[CV] class_weight=balanced_subsample, criterion=entropy, max_features=sqrt \n",
      "[CV]  class_weight=balanced_subsample, criterion=entropy, max_features=sqrt, score=0.8394917765954862, total=   2.0s\n",
      "[CV] class_weight=balanced_subsample, criterion=entropy, max_features=sqrt \n",
      "[CV]  class_weight=balanced_subsample, criterion=entropy, max_features=sqrt, score=0.8398522909479618, total=   2.1s\n",
      "[CV] class_weight=balanced_subsample, criterion=entropy, max_features=log2 \n",
      "[CV]  class_weight=balanced_subsample, criterion=entropy, max_features=log2, score=0.8399815372655719, total=   1.9s\n",
      "[CV] class_weight=balanced_subsample, criterion=entropy, max_features=log2 \n",
      "[CV]  class_weight=balanced_subsample, criterion=entropy, max_features=log2, score=0.840390642081481, total=   1.7s\n",
      "[CV] class_weight=balanced_subsample, criterion=entropy, max_features=log2 \n",
      "[CV]  class_weight=balanced_subsample, criterion=entropy, max_features=log2, score=0.8406540012633011, total=   1.7s\n",
      "[CV] class_weight=balanced_subsample, criterion=entropy, max_features=None \n",
      "[CV]  class_weight=balanced_subsample, criterion=entropy, max_features=None, score=0.8374550578175104, total=  12.2s\n",
      "[CV] class_weight=balanced_subsample, criterion=entropy, max_features=None \n",
      "[CV]  class_weight=balanced_subsample, criterion=entropy, max_features=None, score=0.8374996963292277, total=  11.4s\n",
      "[CV] class_weight=balanced_subsample, criterion=entropy, max_features=None \n",
      "[CV]  class_weight=balanced_subsample, criterion=entropy, max_features=None, score=0.8369369807103639, total=  10.8s\n",
      "[CV] class_weight=None, criterion=gini, max_features=sqrt ............\n",
      "[CV]  class_weight=None, criterion=gini, max_features=sqrt, score=0.8393256243319406, total=   1.7s\n",
      "[CV] class_weight=None, criterion=gini, max_features=sqrt ............\n",
      "[CV]  class_weight=None, criterion=gini, max_features=sqrt, score=0.8394674829337025, total=   1.7s\n",
      "[CV] class_weight=None, criterion=gini, max_features=sqrt ............\n",
      "[CV]  class_weight=None, criterion=gini, max_features=sqrt, score=0.8387590496088625, total=   1.7s\n",
      "[CV] class_weight=None, criterion=gini, max_features=log2 ............\n",
      "[CV]  class_weight=None, criterion=gini, max_features=log2, score=0.8389126421144689, total=   1.7s\n",
      "[CV] class_weight=None, criterion=gini, max_features=log2 ............\n",
      "[CV]  class_weight=None, criterion=gini, max_features=log2, score=0.8392488399776499, total=   2.3s\n",
      "[CV] class_weight=None, criterion=gini, max_features=log2 ............\n",
      "[CV]  class_weight=None, criterion=gini, max_features=log2, score=0.8398037024440017, total=   1.9s\n",
      "[CV] class_weight=None, criterion=gini, max_features=None ............\n",
      "[CV]  class_weight=None, criterion=gini, max_features=None, score=0.83594888737732, total=  15.4s\n",
      "[CV] class_weight=None, criterion=gini, max_features=None ............\n",
      "[CV]  class_weight=None, criterion=gini, max_features=None, score=0.8358234336661565, total=  12.1s\n",
      "[CV] class_weight=None, criterion=gini, max_features=None ............\n",
      "[CV]  class_weight=None, criterion=gini, max_features=None, score=0.8361109761430445, total=  11.7s\n",
      "[CV] class_weight=None, criterion=entropy, max_features=sqrt .........\n",
      "[CV]  class_weight=None, criterion=entropy, max_features=sqrt, score=0.8400787095520358, total=   2.0s\n",
      "[CV] class_weight=None, criterion=entropy, max_features=sqrt .........\n",
      "[CV]  class_weight=None, criterion=entropy, max_features=sqrt, score=0.8387143794184098, total=   2.0s\n",
      "[CV] class_weight=None, criterion=entropy, max_features=sqrt .........\n",
      "[CV]  class_weight=None, criterion=entropy, max_features=sqrt, score=0.8400952334677615, total=   1.9s\n",
      "[CV] class_weight=None, criterion=entropy, max_features=log2 .........\n",
      "[CV]  class_weight=None, criterion=entropy, max_features=log2, score=0.83981148576426, total=   1.6s\n",
      "[CV] class_weight=None, criterion=entropy, max_features=log2 .........\n",
      "[CV]  class_weight=None, criterion=entropy, max_features=log2, score=0.8400505308165099, total=   1.5s\n",
      "[CV] class_weight=None, criterion=entropy, max_features=log2 .........\n"
     ]
    },
    {
     "name": "stdout",
     "output_type": "stream",
     "text": [
      "[CV]  class_weight=None, criterion=entropy, max_features=log2, score=0.8398037024440017, total=   1.6s\n",
      "[CV] class_weight=None, criterion=entropy, max_features=None .........\n",
      "[CV]  class_weight=None, criterion=entropy, max_features=None, score=0.8391798659022447, total=  11.8s\n",
      "[CV] class_weight=None, criterion=entropy, max_features=None .........\n",
      "[CV]  class_weight=None, criterion=entropy, max_features=None, score=0.8377426329470641, total=  11.9s\n",
      "[CV] class_weight=None, criterion=entropy, max_features=None .........\n",
      "[CV]  class_weight=None, criterion=entropy, max_features=None, score=0.8372042174821437, total=  11.4s\n"
     ]
    },
    {
     "name": "stderr",
     "output_type": "stream",
     "text": [
      "[Parallel(n_jobs=1)]: Done  54 out of  54 | elapsed:  4.9min finished\n"
     ]
    },
    {
     "data": {
      "text/plain": [
       "GridSearchCV(cv=None, error_score=0,\n",
       "       estimator=RandomForestClassifier(bootstrap=True, class_weight=None, criterion='gini',\n",
       "            max_depth=None, max_features='auto', max_leaf_nodes=None,\n",
       "            min_impurity_decrease=0.0, min_impurity_split=None,\n",
       "            min_samples_leaf=1, min_samples_split=2,\n",
       "            min_weight_fraction_leaf=0.0, n_estimators=10, n_jobs=1,\n",
       "            oob_score=False, random_state=None, verbose=0,\n",
       "            warm_start=False),\n",
       "       fit_params=None, iid=True, n_jobs=1,\n",
       "       param_grid={'criterion': ['gini', 'entropy'], 'max_features': ['sqrt', 'log2', None], 'class_weight': ['balanced', 'balanced_subsample', None]},\n",
       "       pre_dispatch='2*n_jobs', refit=True, return_train_score='warn',\n",
       "       scoring=None, verbose=5)"
      ]
     },
     "execution_count": 13,
     "metadata": {},
     "output_type": "execute_result"
    }
   ],
   "source": [
    "grid.fit(X_train,y_train)"
   ]
  },
  {
   "cell_type": "code",
   "execution_count": 14,
   "metadata": {},
   "outputs": [
    {
     "data": {
      "text/plain": [
       "{'class_weight': 'balanced_subsample',\n",
       " 'criterion': 'gini',\n",
       " 'max_features': 'log2'}"
      ]
     },
     "execution_count": 14,
     "metadata": {},
     "output_type": "execute_result"
    }
   ],
   "source": [
    "grid.best_params_"
   ]
  },
  {
   "cell_type": "code",
   "execution_count": 15,
   "metadata": {},
   "outputs": [
    {
     "name": "stdout",
     "output_type": "stream",
     "text": [
      "             precision    recall  f1-score   support\n",
      "\n",
      "        0.0       0.85      0.99      0.91     44742\n",
      "        1.0       0.34      0.03      0.05      8183\n",
      "\n",
      "avg / total       0.77      0.84      0.78     52925\n",
      "\n",
      "[[44317   425]\n",
      " [ 7960   223]]\n",
      "0.8415682569674067\n"
     ]
    }
   ],
   "source": [
    "grid_predictions = grid.predict(X_test)\n",
    "print(classification_report(y_test,grid_predictions))\n",
    "print(confusion_matrix(y_test,grid_predictions))\n",
    "print(grid.score(X_test, y_test))"
   ]
  },
  {
   "cell_type": "code",
   "execution_count": 17,
   "metadata": {},
   "outputs": [],
   "source": [
    "grid2 = GridSearchCV(RandomForestClassifier(), param_grid, scoring='roc_auc', refit=True, error_score=0, verbose=5)"
   ]
  },
  {
   "cell_type": "code",
   "execution_count": 18,
   "metadata": {},
   "outputs": [
    {
     "name": "stdout",
     "output_type": "stream",
     "text": [
      "Fitting 3 folds for each of 18 candidates, totalling 54 fits\n",
      "[CV] class_weight=balanced, criterion=gini, max_features=sqrt ........\n",
      "[CV]  class_weight=balanced, criterion=gini, max_features=sqrt, score=0.615897392095621, total=   1.8s\n",
      "[CV] class_weight=balanced, criterion=gini, max_features=sqrt ........\n"
     ]
    },
    {
     "name": "stderr",
     "output_type": "stream",
     "text": [
      "[Parallel(n_jobs=1)]: Done   1 out of   1 | elapsed:    2.1s remaining:    0.0s\n"
     ]
    },
    {
     "name": "stdout",
     "output_type": "stream",
     "text": [
      "[CV]  class_weight=balanced, criterion=gini, max_features=sqrt, score=0.615052610611563, total=   1.8s\n",
      "[CV] class_weight=balanced, criterion=gini, max_features=sqrt ........\n"
     ]
    },
    {
     "name": "stderr",
     "output_type": "stream",
     "text": [
      "[Parallel(n_jobs=1)]: Done   2 out of   2 | elapsed:    4.2s remaining:    0.0s\n"
     ]
    },
    {
     "name": "stdout",
     "output_type": "stream",
     "text": [
      "[CV]  class_weight=balanced, criterion=gini, max_features=sqrt, score=0.615865582029007, total=   1.9s\n",
      "[CV] class_weight=balanced, criterion=gini, max_features=log2 ........\n"
     ]
    },
    {
     "name": "stderr",
     "output_type": "stream",
     "text": [
      "[Parallel(n_jobs=1)]: Done   3 out of   3 | elapsed:    6.3s remaining:    0.0s\n"
     ]
    },
    {
     "name": "stdout",
     "output_type": "stream",
     "text": [
      "[CV]  class_weight=balanced, criterion=gini, max_features=log2, score=0.6073371576938942, total=   1.5s\n",
      "[CV] class_weight=balanced, criterion=gini, max_features=log2 ........\n"
     ]
    },
    {
     "name": "stderr",
     "output_type": "stream",
     "text": [
      "[Parallel(n_jobs=1)]: Done   4 out of   4 | elapsed:    8.1s remaining:    0.0s\n"
     ]
    },
    {
     "name": "stdout",
     "output_type": "stream",
     "text": [
      "[CV]  class_weight=balanced, criterion=gini, max_features=log2, score=0.6189670725153283, total=   1.6s\n",
      "[CV] class_weight=balanced, criterion=gini, max_features=log2 ........\n",
      "[CV]  class_weight=balanced, criterion=gini, max_features=log2, score=0.6184103009007038, total=   1.6s\n",
      "[CV] class_weight=balanced, criterion=gini, max_features=None ........\n",
      "[CV]  class_weight=balanced, criterion=gini, max_features=None, score=0.6151447467409322, total=  11.2s\n",
      "[CV] class_weight=balanced, criterion=gini, max_features=None ........\n",
      "[CV]  class_weight=balanced, criterion=gini, max_features=None, score=0.6176797596813661, total=  10.6s\n",
      "[CV] class_weight=balanced, criterion=gini, max_features=None ........\n",
      "[CV]  class_weight=balanced, criterion=gini, max_features=None, score=0.610284619148461, total=  10.6s\n",
      "[CV] class_weight=balanced, criterion=entropy, max_features=sqrt .....\n",
      "[CV]  class_weight=balanced, criterion=entropy, max_features=sqrt, score=0.6239017560122009, total=   2.2s\n",
      "[CV] class_weight=balanced, criterion=entropy, max_features=sqrt .....\n",
      "[CV]  class_weight=balanced, criterion=entropy, max_features=sqrt, score=0.6164798765764723, total=   2.0s\n",
      "[CV] class_weight=balanced, criterion=entropy, max_features=sqrt .....\n",
      "[CV]  class_weight=balanced, criterion=entropy, max_features=sqrt, score=0.6131188357971563, total=   2.0s\n",
      "[CV] class_weight=balanced, criterion=entropy, max_features=log2 .....\n",
      "[CV]  class_weight=balanced, criterion=entropy, max_features=log2, score=0.6192187857629626, total=   2.0s\n",
      "[CV] class_weight=balanced, criterion=entropy, max_features=log2 .....\n",
      "[CV]  class_weight=balanced, criterion=entropy, max_features=log2, score=0.6154172409467771, total=   2.4s\n",
      "[CV] class_weight=balanced, criterion=entropy, max_features=log2 .....\n",
      "[CV]  class_weight=balanced, criterion=entropy, max_features=log2, score=0.613267669108406, total=   2.6s\n",
      "[CV] class_weight=balanced, criterion=entropy, max_features=None .....\n",
      "[CV]  class_weight=balanced, criterion=entropy, max_features=None, score=0.6222543159452687, total=  13.7s\n",
      "[CV] class_weight=balanced, criterion=entropy, max_features=None .....\n",
      "[CV]  class_weight=balanced, criterion=entropy, max_features=None, score=0.6196861841700035, total=  12.1s\n",
      "[CV] class_weight=balanced, criterion=entropy, max_features=None .....\n",
      "[CV]  class_weight=balanced, criterion=entropy, max_features=None, score=0.6151459489543261, total=  10.7s\n",
      "[CV] class_weight=balanced_subsample, criterion=gini, max_features=sqrt \n",
      "[CV]  class_weight=balanced_subsample, criterion=gini, max_features=sqrt, score=0.6186903447741767, total=   1.7s\n",
      "[CV] class_weight=balanced_subsample, criterion=gini, max_features=sqrt \n",
      "[CV]  class_weight=balanced_subsample, criterion=gini, max_features=sqrt, score=0.6119044510403666, total=   1.7s\n",
      "[CV] class_weight=balanced_subsample, criterion=gini, max_features=sqrt \n",
      "[CV]  class_weight=balanced_subsample, criterion=gini, max_features=sqrt, score=0.6185290388199122, total=   1.8s\n",
      "[CV] class_weight=balanced_subsample, criterion=gini, max_features=log2 \n",
      "[CV]  class_weight=balanced_subsample, criterion=gini, max_features=log2, score=0.609686761886576, total=   1.4s\n",
      "[CV] class_weight=balanced_subsample, criterion=gini, max_features=log2 \n",
      "[CV]  class_weight=balanced_subsample, criterion=gini, max_features=log2, score=0.620198065047934, total=   1.4s\n",
      "[CV] class_weight=balanced_subsample, criterion=gini, max_features=log2 \n",
      "[CV]  class_weight=balanced_subsample, criterion=gini, max_features=log2, score=0.6140696754918267, total=   1.4s\n",
      "[CV] class_weight=balanced_subsample, criterion=gini, max_features=None \n",
      "[CV]  class_weight=balanced_subsample, criterion=gini, max_features=None, score=0.6194522507830226, total=   9.9s\n",
      "[CV] class_weight=balanced_subsample, criterion=gini, max_features=None \n",
      "[CV]  class_weight=balanced_subsample, criterion=gini, max_features=None, score=0.619925427008162, total=   9.9s\n",
      "[CV] class_weight=balanced_subsample, criterion=gini, max_features=None \n",
      "[CV]  class_weight=balanced_subsample, criterion=gini, max_features=None, score=0.6133181304786475, total=  15.4s\n",
      "[CV] class_weight=balanced_subsample, criterion=entropy, max_features=sqrt \n",
      "[CV]  class_weight=balanced_subsample, criterion=entropy, max_features=sqrt, score=0.6196429686234939, total=   3.9s\n",
      "[CV] class_weight=balanced_subsample, criterion=entropy, max_features=sqrt \n",
      "[CV]  class_weight=balanced_subsample, criterion=entropy, max_features=sqrt, score=0.6130586186672231, total=   4.3s\n",
      "[CV] class_weight=balanced_subsample, criterion=entropy, max_features=sqrt \n",
      "[CV]  class_weight=balanced_subsample, criterion=entropy, max_features=sqrt, score=0.6178978619023661, total=   3.4s\n",
      "[CV] class_weight=balanced_subsample, criterion=entropy, max_features=log2 \n",
      "[CV]  class_weight=balanced_subsample, criterion=entropy, max_features=log2, score=0.6216230491427378, total=   2.4s\n",
      "[CV] class_weight=balanced_subsample, criterion=entropy, max_features=log2 \n",
      "[CV]  class_weight=balanced_subsample, criterion=entropy, max_features=log2, score=0.617413577044313, total=   1.8s\n",
      "[CV] class_weight=balanced_subsample, criterion=entropy, max_features=log2 \n",
      "[CV]  class_weight=balanced_subsample, criterion=entropy, max_features=log2, score=0.6199973921668047, total=   1.7s\n",
      "[CV] class_weight=balanced_subsample, criterion=entropy, max_features=None \n",
      "[CV]  class_weight=balanced_subsample, criterion=entropy, max_features=None, score=0.620982458825852, total=  12.7s\n",
      "[CV] class_weight=balanced_subsample, criterion=entropy, max_features=None \n",
      "[CV]  class_weight=balanced_subsample, criterion=entropy, max_features=None, score=0.6179834016170489, total=  12.3s\n",
      "[CV] class_weight=balanced_subsample, criterion=entropy, max_features=None \n",
      "[CV]  class_weight=balanced_subsample, criterion=entropy, max_features=None, score=0.6171090271648243, total=  12.0s\n",
      "[CV] class_weight=None, criterion=gini, max_features=sqrt ............\n",
      "[CV]  class_weight=None, criterion=gini, max_features=sqrt, score=0.6212133757628893, total=   1.9s\n",
      "[CV] class_weight=None, criterion=gini, max_features=sqrt ............\n",
      "[CV]  class_weight=None, criterion=gini, max_features=sqrt, score=0.6199267495237104, total=   1.8s\n",
      "[CV] class_weight=None, criterion=gini, max_features=sqrt ............\n",
      "[CV]  class_weight=None, criterion=gini, max_features=sqrt, score=0.6196385490199328, total=   1.9s\n",
      "[CV] class_weight=None, criterion=gini, max_features=log2 ............\n",
      "[CV]  class_weight=None, criterion=gini, max_features=log2, score=0.6191530766510788, total=   1.5s\n",
      "[CV] class_weight=None, criterion=gini, max_features=log2 ............\n",
      "[CV]  class_weight=None, criterion=gini, max_features=log2, score=0.6201628151810523, total=   1.5s\n",
      "[CV] class_weight=None, criterion=gini, max_features=log2 ............\n",
      "[CV]  class_weight=None, criterion=gini, max_features=log2, score=0.6209408062506803, total=   1.5s\n",
      "[CV] class_weight=None, criterion=gini, max_features=None ............\n",
      "[CV]  class_weight=None, criterion=gini, max_features=None, score=0.6134721670848486, total=  13.3s\n",
      "[CV] class_weight=None, criterion=gini, max_features=None ............\n",
      "[CV]  class_weight=None, criterion=gini, max_features=None, score=0.6200005634050958, total=  13.6s\n",
      "[CV] class_weight=None, criterion=gini, max_features=None ............\n",
      "[CV]  class_weight=None, criterion=gini, max_features=None, score=0.6165589706105012, total=  13.7s\n",
      "[CV] class_weight=None, criterion=entropy, max_features=sqrt .........\n",
      "[CV]  class_weight=None, criterion=entropy, max_features=sqrt, score=0.62105707837079, total=   2.0s\n",
      "[CV] class_weight=None, criterion=entropy, max_features=sqrt .........\n",
      "[CV]  class_weight=None, criterion=entropy, max_features=sqrt, score=0.6225062184276918, total=   2.0s\n",
      "[CV] class_weight=None, criterion=entropy, max_features=sqrt .........\n",
      "[CV]  class_weight=None, criterion=entropy, max_features=sqrt, score=0.6209813855183794, total=   2.2s\n",
      "[CV] class_weight=None, criterion=entropy, max_features=log2 .........\n",
      "[CV]  class_weight=None, criterion=entropy, max_features=log2, score=0.618280994675346, total=   1.7s\n",
      "[CV] class_weight=None, criterion=entropy, max_features=log2 .........\n",
      "[CV]  class_weight=None, criterion=entropy, max_features=log2, score=0.6132824089552903, total=   1.6s\n",
      "[CV] class_weight=None, criterion=entropy, max_features=log2 .........\n"
     ]
    },
    {
     "name": "stdout",
     "output_type": "stream",
     "text": [
      "[CV]  class_weight=None, criterion=entropy, max_features=log2, score=0.6153101836155728, total=   1.6s\n",
      "[CV] class_weight=None, criterion=entropy, max_features=None .........\n",
      "[CV]  class_weight=None, criterion=entropy, max_features=None, score=0.6203288093028495, total=  12.6s\n",
      "[CV] class_weight=None, criterion=entropy, max_features=None .........\n",
      "[CV]  class_weight=None, criterion=entropy, max_features=None, score=0.6227863559614053, total=  13.0s\n",
      "[CV] class_weight=None, criterion=entropy, max_features=None .........\n",
      "[CV]  class_weight=None, criterion=entropy, max_features=None, score=0.6179089295877627, total=  12.3s\n"
     ]
    },
    {
     "name": "stderr",
     "output_type": "stream",
     "text": [
      "[Parallel(n_jobs=1)]: Done  54 out of  54 | elapsed:  5.1min finished\n"
     ]
    },
    {
     "data": {
      "text/plain": [
       "GridSearchCV(cv=None, error_score=0,\n",
       "       estimator=RandomForestClassifier(bootstrap=True, class_weight=None, criterion='gini',\n",
       "            max_depth=None, max_features='auto', max_leaf_nodes=None,\n",
       "            min_impurity_decrease=0.0, min_impurity_split=None,\n",
       "            min_samples_leaf=1, min_samples_split=2,\n",
       "            min_weight_fraction_leaf=0.0, n_estimators=10, n_jobs=1,\n",
       "            oob_score=False, random_state=None, verbose=0,\n",
       "            warm_start=False),\n",
       "       fit_params=None, iid=True, n_jobs=1,\n",
       "       param_grid={'criterion': ['gini', 'entropy'], 'max_features': ['sqrt', 'log2', None], 'class_weight': ['balanced', 'balanced_subsample', None]},\n",
       "       pre_dispatch='2*n_jobs', refit=True, return_train_score='warn',\n",
       "       scoring='roc_auc', verbose=5)"
      ]
     },
     "execution_count": 18,
     "metadata": {},
     "output_type": "execute_result"
    }
   ],
   "source": [
    "grid2.fit(X_train,y_train)"
   ]
  },
  {
   "cell_type": "code",
   "execution_count": 19,
   "metadata": {},
   "outputs": [
    {
     "data": {
      "text/plain": [
       "{'class_weight': None, 'criterion': 'entropy', 'max_features': 'sqrt'}"
      ]
     },
     "execution_count": 19,
     "metadata": {},
     "output_type": "execute_result"
    }
   ],
   "source": [
    "grid2.best_params_"
   ]
  },
  {
   "cell_type": "code",
   "execution_count": 20,
   "metadata": {},
   "outputs": [
    {
     "name": "stdout",
     "output_type": "stream",
     "text": [
      "             precision    recall  f1-score   support\n",
      "\n",
      "        0.0       0.85      0.99      0.91     44742\n",
      "        1.0       0.33      0.03      0.06      8183\n",
      "\n",
      "avg / total       0.77      0.84      0.78     52925\n",
      "\n",
      "[[44201   541]\n",
      " [ 7918   265]]\n",
      "0.61835481511163\n"
     ]
    }
   ],
   "source": [
    "grid2_predictions = grid2.predict(X_test)\n",
    "print(classification_report(y_test,grid2_predictions))\n",
    "print(confusion_matrix(y_test,grid2_predictions))\n",
    "print(grid2.score(X_test, y_test))"
   ]
  },
  {
   "cell_type": "code",
   "execution_count": null,
   "metadata": {},
   "outputs": [],
   "source": []
  }
 ],
 "metadata": {
  "kernelspec": {
   "display_name": "Python 3",
   "language": "python",
   "name": "python3"
  },
  "language_info": {
   "codemirror_mode": {
    "name": "ipython",
    "version": 3
   },
   "file_extension": ".py",
   "mimetype": "text/x-python",
   "name": "python",
   "nbconvert_exporter": "python",
   "pygments_lexer": "ipython3",
   "version": "3.6.9"
  }
 },
 "nbformat": 4,
 "nbformat_minor": 2
}

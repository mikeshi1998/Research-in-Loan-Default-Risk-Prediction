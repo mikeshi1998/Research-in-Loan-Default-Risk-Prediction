{
 "cells": [
  {
   "cell_type": "code",
   "execution_count": 1,
   "metadata": {},
   "outputs": [],
   "source": [
    "import pandas as pd\n",
    "import numpy as np\n",
    "import matplotlib.pyplot as plt\n",
    "import seaborn as sns\n",
    "%matplotlib inline\n",
    "from sklearn.preprocessing import StandardScaler\n",
    "from sklearn.model_selection import train_test_split\n",
    "from sklearn.svm import SVC\n",
    "from sklearn.metrics import classification_report, confusion_matrix\n",
    "pd.set_option('display.max_columns', None)  # this will output all columns when display a pandas dataframe"
   ]
  },
  {
   "cell_type": "code",
   "execution_count": 2,
   "metadata": {},
   "outputs": [],
   "source": [
    "df=pd.read_csv('2012-2013_cleaned2.csv', index_col=0)"
   ]
  },
  {
   "cell_type": "code",
   "execution_count": 3,
   "metadata": {},
   "outputs": [],
   "source": [
    "y=df['loan_status']\n",
    "df.drop(columns=['emp_title','issue_d','desc','title','zip_code','loan_status'], inplace=True)\n",
    "scaler=StandardScaler()\n",
    "scaler.fit(df)\n",
    "scaled=scaler.transform(df)\n",
    "df=pd.DataFrame(scaled, columns=df.columns)"
   ]
  },
  {
   "cell_type": "code",
   "execution_count": 4,
   "metadata": {},
   "outputs": [],
   "source": [
    "X_train, X_test, y_train, y_test = train_test_split(df, y, test_size=0.30, random_state=101)"
   ]
  },
  {
   "cell_type": "code",
   "execution_count": 5,
   "metadata": {},
   "outputs": [],
   "source": [
    "model = SVC(verbose=True, max_iter=100000)"
   ]
  },
  {
   "cell_type": "code",
   "execution_count": 7,
   "metadata": {},
   "outputs": [
    {
     "name": "stdout",
     "output_type": "stream",
     "text": [
      "[LibSVM]"
     ]
    },
    {
     "name": "stderr",
     "output_type": "stream",
     "text": [
      "/anaconda3/lib/python3.6/site-packages/sklearn/svm/base.py:218: ConvergenceWarning: Solver terminated early (max_iter=100000).  Consider pre-processing your data with StandardScaler or MinMaxScaler.\n",
      "  % self.max_iter, ConvergenceWarning)\n"
     ]
    },
    {
     "data": {
      "text/plain": [
       "SVC(C=1.0, cache_size=200, class_weight=None, coef0=0.0,\n",
       "  decision_function_shape='ovr', degree=3, gamma='auto', kernel='rbf',\n",
       "  max_iter=100000, probability=False, random_state=None, shrinking=True,\n",
       "  tol=0.001, verbose=True)"
      ]
     },
     "execution_count": 7,
     "metadata": {},
     "output_type": "execute_result"
    }
   ],
   "source": [
    "model.fit(X_train,y_train)"
   ]
  },
  {
   "cell_type": "code",
   "execution_count": 10,
   "metadata": {},
   "outputs": [],
   "source": [
    "predictions = model.predict(X_test)"
   ]
  },
  {
   "cell_type": "code",
   "execution_count": 11,
   "metadata": {},
   "outputs": [
    {
     "name": "stdout",
     "output_type": "stream",
     "text": [
      "[[45573     0]\n",
      " [ 8519     1]]\n",
      "             precision    recall  f1-score   support\n",
      "\n",
      "        0.0       0.84      1.00      0.91     45573\n",
      "        1.0       1.00      0.00      0.00      8520\n",
      "\n",
      "avg / total       0.87      0.84      0.77     54093\n",
      "\n"
     ]
    }
   ],
   "source": [
    "print(confusion_matrix(y_test,predictions))\n",
    "print(classification_report(y_test,predictions))"
   ]
  },
  {
   "cell_type": "code",
   "execution_count": 6,
   "metadata": {},
   "outputs": [],
   "source": [
    "from sklearn.model_selection import GridSearchCV\n",
    "param_grid = {'C': [0.0001, 0.01, 1, 100, 10000], 'kernel': ['linear'], 'class_weight':['balanced',None]}\n"
   ]
  },
  {
   "cell_type": "code",
   "execution_count": null,
   "metadata": {},
   "outputs": [
    {
     "name": "stdout",
     "output_type": "stream",
     "text": [
      "Fitting 3 folds for each of 10 candidates, totalling 30 fits\n",
      "[CV] C=0.0001, class_weight=balanced, kernel=linear ..................\n",
      "[CV]  C=0.0001, class_weight=balanced, kernel=linear, score=0.6593221144704317, total= 7.3min\n",
      "[CV] C=0.0001, class_weight=balanced, kernel=linear ..................\n"
     ]
    },
    {
     "name": "stderr",
     "output_type": "stream",
     "text": [
      "[Parallel(n_jobs=1)]: Done   1 out of   1 | elapsed:  9.0min remaining:    0.0s\n"
     ]
    },
    {
     "name": "stdout",
     "output_type": "stream",
     "text": [
      "[CV]  C=0.0001, class_weight=balanced, kernel=linear, score=0.6628398935158776, total= 8.4min\n",
      "[CV] C=0.0001, class_weight=balanced, kernel=linear ..................\n"
     ]
    },
    {
     "name": "stderr",
     "output_type": "stream",
     "text": [
      "[Parallel(n_jobs=1)]: Done   2 out of   2 | elapsed: 19.3min remaining:    0.0s\n"
     ]
    },
    {
     "name": "stdout",
     "output_type": "stream",
     "text": [
      "[CV]  C=0.0001, class_weight=balanced, kernel=linear, score=0.666238828674653, total= 6.8min\n",
      "[CV] C=0.0001, class_weight=None, kernel=linear ......................\n"
     ]
    },
    {
     "name": "stderr",
     "output_type": "stream",
     "text": [
      "[Parallel(n_jobs=1)]: Done   3 out of   3 | elapsed: 27.8min remaining:    0.0s\n"
     ]
    },
    {
     "name": "stdout",
     "output_type": "stream",
     "text": [
      "[CV]  C=0.0001, class_weight=None, kernel=linear, score=0.8447898840083666, total= 1.2min\n",
      "[CV] C=0.0001, class_weight=None, kernel=linear ......................\n"
     ]
    },
    {
     "name": "stderr",
     "output_type": "stream",
     "text": [
      "[Parallel(n_jobs=1)]: Done   4 out of   4 | elapsed: 29.8min remaining:    0.0s\n"
     ]
    },
    {
     "name": "stdout",
     "output_type": "stream",
     "text": [
      "[CV]  C=0.0001, class_weight=None, kernel=linear, score=0.8447898840083666, total= 1.3min\n",
      "[CV] C=0.0001, class_weight=None, kernel=linear ......................\n",
      "[CV]  C=0.0001, class_weight=None, kernel=linear, score=0.8447898840083666, total= 1.3min\n",
      "[CV] C=0.01, class_weight=balanced, kernel=linear ....................\n",
      "[CV]  C=0.01, class_weight=balanced, kernel=linear, score=0.6408300057045065, total= 6.6min\n",
      "[CV] C=0.01, class_weight=balanced, kernel=linear ....................\n",
      "[CV]  C=0.01, class_weight=balanced, kernel=linear, score=0.6403308613804906, total=10.6min\n",
      "[CV] C=0.01, class_weight=balanced, kernel=linear ....................\n",
      "[CV]  C=0.01, class_weight=balanced, kernel=linear, score=0.6469623502567028, total= 6.8min\n",
      "[CV] C=0.01, class_weight=None, kernel=linear ........................\n",
      "[CV]  C=0.01, class_weight=None, kernel=linear, score=0.8447898840083666, total= 1.2min\n",
      "[CV] C=0.01, class_weight=None, kernel=linear ........................\n",
      "[CV]  C=0.01, class_weight=None, kernel=linear, score=0.8447898840083666, total= 1.2min\n",
      "[CV] C=0.01, class_weight=None, kernel=linear ........................\n",
      "[CV]  C=0.01, class_weight=None, kernel=linear, score=0.8447898840083666, total= 1.2min\n",
      "[CV] C=1, class_weight=balanced, kernel=linear .......................\n",
      "[CV]  C=1, class_weight=balanced, kernel=linear, score=0.6370983076630539, total=17.2min\n",
      "[CV] C=1, class_weight=balanced, kernel=linear .......................\n",
      "[CV]  C=1, class_weight=balanced, kernel=linear, score=0.6352205742536604, total=15.7min\n",
      "[CV] C=1, class_weight=balanced, kernel=linear .......................\n",
      "[CV]  C=1, class_weight=balanced, kernel=linear, score=0.6430642707739114, total=16.6min\n",
      "[CV] C=1, class_weight=None, kernel=linear ...........................\n",
      "[CV]  C=1, class_weight=None, kernel=linear, score=0.8447898840083666, total= 8.4min\n",
      "[CV] C=1, class_weight=None, kernel=linear ...........................\n",
      "[CV]  C=1, class_weight=None, kernel=linear, score=0.8447898840083666, total= 7.8min\n",
      "[CV] C=1, class_weight=None, kernel=linear ...........................\n",
      "[CV]  C=1, class_weight=None, kernel=linear, score=0.8447898840083666, total= 7.6min\n",
      "[CV] C=100, class_weight=balanced, kernel=linear .....................\n"
     ]
    }
   ],
   "source": [
    "grid = GridSearchCV(SVC(),param_grid,refit=True,error_score=0,verbose=5)\n",
    "grid.fit(X_train,y_train)\n"
   ]
  },
  {
   "cell_type": "code",
   "execution_count": null,
   "metadata": {},
   "outputs": [],
   "source": [
    "grid.best_params_"
   ]
  },
  {
   "cell_type": "code",
   "execution_count": null,
   "metadata": {},
   "outputs": [],
   "source": [
    "grid_predictions = grid.predict(X_test)"
   ]
  },
  {
   "cell_type": "code",
   "execution_count": null,
   "metadata": {},
   "outputs": [],
   "source": [
    "print(confusion_matrix(y_test,grid_predictions))\n",
    "print(classification_report(y_test,grid_predictions))"
   ]
  },
  {
   "cell_type": "code",
   "execution_count": 7,
   "metadata": {},
   "outputs": [],
   "source": [
    "param_grid = {'C': [0.0001, 0.01, 1, 100, 10000], 'kernel': ['rbf'], 'gamma': ['auto', 'scale', 1e-8, 1e-6, 1e-4, 1e-2, 1, 100, 1000], 'class_weight':['balanced',None]}\n"
   ]
  },
  {
   "cell_type": "code",
   "execution_count": null,
   "metadata": {},
   "outputs": [
    {
     "name": "stdout",
     "output_type": "stream",
     "text": [
      "Fitting 3 folds for each of 90 candidates, totalling 270 fits\n",
      "[CV] C=0.0001, class_weight=balanced, gamma=auto, kernel=rbf .........\n",
      "[CV]  C=0.0001, class_weight=balanced, gamma=auto, kernel=rbf, score=0.8447898840083666, total=13.3min\n",
      "[CV] C=0.0001, class_weight=balanced, gamma=auto, kernel=rbf .........\n"
     ]
    },
    {
     "name": "stderr",
     "output_type": "stream",
     "text": [
      "[Parallel(n_jobs=1)]: Done   1 out of   1 | elapsed: 16.9min remaining:    0.0s\n"
     ]
    },
    {
     "name": "stdout",
     "output_type": "stream",
     "text": [
      "[CV]  C=0.0001, class_weight=balanced, gamma=auto, kernel=rbf, score=0.8447898840083666, total=12.5min\n",
      "[CV] C=0.0001, class_weight=balanced, gamma=auto, kernel=rbf .........\n"
     ]
    },
    {
     "name": "stderr",
     "output_type": "stream",
     "text": [
      "[Parallel(n_jobs=1)]: Done   2 out of   2 | elapsed: 33.1min remaining:    0.0s\n"
     ]
    },
    {
     "name": "stdout",
     "output_type": "stream",
     "text": [
      "[CV]  C=0.0001, class_weight=balanced, gamma=auto, kernel=rbf, score=0.8447898840083666, total=13.2min\n",
      "[CV] C=0.0001, class_weight=balanced, gamma=scale, kernel=rbf ........\n",
      "[CV]  C=0.0001, class_weight=balanced, gamma=scale, kernel=rbf, score=0, total=   0.0s\n",
      "[CV] C=0.0001, class_weight=balanced, gamma=scale, kernel=rbf ........\n",
      "[CV]  C=0.0001, class_weight=balanced, gamma=scale, kernel=rbf, score=0, total=   0.0s\n",
      "[CV] C=0.0001, class_weight=balanced, gamma=scale, kernel=rbf ........\n",
      "[CV]  C=0.0001, class_weight=balanced, gamma=scale, kernel=rbf, score=0, total=   0.0s\n",
      "[CV] C=0.0001, class_weight=balanced, gamma=1e-08, kernel=rbf ........\n"
     ]
    },
    {
     "name": "stderr",
     "output_type": "stream",
     "text": [
      "[Parallel(n_jobs=1)]: Done   3 out of   3 | elapsed: 49.6min remaining:    0.0s\n",
      "/anaconda3/lib/python3.6/site-packages/sklearn/model_selection/_validation.py:479: FitFailedWarning: Classifier fit failed. The score on this train-test partition for these parameters will be set to 0.000000. Details: \n",
      "TypeError('must be real number, not str',)\n",
      "  \"Details: \\n%r\" % (error_score, e), FitFailedWarning)\n",
      "[Parallel(n_jobs=1)]: Done   4 out of   4 | elapsed: 49.6min remaining:    0.0s\n",
      "/anaconda3/lib/python3.6/site-packages/sklearn/model_selection/_validation.py:479: FitFailedWarning: Classifier fit failed. The score on this train-test partition for these parameters will be set to 0.000000. Details: \n",
      "TypeError('must be real number, not str',)\n",
      "  \"Details: \\n%r\" % (error_score, e), FitFailedWarning)\n",
      "/anaconda3/lib/python3.6/site-packages/sklearn/model_selection/_validation.py:479: FitFailedWarning: Classifier fit failed. The score on this train-test partition for these parameters will be set to 0.000000. Details: \n",
      "TypeError('must be real number, not str',)\n",
      "  \"Details: \\n%r\" % (error_score, e), FitFailedWarning)\n"
     ]
    },
    {
     "name": "stdout",
     "output_type": "stream",
     "text": [
      "[CV]  C=0.0001, class_weight=balanced, gamma=1e-08, kernel=rbf, score=0.8447898840083666, total=12.3min\n",
      "[CV] C=0.0001, class_weight=balanced, gamma=1e-08, kernel=rbf ........\n",
      "[CV]  C=0.0001, class_weight=balanced, gamma=1e-08, kernel=rbf, score=0.8447898840083666, total=13.5min\n",
      "[CV] C=0.0001, class_weight=balanced, gamma=1e-08, kernel=rbf ........\n",
      "[CV]  C=0.0001, class_weight=balanced, gamma=1e-08, kernel=rbf, score=0.8447898840083666, total=13.5min\n",
      "[CV] C=0.0001, class_weight=balanced, gamma=1e-06, kernel=rbf ........\n",
      "[CV]  C=0.0001, class_weight=balanced, gamma=1e-06, kernel=rbf, score=0.8447898840083666, total=13.1min\n",
      "[CV] C=0.0001, class_weight=balanced, gamma=1e-06, kernel=rbf ........\n",
      "[CV]  C=0.0001, class_weight=balanced, gamma=1e-06, kernel=rbf, score=0.8447898840083666, total=13.2min\n",
      "[CV] C=0.0001, class_weight=balanced, gamma=1e-06, kernel=rbf ........\n",
      "[CV]  C=0.0001, class_weight=balanced, gamma=1e-06, kernel=rbf, score=0.8447898840083666, total=54.5min\n",
      "[CV] C=0.0001, class_weight=balanced, gamma=0.0001, kernel=rbf .......\n",
      "[CV]  C=0.0001, class_weight=balanced, gamma=0.0001, kernel=rbf, score=0.8447898840083666, total=15.4min\n",
      "[CV] C=0.0001, class_weight=balanced, gamma=0.0001, kernel=rbf .......\n",
      "[CV]  C=0.0001, class_weight=balanced, gamma=0.0001, kernel=rbf, score=0.8447898840083666, total=13.2min\n",
      "[CV] C=0.0001, class_weight=balanced, gamma=0.0001, kernel=rbf .......\n",
      "[CV]  C=0.0001, class_weight=balanced, gamma=0.0001, kernel=rbf, score=0.8447898840083666, total=13.0min\n",
      "[CV] C=0.0001, class_weight=balanced, gamma=0.01, kernel=rbf .........\n",
      "[CV]  C=0.0001, class_weight=balanced, gamma=0.01, kernel=rbf, score=0.8447898840083666, total=29.4min\n",
      "[CV] C=0.0001, class_weight=balanced, gamma=0.01, kernel=rbf .........\n",
      "[CV]  C=0.0001, class_weight=balanced, gamma=0.01, kernel=rbf, score=0.8447898840083666, total=14.5min\n",
      "[CV] C=0.0001, class_weight=balanced, gamma=0.01, kernel=rbf .........\n",
      "[CV]  C=0.0001, class_weight=balanced, gamma=0.01, kernel=rbf, score=0.8447898840083666, total=323.6min\n",
      "[CV] C=0.0001, class_weight=balanced, gamma=1, kernel=rbf ............\n",
      "[CV]  C=0.0001, class_weight=balanced, gamma=1, kernel=rbf, score=0.8447898840083666, total=12.2min\n",
      "[CV] C=0.0001, class_weight=balanced, gamma=1, kernel=rbf ............\n",
      "[CV]  C=0.0001, class_weight=balanced, gamma=1, kernel=rbf, score=0.8447898840083666, total=38.0min\n",
      "[CV] C=0.0001, class_weight=balanced, gamma=1, kernel=rbf ............\n",
      "[CV]  C=0.0001, class_weight=balanced, gamma=1, kernel=rbf, score=0.8447898840083666, total=11.3min\n",
      "[CV] C=0.0001, class_weight=balanced, gamma=100, kernel=rbf ..........\n",
      "[CV]  C=0.0001, class_weight=balanced, gamma=100, kernel=rbf, score=0.8447898840083666, total= 8.5min\n",
      "[CV] C=0.0001, class_weight=balanced, gamma=100, kernel=rbf ..........\n",
      "[CV]  C=0.0001, class_weight=balanced, gamma=100, kernel=rbf, score=0.8447898840083666, total=32.9min\n",
      "[CV] C=0.0001, class_weight=balanced, gamma=100, kernel=rbf ..........\n",
      "[CV]  C=0.0001, class_weight=balanced, gamma=100, kernel=rbf, score=0.8447898840083666, total= 9.0min\n",
      "[CV] C=0.0001, class_weight=balanced, gamma=1000, kernel=rbf .........\n",
      "[CV]  C=0.0001, class_weight=balanced, gamma=1000, kernel=rbf, score=0.8447898840083666, total= 9.2min\n",
      "[CV] C=0.0001, class_weight=balanced, gamma=1000, kernel=rbf .........\n",
      "[CV]  C=0.0001, class_weight=balanced, gamma=1000, kernel=rbf, score=0.8447898840083666, total=136.1min\n",
      "[CV] C=0.0001, class_weight=balanced, gamma=1000, kernel=rbf .........\n",
      "[CV]  C=0.0001, class_weight=balanced, gamma=1000, kernel=rbf, score=0.8447898840083666, total=277.0min\n",
      "[CV] C=0.0001, class_weight=None, gamma=auto, kernel=rbf .............\n",
      "[CV]  C=0.0001, class_weight=None, gamma=auto, kernel=rbf, score=0.8447898840083666, total= 2.1min\n",
      "[CV] C=0.0001, class_weight=None, gamma=auto, kernel=rbf .............\n",
      "[CV]  C=0.0001, class_weight=None, gamma=auto, kernel=rbf, score=0.8447898840083666, total= 2.1min\n",
      "[CV] C=0.0001, class_weight=None, gamma=auto, kernel=rbf .............\n",
      "[CV]  C=0.0001, class_weight=None, gamma=auto, kernel=rbf, score=0.8447898840083666, total= 2.1min\n",
      "[CV] C=0.0001, class_weight=None, gamma=scale, kernel=rbf ............\n",
      "[CV]  C=0.0001, class_weight=None, gamma=scale, kernel=rbf, score=0, total=   0.0s\n",
      "[CV] C=0.0001, class_weight=None, gamma=scale, kernel=rbf ............\n",
      "[CV]  C=0.0001, class_weight=None, gamma=scale, kernel=rbf, score=0, total=   0.0s\n",
      "[CV] C=0.0001, class_weight=None, gamma=scale, kernel=rbf ............\n",
      "[CV]  C=0.0001, class_weight=None, gamma=scale, kernel=rbf, score=0, total=   0.0s\n",
      "[CV] C=0.0001, class_weight=None, gamma=1e-08, kernel=rbf ............\n"
     ]
    },
    {
     "name": "stderr",
     "output_type": "stream",
     "text": [
      "/anaconda3/lib/python3.6/site-packages/sklearn/model_selection/_validation.py:479: FitFailedWarning: Classifier fit failed. The score on this train-test partition for these parameters will be set to 0.000000. Details: \n",
      "TypeError('must be real number, not str',)\n",
      "  \"Details: \\n%r\" % (error_score, e), FitFailedWarning)\n",
      "/anaconda3/lib/python3.6/site-packages/sklearn/model_selection/_validation.py:479: FitFailedWarning: Classifier fit failed. The score on this train-test partition for these parameters will be set to 0.000000. Details: \n",
      "TypeError('must be real number, not str',)\n",
      "  \"Details: \\n%r\" % (error_score, e), FitFailedWarning)\n",
      "/anaconda3/lib/python3.6/site-packages/sklearn/model_selection/_validation.py:479: FitFailedWarning: Classifier fit failed. The score on this train-test partition for these parameters will be set to 0.000000. Details: \n",
      "TypeError('must be real number, not str',)\n",
      "  \"Details: \\n%r\" % (error_score, e), FitFailedWarning)\n"
     ]
    },
    {
     "name": "stdout",
     "output_type": "stream",
     "text": [
      "[CV]  C=0.0001, class_weight=None, gamma=1e-08, kernel=rbf, score=0.8447898840083666, total= 2.2min\n",
      "[CV] C=0.0001, class_weight=None, gamma=1e-08, kernel=rbf ............\n",
      "[CV]  C=0.0001, class_weight=None, gamma=1e-08, kernel=rbf, score=0.8447898840083666, total= 2.3min\n",
      "[CV] C=0.0001, class_weight=None, gamma=1e-08, kernel=rbf ............\n",
      "[CV]  C=0.0001, class_weight=None, gamma=1e-08, kernel=rbf, score=0.8447898840083666, total= 2.3min\n",
      "[CV] C=0.0001, class_weight=None, gamma=1e-06, kernel=rbf ............\n",
      "[CV]  C=0.0001, class_weight=None, gamma=1e-06, kernel=rbf, score=0.8447898840083666, total= 2.2min\n",
      "[CV] C=0.0001, class_weight=None, gamma=1e-06, kernel=rbf ............\n",
      "[CV]  C=0.0001, class_weight=None, gamma=1e-06, kernel=rbf, score=0.8447898840083666, total= 2.2min\n",
      "[CV] C=0.0001, class_weight=None, gamma=1e-06, kernel=rbf ............\n",
      "[CV]  C=0.0001, class_weight=None, gamma=1e-06, kernel=rbf, score=0.8447898840083666, total= 2.2min\n",
      "[CV] C=0.0001, class_weight=None, gamma=0.0001, kernel=rbf ...........\n",
      "[CV]  C=0.0001, class_weight=None, gamma=0.0001, kernel=rbf, score=0.8447898840083666, total= 2.2min\n",
      "[CV] C=0.0001, class_weight=None, gamma=0.0001, kernel=rbf ...........\n",
      "[CV]  C=0.0001, class_weight=None, gamma=0.0001, kernel=rbf, score=0.8447898840083666, total= 2.2min\n",
      "[CV] C=0.0001, class_weight=None, gamma=0.0001, kernel=rbf ...........\n",
      "[CV]  C=0.0001, class_weight=None, gamma=0.0001, kernel=rbf, score=0.8447898840083666, total= 2.2min\n",
      "[CV] C=0.0001, class_weight=None, gamma=0.01, kernel=rbf .............\n",
      "[CV]  C=0.0001, class_weight=None, gamma=0.01, kernel=rbf, score=0.8447898840083666, total= 2.2min\n",
      "[CV] C=0.0001, class_weight=None, gamma=0.01, kernel=rbf .............\n",
      "[CV]  C=0.0001, class_weight=None, gamma=0.01, kernel=rbf, score=0.8447898840083666, total= 2.2min\n",
      "[CV] C=0.0001, class_weight=None, gamma=0.01, kernel=rbf .............\n",
      "[CV]  C=0.0001, class_weight=None, gamma=0.01, kernel=rbf, score=0.8447898840083666, total= 2.2min\n",
      "[CV] C=0.0001, class_weight=None, gamma=1, kernel=rbf ................\n",
      "[CV]  C=0.0001, class_weight=None, gamma=1, kernel=rbf, score=0.8447898840083666, total= 2.2min\n",
      "[CV] C=0.0001, class_weight=None, gamma=1, kernel=rbf ................\n",
      "[CV]  C=0.0001, class_weight=None, gamma=1, kernel=rbf, score=0.8447898840083666, total= 2.1min\n",
      "[CV] C=0.0001, class_weight=None, gamma=1, kernel=rbf ................\n",
      "[CV]  C=0.0001, class_weight=None, gamma=1, kernel=rbf, score=0.8447898840083666, total=66.9min\n",
      "[CV] C=0.0001, class_weight=None, gamma=100, kernel=rbf ..............\n",
      "[CV]  C=0.0001, class_weight=None, gamma=100, kernel=rbf, score=0.8447898840083666, total= 1.7min\n",
      "[CV] C=0.0001, class_weight=None, gamma=100, kernel=rbf ..............\n",
      "[CV]  C=0.0001, class_weight=None, gamma=100, kernel=rbf, score=0.8447898840083666, total= 1.7min\n",
      "[CV] C=0.0001, class_weight=None, gamma=100, kernel=rbf ..............\n",
      "[CV]  C=0.0001, class_weight=None, gamma=100, kernel=rbf, score=0.8447898840083666, total= 1.7min\n",
      "[CV] C=0.0001, class_weight=None, gamma=1000, kernel=rbf .............\n",
      "[CV]  C=0.0001, class_weight=None, gamma=1000, kernel=rbf, score=0.8447898840083666, total= 1.7min\n",
      "[CV] C=0.0001, class_weight=None, gamma=1000, kernel=rbf .............\n",
      "[CV]  C=0.0001, class_weight=None, gamma=1000, kernel=rbf, score=0.8447898840083666, total= 1.7min\n",
      "[CV] C=0.0001, class_weight=None, gamma=1000, kernel=rbf .............\n",
      "[CV]  C=0.0001, class_weight=None, gamma=1000, kernel=rbf, score=0.8447898840083666, total= 1.8min\n",
      "[CV] C=0.01, class_weight=balanced, gamma=auto, kernel=rbf ...........\n",
      "[CV]  C=0.01, class_weight=balanced, gamma=auto, kernel=rbf, score=0.6274244152880776, total=287.4min\n",
      "[CV] C=0.01, class_weight=balanced, gamma=auto, kernel=rbf ...........\n",
      "[CV]  C=0.01, class_weight=balanced, gamma=auto, kernel=rbf, score=0.6272818026240731, total=12.8min\n",
      "[CV] C=0.01, class_weight=balanced, gamma=auto, kernel=rbf ...........\n",
      "[CV]  C=0.01, class_weight=balanced, gamma=auto, kernel=rbf, score=0.6316552576535464, total=31.7min\n",
      "[CV] C=0.01, class_weight=balanced, gamma=scale, kernel=rbf ..........\n",
      "[CV]  C=0.01, class_weight=balanced, gamma=scale, kernel=rbf, score=0, total=   0.0s\n",
      "[CV] C=0.01, class_weight=balanced, gamma=scale, kernel=rbf ..........\n",
      "[CV]  C=0.01, class_weight=balanced, gamma=scale, kernel=rbf, score=0, total=   0.0s\n",
      "[CV] C=0.01, class_weight=balanced, gamma=scale, kernel=rbf ..........\n",
      "[CV]  C=0.01, class_weight=balanced, gamma=scale, kernel=rbf, score=0, total=   0.0s\n",
      "[CV] C=0.01, class_weight=balanced, gamma=1e-08, kernel=rbf ..........\n"
     ]
    },
    {
     "name": "stderr",
     "output_type": "stream",
     "text": [
      "/anaconda3/lib/python3.6/site-packages/sklearn/model_selection/_validation.py:479: FitFailedWarning: Classifier fit failed. The score on this train-test partition for these parameters will be set to 0.000000. Details: \n",
      "TypeError('must be real number, not str',)\n",
      "  \"Details: \\n%r\" % (error_score, e), FitFailedWarning)\n",
      "/anaconda3/lib/python3.6/site-packages/sklearn/model_selection/_validation.py:479: FitFailedWarning: Classifier fit failed. The score on this train-test partition for these parameters will be set to 0.000000. Details: \n",
      "TypeError('must be real number, not str',)\n",
      "  \"Details: \\n%r\" % (error_score, e), FitFailedWarning)\n",
      "/anaconda3/lib/python3.6/site-packages/sklearn/model_selection/_validation.py:479: FitFailedWarning: Classifier fit failed. The score on this train-test partition for these parameters will be set to 0.000000. Details: \n",
      "TypeError('must be real number, not str',)\n",
      "  \"Details: \\n%r\" % (error_score, e), FitFailedWarning)\n"
     ]
    },
    {
     "name": "stdout",
     "output_type": "stream",
     "text": [
      "[CV]  C=0.01, class_weight=balanced, gamma=1e-08, kernel=rbf, score=0.8447898840083666, total=15.9min\n",
      "[CV] C=0.01, class_weight=balanced, gamma=1e-08, kernel=rbf ..........\n",
      "[CV]  C=0.01, class_weight=balanced, gamma=1e-08, kernel=rbf, score=0.8447898840083666, total=16.0min\n",
      "[CV] C=0.01, class_weight=balanced, gamma=1e-08, kernel=rbf ..........\n",
      "[CV]  C=0.01, class_weight=balanced, gamma=1e-08, kernel=rbf, score=0.8447898840083666, total=78.1min\n",
      "[CV] C=0.01, class_weight=balanced, gamma=1e-06, kernel=rbf ..........\n",
      "[CV]  C=0.01, class_weight=balanced, gamma=1e-06, kernel=rbf, score=0.8447898840083666, total=13.6min\n",
      "[CV] C=0.01, class_weight=balanced, gamma=1e-06, kernel=rbf ..........\n",
      "[CV]  C=0.01, class_weight=balanced, gamma=1e-06, kernel=rbf, score=0.8447898840083666, total=13.6min\n",
      "[CV] C=0.01, class_weight=balanced, gamma=1e-06, kernel=rbf ..........\n",
      "[CV]  C=0.01, class_weight=balanced, gamma=1e-06, kernel=rbf, score=0.8447898840083666, total=13.6min\n",
      "[CV] C=0.01, class_weight=balanced, gamma=0.0001, kernel=rbf .........\n",
      "[CV]  C=0.01, class_weight=balanced, gamma=0.0001, kernel=rbf, score=0.8322875071306332, total=13.4min\n",
      "[CV] C=0.01, class_weight=balanced, gamma=0.0001, kernel=rbf .........\n",
      "[CV]  C=0.01, class_weight=balanced, gamma=0.0001, kernel=rbf, score=0.8239684350637003, total=13.3min\n",
      "[CV] C=0.01, class_weight=balanced, gamma=0.0001, kernel=rbf .........\n",
      "[CV]  C=0.01, class_weight=balanced, gamma=0.0001, kernel=rbf, score=0.8335472523293401, total=13.3min\n",
      "[CV] C=0.01, class_weight=balanced, gamma=0.01, kernel=rbf ...........\n",
      "[CV]  C=0.01, class_weight=balanced, gamma=0.01, kernel=rbf, score=0.6392137288457882, total=32.2min\n",
      "[CV] C=0.01, class_weight=balanced, gamma=0.01, kernel=rbf ...........\n",
      "[CV]  C=0.01, class_weight=balanced, gamma=0.01, kernel=rbf, score=0.6389998098497813, total=12.5min\n",
      "[CV] C=0.01, class_weight=balanced, gamma=0.01, kernel=rbf ...........\n",
      "[CV]  C=0.01, class_weight=balanced, gamma=0.01, kernel=rbf, score=0.6447756227419662, total=12.9min\n",
      "[CV] C=0.01, class_weight=balanced, gamma=1, kernel=rbf ..............\n",
      "[CV]  C=0.01, class_weight=balanced, gamma=1, kernel=rbf, score=0.8447898840083666, total=11.5min\n",
      "[CV] C=0.01, class_weight=balanced, gamma=1, kernel=rbf ..............\n",
      "[CV]  C=0.01, class_weight=balanced, gamma=1, kernel=rbf, score=0.8447898840083666, total=11.2min\n",
      "[CV] C=0.01, class_weight=balanced, gamma=1, kernel=rbf ..............\n",
      "[CV]  C=0.01, class_weight=balanced, gamma=1, kernel=rbf, score=0.8447898840083666, total=15.3min\n",
      "[CV] C=0.01, class_weight=balanced, gamma=100, kernel=rbf ............\n",
      "[CV]  C=0.01, class_weight=balanced, gamma=100, kernel=rbf, score=0.8447898840083666, total= 8.1min\n",
      "[CV] C=0.01, class_weight=balanced, gamma=100, kernel=rbf ............\n",
      "[CV]  C=0.01, class_weight=balanced, gamma=100, kernel=rbf, score=0.8447898840083666, total= 7.7min\n",
      "[CV] C=0.01, class_weight=balanced, gamma=100, kernel=rbf ............\n",
      "[CV]  C=0.01, class_weight=balanced, gamma=100, kernel=rbf, score=0.8447898840083666, total= 7.7min\n",
      "[CV] C=0.01, class_weight=balanced, gamma=1000, kernel=rbf ...........\n",
      "[CV]  C=0.01, class_weight=balanced, gamma=1000, kernel=rbf, score=0.8447898840083666, total= 8.0min\n",
      "[CV] C=0.01, class_weight=balanced, gamma=1000, kernel=rbf ...........\n",
      "[CV]  C=0.01, class_weight=balanced, gamma=1000, kernel=rbf, score=0.8447898840083666, total= 8.0min\n",
      "[CV] C=0.01, class_weight=balanced, gamma=1000, kernel=rbf ...........\n",
      "[CV]  C=0.01, class_weight=balanced, gamma=1000, kernel=rbf, score=0.8447898840083666, total=15.7min\n",
      "[CV] C=0.01, class_weight=None, gamma=auto, kernel=rbf ...............\n",
      "[CV]  C=0.01, class_weight=None, gamma=auto, kernel=rbf, score=0.8447898840083666, total= 4.0min\n",
      "[CV] C=0.01, class_weight=None, gamma=auto, kernel=rbf ...............\n",
      "[CV]  C=0.01, class_weight=None, gamma=auto, kernel=rbf, score=0.8447898840083666, total= 4.0min\n",
      "[CV] C=0.01, class_weight=None, gamma=auto, kernel=rbf ...............\n",
      "[CV]  C=0.01, class_weight=None, gamma=auto, kernel=rbf, score=0.8447898840083666, total= 4.0min\n",
      "[CV] C=0.01, class_weight=None, gamma=scale, kernel=rbf ..............\n",
      "[CV]  C=0.01, class_weight=None, gamma=scale, kernel=rbf, score=0, total=   0.0s\n",
      "[CV] C=0.01, class_weight=None, gamma=scale, kernel=rbf ..............\n",
      "[CV]  C=0.01, class_weight=None, gamma=scale, kernel=rbf, score=0, total=   0.0s\n",
      "[CV] C=0.01, class_weight=None, gamma=scale, kernel=rbf ..............\n",
      "[CV]  C=0.01, class_weight=None, gamma=scale, kernel=rbf, score=0, total=   0.0s\n",
      "[CV] C=0.01, class_weight=None, gamma=1e-08, kernel=rbf ..............\n"
     ]
    },
    {
     "name": "stderr",
     "output_type": "stream",
     "text": [
      "/anaconda3/lib/python3.6/site-packages/sklearn/model_selection/_validation.py:479: FitFailedWarning: Classifier fit failed. The score on this train-test partition for these parameters will be set to 0.000000. Details: \n",
      "TypeError('must be real number, not str',)\n",
      "  \"Details: \\n%r\" % (error_score, e), FitFailedWarning)\n",
      "/anaconda3/lib/python3.6/site-packages/sklearn/model_selection/_validation.py:479: FitFailedWarning: Classifier fit failed. The score on this train-test partition for these parameters will be set to 0.000000. Details: \n",
      "TypeError('must be real number, not str',)\n",
      "  \"Details: \\n%r\" % (error_score, e), FitFailedWarning)\n",
      "/anaconda3/lib/python3.6/site-packages/sklearn/model_selection/_validation.py:479: FitFailedWarning: Classifier fit failed. The score on this train-test partition for these parameters will be set to 0.000000. Details: \n",
      "TypeError('must be real number, not str',)\n",
      "  \"Details: \\n%r\" % (error_score, e), FitFailedWarning)\n"
     ]
    },
    {
     "name": "stdout",
     "output_type": "stream",
     "text": [
      "[CV]  C=0.01, class_weight=None, gamma=1e-08, kernel=rbf, score=0.8447898840083666, total= 2.1min\n",
      "[CV] C=0.01, class_weight=None, gamma=1e-08, kernel=rbf ..............\n",
      "[CV]  C=0.01, class_weight=None, gamma=1e-08, kernel=rbf, score=0.8447898840083666, total= 2.1min\n",
      "[CV] C=0.01, class_weight=None, gamma=1e-08, kernel=rbf ..............\n",
      "[CV]  C=0.01, class_weight=None, gamma=1e-08, kernel=rbf, score=0.8447898840083666, total= 2.2min\n",
      "[CV] C=0.01, class_weight=None, gamma=1e-06, kernel=rbf ..............\n",
      "[CV]  C=0.01, class_weight=None, gamma=1e-06, kernel=rbf, score=0.8447898840083666, total= 2.0min\n",
      "[CV] C=0.01, class_weight=None, gamma=1e-06, kernel=rbf ..............\n",
      "[CV]  C=0.01, class_weight=None, gamma=1e-06, kernel=rbf, score=0.8447898840083666, total= 2.0min\n",
      "[CV] C=0.01, class_weight=None, gamma=1e-06, kernel=rbf ..............\n",
      "[CV]  C=0.01, class_weight=None, gamma=1e-06, kernel=rbf, score=0.8447898840083666, total= 2.0min\n",
      "[CV] C=0.01, class_weight=None, gamma=0.0001, kernel=rbf .............\n",
      "[CV]  C=0.01, class_weight=None, gamma=0.0001, kernel=rbf, score=0.8447898840083666, total= 1.9min\n",
      "[CV] C=0.01, class_weight=None, gamma=0.0001, kernel=rbf .............\n",
      "[CV]  C=0.01, class_weight=None, gamma=0.0001, kernel=rbf, score=0.8447898840083666, total= 2.0min\n",
      "[CV] C=0.01, class_weight=None, gamma=0.0001, kernel=rbf .............\n",
      "[CV]  C=0.01, class_weight=None, gamma=0.0001, kernel=rbf, score=0.8447898840083666, total= 1.9min\n",
      "[CV] C=0.01, class_weight=None, gamma=0.01, kernel=rbf ...............\n",
      "[CV]  C=0.01, class_weight=None, gamma=0.01, kernel=rbf, score=0.8447898840083666, total= 2.1min\n",
      "[CV] C=0.01, class_weight=None, gamma=0.01, kernel=rbf ...............\n",
      "[CV]  C=0.01, class_weight=None, gamma=0.01, kernel=rbf, score=0.8447898840083666, total= 2.1min\n",
      "[CV] C=0.01, class_weight=None, gamma=0.01, kernel=rbf ...............\n",
      "[CV]  C=0.01, class_weight=None, gamma=0.01, kernel=rbf, score=0.8447898840083666, total= 2.1min\n",
      "[CV] C=0.01, class_weight=None, gamma=1, kernel=rbf ..................\n",
      "[CV]  C=0.01, class_weight=None, gamma=1, kernel=rbf, score=0.8447898840083666, total=13.7min\n",
      "[CV] C=0.01, class_weight=None, gamma=1, kernel=rbf ..................\n",
      "[CV]  C=0.01, class_weight=None, gamma=1, kernel=rbf, score=0.8447898840083666, total=13.6min\n",
      "[CV] C=0.01, class_weight=None, gamma=1, kernel=rbf ..................\n",
      "[CV]  C=0.01, class_weight=None, gamma=1, kernel=rbf, score=0.8447898840083666, total=13.5min\n",
      "[CV] C=0.01, class_weight=None, gamma=100, kernel=rbf ................\n",
      "[CV]  C=0.01, class_weight=None, gamma=100, kernel=rbf, score=0.8447898840083666, total=11.3min\n",
      "[CV] C=0.01, class_weight=None, gamma=100, kernel=rbf ................\n",
      "[CV]  C=0.01, class_weight=None, gamma=100, kernel=rbf, score=0.8447898840083666, total=113.1min\n",
      "[CV] C=0.01, class_weight=None, gamma=100, kernel=rbf ................\n",
      "[CV]  C=0.01, class_weight=None, gamma=100, kernel=rbf, score=0.8447898840083666, total=11.4min\n",
      "[CV] C=0.01, class_weight=None, gamma=1000, kernel=rbf ...............\n",
      "[CV]  C=0.01, class_weight=None, gamma=1000, kernel=rbf, score=0.8447898840083666, total=11.7min\n",
      "[CV] C=0.01, class_weight=None, gamma=1000, kernel=rbf ...............\n",
      "[CV]  C=0.01, class_weight=None, gamma=1000, kernel=rbf, score=0.8447898840083666, total=11.6min\n",
      "[CV] C=0.01, class_weight=None, gamma=1000, kernel=rbf ...............\n",
      "[CV]  C=0.01, class_weight=None, gamma=1000, kernel=rbf, score=0.8447898840083666, total=11.6min\n",
      "[CV] C=1, class_weight=balanced, gamma=auto, kernel=rbf ..............\n",
      "[CV]  C=1, class_weight=balanced, gamma=auto, kernel=rbf, score=0.644989541737973, total=12.3min\n",
      "[CV] C=1, class_weight=balanced, gamma=auto, kernel=rbf ..............\n",
      "[CV]  C=1, class_weight=balanced, gamma=auto, kernel=rbf, score=0.6457976801673322, total=12.0min\n",
      "[CV] C=1, class_weight=balanced, gamma=auto, kernel=rbf ..............\n",
      "[CV]  C=1, class_weight=balanced, gamma=auto, kernel=rbf, score=0.6496719908727895, total=49.5min\n",
      "[CV] C=1, class_weight=balanced, gamma=scale, kernel=rbf .............\n",
      "[CV]  C=1, class_weight=balanced, gamma=scale, kernel=rbf, score=0, total=   0.0s\n",
      "[CV] C=1, class_weight=balanced, gamma=scale, kernel=rbf .............\n",
      "[CV]  C=1, class_weight=balanced, gamma=scale, kernel=rbf, score=0, total=   0.0s\n",
      "[CV] C=1, class_weight=balanced, gamma=scale, kernel=rbf .............\n",
      "[CV]  C=1, class_weight=balanced, gamma=scale, kernel=rbf, score=0, total=   0.0s\n",
      "[CV] C=1, class_weight=balanced, gamma=1e-08, kernel=rbf .............\n"
     ]
    },
    {
     "name": "stderr",
     "output_type": "stream",
     "text": [
      "/anaconda3/lib/python3.6/site-packages/sklearn/model_selection/_validation.py:479: FitFailedWarning: Classifier fit failed. The score on this train-test partition for these parameters will be set to 0.000000. Details: \n",
      "TypeError('must be real number, not str',)\n",
      "  \"Details: \\n%r\" % (error_score, e), FitFailedWarning)\n",
      "/anaconda3/lib/python3.6/site-packages/sklearn/model_selection/_validation.py:479: FitFailedWarning: Classifier fit failed. The score on this train-test partition for these parameters will be set to 0.000000. Details: \n",
      "TypeError('must be real number, not str',)\n",
      "  \"Details: \\n%r\" % (error_score, e), FitFailedWarning)\n",
      "/anaconda3/lib/python3.6/site-packages/sklearn/model_selection/_validation.py:479: FitFailedWarning: Classifier fit failed. The score on this train-test partition for these parameters will be set to 0.000000. Details: \n",
      "TypeError('must be real number, not str',)\n",
      "  \"Details: \\n%r\" % (error_score, e), FitFailedWarning)\n"
     ]
    },
    {
     "name": "stdout",
     "output_type": "stream",
     "text": [
      "[CV]  C=1, class_weight=balanced, gamma=1e-08, kernel=rbf, score=0.1552101159916334, total=14.0min\n",
      "[CV] C=1, class_weight=balanced, gamma=1e-08, kernel=rbf .............\n",
      "[CV]  C=1, class_weight=balanced, gamma=1e-08, kernel=rbf, score=0.1552101159916334, total=302.5min\n",
      "[CV] C=1, class_weight=balanced, gamma=1e-08, kernel=rbf .............\n",
      "[CV]  C=1, class_weight=balanced, gamma=1e-08, kernel=rbf, score=0.1552101159916334, total=167.2min\n",
      "[CV] C=1, class_weight=balanced, gamma=1e-06, kernel=rbf .............\n",
      "[CV]  C=1, class_weight=balanced, gamma=1e-06, kernel=rbf, score=0.17683970336565888, total=14.3min\n",
      "[CV] C=1, class_weight=balanced, gamma=1e-06, kernel=rbf .............\n",
      "[CV]  C=1, class_weight=balanced, gamma=1e-06, kernel=rbf, score=0.17325061798821068, total=15.6min\n",
      "[CV] C=1, class_weight=balanced, gamma=1e-06, kernel=rbf .............\n",
      "[CV]  C=1, class_weight=balanced, gamma=1e-06, kernel=rbf, score=0.17439151930024718, total=15.0min\n",
      "[CV] C=1, class_weight=balanced, gamma=0.0001, kernel=rbf ............\n",
      "[CV]  C=1, class_weight=balanced, gamma=0.0001, kernel=rbf, score=0.6574206122837041, total=10.8min\n",
      "[CV] C=1, class_weight=balanced, gamma=0.0001, kernel=rbf ............\n",
      "[CV]  C=1, class_weight=balanced, gamma=0.0001, kernel=rbf, score=0.6598925651264499, total=10.6min\n",
      "[CV] C=1, class_weight=balanced, gamma=0.0001, kernel=rbf ............\n",
      "[CV]  C=1, class_weight=balanced, gamma=0.0001, kernel=rbf, score=0.6633152690625594, total=12.1min\n",
      "[CV] C=1, class_weight=balanced, gamma=0.01, kernel=rbf ..............\n",
      "[CV]  C=1, class_weight=balanced, gamma=0.01, kernel=rbf, score=0.6372171515497242, total=10.4min\n",
      "[CV] C=1, class_weight=balanced, gamma=0.01, kernel=rbf ..............\n",
      "[CV]  C=1, class_weight=balanced, gamma=0.01, kernel=rbf, score=0.6380252899790835, total=10.6min\n",
      "[CV] C=1, class_weight=balanced, gamma=0.01, kernel=rbf ..............\n",
      "[CV]  C=1, class_weight=balanced, gamma=0.01, kernel=rbf, score=0.6448469290739685, total=10.6min\n",
      "[CV] C=1, class_weight=balanced, gamma=1, kernel=rbf .................\n",
      "[CV]  C=1, class_weight=balanced, gamma=1, kernel=rbf, score=0.8443620460163529, total=78.4min\n",
      "[CV] C=1, class_weight=balanced, gamma=1, kernel=rbf .................\n",
      "[CV]  C=1, class_weight=balanced, gamma=1, kernel=rbf, score=0.844385814793687, total=31.5min\n",
      "[CV] C=1, class_weight=balanced, gamma=1, kernel=rbf .................\n",
      "[CV]  C=1, class_weight=balanced, gamma=1, kernel=rbf, score=0.8447185776763644, total=30.8min\n",
      "[CV] C=1, class_weight=balanced, gamma=100, kernel=rbf ...............\n",
      "[CV]  C=1, class_weight=balanced, gamma=100, kernel=rbf, score=0.8447898840083666, total=18.8min\n",
      "[CV] C=1, class_weight=balanced, gamma=100, kernel=rbf ...............\n",
      "[CV]  C=1, class_weight=balanced, gamma=100, kernel=rbf, score=0.8447898840083666, total=36.6min\n",
      "[CV] C=1, class_weight=balanced, gamma=100, kernel=rbf ...............\n",
      "[CV]  C=1, class_weight=balanced, gamma=100, kernel=rbf, score=0.8447898840083666, total=16.5min\n",
      "[CV] C=1, class_weight=balanced, gamma=1000, kernel=rbf ..............\n",
      "[CV]  C=1, class_weight=balanced, gamma=1000, kernel=rbf, score=0.8447898840083666, total=21.6min\n",
      "[CV] C=1, class_weight=balanced, gamma=1000, kernel=rbf ..............\n",
      "[CV]  C=1, class_weight=balanced, gamma=1000, kernel=rbf, score=0.8447898840083666, total=15.5min\n",
      "[CV] C=1, class_weight=balanced, gamma=1000, kernel=rbf ..............\n",
      "[CV]  C=1, class_weight=balanced, gamma=1000, kernel=rbf, score=0.8447898840083666, total=23.7min\n",
      "[CV] C=1, class_weight=None, gamma=auto, kernel=rbf ..................\n",
      "[CV]  C=1, class_weight=None, gamma=auto, kernel=rbf, score=0.8447898840083666, total=37.3min\n",
      "[CV] C=1, class_weight=None, gamma=auto, kernel=rbf ..................\n",
      "[CV]  C=1, class_weight=None, gamma=auto, kernel=rbf, score=0.8447898840083666, total=168.4min\n",
      "[CV] C=1, class_weight=None, gamma=auto, kernel=rbf ..................\n",
      "[CV]  C=1, class_weight=None, gamma=auto, kernel=rbf, score=0.8447898840083666, total=35.5min\n",
      "[CV] C=1, class_weight=None, gamma=scale, kernel=rbf .................\n",
      "[CV]  C=1, class_weight=None, gamma=scale, kernel=rbf, score=0, total=   0.1s\n",
      "[CV] C=1, class_weight=None, gamma=scale, kernel=rbf .................\n",
      "[CV]  C=1, class_weight=None, gamma=scale, kernel=rbf, score=0, total=   0.0s\n",
      "[CV] C=1, class_weight=None, gamma=scale, kernel=rbf .................\n",
      "[CV]  C=1, class_weight=None, gamma=scale, kernel=rbf, score=0, total=   0.0s\n",
      "[CV] C=1, class_weight=None, gamma=1e-08, kernel=rbf .................\n"
     ]
    },
    {
     "name": "stderr",
     "output_type": "stream",
     "text": [
      "/anaconda3/lib/python3.6/site-packages/sklearn/model_selection/_validation.py:479: FitFailedWarning: Classifier fit failed. The score on this train-test partition for these parameters will be set to 0.000000. Details: \n",
      "TypeError('must be real number, not str',)\n",
      "  \"Details: \\n%r\" % (error_score, e), FitFailedWarning)\n",
      "/anaconda3/lib/python3.6/site-packages/sklearn/model_selection/_validation.py:479: FitFailedWarning: Classifier fit failed. The score on this train-test partition for these parameters will be set to 0.000000. Details: \n",
      "TypeError('must be real number, not str',)\n",
      "  \"Details: \\n%r\" % (error_score, e), FitFailedWarning)\n",
      "/anaconda3/lib/python3.6/site-packages/sklearn/model_selection/_validation.py:479: FitFailedWarning: Classifier fit failed. The score on this train-test partition for these parameters will be set to 0.000000. Details: \n",
      "TypeError('must be real number, not str',)\n",
      "  \"Details: \\n%r\" % (error_score, e), FitFailedWarning)\n"
     ]
    },
    {
     "name": "stdout",
     "output_type": "stream",
     "text": [
      "[CV]  C=1, class_weight=None, gamma=1e-08, kernel=rbf, score=0.8447898840083666, total= 2.2min\n",
      "[CV] C=1, class_weight=None, gamma=1e-08, kernel=rbf .................\n",
      "[CV]  C=1, class_weight=None, gamma=1e-08, kernel=rbf, score=0.8447898840083666, total= 2.1min\n",
      "[CV] C=1, class_weight=None, gamma=1e-08, kernel=rbf .................\n",
      "[CV]  C=1, class_weight=None, gamma=1e-08, kernel=rbf, score=0.8447898840083666, total= 2.1min\n",
      "[CV] C=1, class_weight=None, gamma=1e-06, kernel=rbf .................\n",
      "[CV]  C=1, class_weight=None, gamma=1e-06, kernel=rbf, score=0.8447898840083666, total= 2.0min\n",
      "[CV] C=1, class_weight=None, gamma=1e-06, kernel=rbf .................\n",
      "[CV]  C=1, class_weight=None, gamma=1e-06, kernel=rbf, score=0.8447898840083666, total= 2.0min\n",
      "[CV] C=1, class_weight=None, gamma=1e-06, kernel=rbf .................\n",
      "[CV]  C=1, class_weight=None, gamma=1e-06, kernel=rbf, score=0.8447898840083666, total= 2.1min\n",
      "[CV] C=1, class_weight=None, gamma=0.0001, kernel=rbf ................\n",
      "[CV]  C=1, class_weight=None, gamma=0.0001, kernel=rbf, score=0.8447898840083666, total= 2.1min\n",
      "[CV] C=1, class_weight=None, gamma=0.0001, kernel=rbf ................\n",
      "[CV]  C=1, class_weight=None, gamma=0.0001, kernel=rbf, score=0.8447898840083666, total= 2.1min\n",
      "[CV] C=1, class_weight=None, gamma=0.0001, kernel=rbf ................\n",
      "[CV]  C=1, class_weight=None, gamma=0.0001, kernel=rbf, score=0.8447898840083666, total= 2.1min\n",
      "[CV] C=1, class_weight=None, gamma=0.01, kernel=rbf ..................\n",
      "[CV]  C=1, class_weight=None, gamma=0.01, kernel=rbf, score=0.8447898840083666, total=43.5min\n",
      "[CV] C=1, class_weight=None, gamma=0.01, kernel=rbf ..................\n",
      "[CV]  C=1, class_weight=None, gamma=0.01, kernel=rbf, score=0.8447898840083666, total=49.0min\n",
      "[CV] C=1, class_weight=None, gamma=0.01, kernel=rbf ..................\n",
      "[CV]  C=1, class_weight=None, gamma=0.01, kernel=rbf, score=0.8447898840083666, total=44.8min\n",
      "[CV] C=1, class_weight=None, gamma=1, kernel=rbf .....................\n",
      "[CV]  C=1, class_weight=None, gamma=1, kernel=rbf, score=0.8447898840083666, total=22.8min\n",
      "[CV] C=1, class_weight=None, gamma=1, kernel=rbf .....................\n",
      "[CV]  C=1, class_weight=None, gamma=1, kernel=rbf, score=0.8447898840083666, total=63.6min\n",
      "[CV] C=1, class_weight=None, gamma=1, kernel=rbf .....................\n",
      "[CV]  C=1, class_weight=None, gamma=1, kernel=rbf, score=0.8447898840083666, total=26.2min\n",
      "[CV] C=1, class_weight=None, gamma=100, kernel=rbf ...................\n"
     ]
    }
   ],
   "source": [
    "grid = GridSearchCV(SVC(),param_grid,refit=True,error_score=0,verbose=5)\n",
    "grid.fit(X_train,y_train)\n"
   ]
  },
  {
   "cell_type": "code",
   "execution_count": null,
   "metadata": {},
   "outputs": [],
   "source": [
    "param_grid = {'C': [0.0001, 0.01, 1, 100, 10000], 'kernel': ['poly'], 'degree': [3,5,7,9], 'class_weight':['balanced',None]}\n"
   ]
  },
  {
   "cell_type": "code",
   "execution_count": null,
   "metadata": {},
   "outputs": [],
   "source": [
    "param_grid = {'C': [0.0001, 0.01, 1, 100, 10000], 'kernel': ['sigmoid'], 'coef0':[1.0e-8, 1.0e-6, 1.0e-4, 1.0e-2, 0.0, 1.0, 100.0], 'class_weight':['balanced',None]}\n"
   ]
  }
 ],
 "metadata": {
  "kernelspec": {
   "display_name": "Python 3",
   "language": "python",
   "name": "python3"
  },
  "language_info": {
   "codemirror_mode": {
    "name": "ipython",
    "version": 3
   },
   "file_extension": ".py",
   "mimetype": "text/x-python",
   "name": "python",
   "nbconvert_exporter": "python",
   "pygments_lexer": "ipython3",
   "version": "3.6.5"
  }
 },
 "nbformat": 4,
 "nbformat_minor": 2
}
